{
 "cells": [
  {
   "cell_type": "markdown",
   "metadata": {},
   "source": [
    "This notebook shows how to forecast stock prices using machine learning and neural networks. In particular I chose GOOGL stock (Alphabet) and I will be using LSTM RNNs to predict future prices."
   ]
  },
  {
   "cell_type": "markdown",
   "metadata": {},
   "source": [
    "First download the dataset from the following link:\n",
    "https://www.kaggle.com/datasets/szrlee/stock-time-series-20050101-to-20171231?resource=download&select=GOOGL_2006-01-01_to_2018-01-01.csv"
   ]
  },
  {
   "cell_type": "code",
   "execution_count": 103,
   "metadata": {},
   "outputs": [],
   "source": [
    "import numpy as np\n",
    "import pandas as pd\n",
    "import matplotlib.pyplot as plt\n",
    "import torch\n",
    "import torch.nn as nn\n",
    "from tqdm import tqdm\n",
    "\n",
    "%matplotlib notebook"
   ]
  },
  {
   "cell_type": "code",
   "execution_count": 14,
   "metadata": {},
   "outputs": [
    {
     "name": "stdout",
     "output_type": "stream",
     "text": [
      "         Date    Open    High     Low   Close    Volume   Name\n",
      "0  2006-01-03  211.47  218.05  209.32  217.83  13137450  GOOGL\n",
      "1  2006-01-04  222.17  224.70  220.09  222.84  15292353  GOOGL\n",
      "2  2006-01-05  223.22  226.00  220.97  225.85  10815661  GOOGL\n",
      "3  2006-01-06  228.66  235.49  226.85  233.06  17759521  GOOGL\n",
      "4  2006-01-09  233.44  236.94  230.70  233.68  12795837  GOOGL\n"
     ]
    }
   ],
   "source": [
    "stock_df = pd.read_csv(\"GOOGL_2006-01-01_to_2018-01-01.csv\")\n",
    "print(stock_df.head())"
   ]
  },
  {
   "cell_type": "code",
   "execution_count": 115,
   "metadata": {},
   "outputs": [
    {
     "data": {
      "application/javascript": [
       "/* Put everything inside the global mpl namespace */\n",
       "/* global mpl */\n",
       "window.mpl = {};\n",
       "\n",
       "mpl.get_websocket_type = function () {\n",
       "    if (typeof WebSocket !== 'undefined') {\n",
       "        return WebSocket;\n",
       "    } else if (typeof MozWebSocket !== 'undefined') {\n",
       "        return MozWebSocket;\n",
       "    } else {\n",
       "        alert(\n",
       "            'Your browser does not have WebSocket support. ' +\n",
       "                'Please try Chrome, Safari or Firefox ≥ 6. ' +\n",
       "                'Firefox 4 and 5 are also supported but you ' +\n",
       "                'have to enable WebSockets in about:config.'\n",
       "        );\n",
       "    }\n",
       "};\n",
       "\n",
       "mpl.figure = function (figure_id, websocket, ondownload, parent_element) {\n",
       "    this.id = figure_id;\n",
       "\n",
       "    this.ws = websocket;\n",
       "\n",
       "    this.supports_binary = this.ws.binaryType !== undefined;\n",
       "\n",
       "    if (!this.supports_binary) {\n",
       "        var warnings = document.getElementById('mpl-warnings');\n",
       "        if (warnings) {\n",
       "            warnings.style.display = 'block';\n",
       "            warnings.textContent =\n",
       "                'This browser does not support binary websocket messages. ' +\n",
       "                'Performance may be slow.';\n",
       "        }\n",
       "    }\n",
       "\n",
       "    this.imageObj = new Image();\n",
       "\n",
       "    this.context = undefined;\n",
       "    this.message = undefined;\n",
       "    this.canvas = undefined;\n",
       "    this.rubberband_canvas = undefined;\n",
       "    this.rubberband_context = undefined;\n",
       "    this.format_dropdown = undefined;\n",
       "\n",
       "    this.image_mode = 'full';\n",
       "\n",
       "    this.root = document.createElement('div');\n",
       "    this.root.setAttribute('style', 'display: inline-block');\n",
       "    this._root_extra_style(this.root);\n",
       "\n",
       "    parent_element.appendChild(this.root);\n",
       "\n",
       "    this._init_header(this);\n",
       "    this._init_canvas(this);\n",
       "    this._init_toolbar(this);\n",
       "\n",
       "    var fig = this;\n",
       "\n",
       "    this.waiting = false;\n",
       "\n",
       "    this.ws.onopen = function () {\n",
       "        fig.send_message('supports_binary', { value: fig.supports_binary });\n",
       "        fig.send_message('send_image_mode', {});\n",
       "        if (fig.ratio !== 1) {\n",
       "            fig.send_message('set_dpi_ratio', { dpi_ratio: fig.ratio });\n",
       "        }\n",
       "        fig.send_message('refresh', {});\n",
       "    };\n",
       "\n",
       "    this.imageObj.onload = function () {\n",
       "        if (fig.image_mode === 'full') {\n",
       "            // Full images could contain transparency (where diff images\n",
       "            // almost always do), so we need to clear the canvas so that\n",
       "            // there is no ghosting.\n",
       "            fig.context.clearRect(0, 0, fig.canvas.width, fig.canvas.height);\n",
       "        }\n",
       "        fig.context.drawImage(fig.imageObj, 0, 0);\n",
       "    };\n",
       "\n",
       "    this.imageObj.onunload = function () {\n",
       "        fig.ws.close();\n",
       "    };\n",
       "\n",
       "    this.ws.onmessage = this._make_on_message_function(this);\n",
       "\n",
       "    this.ondownload = ondownload;\n",
       "};\n",
       "\n",
       "mpl.figure.prototype._init_header = function () {\n",
       "    var titlebar = document.createElement('div');\n",
       "    titlebar.classList =\n",
       "        'ui-dialog-titlebar ui-widget-header ui-corner-all ui-helper-clearfix';\n",
       "    var titletext = document.createElement('div');\n",
       "    titletext.classList = 'ui-dialog-title';\n",
       "    titletext.setAttribute(\n",
       "        'style',\n",
       "        'width: 100%; text-align: center; padding: 3px;'\n",
       "    );\n",
       "    titlebar.appendChild(titletext);\n",
       "    this.root.appendChild(titlebar);\n",
       "    this.header = titletext;\n",
       "};\n",
       "\n",
       "mpl.figure.prototype._canvas_extra_style = function (_canvas_div) {};\n",
       "\n",
       "mpl.figure.prototype._root_extra_style = function (_canvas_div) {};\n",
       "\n",
       "mpl.figure.prototype._init_canvas = function () {\n",
       "    var fig = this;\n",
       "\n",
       "    var canvas_div = (this.canvas_div = document.createElement('div'));\n",
       "    canvas_div.setAttribute(\n",
       "        'style',\n",
       "        'border: 1px solid #ddd;' +\n",
       "            'box-sizing: content-box;' +\n",
       "            'clear: both;' +\n",
       "            'min-height: 1px;' +\n",
       "            'min-width: 1px;' +\n",
       "            'outline: 0;' +\n",
       "            'overflow: hidden;' +\n",
       "            'position: relative;' +\n",
       "            'resize: both;'\n",
       "    );\n",
       "\n",
       "    function on_keyboard_event_closure(name) {\n",
       "        return function (event) {\n",
       "            return fig.key_event(event, name);\n",
       "        };\n",
       "    }\n",
       "\n",
       "    canvas_div.addEventListener(\n",
       "        'keydown',\n",
       "        on_keyboard_event_closure('key_press')\n",
       "    );\n",
       "    canvas_div.addEventListener(\n",
       "        'keyup',\n",
       "        on_keyboard_event_closure('key_release')\n",
       "    );\n",
       "\n",
       "    this._canvas_extra_style(canvas_div);\n",
       "    this.root.appendChild(canvas_div);\n",
       "\n",
       "    var canvas = (this.canvas = document.createElement('canvas'));\n",
       "    canvas.classList.add('mpl-canvas');\n",
       "    canvas.setAttribute('style', 'box-sizing: content-box;');\n",
       "\n",
       "    this.context = canvas.getContext('2d');\n",
       "\n",
       "    var backingStore =\n",
       "        this.context.backingStorePixelRatio ||\n",
       "        this.context.webkitBackingStorePixelRatio ||\n",
       "        this.context.mozBackingStorePixelRatio ||\n",
       "        this.context.msBackingStorePixelRatio ||\n",
       "        this.context.oBackingStorePixelRatio ||\n",
       "        this.context.backingStorePixelRatio ||\n",
       "        1;\n",
       "\n",
       "    this.ratio = (window.devicePixelRatio || 1) / backingStore;\n",
       "    if (this.ratio !== 1) {\n",
       "        fig.send_message('set_dpi_ratio', { dpi_ratio: this.ratio });\n",
       "    }\n",
       "\n",
       "    var rubberband_canvas = (this.rubberband_canvas = document.createElement(\n",
       "        'canvas'\n",
       "    ));\n",
       "    rubberband_canvas.setAttribute(\n",
       "        'style',\n",
       "        'box-sizing: content-box; position: absolute; left: 0; top: 0; z-index: 1;'\n",
       "    );\n",
       "\n",
       "    // Apply a ponyfill if ResizeObserver is not implemented by browser.\n",
       "    if (this.ResizeObserver === undefined) {\n",
       "        if (window.ResizeObserver !== undefined) {\n",
       "            this.ResizeObserver = window.ResizeObserver;\n",
       "        } else {\n",
       "            var obs = _JSXTOOLS_RESIZE_OBSERVER({});\n",
       "            this.ResizeObserver = obs.ResizeObserver;\n",
       "        }\n",
       "    }\n",
       "\n",
       "    this.resizeObserverInstance = new this.ResizeObserver(function (entries) {\n",
       "        var nentries = entries.length;\n",
       "        for (var i = 0; i < nentries; i++) {\n",
       "            var entry = entries[i];\n",
       "            var width, height;\n",
       "            if (entry.contentBoxSize) {\n",
       "                if (entry.contentBoxSize instanceof Array) {\n",
       "                    // Chrome 84 implements new version of spec.\n",
       "                    width = entry.contentBoxSize[0].inlineSize;\n",
       "                    height = entry.contentBoxSize[0].blockSize;\n",
       "                } else {\n",
       "                    // Firefox implements old version of spec.\n",
       "                    width = entry.contentBoxSize.inlineSize;\n",
       "                    height = entry.contentBoxSize.blockSize;\n",
       "                }\n",
       "            } else {\n",
       "                // Chrome <84 implements even older version of spec.\n",
       "                width = entry.contentRect.width;\n",
       "                height = entry.contentRect.height;\n",
       "            }\n",
       "\n",
       "            // Keep the size of the canvas and rubber band canvas in sync with\n",
       "            // the canvas container.\n",
       "            if (entry.devicePixelContentBoxSize) {\n",
       "                // Chrome 84 implements new version of spec.\n",
       "                canvas.setAttribute(\n",
       "                    'width',\n",
       "                    entry.devicePixelContentBoxSize[0].inlineSize\n",
       "                );\n",
       "                canvas.setAttribute(\n",
       "                    'height',\n",
       "                    entry.devicePixelContentBoxSize[0].blockSize\n",
       "                );\n",
       "            } else {\n",
       "                canvas.setAttribute('width', width * fig.ratio);\n",
       "                canvas.setAttribute('height', height * fig.ratio);\n",
       "            }\n",
       "            canvas.setAttribute(\n",
       "                'style',\n",
       "                'width: ' + width + 'px; height: ' + height + 'px;'\n",
       "            );\n",
       "\n",
       "            rubberband_canvas.setAttribute('width', width);\n",
       "            rubberband_canvas.setAttribute('height', height);\n",
       "\n",
       "            // And update the size in Python. We ignore the initial 0/0 size\n",
       "            // that occurs as the element is placed into the DOM, which should\n",
       "            // otherwise not happen due to the minimum size styling.\n",
       "            if (width != 0 && height != 0) {\n",
       "                fig.request_resize(width, height);\n",
       "            }\n",
       "        }\n",
       "    });\n",
       "    this.resizeObserverInstance.observe(canvas_div);\n",
       "\n",
       "    function on_mouse_event_closure(name) {\n",
       "        return function (event) {\n",
       "            return fig.mouse_event(event, name);\n",
       "        };\n",
       "    }\n",
       "\n",
       "    rubberband_canvas.addEventListener(\n",
       "        'mousedown',\n",
       "        on_mouse_event_closure('button_press')\n",
       "    );\n",
       "    rubberband_canvas.addEventListener(\n",
       "        'mouseup',\n",
       "        on_mouse_event_closure('button_release')\n",
       "    );\n",
       "    // Throttle sequential mouse events to 1 every 20ms.\n",
       "    rubberband_canvas.addEventListener(\n",
       "        'mousemove',\n",
       "        on_mouse_event_closure('motion_notify')\n",
       "    );\n",
       "\n",
       "    rubberband_canvas.addEventListener(\n",
       "        'mouseenter',\n",
       "        on_mouse_event_closure('figure_enter')\n",
       "    );\n",
       "    rubberband_canvas.addEventListener(\n",
       "        'mouseleave',\n",
       "        on_mouse_event_closure('figure_leave')\n",
       "    );\n",
       "\n",
       "    canvas_div.addEventListener('wheel', function (event) {\n",
       "        if (event.deltaY < 0) {\n",
       "            event.step = 1;\n",
       "        } else {\n",
       "            event.step = -1;\n",
       "        }\n",
       "        on_mouse_event_closure('scroll')(event);\n",
       "    });\n",
       "\n",
       "    canvas_div.appendChild(canvas);\n",
       "    canvas_div.appendChild(rubberband_canvas);\n",
       "\n",
       "    this.rubberband_context = rubberband_canvas.getContext('2d');\n",
       "    this.rubberband_context.strokeStyle = '#000000';\n",
       "\n",
       "    this._resize_canvas = function (width, height, forward) {\n",
       "        if (forward) {\n",
       "            canvas_div.style.width = width + 'px';\n",
       "            canvas_div.style.height = height + 'px';\n",
       "        }\n",
       "    };\n",
       "\n",
       "    // Disable right mouse context menu.\n",
       "    this.rubberband_canvas.addEventListener('contextmenu', function (_e) {\n",
       "        event.preventDefault();\n",
       "        return false;\n",
       "    });\n",
       "\n",
       "    function set_focus() {\n",
       "        canvas.focus();\n",
       "        canvas_div.focus();\n",
       "    }\n",
       "\n",
       "    window.setTimeout(set_focus, 100);\n",
       "};\n",
       "\n",
       "mpl.figure.prototype._init_toolbar = function () {\n",
       "    var fig = this;\n",
       "\n",
       "    var toolbar = document.createElement('div');\n",
       "    toolbar.classList = 'mpl-toolbar';\n",
       "    this.root.appendChild(toolbar);\n",
       "\n",
       "    function on_click_closure(name) {\n",
       "        return function (_event) {\n",
       "            return fig.toolbar_button_onclick(name);\n",
       "        };\n",
       "    }\n",
       "\n",
       "    function on_mouseover_closure(tooltip) {\n",
       "        return function (event) {\n",
       "            if (!event.currentTarget.disabled) {\n",
       "                return fig.toolbar_button_onmouseover(tooltip);\n",
       "            }\n",
       "        };\n",
       "    }\n",
       "\n",
       "    fig.buttons = {};\n",
       "    var buttonGroup = document.createElement('div');\n",
       "    buttonGroup.classList = 'mpl-button-group';\n",
       "    for (var toolbar_ind in mpl.toolbar_items) {\n",
       "        var name = mpl.toolbar_items[toolbar_ind][0];\n",
       "        var tooltip = mpl.toolbar_items[toolbar_ind][1];\n",
       "        var image = mpl.toolbar_items[toolbar_ind][2];\n",
       "        var method_name = mpl.toolbar_items[toolbar_ind][3];\n",
       "\n",
       "        if (!name) {\n",
       "            /* Instead of a spacer, we start a new button group. */\n",
       "            if (buttonGroup.hasChildNodes()) {\n",
       "                toolbar.appendChild(buttonGroup);\n",
       "            }\n",
       "            buttonGroup = document.createElement('div');\n",
       "            buttonGroup.classList = 'mpl-button-group';\n",
       "            continue;\n",
       "        }\n",
       "\n",
       "        var button = (fig.buttons[name] = document.createElement('button'));\n",
       "        button.classList = 'mpl-widget';\n",
       "        button.setAttribute('role', 'button');\n",
       "        button.setAttribute('aria-disabled', 'false');\n",
       "        button.addEventListener('click', on_click_closure(method_name));\n",
       "        button.addEventListener('mouseover', on_mouseover_closure(tooltip));\n",
       "\n",
       "        var icon_img = document.createElement('img');\n",
       "        icon_img.src = '_images/' + image + '.png';\n",
       "        icon_img.srcset = '_images/' + image + '_large.png 2x';\n",
       "        icon_img.alt = tooltip;\n",
       "        button.appendChild(icon_img);\n",
       "\n",
       "        buttonGroup.appendChild(button);\n",
       "    }\n",
       "\n",
       "    if (buttonGroup.hasChildNodes()) {\n",
       "        toolbar.appendChild(buttonGroup);\n",
       "    }\n",
       "\n",
       "    var fmt_picker = document.createElement('select');\n",
       "    fmt_picker.classList = 'mpl-widget';\n",
       "    toolbar.appendChild(fmt_picker);\n",
       "    this.format_dropdown = fmt_picker;\n",
       "\n",
       "    for (var ind in mpl.extensions) {\n",
       "        var fmt = mpl.extensions[ind];\n",
       "        var option = document.createElement('option');\n",
       "        option.selected = fmt === mpl.default_extension;\n",
       "        option.innerHTML = fmt;\n",
       "        fmt_picker.appendChild(option);\n",
       "    }\n",
       "\n",
       "    var status_bar = document.createElement('span');\n",
       "    status_bar.classList = 'mpl-message';\n",
       "    toolbar.appendChild(status_bar);\n",
       "    this.message = status_bar;\n",
       "};\n",
       "\n",
       "mpl.figure.prototype.request_resize = function (x_pixels, y_pixels) {\n",
       "    // Request matplotlib to resize the figure. Matplotlib will then trigger a resize in the client,\n",
       "    // which will in turn request a refresh of the image.\n",
       "    this.send_message('resize', { width: x_pixels, height: y_pixels });\n",
       "};\n",
       "\n",
       "mpl.figure.prototype.send_message = function (type, properties) {\n",
       "    properties['type'] = type;\n",
       "    properties['figure_id'] = this.id;\n",
       "    this.ws.send(JSON.stringify(properties));\n",
       "};\n",
       "\n",
       "mpl.figure.prototype.send_draw_message = function () {\n",
       "    if (!this.waiting) {\n",
       "        this.waiting = true;\n",
       "        this.ws.send(JSON.stringify({ type: 'draw', figure_id: this.id }));\n",
       "    }\n",
       "};\n",
       "\n",
       "mpl.figure.prototype.handle_save = function (fig, _msg) {\n",
       "    var format_dropdown = fig.format_dropdown;\n",
       "    var format = format_dropdown.options[format_dropdown.selectedIndex].value;\n",
       "    fig.ondownload(fig, format);\n",
       "};\n",
       "\n",
       "mpl.figure.prototype.handle_resize = function (fig, msg) {\n",
       "    var size = msg['size'];\n",
       "    if (size[0] !== fig.canvas.width || size[1] !== fig.canvas.height) {\n",
       "        fig._resize_canvas(size[0], size[1], msg['forward']);\n",
       "        fig.send_message('refresh', {});\n",
       "    }\n",
       "};\n",
       "\n",
       "mpl.figure.prototype.handle_rubberband = function (fig, msg) {\n",
       "    var x0 = msg['x0'] / fig.ratio;\n",
       "    var y0 = (fig.canvas.height - msg['y0']) / fig.ratio;\n",
       "    var x1 = msg['x1'] / fig.ratio;\n",
       "    var y1 = (fig.canvas.height - msg['y1']) / fig.ratio;\n",
       "    x0 = Math.floor(x0) + 0.5;\n",
       "    y0 = Math.floor(y0) + 0.5;\n",
       "    x1 = Math.floor(x1) + 0.5;\n",
       "    y1 = Math.floor(y1) + 0.5;\n",
       "    var min_x = Math.min(x0, x1);\n",
       "    var min_y = Math.min(y0, y1);\n",
       "    var width = Math.abs(x1 - x0);\n",
       "    var height = Math.abs(y1 - y0);\n",
       "\n",
       "    fig.rubberband_context.clearRect(\n",
       "        0,\n",
       "        0,\n",
       "        fig.canvas.width / fig.ratio,\n",
       "        fig.canvas.height / fig.ratio\n",
       "    );\n",
       "\n",
       "    fig.rubberband_context.strokeRect(min_x, min_y, width, height);\n",
       "};\n",
       "\n",
       "mpl.figure.prototype.handle_figure_label = function (fig, msg) {\n",
       "    // Updates the figure title.\n",
       "    fig.header.textContent = msg['label'];\n",
       "};\n",
       "\n",
       "mpl.figure.prototype.handle_cursor = function (fig, msg) {\n",
       "    var cursor = msg['cursor'];\n",
       "    switch (cursor) {\n",
       "        case 0:\n",
       "            cursor = 'pointer';\n",
       "            break;\n",
       "        case 1:\n",
       "            cursor = 'default';\n",
       "            break;\n",
       "        case 2:\n",
       "            cursor = 'crosshair';\n",
       "            break;\n",
       "        case 3:\n",
       "            cursor = 'move';\n",
       "            break;\n",
       "    }\n",
       "    fig.rubberband_canvas.style.cursor = cursor;\n",
       "};\n",
       "\n",
       "mpl.figure.prototype.handle_message = function (fig, msg) {\n",
       "    fig.message.textContent = msg['message'];\n",
       "};\n",
       "\n",
       "mpl.figure.prototype.handle_draw = function (fig, _msg) {\n",
       "    // Request the server to send over a new figure.\n",
       "    fig.send_draw_message();\n",
       "};\n",
       "\n",
       "mpl.figure.prototype.handle_image_mode = function (fig, msg) {\n",
       "    fig.image_mode = msg['mode'];\n",
       "};\n",
       "\n",
       "mpl.figure.prototype.handle_history_buttons = function (fig, msg) {\n",
       "    for (var key in msg) {\n",
       "        if (!(key in fig.buttons)) {\n",
       "            continue;\n",
       "        }\n",
       "        fig.buttons[key].disabled = !msg[key];\n",
       "        fig.buttons[key].setAttribute('aria-disabled', !msg[key]);\n",
       "    }\n",
       "};\n",
       "\n",
       "mpl.figure.prototype.handle_navigate_mode = function (fig, msg) {\n",
       "    if (msg['mode'] === 'PAN') {\n",
       "        fig.buttons['Pan'].classList.add('active');\n",
       "        fig.buttons['Zoom'].classList.remove('active');\n",
       "    } else if (msg['mode'] === 'ZOOM') {\n",
       "        fig.buttons['Pan'].classList.remove('active');\n",
       "        fig.buttons['Zoom'].classList.add('active');\n",
       "    } else {\n",
       "        fig.buttons['Pan'].classList.remove('active');\n",
       "        fig.buttons['Zoom'].classList.remove('active');\n",
       "    }\n",
       "};\n",
       "\n",
       "mpl.figure.prototype.updated_canvas_event = function () {\n",
       "    // Called whenever the canvas gets updated.\n",
       "    this.send_message('ack', {});\n",
       "};\n",
       "\n",
       "// A function to construct a web socket function for onmessage handling.\n",
       "// Called in the figure constructor.\n",
       "mpl.figure.prototype._make_on_message_function = function (fig) {\n",
       "    return function socket_on_message(evt) {\n",
       "        if (evt.data instanceof Blob) {\n",
       "            /* FIXME: We get \"Resource interpreted as Image but\n",
       "             * transferred with MIME type text/plain:\" errors on\n",
       "             * Chrome.  But how to set the MIME type?  It doesn't seem\n",
       "             * to be part of the websocket stream */\n",
       "            evt.data.type = 'image/png';\n",
       "\n",
       "            /* Free the memory for the previous frames */\n",
       "            if (fig.imageObj.src) {\n",
       "                (window.URL || window.webkitURL).revokeObjectURL(\n",
       "                    fig.imageObj.src\n",
       "                );\n",
       "            }\n",
       "\n",
       "            fig.imageObj.src = (window.URL || window.webkitURL).createObjectURL(\n",
       "                evt.data\n",
       "            );\n",
       "            fig.updated_canvas_event();\n",
       "            fig.waiting = false;\n",
       "            return;\n",
       "        } else if (\n",
       "            typeof evt.data === 'string' &&\n",
       "            evt.data.slice(0, 21) === 'data:image/png;base64'\n",
       "        ) {\n",
       "            fig.imageObj.src = evt.data;\n",
       "            fig.updated_canvas_event();\n",
       "            fig.waiting = false;\n",
       "            return;\n",
       "        }\n",
       "\n",
       "        var msg = JSON.parse(evt.data);\n",
       "        var msg_type = msg['type'];\n",
       "\n",
       "        // Call the  \"handle_{type}\" callback, which takes\n",
       "        // the figure and JSON message as its only arguments.\n",
       "        try {\n",
       "            var callback = fig['handle_' + msg_type];\n",
       "        } catch (e) {\n",
       "            console.log(\n",
       "                \"No handler for the '\" + msg_type + \"' message type: \",\n",
       "                msg\n",
       "            );\n",
       "            return;\n",
       "        }\n",
       "\n",
       "        if (callback) {\n",
       "            try {\n",
       "                // console.log(\"Handling '\" + msg_type + \"' message: \", msg);\n",
       "                callback(fig, msg);\n",
       "            } catch (e) {\n",
       "                console.log(\n",
       "                    \"Exception inside the 'handler_\" + msg_type + \"' callback:\",\n",
       "                    e,\n",
       "                    e.stack,\n",
       "                    msg\n",
       "                );\n",
       "            }\n",
       "        }\n",
       "    };\n",
       "};\n",
       "\n",
       "// from http://stackoverflow.com/questions/1114465/getting-mouse-location-in-canvas\n",
       "mpl.findpos = function (e) {\n",
       "    //this section is from http://www.quirksmode.org/js/events_properties.html\n",
       "    var targ;\n",
       "    if (!e) {\n",
       "        e = window.event;\n",
       "    }\n",
       "    if (e.target) {\n",
       "        targ = e.target;\n",
       "    } else if (e.srcElement) {\n",
       "        targ = e.srcElement;\n",
       "    }\n",
       "    if (targ.nodeType === 3) {\n",
       "        // defeat Safari bug\n",
       "        targ = targ.parentNode;\n",
       "    }\n",
       "\n",
       "    // pageX,Y are the mouse positions relative to the document\n",
       "    var boundingRect = targ.getBoundingClientRect();\n",
       "    var x = e.pageX - (boundingRect.left + document.body.scrollLeft);\n",
       "    var y = e.pageY - (boundingRect.top + document.body.scrollTop);\n",
       "\n",
       "    return { x: x, y: y };\n",
       "};\n",
       "\n",
       "/*\n",
       " * return a copy of an object with only non-object keys\n",
       " * we need this to avoid circular references\n",
       " * http://stackoverflow.com/a/24161582/3208463\n",
       " */\n",
       "function simpleKeys(original) {\n",
       "    return Object.keys(original).reduce(function (obj, key) {\n",
       "        if (typeof original[key] !== 'object') {\n",
       "            obj[key] = original[key];\n",
       "        }\n",
       "        return obj;\n",
       "    }, {});\n",
       "}\n",
       "\n",
       "mpl.figure.prototype.mouse_event = function (event, name) {\n",
       "    var canvas_pos = mpl.findpos(event);\n",
       "\n",
       "    if (name === 'button_press') {\n",
       "        this.canvas.focus();\n",
       "        this.canvas_div.focus();\n",
       "    }\n",
       "\n",
       "    var x = canvas_pos.x * this.ratio;\n",
       "    var y = canvas_pos.y * this.ratio;\n",
       "\n",
       "    this.send_message(name, {\n",
       "        x: x,\n",
       "        y: y,\n",
       "        button: event.button,\n",
       "        step: event.step,\n",
       "        guiEvent: simpleKeys(event),\n",
       "    });\n",
       "\n",
       "    /* This prevents the web browser from automatically changing to\n",
       "     * the text insertion cursor when the button is pressed.  We want\n",
       "     * to control all of the cursor setting manually through the\n",
       "     * 'cursor' event from matplotlib */\n",
       "    event.preventDefault();\n",
       "    return false;\n",
       "};\n",
       "\n",
       "mpl.figure.prototype._key_event_extra = function (_event, _name) {\n",
       "    // Handle any extra behaviour associated with a key event\n",
       "};\n",
       "\n",
       "mpl.figure.prototype.key_event = function (event, name) {\n",
       "    // Prevent repeat events\n",
       "    if (name === 'key_press') {\n",
       "        if (event.which === this._key) {\n",
       "            return;\n",
       "        } else {\n",
       "            this._key = event.which;\n",
       "        }\n",
       "    }\n",
       "    if (name === 'key_release') {\n",
       "        this._key = null;\n",
       "    }\n",
       "\n",
       "    var value = '';\n",
       "    if (event.ctrlKey && event.which !== 17) {\n",
       "        value += 'ctrl+';\n",
       "    }\n",
       "    if (event.altKey && event.which !== 18) {\n",
       "        value += 'alt+';\n",
       "    }\n",
       "    if (event.shiftKey && event.which !== 16) {\n",
       "        value += 'shift+';\n",
       "    }\n",
       "\n",
       "    value += 'k';\n",
       "    value += event.which.toString();\n",
       "\n",
       "    this._key_event_extra(event, name);\n",
       "\n",
       "    this.send_message(name, { key: value, guiEvent: simpleKeys(event) });\n",
       "    return false;\n",
       "};\n",
       "\n",
       "mpl.figure.prototype.toolbar_button_onclick = function (name) {\n",
       "    if (name === 'download') {\n",
       "        this.handle_save(this, null);\n",
       "    } else {\n",
       "        this.send_message('toolbar_button', { name: name });\n",
       "    }\n",
       "};\n",
       "\n",
       "mpl.figure.prototype.toolbar_button_onmouseover = function (tooltip) {\n",
       "    this.message.textContent = tooltip;\n",
       "};\n",
       "\n",
       "///////////////// REMAINING CONTENT GENERATED BY embed_js.py /////////////////\n",
       "// prettier-ignore\n",
       "var _JSXTOOLS_RESIZE_OBSERVER=function(A){var t,i=new WeakMap,n=new WeakMap,a=new WeakMap,r=new WeakMap,o=new Set;function s(e){if(!(this instanceof s))throw new TypeError(\"Constructor requires 'new' operator\");i.set(this,e)}function h(){throw new TypeError(\"Function is not a constructor\")}function c(e,t,i,n){e=0 in arguments?Number(arguments[0]):0,t=1 in arguments?Number(arguments[1]):0,i=2 in arguments?Number(arguments[2]):0,n=3 in arguments?Number(arguments[3]):0,this.right=(this.x=this.left=e)+(this.width=i),this.bottom=(this.y=this.top=t)+(this.height=n),Object.freeze(this)}function d(){t=requestAnimationFrame(d);var s=new WeakMap,p=new Set;o.forEach((function(t){r.get(t).forEach((function(i){var r=t instanceof window.SVGElement,o=a.get(t),d=r?0:parseFloat(o.paddingTop),f=r?0:parseFloat(o.paddingRight),l=r?0:parseFloat(o.paddingBottom),u=r?0:parseFloat(o.paddingLeft),g=r?0:parseFloat(o.borderTopWidth),m=r?0:parseFloat(o.borderRightWidth),w=r?0:parseFloat(o.borderBottomWidth),b=u+f,F=d+l,v=(r?0:parseFloat(o.borderLeftWidth))+m,W=g+w,y=r?0:t.offsetHeight-W-t.clientHeight,E=r?0:t.offsetWidth-v-t.clientWidth,R=b+v,z=F+W,M=r?t.width:parseFloat(o.width)-R-E,O=r?t.height:parseFloat(o.height)-z-y;if(n.has(t)){var k=n.get(t);if(k[0]===M&&k[1]===O)return}n.set(t,[M,O]);var S=Object.create(h.prototype);S.target=t,S.contentRect=new c(u,d,M,O),s.has(i)||(s.set(i,[]),p.add(i)),s.get(i).push(S)}))})),p.forEach((function(e){i.get(e).call(e,s.get(e),e)}))}return s.prototype.observe=function(i){if(i instanceof window.Element){r.has(i)||(r.set(i,new Set),o.add(i),a.set(i,window.getComputedStyle(i)));var n=r.get(i);n.has(this)||n.add(this),cancelAnimationFrame(t),t=requestAnimationFrame(d)}},s.prototype.unobserve=function(i){if(i instanceof window.Element&&r.has(i)){var n=r.get(i);n.has(this)&&(n.delete(this),n.size||(r.delete(i),o.delete(i))),n.size||r.delete(i),o.size||cancelAnimationFrame(t)}},A.DOMRectReadOnly=c,A.ResizeObserver=s,A.ResizeObserverEntry=h,A}; // eslint-disable-line\n",
       "mpl.toolbar_items = [[\"Home\", \"Reset original view\", \"fa fa-home icon-home\", \"home\"], [\"Back\", \"Back to previous view\", \"fa fa-arrow-left icon-arrow-left\", \"back\"], [\"Forward\", \"Forward to next view\", \"fa fa-arrow-right icon-arrow-right\", \"forward\"], [\"\", \"\", \"\", \"\"], [\"Pan\", \"Left button pans, Right button zooms\\nx/y fixes axis, CTRL fixes aspect\", \"fa fa-arrows icon-move\", \"pan\"], [\"Zoom\", \"Zoom to rectangle\\nx/y fixes axis, CTRL fixes aspect\", \"fa fa-square-o icon-check-empty\", \"zoom\"], [\"\", \"\", \"\", \"\"], [\"Download\", \"Download plot\", \"fa fa-floppy-o icon-save\", \"download\"]];\n",
       "\n",
       "mpl.extensions = [\"eps\", \"jpeg\", \"pdf\", \"png\", \"ps\", \"raw\", \"svg\", \"tif\"];\n",
       "\n",
       "mpl.default_extension = \"png\";/* global mpl */\n",
       "\n",
       "var comm_websocket_adapter = function (comm) {\n",
       "    // Create a \"websocket\"-like object which calls the given IPython comm\n",
       "    // object with the appropriate methods. Currently this is a non binary\n",
       "    // socket, so there is still some room for performance tuning.\n",
       "    var ws = {};\n",
       "\n",
       "    ws.close = function () {\n",
       "        comm.close();\n",
       "    };\n",
       "    ws.send = function (m) {\n",
       "        //console.log('sending', m);\n",
       "        comm.send(m);\n",
       "    };\n",
       "    // Register the callback with on_msg.\n",
       "    comm.on_msg(function (msg) {\n",
       "        //console.log('receiving', msg['content']['data'], msg);\n",
       "        // Pass the mpl event to the overridden (by mpl) onmessage function.\n",
       "        ws.onmessage(msg['content']['data']);\n",
       "    });\n",
       "    return ws;\n",
       "};\n",
       "\n",
       "mpl.mpl_figure_comm = function (comm, msg) {\n",
       "    // This is the function which gets called when the mpl process\n",
       "    // starts-up an IPython Comm through the \"matplotlib\" channel.\n",
       "\n",
       "    var id = msg.content.data.id;\n",
       "    // Get hold of the div created by the display call when the Comm\n",
       "    // socket was opened in Python.\n",
       "    var element = document.getElementById(id);\n",
       "    var ws_proxy = comm_websocket_adapter(comm);\n",
       "\n",
       "    function ondownload(figure, _format) {\n",
       "        window.open(figure.canvas.toDataURL());\n",
       "    }\n",
       "\n",
       "    var fig = new mpl.figure(id, ws_proxy, ondownload, element);\n",
       "\n",
       "    // Call onopen now - mpl needs it, as it is assuming we've passed it a real\n",
       "    // web socket which is closed, not our websocket->open comm proxy.\n",
       "    ws_proxy.onopen();\n",
       "\n",
       "    fig.parent_element = element;\n",
       "    fig.cell_info = mpl.find_output_cell(\"<div id='\" + id + \"'></div>\");\n",
       "    if (!fig.cell_info) {\n",
       "        console.error('Failed to find cell for figure', id, fig);\n",
       "        return;\n",
       "    }\n",
       "    fig.cell_info[0].output_area.element.on(\n",
       "        'cleared',\n",
       "        { fig: fig },\n",
       "        fig._remove_fig_handler\n",
       "    );\n",
       "};\n",
       "\n",
       "mpl.figure.prototype.handle_close = function (fig, msg) {\n",
       "    var width = fig.canvas.width / fig.ratio;\n",
       "    fig.cell_info[0].output_area.element.off(\n",
       "        'cleared',\n",
       "        fig._remove_fig_handler\n",
       "    );\n",
       "    fig.resizeObserverInstance.unobserve(fig.canvas_div);\n",
       "\n",
       "    // Update the output cell to use the data from the current canvas.\n",
       "    fig.push_to_output();\n",
       "    var dataURL = fig.canvas.toDataURL();\n",
       "    // Re-enable the keyboard manager in IPython - without this line, in FF,\n",
       "    // the notebook keyboard shortcuts fail.\n",
       "    IPython.keyboard_manager.enable();\n",
       "    fig.parent_element.innerHTML =\n",
       "        '<img src=\"' + dataURL + '\" width=\"' + width + '\">';\n",
       "    fig.close_ws(fig, msg);\n",
       "};\n",
       "\n",
       "mpl.figure.prototype.close_ws = function (fig, msg) {\n",
       "    fig.send_message('closing', msg);\n",
       "    // fig.ws.close()\n",
       "};\n",
       "\n",
       "mpl.figure.prototype.push_to_output = function (_remove_interactive) {\n",
       "    // Turn the data on the canvas into data in the output cell.\n",
       "    var width = this.canvas.width / this.ratio;\n",
       "    var dataURL = this.canvas.toDataURL();\n",
       "    this.cell_info[1]['text/html'] =\n",
       "        '<img src=\"' + dataURL + '\" width=\"' + width + '\">';\n",
       "};\n",
       "\n",
       "mpl.figure.prototype.updated_canvas_event = function () {\n",
       "    // Tell IPython that the notebook contents must change.\n",
       "    IPython.notebook.set_dirty(true);\n",
       "    this.send_message('ack', {});\n",
       "    var fig = this;\n",
       "    // Wait a second, then push the new image to the DOM so\n",
       "    // that it is saved nicely (might be nice to debounce this).\n",
       "    setTimeout(function () {\n",
       "        fig.push_to_output();\n",
       "    }, 1000);\n",
       "};\n",
       "\n",
       "mpl.figure.prototype._init_toolbar = function () {\n",
       "    var fig = this;\n",
       "\n",
       "    var toolbar = document.createElement('div');\n",
       "    toolbar.classList = 'btn-toolbar';\n",
       "    this.root.appendChild(toolbar);\n",
       "\n",
       "    function on_click_closure(name) {\n",
       "        return function (_event) {\n",
       "            return fig.toolbar_button_onclick(name);\n",
       "        };\n",
       "    }\n",
       "\n",
       "    function on_mouseover_closure(tooltip) {\n",
       "        return function (event) {\n",
       "            if (!event.currentTarget.disabled) {\n",
       "                return fig.toolbar_button_onmouseover(tooltip);\n",
       "            }\n",
       "        };\n",
       "    }\n",
       "\n",
       "    fig.buttons = {};\n",
       "    var buttonGroup = document.createElement('div');\n",
       "    buttonGroup.classList = 'btn-group';\n",
       "    var button;\n",
       "    for (var toolbar_ind in mpl.toolbar_items) {\n",
       "        var name = mpl.toolbar_items[toolbar_ind][0];\n",
       "        var tooltip = mpl.toolbar_items[toolbar_ind][1];\n",
       "        var image = mpl.toolbar_items[toolbar_ind][2];\n",
       "        var method_name = mpl.toolbar_items[toolbar_ind][3];\n",
       "\n",
       "        if (!name) {\n",
       "            /* Instead of a spacer, we start a new button group. */\n",
       "            if (buttonGroup.hasChildNodes()) {\n",
       "                toolbar.appendChild(buttonGroup);\n",
       "            }\n",
       "            buttonGroup = document.createElement('div');\n",
       "            buttonGroup.classList = 'btn-group';\n",
       "            continue;\n",
       "        }\n",
       "\n",
       "        button = fig.buttons[name] = document.createElement('button');\n",
       "        button.classList = 'btn btn-default';\n",
       "        button.href = '#';\n",
       "        button.title = name;\n",
       "        button.innerHTML = '<i class=\"fa ' + image + ' fa-lg\"></i>';\n",
       "        button.addEventListener('click', on_click_closure(method_name));\n",
       "        button.addEventListener('mouseover', on_mouseover_closure(tooltip));\n",
       "        buttonGroup.appendChild(button);\n",
       "    }\n",
       "\n",
       "    if (buttonGroup.hasChildNodes()) {\n",
       "        toolbar.appendChild(buttonGroup);\n",
       "    }\n",
       "\n",
       "    // Add the status bar.\n",
       "    var status_bar = document.createElement('span');\n",
       "    status_bar.classList = 'mpl-message pull-right';\n",
       "    toolbar.appendChild(status_bar);\n",
       "    this.message = status_bar;\n",
       "\n",
       "    // Add the close button to the window.\n",
       "    var buttongrp = document.createElement('div');\n",
       "    buttongrp.classList = 'btn-group inline pull-right';\n",
       "    button = document.createElement('button');\n",
       "    button.classList = 'btn btn-mini btn-primary';\n",
       "    button.href = '#';\n",
       "    button.title = 'Stop Interaction';\n",
       "    button.innerHTML = '<i class=\"fa fa-power-off icon-remove icon-large\"></i>';\n",
       "    button.addEventListener('click', function (_evt) {\n",
       "        fig.handle_close(fig, {});\n",
       "    });\n",
       "    button.addEventListener(\n",
       "        'mouseover',\n",
       "        on_mouseover_closure('Stop Interaction')\n",
       "    );\n",
       "    buttongrp.appendChild(button);\n",
       "    var titlebar = this.root.querySelector('.ui-dialog-titlebar');\n",
       "    titlebar.insertBefore(buttongrp, titlebar.firstChild);\n",
       "};\n",
       "\n",
       "mpl.figure.prototype._remove_fig_handler = function (event) {\n",
       "    var fig = event.data.fig;\n",
       "    if (event.target !== this) {\n",
       "        // Ignore bubbled events from children.\n",
       "        return;\n",
       "    }\n",
       "    fig.close_ws(fig, {});\n",
       "};\n",
       "\n",
       "mpl.figure.prototype._root_extra_style = function (el) {\n",
       "    el.style.boxSizing = 'content-box'; // override notebook setting of border-box.\n",
       "};\n",
       "\n",
       "mpl.figure.prototype._canvas_extra_style = function (el) {\n",
       "    // this is important to make the div 'focusable\n",
       "    el.setAttribute('tabindex', 0);\n",
       "    // reach out to IPython and tell the keyboard manager to turn it's self\n",
       "    // off when our div gets focus\n",
       "\n",
       "    // location in version 3\n",
       "    if (IPython.notebook.keyboard_manager) {\n",
       "        IPython.notebook.keyboard_manager.register_events(el);\n",
       "    } else {\n",
       "        // location in version 2\n",
       "        IPython.keyboard_manager.register_events(el);\n",
       "    }\n",
       "};\n",
       "\n",
       "mpl.figure.prototype._key_event_extra = function (event, _name) {\n",
       "    var manager = IPython.notebook.keyboard_manager;\n",
       "    if (!manager) {\n",
       "        manager = IPython.keyboard_manager;\n",
       "    }\n",
       "\n",
       "    // Check for shift+enter\n",
       "    if (event.shiftKey && event.which === 13) {\n",
       "        this.canvas_div.blur();\n",
       "        // select the cell after this one\n",
       "        var index = IPython.notebook.find_cell_index(this.cell_info[0]);\n",
       "        IPython.notebook.select(index + 1);\n",
       "    }\n",
       "};\n",
       "\n",
       "mpl.figure.prototype.handle_save = function (fig, _msg) {\n",
       "    fig.ondownload(fig, null);\n",
       "};\n",
       "\n",
       "mpl.find_output_cell = function (html_output) {\n",
       "    // Return the cell and output element which can be found *uniquely* in the notebook.\n",
       "    // Note - this is a bit hacky, but it is done because the \"notebook_saving.Notebook\"\n",
       "    // IPython event is triggered only after the cells have been serialised, which for\n",
       "    // our purposes (turning an active figure into a static one), is too late.\n",
       "    var cells = IPython.notebook.get_cells();\n",
       "    var ncells = cells.length;\n",
       "    for (var i = 0; i < ncells; i++) {\n",
       "        var cell = cells[i];\n",
       "        if (cell.cell_type === 'code') {\n",
       "            for (var j = 0; j < cell.output_area.outputs.length; j++) {\n",
       "                var data = cell.output_area.outputs[j];\n",
       "                if (data.data) {\n",
       "                    // IPython >= 3 moved mimebundle to data attribute of output\n",
       "                    data = data.data;\n",
       "                }\n",
       "                if (data['text/html'] === html_output) {\n",
       "                    return [cell, data, j];\n",
       "                }\n",
       "            }\n",
       "        }\n",
       "    }\n",
       "};\n",
       "\n",
       "// Register the function which deals with the matplotlib target/channel.\n",
       "// The kernel may be null if the page has been refreshed.\n",
       "if (IPython.notebook.kernel !== null) {\n",
       "    IPython.notebook.kernel.comm_manager.register_target(\n",
       "        'matplotlib',\n",
       "        mpl.mpl_figure_comm\n",
       "    );\n",
       "}\n"
      ],
      "text/plain": [
       "<IPython.core.display.Javascript object>"
      ]
     },
     "metadata": {},
     "output_type": "display_data"
    },
    {
     "data": {
      "text/html": [
       "<img src=\"data:image/png;base64,iVBORw0KGgoAAAANSUhEUgAABaAAAAQ4CAYAAAD/4ntSAAAAAXNSR0IArs4c6QAAIABJREFUeF7snQeUVeXVhjdIEwFRFFQQC0XEiiJKEQvFhrHEaCxRY/8Nib0XrFGxG0tMjI0Yk6hRo8aCBQsWxBpBsYACKohSRQEp/3qPOdc7M3fmnltO+87zreWSmfnqs9975s579t2n0YoVK1YYDQIQgAAEIAABCEAAAhCAAAQgAAEIQAACEIAABCBQZQKNMKCrTJTpIAABCEAAAhCAAAQgAAEIQAACEIAABCAAAQhAwCOAAY0QIAABCEAAAhCAAAQgAAEIQAACEIAABCAAAQhAIBQCGNChYGVSCEAAAhCAAAQgAAEIQAACEIAABCAAAQhAAAIQwIBGAxCAAAQgAAEIQAACEIAABCAAAQhAAAIQgAAEIBAKAQzoULAyKQQgAAEIQAACEIAABCAAAQhAAAIQgAAEIAABCGBAowEIQAACEIAABCAAAQhAAAIQgAAEIAABCEAAAhAIhQAGdChYmRQCEIAABCAAAQhAAAIQgAAEIAABCEAAAhCAAAQwoNEABCAAAQhAAAIQgAAEIAABCEAAAhCAAAQgAAEIhEIAAzoUrEwKAQhAAAIQgAAEIAABCEAAAhCAAAQgAAEIQAACGNBoAAIQgAAEIAABCEAAAhCAAAQgAAEIQAACEIAABEIhgAEdClYmhQAEIAABCEAAAhCAAAQgAAEIQAACEIAABCAAAQxoNAABCEAAAhCAAAQgAAEIQAACEIAABCAAAQhAAAKhEMCADgUrk0IAAhCAAAQgAAEIQAACEIAABCAAAQhAAAIQgAAGNBqAAAQgAAEIQAACEIAABCAAAQhAAAIQgAAEIACBUAhgQIeClUkhAAEIQAACEIAABCAAAQhAAAIQgAAEIAABCEAAAxoNQAACEIAABCAAAQhAAAIQgAAEIAABCEAAAhCAQCgEMKBDwcqkEIAABCAAAQhAAAIQgAAEIAABCEAAAhCAAAQggAGNBiAAAQhAAAIQgAAEIAABCEAAAhCAAAQgAAEIQCAUAhjQoWBlUghAAAIQgAAEIAABCEAAAhCAAAQgAAEIQAACEMCARgMQgAAEIAABCEAAAhCAAAQgAAEIQAACEIAABCAQCgEM6FCwMikEIAABCEAAAhCAAAQgAAEIQAACEIAABCAAAQhgQKMBCEAAAhCAAAQgAAEIQAACEIAABCAAAQhAAAIQCIUABnQoWJkUAhCAAAQgAAEIQAACEIAABCAAAQhAAAIQgAAEMKDRAAQgAAEIQAACEIAABCAAAQhAAAIQgAAEIAABCIRCAAM6FKxMCgEIQAACEIAABCAAAQhAAAIQgAAEIAABCEAAAhjQaAACEIAABCAAAQhAAAIQgAAEIAABCEAAAhCAAARCIYABHQpWJoUABCAAAQhAAAIQgAAEIAABCEAAAhCAAAQgAAEMaDQAAQhAAAIQgAAEIAABCEAAAhCAAAQgAAEIQAACoRDAgA4FK5NCAAIQgAAEIAABCEAAAhCAAAQgAAEIQAACEIAABjQagAAEIAABCEAAAhCAAAQgAAEIQAACEIAABCAAgVAIYECHgpVJIQABCEAAAhCAAAQgAAEIQAACEIAABCAAAQhAAAMaDUAAAhCAAAQgAAEIQAACEIAABCAAAQhAAAIQgEAoBDCgQ8HKpBCAAAQgAAEIQAACEIAABCAAAQhAAAIQgAAEIIABjQYgAAEIQAACEIAABCAAAQhAAAIQgAAEIAABCEAgFAIY0KFgZVIIQAACEIAABCAAAQhAAAIQgAAEIAABCEAAAhDAgEYDEIAABCAAAQhAAAIQgAAEIAABCEAAAhCAAAQgEAoBDOhQsDIpBCAAAQhAAAIQgAAEIAABCEAAAhCAAAQgAAEIYECjAQhAAAIQgAAEIAABCEAAAhCAAAQgAAEIQAACEAiFAAZ0KFiZFAIQgAAEIAABCEAAAhCAAAQgAAEIQAACEIAABDCg0QAEIAABCEAAAhCAAAQgAAEIQAACEIAABCAAAQiEQgADOhSsTAoBCEAAAhCAAAQgAAEIQAACEIAABCAAAQhAAAIY0GgAAhCAAAQgAAEIQAACEIAABCAAAQhAAAIQgAAEQiGAAR0KViaFAAQgAAEIQAACEIAABCAAAQhAAAIQgAAEIAABDGg0AAEIQAACEIAABCAAAQhAAAIQgAAEIAABCEAAAqEQwIAOBSuTQgACEIAABCAAAQhAAAIQgAAEIAABCEAAAhCAAAY0GoAABCAAAQhAAAIQgAAEIAABCEAAAhCAAAQgAIFQCGBAh4KVSSEAAQhAAAIQgAAEIAABCEAAAhCAAAQgAAEIQAADGg1AAAIQgAAEIAABCEAAAhCAAAQgAAEIQAACEIBAKAQwoEPByqQQgAAEIAABCEAAAhCAAAQgAAEIQAACEIAABCCAAY0GIAABCEAAAhCAAAQgAAEIQAACEIAABCAAAQhAIBQCGNChYGVSCEAAAhCAAAQgAAEIQAACEIAABCAAAQhAAAIQwIBGAxCAAAQgAAEIQAACEIAABCAAAQhAAAIQgAAEIBAKAQzoULAyKQQgAAEIQAACEIAABCAAAQhAAAIQgAAEIAABCGBAowEIQAACEIAABCAAAQhAAAIQgAAEIAABCEAAAhAIhQAGdChYmRQCEIAABCAAAQhAAAIQgAAEIAABCEAAAhCAAAQwoNEABCAAAQhAAAIQgAAEIAABCEAAAhCAAAQgAAEIhEIAAzoUrEwKAQhAAAIQgAAEIAABCEAAAhCAAAQgAAEIQAACGNBoAAIQgAAEIAABCEAAAhCAAAQgAAEIQAACEIAABEIhgAEdClYmhQAEIAABCEAAAhCAAAQgAAEIQAACEIAABCAAAQxoNAABCEAAAhCAAAQgAAEIQAACEIAABCAAAQhAAAKhEMCADgUrk0IAAhCAAAQgAAEIQAACEIAABCAAAQhAAAIQgAAGNBqAAAQgAAEIQAACEIAABCAAAQhAAAIQgAAEIACBUAhgQIeClUkhAAEIQAACEIAABCAAAQhAAAIQgAAEIAABCEAAAxoNQAACEIAABCAAAQhAAAIQgAAEIAABCEAAAhCAQCgEMKBDwcqkEIAABCAAAQhAAAIQgAAEIAABCEAAAhCAAAQggAGNBiAAAQhAAAIQgAAEIAABCEAAAhCAAAQgAAEIQCAUAhjQoWBlUghAAAIQgAAEIAABCEAAAhCAAAQgAAEIQAACEMCARgMQgAAEIAABCEAAAhCAAAQgAAEIQAACEIAABCAQCgEM6FCwMikEIAABCEAAAhCAAAQgAAEIQAACEIAABCAAAQhgQKMBCEAAAhCAAAQgAAEIQAACEIAABCAAAQhAAAIQCIUABnQoWJkUAhCAAAQgAAEIQAACEIAABCAAAQhAAAIQgAAEMKDRAAQgAAEIQAACEIAABCAAAQhAAAIQgAAEIAABCIRCAAM6FKxMCgEIQAACEIAABCAAAQhAAAIQgAAEIAABCEAAAhjQaAACEIAABCAAAQhAAAIQgAAEIAABCEAAAhCAAARCIYABHQpWJoUABCAAAQhAAAIQgAAEIAABCEAAAhCAAAQgAAEMaDQAAQhAAAIQgAAEIAABCEAAAhCAAAQgAAEIQAACoRDAgA4FK5NCAAIQgAAEIAABCEAAAhCAAAQgAAEIQAACEIAABjQagAAEIAABCEAAAhCAAAQgAAEIQAACEIAABCAAgVAIYECHgpVJIQABCEAAAhCAAAQgAAEIQAACEIAABCAAAQhAAAMaDUAAAhCAAAQgAAEIQAACEIAABCAAAQhAAAIQgEAoBDCgQ8HKpBCAAAQgAAEIQAACEIAABCAAAQhAAAIQgAAEIIABjQYgAAEIQAACEIAABCAAAQhAAAIQgAAEIAABCEAgFAIY0KFgZVIIQAACEIAABCAAAQhAAAIQgAAEIAABCEAAAhDAgEYDEIAABCAAAQhAAAIQgAAEIAABCEAAAhCAAAQgEAoBDOhQsDIpBCAAAQhAAAIQgAAEIAABCEAAAhCAAAQgAAEIYECjAQhAAAIQgAAEIAABCEAAAhCAAAQgAAEIQAACEAiFAAZ0KFiZFAIQgAAEIAABCEAAAhCAAAQgAAEIQAACEIAABDCg0QAEIAABCEAAAhCAAAQgAAEIQAACEIAABCAAAQiEQgADOhSsTAoBCEAAAhCAAAQgAAEIQAACEIAABCAAAQhAAAIY0GgAAhCAAAQgAAEIQAACEIAABCAAAQhAAAIQgAAEQiGAAR0KViaFAAQgAAEIQAACEIAABCAAAQhAAAIQgAAEIAABDGg0AAEIQAACEIAABCAAAQhAAAIQgAAEIAABCEAAAqEQwIAOBSuTQgACEIAABCAAAQhAAAIQgAAEIAABCEAAAhCAAAY0GoAABCAAAQhAAAIQgAAEIAABCEAAAhCAAAQgAIFQCGBAh4KVSSEAAQhAAAIQgAAEIAABCEAAAhCAAAQgAAEIQAADGg1AAAIQgAAEIAABCEAAAhCAAAQgAAEIQAACEIBAKAQwoEPByqQQgAAEIAABCEAAAhCAAAQgAAEIQAACEIAABCCAAY0GIAABCEAAAhCoCoExY8bYTjvt5M21YsWKqsxZySTrr7++ffbZZ3bHHXfY4YcfXslUzo399NNPbYMNNvDONWXKFBOrNLSpU6faiBEj7JlnnrEZM2bYDz/8YKuuuqrNnTs3DdtnjxCAAAQgAAEIQAACEMgkAQzoTIadQ0MAAhCAAATqJ7Bs2TJ74IEH7NFHH7VXX33VvvrqK/vuu++sbdu21r17d9t+++3t4IMPtk033bTGJBjQ1VNVo0aN6kym77Vu3dq6dOligwcPtuHDh1vnzp3LWjSNBvS8efM8zU2fPt07s4znFi1aeP+fNGlSWRyiGPT000/bv/71Lxs7dqx98cUXnlnesmVLW2uttWyLLbbwYrnPPvvYmmuuWXQ7zz//vP3tb3+zF154wb788ktbtGiRN27zzTe3YcOGeTdaVl555aLzqIPG3nXXXfbII4/Yu+++a7NmzbJmzZrZOuus473GDzzwwNwNpSATfv311958ujkwYcIE++abb7wbBKuttpp33ejTp4/tvffe1r9/fyukb+1d49dbbz2TPqvVPv/8c3v44Yftueees7feesv0tZr4b7fddnb00UfbzjvvXHS5mTNn2siRI73rom6EiPMmm2xihx12mB155JEFz5Q/6SeffOKNf+qpp7zY6bW81VZb2THHHGM///nPi66vDtr/n/70J3v22We9czRu3Ng7h+bZa6+9vJiV0z7++GOPka7h0oJu7jRp0sQ6duzoaeH444+3rbfeuujU5Z5R8X7ppZfsjTfesDfffNM754IFC7z1gt4gmz17tt14441efD788ENbuHChx7hHjx6255572m9+8xtr06ZN0TPQAQIQgAAEIACBcAhgQIfDlVkhAAEIQAACqSQgw1mGiv6A91vTpk29P+RlnC1fvjz3/X333dfuvfdez7RSS5oBPWjQIM+kueyyyzyDL03NN+hWWWUVa9Wqlbd13RiQyec3ff8f//iH7b777iUfTVzER02GoYympLc//vGP9n//93+eofnyyy97xlKSm15Dv/rVr2zcuHG5bcowlGEu8/f777/PfV9G+m9/+1vPoCzUZOYeeuih9p///Cf34+bNm3sGvIx5vymOyvgfMmRIg2hGjx5tRxxxRM7MV2eZc4sXL/b+89tuu+1mo0aNsnbt2tU7nz7tcPnll9ull17qmX5+095k0mp/+dcNmeV33nmn9erVq8acYRjQ06ZN8wzt/E9kyPzX1/n8xULG7korrVTwnDJGd9llF89UV9NrTzFcunSp97V+9u9//zt3Law9ieL2i1/8wruR57P+9ttvc1x+/etf21/+8pd6TWzt94wzzrCrr746N0bXZK3vn0M3M95+++2SXxK6MTJgwIAa4zS3dLBkyRLv+9LtOeecYxdddFG981dyRj/2hSYPYkDLsJZWdZNATddP6Xn+/Pm52Ou1IfO/Z8+eJTNiAAQgAAEIQAAClRPAgK6cITNAAAIQgAAEnCCgTEiZJDIeZDideuqpXmZet27dvPPJANUf+sqOvvnmm70/7ufMmeNlRqslzYBOc1B8A1rlJi644ILcUZQVqAzY0047zcsQlBGm7MUOHTqk+biB9q4MRulOmrz//vsDjYmrk27kyJTUa0Q3EZRBesABB9iWW26ZMzl1Q0dZn//85z+9Gwky1pV5WrvJVJNBqDjLINVcxx13XM5I0zwPPfSQnX/++SbDVZmr99xzj+2///4Fj6+1DjnkEM+8lCl34YUXmm4maX21Dz74wG699VYvm1R9unbt6mVvt2/fvs58MkaVdas51bbddls76aSTvIxiP6Nb5vPEiRNNmeC6iaBs9VtuucU7Q34Lw4D2M/11s0UGvrLNleGtPemcZ599tpf5q3buuefaxRdfXOeMMtB1s0Ox0f9lyPfu3dszZ//85z9751Wmt26OSJ+1mwzUzTbbzDPnlf19++23exnhMqCvvPLKnKl7xRVX2Omnn14wZr/73e/sD3/4g/d6V5x1Y0OZz2q6KaWM+Pfee8/7WalN121xUZawPtmiMkq6/ut6r2zkk08+2dOp2m233eZle1f7jLoBoDMoy1rZ3NLVWWed5S1TzICWRjfaaCObPHmyp2HpVnrWDRDdJNDrSzd39FrUzY933nmnVET0hwAEIAABCECgCgQwoKsAkSkgAAEIQAACaSfw0UcfeaaK/khXhtiTTz5pnTp1qvdY+rizTANlMmJAVz/69RnQ/krKljzqqKO8L5V9quxI15uyRKU3Zejr/0ltKlkjo1llFtZdd13vtbTxxhs3uF2VdJARrLjmNxlxMgdVckGfRNDNHxmFhZqyc2W0ymCT6T1+/Pg6WeLvv/++9zpXJq5MUWW/11f6Qxmt+uSAjFbNKwO5drvkkkvsvPPO876tmyIyUQuV1/DH6TwyYGWkypDPb2EY0DKPVRZCpmahpv3oEwRPPPGEtyeVIZFxmd90Pp1T2dwqLeLXTvf76BMWMrJ1c0BGu8zl/Caz+K9//atnGIu/f730+xx77LFe9rUydmWY+zcC/J9rb8ruVfxl0qpsSDWbStooi9q/0Vh7bsV/m2228UpzqPyPboTUbpWeUWZ3fvZ5/s3MYga0ytLsuOOO3pbqq/eff73UjQcZ1jQIQAACEIAABKIlgAEdLW9WgwAEIAABCCSSgMwgZYrJfJGBVdtEqW/TMnB8wylIBrSyCPUxcplbfp1XPQBvjz32sFNOOaXeTF5lWl977bVefU8ZIMpsW3311b2szH79+nmZ235JCX+vDT2E0N+z6sIq607GmbJq9dBCfUS/b9++nrGmjM76mjIPVXZAGZSq7SvjSJmqytyT4ZW/hm+QBA1+MQNa55fJqEzO/Ixg38STSSszRsaLzFoZX7pp4Bs0QWpAa24xUcb166+/7mVayiRT3WmZojKdatcB1/mUmX3TTTd5XJTtqsxPxUnZnyeccILHtpQmdjKZ6mu1TSeZjtdff72XFSytKDtVN1O0Z5mkG264YcGp8uOlmzAy9qU336AL+mBNfXJAGtd8KhVSiWGoTyX87Gc/8/arTHhlxDfUdCNJWZ7Sx3777Wf33Xdfje7SiupRq3yHXufFjDhlBPtZtWKh16nfZLTLjJWZLYM0vzxIKfH1+4ZhQAfZhxj52eLK+K1dGkQlPHSDQDdAZJ7XbspkXnvttb2MZrHSjQS/Sfsy+GXw6vuFMpTzX4uaX+vkN71elFF/4oknetfAOJoytf3sbF1H8k3yapyx9plKMaD//ve/52pf//e//y14TdL39bpQ042ZIPWs4+DMmhCAAAQgAAGXCWBAuxxdzgYBCEAAAhAIQEAf8fc/lq6PV+tj1uW0Yga0TEQ9hEwlA9RkoKr5dWNlaqiOau16pDIAZV7KBFLz6+gqW1uZc2o77LCDVwIkvwUxoGWuyhSSUSnzXXP7dVpV21oG4NChQ+vgUH1ffVRdxrOaDD39pz1pnIxb3ziUyV1tA1prytRVxqbq/aq2qZpv4qncgLgqY9bnJWNWhrT6FDOgZTbLrFTGpd+UuamPu8toU9NDz2Ty5jfVoFWGrv+gQGU1ytD3HygmU1amvf/x+iA608fpZeRq/zJW/QcP+mNlNvvZtMpQ3XXXXXPrq68yR/31FSOVpyj00DffgFZZBZVj0Osif3wQA1pmt8oXaD3t4/HHHw9yxHr7yNhVBqxq8kprfj3whibVJxNkyivuqvXtl2pQRraMeN1YkAbUp1hTrHVt0Hlqm8y6aXPmmWd6U8ggbehmTbF18rVb7YcQFls73+TXjRZliPtNN1D8WuO6QacbXYWasqgVa91seOWVV3JdlP0uHaipFrgyiQs13fDQTaJf/vKXXl19v+mGgn8zUHWo68vkLnbGSn+u8h8qA6Kma84aa6xRtTMW2lspBrS4+torlgGt3zl6Xfu/eyrlwngIQAACEIAABIITwIAOzoqeEIAABCAAAScJ5GeQ1c5yLOXADRnQqk2rDDSZzzJb9JFzmcpqL774oh199NFetqyymvVR7/yH4qnUhIxTGcoyx2XmytiU+SyjU8aPDFVlrOa3IAa0TG9lL6puqExsmZDKkFN2r/YjM0y1RWXm+U0mozLolFUnI0ZnkdmsPenj3apVrFrZytpWC8OAlrksU1KmqMxXxVDNN6D9h6SJidgqc1lmooxEnbchA1omsxir7q8MWz14TFmZfqkGGaHSieb4/e9/n+Mig1OlJ5QZK9NYZQkUcxnA+p4Yq1yB5n/wwQe9mxGltPzs7kIlOHQ2PYhNH9mXfhQXmX+KnbJ9VXNYRqnO9Nprr3l985tvQIudxquerzhovG44BPlUgIxyX9car7rA5TZxkumvWJdS91qx8ct0SBe+OS9j86CDDvK2I9N12LBhgbamTGrdyBAXaVo1ptV0Y0YPM1T98UK1qwNNntcprgxoffLimmuu8W4cyVzVa8VvOrfOr6byGvWVUlF2sLKENTb/oZDKhFdGvJpubKmMR6GmDGxlYqssiq5/fpOhqhsKeg1pvK51uuEiM1o3Y1TiRbXGdQZd78Jqfua8rh26qZFfZqXSMxbacykGtK6Bffr08a7bhWpAi+vw4cO9m4O6Bun6TIMABCAAAQhAIHoCGNDRM2dFCEAAAhCAQKII+DVOtSmZC8p4LKc1ZEDLiNMDyGQQyMjxszL9dWQkb7LJJp5JIINARoHf/OxAZSvrgWdBWxADWqaqHt5V+wFr+R/Z1gO4fFNRa6ueqwxqmTDK6t5+++1rbEnGkD7GLzNaLQwD+qqrrvLKSajpY/n6eL6ab+Lp3zfccIP38K1CrSED2q+XqvPJzFR2Z5Cm7HmVEJDJqSzjQk171UPNZP4qW7qUVsyA9jNyZdaplELt8iAyqGWI6+wqJaGz5TffVJOJqEzqhmqg17dv3SCR4a8mM7rUciP58yor36/LqxrE55xzTiBcei3JmFTLf7Ce/q3sczX1yb/J09DE+XWetSfVAVYTH10vZEQr07fSFocBrZsV0onMXb2m77777hrHyM/8lbGcb07nd5Qp7L8G/YeD6ue+ua3rnkpX1Nf0IMPrrrvOy57Xpw/8pk8K6CaSrk8qqyOTW0370I0wlfZQ080BGa1+tnWlscgfr4xufSpFmfP6XaEbUvmt0jMW2mspBrTG69MxMsllQqvptbzqqqt6NwNkUCszXXXyS73pVU2OzAUBCEAAAhDIOgEM6KwrgPNDAAIQgEDmCRx//PF2yy23eBxkaNR+CFdQQPUZ0DIAlCksA0aGSn7WbP7cMghGjhxZx4RRjWeZIMq0k3kZtAUxoGXqyWAr1FQrWAZV7UxWlZ5QqZBCZT/8eWTEypBVq5YBrYxv7UfmrjKJFy9e7GWMyxT0a7L6Jp6+VlaqsjoLtYYMaJntMk8LmbT1sZfprjX1f2Ub+/VWa/fXg/L8j+9rf8qeDdqKGdAqT6DMc92k0M2KQk06l96V1Sw9yqTym29A174BEnR/6pdflqK+h50pbsqsL9Tyy4koS9uvH619K4M7SFMM/Exb3fiRftX8m0Clvs5148jP5NaelG2qpjW0Vu2yEfl7lOEtE7d2k0Guchf5LWoDWtc63TxSNrE0Kd3Wvvmma5Vv/Mvw9bO/a59HZVuOOeYY79v6hIAyhdX0Pf1MZr9flqZQDLWG1tLrVfrwm2J+6623enqVAbzzzjt7N+eUia2v9RBJfUJEBqw+EaEbZ/VpK4h2avdRRrjKhqg2vm6G6MZO7TIwlZ6x0L5KNaA1h7LzdcOt0M0v3WTQz/wYlcOCMRCAAAQgAAEIVEYAA7oyfoyGAAQgAAEIpJ5A2Aa0Slj4WZMyTGSiFGpPP/20V89YTWP0gDM13wRSZqtMKpV3kCldXzaiP3cQA1pGsl+uoPaelPWnMhS1s09lnslMqv3Asfzx+WeuxIBuSFzK3tYD5fJrZvsmXrGs1PoMaJV9UM1mmW0yHo899thA+hYnfx/FTGXVYFXLNzODLNKQAb1kyRJv3zLplcGtsgWFWn5W8bPPPuvV8fabb0CXmmmfv04QAzrfIK69x/wati4Y0KoRLSa1W6E6z1Ea0NK56jmrhrmuK8qGL1TrPW4D2jd3xU/muGpCS+f5TUa+aiDrRp/qNOsmRjWaSvboeqyyNTK3VSqpdtkarZMEA1o18HUjRJns0pxuQuk6rdJPKj2jLHIZ+9qrDH0aBCAAAQhAAALRE8CAjp45K0IAAhCAAAQSRSDsEhwyMPxSBPVlhQqIfubXWM1/qJnM0EMOOcT0ELB8s1AlO/SRc2UAbrTRRnWYBjGgGzKHVf9XJTZGjBhhF1xwQW5+ZYjLzGjIoNXP/UzySgxoPSzLzzhUFqT+rczsQYMGeSarPrKf33wTT7xGjRpVr87qM6BlDvvlUVRvNuhH+vXxf9WxLaWVyqUhA1rZ1H7WqR5ZDouSAAAgAElEQVTap7q4hVq++ZtfH1l9fQNaN0LEt5xWbgkOf+18A9rFEhx6HV144YVelq40WEi7YT+EUDcpVCZG1xNlNMug9Os814553CU4/PIW2ldDZVgGDx7sZUPrgYl6mKGazNf6HnqoutR+bepCOlfdcZXe0UNIdc3RtaD2w2H9cXGX4FD2t86tjHZ98kT16mu3/E+kVPL6LueawBgIQAACEIAABH4kgAGNEiAAAQhAAAIZJxD2QwgrNaD98Ogj8sr4VU1mZYfKJFHTw/+UZSkjJL+FbUArk66+j3RXy4CubX4Xk2qxMhX++PoMaD0s0M9gLsWAztdQJWVcGjpfVAZ0qcZ4/p7LfQhhIQNaN15U1kQ6V9a/HogXpOkBg3oopprMVWWGqimz++CDD/b+3VDmf+01/AfQVeMhhHEb0DKfdXNGetV1Q+Ua/Ic0FmIb90MI9XBE/7qmvUgHhZoyn2WWqyyKsoDV8l/jtcc0dF2R3lR+RzffdAPsP//5jw0cOLBe6cX9EML6SjfV3rBu1qnsTn5ZmiCvJ/pAAAIQgAAEIFAdAhjQ1eHILBCAAAQgAIHUElDWqz7erZqiqlusLM5yWn01oPPLUTSUfVZfCY5Ce9FH6GWQ6IFYytKTgaf6v/kfEQ/LgPZLcDRk4lSrBEfUBnS5JTjyY99Qlns5uvLHBC3BIf369bdrrxekBEclBrRMYxldehCdssdl4gdphQxojdttt91MGd0yf1VbWKUQijVlgN55551e3WA9JNDPaP/yyy+9Bwfqda4H2qlPsaYyDLo26Dzai8xIv+WXG8n/xEJDc8ZpQMt8lgH/j3/8wzOf9TBR35yvb8+TJk3ysmvVlDGtsh2FmrKFFWvV7Fa9er/p4Yz+pwjGjRtXb0ay/6DV2vW086+JDRnQqm+s2tAqz+HfmCsW20I/zzefNZfirVr3DbVKz1ho7lJqQKuEkkqoKNtbjOtrio1uXJbyuiyHIWMgAAEIQAACEChMAAMaZUAAAhCAAAQg4JVPUBkFZdC9/fbb1r1790BUVHfUN88qfQihXy9WBt7XX38daH0ZZHqAmDKOr7rqqhpZ0GEZ0HE9hDAIkEozoLWGX/u6lIcQyrjSAxFVi/nKK69s8OP9Qc5RqE+xswV5CKH/QL2GHkJYiQGtfau0gbJC9bpQRrT/IMGGzl2fAa1MZelNTeatbkg01FQjWA+AVKkRZS7ff//9Nborg/bBBx+05s2bew/dK1S6Jn/AxRdf7NU6V1Nm9bBhw3I/Vra8XmPKeK9tTte3x7gM6PyyG0HNZ51B1zedUWUeVPJG9cVrN2lfJr+uRbXrwutnqtUuRrpZpnJHtZse8Kc11GqXkNA4jdc8DZXgUMkY1TRXWaL33nuvrJdYftkNZT4/9thjRc1nLVTpGQttthQD2r8et2/f3vz68oXm1DMFlBWumwj55ZzKgsUgCEAAAhCAAARKJoABXTIyBkAAAhCAAATcI/Dhhx/a1ltv7ZkoMjGU1daxY8d6Dzpnzhyv9rIMmbZt23r96jOg9TP/QYcyKSdMmJDLyvQXUHan1p07d64NHz7c+zi532QuyzAr1JRxqvX1sXN9XP2kk07KdQvLgFZt5UMPPdQzGPVgrv79+9fYmvbbq1evXC3WcgxN35CMOgNaB1EdYplt2oMyC5XdGaT5mbe6IfDGG29Y586d6x2mj8JLC6W0Ygb0yJEjTR/H10Pl3nzzTdt0001rTC9ty5ydMmWKZ6TKUM1vPvNy4pU/j4zZLbfc0pRxrGx5vZb82ub1nbc+A1oGqB7aqdeWzqUSNPkmcP5833zzjVe7WsayslfHjx9fZ1299pQpKmNzs80280xLxatQU0bv3nvv7d1U0MMaVWPY36ffX6aob6qefvrp3sPeavfJnzsOAzo/81k1n5X53FDZjdos/Br5Yip+vlns9/N1J2N74sSJdW7e/epXv/LWVI1y1WdeddVVayzhXxuV3S4zWmVX8puy+WVMB3kIoW7iXXbZZaW8rLy+tc3nYmU3ai9Q6Rlrz1eKAa2a4n6N/vqyxPUpAt0kUav9e6JkWAyAAAQgAAEIQKAsAhjQZWFjEAQgAAEIQMA9Ag899JBnzMhwkimlTE5lUXbt2tU7rIycd99918uglEEss1hGdBADevr06Z7hpTEymv/0pz9Zv379vHnHjh1rRx99tGfOyJTUGvnmt7ILZW4q003Grm9Gq5zC2Wef7WVuK6P1v//9r+mj7H4Ly4AWH2XbyoxS1p3OIlNQBpQ+si8DXQas2KiVY2jGaUCrDIcMR9Xa1oMUlbkp/r5RqZsFKmOgB/+pDIPfZLj27t3bKxUhs0xmpAxMv2zErFmzvHIpMuN0w0DGbCmtmAGtMhEqwSKDWaUmFBc9jNDXxnHHHedlJEs/+ih+frkW7aNaBrTmUkkKrT1//nyvjq7qzqq8goxp6URNDF5//XXP8L/rrru87+U/hNBnI866yaGyLjJQZVjqLL6pPW/ePNNrV9m3ytTV/LpJcuCBBxbEq1rQuoGi17M4ycBTZrT/OtbNKGWK6zUuLeihl3qN+qU88ieVQa51pAe1bbfd1rsJJNNcmbt+k7EqU1N60b8begihTHvdQGioKYZBypHk13wWO529vjIa9a0nvirDoTjo+nL33Xd7N+t0HdANuBNPPNH7d321haVHXftk8m6//fbemG7dunlfK1Ne5qk4io1M/NpNZVR0zdQ+dINBcVHsVUpFNxBkUCvuuhYp+zmfe5DXl3SoTzvI9FWpF8VJ+yylVXpG3UjU+fwmvenaoSYtSBN+k4GvmzF+0+8WZfLrHPqZrjvSpP6tOVXn+6yzzvJei/r9ot8btU3+Us5KXwhAAAIQgAAEyiOAAV0eN0ZBAAIQgAAEnCSgP/xl9OmPdL81a9bMMyZkHsv0UJNZJ0NNxplvBjSUAa0xqtksE9k3GmTMqfk1S2WAqeRAbfMjP6NSZqKMBWVwqsyAvxdltckIym9hGdBaQ3WOZdLKlFKTISazVmfTv1X6QLVJ1VQTNkgZhvy9x2lAax8qgSJTUhnePmNxlyGpTGI1xVLGZ37TTQQZRzIx1RQvxVVZ4fm1aQcPHmyjR48u6TVUzIDWZDLgVONVpp2aYiL9ynzy4yQDfL/99quzdjUNaE2umxEyevPr0vo8ZIxqTzIe/X3JWJaJ7BvB+RuUea8s03zTXmfTf3pd+k1ZtsqW9esO1wdYGaEyLnWzwG+Kr+Lkv670/aFDh3o3DBoyNXUGZd1eeumluQfgaazK+eg1Lr3kz6ksdJXLGTJkSI3t+fENIopC2is0Tjc8/BrGuk4Vy7q//vrrC2ZH64aSbigoy1xN5rfOJOPU56RrV32f1JCpK+Pbf0CgWIuLdKCmGzwypuvLHtfrUA+W9GOt8TK9dR1Uk/msjP4+ffoEwVejjwx11QT3Xy+1M7RrT6gsfP/mYf7PKjlj/u+OYgcodENPZz/ooINy1ybN0aZNm9zrXl8r9rpelWquF9sPP4cABCAAAQhAIBgBDOhgnOgFAQhAAAIQyAwBmSLKKlb5BWWKqqSAjA4ZE8oElKEjM6x2/dhiBrQAKktWWX8yK1SPU4aLsiGVgXfKKacUzLKUUSnTQRm5yvTz63wqe1Nmwm9+8xsvI7F2C9OA1loyBVWCQMaTjDxl1YmNsu10Jt/skinrP8gsqIjiNqC1T91suPfee70MQj+jW2dUNqLMQ2kgP+PcP5tMTN2Y0MfhVU9c5TZkAisrWhnsGisDuNQsxCAGtPagmwDXXXedZzbpRopMQmlF6yqrv0uXLgXDUG0D2l9E+pVpp5s70on2p3IOMg2VEa1sYX3yoJg5qvn0OlAWrwxJvZbEWpnpMnWVhS9GmjtI02taDyLU61xlO3TTQXGSia3XlbJIlXEbtGm85lOpDn06QGatriUy1MVc5qjiXrtkjT9/GAZ0Kcam9lEoA93fn647ylIWr2nTpnnmv8q8yLxVyRrdXGioffLJJ9546UGxk4mt18Oxxx7rfdKkWNMYGfeqzaz11cRVN7p0863UzGd/PcVMBnjQ1tAnOso9Yylxqm99/W64+eabPb563euGl26c6nkGuiGj3xMdOnQIekz6QQACEIAABCBQZQIY0FUGynQQgAAEIAABCEBAJoiyR2VSKdM1/yPj0IEABCAAAQhAAAIQgAAEIJAlAhjQWYo2Z4UABCAAAQhAIHQCKkmgbFtlguoBfspYpEEAAhCAAAQgAAEIQAACEMgqAQzorEaec0MAAhCAAAQgUDYBfQz84YcftkMOOcR7QJjq3cp41gOzRowY4ZnOKumgfn4N2rIXYyAEIAABCEAAAhCAAAQgAIEUE8CATnHw2DoEIAABCEAAAvEQUH3hffbZJ7e46hnXfjCi6rWefPLJ8WyQVSEAAQhAAAIQgAAEIAABCCSEAAZ0QgLBNiAAAQhAAAIQSA+BGTNm2G233eaV2Zg8ebL3QEJlQOtBe3qA2/Dhw613797pORA7hQAEIAABCEAAAhCAAAQgEBIBDOiQwDItBCAAAQhAAAIQgAAEIAABCEAAAhCAAAQgAIGsE8CAzroCOD8EIAABCEAAAhCAAAQgAAEIQAACEIAABCAAgZAIYECHBJZpIQABCEAAAhCAAAQgAAEIQAACEIAABCAAAQhknQAGdNYVwPkhAAEIQAACEIAABCAAAQhAAAIQgAAEIAABCIREAAM6JLBMCwEIQAACEIAABCAAAQhAAAIQgAAEIAABCEAg6wQwoLOuAM4PAQhAAAIQgAAEIAABCEAAAhCAAAQgAAEIQCAkAhjQIYFlWghAAAIQgAAEIAABCEAAAhCAAAQgAAEIQAACWSeAAZ11BTh0/rXWWssWLlxonTt3duhUHAUCEIAABCAAAQhAAAIQgAAEIAABCMRHYOrUqbbKKqvYjBkz4tsEK6eaAAZ0qsPH5vMJtG7d2n744Qfr0qVL6sHISFfTBZ4GgaQRQJ9Jiwj7ySeAPtFDkgmgzyRHh72hTzSQZALoM8nRYW9Z0Ocnn3xiTZs2tQULFhBwCJRFAAO6LGwMSiKBTTbZxNvWhAkTkri9kvb07LPPev133nnnksbRGQJREECfUVBmjXIJoM9yyTEuCgLoMwrKrFEuAfRZLjnGRUEAfUZBmTXKJZAFfbrkt5QbZ8ZVRgADujJ+jE4QAZcuiFn4BZYg6bCVEgmgzxKB0T1SAugzUtwsViIB9FkiMLpHSgB9RoqbxUokgD5LBEb3SAlkQZ8u+S2RioPFcgQwoBGDMwRcuiBm4ReYM8LL4EHQZwaDnqIjo88UBSuDW0WfGQx6io6MPlMUrAxuFX1mMOgpOnIW9OmS35IiaTm1VQxop8KZ7cO4dEHMwi+wbKs13adHn+mOn+u7R5+uRzjd50Of6Y6f67tHn65HON3nQ5/pjp/ru8+CPl3yW1zXY1LPhwGd1Miwr5IJuHRBzMIvsJIDzIDEEECfiQkFGylAAH0iiyQTQJ9Jjg57Q59oIMkE0GeSo8PesqBPl/wWFBsPAQzoeLizaggEXLogZuEXWAgSYMqICKDPiECzTFkE0GdZ2BgUEQH0GRFolimLAPosCxuDIiKAPiMCzTJlEciCPl3yW8oKMoMqJoABXTFCJkgKAZcuiFn4BZYU3bCP0gmgz9KZMSI6AugzOtasVDoB9Fk6M0ZERwB9RsealUongD5LZ8aI6AhkQZ8u+S3RKYOV8glgQKMHZwhUckFcsWKF6b+ktDFjxnhb2XHHHZOyJaf20ahRI9N/tPIIZOENVnlkGJUEAugzCVFgD/URQJ9oI8kE0GeSo8Pe0CcaSDKBLOizEr8lybFjb9ERwICOjjUrhUyglAuizOYFCxbY/Pnz7bvvvrNly5aFvLvSpte+1Nq0aVPaQHoHJtCsWTNr3bq1tWvXzlZaaaXA4+holoU3WMQ5vQTQZ3pjl4Wdo88sRDm9Z0Sf6Y1dFnaOPrMQ5fSeMQv6LMVvSW8k2XmYBDCgw6TL3JESCHpBXL58uc2YMcPmzZsX6f5KWcw3xDFGS6FWXt8WLVpY586dMaFLwJeFN1gl4KBrwgigz4QFhO3UIIA+EUSSCaDPJEeHvaFPNJBkAlnQZ1C/JclxYm/xEsCAjpc/q1eRQNAL4pw5czwDWm311Vf3smCbN2+eqJIMZEBXURgFptJNiIULF9rMmTO97HdlQbdv3z7cRR2aPQtvsBwKV+aOgj4zF/JUHRh9pipcmdss+sxcyFN1YPSZqnBlbrNZ0GdQvyVzwefAgQlgQAdGRcekEwh6QZw8ebItXrzYMxxlPCaxYUBHExVlwX/xxRemchxdunSJZlEHVsnCGywHwpTZI6DPzIY+FQdHn6kIU2Y3iT4zG/pUHBx9piJMmd1kFvQZ1G/JrAg4eFECGNBFEdEhLQSCXBBV+/mDDz7wjtS1a1dr2rRpIo+HAR1NWJYuXWofffSRt1iPHj0SlQUfDYHyVsnCG6zyyDAqCQTQZxKiwB7qI4A+0UaSCaDPJEeHvaFPNJBkAlnQZxC/JckxYm/xE8CAjj8G7KBKBIJcEFV6YdKkSd6KG220kTVu3LhKq1d3Ggzo6vKsb7a06CEaGsFXycIbrOA06Jk0AugzaRFhP/kE0Cd6SDIB9Jnk6LA39IkGkkwgC/oM4rckOUbsLX4CGNDxx4AdVIlAkAtiWgxHDOgqiaLINGnRQzQ0gq+ShTdYwWnQM2kE0GfSIsJ+MKDRQFoIcP1MS6SyuU/0mc24p+XUWdBnEL8lLfFin/EQwICOhzurhkAgyAUxLYYjBnQIAikwZVr0EA2N4Ktk4Q1WcBr0TBoB9Jm0iLAfDGg0kBYCXD/TEqls7hN9ZjPuaTl1FvQZxG9JS7zYZzwEMKDj4c6qIRAIckFMi+GIAR2CQDCgqwY1C2+wqgaLiSIngD4jR86CJRBAnyXAomvkBNBn5MhZsAQC6LMEWHSNnEAW9BnEb4kcPAumigAGdKrCxWYbIhDkgogBXVxDCxcutFtvvdUeeeQRmzhxos2ZM8dWWWUV7yF9Q4YMsaOOOso6d+7sTXTBBRfYhRdeaHfccYcdfvjhxSdPWI+06CFh2CwLb7CSxpz9BCeAPoOzomf0BNBn9MxZMTgB9BmcFT2jJ4A+o2fOisEJZEGfQfyW4MTomUUCGNBZjLqjZw5yQUyL4RhXBvTLL79sP//5z23GjBnWsmVL22677axDhw42b948e/31123WrFnWvHlze/TRR23w4MEY0I6+loodKwtvsIox4OfJJYA+kxsbdmbcwEMEiSbA9TPR4cn85tBn5iWQaABZ0GcQvyXRQWJzsRPAgI49BGygWgSCXBAxoOun/fbbb1vfvn1t0aJFdsYZZ9h5553nZT77TeweeughO/300+3cc8/1Mp7JgK6WetM1TxbeYKUrIuw2nwD6RA9JJoA+kxwd9oY+0UCSCaDPJEeHvWVBn0H8FpQAgYYIYECjD2cIBLkgYkAXDveKFSts8803t/fee88zlUeMGFGvLpQNPW3aNNt0000xoJ159ZR2kCy8wSqNCL2TRAB9Jika7KU2AfSJJpJMAH0mOTrsDX2igSQTyII+g/gtSY4Re4ufAAZ0/DFgB1UiEOSCiAFdGPbjjz9uu+++u3Xq1MmmTJliTZo0CRSVhjKgv/nmG7v88su9rGkZ1irp0adPHzv55JNt6NChdeb/7LPPvP7PPPOMTZ8+3Vq0aGFrr722DRgwwBuz0UYb1RijOa+44grT3j///HNv/n79+tnZZ5/t/T9IS4segpwlyj5ZeIMVJU/Wqi4B9FldnsxWXQLos7o8ma26BNBndXkyW3UJoM/q8mS26hLIgj6D+C3VpcpsrhHAgHYtohk+T5ALYloMx6hrQA8fPtxuuukmO+mkk+yaa64JrKL6DGgZwgMHDrTJkyd7DyxUaQ/Vj37++edt2bJl3hpay28yk7fcckubPXu2devWzcvGVj+Z0ioNcvvtt9d4yOErr7xie+yxh/eARBnTir3m1/eVzX3PPffYAQccUPQcadFD0YNE3CELb7AiRspyVSSAPqsIk6mqTgB9Vh0pE1aRAPqsIkymqjoB9Fl1pExYRQJZ0GcQv6WKSJnKQQIY0A4GNatHCnJBTIvhGLUBrSzjsWPH2qhRo+yQQw4JLKH6DOg999zTe1DhQQcdZHfccYc1a9bMm/Oll16yXXbZxRYvXmzjx4/3TGc1lfy46KKLTEb4H/7whxrrT5061X744Qfr0qWL932x6dGjh3311Vd211132cEHH5zrrzmVXa3+Mr/XXHPNBs+SFj0EDkhEHbPwBisilCwTAgH0GQJUpqwaAfRZNZRMFAIB9BkCVKasGgH0WTWUTBQCgSzoM4jfEgJapnSIAAa0Q8HM+lGCXBCDGI7KoJ2/aGmsOBcsWOCt37p160D7aNOiiTVq1ChQ30KdNt54Y/vggw/siSee8AzioK2QAS3jV2Zxq1atvAzm1VdfvcZ0p5xyipcBfdRRR9mf//xn72fHH3+83XLLLV65jr322qvB5a+77jove1rzXHXVVXX6XnvttV7JjtpZ1oUmDaKHoCyy1C8Lb7CyFE/Xzoo+XYuoW+dBn27F07XToE/XIurWedCnW/F07TRZ0GcQv8W1uHKe6hLAgK4uT2aLkUCQC2IQw3He9z/YFhc+FeNJSl/6nRFDbdWVm5Y+8H8jqmlA33333XbYYYfZfvvtZ/fdd1+dPamkRq9evbzSGTK91f7yl794hnTPnj29us6DBw/2akAXaqpVrbrPytguVOtZWdDbbLON/fKXv7R77723QSZB9FA2VIcHZuENlsPhc/5o6NP5EKf6gOgz1eFzfvPo0/kQp/qA6DPV4XN+81nQZxC/xflAc8CKCGBAV4SPwUkiEOSCGMRwzKIBXc0SHHqQ4FlnnWWnnnqqXXnllXUkMnfuXFtttdW8DGk/01v1nlWu45///KfXX+azTORdd93VjjjiCFtrrbVy88ikfv/994tKTyb26NGjMaCLkiq9QxbeYJVOhRFJIYA+kxIJ9lGIAPpEF0kmgD6THB32hj7RQJIJZEGfQfyWJMeIvcVPAAM6/hiwgyoRCHJBxIAuDLuaDyEsZkDPmzfP2rZtW8OA9nf11ltv2cMPP2z6Bf7aa6/ZkiVLvDIkKg3iZzur/vOkSZO8DOtVVlmlXvWo35lnnokBXaXXV/40WXiDFQI2poyIAPqMCDTLlEUAfZaFjUEREUCfEYFmmbIIoM+ysDEoIgJZ0GcQvyUi3CyTUgIY0CkNHNuuSyDIBTGIAZ3FGtAqaaHSFp06dbIpU6ZYkyZNAkmsUA1ovwTHL37xi1xGc/5k77zzjvfwwfwSHIUW08MGNb9qOisbety4cV43ZTY/88wz3kMMt95660D7rK9TED1UtICjg7PwBsvR0GXiWOgzE2FO7SHRZ2pDl4mNo89MhDm1h0SfqQ1dJjaeBX0G8VsyEWwOWTYBDOiy0TEwaQSCXBDTYjjKfFVr06ZNJJhlum+22WY2YcIEz/QdMWJEvetqb9OmTTPxbughhMpcnjp1qpftnN9OO+007+GB+Q8hrG+xxYsX28orr+yV5Pjuu++8bqoRrczmc845xy655JKK+KRFDxUdMoTBWXiDFQI2poyIAPqMCDTLlEUAfZaFjUEREUCfEYFmmbIIoM+ysDEoIgJZ0GcQvyUi3CyTUgIY0CkNHNuuSyDIBTEthmPUBrRo6uGAffv2tUWLFnkG77nnnlujxIVM6kceecSr7Xz22Wfb4YcfXtCA1lzDhg2zxx57zA499FC77bbbrGnTHx+Q+Morr9iQIUO8NZTBrExotVGjRnkPJtx0001rBPahhx6yffbZx7p37+6V3VBTDWllT8+ZM8duvPFGz8hu3LhxbtzSpUu9DOmOHTvWma+2atKih6S93rPwBitpzNlPcALoMzgrekZPAH1Gz5wVgxNAn8FZ0TN6AugzeuasGJxAFvQZxG8JToyeWSSAAZ3FqDt65iAXxLQYjnEY0JLF2LFj7ec//7nNnDnTWrZs6RnSHTp0MNVtlmGs7ysb+dFHH7VBgwbVa0B//vnntv3223vlPNZbbz1vnlmzZtmYMWNMDxy8+uqr7eSTT84pce+99/ZqP3fp0sXLxFbWs8aqDnSjRo3s73//u6mkh99effVV23PPPe3rr7+2dddd1zOa9WDDGTNm2JtvvumZ1A8++KBp3oZaWvSQtJdsFt5gJY05+wlOAH0GZ0XP6Amgz+iZs2JwAugzOCt6Rk8AfUbPnBWDE8iCPoP4LcGJ0TOLBDCgsxh1R88c5IKYFsMxLgNa0vj222/t1ltv9bKdJ06c6GUat2rVyss63nXXXb2MY9WKVitUgsOX1zfffGOXXXaZKYtZJTtkaPfp08dOOeUUGzp0aA0VvvDCC169aBng6rtw4UJbZ511cv179+5dR7Uym1UfWpnWMqvV1l57bc+MVta0jHTtGwO6+i/4LLzBqj41ZoyKAPqMijTrlEMAfZZDjTFREUCfUZFmnXIIoM9yqDEmKgJZ0GcQvyUq3qyTTgIY0OmMG7suQCDIBREDGunkE0iLHpIWtSy8wUoac/YTnAD6DM6KntETQJ/RM2fF4ATQZ3BW9IyeAPqMnjkrBieQBX0G8VuCE6NnFglgQGcx6o6eOcgFMS2GY5wZ0I7Ko+Cx0qKHpMUkC2+wksac/QQngD6Ds6Jn9ATQZ/TMWTE4AfQZnBU9oyeAPqNnzorBCdTW57zvfrBVW/74HCRXWhC/xZWzco5wCGBAh8OVWWMgEOSCmBbDEQM6GgGlRQ/R0Ai+Cn8ABGdFz+gJoM/ombNicALoMzgrekZPAH1Gz5wVgxNAn8FZ0TN6Avn6vOzx9+3W5yfboB7t7bbDenvPNHKhBfFbXDgnZwiPAAZ0eGyZOWICQS6IaTEcMaCjEU9a9BANjeCr8AdAcFb0jJ4A+hXfvz4AACAASURBVIyeOSsGJ4A+g7OiZ/QE0Gf0zFkxOAH0GZwVPaMnkK/P9c98LLeBB/6vn2293mrRbyiEFYP4LSEsy5QOEcCAdiiYWT9KkAtiWgxHDOho1JwWPURDI/gq/AEQnBU9oyeAPqNnzorBCaDP4KzoGT0B9Bk9c1YMTgB9BmdFz+gJ+PocuMOO1vWcx3MbuPaALWyfXp2i31AIKwbxW0JYlikdIoAB7VAws36UIBfEtBiOGNDRqDkteoiGRvBV+AMgOCt6Rk8AfUbPnBWDE0CfwVnRM3oC6DN65qwYnAD6DM6KntET8PW5bf+BtsmIJ3MbuGivTezQvutHv6EQVgzit4SwLFM6RAAD2qFgZv0oQS6IaTEcMaCjUXNa9BANjeCr8AdAcFb0jJ4A+oyeOSsGJ4A+g7OiZ/QE0Gf0zFkxOAH0GZwVPaMn4Ouz17YDrNfFo3MbOG2Xjew3O3WNfkMhrBjEbwlhWaZ0iAAGtEPBzPpRglwQ02I4YkBHo+a06CEaGsFX4Q+A4KzoGT0B9Bk9c1YMTgB9BmdFz+gJoM/ombNicALoMzgrekZPwNdnz6372XaXPZPbwLEDN7Szdt84+g2FsGIQvyWEZZnSIQIY0A4FM+tHCXJBTIvhiAEdjZrToodoaARfhT8AgrOiZ/QE0Gf0zFkxOAH0GZwVPaMngD6jZ86KwQmgz+Cs6Bk9AV+fXbbY1na4ckxuAwf0Xteu2G/z6DcUwopB/JYQlmVKhwhgQDsUzKwfJcgFccWKFfbBBx94qLp27WpNmzZNJDYM6GjCsnTpUvvoo4+8xXr06GGNGjWKZuGUr8IfACkPoOPbR5+OBzjlx0OfKQ+g49tHn44HOOXHQ58pD6Dj2/f12WmTbWzotS/kTjuoR3v7y+HbOHH6IH6LEwflEKERwIAODS0TR00g6AVx8uTJtnjxYmvfvr21a9cu6m0GWg8DOhCmijvNmzfPvvjiC2vWrJl16dKl4vmyMgF/AGQl0uk8J/pMZ9yysmv0mZVIp/Oc6DOdccvKrtFnViKdznP6+lyz+9a2540v5Q6xRadV7eHhA9J5qFq7Duq3OHFYDhEKAQzoULAyaRwEgl4Q58yZYzNmzPC2uPrqq1vr1q2tefPmicp+xYAOV0EqvbFw4UKbOXOmLVu2zLsRoRsStGAE+AMgGCd6xUMAfcbDnVWDEUCfwTjRKx4C6DMe7qwajAD6DMaJXvEQ8PXZZsMtbb8/vpLbRMe2K9vYM3eOZ1NVXjWo31LlZZnOIQIY0A4FM+tHCXpBlPko43Hu3LmJRSZTVG2llVZK7B5d2ViLFi2sc+fOsC4hoPwBUAIsukZOAH1GjpwFSyCAPkuARdfICaDPyJGzYAkE0GcJsOgaGYHRE2fa3a98aj1azLO+azex5p03t4Nvey23frMmjW3SxbsmKtmtXDhB/ZZy52ec+wQwoN2PcWZOWMoFUbWgFyxY4P2nTFjf8E0KLDKgw4+Eym4o+13Zzxj9pfHmD4DSeNE7WgLoM1rerFYaAfRZGi96R0sAfUbLm9VKI4A+S+NF7/AJLFu+wrqc/Z/cQjfs1MJarbepHXHn+BqLv3vBUGvTIpnPniqFUil+Synz0jc7BDCgsxNr509ayQVRhrT+S0obM+bHJ+fuuOOOSdmSU/vQwwZ54GD5IeUPgPLZMTJ8AugzfMasUD4B9Fk+O0aGTwB9hs+YFcongD7LZ8fIcAgsXLzUNhnxZG7ys/s0s87dN7Xj/vpmjQWfOmmgde/QOpxNRDhrJX5LhNtkqQQTwIBOcHDYWmkEXLog8gartNjTO1oC6DNa3qxWGgH0WRovekdLAH1Gy5vVSiOAPkvjRe9oCaDPaHmzWnECcxYusV4Xj851PKN3M1una0874e9v1xh81S+2sP227lR8woT3cMlvSThqZ7eHAe1saLN3MJcuiLzByp5+03Ri9JmmaGVvr+gzezFP04nRZ5qilb29os/sxTxNJ0afaYpWNvY6c/4i2/b3z+QOe8rWzazD+j3s9AferQHgmIEb2tm7b5x6KC75LakPRkoPgAGd0sCx7boEXLog8gYLhSeZAPpMcnTYG/pEA0kmgD6THB32hj7RQJIJoM8kRyebe5s2+zvbfuRzucOf2KuZtevczc57eEINIEN7drA/Hdo79ZBc8ltSH4yUHgADOqWBY9sY0GgAAnER4A+AuMizbhAC6DMIJfrERQB9xkWedYMQQJ9BKNEnLgLoMy7yrFsfgY+/+tYGX/N87sfHbd7U1li3q13y2Ps1hvRYq7U9ceLA1IPEgE59CGM/AAZ07CFgA9Ui4NIFkTdY1VIF84RBAH2GQZU5q0UAfVaLJPOEQQB9hkGVOatFAH1WiyTzhEEAfYZBlTkrITDxi/m2+w0v5qb49SZNbY1OG9qVT06qMe0arZrb+HMHV7JUIsa65LckAmgGN4EBncGgu3pkly6IvMFyVaVunAt9uhFHV0+BPl2NrBvnQp9uxNHVU6BPVyPrxrnQpxtxdOkUb0+ba3vfNDZ3pAM3amprdlzPbnj24xrHbNzI7ONLd7fG+keKm0t+S4rDkOqtY0CnOnxsPp+ASxdE3mCh7SQTQJ9Jjg57Q59oIMkE0GeSo8Pe0CcaSDIB9Jnk6GRzb+OmzLb9b30ld/j9uzex1dbqbLe+MLkOkDfPG2Krr9Is1aBc8ltSHYgUbx4DOsXBY+s1Cbh0QeQNFupOMgH0meTosDf0iQaSTAB9Jjk67A19ooEkE0CfSY5ONvf20kdf2yF/eS13+J93a2Kt1+xkd778aR0go08aaN06tE41KJf8llQHIsWbx4BOcfDYOgY0GoBAHAT4AyAO6qwZlAD6DEqKfnEQQJ9xUGfNoATQZ1BS9IuDAPqMgzpr1iZw24uT7Y6xn9qhfdezbh1a2RF3js912adrE2ux+jp277ipdcDde/R21rdLu1QDxYBOdfgSsXkM6ESEgU1Ug4BLF0TeYFVDEcwRFgH0GRZZ5q0GAfRZDYrMERYB9BkWWeatBgH0WQ2KzBEWAfQZFlnmDUpg/qIfbPMLnsp1H7nf5nb6/e/mvv7Zhk2sSdsO9q83P68z5Y0H9bJhm68TdKlE9nPJb0kk4AxsCgM6A0HOyhFduiDyBisrqk3nOdFnOuOWlV2jz6xEOp3nRJ/pjFtWdo0+sxLpdJ4TfaYzbi7t+pNZ39qgq5/PHemMXXvYFU98kPt62AZNbGnLNeyJCTPqHPvCn21ih/VbP9U4XPJbUh2IFG8eAzrFwWPrNQm4dEHkDRbqTjIB9Jnk6LA39IkGkkwAfSY5OuwNfaKBJBNAn0mOTjb29u70ufazG8fmDntE/w3s9rFTcl/vtn4Tm9O4jb06eXYdIMfusKGdtdvGqQblkt+S6kCkePMY0CkOHlvHgEYDEIiDAH8AxEGdNYMSQJ9BSdEvDgLoMw7qrBmUAPoMSop+cRBAn3FQZ818Ai98OMsOvX1c7luDN+5gT78/M/f10PWa2NTFK9sHMxZ439ui06r2zvR53r8Hb9zebjtsm1QDxYBOdfgSsXkM6ESEgU1Ug4BLF0TeYFVDEcwRFgH0GRZZ5q0GAfRZDYrMERYB9BkWWeatBgH0WQ2KzBEWAfQZFlnmDUrg3+98Yb+7961c9406tLZJM380m9V6rNbYPpizPPf1UQM2sNte+jFDuvPqLe2F03cKulQi+7nktyQScAY2hQGdgSBn5YguXRB5g5UV1abznOgznXHLyq7RZ1Yinc5zos90xi0ru0afWYl0Os+JPtMZN5d2ffOYj23kE5NyR2rUyGzFivpP+MdDtrbj/vqGNWncyLqs2coe+90Aa7JS49QicclvSW0QUr5xDOiUB5Dt/0TApQsib7BQdpIJoM8kR4e9oU80kGQC6DPJ0WFv6BMNJJkA+kxydNzf24oVK2yDs/5T0kFfP2ewzfluia3fbhVr1iS9xrN/aJf8lpICSeeqEcCArhpKJoqbgEsXRN5gxa0m1m+IAPpEH0kmgD6THB32hj7RQJIJoM8kR4e9oU80ECeB6XO+swFXPFfSFj69fI+S+ie9s0t+S9JZu7o/DGhXI5vBc7l0QeQNVgYFnKIjo88UBSuDW0WfGQx6io6MPlMUrAxuFX1mMOgpOjL6TFGwHNzqx199a4OveT7wyfp3bWf3HLVd4P5p6OiS35IG3i7uEQPaxahm9EwuXRB5g5VREafk2OgzJYHK6DbRZ0YDn5Jjo8+UBCqj20SfGQ18So6NPlMSKEe3+dbUObbPzS8HPt3YM3e2jm1XDtw/DR1d8lvSwNvFPWJAuxjVjJ7JpQsib7AyKuKUHBt9piRQGd0m+sxo4FNybPSZkkBldJvoM6OBT8mx0WdKAuXoNl/4cJYdevu4QKeT8SwD2rXmkt/iWmzSch4M6LREin0WJeDSBZE3WEXDTYcYCaDPGOGzdFEC6LMoIjrESAB9xgifpYsSQJ9FEdEhRgLoM0b4LG33jptqZ/3rv4FIbNqxjT362+0D9U1TJ5f8ljRxd2mvGNAuRTPjZ3HpgsgbrIyLOeHHR58JD1DGt4c+My6AhB8ffSY8QBnfHvrMuAASfnz0mfAAOb69Y+4eb09NnBnolH02WN3+eWzfQH3T1MklvyVN3F3aKwa0S9HM+FlcuiDyBivjYk748dFnwgOU8e2hz4wLIOHHR58JD1DGt4c+My6AhB8ffSY8QI5v7xd/fNle/3ROoFNu320NG3XktoH6pqmTS35Lmri7tFcMaJeimfGzuHRB5A1WxsWc8OOjz4QHKOPbQ58ZF0DCj48+Ex6gjG8PfWZcAAk/PvpMeIAc397u179oE7+cH+iUQ3p2sD8f2jtQ3zR1cslvSRN3l/aKAe1SNDN+FpcuiLzByriYE3589JnwAGV8e+gz4wJI+PHRZ8IDlPHtoc+MCyDhx0efCQ+Q49vb6aoxNuXrhYFOuecW69gfDuwVqG+aOrnkt6SJu0t7xYB2KZoZP4tLF0TeYGVczAk/PvpMeIAyvj30mXEBJPz46DPhAcr49tBnxgWQ8OOjz4QHyPHt9bn0aftqweJAp9xv60521S+2CNQ3TZ1c8lvSxN2lvWJAuxTNjJ/FpQsib7AyLuaEHx99JjxAGd8e+sy4ABJ+fPSZ8ABlfHvoM+MCSPjx0WfCA+T49jYb8aQtWLzUO+WarZvbrAbM6EO262yX7L2Zc0Rc8lucC05KDoQBnZJAsc3iBFy6IPIGq3i86REfAfQZH3tWLk4AfRZnRI/4CKDP+NizcnEC6LM4I3rERwB9xsc+6ysvXrrMNjr3iRyGOw7fxn595+v1YjlqwAZ27rCezmFzyW9xLjgpORAGdEoCxTaLE3DpgsgbrOLxpkd8BNBnfOxZuTgB9FmcET3iI4A+42PPysUJoM/ijOgRHwH0GR/7rK989oP/tb+9NjWH4bWzB9mVT06y+9+YXhDN8J262qm7bOQcNpf8FueCk5IDYUCnJFBsszgBly6IvMEqHm96xEcAfcbHnpWLE0CfxRnRIz4C6DM+9qxcnAD6LM6IHvERQJ/xsc/6ynvc8KJN+GJ+DsOEC3exlZuuZJf+532bPOtbe27SrBqIThnS3X47qJtz2FzyW5wLTkoOhAGdkkCxzeIEXLog8gareLzpER8B9Bkfe1YuTgB9FmdEj/gIoM/42LNycQLoszgjesRHAH3Gxz7rK/e//Fn7fO73HoZmKzW2Dy/drQaS2g8oPGf3je3ogRs6h80lv8W54KTkQBjQKQkU2yxOwKULIm+wisebHvERQJ/xsWfl4gTQZ3FG9IiPAPqMjz0rFyeAPoszokd8BNBnfOyzvvK+N4+1N6fO9TBcd8CWtnevjjWQDBz5nE2d/V3uexfvtYn9qu/6zmFzyW9xLjgpORAGdEoCxTaLE3DpgsgbrOLxpkd8BNBnfOxZuTgB9FmcET3iI4A+42PPysUJoM/ijOgRHwH0GR/7rK+8101j7Z1pPxrQNxzYy362xTo1kAy99nn7cOa3ue+N3G9z27/3us5hc8lvcS44KTkQBnRKAsU2ixNw6YLIG6zi8aZHfATQZ3zsWbk4AfRZnBE94iOAPuNjz8rFCaDP4ozoER8B9Bkf+6yv/LMbX7J3p8/zMNx00Fa2x+Zr10CS/3P94Ppfbml7bVkzS9oFhi75LS7EI41nwIBOY9TYc0ECLl0QeYOFyJNMAH0mOTrsDX2igSQTQJ9Jjg57Q59oIMkE0GeSo+P23vIfQnjLwVvZbpvVNKD3/+MrNu7T2TkIt/5qa9tlk7Wcg+KS3+JccFJyIAzolASKbRYn4NIFkTdYxeNNj/gIoM/42LNycQLoszgjesRHAH3Gx56VixNAn8UZ0SM+AugzPvZZX3m361+097+c72EoZC7/6i+v2YsffZ3DdNcRfWyH7ms6h80lv8W54KTkQBjQKQkU2yxOwKULIm+wisebHvERQJ/xsWfl4gTQZ3FG9IiPAPqMjz0rFyeAPoszokd8BNBnfOyzvvIu175gk2Yu8DD8+dDeNqRnhxpIjr57vI2eODP3vb8fs51tt2E757C55Lc4F5yUHAgDOiWBYpvFCbh0QeQNVvF40yM+AugzPvasXJwA+izOiB7xEUCf8bFn5eIE0GdxRvSIjwD6jI991lcefM3z9vFXPz5k8PbDe9vOPWoa0L+99y175J0vcpge+k1/23Ldts5hc8lvcS44KTkQBnRKAsU2ixNw6YLIG6zi8aZHfATQZ3zsWbk4AfRZnBE94iOAPuNjz8rFCaDP4ozoER8B9Bkf+6yvvPPVY2zyrIUehjt+vY3ttFH7GkhOu+8du++N6bnvPXHi9tZjrTbOYXPJb3EuOCk5EAZ0SgLFNosTcOmCyBus4vGmR3wE0Gd87Fm5OAH0WZwRPeIjgD7jY8/KxQmgz+KM6BEfAfQZH/usr7zjlc/Zp99852G4+4g+NrBWfefzHnrPRr36WQ7TmFN3tPXXWMU5bC75Lc4FJyUHwoBOSaDYZnECLl0QeYNVPN70iI8A+oyPPSsXJ4A+izOiR3wE0Gd87Fm5OAH0WZwRPeIjgD7jY5/1lQeOfM6mzv7RgL7nqG2tf9c1aiAZ8fB7dtcrPxnQr541yNZatYVz2FzyW5wLTkoOhAGdkkCxzeIEXLog8gareLzpER8B9Bkfe1YuTgB9FmdEj/gIoM/42LNycQLoszgjesRHAH3Gxz7rK/e//Fn7fO73Hoa/Hb2t9etS04A++8H/2t9em5rDNOHCXWyV5k2cw+aS3+JccFJyIAzolASKbRYn4NIFkTdYxeNNj/gIoM/42LNycQLoszgjesRHAH3Gx56VixNAn8UZ0SM+AugzPvZZX7nfZc/YF/MWeRj+ccx2tu2G7WogOf3+d+yf43+qAT3lst2tUaNGzmFzyW9xLjgpORAGdEoCxTaLE3DpgsgbrOLxpkd8BNBnfOxZuTgB9FmcET3iI4A+42PPysUJoM/ijOgRHwH0GR/7rK+87e+ftpnzF3sY7juur22z/uo1kJz8j7ftX299nvvep5fv4SQyl/wWJwOUgkNhQKcgSGwxGAGXLoi8wQoWc3rFQwB9xsOdVYMRQJ/BONErHgLoMx7urBqMAPoMxole8RBAn/Fwz/KqNz77kf399Wk2fc6P5TfUHvi/frb1eqvVwDL8b2/ao+9+iQGdZbFw9kAEMKADYaJTGghgQKchSuzRBQL8AeBCFN09A/p0N7YunAx9uhBFd8+APt2NrQsnQ58uRDE9Z/hk1rc26Orn62z4od/0ty3XbVvj+8eOGm9PTpiJAZ2e8LLTmAhgQMcEnmWrTwADuvpMmREChQjwBwC6SDIB9Jnk6LA39IkGkkwAfSY5OuwNfaKBKAnc9uJku+Sx9+ss+e/h/W3zTjUN6Cfem2HH/fUNr2/Htivb2DN3jnKrka3lkt8SGTQWqkEAAxpBOEPApQsib7CckaWTB0GfTobVmUOhT2dC6eRB0KeTYXXmUOjTmVA6eRD06WRYE3uo3977lj3yzhd19vfobwfYph1XrfH9FStW2HF/fMqmf7vcrjy4v/Vcp01iz1XJxlzyWyrhwNjyCWBAl88ucSPfeOMNGz16tI0bN8777/PPfyyErwtiQ+3OO++0m2++2SZOnGjNmjWz7bbbzs4991zr169fvcPGjh1rl156qb366qu2ZMkS69mzpw0fPtwOPfTQesdMnz7dzjvvPHvyySdt9uzZ1rlzZzvwwAPtrLPOshYtWlTM06ULIm+wKpYDE4RIAH2GCJepKyaAPitGyAQhEkCfIcJl6ooJoM+KETJBiATQZ4hwmboOge1HPmvTZv9U+9nv8J/fbV/QYM6CPl3yW5B8PAQwoOPhHsqqe++9tz388MN15m7IgD7xxBPt+uuvt5VXXtmGDh1qixYtsmeeecYzre+//37TnLXbAw88YAcccIAtX77cBg4caGussYY3Zu7cuXbKKafYVVddVWfMxx9/bH379rWvv/7aNt10U8+wHj9+vE2ePNn69+/vjW/evHlFXFy6IGbhF1hFwWZwrATQZ6z4WbwIAfSJRJJMAH0mOTrsDX2igSQTQJ9Jjo5be/tq/iLr8/tnCh7qyRMH2kZrta7zsyzo0yW/xS3Fpuc0GNDpiVXRnV5xxRW2cOFC22abbbz/1l9/fVu8eHG9GdBPP/20DRkyxNq1a2evvPKKdevWzVtD/95xxx2tZcuWNmXKFGvb9qcaR8pc3mCDDWz+/PkmI3rffff1xsycOdMGDBhgMpqfe+45b3x+08+UNf273/3OM7zVli5davvvv789+OCDNmLECLvggguKnrGhDi5dELPwC6yiYDM4VgLoM1b8LI4BjQZSTIDrZ4qDl4Gto88MBDnFR0SfKQ5eBVtftnyFfThzgXXv0NpWatyogpmCD639UMH8kaNPGmjdOmBAB6dJTwj8RAAD2mE1qKxFQwb07rvvbo8//rhde+21pkzo/HbCCSfYDTfc4GUzK6vZbyNHjrQzzjjD9tprL3vooYdqjJGRLEN62LBh9sgjj+R+pnIg2267rbVv396mTp1aI9NZxvW6665rrVq1sq+++sqaNGlSdkQwoMtGx0AIlESAPwBKwkXniAmgz4iBs1xJBNBnSbjoHDEB9BkxcJYriQD6LAmXE53vfuVTO//hCd5Z+mywuv3z2L6RnGvvm8ba29PmFlzrmVN2sC5rtqrzsyzo0yW/JRIhsUgdAhjQDouiIQP6+++/t9VWW80zqKdNm2adOnWqQeLFF1/0ymvssMMONmbMmNzP9PULL7xgo0aNskMOOaTGGNWCXnXVHwvyz5kzJ1fXWdnNF110kR155JF222231SE+aNAg0wW7UOZ0KeFx6YKYhV9gpcSWvskigD6TFQ92U5MA+kQRSSaAPpMcHfaGPtFAkgmgzyRHp/p7W/TDMutx3hM1Jn75zJ1tnbYrV3+xWjPudv2L9v6X8wuuM+bUHW39NVbBgA49CizgIgEMaBej+r8zNWRAv/3229arVy9bc801vczj2k2lPJSVLJNaZTf8pnIc8+bNswkTJnh1nGs3lf5Qbed33nnHNt98c+/Hfm3qm266yY4//vg6Y0477TQv01qlOVSio9yGAV0uOcZBoDQC/AFQGi96R0sAfUbLm9VKI4A+S+NF72gJoM9oebNaaQTQZ2m80t571oLFts2lT9c4xtgzd7aOERjQg6953j7+6tuCCF84bSfr3K5lnZ9lQZ8u+S1pf32kdf8Y0GmNXIB9N2RA//vf//bKaMiEfvPNNwvOJvNZDxZUvefWrVt7//cznGVCt2nTps64ffbZxyvNofn33HNP7+dbbbWVvfXWW94DEn/2s5/VGSPjWSVATj75ZLv66qsDnKxwF5cuiFn4BVZ2oBkYOwH0GXsI2EADBNAn8kgyAfSZ5OiwN/SJBpJMAH0mOTrV39unXy+0Ha/66ZPYWuHF03eydVeva/5We/UdrnzOPvvmu4LTvnTGTtZpNQzoajNnvmwQwIB2OM4NGdB/+9vf7OCDD7b+/fvbSy+9VJCCynJ8/vnn3n/rrLOOffHFF9axY0ev7w8//FCwXrPKctxzzz3efwcddJDXt3v37vbRRx/Z6NGjbfDgwXXWUlmOo48+2vvvT3/6U9GI+EZz7Y6ffPKJrbXWWnb77bcXnSPpHZSBrrbKKnU/3pP0vbM/9wmgT/djnOYTos80R8/9vaNP92Oc5hOizzRHz/29o0/3Y5x/ws/mL7cLX11c49CXDWhuHVo2Lghi6fIV9uqXy6xpY7Nt1lrJGjcq/4GFp76wyGYvWlFwnasGNrfVW9TdQxb0ecQRR3j+hD4NT4NAOQQwoMuhlpIxGNApCVSBbWbhF1h6o8PO0ScaSDIB9Jnk6LA39IkGkkwAfSY5OuwNfWZLAx/MXmYjxy+pcehL+ze3tVcpbEA/O3Wp/fWDH7z+v9mimW3dYaWygZ045nubX3Pp3FxXD2xhq7Woa25nQZ8Y0GVLioH/I4AB7bAUKMGR3uDyEbP0xi4LO0efWYhyes+IPtMbuyzsHH1mIcrpPSP6TG/ssrBz9JmFKP94xmXLV1j/y5+1GfMX1Tj06JMGWrcOrQuCWP/Mx3Lfb9Oiib17wS5lA9viwqds3vc/mtm127hzBln71i3qfD8L+nSp5GnZ4mBgRQQwoCvCl+zBPIQw2fFpaHdZ+AWW3uiwc/SJBpJMAH0mOTrsDX2igSQTQJ9Jjg57Q5/Z0cA9r31m5zz4Xp0DP37C9rbx2nWfQ6WO+QZ025ZN7e3zh5YNrOf5T9h3S5YVHP/GuYOtXavmGNBl02VglglgQDsc/YYM6O+//970kMHFixfb9OnTc7WdfRwvvviiDRw40HbYYQcbM+an4v/6+oUXXrBRo0aZ6j3nN9WF9h9MOGfOHNP6aiNGjLCLLrrIjjzySFO959pt0KBBpjcUzz33nO24445lR8Sly8hKLAAAIABJREFUO3K8wSpbBgyMgAD6jAAyS5RNAH2WjY6BERBAnxFAZomyCaDPstExMAIC6DMCyAlZor6HAD762wG2acdVC+4y34DecI1V7NlTy/MV/jt9nu15Y+FnZGnht88fYm1bNsOATohW2Ea6CGBApyteJe22IQNaE+2+++72+OOP27XXXmsnnnhijblPOOEEu+GGG+yqq66yU045JfezkSNH2hlnnGF77bWXPfTQQzXGPPjgg7bvvvvasGHD7JFHHsn9bNy4cbbtttta+/btberUqda8+U93DGfOnGnrrruutWrVyvTvpk2blnTG/M4Y0GWjYyAESiLAHwAl4aJzxATQZ8TAWa4kAuizJFx0jpgA+owYOMuVRAB9loQr1Z27n/u4LVm6vM4Z/j28v23eqW2d7z//4Sw77PZxue9vs/5qdt9x/cpicPgd42zMpFn1jn1nxFBbdeW6nkUW9OmS31KWOBhUMQEM6IoRJneCYgb0008/bUOGDLF27drZK6+8Yt26dfMOo3/vtNNOtvLKK9uUKVOsbdufLvKzZ8+2DTbYwObPn28PPPCAZzirffXVV9a/f3/7+OOPC2YyDxgwwMaOHWsytq+77jpvzNKlS+2AAw6wf/3rX16W9AUXXFARTJcuiFn4BVZRsBkcKwH0GSt+Fi9CAH0ikSQTQJ9Jjg57Q59oIMkE0GeSo1O9vS1fvsI2PPs/BSd88Ph+1qvzanV+dvTd4230xJm57x/Qe127Yr/Ny9pUfiZ1oQneu3AXa9W8SZ0fZUGfLvktZYmDQRUTwICuGGFyJnjsscfs4osvzm1ImccrVqzwso/9dt5559kee+yR+1qZz9dff721bNnSM6OXLFlio0eP9sbdf//9tvfee9c5oIzn/fff3+ujkhkysGVmz507104++WS7+uqr64z56KOPrG/fvvbNN9/YZpttZj179rTXX3/dJk+ebP369fNKcORnRpdD1aULYhZ+gZUTY8YkgwD6TEYc2EVhAugTZSSZAPpMcnTYG/pEA0kmgD6THJ3q7W3edz/YFhc9VXDCB/6vr2293up1frb3TWPt7Wlzc98/sE9nu2zfzcraVDEDetIlu1rzJithQJdFl0FZJ4AB7ZAC7rzzTvv1r3/d4InuuOMOO/zww2v00bgbb7zR3n//fWvWrJltt912JqNaxnB9TdnMl1xyib366queaS1Defjw4XbYYYfVO2batGl2/vnn2xNPPGHKpO7cubMdeOCBdvbZZ+fqRVcSDgzoSugxFgLBCfAHQHBW9IyeAPqMnjkrBieAPoOzomf0BNBn9MxZMTgB9BmcVZp7fjV/kfX5/TMFj/DPY/tanw3qGtD73jzW3pz6kwG9f+9ONnK/LcrCUMyA/vTyn5L58hfIgj5d8lvKEgeDKiaAAV0xQiZICgGXLohZ+AWWFN2wj9IJoM/SmTEiOgLoMzrWrFQ6AfRZOjNGREcAfUbHmpVKJ4A+S2eWxhHTZn9n2498ruDW7z16O+vbpV2dn+181Rib/PXC3Pf33aqjXbP/liUfX5/w3uCswuU/NNkFe/a0w/tvUHDeLOjTJb+lZHEwoCoEMKCrgpFJkkDApQtiFn6BJUEz7KE8AuizPG6MioYA+oyGM6uURwB9lseNUdEQQJ/RcGaV8gigz/K4pW3Ux199a4Oveb7gtkcd2ceemjDTJn45387dY+NcPeitLh5tsxcuyY3Ze8t17Lpf9ir56It+WGY9znui3nF3/Hob22mj9hjQEyaUzJYBEBABDGh04AwBDGhnQslBEk6APwASHqCMbw99ZlwACT8++kx4gDK+PfSZcQEk/PjoM+EBqtL2Jnwxz/a44aWCs/1i60523xvTvZ+1bdnU3j5/qPfv7uc+bkuWLs+NGbb52nbjQVuVvKNvvl1sW1/ydG7c73buajc8+3Hu66dP3sG6tm+FAY0BXbK2GPAjAQxolOAMAQxoZ0LJQRJOgD8AEh6gjG8PfWZcAAk/PvpMeIAyvj30mXEBJPz46DPhAarS9t6aOsf2ufnl3GytmzexBYuXel+3aNrYFv3wk9GseszLlq+wLmfXLJux26Zr2S2HbF3yjmqX/9ADB/td9qx9s3CJrdayqY07Z7A1XakxBjQGdMnaYgAGNBpwjAAGtGMB5TiJJcAfAIkNDRszM/SJDJJMAH0mOTrsDX2igSQTQJ9Jjk719vbq5G/sl3961ZtwnVVbWOsWTW3SzAXe140bmS1f8dNaMqAXLl5qm4x4ssYGhvTsYH8+tHfJm/pk1rc26Oofy380W6mxfXjpbjb+09n26Ltf2j69OtoW67atd84s6NMlv6VkcTCgKgTIgK4KRiZJAgGXLohZ+AWWBM2wh/IIoM/yuDEqGgLoMxrOrFIeAfRZHjdGRUMAfUbDmVXKI4A+y+OWtlHPfzjLDrt9nLft9du1tJWbNbH3v5xf8BgyoL/+drH1ziuboY6DerS3vxy+TclH/2DGfNv1uhe9cas0W8kmXLRr4DmyoE+X/JbAgaVjVQlgQFcVJ5PFScClC2IWfoHFqRXWrowA+qyMH6PDJYA+w+XL7JURQJ+V8WN0uATQZ7h8mb0yAuizMn5pGT164kw7+u7x3nY36tDamjZpZO99Xr8BXbtshsbt0H1Nu+uIPiUf+b3P59mwP/xYfzq/xnSQibKgT5f8liAxpU/1CWBAV58pM8ZEwKULYhZ+gcUkE5atAgH0WQWITBEaAfQZGlomrgIB9FkFiEwRGgH0GRpaJq4CAfRZBYgpmOLRd7+w4X97y9vp5p1WtUZm9s70eQV3rgzoj2YusCHXvlDj5wO6rmF/PWrbkk/75tQ5tu//6k+v0aq5jT93cOA5sqBPl/yWwIGlY1UJYEBXFSeTxUnApQtiFn6BxakV1q6MAPqsjB+jwyWAPsPly+yVEUCflfFjdLgE0Ge4fJm9MgLoszJ+aRn9wBvT7ZT73vG223u91WzZihX21tS59RrQ+TWj/U59N2xn9x6zXclHfm3yN3ZAXv3pl88aFHiOLOjTJb8lcGDpWFUCGNBVxclkcRJw6YKYhV9gcWqFtSsjgD4r48focAmgz3D5MntlBNBnZfwYHS4B9BkuX2avjAD6rIxfWkbf89pnds6D73nb7d+1nS1Zutxe/3ROwe1P/v3udvidr9sLH86q8fM+669u/zyub8lHfumjr+2Qv7zmjVuvXUt7/rSdAs+RBX265LcEDiwdq0oAA7qqOJksTgIuXRCz8AssTq2wdmUE0Gdl/BgdLgH0GS5fZq+MAPqsjB+jwyWAPsPly+yVEUCflfFLy+g/Pv+JXf74B952d9t0LZu9cIm9NmV2we1/cPGu1uO8J+r8bKvObe1fx/cv+chPT5xpR/2v/nTX9q3s6ZN3CDxHFvTpkt8SOLB0rCoBDOiq4mSyOAm4dEHMwi+wOLXC2pURQJ+V8WN0uATQZ7h8mb0yAuizMn6MDpcA+gyXL7NXRgB9VsYvLaOvfPIDu+m5T7zt7t+7k02f8729/Mk3Bbf/zvlD7dDbX6tTI3qLTqvaw8MHlHTkr+Yvsj6/fyY3ZuO129jjJ2wfeI4s6NMlvyVwYOlYVQIY0FXFyWRxEnDpgpiFX2BxaoW1KyOAPivjx+hwCaDPcPkye2UE0Gdl/BgdLgH0GS5fZq+MAPqsjF9aRp/30Hs26tXPvO0eNWADmzRzgb340dcFtz/unEH2m3verFOiY9OObezR3wY3jzX57+59y/79zhe5dfQAxH+XYGJnQZ8u+S1peT24tk8MaNcimuHzuHRBzMIvsAxLNfVHR5+pD6HTB0CfToc39YdDn6kPodMHQJ9Ohzf1h0OfqQ9hoAOc+Pe37KG3fzSCTxrc3d6cOseer1Xj2Z/oxdN3smNGvWHvfzm/xtw91mptT5w4MNB6fqdeFz1lc777ocaYTy/fI/AcWdCnS35L4MDSsaoEMKCripPJ4iTg0gUxC7/A4tQKa1dGAH1Wxo/R4RJAn+HyZfbKCKDPyvgxOlwC6DNcvsxeGQH0WRm/tIw+8s7X7ZkPvvK2O2LPnl7287P/+7r2GZ47dUevBMe02d/X+FG39q1sdAn1mzV4m0uftlkLFmNANyAUl/yWtLweXNsnBrRrEc3weVy6IPIGK8NCTsHR0WcKgpThLaLPDAc/BUdHnykIUoa3iD4zHPwUHB19piBIVdji/re+YuP+99DBK/fb3CuLUV8JjtEnDbRf3PqKza2VubzhGqvYs6fuWNJu+l72jH05bxEGNAZ0Sbqhc2kEMKBL40XvBBPAgE5wcNiaUwT4A8CpcDp3GPTpXEidOhD6dCqczh0GfToXUqcOhD6dCme9h9n9+hdt4v9KavzxkK3sntem1mtA//nQ3nb03ePrzLVGq+Y2/tzBJQGjBEdxXC75LcVPS48wCGBAh0GVOWMh4NIFkTdYsUiIRQMSQJ8BQdEtFgLoMxbsLBqQAPoMCIpusRBAn7FgZ9GABNBnQFAp7zZw5HM2dfZ33in+euS2dusLn9RrQJ8wqJtd/8xHBU886ZJdrXmTlQLTGHLN8/bRV9/W6E8N6Jr4XPJbAguDjlUlgAFdVZxMFicBly6IvMGKU0msXYwA+ixGiJ/HSQB9xkmftYsRQJ/FCPHzOAmgzzjps3YxAuizGKF0//yHZcvt1PvesYf/9wBCnebB4/vZNaM/rNeAPmrABnbbS1O8g/8/e2cBLkX59v8v3d0Nh+7u7lIxMFARRREDRUVRUhpEDLALA+OngghKHbq7u5GU7j7xu2aOZzl7ds/Z2dmZnXme57vX9V5/2H3ivj/3530G7/+8M9qLB3efvIzY2DgOi99ohmK5MhmG8uDnK7D20HnP+IEdy+OZxhGG56vgp0z9FsOF5UBLCbABbSlOLuYkAZkORBUuYE66wr1DI0A/Q+PH2fYSoJ/28uXqoRGgn6Hx42x7CdBPe/ly9dAI0M/Q+Ll99icL9+HdObu9wpz3WhMM/WtHkg3oLnWK4pc1h/U5tYrlwL7TVzzPg572YkNULZLdcNrtPlyCXf9e1sffVaUAPni4GtKkSml4vgp+ytRvMVxYDrSUABvQluLkYk4SkOlAVOEC5qQr3Ds0AvQzNH6cbS8B+mkvX64eGgH6GRo/zraXAP20ly9XD40A/QyNn9tnNxyzAMcuXPcKc1W/lug7ZQuW7DntN/x7qhbUX1KofRqWyoX9p67i30txLxL89dl6qBuRy3DadUbOw6nLN/Xxv/Wsjzolchqeqw1UwU+Z+i1BFZeDLSPABrRlKLmQ0wRkOhBVuIA57Qv3N0+Afppnx5n2E6Cf9jPmDuYJ0E/z7DjTfgL0037G3ME8Afppnp0IMysOno2rt6K9Qt06pA0G/bkNfyZ4LEdSubQolxcHTl/BobNxz4/+oXsdNCmTx1DqMTGxKD1wFqJj4p7fMb9PU5TMk9nQ3PhBKvgpU78lqOJysGUE2IC2DCUXcpqATAeiChcwp33h/uYJ0E/z7DjTfgL0037G3ME8Afppnh1n2k+AftrPmDuYJ0A/zbNz+8zLN26j8pBInzAPjOqAE5duQLs7OtCnXcX8OHjmqv4caO3z1RO10LpCvkDT9N/PX72F6sPnesZuHtwG2TKmMTQ3fpAKfsrUbwmquBxsGQE2oC1DyYWcJiDTgajCBcxpX7i/eQL00zw7zrSfAP20nzF3ME+Afppnx5n2E6Cf9jPmDuYJ0E/z7Nw88/iF69Cev3zpRpRXmJnTpca2oW31775ZdhDD/96RbBqdqhXUG9Bbjl7Ux91foxDef6iaodS1ec3HLdLHpkwB7B/VASlSpDA0N36QCn7K1G8JqrgcbBkBNqAtQ8mFnCYg04GowgXMaV+4v3kC9NM8O860nwD9tJ8xdzBPgH6aZ8eZ9hOgn/Yz5g7mCdBP8+zcPHPUzJ34cskBnxDzZU2H1f1b6d9funEbVfzcIZ1w0kO1CuO3dUe91jk0pqOh1PecvIw2HyzRx6ZLnRK7R7Q3NC/hIBX8lKnfEnSBOcESAmxAW4KRi7iBgEwHogoXMDc4wxjMEaCf5rhxVngI0M/wcOYu5gjQT3PcOCs8BOhneDhzF3ME6Kc5bm6f9ewP6xC546RPmCXzZML8Ps083/+8+jC+XLLf84znxBO61iuGSav+CdiA3n/6ClYdOAvtkR25MqfTx28/fhEdJyzT/5zwzutg2Kngp0z9lmBqy7HWEWAD2jqWXMlhAjIdiCpcwBzWhduHQIB+hgCPU20nQD9tR8wNQiBAP0OAx6m2E6CftiPmBiEQoJ8hwHPx1OJvzfAbXdUi2THtxYY+vyU1/ulGJfRHdST8JL4D+tqtKNQbNV9/3Efj0rkx6em6+vAtRy/gno+X63/OnjENNg1uEzQxFfyUqd8SdIE5wRICbEBbgpGLuIGATAeiChcwNzjDGMwRoJ/muHFWeAjQz/Bw5i7mCNBPc9w4KzwE6Gd4OHMXcwTopzlubp514uJ11B/t/wWDjUrlxo/PxDWIE36SakC/0KwkPl2032ts4gb0nO3/ouek9Z4xe0e2R5pUKbH+n/N44LMV+ve5M6fDuoFxj/4I5qOCnzL1W4KpLcdaR4ANaOtYciWHCch0IKpwAXNYF24fAgH6GQI8TrWdAP20HTE3CIEA/QwBHqfaToB+2o6YG4RAgH6GAM+lU3ccv4QOE5b6je6+6oXwwcO+LxFMqgH9epsyGBe5x2utg6O9Xya4eM9pdJu4xjNm8RvNUCxXJqw+cBYPf7lK/75AtvRY2a9l0MRU8FOmfkvQBeYESwiwAW0JRi7iBgIyHYgqXMDc4AxjMEeAfprjxlnhIUA/w8OZu5gjQD/NceOs8BCgn+HhzF3MEaCf5ri5edaag+fw0Bcr/YbYs2kE+rUv7/NbUg3oTx6tgcgd/2LapuOeObtHtEO61Kk8f1+4+xSe+nat5+/VimRH3RI5of2/z/+0Qf++cI4MWPZmi6CxqeCnTP2WoAvMCZYQYAPaEoxcxA0EZDoQVbiAucEZxmCOAP00x42zwkOAfoaHM3cxR4B+muPGWeEhQD/Dw5m7mCNAP81xc/OsuTtOoscP6/yGOOiuCtCe65z4k1QDelbvxsiYNhWavrvIM2XLkDbImj6N5++ztp7wNJoTrlurWA6s++e8/lWJ3Jmw8PU7Lz80yk8FP2XqtxitK8dZS4ANaGt5cjUHCch0IKpwAXNQFW4dIgH6GSJATreVAP20FS8XD5EA/QwRIKfbSoB+2oqXi4dIgH6GCNCF0yevP4rXf9/sN7IPHq6K+6oXNtyAXvZmc/35zeUGzfbM0RrJWkM5/jN141G8+qv//eLHlM6bGXNfaxo0LRX8lKnfEnSBOcESAmxAW4KRi7iBgEwHogoXMDc4wxjMEaCf5rhxVngI0M/wcOYu5gjQT3PcOCs8BOhneDhzF3ME6Kc5bm6eNXHZQQz7e4ffEL/sWhNtKuY33IDWXhyYK1NalOg30zOnYsGsmPFyY8/ff1lzGP3+2JoskvIFskK7mzrYjwp+ytRvCba+HG8NATagreHIVVxAQKYDUYULmAuUYQgmCdBPk+A4LSwE6GdYMHMTkwTop0lwnBYWAvQzLJi5iUkC9NMkOBdP+2ThPrw7Z7ceYaVCWbHt2CVPtD8/UxcNSuX2if7b5Qcx9C/fpvX2oW2RKV1qJH5Ex4cPV8O91Qvp6yTX8I7fqErhbJjeq1HQ1FTwU6Z+S9AF5gRLCLABbQlGLuIGAjIdiCpcwNzgDGMwR4B+muPGWeEhQD/Dw5m7mCNAP81x46zwEKCf4eHMXcwRoJ/muLl51vuRuzFhwT49xPoRubDywFlPuH++2FB/OWDiz8lLN1B31Hyf7/eP6oBUKVP4NKC1gY1L59b/JyomFmNnxzW8k/rUKJodf7zQMGhsKvgpU78l6AJzgiUE2IC2BCMXcQMBmQ5EFS5gbnCGMZgjQD/NceOs8BCgn+HhzF3MEaCf5rhxVngI0M/wcOYu5gjQT3Pc3Dxr5Iwd+GrpQT3ENhXyIXLHSU+4s19pjHL5s/qEf/bKTdQcMc/r+zSpUmDvyA76d49+tQor9t9pZAebf50SOfFbz/rBToMKfsrUbwm6wJxgCQE2oC3ByEXcQECmA1GFC5gbnGEM5gjQT3PcOCs8BOhneDhzF3ME6Kc5bpwVHgL0MzycuYs5AvTTHDc3zxr451b8uOqwHuJdVQrg7y0nPOEmfoFg/A8Xr91G1WGRXmllSZ8aW4e01b/z93swDBqUzIWfe9QLZoo+VgU/Zeq3BF1gTrCEABvQlmDkIm4gINOBqMIFzA3OMAZzBOinOW6cFR4C9DM8nLmLOQL00xw3zgoPAfoZHs7cxRwB+mmOm5tnvf77Zkxef1QPsXvDEpi4PO5uaO2zdUgbZEmfxif8qzejUPHtOV7f58mSDmsHtNK/i46JRcn+d15EGGz+2qNAfnmWDWh/3GTqtwTrBcdbQ4ANaGs4chUXEJDpQOQ/sFwgFENIkgD9pBxuJkA/3VwdxkY/6YCbCdBPN1eHsdFP+Rx48ecNmPHfXc9925VFutSpMGnlIXRrUBxPNSzhN+GbUdEoO3C2129Fc2bEkr7NPd8lfhFhMORqFsuBKc83CGaKPlYFP2XqtwRdYE6whAAb0JZg5CJuICDTgajCBcwNzjAGcwTopzlunBUeAvQzPJy5izkC9NMcN84KDwH6GR7O3MUcAfppjpubZz3z/VrM23lKD/Htuysk2XROmENMTCwiEt3hXCZfZkS+2tQz7MWfNmDG1juP8wiGQeVC2fDXS42CmcIGdNC0OEFVAmxAq1p5CfNmA1rCojIlVxLgfwC4siwM6j8C9JMquJkA/XRzdRgb/aQDbiZAP91cHXOxPfb1KizfF/fCwDH3V8YjdYoaWqhEvxmIjb0ztErhbJje607T+PqtaLQbvwT/nL2W5HrDOlXE4GnbfX4vmy8L5rzaxFAcCQep4KdM/ZagC8wJlhBgA9oSjFzEDQRkOhBVuIC5wRnGYI4A/TTHjbPCQ4B+hoczdzFHgH6a48ZZ4SFAP8PDmbuYI0A/zXFz86xOnyzH5iMX9BDHP1INnaoVMhRuhcGzce1WtGdsnRI58VvP+l5z34/cjQkL9iW53hdda6LnpPU+v5fLnwWzX2ED2h84mfothkTjIMsJsAFtOVIu6BQBmQ5E/gPLKYu4rxEC9NMIJY5xigD9dIo89zVCgH4aocQxThGgn06R575GCNBPI5TEGtNg9Hwcv3hDD/rnZ+qiQanchhKoNWIezly56RnbpEwe/NC9jtfcj+bvxXtz9yS53s896uLRr1b7/N6wVC789AxfQsgGtCEVOShIAmxABwmMw91LgA1o99aGkclFgP8BIFc9ZcuGfspWUbnyoZ9y1VO2bOinbBWVKx/6KVc9tWc5lxk4C1Excc/SmPdaU5TKm9lQkk3GLsThc3cer9G2Yj580bWW19wvFu/H6Fm7klzvr16NcPfHy3x+792yNF5tXcZQHAkHqeCnTP2WoAvMCZYQYAPaEoxcxA0EZDoQVbiAucEZxmCOAP00x42zwkOAfoaHM3cxR4B+muPGWeEhQD/Dw5m7mCNAP81xc+uss1duouaIeZ7wtgxpg6zp0xgKt92HS7Dr38uesXdVKYCPH63hNXfisoMY9veOJNdb+HozNB+3yOv3YrkyYnbvJsiQNpWhONiADhoTJyhOgA1oxQWQKX02oGWqJnNxMwH+B4Cbq8PY6CcdcDMB+unm6jA2+kkH3EyAfrq5OsHHdvDMVU8DOGUKYP+oDkiRIoWhhe7/dDk2HI57drT2KZAtPVb2a+k198dV/2Dgn9uSXG/tgFaoPfJOA1wbqMWQSgvGxEcFP2Xqt5goMadYQIANaAsgcgl3EJDpQFThAuYOaxiFGQL00ww1zgkXAfoZLtLcxwwB+mmGGueEiwD9DBdp7mOGAP00Q829c7Ydu4i7Pop7BEaW9KmxdUhbw8F2+XIVVh446xmfKW0qbB/Wzmv+b2uPoO+ULUmuuWt4O5QbNNvr90NjOhqOIfFAFfyUqd9iutCcGBIBNqBDwsfJbiIg04GowgXMTe4wluAI0M/geHF0eAnQz/Dy5m7BEaCfwfHi6PASoJ/h5c3dgiNAP4Pj5fbRqw6cxSNfrtLD9HcHc3LxP/71aizbd8YzJG2qlNgzsr3XlD83HsMrv25KcpmDozvgm2UHMWLGTn1Mt/rFMLRTJdPYVPBTpn6L6UJzYkgE2IAOCR8nu4mATAeiChcwN7nDWIIjQD+D48XR4SVAP8PLm7sFR4B+BseLo8NLgH6Glzd3C44A/QyOl9tHz995Ek9/v04PU3v5oPYSQqOfbhPXYPGe057hJXJngvZM54SfvzYfx0u/bExySe1u5xu3ozFuzm5cuRmFN9qWRa7M6YyG4DNOBT9l6reYLjQnhkSADeiQ8HGymwjIdCCqcAFzkzuMJTgC9DM4XhwdXgL0M7y8uVtwBOhncLw4OrwE6Gd4eXO34AjQz+B4uX30tE3H0Pt/cXcoVy2SHdNebGg45O7frcWCXac84yc/Vx+1iuf0mj95/VG8/vtmv2sOv7cSutYrZng/IwNV8FOmfouRmnKM9QTYgLaeKVd0iIBMB6IKFzCHNOG2FhCgnxZA5BK2EaCftqHlwhYQoJ8WQOQSthGgn7ah5cIWEKCfFkB00RI/rz6M/lO36hE1LJULPz1Tz3B0z3y/DvN2nvSM9/fs5kkrD2HQtO0+a37yaA10rFLA8F5GB6rgp0z9FqN15ThrCbABbS1PruYgAZkORBUuYA6qwq1DJEA/QwTI6bYSoJ+24uXiIRKgnyEC5HRbCdBPW/Fy8RAJ0M8QAbps+tdLD3iev9yqfD583a2W4Qh7TlqHOduTb0B/teQARs6Me75zwg8b0IYx+wyUqd9ingJnhkKADehQ6HGuqwjIdCDyH1iuUovBJCK/Ukb8AAAgAElEQVRAP6mEmwnQTzdXh7HRTzrgZgL0083VYWz0Uy4Hvli8H6Nn7dKTal8pPz57vKbhBF/8aQNmbD3hGe/vDuhTl2+gwegFiIqJ9Vr3nQcq4+HaRQ3vZXSgCn7K1G8xWleOs5YAG9DW8uRqDhKQ6UBU4QLmoCrcOkQC9DNEgJxuKwH6aSteLh4iAfoZIkBOt5UA/bQVLxcPkQD9DBGgy6Z/umgfxs7erUelPRJDuzPZ6Ed7uaD2ksH4j78GtPbbwt2nsPrAOXy+eL9n7MCO5fFM4wijWxkep4KfMvVbDBeWAy0lwAa0pTi5mJMEZDoQVbiAOekK9w6NAP0MjR9n20uAftrLl6uHRoB+hsaPs+0lQD/t5cvVQyNAP0Pj57bZHy/Yi3GRe/Sw7qlaEBO6VDcc4qu/bsLUjccCNqDjB1R+ew4u34zS/zrvtSYolTeL4b2MDlTBT5n6LUbrynHWEmAD2lqeXM1BAjIdiCpcwBxUhVuHSIB+hgiQ020lQD9txcvFQyRAP0MEyOm2EqCftuLl4iESoJ8hAnTZ9A/n7cGH8/bqUd1fvRDef7ia4Qhnbj2BF37aoI/PkCYVdg5vl+zczUcuQLvjukHJ3OjWoLjhfYIZqIKfMvVbgqktx1pHgA1o61hyJYcJyHQgqnABc1gXbh8CAfoZAjxOtZ0A/bQdMTcIgQD9DAEep9pOgH7ajpgbhECAfoYAz4VT34/cjQkL9umRda5ZGOMerGo4ytjYWAyeth1bjl2E9kiN2sVzGp5r10AV/JSp32KXB1w3eQJsQNMQaQjIdCCqcAGTRjwFE6GfChZdoJTpp0DFUjBU+qlg0QVKmX4KVCwFQ6WfchX93Tm78MnCuGczP1yrCN7pXEXoBFXwU6Z+i9CyCRw8G9ACF4+hexOQ6UBU4QJGf8UlQD/FrZ0KkdNPFaosbo70U9zaqRA5/VShyuLmSD/FrZ2/yEfP2okvFh/Qf3q0blGMuq+y0Amq4KdM/RahZRM4eDagBS4eQ2cDmg6QgBMEVPgHlhNcuac1BOinNRy5ij0E6Kc9XLmqNQTopzUcuYo9BOinPVydWnXkjB34aulBffuu9Yph+L2VnArFkn1V8JMNaEtUUXoRNqCVLr9cyct0IKpwAZPLPrWyoZ9q1Vu0bOmnaBVTK176qVa9RcuWfopWMbXipZ9y1XvYXzswcXlcA/rJBsUx5J6KQieogp8y9VuElk3g4NmAFrh4DN2bgEwHogoXMPorLgH6KW7tVIicfqpQZXFzpJ/i1k6FyOmnClUWN0f6KW7t/EX+9rRt+H7lP/pP3RuWwOC7KwidoAp+ytRvEVo2gYNnA1rg4jF0NqDpAAk4QUCFf2A5wZV7WkOAflrDkavYQ4B+2sOVq1pDgH5aw5Gr2EOAftrD1alVB/65FT+uOqxv/2yTCPTvUN6pUCzZVwU/2YC2RBWlF2EDWunyy5W8TAeiChcwuexTKxv6qVa9RcuWfopWMbXipZ9q1Vu0bOmnaBVTK176KVe9+/2xFb+siWtAP9e0JN5qX07oBFXwU6Z+i9CyCRw8G9ACF4+hexOQ6UBU4QJGf8UlQD/FrZ0KkdNPFaosbo70U9zaqRA5/VShyuLmSD/FrZ2/yN+cvAW/rjui//Ri85J4oy0b0G6vsEz9FrezljU+NqBlrayCecl0IPIfWAoKLFDK9FOgYikYKv1UsOgCpUw/BSqWgqHSTwWLLlDK9FOgYhkItc9vmzFlw1F95MstS+O11mUMzHLvEBX8lKnf4l6T5I6MDWi566tUdjIdiCpcwJSSU7Jk6adkBZUsHfopWUElS4d+SlZQydKhn5IVVLJ06KdcBX31102YuvGYntSrrcqgd6vSQieogp8y9VuElk3g4NmAFrh4DN2bgEwHogoXMPorLgH6KW7tVIicfqpQZXFzpJ/i1k6FyOmnClUWN0f6KW7t/EX+8i8bMX3zcf2n19uUQa8WbEC7vcIy9VvczlrW+NiAlrWyCuYl04HIf2ApKLBAKdNPgYqlYKj0U8GiC5Qy/RSoWAqGSj8VLLpAKdNPgYplINQXf9qAGVtP6CP7tiuLF5qVMjDLvUNU8FOmfot7TZI7Mjag5a6vUtnJdCCqcAFTSk7JkqWfkhVUsnTop2QFlSwd+ilZQSVLh35KVlDJ0qGfchX0uUnrMXv7v3pS/TuUw7NNSgqdoAp+ytRvEVo2gYNnA1rg4jF0bwIyHYgqXMDor7gE6Ke4tVMhcvqpQpXFzZF+ils7FSKnnypUWdwc6ae4tfMXeY8f1mHujpP6TwM7lsczjSOETlAFP2Xqtwgtm8DBswEtcPEYOhvQdIAEnCCgwj+wnODKPa0hQD+t4chV7CFAP+3hylWtIUA/reHIVewhQD/t4erUqt2/W4sFu07p2799dwU81bCEU6FYsq8KfrIBbYkqSi/CBrTS5ZcreZkORBUuYHLZp1Y29FOteouWLf0UrWJqxUs/1aq3aNnST9Eqpla89FOuenebuAaL95zWkxreqSK61i8udIIq+ClTv0Vo2QQOng1ogYvH0L0JyHQgqnABo7/iEqCf4tZOhcjppwpVFjdH+ilu7VSInH6qUGVxc6Sf4tbOX+Rdv1mNpXvP6D+NvK8SHqtbTOgEVfBTpn6L0LIJHDwb0AIXj6GzAU0HSMAJAir8A8sJrtzTGgL00xqOXMUeAvTTHq5c1RoC9NMajlzFHgL00x6uTq366FersGL/WX37MfdXxiN1ijoViiX7quAnG9CWqKL0ImxAK11+uZKX6UBU4QIml31qZUM/1aq3aNnST9Eqpla89FOteouWLf0UrWJqxUs/5ar3Q1+sxJqD5/SkxnaugodqFRE6QRX8lKnfIrRsAgfPBrTAxWPo3gRkOhBVuIDRX3EJ0E9xa6dC5PRThSqLmyP9FLd2KkROP1Wosrg50k9xa+cv8s6frcC6f87rP73/UFXcX6Ow0Amq4KdM/RahZRM4eDagBS4eQ2cDmg6QgBMEVPgHlhNcuac1BOinNRy5ij0E6Kc9XLmqNQTopzUcuYo9BOinPVydWrX9+KXYeeKSvv1HXarj7qoFnQrFkn1V8JMNaEtUUXoRNqCVLr9cyct0IKpwAZPLPrWyoZ9q1Vu0bOmnaBVTK176qVa9RcuWfopWMbXipZ/y1PvExeuoP3qBJ6G/X2qESoWyCZ2gCn7K1G8RWjaBg2cDWuDiMXRvAjIdiCpcwOivuATop7i1UyFy+qlClcXNkX6KWzsVIqefKlRZ3Bzpp7i1Sxz59ysO4e3p2/WvU6dMge3D2iJd6lRCJ6iCnzL1W4SWTeDg2YAWuHgMnQ1oOkACThBQ4R9YTnDlntYQoJ/WcOQq9hCgn/Zw5arWEKCf1nDkKvYQoJ/2cHVi1fHz9uKDeXv0rSsVyoq/X2rsRBiW7qmCn2xAW6qMkouxAa1k2eVMWqYDUYULmJwWqpEV/VSjzqJmST9FrZwacdNPNeosapb0U9TKqRE3/ZSnzqNn7cQXiw/oCXWpUxSj768sfHIq+ClTv0V44QRNgA1oQQvHsH0JyHQgqnABo8PiEqCf4tZOhcjppwpVFjdH+ilu7VSInH6qUGVxc6Sf4tYuceSDp23DDyv/0b9+ulEJDLqrgvDJqeCnTP0W4YUTNAE2oAUtHMNmA5oOkIBTBFT4B5ZTbLlv6AToZ+gMuYJ9BOinfWy5cugE6GfoDLmCfQTop31sw73y679vxuT1R/VtX2pRCn3alA13CJbvp4KfbEBbro1yC7IBrVzJ5U1YpgNRhQuYvCbKnxn9lL/GImdIP0Wunvyx00/5ayxyhvRT5OrJHzv9lKfGL/60ATO2ntAT6tuuLF5oVkr45FTwU6Z+i/DCCZoAG9CCFo5h+xKQ6UBU4QJGh8UlQD/FrZ0KkdNPFaosbo70U9zaqRA5/VShyuLmSD/FrV3iyJ/6dg0W7j6tfz3k7gp4smEJ4ZNTwU+Z+i3CCydoAmxAC1o4hs0GNB0gAacIqPAPLKfYct/QCdDP0BlyBfsI0E/72HLl0AnQz9AZcgX7CNBP+9iGe+WHv1iJ1QfP6duOfaAKHqpdJNwhWL6fCn6yAW25NsotyAa0ciWXN2GZDkQVLmDymih/ZvRT/hqLnCH9FLl68sdOP+WvscgZ0k+Rqyd/7PRTnhp3+mQ5Nh+5oCc0oUt13FO1oPDJqeCnTP0W4YUTNAE2oAUtHMP2JSDTgajCBYwOi0uAfopbOxUip58qVFncHOmnuLVTIXL6qUKVxc2Rfopbu8SRdxi/FDtOXNK//vzxGmhXqYDwyangp0z9FuGFEzQBNqAFLRzDZgOaDpCAUwRU+AeWU2y5b+gE6GfoDLmCfQTop31suXLoBOhn6Ay5gn0E6Kd9bMO9cuv3F2PvqSv6tl8/UQutKuQLdwiW76eCn2xAW66NcguyAa1cyeVNWKYDUYULmLwmyp8Z/ZS/xiJnSD9Frp78sdNP+Wsscob0U+TqyR87/ZSnxs3HLcLBM1f1hL7vXgdNy+QRPjkV/JSp3yK8cIImwAa0oIVj2L4EZDoQVbiA0WFxCdBPcWunQuT0U4Uqi5sj/RS3dipETj9VqLK4OdJPcWr39rRtmLP9JF5vWxadaxb2CbzROwtw9Px1/fufn6mLBqVyi5NcEpGq4KdM/RbhhRM0ATagBS0cw2YDmg6QgFMEVPgHllNsuW/oBOhn6Ay5gn0E6Kd9bLly6AToZ+gMuYJ9BOinfWytXHn9P+fwwGcrPUseGtPRZ/m6o+bh5KWb+ve/P1cftYvntDIER9ZSwU82oB1RS6pN2YCWqpxqJyPTgajCBUxtW8XOnn6KXT/Zo6efsldY7Pzop9j1kz16+il7hcXOj36KUb8J8/fi/bl7PMHuGt4O6dOk8gq+5vC5OHv1lv7d1BcaoHrRHGIkl0yUKvgpU79FeOEETYANaEELx7B9Cch0IKpwAaPD4hKgn+LWToXI6acKVRY3R/opbu1UiJx+qlBlcXOkn2LUru/kzfht3VFPsEv7NkeRnBm9gq88ZA4u34jSv/v7pUaoVCibGMmxAa0T2L59u/D1YgLOEGAD2hnu3NUGAmxA2wCVS5KAHwL8DwBq4WYC9NPN1WFs9JMOuJkA/XRzdRgb/RTDgZbvLcL+03EvGNQ+U55vgJrFvO9wLj9oNq7fjtZ/n/NKE5TNn0WM5NiAZgNaeFOdTYANaGf5c3cLCbABbSFMLkUCiv8DiwKIS4D/gSpu7VSInH6qUGVxc6Sf4tZOhcjpp/urfON2NCoMno2Y2DuxfvtUbTQvm9cr+FL9ZyLqv0EL+jRFRJ7M7k8uQIQq+ClTv0V44QRNgA1oQQvHsH0JyHQgqnABo8PiEqCf4tZOhcjppwpVFjdH+ilu7VSInH6qUGVxc6Sf7q/d+n/O44HPVngF+mXXmmhTMb/nu9jYWJToN9Pzd3+P6HB/pr4RquCnTP0WER2TIWY2oGWoInPQCch0IKpwAaO24hKgn+LWToXI6acKVRY3R/opbu1UiJx+qlBlcXOkn+6v3Qdz92D8/L1egX7yaA10rFLA893t6BiUHjDL8/dV/Voif7b07k8uQIQq+ClTv0V44QRNgA1oQQvHsH0JyHQgqnABo8PiEqCf4tZOhcjppwpVFjdH+ilu7VSInH6qUGVxc6Sf7q/dy79sxPTNx70C/fDhari3eiHPd9duRaHC4Dmev68b2Aq5M6dzf3JsQEt1w5/wwgmaABvQghaOYbMBTQdIwCkC/A8Ap8hzXyME6KcRShzjFAH66RR57muEAP00QoljnCJAP50ib3zfez9Zjk1HLnhNGNu5Ch6qVcTz3cXrt1F1aKTn75sHt0G2jGmMb+LSkSr4KdMNfy7VSPqw2ICWvsTqJCjTgajCBUwdM+XLlH7KV1OZMqKfMlVTvlzop3w1lSkj+ilTNeXLhX66v6a1RszDmSs3vQIdeV8lPFa3mOe7VQfO4pEvV3n+vmNYW2RMm9r9yQWIUAU/Zeq3CC+coAmwAS1o4Ri2LwGZDkQVLmB0WFwC9FPc2qkQOf1Uocri5kg/xa2dCpHTTxWqLG6O9NOZ2sXExOKl/23EpsMXMPzeimhRLp/fQG5FxaDMwDvPdo4fNOTuCniyYQnPnBd/3oAZW054/r5nRHukTZ3SmeQs3FUFP2Xqt1hYei4VBAE2oIOAxaHuJiDTgajCBczdNjG65AjQT/rhZgL0083VYWz0kw64mQD9dHN1GBv9dMaB1QfO4uEEdywfHN0BKVKk8Apm6d7T+HXtEfydoLEcP+DNduWQOV0qXL4ZhW71i6P7d2ux+uA5z3x/6zmTaWi7quCnTP2W0KrN2WYJsAFtlhznuY6ATAeiChcw1wnEgAwToJ+GUXGgAwTopwPQuaVhAvTTMCoOdIAA/XQAOrc0TIB+GkZl6cBvlx/E0L92eNZc2rc5iuTM6Pm79siNBqMX4FZ0jN99KxXKim3HLum/9WldBj+vOYwTF2/of+9QOT8+faympfE6tZgKfsrUb3HKE9X3ZQNadQMkyl+mA1GFC5hE6imXCv1UruRCJUw/hSqXcsHST+VKLlTC9FOocikXLP10puS/rT2CvlO2eDb/q1cjVC6czfP3icsOYtjfdxrUwUQ58claST7SI5h13DBWBT9l6re4wRkVY2ADWsWqS5qzTAeiChcwSTVUIi36qUSZhU2SfgpbOiUCp59KlFnYJOmnsKVTInD66UyZE98B/ftz9VG7eE5PMJNW/YNBf24zFdyyN5ujcI47d1ObWsQlk1TwU6Z+i0u0US4MNqCVK7m8Cct0IKpwAZPXRPkzo5/y11jkDOmnyNWTP3b6KX+NRc6QfopcPfljp5/O1PjjBXsxLnKPZ/MfutdBkzJ59L/fjIrGa79t9nqpYDBRyvL8Zy1nFfyUqd8SjKccax0BNqCtY8mVHCYg04GowgXMYV24fQgE6GcI8DjVdgL003bE3CAEAvQzBHicajsB+mk7Ym4QAgH6GQK8EKa+M3sXPlu037PCl11rok3F/PrfX/nfRvy56bjP6mlTpUzymdDxg6sUzobpvRqFEJm7pqrgp0z9FnfZo040bECrU2vpM5XpQFThAia9kBInSD8lLq4EqdFPCYoocQr0U+LiSpAa/ZSgiBKnQD+dKe7b07bh+5X/eDaf0KU67qlaEFHRMSg9cBZiY33jqlo4GzYfvZhswE82KI4h91R0JikbdlXBT5n6LTYowCUNEGAD2gAkDhGDgEwHogoXMDGsYpT+CNBPeuFmAvTTzdVhbPSTDriZAP10c3UYG/10xoE+v23GlA1HPZuP7VwFD9Uqgr0nL6P1B0v8BvVQrcL4bd2dOf4G9WwSgX4dyjuTlA27quCnTP0WGxTgkgYIsAFtABKHiEFApgNRhQuYGFYxSjag6YBoBHh+ilYxteKln2rVW7Rs6adoFVMrXvrpTL2f+nYNFu4+7dl8eKeK6Fq/OP7afBwv/bLRb1B/v9QId320LNmAX2pRCn3alHUmKRt2VcFPmfotNijAJQ0QYAPaACQOEYOATAeiChcwMaxilGxA0wHRCPD8FK1iasVLP9Wqt2jZ0k/RKqZWvPTTmXp3+niZ1+M0BnQojx5NIvBe5G58tGCfT1AZ0qTC4r7NUGfk/GQDfr1NGfRqUdqZpGzYVQU/Zeq32KAAlzRAgA1oA5A4RAwCMh2IKlzAxLCKUbIBTQdEI8DzU7SKqRUv/VSr3qJlSz9Fq5ha8dJPZ+rdcMwCHLtw3bN5n9Zl8FLL0njt1034Y+Mxn6DGP1INLcrlReUhkckG3L9DOTzbpKQzSdmwqwp+ytRvsUEBLmmAABvQBiBxiBgEZDoQVbiAiWEVo2QDmg6IRoDnp2gVUyte+qlWvUXLln6KVjG14qWfztS7wuDZuHYr2rN5r+al8Hrbsuj6zWos3XvGK6hnm0Sgf4fyiI6JRcn+M5MNeMjdFfBkwxLOJGXDrir4KVO/xQYFuKQBAmxAG4DEIWIQkOlAVOECJoZVjJINaDogGgGen6JVTK146ada9RYtW/opWsXUipd+OlPviH4zEBN7Z++eTSPQr315tPtwCXb9e1n/IWPaVGhbMT8G31UBOTKl1b8rM3AWbkXFJBn0qPsq49G6RZ1JyoZdVfBTpn6LDQpwSQME2IA2AIlDxCAg04GowgVMDKsYJRvQdEA0Ajw/RauYWvHST7XqLVq29FO0iqkVL/0Mf72jomNQasAsr42fblQCg+6qgOJvzfB8//tz9VG7eE6vcVWHRuLi9dtJBv1u5yp4sFaR8Cdl044q+ClTv8UmDbhsAAJsQFMRaQjIdCCqcAGTRjwFE6GfChZdoJTpp0DFUjBU+qlg0QVKmX4KVCwFQ6Wf4S/69VvRKD94ttfG3eoXQ4WCWfHmlK2e7xe93gzFc2fyGld/9HycuHgjyaD5CI7w1zPUHWXqt4TKgvPNEWAD2hw3znIhAZkORP4Dy4WCMSQPAfpJGdxMgH66uTqMjX7SATcToJ9urg5jo5/hd+DitduoOsz7ZYLaYzN+Xn3YK5jtQ9siU7rUXt81GD0fxxM0oB+vVxQ/rrozb95rTVEqb+bwJ2XTjir4KVO/xSYNuGwAAmxAUxFpCMh0IKpwAZNGPAUToZ8KFl2glOmnQMVSMFT6qWDRBUqZfgpULAVDpZ/Gix4bG4sUKVIYn5DEyNOXb6L2yHlevz5YszB+X3/U67tDYzr6rFB+0Gxcv33n5YU7h7XDK79uxJztJzH6/sroUkee5z9ryavgp0z9lpD/l4MLmCLABrQpbJzkRgIyHYgqXMDc6BBjMkaAfhrjxFHOEKCfznDnrsYI0E9jnDjKGQL00xnu3NUYAfoZmNP5q7fQ7ds1uHDtNj59rAYqFcoWeFIyI45duI6GYxZ4jWheNg8W7j7t+S5nprTYMKi1zyqJX17or0kdUnAum6yCnzL1W1ymjzLhsAGtTKnlT1SmA1GFC5j8RsqbIf2Ut7YyZEY/ZaiivDnQT3lrK0Nm9FOGKsqbA/0MXNsBU7fip/8ej1EwW3qs6Ncy8KRkRhw8cxXNxy3yGlEufxbs+vey57tfn62HuhG5fFapNixSb4THf9iADqkUrpgsU7/FFUAVDIINaAWLLmvKMh2I/AeWrJbKkRf9lKOOsmZBP2WtrBx50U856ihrFvRT1srKkRf9DFzHGsPn4tzVW5Y1ffecvIw2Hyzx2jhL+tS4fCNK/65Q9gxY/lYLv4HN3HoCL/y0Qf9tYMfyeKZxROAEBB6hgp8y9VsEVk3o0NmAFrp8DD4hAZkORBUuYLRXXAL0U9zaqRA5/VShyuLmSD/FrZ0KkdNPFaosbo70M3Dt6o6ah5OXblrWgF64+xSe+nZtkhtXK5Idf77Y0O/vMTGxmL75OK7eikLnmoWRLnWqwAkIPEIFP2XqtwismtChswEtdPkYPBvQdIAEwk9AhX9ghZ8qd7SKAP20iiTXsYMA/bSDKte0igD9tIok17GDAP0MTLXx2AU4cu66JQ3oSav+waA/tyW7aesK+fDVE7UCB6bACBX8ZANaAZFtTpENaJsBc/nwEZDpQFThAhY+M7iT1QTop9VEuZ6VBOinlTS5ltUE6KfVRLmelQTop5U0uZbVBOhnYKIt31uE/aevhtyAPnX5BuqMnB9ww8fqFsXI+yoHHKfCABX8lKnfooKTbsyRDWg3VoUxmSIg04GowgXMVJE5yRUE6KcrysAgkiBAP6mGmwnQTzdXh7HRTzrgZgL0M3B1WoxbhANnQm9AT1l/FH1+3xxww1H3VcajdYsGHKfCABX8lKnfooKTbsyRDWg3VoUxmSIg04GowgXMVJE5yRUE6KcrysAg2ICmAwIS4PkpYNEUCpl+KlRsAVOln8kX7ci5a2g8dqHXoF3D2yF9muCfvVz8rRkBDcmUNhW2DGmLVClTBByrwgAV/JSp36KCk27MkQ1oN1aFMZkiINOBqMIFzFSROckVBOinK8rAINiApgMCEuD5KWDRFAqZfipUbAFTpZ/JF+2pb9dg4e7TXoPWDGiJvFnSB1Xt81dvofrwuQHn1C6eA78/1yDgOFUGqOCnTP0WVbx0W55sQLutIozHNAGZDkQVLmCmC82JjhOgn46XgAEkQ4B+Ug83E6Cfbq4OY6OfdMDNBOhn8tUpN2gWbtyO8Ro077WmKJU3c1BlXbLnNJ6YuCbgnOZl8+Dbp+oEHKfKABX8lKnfooqXbsuTDWi3VYTxmCYg04GowgXMdKE50XEC9NPxEjAANqDpgKAEeH4KWjhFwqafihRa0DTpZ/AN6D9eaIAaRXMEVfFpm46h9/82BZxzT9WCmNClesBxqgxQwU+Z+i2qeOm2PNmAdltFGI9pAjIdiCpcwEwXmhMdJ0A/HS8BA2ADmg4ISoDnp6CFUyRs+qlIoQVNk34mX7iyA2fhZpT3HdDfd6+DpmXyBFXx39YeQd8pW/Q52nOeM6RNjTNXbvqsob18UHsJIT9xBFTwU6Z+C711hgAb0M5w5642EJDpQFThAmaDAlwyTAToZ5hAcxtTBOinKWycFCYC9DNMoLmNKQL00xQ2TgoTAfqZPOhS/WciKibWa9D4R6qhU7VCQVXoh5WHMHjadn1Os7J58PUTtXDy8k00HLPAa52eTSLQr0P5oNaWebAKfsrUb5HZRTfnxga0m6vD2IIiINOBqMIFLKjicrCrCNBPV5WDwSQiQD+phJsJ0E83V4ex0U864GYC9DP56rR8bxH2n77qM+jQmI5BlfXLJfsxauYufU67ivnxedeaiIqOQdlBsxGdoME97sGq6FyzcFBryzxYBT9l6rfI7KKbc2MD2s3VYWxBEZDpQFThAhZUcTnYVQTop6vKwWDYgKYDAhHg+SlQsRQMlX4qWHSBUqafyRerydiFOHzums+g/aM6IFXKFH4na43l13/fjANnrmJ4p0qoWiQ7Jszfi/fn7jLjD90AACAASURBVNHH31utID58JO45z8XfmuG1xrI3m6NwjowCGWRvqCr4KVO/xV4buHpSBNiAphvSEJDpQFThAiaNeAomQj8VLLpAKdNPgYqlYKj0U8GiC5Qy/RSoWAqGSj/jiq41jZftO4NSeTN7NYDrjpqHk5d8n9W8dUgbZEmfxq8xf248hld+jXvhYMWCWTHj5cYYO3sXPl20X//ukdpFMOaBKn4b0MHeWS27sir4KVO/RXYf3ZofG9BurQzjCpqATAeiChewoAvMCa4hQD9dUwoG4ocA/aQWbiZAP91cHcZGP+mAmwnQz7jq9PtjC35ZcwQ5MqbBzN6NUSBbBv376sMicf7abZ8SrunfEnmzpvdb2gc/X4G1h857fpvQpTo2Hb6AicsP6t91q18MQztVYgPawP9iqOCnTP0WAyXlEBsIsAFtA1Qu6QwBmQ5EFS5gzljCXa0gQD+toMg17CJAP+0iy3WtIEA/raDINewiQD/tIst1rSBAP+MoJnwUhvaM5kfqFMGQ6dtx6Kzv4ze08Qtfb4YSuTP5LcFjX6/C8n1nvX67q0oB/L3lhP5dwhcNVh0aiYvX4xrcxXJlxOI3mltRVmnWUMFPmfot0ognWCJsQAtWMIabNAGZDkQVLmB0WVwC9FPc2qkQOf1Uocri5kg/xa2dCpHTTxWqLG6O9NO3AV0mX2bsOXkl2aJ+9UQtNC6dG+nTpPIZ99AXK7Hm4Dmv7wtmS4/jF2/o373csjRea11G//OCXSfR/bt1SJECmPpCQ1Qrkl1cmWyIXAU/Zeq32KAAlzRAgA1oA5A4RAwCMh2IKlzAxLCKUfojQD/phZsJ0E83V4ex0U864GYC9NPN1WFs9NO3AV0oewYcu3A9oBw5M6XFwj7NkC2j97Og249fip0nLiU5/8125fB8s5Ke3w+duYp0aVIi/rEfATdWaIAKfsrUb1FITVelyga0q8rBYEIhINOBqMIFLJRac66zBOins/y5e/IE6CcNcTMB+unm6jA2+kkH3EyAfgKxsbEo0W9mwDJlSZcal29GeY17skFxDLmnotd3ST03On7QmPsr45E6RQPuxwGACn7K1G+hs84QYAPaGe7c1QYCMh2IKlzAbFCAS4aJAP0ME2huY4oA/TSFjZPCRIB+hgk0tzFFgH6awsZJYSIgu59nrtzE7G3/omaxHChfIKsX1cs3buuP0IiOiUW5QbMDEi+cIwOOnve+M7p+RC788mw9z1xtv1oj5iW71pdda6JNxfwB9+MANqDpAAkYIcAGtBFKko9Zu3Yt3n33XSxbtgynT59GpkyZULlyZXTv3h1PPvkkUmgPekrwiY6OxoQJEzBx4kTs27cPmTNnRvPmzTF06FCUL18+SVp//fUXxo0bh40bN+pjatSogTfeeAMdO3a0hDAb0JZg5CIkEJCA7P8BEBAAB7iaAP10dXmUD45+Kq+AqwHQT1eXR/ngZPZTu7O58pBIXLkZhdQpU+DXnvX1RrT2+XTRPoydvRv5s6bHhC7VoT23OdCnRtHs2HD4gtewWsVyYPLzDTzffbXkAEbO3JnsUlOe1+LIGWg7/q49I3vBAp1DixYtpOUhU79F2iK5PDE2oF1eILvDmzJlCh5++GFoTWWtIVyqVCm9Cb106VJERUXh0UcfxU8//eQJIyYmBp07d8bUqVORPXt2tGzZEmfOnMGSJUuQIUMGLFy4EHXq1PEJ+8MPP8Srr76K1KlTo1WrVkiXLh0iIyNx/fp1fPTRR+jVq1fIqcp0IKpwAQu54FzAMQL00zH03NgAAfppABKHOEaAfjqGnhsbIEA/DUDiEMcIyOxn4mcxNy+bB98+Ffff1BUGz8a1W9H6n+tF5MSqA94vDfRXkLurFsRfm497/VS1cDZM69XI892YWbvw+eL9ydZz0evNUDx3JsdqLtLGMvsZXweZ+i0iuSVTrGxAy1TNIHPRGsyFChXCqVOn9Caz1myO/+zcuRONGjXCuXPn9P/fPO0OZ+3z9ddfo0ePHihdurTepM6XL5/+vdbI1hrTWgNbm6s1muM/u3fvhnZYad9pDer69evrP+3ZswcNGjTAxYsX9Tna3FA+Mh2IKlzAQqk15zpLgH46y5+7J0+AftIQNxOgn26uDmOjn3TAzQRk9rP4WzN80A++qwK6NyqBhL+lTAHExAau0jONSuDrZQe9BmqP9ZjVu7Hnu6+XHsCIGcnfAX1wdAef/2vowLurOUJmP+MrKlO/RU1Lnc+aDWjna+BYBNu2bdMftVG2bFns2rXLJ47evXvrj9p455130LdvX/33ChUq6M1i7Q7oe++912tOp06dMH36dEyePBkPPPCA57cXXngBn332GbT1tDuhE34++OADvPbaa/od0Nqd0KF8ZDoQVbiAhVJrznWWAP10lj93ZwOaDohLgOenuLVTIXL6qUKVxc1RVj+15zqX7O//xYKHxnT0akAbrd6b7crhndne/31fJl9mRL7a1LNE/KM9tC/uqlIA9UvmwoCp2zy/a3db/+/ZuBvH+AlMQFY/E2YuU78lcEU5wg4CbEDbQVWQNffu3YsyZcoEbEBrdz0//fTTOHjwICIiIvRHbWh3LadJk8Yr00mTJuGJJ55At27d8N1333l+K1asGA4fPqzfMa3dVZ3wc+TIERQtWhTamEOHDoVETqYDUYULWEjF5mRHCdBPR/Fz8wAE6CcVcTMB+unm6jA2+kkH3ExAVj+1Fwxqz3/299k2tC0qvT0nqLK0qZBPbyYP/WuH17xKhbLi75fu3AH9wdw9GD9/rz7mgRqF0bFKfnT/bp1nTtMyefB9d99HawYVjEKDZfWTDWiFJA5DqmxAhwGyW7fQnvus3f28f//+JB/Bob0QQXvRYM6cOfHnn3/ivvvuQ+3atbFmzRqftLZv345KlSqhevXq2LBhg/77hQsXkCNH3AsUrly5or/gMPEnT548+nOktaZ21qzeb/wNhh0b0MHQ4lgSME9AhX9gmafDmU4ToJ9OV4D7J0eAftIPNxOgn26uDmOT1c9ZW0/g+Z/i/ts58Wfyc/XR+fPALx2MnxeROxP+92w9zN150utuZu336kWzY+oLDT1bJHwGdJc6RfFWu3KoOuxOI7xK4WyYnuCZ0TQweQKy+pkwa5n6LfTZGQJsQDvD3TW7Ll++HHfddZfeKNZeQqg921l7JrR2t7L2uA3tTmatoax9tMdxaI/R0JrQf/zxh08OWgNZezGh1qw+e/as/vuWLVtQtWpVvQmtPU/a30dbf9OmTfpY7ZEgZj8yHYgqXMDM1pnznCdAP52vASNImgD9pB1uJkA/3VwdxkY/6YCbCcjo55Fz19B47MIksQ/rVBGDp203XJZ9I9sjdaqU+G3dEfSdvMVrXp3iOfHbc3ceqTHsrx2YuDzuOdFPNiiOIfdU9HrcR7n8WTD7lSaG91Z9oIx+Jq6pTP0W1X11Kn82oJ0i76J9tcav1lQ+cOCAJ6q0adPipZdewqBBg5AtWzb9+1GjRmHAgAF47LHH8OOPP/pkoL3UUHssh/Y/t27d0n9fsWIFGjZsqL/s8OjRo36z1h7LoTXCtf/RXkoY6BN/8CUep93JnT9/fkycODHQEq7//erVq3qM/u4Yd33wDFB6AvRT+hILnSD9FLp80gdPP6UvsdAJ0k+hyyd98DL6ufpEFL7YejvJ2jUplApLjkUbqm26VMBnLTPoY1ediMKXidYtnT0l+tVJ51nrhx23sOho3NrtiqfGQ2XSoHvkdc/vBTOlwIiG6Q3tzUGAjH4mrmv37t31/oT2f/nODwmYIcAGtBlqEs355Zdf8NRTT6FevXoYO3YstObu8ePHMW7cOHz55Zf6XdFaEzldunRsQIex7ipcwMKIk1tZTIB+WgyUy1lKgH5aipOLWUyAfloMlMtZSoB+WoqTi1lMQEY/lx+LwjfbvRvQpbKnxL4LMTq94llT4NClWL8kGxZMhd3nY3DmeixSpgBer5kW5XKm0seu+zcan26JuyEs/lMyWwoMqHunofzNtltYfjyuAX13RGrcV8q7AZ0/YwqMasQGtFGNZfQzce5sQBu1geOSIsAGtMJuaC8h1BrOefPmxa5du5A5c2YvGnfffTf+/vtvfPrpp3j++ef5CI4wuqLC/wlPGHFyK4sJ0E+LgXI5SwnQT0txcjGLCdBPi4FyOUsJ0E9LcXIxiwnI6OeklYcwKNEjNt55oDLenLI1IL2BHcvj6UYlEBsLpNQ60Ak+c3ecRI8f7rxQUPsp8TOdX/5lI6ZvPq7Per1NGfRqUdrrERzFcmXE4jeaB4yDA+IIyOhn4tryERy0PVQCbECHSlDg+cOHD8fgwYPx9NNP4+uvv/bJZNKkSXjiiSfwyCOPQLtTmi8hDF+xVbiAhY8md7KaAP20mijXs5IA/bSSJteymgD9tJoo17OSAP20kibXspqAjH5+vng/tJcBxn/uq14IPZtGoN2HSwPie6NtWbzYvJTfcYv3nEa3iWu8fitfICtm9W7s+a7npHWYs/2k/vcBHcqjR5MIrwZ04RwZsOzNFgHj4IA4AjL6mbi2bEDT9lAJsAEdKkGB5/fs2VN/zMZrr72G9957zyeT6dOno1OnTmjbti1mz56NgwcPIiIiAhkyZID2wkHtWc8JP/EN627duukvL4z/FCtWDIcPH9ZfbKg97znh58iRIyhatCi0MYcOHQqJpkwHogoXsJCKzcmOEqCfjuLn5gEI0E8q4mYC9NPN1WFs9JMOuJlAYj8/W7Rff4me9gK9pBqxbs5Hi+39uXswYf5eT5hbhrRB1vRp0HDMAhy7cOd5zP7y+PHpumhUOrffFFfsP4NHv1rt9VuZfJkR+WpTz3ddv1mNpXvP6H/XXnb4RP3iXg3ogtnSY0W/lm5H6Jr4VDg/Zeq3uEYcxQJhA1qxgidM9+2338awYcPQpEkTLF682IeE9gLCESNGQGtUf/755/rvFSpUwM6dOzF16lTce++9XnO0ZrXWtJ48eTIeeOABz28vvPACPvvsM/Tu3Rsffvih15wPPvhAb4D36tULH330UUjVkOlAVOECFlKxOdlRAvTTUfzcPAAB+klF3EyAfrq5OoyNftIBNxNI6Of1W9EoP3i2J9y1A1ohT5Y7L9hzcx4JYxs5Ywe+WnpQ/+rxekUx4t7K+p9f/30zJq8/mmwaB0d3QIoU3o/eiJ+w7tA5dP58pdf8iDyZsKBPM893bT9Ygt0nL+t//+yxGmhfuYBXAzpvlnRYM6CVKCgdj1OF81OmfovjwigaABvQihZeS3vDhg2oWbOmTiD+Oc/xOFatWoVWrVrpb3OdO3eu/mftoz2qo0ePHihdujSWLVumPz9a+/zxxx9607lUqVJ6gzp16tQesrt379afNa19t2jRIv2Fh9pHewZ1/fr19buptTna3FA+Mh2IKlzAQqk15zpLgH46y5+7J0+AftIQNxOgn26uDmOjn3TAzQQS+nnmyk3UGjHPE+7vz9VH7eI53Ry+39j6T92Kn1cf1n/r2SQC/TqU1//8fuRuTFiwL8l8Pn+8BtpVKpDk71uOXsA9Hy/3+j3xM50rvz0Hl29G6WOmvdgQVYtk92pA1yqWA5OfbyAcU6cCVuH8lKnf4pQnqu/LBrTiBrzxxhsYN26cTkE7ULQ7nI8fP46VK1ciJiYGzz77LL744gsPJe27zp0763dA58iRAy1btsSZM2f0O6jTp0+PhQsXom7duj5U4+901prQrVu3Rtq0aREZGYnr16/rLzd86aWXQq6ETAeiChewkAvOBRwjQD8dQ8+NDRCgnwYgcYhjBOinY+i5sQEC9NMAJA5xjEBCP49fuI4GYxZ4YgnUkHUs6AAbv/brJvyx8Zg+qnfL0ni1dRn9z1M3HsWrv25OcvZ3T9VGs7JxN4L5++w8cQntx3s/R7pQ9gxY/lYLnL96Cwt2nUKf3++sv7p/S+TLmh7TNh1D7/9tQuqUKTD7lcYolTeLW9G5Li4Vzk+Z+i2uE0iRgNiAVqTQyaWpNZO1R2ysX79evxs5S5YsqFatmn6nc5cuXXymRkdHY/z48Zg4cSL279+PTJkyoXnz5hg6dKjewE7q89dff+Hdd9/Fxo0b9SHVq1dH3759cdddd1lSBZkORBUuYJYUnYs4QoB+OoKdmxokQD8NguIwRwjQT0ewc1ODBOinQVAc5giBhH4ePHMVzcct8sQx4t5KeLxeMVviio2NTfJRF6Fu2OvnDfh7ywl9mYQvFbxxOxotxi3C8Ys3/G7xxwsNUKNojiS333/6Clq+5/2IzXxZ02HlWy1x98fLsP34Ja+5W4e0QZb0ce932nvyMrJlSIO8WdOHmp5S81U4P2Xqtyglp4uSZQPaRcVgKKERkOlAVOECFlq1OdtJAvTTSfrcOxAB+hmIEH93kgD9dJI+9w5EgH4GIsTfnSSQ0M9d/15Cuw/v3OE7sGN5PNM4wvLwZm09gUHTtqF60Rz44vGaSJnS/zOXzW78/I/rMWvbv/r0fu3LoWfTkp6lbkXF4OEvV2Lj4Qs+y+8a3g7p06RKctsj566h8diFXr/nzpwW/3u2Hlq9v8Rn3u4R7ZAuddLrmc1PpXkqnJ8y9VtUctNNubIB7aZqMJaQCMh0IKpwAQup2JzsKAH66Sh+bh6AAP2kIm4mQD/dXB3GRj/pgJsJJPQz8TOOX29TBr1alLY8/OJvzfCsOf6RauhUrZCle/T4YR3m7jipr+mviX4zKhor9p/Fpwv3Ye2h8/q4+2sUwvsPVUs2jrNXbqJmgmdkxw/Okj41Lt+Ie+5zwk9yLzS0NGGJF1Ph/JSp3yKxiq5OjQ1oV5eHwQVDQKYDUYULWDC15Vh3EaCf7qoHo/EmQD9phJsJ0E83V4ex0U864GYCCf1ce+gcHvx8pSfcXs1L4fW2ZS0PP2ED+ulGJTDorqQfN2lm8+7frdWfx6x9ht5TEd0aFPe7zLVbUfqjOnJmTIsW5fIGvBP7dnQMSg+YZSiktKlTYs+I9obGclDSBFQ4P2Xqt9BlZwiwAe0Md+5qAwGZDkQVLmA2KMAlw0SAfoYJNLcxRYB+msLGSWEiQD/DBJrbmCJAP01h4yQbCVy9GQXtOcmnr9zEQ0VvonCWlGjRogWW7T2Dx79Z7dm5R+MSGNDR2uawtnjCBnTPphHo1768pdl2/WY1lu49o69p9XOsE8aeXNBZ0qXG1qFtLc1LxcVUOD9l6reo6KgbcmYD2g1VYAyWEJDpQFThAmZJ0bmIIwTopyPYualBAvTTICgOc4QA/XQEOzc1SIB+GgTFYWEj8MHcPRg/f6++X+70KTC2SXq9AT1/50k8/f06Txxd6xXD8HsrWRpXVHQMSiW4i/jF5iXxRttylu7x6Fer9EdsaJ8x91fGI3WKWra+0QZ0rkxpsX5Qa8v2VXUhFc5PmfotqnrqdN5sQDtdAe5vGQGZDkQVLmCWFZ4LhZ0A/Qw7cm4YBAH6GQQsDg07AfoZduTcMAgC9DMIWBwaFgItxi3CgTNXPXtNbJNBb0BrLwd8/qcNnu8frFkY7z5Y1SumqRuPYtuxS9AenVEwe4ag47147TaqDov0zOvdsjRebV0m6HWSm/DQFyux5uA5fci7navgwVpFLFvfaAO6QLb0WNmvpWX7qrqQCuenTP0WVT11Om82oJ2uAPe3jIBMB6IKFzDLCs+Fwk6AfoYdOTcMggD9DAIWh4adAP0MO3JuGAQB+hkELA4NC4G7P1qGrccu+jSg/9x4DK/8usnz/d1VC+KjLtU9f0/4ksJW5fPi6261g4736PlraPTOQq95Vr+s74HPVmD9P3EvF/zw4Wq4t7p1LzmsPiwS56/dDph3sVwZsfiN5gHHcUDyBFQ4P2Xqt9BnZwiwAe0Md+5qAwGZDkQVLmA2KMAlw0SAfoYJNLcxRYB+msLGSWEiQD/DBJrbmCJAP01h4yQbCXT5chVWHoh7RIX2ebJCGgx5og1+XXsYb07Z6vm+dYV8+OqJWp6/v/jTBszYesLz90NjOgYd5Y7jl9BhwlKveV8/UQutKuQLeq2kJnT6eBk2H41rsGsNdK2RbtVn+/GL6DhhWcDlSufNjLmvNQ04jgOSJ6DC+SlTv4U+O0OADWhnuHNXGwjIdCCqcAGzQQEuGSYC9DNMoLmNKQL00xQ2TgoTAfoZJtDcxhQB+mkKGyfZQCAmJhbTNh/Dq79u9ll9ad/m+HvLCbwze5fntyZl8uCH7nU8f3/m+7WYt/OU5+9mGtCLdp/Ck9+u9dr/hWYl0beddc+B7jhhKbYfv6Tv8dljNdC+cgFLaR44fQUt3lsccE0zfAIuqtgAFc5PmfotiunpmnTZgHZNKRhIqARkOhBVuICFWm/Od44A/XSOPXcOTIB+BmbEEc4RoJ/OsefOgQnQz8CMOCI8BPw1f5PbuU6JnPitZ33PkK7frMbSvWdCakAnvstaW2xAh/Lo0STCMgjtPlyCXf9e1tf7smtNtKmY37K1tYViY2MR0X8mYmOTX5YN6NCxq3B+ytRvCb3iXMEMATagzVDjHFcSkOlAVOEC5kqJGJQhAvTTECYOcogA/XQIPLc1RIB+GsLEQQ4RoJ8Ogee2PgTGzNqFzxfvN0ymRtHs+OOFhp7xD3+xEqv/e7mf9qWZBuv4eXvxwbw9XjGM7VwFD1n4osCW7y3C/tNxL1n89snaaF4ur+GcjQ4sM3AWbkXFJDvcDB+j+6syToXzU6Z+iypeui1PNqDdVhHGY5qATAeiChcw04XmRMcJ0E/HS8AAkiFAP6mHmwnQTzdXh7HRTzrgFgIjZ+zAV0sPGg6nSuFsmN6rkWf8fZ8ux8bDFzx/N9Ng7ffHVvyy5rBXDJ88WgMdq1j3mIxm7y7EobPX9D20R4hojxKx+lOy/0xExyR9C3S7ivnxedeaVm+r3HoqnJ8y9VuUE9QlCbMB7ZJCMIzQCch0IKpwAQu94lzBKQL00yny3NcIAfpphBLHOEWAfjpFnvsaIUA/jVDimHAQ0J7v/Nki43dAl8ufBbNfaeIJrcP4pdhxIu7ZytrHTAO6+3drsWDXnedIa+tY/aLARu8swNHz1/UYf36mLhqUym053vKDZuP67WjPutoLG+fuOOn5+zfdaqFleeterGh5AoIsqML5KVO/RRCtpAuTDWjpSqpuQjIdiCpcwNQ1VfzM6af4NZQ5A/opc3XFz41+il9DmTOgnzJXV6zcgr0DumSeTJjfp5knyVbvL8a+U1dCakAnbmJri41/pBo6VStkGcz6o+fjxMUb+nq/PlsPdSNyWbZ2/ELVhkXiwrXbnnUfrFkYv68/6vn7j0/XRaPS1je+LU/E5QuqcH7K1G9xuU7ShscGtLSlVS8xmQ5EFS5g6hkqT8b0U55aypgJ/ZSxqvLkRD/lqaWMmdBPGasqZk5vT9uG71f+Yzj4ojkzYknf5p7xTcYuxOFzcY+20D5G74C+cjMKo2fuRFR0LP7echxXb925c1hb5/2HquL+GoUNxxVoYK0R83Dmyk192JTnG6BmsRyBpgT9e8I9tMld6xXDpFV32Govb9Re4shPaARUOD9l6reEVm3ONkuADWiz5DjPdQRkOhBVuIC5TiAGZJgA/TSMigMdIEA/HYDOLQ0ToJ+GUXGgAwTopwPQuaVfAv6ev5wcqgLZ0mNlv5aeIfVGzce/l+LuLNY+RhvQLd5bhAP/vRTQ337jHqyKzjWta0BXHxaJ8//dnTztxYaoWiS75UbUHjkPpy/HNbm1T4/GJbyer23XvpYn4vIFVTg/Zeq3uFwnacNjA1ra0qqXmEwHogoXMPUMlSdj+ilPLWXMhH7KWFV5cqKf8tRSxkzop4xVFTOnPr9txpQNdx4TESiL3JnTYt3A1p5hNYfPxdmrt4JqQB88cxXNxy1KdquxD1TBQ7WLBArH8O+Vh8zB5RtR+vi/X2qESoWyGZ5rdGCdkfNwKkEDulfzUvh44T7P9NmvNEa5/FmNLsdxSRBQ4fyUqd9CkZ0hwAa0M9y5qw0EZDoQVbiA2aAAlwwTAfoZJtDcxhQB+mkKGyeFiQD9DBNobmOKAP00hY2TLCaw699LeHf2bsxP9ALA5LbJmj41tgxp6xmSsLGrfWnkDuh35+zCJwuTf/HhmPsr45E6RS3LuMLg2bj232M+7GoE1x01Dycv3bkD+vU2ZTAuco8nh4WvN0OJ3Jksy0nVhVQ4P2Xqt6jqqdN5swHtdAW4v2UEZDoQVbiAWVZ4LhR2AvQz7Mi5YRAE6GcQsDg07AToZ9iRc8MgCNDPIGBxqC0EPl6w16s5anSTjGlTYcewdp7hZQfOws2oGM/fjTSg+/2xBb+sOZLsliPvq4TH6hYzGlay42JjY1Fm4Czcjo7Vx817rQlK5c1iydoJF0n8OJK32pfDmFm7PENWvNUCBbNnsHxf1RZU4fyUqd+imp9uyZcNaLdUgnGETECmA1GFC1jIBecCjhGgn46h58YGCNBPA5A4xDEC9NMx9NzYAAH6aQASh9hKoPhbM0ytnyZVCuwd2cEzN6LfDMTE9XX1j5EGdP+pW/Hz6sPJ7j/83kr6S/ys+Fy6cRtVhkR6llo7oBXyZElnxdJeayRuQA/oUB4jZ+70jFk3sBVyZ7Z+X8sTcfmCKpyfMvVbXK6TtOGxAS1tadVLTKYDUYULmHqGypMx/ZSnljJmQj9lrKo8OdFPeWopYyb0U8aqipPTragY/Y5gs5+DozsgRYoU+vTEjexADWijd14PvaciujUobjZEr3n7Tl1Gq/eX6N9pDfTdw9sjZcq4+K381B89Hycu3nkh4+Tn6qPz5yv1LbRHbyzo09TDzcp9VVtLhfNTpn6Lan66JV82oN1SCcYRMgGZDkQVLmAhF5wLOEaAfjqGnhsbIEA/DUDiEMcI0E/H0HNjAwTopwFIHGIbgTd+34zf1xt/8WDiQGa83AgVC8a9xC9xAzphczrxvH2nrqDV+4sN5TX4R4hcHQAAIABJREFUrgro3qiEobGBBi3bewaPf7NaH1YoewYsf6tFoCmmfm8wej6OJ2hAa834yO3/4sCZq7i/RiHkzZLe1Lqc5E1AhfNTpn4L/XWGABvQznDnrjYQkOlAVOECZoMCXDJMBOhnmEBzG1ME6KcpbJwUJgL0M0yguY0pAvTTFDZOsoDA2Ss3UXPEPL8rZU6XGg1K5kLkjpPJ7tSsbB5891QdfUziBvS+ke2ROlVKv/O1x25oj98w8hnYsTyeaRxhZGjAMS//shHTNx/Xx1Uvmh1TX2gYcI6ZAQ3HLMCxC9c9UwPdDW5mD84BVDg/Zeq30FlnCLAB7Qx37moDAZkORBUuYDYowCXDRIB+hgk0tzFFgH6awsZJYSJAP8MEmtuYIkA/TWHjJAsIbD5yAZ0+We53pW+61dLvbK43en6yO2XLkAab324D7eV+JfrN9Bq7e0Q7pEudyu/85yatx+zt/xrKon+Hcni2SUlDY5MblPiu6/aV8uOzx2uGvK6/BdiAtgWrz6IqnJ8y9VvCYwV3SUyADWg6IQ0BmQ5EFS5g0oinYCL0U8GiC5Qy/RSoWAqGSj8VLLpAKdNPgYolWaiL95xGt4lr/Ga1Y1hb/fsKg+ckm3W1Itnx54sN4e9Z0toaGdOm9pl/43Y0yg2abZjmW+3L4bmmoTegO05Yiu3HL3n2faxuUYy8r7LhOIIZ2OidBTh6nndAB8PMzFgVzk+Z+i1masw5oRNgAzp0hlzBJQRkOhBVuIC5RBuGYYIA/TQBjVPCRoB+hg01NzJBgH6agMYpYSNAP8OGmhslIjBt0zH0/t8mHy5Z06fGliFtERMTi4j+3nc1a4O1ZvDni/fr86oWzoZpvRrh4vXbqDo00mutrUPaIEv6ND7rrzt0zvNCPiNFeaNtWbzYvJSRoUmO8ZfLsE4V8UR9a15umHhjNqBDKpfhySqcnzL1WwwXlgMtJcAGtKU4uZiTBGQ6EFW4gDnpCvcOjQD9DI0fZ9tLgH7ay5erh0aAfobGj7PtJUA/7eXL1ZMm8P2KQ3h7+nafAXmypMPaAa307xM/17lc/ix4pVVpPPfjBv338gWyYlbvxjh16QbqjPJ+XMemwa2RPWNan/Xn7jiJHj+s8/l+eKeK+jOntbupo2Jisf6f8/qYPq3L4KWWpUMq5anLN1BnpHd8STXIQ9rov8mNxy7AkXO8A9oKlsmtocL5KVO/xW4fuL5/AmxA0wxpCMh0IKpwAZNGPAUToZ8KFl2glOmnQMVSMFT6qWDRBUqZfgpULMlCHT9vLz6Yt8cnq8I5MmDZmy38NqDXDGiJbccuovt3cQ3kUnkzY95rTfHP2ato+u4ir7XWD2yFXJnT+aw/Zf1R9Pl9s8/3Xz1RC60r5NO/f/XXTZi68Vjcn1uVQe9WoTWg52z/Fz0nrffsWbdETvzas75tFW0ydiEOn7vmWZ8vIbQHtQrnp0z9Fnss4KqBCLABHYgQfxeGgEwHogoXMGHEYqA+BOgnpXAzAfrp5uowNvpJB9xMgH66uTpyxzZk+nZ8t+KQT5IReTJhQZ9mPg3oxqVzY9LTdbF072l0/Sbu2dHFcmXE4jeaY9e/l9Duw6Vea2nN6rxZ0vus/+3ygxj61w7f75+sjebl8urf9/ltM6ZsOKr/+eWWpfFa6zIhFSNhQ1tbSHtutfb8ars+Xb5chZUHznqWZwPaHtIqnJ8y9VvssYCrBiLABnQgQvxdGAIyHYgqXMCEEYuB+hCgn5TCzQTop5urw9joJx1wMwH66ebqyB1b4qZsfLbxj9XQ/p7wERwNS+XCT8/Uw6oDZ/HIl6v04QWzpceKfi2x6cgF3PvJci9gK/u1QIFsGXwgjp65E18sOeD1vbbOwjeaIV3qVPr3fSdvxm/r4hrQL7UohT5tyoZUjJ6T1mHO9pP6GhnTpsKOYe1CWi/QZK0hf89Hy3ErOgZ2Pms6UByy/67C+SlTv0V2H92aHxvQbq0M4wqagEwHogoXsKALzAmuIUA/XVMKBuKHAP2kFm4mQD/dXB3GRj/pgFMEnvx2DRbtPu2zffxLCLUfEjagm5TJgx+619GfzfzAZyv0ebkzp8O6ga2wcv9ZdPkqrikd/1n2ZnMUzpHRZ/1m7y7EobNxj6d4rG5RPFq3KErkzoSMaVN7xr41ZQv+t/aI/vcXmpVE33blfNbRXiy46egFFMyWAfmz+d5pnXBC9+/WYsGuU/pX4WoIHzpzFReu37b1Tmun3HHLviqcnzL1W9zijWpxsAGtWsUlzlemA1GFC5jEKkqfGv2UvsRCJ0g/hS6f9MHTT+lLLHSC9FPo8gkd/D0fL8OWoxf95hD/yIhnP5uDyH+i9DGzX2mMcvmzYuvRi7j742X6d9kypMHmt9tg4a5TeOq7tV5rLX6jGYrlyuSzfqW35+DKzbg1B3Qojx5NInzG9J+6FT+vPqx//1zTknirvW8D+uMFezEucg/SpEqh35ldp0TOJOvx+NersWzfGf330fdXRpc6RYWuHYOPI6DC+SlTv4XeOkOADWhnuHNXGwjIdCCqcAGzQQEuGSYC9DNMoLmNKQL00xQ2TgoTAfoZJtDcxhQB+mkKGyeFSODyjduoOXye/ogIf5/4BvSMyPlYdSIabRpUR+PSefShCZ/3HP84i1lbT+D5nzZ4LaW9nFB7SWHCz82oaJQdONvz1Yq3WqBgdt/HdAz8cyt+XBXXgH62SQT6dyjvtU50TCyqDYvE5RtxjewGJXPh5x71kqTy0BcrsebgOf33cQ9WReeahUMkyOluIKDC+SlTv8UNzqgYAxvQKlZd0pxlOhBVuIBJqqESadFPJcosbJL0U9jSKRE4/VSizMImST+FLZ3QgW8/fhEdJ8TdxezvE9+A9ufn/tNX0PK9xZ5pf7zQAG9O3oK9p654LRV/x3TCL09euoG6o+Z7vto1vB3Sp4l77nPCz9vTtuH7lf/oXz3dqAQG3VXB6/d/L95AvdF31imUPQOWv9UiyXzu+3Q5Nh6+oP8+/pFq6FStkND1Y/BxBFQ4P2Xqt9BbZwiwAe0Md+5qAwGZDkQVLmA2KMAlw0SAfoYJNLcxRYB+msLGSWEiQD/DBJrbmCJAP01h46QQCST1AsL4ZZNrQB85dw2Nxy4MGMFfvRqhcuFsXuN2HL+EDhOW6t8l9zLAIdO347sVh/RxTzUsjrfvrui1zsEzV9F83CLPd7kzp8W6ga2TjOmuj5Zi27FL+u+fP14D7SoVCBg/B7ifgArnp0z9FvcbJWeEbEDLWVcls5LpQFThAqakpJIkTT8lKaSkadBPSQsrSVr0U5JCSpoG/ZS0sC5PK+HLBROHmvAOYX9+Jr77OKlUpzzfADWL5fD8rL00cPXBc56XFRbMlh4r+rX0O3343zvwzbKD+m/d6hfD0E6VvMYlbGTH/zDqvsp4uHYRpEqZwmfNth8swe6Tl/Xvv+lWCy3L53N5hRieEQIqnJ8y9VuM1JRjrCfABrT1TLmiQwRkOhBVuIA5pAm3tYAA/bQAIpewjQD9tA0tF7aAAP20ACKXsI0A/bQNLRdOhkByDeg1/Vsib9b0+mx/fp69chM1R8wLyPfXZ+uhbkQufdyklYfwzuzdSJs6Jc5dvaV/F5EnExb0aeZ3nVEzd+LLJQc8v8XfkR3/xfp/zuGBz1b6zB16T0V0a1Dc53vtbmntrmnt80P3OmhSJu551vyITUCF81OmfovYtokbPRvQ4taOkSciINOBqMIFjAKLS4B+ils7FSKnnypUWdwc6ae4tVMhcvqpQpXdl2NyDeitQ9ogS/o0etD+/Lx04zaqDIkMmNSPT9dFo9K59XH+9qtQICtm9m7sd52HPl+JNYfiXhqofRI3oJftPYPHv1ntd27isdqghmMW4NiF6/r4X3rUQ/2ScY1xfsQmoML5KVO/RWzbxI2eDWhxa8fIExGQ6UBU4QJGgcUlQD/FrZ0KkdNPFaosbo70U9zaqRA5/VShyu7KMTomFiX7z0wyqH0j2yN1qpT67/78vHE7GuUGzQ6Y1LdP1Ubzsnn1cf4a0NWLZsfUFxr6XafasEhcuHbb85v2ssK3p23Hheu39BcS7jxxGT1+WOd3rr8GdJ2R83Dq8k19/JTn66NmsZwB4+cA9xNQ4fyUqd/ifqPkjJANaDnrqmRWMh2IKlzAlJRUkqTppySFlDQN+ilpYSVJi35KUkhJ06CfkhbWxWkldwez9vzk/aM6eKL352dsbCxK9Eu6gR0/+cuuNdGmYv4kG9D1I3Lhl2fr+SUV0W8GYmLv/NSndRm8N3eP/kXTMnlQuVA2fLxwn+EGdPVhkTj/X0N7eq+GqFI4u4srxNCMElDh/JSp32K0rhxnLQE2oK3lydUcJCDTgajCBcxBVbh1iAToZ4gAOd1WAvTTVrxcPEQC9DNEgJxuKwH6aSteLu6HwPEL19FgzAKvX756ohZmbT2Bx+oV9bo7OCk/k3uER/zCnzxaAx2rFEiyAd2sbB5891QdvzUqM2AWbkXHeH7Tnh19K+rO35MrrL87oCu9PQdXbkbp02a/0hjl8melGxIQUOH8lKnfIoFyQqbABrSQZWPQ/gjIdCCqcAGjxeISoJ/i1k6FyOmnClUWN0f6KW7tVIicfqpQZXfluOvfS2j34VJPUFqTWGsW+/uE0oAe/0g1dKpWCDExsYjw88iPdhXz4/OuNf3u++fGY3jl102e31KmgNcd0cE0oBM/MmR+n6YomSezu4rCaEwRUOH8lKnfYqrInBQyATagQ0bIBdxCQKYDUYULmFu8YRzBE6CfwTPjjPARoJ/hY82dgidAP4NnxhnhI0A/w8eaO8URWLr3NLp+s8aDY1W/lsifLb3lDeh3O1fBg7WK6Hculxk4y2f9e6sVxIePVPe777VbUagweI6pkiW+A3rujpNez4te/lYLFMqewdTanOQuAiqcnzL1W9xljzrRsAGtTq2lz1SmA1GFC5j0QkqcIP2UuLgSpEY/JSiixCnQT4mLK0Fq9FOCIgqWwu/rjuCNyVv0qGsWy4EpzzdIMoNQ7oAedV9lPFq3KK7fikb5wb4vLXy4VhG807mK370DvSgxRQogNsEzohMu8nOPumhQMrfnqy8W78foWbs8fz84ugNSaAvwIzwBFc5PmfotwgsnaAJsQAtaOIbtS0CmA1GFCxgdFpcA/RS3dipETj9VqLK4OdJPcWunQuT0U4UquyvHCfP34v3/XujXoXJ+fPqY/8dgaFGH0oCuVCgrzl65hWZl8+KXNYd9IHSrXwxDO1VKEk7J/jOhNaKD/WRJlxpbh7b1TEv4vOqW5fLimydrB7skx7uUgArnp0z9FpdqJH1YbEBLX2J1EpTpQFThAqaOmfJlSj/lq6lMGdFPmaopXy70U76aypQR/ZSpmmLk8tS3a7Bw92k92F7NS+H1tmWTDDyUBnQgGj2bRKBfh/JJDis3aBZu3Db24sHEi2wa3BrZM6ZF4kd5lMqbGfNeaxooNP4uCAEVzk+Z+i2CaCVdmGxAS1dSdROS6UBU4QKmrqniZ04/xa+hzBnQT5mrK35u9FP8GsqcAf2UubruzK3Zuwtx6Ow1PbhvutVCy/L5gm5Ad/lyFVYeOBtSgm+0LYsXm5dKco0qQ+bg0o0oU3ss7dscRXJmxNHz19DonYWeNYrkzIClfVuYWpOT3EdAhfNTpn6L+wxSIyI2oNWosxJZynQgqnABU0JKSZOkn5IWVpK06KckhZQ0DfopaWElSYt+SlJIgdKoO2oeTl66qUf8+3P1Ubt4zqAb0FuOXsA9Hy8PKevhnSqia/3iSa5Ra8RcnLlyy9Qes3o3RvkCWZE4zkCP/TC1GSc5RkCF81Omfotjoii+MRvQigsgU/oyHYgqXMBkck+1XOinahUXK1/6KVa9VIuWfqpWcbHypZ9i1UuGaKsOjcTF67f1VP7q1QiVC2cLugGtTUj4bGUzXMY/Ug2dqhVKcmqD0fNx/OKNZJfOliENtDupT1y8jm+XH8K1W9FejfVFu0/hyW/XetZYO6AV8mRJZyZcznEhARXOT5n6LS5USImQ2IBWosxqJCnTgajCBUwNK+XMkn7KWVdZsqKfslRSzjzop5x1lSUr+ilLJcXJo+zAWbgZFfds5bmvNkHpfFkcaUB/+2RtNC+XN8m9m767EP/896iQpAblzZIOawa00n9u8d4iHDh9Vf9z/NrTNh1D7/9t0r+rWjgbpvVqJE6hGGlAAiqcnzL1WwIWlANsIcAGtC1YuagTBGQ6EFW4gDnhCPe0hgD9tIYjV7GHAP20hytXtYYA/bSGI1exhwD9tIcrV/VPICYmFhH9Z3p+jH9WclK8kvMz1DugJz9XH7WSefxH6/cXY++pK8mWsnCODFj2Ztwzne/5eBm2HL2o//mjLtVxd9WC+Hn1YfSfulX/rlGp3PjxmbpUQyICKpyfMvVbJFJPqFTYgBaqXAw2OQIyHYgqXMBos7gE6Ke4tVMhcvqpQpXFzZF+ils7FSKnnypU2T05Xr8VjfKDZ3sCWjOgJfJmSZ9kgHY2oGe+3BgVCmZNcu+HPl+JNYfOJQsvIk8mLOjTTB/z6FersGJ/3IsRR99fGV3qFMXXSw9gxIyd+netyufD191quacYjCRkAiqcnzL1W0IuOBcwRYANaFPYOMmNBGQ6EFW4gLnRIcZkjAD9NMaJo5whQD+d4c5djRGgn8Y4cZQzBOinM9xV3fX81VuoPnyuJ/2tQ9ogS/o0SeKwswG9oE9TROTJnOTeL/+yEdM3H0+2VOXyZ8HsV5roY578dg0W7T6t/3noPRXRrUFxfDR/L96bu0f/7p6qBTGhS3VVSy9l3iqcnzL1W6SUUICk2IAWoEgM0RgBmQ5EFS5gxqrKUW4kQD/dWBXGFE+AftIFNxOgn26uDmOjn3QgnAS0l/XVH73As+Xeke2RJlVKRxrQK/u1QIFsGZLce/TMnfhiyYGAeA6N6aiP6fHDOszdcVL/88CO5fFM4wi8M3sXPlv0f/auA77Gqw8/kpBYsfcKYo/YeyZGjFJFVVWtGkUVRe29PqtKUaW0VNEabRHEik2MiIgVib1jryQi+X7njVy5uTf3vu/Ne8d7zv/9/b7fJ/ee8x/P8/QcHsd5w6XPPqteCDPbVzQbjwZoBwER1k+e/BbtKIuvSsmA5otPobvhaUEUYQMTWqwab570qXECOS+f9Mk5wRpvj/SpcQI5L5/0yTnBDtbe1chXaDwnQKrK2SkNwqe3NFmhNU9AB41rimwZ06WYf9G+K5i985JZBBMN6P5rTsEv5J40fmSL0ujXsDgm/heK345ckz7rUdcDEz4qZzYeDdAOAiKsnzz5LdpRFl+VkgHNF59Cd8PTgijCBia0WDXePOlT4wRyXj7pk3OCNd4e6VPjBHJePumTc4IdrL0Ld5+jxY8HpaoypHPG+cm+djOgL0z2Rfp0zinmX3YgAtP8Eu5vNvUkGtDfrgvCv2cSruz4rmlJfONTAt9vOIv1J29Knw1oXBzDm5c2F46+1xACIqyfPPktGpIWV6WSAc0VnWI3w9OCKMIGJrZatd096VPb/PFePemTd4a13R/pU9v88V496ZN3hh2rv3O3n6H1wkNSUe5uLjg7sbnFBvT2kLv4es1pixuMmN4STk5pUpz/+5FrmPBfqNn4iQb0d38FY+PpW9L4QT4lMJSZ0GuDsOX9PdLDm5fCgMaeZuPRAO0gIML6yZPfoh1l8VUpGdB88Sl0NzwtiCJsYEKLVePNkz41TiDn5ZM+OSdY4+2RPjVOIOflkz45J9jB2gu++RRtFx2WqsqaIS3OjG9msQF98/Fr1J+1z+IOE43jlAL8efwGRm8O0fuandp+HfNO91n9EjmxuldN6edRm85ibWDCaec87q7Y+k196bPdFx5In41vXRY96xW1uF6a6HgIiLB+8uS3OJ6CxKiIDGgxeBaiS54WRBE2MCFEyWmTpE9OieWkLdInJ0Ry2gbpk1NiOWmL9MkJkRppI+jGE7RbfESqNkfGdDg1rqnFBvS9Z1GoNWOPbn7jUrnwPCoWp64/MYiZ1jkN3r6L1/vcnAG94dQtDPs7WG9O4ewZcOPxa91nAcMawSNnRunncf+cw+pj13XfFcuVEXkyu+FoxCPps5mfVMBnNQprhCkqUw4CIqyfPPktcjilMeojQAa0+phSRDshwNOCKMIGZieZUFoVECB9qgAihbAaAqRPq0FLgVVAgPSpAogUwmoIkD6tBi0FNoLAqeuP0X7JUembXJldcWJME5M4mdJn5MtoVJu6Wzd/+ZfVwF5ymPze5sRTytWm7kLkyxjdeHMG9H/BdzBobZBefe2rFMSVhy/BTnI3KZMHy7tV030/ect5rDh8VW987syuePAiWvrsx88qoW2lAqQLjhAQYf3kyW/hSHqaaoUMaE3RRcWaQoCnBVGEDYzUrF0ESJ/a5U6EykmfIrCs3R5Jn9rlToTKSZ8isOw4PQZefYxPlyYY0Hnd3XBstI/FBvSz12/hNdlfN39Vzxq48uAlJm89rxezadk8WPZlNek6DXatRuJjzoDece4u+v2hf8f04CYl0L+RJ87ffY4KBbLAOckd0jP8LmDpgQi93Oyakaev30qf/dK1KpqVy+s4ZFAlqUZAhPWTJ78l1YRTAIsQIAPaIthokiMiwNOCKMIG5ogaoprkIUD6lIcTjbIPAqRP++BOWeUhQPqUhxONsg8CpE/74C5q1qPhj9B52TGp/QJZ0+PwSG+TUJjS56voWJSbsFM3f12fWrh8/wXG/6v/4sA2XvmxoHNl7Lv4AL1+PwGnNGnwy5dV4V06j+ncF++j528n9cb80MkL7SoXNDpv9s6LWLQvPMWYf/SqiXolcopKPZd9i7B+8uS3cClCDTRFBrQGSKIS5SHA04IowgYmj1Ua5YgIkD4dkRWqKREB0idpwZERIH06MjtUG+mTNGBLBA5fiUSX5cellIWyp8fBEZYb0G/fxaHEmO268vcNa4Qj4ZEYs/mcXkudqhXC/zpUlD5jV3S4OKVBoewZzLZ9MOwhuv4aqDdu49d1ULVINqNz5+++jPm7w1KMa2qu2WJogEMiIML6yZPf4pAiEqAoMqAFIFmUFnlaEEXYwETRJY99kj55ZJWfnkif/HDJYyekTx5Z5acn0ic/XGqhkwOXH+LLFQmmrkeODAgY3thk2eb0OXP7RSw7GIH2VQpgVgcvrD9xA99vDNGL2b2OBya2KacYnuMRj9Dpl4TT2okPu7Oa3V1t7Fm07wpm77yUYp7t39ZHmXzuiuugCY6LgDl9Om7l8ivjyW+R3zWNVBMBMqDVRJNi2RUBnhZEETYwu4qFkqcKAdJnquCjyVZGgPRpZYApfKoQIH2mCj6abGUESJ9WBpjC6yEQcOkBuq88IX1WLGdG7B3WyCRCcvT5JuYd0qdzluJsOHULw/4O1ov5daPi+N63tGImTt94gk8WH9Gbd3VGS6RJk8ZorF8OhGO638UU87AT2kVzZlRcB01wXATk6NNxq5dXGU9+i7yOaZTaCJABrTaiFM9uCPC0IIqwgdlNKJQ41QiQPlMNIQWwIgKkTyuCS6FTjQDpM9UQUgArIkD6tCK4FNoAgb1J7lX2zJ0Ju4c2NImSUn3+E3Qbg9ef0Ys5tlUZfFW/mGI2Qm49w0c/HdLNm9SmHLrV8UgxjjkD+uIUX7ilTTDK6eEDAaX61GLXPPktWsSfh5rJgOaBRepBQoCnBVGEDYxkq10ESJ/a5U6EykmfIrCs3R5Jn9rlToTKSZ8isOw4Pe46fx+9VyW82K9UnszYOaSBqgb01rN3MPDPIL2YgaN9kNvdTTEIyU9Ah05qjoyuLinGGbEhGH+dvJXi99dmtlJcA01wbAREWD958lscW038VkcGNL/cCtcZTwuiCBuYcALlqGHSJ0dkctgK6ZNDUjlqifTJEZkctkL65JBUB25px7l76PfHKalCdh8yuxfZ1KNUnzvO3UW/P07rQuZxd8Xx0U0sQiT2XRwazNqHO8+i0KBkLqzqWcNknD+P38Dozfr3TydOWNenFmoVy2FRHTTJcRFQqk/H7STlynjyW7SIPw81kwHNA4vUg4QATwuiCBsYyVa7CJA+tcudCJWTPkVgWbs9kj61y50IlZM+RWDZcXr0C7mL/msSDOLyBdyx9Rt1DeiHL6JRfdpuXcP5srjh6CgfiwF4/CoGJ649Rp3iOZDZLa3JOC+jY9Fl+XEE33xqMI5OP1tMgUNPFGH95MlvcWgxcVwcGdAckytaazwtiCJsYKLpk6d+SZ88sclfL6RP/jjlqSPSJ09s8tcL6ZM/TtXo6GrkK9x8/Bp1PXPC2cn4S/eU5nn7Lg7tFh/GudvPpaleBbPg34H1TIaxRJ8eI7fpYhbImh6HR3orLdXi8fHx8ag5fQ8evIjWxahfIidW96ppcUya6LgIWKJPx+3GeGU8+S1aw56XesmA5oVJ6oNOQJMGCAEbISDCb7BsBCWlsQICpE8rgEohVUOA9KkalBTICgiQPq0AqsZDMuO54ex9iIsHhjUriYHeJVTpaNXRaxj/b6guVqVCWfHPgLqqG9A/7Q3DHP/LUtyfv6gK3/J5ValfbpC6M/fi9tM3uuGtKuTDoi5V5E6ncRpCQIT1kwxoDQnSQUslA9pBiaGylCPA04IowgamnGGa4SgIkD4dhQmqwxgCpE/ShSMjQPp0ZHaoNtInaSA5AkPWn8HmoNu6j9W6PiLpyWQWvGqRbNj4dR3VDeg3Me+w5vh1uLulRYeqBeGk0gluuUph90bfePxaN7xTtUL4X4eKcqfTOA0hIML6yZPfoiFpcVUqGdBc0Sl2MzwtiCJsYGKrVdvdkz61zR/v1ZM+eWdY2/2RPrXNH+/Vkz55Z1h5f/1Wn8KO0HtWN6BreGTHX/1qq25AK+9Y3RmN5wSAXWGS+PSqVxTjWpdVNwlFcwgERFg/efJbHEI0AhY7pRteAAAgAElEQVRBBrSApPPaMk8LoggbGK86FKEv0qcILGu3R9KndrkToXLSpwgsa7dH0qd2ubNW5cP+DsaGU7d04bcNqody+bPopYuLi1d8sjj5CehaxbJjXR/+DOgm8/bjyoOXOrwGNymBwU1KWosuimtHBERYP3nyW+woFaFTkwEtNP18Nc/TgijCBsaX+sTqhvQpFt9a65b0qTXGxKqX9CkW31rrlvSpNcasX++kLaFYefiaLlFdzxxY81Ut6Wf2IsHaM/Yi8mXCS/ZOj2uK7BnTySoquQGdNG5KAbSoT9/5B3Dx3gtdS2NblcFX9YvJwogGaQsBLepTKcI8+S1Ke6fx6iBABrQ6OFIUB0CApwVRhA3MASRDJViIAOnTQuBomk0QIH3aBGZKYiECpE8LgaNpNkGA9GkTmDWVZN6uy1iwJ0yv5sR7oP84dh1j/zmn+65b7SKY1La82f6evo5Bpcm79MbVL5ETq3vVNDlXi/ps+eNBnL/7XNfXj59VQttKBcxiRAO0h4AW9akUZZ78FqW903h1ECADWh0cKYoDIMDTgijCBuYAkqESLESA9GkhcDTNJgiQPm0CMyWxEAHSp4XA0TSbIED6tAnMmkry66GrmLL1vK7mrBnS4sz4ZoiJjUPJsdv1emGnn9kpaHNPyK1n+OinQ3rDGpXKhd961ODOgG7z0yGcvfVM19dffWujRtHs5iCi7zWIgAjrJ09+iwYlxkXJZEBzQSM1wRDgaUEUYQMj1WoXAdKndrkToXLSpwgsa7dH0qd2uROhctKnCCwr6zH5KefSeTNjx+AGWBxwBbN2XNILVjBbehz63ttsgsCrj/Hp0qN647xL58aK7tW5M6A/WngIIbc/GNAHhjdG4RwZzGJEA7SHgAjrJ09+i/YUxkfFZEDzwSN1QQY0aYAQsBkCIvwGy2ZgUiLVESB9qg4pBVQRAdKnimBSKNURIH2qDqnmA64+dh3jklyz4Zk7E3YPbYjq03bj4YuEu58Tn0LZ0+PgCPMG9IHLD/HlikC9uU3K5MHybtW4M6Cb/bAfl+9/eAlh8IRmyJI+reZ1QQ0YIiDC+kkGNCk/tQiQAZ1aBGm+wyDA04IowgbmMMKhQhQjQPpUDBlNsCECpE8bgk2pFCNA+lQMGU2wIQKkTxuCrZFUq49ew7h/Q3XVFsmRAfuHN0bjOQG4GvlKr4viuTJiz3eNzHa26/x99F51Um9c83J5sLQrfwZ0w9n7cP3Ra12vYdNaIK2zk1mMaID2EBBh/eTJb9GewviomAxoPnikLugENGmAELAZAiL8BstmYFIi1REgfaoOKQVUEQHSp4pgUijVESB9qg6p5gOuOnoN45MY0AWypsfhkd74eNFhnLn5VK+/TyoXwLxOlcz2vCX4Dr5ZG6Q3rmWFvFjcparJuVrUZ+0Ze3D3WZSur8QXOJoFiQZoDgEt6lMpyGRAK0WMxidHgAxo0gQ3CPC0IIqwgXEjPAEbIX0KSLqGWiZ9aogsAUslfQpIuoZaJn1qiCwblfr7kWuY8N+HE9C5MrvixJgm6PrrcRwMi9Sr4iOv/FjYubLZyv4+eRPDN5zVG9e6Yj789HkV7gzoqlN24dGrGDKgzapC+wNEWD958lu0rzhtdkAGtDZ5o6qNIMDTgijCBkYi1i4CpE/tcidC5aRPEVjWbo+kT+1yJ0LlpE8RWFbW48rDVzFpy3ndpGwZ0iJofDOjBnSzsnnwy5emr9FggZLHZJ+1rZQfP35m2rzWoj4rTNyJF1GxZEArk50mR2tRn0qB5slvUdo7jVcHATKg1cGRojgAAjwtiCJsYA4gGSrBQgRInxYCR9NsggDp0yYwUxILESB9WggcTbMJAqRPm8CsqSQrDl3F5K0fDOjMri4ImdQcnX85hqMRj/R6aVQqF37rUcNsfx4jtxmMkXN9hxb1WWv6Htx7TldwmBUFBwO0qE+lsPPktyjtncargwAZ0OrgSFEcAAGeFkQRNjAHkAyVYCECpE8LgaNpNkGA9GkTmCmJhQiQPi0EjqbZBAHSp01g1lSSXw9dxZQkBrSrixMuTW2BT38+isBrj/V6qV0sB9b2qWW2P2MGdPsqBTH3Uy+Tc7Woz2Y/7Mfl+y91fdEd0GblodkBWtSnUrB58luU9k7j1UGADGh1cKQoDoAATwuiCBuYA0iGSrAQAdKnhcDRNJsgQPq0CcyUxEIESJ8WAkfTbIIA6dMmMGsqyfKDEZi67YKuZmenNAif3hKfLD6M0zf0X0JYtUg2bPy6jtn+jBnQn1YriFkd+DOgB60Nwn/Bd8iANqsK7Q8QYf3kyW/RvuK02QEZ0Nrkjao2ggBPC6IIGxiJWLsIkD61y50IlZM+RWBZuz2SPrXLnQiVkz5FYFlZj8kNaDY7YnpLtFt8GMG3nukFK1/AHVu/qW8yQXTsO5Qau8NgTLfaRTCpbXmTc7Woz/vPo9Bw9j5EvY3D2FZl8FX9YsoIoNGaQUCL+lQKLk9+i9Leabw6CJABrQ6OFMUBEOBpQRRhA3MAyVAJFiJA+rQQOJpmEwRInzaBmZJYiADp00LgaJpNECB92gRmTSVZdiAC0/w+nIBmxV+a6otPFh9B6J3ner2UypMZO4c0MNlf5MtoVJu622BMv4bFMbJFae4MaNbQ41cxuPP0DcoXyKIp7qlYZQiIsH7y5LcoY5dGq4UAGdBqIZlCnGvXrmH//v04c+YMHj58iKdPnyJr1qzIlSsXKlWqhIYNG8LDw8PKVYgRnqcFUYQNTAxV8tkl6ZNPXnnpivTJC5N89kH65JNXXroiffLCpHp9/HIgHNP9LuoFDJ3UHO2XHMHFey/0PvfMnQm7hzY0mTz84Uv4zN1vMGZgY08Ma16KSwNaPTYokiMjIML6yZPf4sha4rk2MqCtwO6TJ0/w+++/Y9myZbh4MWHDjo+PN8iUJk0a6bMyZcqgd+/e+PLLL5EtWzYrVCRGSJ4WRBE2MDFUyWeXpE8+eeWlK9InL0zy2Qfpk09eeemK9MkLk+r1sXR/OGZs1zegz4xvig4/H8WVBx9erscyFsuZEXuHNTKZ/PSNJ9Lp6eTPgMbFMbw5nyeg1WODIjkyAiKsnzz5LY6sJZ5rIwNaRXZfv36NWbNmYe7cuXj16hXSp0+PatWqoUaNGihdujSyZ88Od3d3PHv2DMykvnDhAgIDA3Hy5ElERUUhY8aMGDZsGIYPH44MGTKoWJkYoXhaEEXYwMRQJZ9dkj755JWXrkifvDDJZx+kTz555aUr0icvTKrXx8/7wzEzmQH9d7/a6PjzUYMkhbNnwIERjU0m9w+9hz6rTxmM+bpRcXzvSwa0esxRJFsjIML6yZPfYmt9UL4EBMiAVlEJefPmxYMHD9C8eXN88cUX+PjjjyVT2dzDzOpNmzbhjz/+wK5du8Di3Lnz4W255ubT9wkI8LQgirCBkW61iwDpU7vciVA56VMElrXbI+lTu9yJUDnpUwSWlfW4OOAKZu24pDcps5sLXkTFGgQqkDU9Do/01n0eFxePkNvPUDJPZqRP54y37+Iw9K9gbAk2/HNu34bFMKpFGZPFkT6VcUejbYuACPrkyW+xrTooWyICZECrqIV27dph/PjxqFy5ssVRT58+jSlTpmDz5s0WxxB1Ik8LoggbmKg65aFv0icPLPLbA+mTX2556Iz0yQOL/PZA+uSXW0s7W7TvCmbv1DegU4qV190Nx0b76L4eteks1gbeRKHs6bH3u0YYu/kc1p+8aXR63wbFMKolGdCW8kTz7I+ACOsnT36L/RUjZgVkQIvJO5dd87QgirCBcSlCQZoifQpCtEbbJH1qlDhByiZ9CkK0RtskfWqUOCuWrcSAzpnJFSfHNtFV4zFym+7XS7pUwfANZ/Ey2vDkNBvEXl7IXmJo6iF9WpFoCp1qBETQJ09+S6oJpwAWIUAGtEWw0SRHRICnBVGEDcwRNUQ1yUOA9CkPJxplHwRIn/bBnbLKQ4D0KQ8nGmUfBEif9sHdkbP+tDcMc/wvyy5x15AGKJEns3TdRokx23Xz5nT0wrC/g/XidKxaEOlcnFDNIxvaVS5oNgfp0yxENMCOCIigT578FjtKRejUZEDbgP7Y2FjppYNp0qRBtmzZ4OzsbIOs4qXgaUEUYQMTT6H8dEz65IdLHjshffLIKj89kT754ZLHTkifPLKaup4W7gnD3F3yDWiWbePXdeCRIwOqTt2tSz6mZRlM87ugV8y41mXRq15R2QWSPmVDRQPtgIAI+uTJb7GDRCglvYTQehoICQnBwoULsW/fPkREROglKlGiBLy9vTFw4ECULVvWekUIFpmnBVGEDUwweXLVLumTKzq5a4b0yR2lXDVE+uSKTu6aIX1yR2mqG1qwJwzzFBrQ7M7n33rUgM/c/Xr5ndIAcfEfPprUphy61fGQXSPpUzZUNNAOCIigT578FjtIhFKSAW0dDYwdOxYzZsyQgsfHJ9llk6VzcnKSXlrI/kdP6hHgaUEUYQNLPeMUwV4IkD7thTzllYMA6VMOSjTGXgiQPu2FPOWVgwDpUw5KYo35cXcYftit7AQ0Q2hB58oYtDbIJFinxjZBjkyusgElfcqGigbaAQER9MmT32IHiVBKMqDV18CsWbMwcuRI6ZqNzp0747PPPkOlSpWQM2dOyYyOjIxEUFAQ1q1bh/Xr1yMuLg6zZ8/G0KFD1S9GsIg8LYgibGCCyZOrdkmfXNHJXTOkT+4o5aoh0idXdHLXDOmTO0pT3dD83Zcxf3eY4jjd63jgtyPXUpz3R6+aqFcip6K4pE9FcNFgGyMggj558ltsLA9K9x4BugNaRSk8ePAAhQsXRtq0abF161Y0bNjQZPSAgAC0bt1aMqFv3LghmdT0WI4ATwuiCBuY5UzTTHsjQPq0NwOU3xQCpE/ShyMjQPp0ZHaoNtInaSA5Aj/suowf9yg3oD+pXACbgm6nCOjZic3g7pZWEeCkT0Vw0WAbIyCCPnnyW2wsD0pHBrT6GmAnmb///nvp7ucBAwbISvDTTz9h0KBBmDNnDp2CloVYyoN4WhBF2MBSSTdNtyMCpE87gk+pzSJA+jQLEQ2wIwKkTzuCT6nNIkD6NAuRcAPm+V/Cgr1XFPfdskJe+IXcS3HexSm+cEvrrCgu6VMRXDTYxgiIoE+e/BYby4PSkQGtvgbatGkDtvA8evQIrq7y7rOKjo5Gjhw5pJcS/vfff+oXJVBEnhZEETYwgaTJXaukT+4o5aoh0idXdHLXDOmTO0q5aoj0yRWdqjQz1/8SFpowoH/vWQPdVgTq5UqTBvAulRt7Lj5IsYarM1oiDRuo4CF9KgCLhtocARH0yZPfYnOBUEIJAbqCQ0UhFC1aFIUKFcKBAwcURWVXddy8eRMRERGK5tFgfQR4WhBF2MBIv9pFgPSpXe5EqJz0KQLL2u2R9Kld7kSonPQpAsvKepyz8xJ+2mf8BPTAxp74snYR1Ji+xyBoXc8cOHzlkdFk6ZydcHlaC2WFANJBL/awg1v0EAKOhoAI+uTJb3E0/YhSDxnQKjKdNWtWNG/eXHq5oJKnU6dO2LlzJ54+fapkGo1NhgBPC6IIGxgJWLsIkD61y50IlZM+RWBZuz2SPrXLnQiVkz5FYFlZj7N3XsSifeFGJ238ujY8cmRE1am7Db6vWiQbTl1/YnReJlcXnJvUXFkhZEArxosm2BYBEdZPnvwW26qDsiUiQAa0ilpwdnZGt27dsGLFCkVRe/TogdWrVyM2NlbRPBqsjwBPC6IIGxjpV7sIkD61y50IlZM+RWBZuz2SPrXLnQiVkz5FYFlZj7N2XMTiAOMG9OGR3siYzhmVJu8yCJrX3Q33nkcZTZYjYzqcGtdUWSFkQCvGiybYFgER1k+e/BbbqoOykQFtBQ04OTmhe/fuFhnQq1atwrt376xQlTgheVoQRdjAxFEmf52SPvnjlKeOSJ88sclfL6RP/jjlqSPSJ09sqtPL/3ZcxBIjBnT/RsUxwrc0XkS9RYWJ/oqS5cvihqOjfBTNYYNJn4ohowk2REAEffLkt9hQGpQqCQJ0AlpFOTADul69evjqq68URV22bBmOHDlCBrQi1AwH87QgirCBpZJumm5HBEifdgSfUptFgPRpFiIaYEcESJ92BJ9Sm0WA9GkWIuEGzNx+ET/v1z8B3axsHvzyZTUJi9cxsSg7fqciXIrkyID9wxsrmkMGtGK4aIKNERBh/eTJb7GxPCjdewTIgFZRCsyAVvo2X5Y+Pj5emkcnoFNHBk8LoggbWOrYptn2RID0aU/0Kbc5BEif5hCi7+2JAOnTnuhTbnMIkD7NISTe9zO2X8DS/RG6xnNmcsX2b+sjV2ZX6bPo2HcoNXaHImBK5skE/yENFc0hA1oxXDTBxgiIsH7y5LfYWB6Ujgxo9TXA7nJOzbNy5crUTBd+Lk8LoggbmPCC1TAApE8NkydA6aRPAUjWcIukTw2TJ0DppE8BSFbY4gy/C1h6IMGAbuOVH/M+9YKLs5MuSuy7OHiO2a4oavkC7tj6TX1Fc8iAVgwXTbAxAiKsnzz5LTaWB6UjA5o0wBsCPC2IImxgvOlPpH5InyKxrb1eSZ/a40ykikmfIrGtvV5Jn9rjzNoVT9t2HssOXpXSdK1VBFM+Lq+Xkv1L3qKj/BSVUaVwVmzqX1fRHDKgFcNFE2yMgAjrJ09+i43lQenIgCYN8IYATwuiCBsYb/oTqR/Sp0hsa69X0qf2OBOpYtKnSGxrr1fSp/Y4s3bFU7eex/JDCQb0l7WLYHJbfQOafe4xcluKZXSuUQhrA2/qfV+7WA6s7VNLcemkT8WQ0QQbIiCCPnnyW2woDUqVBAG6A9oOcrhy5QoiIyNRoEABFCpUyA4V8JmSpwVRhA2MTxWK0RXpUwyetdol6VOrzIlRN+lTDJ612iXpU6vMWa/uKVvP49f3BnS32kUwSaEBPaBxcSzap/8Sw4Ylc+H3njUUF036VAwZTbAhAiLokye/xYbSoFRkQFtHA/fv38f+/fslY7luXcN/VnT48GH06tULYWFhugKqV6+OFStWoGzZstYpSqCoPC2IImxgAkmTu1ZJn9xRylVDpE+u6OSuGdInd5Ry1RDpkys6VWlm8pbzWHE44QR09zoemNimnEFcUyegx7UuC2ZiJ32als2DZV9WU1wf6VMxZDTBhgiIoE+e/BYbSoNSkQFtHQ3MnTsXI0aMwM8//4zevXvrJWGnnitXrozXr1+D3ZWVI0cOPH78WPp1njx5EBoaiuzZs1unMEGi8rQgirCBCSJLLtskfXJJKzdNkT65oZLLRkifXNLKTVOkT26oVK2RSVtCsfLwNYsN6B8/q4Rv153Rq6d1xXz46fMqimskfSqGjCbYEAER9MmT32JDaVAqMqCto4E2bdrA398f7CR0lixZ9JJ88cUX+PPPP6UrN7Zu3YoKFSpIBnT37t2xbds2TJgwAePHj7dOYYJE5WlBFGEDE0SWXLZJ+uSSVm6aIn1yQyWXjZA+uaSVm6ZIn9xQqVojE/8LxW9HEgzoHnU9MOEjZSeg/+hVE1/8elyvnk+qFMC8TysprpH0qRgymmBDBETQJ09+iw2lQanIgLaOBkqUKIGcOXPi6NGjegnevn2LbNmy4c2bN5IJ3alTJ933T548QeHChcH+Yz527Jh1ChMkKk8LoggbmCCy5LJN0ieXtHLTFOmTGyq5bIT0ySWt3DRF+uSGStUaSWpA96xbFOM/Mrw20tQVHNu/rY+WCw4iPv5DSezFhDM+qai4RtKnYshogg0REEGfPPktNpQGpSID2joaYKeeW7dujTVr1uglOH78OGrXro306dPj0aNHcHNz0/vex8cHQUFB0oloeixHgKcFUYQNzHKmaaa9ESB92psBym8KAdIn6cORESB9OjI7VBvpkzSQHIEJ/57D70evSx/3qlcU7E7n5E/RUdv0DOak30dMb4ky43cgOjZO93FKd0mbQ5/0aQ4h+t6eCIigT578FntqReTcaeLZJcT0qIIAM5Z9fX3xzz//6MVbsmQJBgwYIJnQ7EWEyZ8uXbpgw4YNiI6OVqUOUYPwtCCKsIGJqlMe+iZ98sAivz2QPvnllofOSJ88sMhvD6RPfrm1tLPx/57DqvcGdO/6RTGmlaEBXXy0H97FGVoKZfK5g52ArjBxJ15ExepKGNasJAZ6l1BcEulTMWQ0wYYIiKBPnvwWG0qDUiVBgAxoFeXg4eEBZ2dnhIeH60VlV24wg3nw4MFgLypM/rRt2xaBgYG4e/euitWIF4qnBVGEDUw8hfLTMemTHy557IT0ySOr/PRE+uSHSx47IX3yyGrqehr7Twj+OHZDCtKnQTGMblnGIKDnaD/EGjGgS+fNjB2DG6Da1F2IfBmjmzfvUy98UqWg4sJIn4ohowk2REAEffLkt9hQGpSKDGjraKBr167SHc/sxHOfPn2kJJcvX4aXlxdiYmKwc+dONGnSxCB50aJFkSNHDpw8edI6hQkSlacFUYQNTBBZctkm6ZNLWrlpivTJDZVcNkL65JJWbpoifXJDpWqNjNkcgjXHEwzovg2KYZQRA7rEGD+8fWd4ArpYrozY+10j1JmxB3eeRelq+rN3TdQpnlNxjaRPxZDRBBsiIII+efJbbCgNSkUGtHU0wO5xrlGjBuLi4lC3bl3kypULe/bswfPnz6WXDIaEhBgkZp8xg5oZ1j///LN1ChMkKk8LoggbmCCy5LJN0ieXtHLTFOmTGyq5bIT0ySWt3DRF+uSGStUaGb05BH8mGtANi2FUC8MT0CXHbEfMuw93PCcmL5gtPQ59741Gs/fh2qPXupr+G1gXFQtmVVwj6VMxZDTBhgiIoE+e/BYbSoNSkQFtPQ2sXLlSuu85KurD3/Lmzp0b/v7+qFjR8G2/ffv2xbJly7Bx40a0a9fOeoUJEJmnBVGEDUwASXLbIumTW2q5aIz0yQWN3DZB+uSWWi4aI31yQaOqTYzaFIK1gQknoPs1LI6RLUobxC85djtikrxkMHFAHndXHB/dBM1+2I/L91/q5u0YXB+l87orrpP0qRgymmBDBETQJ09+iw2lQanIgLauBu7cuQM/Pz88fPgQhQoVQps2beDubnyTZdd1sOs5evXqhUyZMlm3MM6j87QgirCBcS5HrtsjfXJNr+abI31qnkKuGyB9ck2v5psjfWqeQtUbGLXpLNYG3pTift2oOL73NTSgS43djmgjBnT2jOlwelxTtF54EOduP9fVtue7hiieS/mfe0mfqtNLAVVEQAR98uS3qEg9hVKAAL2EUAFYNNSxEeBpQRRhA3NsNVF1phAgfZI+HBkB0qcjs0O1kT5JA46MAOnTkdmxT20jN57FuhMJBnT/RsUxwogBXWbcDrx5+86gwEyuLjg3qTnaLT6MoBtPdd8fHNEYhbJnUNwQ6VMxZDTBhgiIoE+e/BYbSoNSJUGADGiSAzcI8LQgirCBcSM8ARshfQpIuoZaJn1qiCwBSyV9Cki6hlomfWqILBuV+v2Gs1h/MsGAHtC4OIY3NzwBXXb8DryOMTSg07k44fLUFvhk8WGcTmJAB472QW53N8UdkD4VQ0YTbIiACPrkyW+xoTQoFRnQ1tHAgQMHzAZOkyYNMmbMiIIFC4LdDU2PegjwtCCKsIGpxzxFsjUCpE9bI075lCBA+lSCFo21NQKkT1sjTvmUIED6VIKWGGNHbAjGXydvSc0ObOyJYc1LGTRebvwOvDJiQKdJA1yd0crAgD4zvimyZkinGEDSp2LIaIINERBBnzz5LTaUBqUiA9o6GnBycgIzmOU+JUqUwODBg9GvXz+5U2icCQR4WhBF2MBIzNpFgPSpXe5EqJz0KQLL2u2R9Kld7kSonPQpAsvKehz2dzA2nEowoAd5e2JoM0MDusKEnXgRHWsQ2NkpDcKnt0T7JUdw6voT3ffnJzdHhnQuygoBQPpUDBlNsCECIuiTJ7/FhtKgVGRAW0cDHh4eZg3o+Ph4vH79GpGRkVIRzLDu3Lkz/vjjD+sUJVBUnhZEETYwgaTJXaukT+4o5aoh0idXdHLXDOmTO0q5aoj0yRWdqjTz3V/B2Hj6vQHtUwJDm5Y0iFth4k68iDI0oJd0qYIWFfIZGNBXprWAi7OT4vpIn4ohowk2REAEffLkt9hQGpSKDGj7a+DFixf477//MHLkSNy5cwfr1q1Dx44d7V+YhivgaUEUYQPTsNSEL530KbwEHBoA0qdD0yN8caRP4SXg0ACQPh2aHrsUN/SvM9h0+raU+1ufEhhixICuOHEnnicxoKe1K48M6ZzRxqsA2Cno5Cegr81sZVEvpE+LYKNJNkJABH3y5LfYSBaUJhkC9BJCO0vi0qVLqFixInx8fODn52fnarSdnqcFUYQNTNtqE7t60qfY/Dt696RPR2dI7PpIn2Lz7+jdkz4dnSHb1zd0/RlsCkowoAc3KYHBTQxPQHtN8sezN291xSU3mMmAtj1vlNH2CIiwfvLkt9heIZSRIUAGtAPowNvbG6Ghobh//74DVKPdEnhaEEXYwLSrNKqc9EkacGQESJ+OzA7VRvokDTgyAqRPR2bHPrUNWX8Gm98b0EOalMS3TUoYFFJ5sj+evE7ZgO6w5AhOJrkDmk5A24dLympdBERYP3nyW6yrBoqeEgJkQDuANrp27Yq//voL0dHRDlCNdkvgaUEUYQPTrtKoctInacCRESB9OjI7VBvpkzTgyAiQPh2ZHfvUNnhdEP45c0dKzu5/HuRjaEBXmbILj1/F6ApMbjAnNbHZIDKg7cMlZbUuAiKsnzz5LdZVA0UnA9qBNeDr64uTJ0/qXkzowKU6dGk8LYgibGAOLSYqziQCpE8SiCMjQPp0ZHaoNtInacCRESB9OjI79qnt23VB+Pe9Af1d05L4xogBXXXKLjwyYUDffPwaPvP2IyY2DvVL5MTqXjUtaob0aRFsNMlGCIigT578FnMF424AACAASURBVBvJgtIkQ4BOQNtZEuzajeLFi6NatWoICAiwczXaTs/TgijCBqZttYldPelTbP4dvXvSp6MzJHZ9pE+x+Xf07kmfjs6Q7esbtDYI/wUnnIAe1qwkBnobnoCuNnU3Il9++Je8xk44HwmPxImrT9CpeiHkzeJmUSOkT4tgo0k2QkAEffLkt9hIFpSGDGjH0cCJEyfQr18/nDlzBkuWLEGfPn0cpzgNVsLTgijCBqZBiVHJ7xEgfZIUHBkB0qcjs0O1kT5JA46MAOnTkdmxT23frA3ClvcG9PDmpTCgsadBIdWn7cbDF6YNaDWqJ32qgSLFsBYCIuiTJ7/FWjqguKYRoBPQKiqEvUxQzvP69WtcvXpVunIjPj4ejRo1wq5du+Ds7CxnOo1JAQGeFkQRNjASsnYRIH1qlzsRKid9isCydnskfWqXOxEqJ32KwLKyHgf8eRrbzt6VJo3wLYX+jQwN6JrTd+P+czKglSFLo3lDQIT1kye/hTf9aaUfMqBVZMrJyUlRtEyZMqFv376YMmUK3Nws+6dIihJyPpinBVGEDYxzOXLdHumTa3o13xzpU/MUct0A6ZNrejXfHOlT8xSq3sCANaexLSTBgP7etzS+blTcIIf33ABEPHyl+9zSlwyaK570aQ4h+t6eCIigT578FntqReTcZECryP7vv/9uNlqaNGmQIUMGFCxYEJUrV4arq6vZOTRAHgI8LYgibGDyWKVRjogA6dMRWaGaEhEgfZIWHBkB0qcjs0O1kT5JA8kR6L/mFPxC7kkfj2xRGv0aGhrQ7RYfRtCNp2RAk3yERkCE9ZMnv0VosdqxeTKg7Qg+pVYXAZ4WRBE2MHXZp2i2RID0aUu0KZdSBEifShGj8bZEgPRpS7Qpl1IESJ9KEeN//Nd/nML2cwkG9KgWpdHXiAHdbUUg9l9+SAY0/3KgDk0gIML6yZPfQmK2DwJkQNsHd8pqBQR4WhBF2MCsIAEKaSMESJ82AprSWIQA6dMi2GiSjRAgfdoIaEpjEQKp1Sd7t82L6FhkdnUB+1ef9GgfgX6rT2FHaIIBPbplafRpYHgCetDaIPz3/kWFbBxdwaF93qkD5Qikdv1UntH2M3jyW2yPHmVkCJABTTrgBgGeFkQRNjBuhCdgI6RPAUnXUMukTw2RJWCppE8BSddQy6nR56voWHy+7BiCbz2TOi6eKyM61yiMr+oX0xACVGpyBPquPomdofelj8e0LIPeDQz5DH/4Ej5z90tj2njlx4LOla0CZGr0aZWCKCghkAQBEfTJk99C4rUPAmRAq4h7rVq1MGnSJDRv3tziqH5+flKM48ePWxxD1Ik8LYgibGCi6pSHvkmfPLDIbw+kT3655aEz0icPLPLbQ2r0+U/QbQxef0YPHKc0wLFRPsjtTi9b16pq+qw6Cf/zCQb02FZlUvwLhb0X7yPk1nN0rlkIuTNbh+/U6FOr+FPd2kFABH3y5LdoR1l8VUoGtIp8lipVCleuXEHFihXRrVs3dOrUCfny5TOb4c6dO1i7di1Wr16Ns2fPgsW5cOGC2XlqDnj48CH+97//YcuWLbhx4wbSp08PDw8P+Pj4YPbs2Qap2Lg5c+YgKChI+q5KlSoYPnw4WrVqlWJZoaGhmDhxIgICAvDy5Ut4enqiV69eGDRoEJycnFLdDk8LoggbWKoJpwB2Q4D0aTfoKbEMBEifMkCiIXZDgPRpN+gpsQwEUqPPhXvCMHfXZYMsP39RFb7l88rITkMcEYHeq05ilwwD2ha1p0aftqiPcoiNgAj65MlvEVut9uueDGgVsX/37h1+/vlnTJkyBQ8ePJBMVWayVq9eXTKVs2XLhsyZM+PFixd4/PgxLl26hBMnTkimNbszLU+ePBg/fjz69OkDZ2dnFSszHerUqVPSqe1Hjx6BLSrly5fH8+fPcf78edy6dQuxsbF6AebPn48hQ4bAxcUFTZo0gaurK/z9/fHmzRssXLgQAwcONEh49OhRycxmY2rUqCGZ2wcOHMC9e/fQsWNHrF+/PtV3xfG0IIqwgdlM4JRIdQRIn6pDSgFVRID0qSKYFEp1BEifqkNKAVVEwFJ9PnkVg0ZzAvDszVuDasrmc0ebSvnRqVohZMuYTsVqKZQtEPjq95PYfSHhBPS41mXRq15RW6Q1msNSfdqtYEosFAIi6JMnv0UocTpQs2RAW4GMmJgY/P3331i+fDkOHToEZkyzJ+nLOJjhzB5mNNevXx+9e/dG+/btkS6dbX9jxk4+ly1bFq9fv5ZOYbdp00YPkcDAQMkwTnyYac4WHmY+79u3D7Vr15a+unz5MurUqYNnz55Jp7eZ8Z74vH37VjLgr169innz5knmNXvYKehmzZqBmdMrV65E9+7dU8UGTwuiCBtYqsimyXZFgPRpV/gpuRkESJ8kEUdGgPTpyOxQbZbok/2ZpvXCQwi989wkgJ9WK4hZHbysDvL951EY/+856d7iIU1KYpCPp+xDLlvP3sFPe6+gVYV8+ManhNVr1UKCXr+dwJ6LD6RSJ3xUFj3qkgGtBd6oRtsjYMn6afsqU5eRJ78ldUjQbEsRIAPaUuRkzmOnnY8cOSJdrcFORTODNkuWLMidOze8vLwk0zZTpkwyo6k/rH///liyZAkWLVoE9mtzT+L4b7/9FuwkdNLnhx9+wNChQ6UT0OwkdOLz119/SdeRsH7PnNG/G+706dOoWrWqdOo6JCTEXHqT3/O0IIqwgaWKbJpsVwRIn3aFn5KbQYD0SRJxZARIn47MDtVmiT7vPnuD2jP2ygLv2syUr+qTFUDGoCHrz2Bz0G3dyOVfVkOTsnlkzAQ8Rm7Tjdv7XUMUy2W/P6PJKtgGg3r+dgJ73xvQEz8qi+5kQNsAdUqhRQQsWT+11idPfovWsOelXjKgeWHSgj7YdRjs2o+4uDiwk9Ds3mdzT5EiRaQ7og8ePIh69erpDb958yYKFy4MNubatWu679h92KtWrZKuJhk7dqxBiuLFiyMiIkI6Ic2u5rD04WlBFGEDs5Rnmmd/BEif9ueAKkgZAdInqcORESB9OjI7VJsl+gy++RRtFx2WBZ4tDOikJjIrqn6JnFjdq6bZ+mLfxcFzzHbduJ8+r4zWFfObncf7gB4rA7Hv0kOpzUltyqFbHcv/rJZarCzRZ2pz0nxCQC4CIuiTJ79FLq80Tl0EyIBWF09NRWMmcoMGDSQjmf16+/bt2LVrF6KiolCyZEl8+umnyJ//w2+8nj59Kt1jzR52fUbGjBkN+s2VKxciIyOlk97u7u7S95UqVUJwcDC2bduGli1bGsxhd0Bv2LAB//77r8EVIEoA5WlBFGEDU8ItjXUsBEifjsUHVaOPAOmTFOHICJA+HZkdqs0Sfe4MvYe+q0/JAu/qjJayr8OQFdDIoOQGdK1i2bGuT8KVgcaeDaduYXHAFfiUzo1lB6/qhizoXBltvMiA7r4yEAHvDejJbcvhy9pkQFuqTZrHNwKWrJ9aQ4Qnv0Vr2PNSLxnQvDBpQR9Lly5Fv3798Mknn0j3VDMDOOnDTkT/+uuv6Ny5s/Qxu0aEXaPBTGj2EkVjT+XKlaVrNtjYChUqSEOyZ8+OJ0+eSCZ0xYoVDaaxO6HZdR4LFizAN998Y0EnCVN4WhBF2MAsJpom2h0B0qfdKaACTCBA+iR5ODICpE9HZodqs0Sf8/wvYcHeK7LAC53UHBldXWSNtXRQcgO6XH53bBtU32i4uLh4FBvtZ/S7Hz+rhLaVClhaBjfzvlwRiAOXE05AT2lbDl3JgOaGW2pEXQQsWT/VrcD60XjyW6yPFmUwhgAZ0ALrYubMmRg1apT0QkH2MkT2gkB2Gpm9kPCnn37CnDlzkDZtWrAXEbJTzOwu67p166JAgQK4deuWUeTYaerDhw9L/2P3W7OHvViRvYgwLCxM7+WEiQHYtRzTpk2T/jd69GizjCQufMkHhoeHI2/evFixYoXZGI4+4NWrV1KJxk6ZO3rtVB//CJA++edYyx2SPrXMHv+1kz7551jLHVqiz7mnohH6KE7XdoMCzrj8JA73Xie8cD3pM76WKzzcnawKUU//Nwbxf2niBhenNAafP42Ox9D9UUbrae/pglbF0lq1Vi0En30yGhceJ/DbvWxaNCho3b9AMIWJJfrUAsZUIx8IiKDPnj17Sv5EaGgoH6RRFzZHgAxom0PuOAmnT5+OMWPGSAX973//w4gRI/SKY1dw/P333/j888+xZs0aMqBtSJ0IG5gN4aRUKiNA+lQZUAqnKgKkT1XhpGAqI0D6VBlQCqcqApboc/KxKFx7nmA296uYFjXyJhiU3+57gxdv9cv7tKQLfD2sa+oaM6D7V0yHanmdpWIevYlD5Jt4eGZ1wo0X8ZhyPDpFDFMyrlUF3cGDzQiMRtjTBAP6q/JpUSc/GdAOThmVZycELFk/7VSqxWnJgLYYOpr4HgEyoAWWArvy4ttvv5UQePDgAdj9zUkfdic0u7M58cQzXcFhO7GI8E94bIcmZVIbAdKn2ohSPDURIH2qiSbFUhsB0qfaiFI8NRGwRJ9Vp+zCo1cxUhmretZAg5IJf55YcegqJm89r1dev4bFMbJFaTVLNoiV/AoONqB3/aIY06osbj99g8azAxDzLg6DfEqgbD539Psj5furV3SvBu/Seaxar6MHZy+YZC+aZM/CzpXxkR3vxbZEn46OL9XHDwIi6JOu4OBHr/bqhAxoeyHvAHnZnc8ff/wxMmTIgMS/sUta1oULF1C2bFnpGo6YmBjQSwhtR5oIG5jt0KRMaiNA+lQbUYqnJgKkTzXRpFhqI0D6VBtRiqcmAkr1ef95FGpO36Mr4Z8BdVGpUFbp579O3MSIjWf1yutSszCmtUt4R4y1nmpTdyHyZYIhnvS5NrMV5vpfwsIk91VP/KgsJm7RN8mTzvmla1U0K5fXWqVqIm7LHw/i/N3nUq0/f1EVvuXth4dSfWoCYCqSGwRE0CcZ0NzI1W6NkAFtN+jtn/jGjRsoUqSI9DbqN2/ewNXVVa8odo8zu9M56UsH2Xg27+DBg9J3SZ+bN2+icOHCUsxr167pvurWrRtWrVqFKVOmgN33nPwpXrw4IiIicPXqVXh4WP5mZZ4WRBE2MPv/F0AVWIoA6dNS5GieLRAgfdoCZcphKQKkT0uRo3m2QECpPpO/gHDfsEYomjOjVOrWs3cw8M8gvbLbeOXHgs6VVW8lPj5eMp3/t+MiNpwy/p6a85ObY4bfRaw+dl2Xv13lAtgcdDvFen7rUR2NSuVWvV4tBWw6bz/CHryUSrb3iXCl+tQSzlSr9hEQQZ88+S3aV5w2OyADWpu8qVY1e7lgcHAwdu7ciWbNmunFTbwj2tvbG3v2JJxu6N+/P5YsWSJd3TF//ny98T/88AOGDh2KgQMHYuHChbrv/vrrL3Tq1AleXl44c+aM3pygoCBUqVIF5cuXR0hISKr64mlBFGEDSxXZNNmuCJA+7Qo/JTeDAOmTJOLICJA+HZkdqk2pPgevC8I/Z+7ogDs9rimyZ0wn/bzv0gP0WHlCD9RGpXLhtx41VAWamc89fzuBfZcemox7YkwTzN99GWuO35CdnwxooNHsfbj26LWE2epeNVC/hP6VjbLBVGGgUn2qkJJCEAKyERBBnzz5LbKJpYGqIkAGtKpwGg92/vx5LFu2DIGBgYiMjETbtm0xa9YsafCRI0dw8uRJfPHFF8iePbsNqtFP8eeff6JLly6oUKGCZELny5dPGsCMYh8fHzx+/BjMQO7YsaP0+aVLl8AWHhcXFwQEBKBWrVrS52FhYahduzaePXsGdnWHp6enLtHbt29RqlQp6YTzvHnzMGTIEOk7du1H06ZNcfToUaxcuRLdu3dPVf88LYgibGCpIpsm2xUB0qdd4afkZhAgfZJEHBkB0qcjs0O1ydXn86i3+P3wNWw8fUtnTjL02DUXic+Ja4/R8eejeqBWLZING7+uoyrQvx+5hgn/hZqNeXikNyb9Fwr/8/fNjk0csLRrVTQX/AqOujP3Sndns2ddn1qoVSyHbPzUHihXn2rnpXiEgBwERNAnT36LHE5pjPoIkAGtPqZ6EZnhOnLkSMTGxkqfs+su2JUUK1askH5mBnT9+vWxePFi9O3b18rVGA/PjN/ff/8dWbNmRZ06daTrOFhd0dHR6N27N3755Re9iYknnZkJzQzkdOnSwd/fX5rHXmz4zTffGCRi8Zo0aSKNqVmzpnRNB7vG4+7du+jQoYNkcjNsUvPwtCCKsIGlhmuaa18ESJ/2xZ+ym0aA9EkKcWQESJ+OzA7VJlefIzeexboTN/UA61qrCKZ8XF73WeidZ2i14JDemNJ5M2PH4AaqAm3spYPGEgQMa4TRm0NwJPyR7PzsuhB2bYjIT7WpuxH5MlqCgP3lAftLBHs9cvVpr/oor9gIiKBPnvwWsdVqv+7JgLYi9tu2bcNHH32EokWLYu7cudKdyblz55ZO+iYa0Cx93rx5pWso/Pz8rFhNyqHZP11bvnw5li5dKp1eZkZwxYoVJUOcmeXGni1btmD27NlgV2iwp3LlyhgxYgRat26dYqLQ0FBMmDBBOjnNTj+zu5979eolXefh5OSU6t55WhBF2MBSTTgFsBsCpE+7QU+JZSBA+pQBEg2xGwKkT7tBT4llICBXn8ZM3/6NimOEb2ldluuPXqHh7AC9rOx+aHZPtJqPXAPaf0gDDN9wFsE3n8pO71suL5Z8USXVh2RkJ3TAgV6T/PHszVupsi0D66FCwSx2q1KuPu1WICUWGgER9MmT3yK0WO3YPBnQVgSfXWHBrt1gdywXK1ZMysSM1uQGtK+vr3SFRXh4uBWr4T80TwuiCBsY/4rkt0PSJ7/c8tAZ6ZMHFvntgfTJL7c8dCZXn8ZM307VCuF/HSrqYGCnZtnp2aRPvixuODrKR1WoKkzciRdRCf/S1NSz9Zt6GLL+jO6FeubGJ/3+5y+qwLd8wjWFoj1lx+/A65h3Uts7BtdH6bzudoNArj7tViAlFhoBEfTJk98itFjt2DwZ0FYEn11pUb16dezatUuXxZgBze5/3rx5s3QqmB7LEeBpQRRhA7OcaZppbwRIn/ZmgPKbQoD0SfpwZARIn47MDtUmV5/GDOjm5fJgaddqOhDfxLxDmfE79EBlLyhkLypU6wl/+BI+c/fLCseujxi0Nkh3n7GsSe8HeeTIgIDhjZVM4WZsiTF+ePsuXupnz3cNUTxXJrv1JlefdiuQEguNgAj65MlvEVqsdmyeDGgrgp8hQwaw082bNm0yaUA3a9YMx48fl17gR4/lCPC0IIqwgVnONM20NwKkT3szQPnJgCYNaBUBWj+1ypwYdcvVpzEDes1XNVHXM6cOKHbFX9FR+tcLZkjnjPOTfVUBMzr2HUqN1Te4TQX+86ua+Hz5cYtzJ33BosVBNDYxOYcHRzRGoewZ7NaFXH3arUBKLDQCIuiTJ79FaLHasXkyoK0IPvsPNCoqSu9qjeQnoGNiYlC4cGEUKlQIJ06csGI1/IfmaUEUYQPjX5H8dkj65JdbHjojffLAIr89kD755ZaHzszp83VMLC7ff4mPFx02aPfqjJYGdyUfi3iEadsuIOR2wiEbpzRA+HTDcZZgd+XBSzSZZ/r0c8Z0znj1/vqIGkWzI/DqY0tSSXPOTWqOTK4uFs/X4sT7z6NQc/oeXenHR/sgj7ub3Voxp0+7FUaJCQEAIuiTJ7+FRGsfBMiAtiLuo0aNwqxZs6SX9Q0dOjThN17J7oCeOnWq9GI+9v9sPD2WI8DTgijCBmY50zTT3giQPu3NAOU3hQDpk/ThyAiQPh2ZHarNlD7ZlRrtlxzB+bvPDYAy9XLBe8+iUGvGBxMzbFoLpHVO/cvHz995jpYLDpokLWcmV7C7qNV4Bnl7YmizUmqE0kyM9Sdu4PuNIbp6gyc0Q5b0ae1WP62fdoOeEstAQAR98uS3yKCUhlgBATKgrQBqYsgnT57Ay8sLt2/fRocOHdCuXTt8/vnnaNGiBb766ivp3uc1a9agaNGiCAoKQubMma1YDf+heVoQRdjA+Fckvx2SPvnllofOSJ88sMhvD6RPfrnloTNT+vz75E0M33DWaJvl8rtj26D6Rr978ioGlad8eB9OyMRmyOyWehMz6MYTtFt8xCTsBbKmt+jO5/Gty2Ly1vMGse11DQc77f3N2iBkdnXB0q5VkS1jOpvIbdXRaxj/b6gul736TyyA1k+b0E5JLERABH3y5LdYSDNNSyUCZECnEkBz0y9fviyZz+fOnZP+WRq7S4v9P3vYr8uWLYt//vkHnp6e5kLR92YQ4GlBFGEDI0FrFwHSp3a5E6Fy0qcILGu3R9KndrkToXJT+lywJwzzdl02CgO73uKvvrWNfpf8ZYSHR3qDGcOpfdj1Hp/9csxkmKRXcCQd2L2OB347ck33Uc2i2XH8/fUc6dM6Y2b7Cvh23RmHMaB95x/AxXsvpHr6NSyOkS1KpxY+WfOXHYjANL8L0tjkL5mUFUDlQbR+qgwohVMVARH0yZPfoir5FEw2AmRAy4bK8oFxcXHYsmUL/P39ce3aNbCfCxYsiKZNm6J9+/Zwdna2PDjN1CHA04IowgZG0tUuAqRP7XInQuWkTxFY1m6PpE/tcidC5ab0WW3q7hSvs/AunRsrulc3ClFcXDyKjf7wMsKhTUtikE+JVMO5//JDdFsRmGKcgtnSI/ZdPO49jzIYs7BzZelEceLjP6QBftwdhuBbTzHl4/J4+joGQ9YHG8yzxwng5C8CZNeKnBzbJNX4yQnw094wzPFP+EuHtpXy48fPKsuZZrUxtH5aDVoKrAICIuiTJ79FBcophAUIkAFtAWg0xTER4GlBFGEDc0wVUVVyECB9ykGJxtgLAdKnvZCnvHIQIH3KQYnG2AuBlPT57PVbeE32T7Gs1hXz4afPq6T4vcfIbbrvmPnMTOjUPv6h99Bn9SmjYT6rXgjd6nigx8oTRg3oVT1rIPTOcywOuIIOVQtiwkfl9OLcefoGdWbuNYhtDwP6aPgjdF724aR36byZsWNwA8zwuyCd2v7etzRqF8+RWjiNzp/rfwkL916Rvvu0WkHM6uBllTxyg9L6KRcpGmcPBETQJ09+iz00QjkBMqBJBdwgwNOCKMIGxo3wBGyE9Ckg6RpqmfSpIbIELJX0KSDpGmo5JX0GXn2MT5ceTbETZvjObF8xxe87/nwEJ649kb5X6wqJLcF39E4xJybv36g4RvgmXFFR7397cevJG4O62HUh7NqQpFcjJh9k7IS1PQzo5PcwNy2bB91qe+CLX4/rSrZWXczkXnogQsrzRa3CmPpxBbuqmdZPu8JPyc0gIII+efJbSND2QYAMaCvivmnTJkydOhWzZ8+Gj4+P0Uy7d+/GiBEjMGHCBLRt29aK1fAfmqcFUYQNjH9F8tsh6ZNfbnnojPTJA4v89kD65JdbHjpLSZ+D1wXhnzN3UmyxV72iGNe6bIrfT9oSipWHE+5c7lHXw+DEsSns/jpxE7sv3EefBsVQzSO7bmjSlyLW8MiO3g2KSVeEtKtcAG5pE6439J4TgIjIVwbh/x1QF16FspqkLPnVF2ywtYxeU4XM3H4RP+8P1w1hBnTRnBnxy3tj2Jp1TfwvVHdXtjmObaF/Wj9tgTLlsBQBEfTJk99iKc80L3UIkAGdOvxMzv7oo49w5MgR3LlzB66urkbHRkdHI1++fKhfvz7+/fdfK1bDf2ieFkQRNjD+Fclvh6RPfrnloTPSJw8s8tsD6ZNfbnnoLCV9lhm3A2/evkuxRXPXaiQ1UT+vWRjT28k7SZv0KgxXFydcmtpCV0O1qbsQ+TJG+jnxWorkBTb/4QAu3U94eV/SZ+fgBiiVN7NZypJeHcIG28OAHrr+DDYF3dartW+DYrqTycbqOnX9CX7cE4Y6xXNIJ84tfUZtOou1gTel6UlPllsaL7XzaP1MLYI035oIiKBPnvwWa2qBYqeMABnQVlRH4cKF4enpicTFKKVU3t7eCA8Px/Xr161YDf+heVoQRdjA+Fckvx2SPvnllofOSJ88sMhvD6RPfrnlobOU9JnSVRaJPY9qURp9TRidP+y6LBmi7GlfpSCmflwe6dOZfwn75qBbei8DDJvWAmmdnaQ4cszhvqtPYmfofQNq9g9vhCI5MpqlLGkOZ6c0CJ/e0uwctQcY66F5uTx6fSU3xr0m+ePZm7dSKZv710HlwtksKiup+T2kSUl82yT1L4+0qJD3k2j9TA16NNfaCIigT578FmvrgeIbR4AMaCsqw83NDR06dMAff/xhMkuXLl3Arut488bwjjIrlsddaJ4WRBE2MO4EKFBDpE+ByNZgq6RPDZImUMmkT4HI1mCrxvS54tBVTN563mQ3zFD+olaRFMcsCQjH/3Zc1H2fzsUJ0z4uj47VCpmMm/xFg8VzZUT3Oh5oXj4vakzbozfX2OnkW09eo97/9hnkCBjWCB45zRvQSa8eSemUtbVp7rYiEOw+6qRPg5K5cCDJZ8wYZwZ54pPUOP+6UXHpRYWWPAP+PI1tZ+9KU1kMFsueD62f9kSfcptDQAR98uS3mOOTvrcOAmRAWwdXKWrevHlRsmRJHDhwwGSWBg0a4MKFC3j4UP83F1YsjcvQPC2IImxgXIpQkKZIn4IQrdE2SZ8aJU6QskmfghCt0TaT6/PC3edo8eNBs9380rUqmpXLm+K4lExsc1da7Dh3D/3+OGUQt7pHNt1LDdmXw5uXwoDGnkbzs+so2i85ovsur7sbDo/01jNsUyo86YsI2b3L+4Y1MouF2gM6LT2K41cf64WtXSwHjkY80n12blJzZHJ10f2c1IBOzd3NX/1+Urp/mz3jW5dFz3pF1W5PUTxaPxXBRYNtjIAI+uTJb7GxPCjdewTIgLaiFNq0aYPt27fj9OnTqFDB+F1nISEhqFKlCpo2bQo/Pz8rVsN/T9x9ewAAIABJREFUaJ4WRBE2MP4VyW+HpE9+ueWhM9InDyzy2wPpk19ueegsuT7n7bqMBe+vzjDV34HhjVE4R4YUh6w5fh1jNp8z+N6cAZ38Co6UEjBjmBnEpozk+bsvI0v6tJjStjwKZU+51qQxjkc8Qqdfjkkf5c/ihiOjPrxU/lrkK+TPmh7sNLc1n7aLDiP45lO9FFWLZAMz1hOfE2OaIFfmD+8bSmpAf1GrMKZ+LO/O7eR9dP31OA6GRUofT2tXHl1qpnzK3ZoYJMam9dMWKFMOSxEQQZ88+S2W8kzzUocAGdCpw8/k7B07dqBly5YoWLAg5s2bJ13HkfTZsGEDhg4ditu3b0svIGzdurUVq+E/NE8LoggbGP+K5LdD0ie/3PLQGemTBxb57YH0yS+3PHRmYED7X8KCvVfMthYxvSWcklwBkXzChlO3MOzvYIM45u4nTsm4Th7o5NgmyJnJ+AvfzRZvYsCZm0/x8aLD0ogcGdPh1Lim0q/n+l/Cwr1XUCRHBvgPaQBXF/P3WVtah+/8A7h4T/9FiuULuOPc7ee6kMn/AiCpAd2xakHM7uhlUfpPlx5F4PvT13M6eqFD1YIWxVFrEq2faiFJcayBgAj65MlvsYYGKKZ5BMiANo9RqkZ89913+OGHH5AmTRpkzZoVxYoVk+JFRETg6dOniI+Px6BBgzB//vxU5aHJAE8LoggbGGlWuwiQPrXLnQiVkz5FYFm7PZI+tcudCJUn1+cMvwtYeiDCbOvmTjJvCb6Db9YGGcTJ7OqCo6N99K6PSDpo2YEITPO7YDb/xSm+cEurvgmc9AqSjOmcETrZV6olqcFr7v5rs8WbGdB4TgCuRr4yOWrH4PoondddGsP+bFl01Id/Vdu2Un78+Flli8pg5jsz4dmzoHNltPHKb1EctSbR+qkWkhTHGgiIoE+e/BZraIBimkeADGjzGKV6BHsJ4fTp03Hx4oeXb7CgZcqUwciRI9G1a9dU56AAZECTBggBWyEgwm+wbIUl5VEfAdKn+phSRPUQIH2qhyVFUh+B5Poc/+85rDp63WSiyW3L4cvaHibH7Dp/H71XnTQ6Zm5HL7RP4WTtj7vD8MPuyyZju6V1woXJvtJhH7UfZvwyA5g9Lk5pcGV6S+nXSQ1o9lLEiW3KqZ1aF6/2jD24+yzKZPw/etVEvRI5pTHRse9QauwO3fjGpXJhZY8aFtXH7v9mJjx7lnatiuYm7vm2KIHCSbR+KgSMhtsUARH0SQa0TSXFZTIyoG1I6927d3Hz5k0pY6FChZAvXz4bZuc/FU8LoggbGP+K5LdD0ie/3PLQGemTBxb57YH0yS+3PHSWXJ/D/w7G36dumWzt6oyWZs3fI1ci8fny4ynG+V/7CuhUvbDB9zO2X8DS/aZPYNf1zIE1X9WyCvx3nr5BnZl7dbGvTGsh9Vp8tP57e8ydAE9NcZUn++PJ67cmQ8z4pAI610jA70XUW1SY6K8bnzuzKwLHNJFVwqGwSPwXfBsdqhZCjaLZ4T03ABEPE05f/9ajOhqVyi0rjrUG0fppLWQprhoIiKBPnvwWNTinGMoRIANaOWY0w0ER4GlBFGEDc1AZUVkyECB9ygCJhtgNAdKn3aCnxDIQIH3KAImG2A2B5Poc+OdpbD17N8V63N1ccHZic7P1Jr1LOaXBxkxcOSewrXkC+fGrGFSZsktXcuik5ngXH4+KSQxe9qW5O7DNAmRiQJlxO/Dm7TuTIQY29sSw5qWkMclrZp+FTWuBtM6mX5b4OiYWtabvwfOoWORxd8Xh773RcHYAbj99I8Vd27sWahfPkZpWUj2X1s9UQ0gBrIiACPrkyW+xohQotAkEyIAmeXCDAE8LoggbGDfCE7AR0qeApGuoZdKnhsgSsFTSp4Cka6jlpPoMf/gSPnP3m61ezunfsPsv0PSHAyZjGYvDXlzIXmBo6hnhWwr9G3mardOSAa+iY1Fuwk7d1NPjmkpmcN0kp6LZlwWzpcfK7tVRIk9mS9KkOOftuziUHLsd8fHmwybid+9ZFGrN2KM3Yd+wRiiaM6PJIKeuP0H7JUd0YwJH+6DVwkN4+CJa+mzj13VQtUg284VYcQStn1YEl0KnGgER9MmT35JqwimARQiQAW0RbMYn9ezZU/pnWey+5zx58oD9LPdh83799Ve5w2mcEQR4WhBF2MBIxNpFgPSpXe5EqJz0KQLL2u2R9Kld7kSoPFGflWrW0zv5a6p3OQY0O0Wb3LRNHtNYnAFrTmNbSMonsFmMOR290CGFO6RTy1nsuzh4jtmuC3NkpDdeRMWi+XxDM71m0exY37d2alPqzb/x6DUazN4nK+b2b+ujTD53GJvz51c1Uccz4Y7olJ69F++j528f7un2G1Qfn/1yVDoRzZ6t39RD+QJZZNVirUG0floLWYqrBgIi6JMnv0UNzimGcgTIgFaOWYoznJycJAP6woULKFmyJNjPch8279070/+8Sm4sUcfxtCCKsIGJqlMe+iZ98sAivz2QPvnllofOSJ88sMhvD0yfcfHx6L83BjHv4vQareeZE41L58aUref1PpdjQD97/RZekz/cS2wMQWNxeqwMxL5LD00CvqJ7NXiXzmM1UjxH+yE2LuEIMjtJ/M3a0zh3O+HFfMkfOVgoKfTwlUh0MXF3dtJYiUb8lQcv0GSevkEuB6PVR69h3L+hupDszue+q08hOjZBB7uHNoBnbnVPeCvBgo2l9VMpYjTelgiIoE+e/BZbaoNyfUCADGgV1bB/f8I/U6tZsybc3NyQ+LPcFA0bNpQ7lMYZQYCnBVGEDYxErF0ESJ/a5U6EykmfIrCs3R5Jn9rlToTKmT7PPHyHBUExBu0u+7Ia2Ingr9ec1vtOjukaE5twlYSpx1icT5ceReDVxybnWftu4nLjd+BVTMIhoR2D68N3/sEU65HzQkYlOtoSfAffrA2SNeWnzyujdcX8OH/nOVou0K9xcZcqaFkhH+Lj4xFw6SGeR72Vfk56L/SoTSFYG3hDl6tPg2L45cCHF0AeHNEYhbJnkFWLtQbR+mktZCmuGgiIoE+e/BY1OKcYyhEgA1o5ZjTDQRHgaUEUYQNzUBlRWTIQIH3KAImG2A0B0qfdoKfEMhAgfcoAiYbYDQGmz8nHonDtueGlw3/3q42X0bHosfKEXn1yDGg2wWPkNpN9GYvz0cJDCLn9zOS8fwfUhVehrFbDjL2EkL3Yjz3/DKiLjxcdTjHX7qEN4Zk7k2q1/H3yJoZvOCsr3sxPKuCzGoURdOMJ2i3+cJczmzzvUy98UqUgAi49QPf3/I1pWUZ6qWCBrOmRNUNa+Mzbj4iHr3S5qhXJhpPXn+h+Pj7aB3nc3WTVYq1BtH5aC1mKqwYCIuiTJ79FDc4phnIEyIBWjpnsGZ988gny5cuHRYsWyZ5DAy1HgKcFUYQNzHKmaaa9ESB92psBym8KAdIn6cORESB9OjI7VBvT5+yT0bjwWP/6DYbMriENEPkyBp2XHdMDSq4B/V/wHQwycZrXWByfuQEIT2KKGmPIf0gDlFT55X9J89SZsQd3nkVJH63rUwufLzuG9zdyGJQzvnVZ9KxXVDUhrT52HeP+OScr3uiWpdGnQXEcDHuIrr8G6s2Z8UkFdK5RGC1+PIgLd/WvD8ns6oJN/esYvCQyfxY3Xd8s2JnxTZE1QzpZtVhrEK2f1kKW4qqBgAj65MlvUYNziqEcATKglWMmewa7huPjjz/GunXrZM+hgZYjwNOCKMIGZjnTNNPeCJA+7c0A5TeFAOmT9OHICJA+HZkdqo3p85eQGBy7a/hemsDRPpIhmfwEsFwDmqEb+TIa1abuNgq0sesrakzbjQcvok0SY+2rIRrPCcDVyISTwa0q5sO2sym/FLFj1YKY3dFLNSEtPxiBqdsuSPEqFsyCs7f0T4OzfH+fuiV9P7CxJ4Y1LwW/kLvon+yalMTvas/Yg7vvzfSkRX7klR/sug9Tz8UpvnBL66xab5YEovXTEtRojq0QEEGfPPktttIF5dFHgAxoKyqiTJky8PT0xJYtW6yYhUInIsDTgijCBkbK1S4CpE/tcidC5aRPEVjWbo+kT+1yJ0LlTJ8/no5GcKThCWhmQF558BKtFx7SQVEsZ0bsHdZINjRPX8eg0uRdRsdfntoC6Vw+vMCd3VdcauwOg5chJp98amwT5MjkKrsGpQN95x/AxXsvZE1rUT4vlnxRVdZYc4NY/z/tvYK5uy5LQ9t45Qc7RZ706VWvKH49dFX6qGutIpjycXmsP3ED328MMQgfMrGZxN31R6/NpTb6vdr3W1tSBK2flqBGc2yFgAj65MlvsZUuKI8+AmRAW1ERkydPxpw5c3D58mXkzZvXipkoNEOApwVRhA2MVKtdBEif2uVOhMpJnyKwrN0eSZ/a5U6Eypk+ZwZG4/JTfQO6TD53bP+2Ps7dfqZnQLM7kSspuH+Z3SFdfsJOo1Cen9wcGdK56L57FR2LcknG1vPMieCbT/EiOlZv/oXJvkifznonc9suOizllfM0KJkLq3rWkDPU5JglAeFYHHAFL6I+9PpptYIonisTZmy/KM1lLx1kdzbPe29Qt62UHz9+VhlJT00nTTKnoxdmbr8gXaOi9HFL64SLU1oonab6eFo/VYeUAqqIgAj65MlvUZF6CqUAATKgFYCldOjbt2+lKziuXLmCmTNnonXr1kibNq3SMDReJgI8LYgibGAyaaVhDogA6dMBSaGSdAiQPkkMjowA6dOR2aHamD7HH4nCrZcJLyFkVzekdXYCMzc9cmbE3WdvUHvGXh1QSq9liHr7DqXH7TAKdPCEZsiS/sOfk24/fYO6Mz/kCpvWQqpl5eGrmLTlvC6GtU/mfrr0KAKvPpYljsxuLvAtlxfMiG5dMR/SpEkja17SQW/fxaHEmO0G876sXQQjW5TG6qPXkdHVBZ9VL4Q/jl3HxPdYlMyTCVu+qYdF+8KxYE+YwXxjJ6jlFpctQ1oEjW8md7jVxtH6aTVoKbAKCIigT578FhUopxAWIEAGtAWgyZ1SrFgxxMXF4ebNm9IU9puQ3Llzg90Nnfxh34WHh8sNTeOMIMDTgijCBkYi1i4CpE/tcidC5aRPEVjWbo+kT+1yJ0LlTJ/DD0ThUVSCAf3nVzVRxzOnXuuTtoRibeAN9KlfDEOblVIES0rmKgtycmwT5ExylUbonWdotSDhuo9Mri44N6m59OvnUW/hPWe/dJ90lcJZsal/XUU1KB3c9dfjOBgWaXTakCYlsfH0Ldx4bHitxewOFdGxWiGl6fDgeRRqTN9jMK9Pg2IY3bKM3uebg25hyPpgxTmUTsiQzhnnJ/sqnab6eFo/VYeUAqqIgAj65MlvUZF6CqUAATKgFYCldKiT04d7zOTMZWY1PZYjwNOCKMIGZjnTNNPeCJA+7c0A5TeFAOmT9OHICJA+HZkdqo3pc+DeN3j9/uaHLQProULBLAbAxL6Lg4uzsj/nsCBxcfEoNtrPKNDHRvkgb5YPh3TYqWN2+pg9+bK44egoH928Kw9e4Ej4I7SskE/PtLYGgx4jtxkNW7VINmz8ug4OX4lEl+XHDcZYatqev/McLRccNIg3yNvTwPDfc+E+ev1+0hpt68V0dXHCpal0BYfVgaYEmkZAhP2dJ79F02LTcPFkQGuYPCpdHwGeFkQRNjDSr3YRIH1qlzsRKid9isCydnskfWqXOxEq371nD3rvikLC+WcgYFgj6eoNNZ+UDN3k90nvu/QAPVaekFIXz5URe76T/7JDW9R7eKQ3CmRNjzM3n+LjRYcNUrIXKrIXKyp9DoVF4otfDQ3t4c1LYUBjT71wJ649RsefE0x6az5pndMgbFpLa6aQFZvWT1kw0SA7ISCCPnnyW+wkE+HTkgEtvAT4AYCnBVGEDYwf5YnXCelTPM611DHpU0tsiVcr6VM8zrXU8Tb/PRiwN0pX8qmxTZAjybUYavSSkgFdOm9m7BjcQJdi29m7GPDnaennCgWySPcb2+NJqd6I6S3h5JQGNx+/Rv1Z+wxKq10sB9b2qaW45P+C72DQ2iCDeRM/KovudYvqfX75/gs0++GA4hxKJ7CrrK/OaKV0murjaf1UHVIKqCICIuiTJ79FReoplAIEyIBWAJbcoX5+fvjnn3+ku59dXV1RsWJF9OjRA0WL6v+mQW48GicPAZ4WRBE2MHms0ihHRID06YisUE2JCJA+SQuOjADp05HZEbe2+Ph4HAiLxPbDQVh36a0OCHaCl53kVfNJydBlOa7N/GBy/nXyJkZsOCulrlk0O9b3ra1mGbJj1Zy+G/efR+uNd0vrhItTEk43M+yKjjK8ViSzqwvOTmym+EWEfx6/gdGbQwzqM3an9L1nUag1w/C+6MTJedxdDWpn3zGz/+K9F7IxSM6NookqDqb1U0UwKZTqCIigT578FtUFQAFlIUAGtCyY5A/q0qUL1q1bp/sNCfsFe8EgM6LZ523atJEfjEYqQoCnBVGEDUwRuTTYoRAgfToUHVRMMgRInyQJR0aA9OnI7Ihbm7G7hJmBGvL+xX9qIiPHgGanir/7OxjsHmj2eJfOjRXdq6tZhuxYxq65yJYhLYLGN9PF6PXbCey5+MAg5qfVCmJWBy/p88evYnA84hHqlsgJd7e0urH7Lz/EXyduon3VAvAunQe/HAjHdL+LBrEWd6ki3Xmd9HkT8w5lxu9IsZciOTLg+iP9FyQy83nZl9Xwy4EIrD52XRYOSV8CKWuClQbR+mklYCmsKgiIoE+e/BZVSKcgihEgA1oxZClP+PXXX9G7d2+4uLiga9euqFy5Ml68eIGtW7fi6NGjcHd3x/Xr15Eli+HLPFQsQ9hQPC2IImxgwgqVg8ZJnxyQyHELpE+OyeWgNdInByRy2ILXJH88e/Ph5DNrsUmZ3FjeTX3T15QBza61eBkTi0azAyTDNvFpXTEffvq8il2QN3bCmd39zO6ATnzexcWjy/JjOBaRYJgnfdipbvZ9sx/2I/zhK7CXF27oV1s6oBQd+w5lxu1AXDw7sARcmOyLH/eEYUlAuEGc33vWQMOSufQ+T+n0deKg7nU88NuRa3pzPHNnwu6hDaXPfOcf0DsJzb678uClQe7k16PYhQgAtH7aC3nKKwcBEfTJk98ih1Maoz4CZECriGmDBg1w5MgR7Ny5Ez4+H97UzFKwKzhWrVqF5cuXS7+mR30EeFoQRdjA1FcARbQVAqRPWyFNeSxBgPRpCWo0x1YIkD5thTTlUYKAMVO4d/2iGNOqrJIwssaaMqDZlRUbT93CpC3n9WIlPUksK4nKg5Ib9BULZsF/Aw3vpA6++RRtk72Q8Mq0Frh0/wVaLTikq+rM+KbImiEdrj96hYazA3Sf7/muIXzm7jda/cava6NqkewG31WdsguPkpj1SQdMblsO4/8N1ZtTNGdG7BuW8ELHa5Gv8NFPh/AiKha1imXH7A5eRu+z3tS/DqoUzqYyqsrD0fqpHDOaYTsERNAnT36L7ZRBmZIiQAa0inrIli0b2H+Uhw59+A1GYviwsDCUKlUKgwcPxrx581TMSqESEeBpQRRhAyPlahcB0qd2uROhctKnCCxrt0fSp3a547lyY6bw0KYlMcinhOptbw66hSHrgxXFHeTtiaHNSimao+Zg77kBiHj4SheyUalc+K1HDYMU7PRwk3n6BnLopOYYsfEs2EsVEx//IQ3wf/bOAzyKan3jb+iEXkU6ofcOAULvRVFUUIoiIlgQvCpKR0EEwQaKYqEIFvwjAkrvPVTpEHrvEHoLkPyfmZglm2yyszszOzPnvPs897lm9ztf+X3vPcf7ZXK2xGOZ8O+JK2j37XrX+6OfqaDaenot6FMXpR/PnOgj5QqPsUsP4N8TVxN99vlzFdWrTOK/CmRPjzXvP3p6++79h7h57wFy/vdlk+NXHMKYRftdSya+VA2NSz9mJE6/fXH/9BsdFwaAgAz6FGneEgBJMIQHAhxAGyiLlClTonPnzvj5558TeY2Ojlav5ujWrZv6FDRfxhMQaUOU4QAzXgH0GCgC1GegSDOOPwSoT3+ocU2gCFCfgSLNOL4Q8DSAHtKmDLqFGf8F6sq1EU99ux7K08JaX56un9C61gi7zj9txNpDl1yu2lXJhy/aV0rk+v7DaBQfuMDt/W2Dm6Ly8CVu7017pQbqFs+FxXvOoce0rZpSXPN+QxTIHpyk7cHzN9D0y9Vun497oTJ6/77N7b3+LUuhZ/2iSfqJehCN/n/twumrtzGsbTl1UG6XF/dPu3SCeXgiIIM+RZq3UMXWEOAA2kDuKVKkQNeuXTFp0iSPXr19bmAqUroSaUOU4QCTUqSCFE19CtJIQcugPgVtrCBlUZ+CNFKgMpL6IrtR7crj+RoFTan06KVbaPjZo6snvAX5u1cdVMif1ZuZaZ/3nbEDM7aecvlP7nqSGiOW4sKNey5bZVj917+n3XIb8XQ5dKpZCH9sPoEPZu7SlPf+j1sgbaqUydom/EXCVx0q4e0/trvWtK2UF589VxGpU6bQFNNuRtw/7dYR5hOfgAz6FGneQvVaQ4ADaAO5exswe/vcwFSkdCXShijDASalSAUpmvoUpJGClkF9CtpYQcqiPgVppEBlHLl4E4083Ds8/Kly6BJayLRK/9lxRr2C4p8dZ3Hp5qOBraeAS/5XD8UtfBJ3+Ny9mLj2qCu1D1qUwusNPD9FvOvUNfVe5eRez1cvgFHPVMDU8GOJ7mhOap3yZYbeXgkH0Amv4Dg6spX65YdOfXH/dGrn5MhbBn2KNG+RQ5X2q5IDaAN7ogyY/T3UlXUPHjwwMBv5XIm0IcpwgMmnUHEqpj7F6aWIlVCfInZVnJqoT3F6KUolW45F4tkJ4YnK2dC/MfJkSWd6mW9P34bZ288kG8fb9RNmJzl6YQS+XXnYFWb0sxXQvlqBJMMm90WLyqLaRXPgt1dD8dOaI/h43j6v6efLmh7r+j26tzmpBQnjKtzqjl6hmqdMEYTDn7TyGsvOBtw/7dwd5iaDPkWat1Cx1hDgANpA7soAWs9LuSeaL/8JiLQhynCA+d9prrSaAPVpdQcYPzkC1Cf1YWcC1KeduyNfbkPn7MbP4cc9Fq7liVsjiH30zx5MXncsWVdbBzVBjv++JM+ImL76GLv0IL5cesC1zNsX83kbQBfPnRFL3qmPb1cewuiFj77wL2Fe3cOKYO/Z6+jfsjTK58/iNe2EcZUeKtd8LNl7Acq1ITVDcnj1YWcD7p927g5zk0GfIs1bqFhrCHAAbQ13RjWBgEgbogwHmAkSoMsAEaA+AwSaYfwiQH36hY2LAkSA+gwQaIbxSsDbVRGBGkAnfLrYU+J7hzVHcJpUXmsyy+C7lYfx6cIIl/uZr9dG1ULZkgznbQCdLTg1tg1phoSD7YQOfe3BtA3HMXj2btXNR0+WxUu1C5uFxBK/3D8twc6gGgnIoE+R5i0a20ozgwlwAG0wULqzjoBIG6IMB5h1SmFkvQSoT70Eud5MAtSnmXTpWy8B6lMvQa43ikBy1z+UypMJC9+uZ1SoZP2MW3YQXyx59HSxJ+Mjn7RCihTW3V08ae1RDJu715XaorfroWSeTH4PoJWF/w5uCsXvNysOJenH1wH03fsP8cuG44iOicGLtQojXerkv7QwIA02MAj3TwNh0pXhBGTQp0jzFsMFQIeaCHAArQkTjZxAQKQNUYYDzAmaYo6eCVCfVIadCVCfdu4Oc6M+qQG7EPhk/j78sPpIonSypAV+7RGGcvm8X/lgRC0/rj6CEfOTvwfZ10GsEXnF9xH/yWLlfW93Unt7Alrx8fULlbHr9DWPPYiLbXXdRnPU64/7p16CXG8mARn0KdK8xUwt0HfSBDiApjqEISDShijDASaM8CQshPqUsOkOKpn6dFCzJEyV+pSw6TYt+YM/d+KPLSfdsnu6WCq0KpwKTZs0DljW08KPYfCcPUnGy5kxLbYMahKwfDwFmhp+DEPi5ejtTmotA+gRT5fDwfM3MWW95/uv325SHG83KWFp3XYLzv3Tbh1hPvEJyKBPkeYtVK81BDiAtoY7o5pAQKQNUYYDzAQJ0GWACFCfAQLNMH4RoD79wsZFASJAfQYINMN4JfDatK1YuOecm91PTdMhRVAQGjVq5HW9UQYztpxE3z93JunODoPYiWuPYni8Kzj2DWuB9GmSvt5CuVJEuVokudfgNmVw+OJN/LbxhEczq68dMaq/Rvrh/mkkTfoymoAM+hRp3mJ0/+lPGwEOoLVxopUDCIi0IcpwgDlAUkwxCQLUJ6VhZwLUp527w9yoT2rALgQ6/rgB6w9fdqUzqHVphNyPfRo3kAPouTvPoNdv2zximdqtBuqVyGU5sh9WH8Yn8x99CeHRka0QFJT0ndQxMTH4ZvkhfJ7M3dZ9m5fEsUu3MGPrqUT15cuaHuv6Be6XAJYD1pgA90+NoGhmCQEZ9CnSvMUSkTAoOICmCIQhINKGKMMBJozwJCyE+pSw6Q4qmfp0ULMkTJX6lLDpNi25zddrsPv0dTW7bzpWRpsKeWGFPpfuPY/uU7d4pLSqbwMUypHBcoLfrTyMTxc+GkBruZt5y7FIPDshPMnc32pUDCcib2PO9jOJbP7pFYby+QNzB7flcH1IwAp9+pAeTSUnIIM+RZq3SC5Xy8rnANoy9AxsNAGRNkQZDjCj+09/gSNAfQaONSP5ToD69J0ZVwSOAPUZONaMlDyBuqOX42TkHdXol1dqIqx4TksG0OsPX0LHHzd6THb7kKbIGpzG8lYmvKdaywB69+lraPP12iRz7x5WBGeu3cH8Xe7XoHSrUwRDnihjec12TID7px27wpziCMigT5HmLVSuNQQ4gLaGO6OaQECkDVGGA8wECdBlgAhQnwECzTB+EaA+/cLGRQEiQH0GCDTDeCVQ8aPFuHbnvmr3d686qJA/qyUD6DtRD9Ho85U4e+1uopwPf9IAinyiAAAgAElEQVQKKVMkfdWF1yINMlByrPPpckTeisILNQpgZLsKXj0fuXgTjT5flaRd59CCOHftHpbuO+9m07NeCPq3Ku3Vv4wG3D9l7LpzapZBnyLNW5yjLLEy5QBarH5KXY1IG6IMB5jUYnV48dSnwxsoePrUp+ANdnh51KfDG+jA9JUhs/JldxXzZ3UNc6OjY1B04HzExMQWFHfVhVX6VHL89/gVvDxlsxthLU8aB6olV25FYd/Z66hRJDtSpUzhNeyFG3dRY8SyJO2eqZIfF2/ew+oDF91s3mhQFO+3KOXVv4wGVulTRtas2XcCMuhTpHmL7x3mCiMIcABtBEX6sAUBkTZEGQ4wW4iGSfhFgPr0CxsXBYgA9Rkg0AzjFwHq0y9sXOQngdtRD1D30xW4fCsKytUOg9uUxod/78H83edw8cY9l9dtg5siW4Y0ljwBHb+0wv3m2XYA7WsLoh5Eo8SgBUkua13hcbUHm45Gutn0blwc7zQt4Ws4Key5f0rRZscWKYM+RZq3OFZoDk+cA2iHN5DpPyIg0oYowwFG7TqXAPXp3N7JkDn1KUOXnVsj9enc3jkt85iYGLw3Yydm/nvKlfpv3Wui40+J71s+NKKl+lSv1fpsOXaN+pSx8sqYNhV2f9Tcadjd8i03dBFu3nvgsYbGpXKrT0DvPHXN7XNl+KwMoflKTMBqfbInJJAcARn0KdK8hWq2hgAH0NZwZ1QTCIi0IcpwgJkgAboMEAHqM0CgGcYvAtSnX9i4KEAEqM8AgWYYzNl+Gn2mb3cjUa9ErkRXPigGcVddWK1P5QsJO/20Ub0aRBmW1y6W09GdDPt0OU5dif2iR+WVJ3M6nLsee9d1nWI5cP76PRy6cNOtxvdblMQbDYo5um6zkrdan2bVRb9iEJBBnyLNW8RQnfOq4ADaeT1jxkkQEGlDlOEAo5CdS4D6dG7vZMic+pShy86tkfp0bu+clnmJgQsQ9TBaU9p2GUAryZ6MvI2gICB/tmBNudvZqM3Xa7D7dOwT3cqrcsGs2HbiqvrPVQpmVQfQp68+GlAr7w9oVQo96hW1c1mW5cb90zL0DKyBgAz6FGneoqGlNDGBAAfQJkClS2sIiLQhynCAWaMSRjWCAPVpBEX6MIsA9WkWWfo1ggD1aQRF+tBCIOF9ykmtea9ZCfRqFHvlA/Wphax2m2e+W4+tx6+4FrQu/zjm7Tqr/lzm8czq09CRt6LcHA5qXRrd64ZoDyKRJfUpUbMdWKoM+hRp3uJAiQmRMgfQQrSRRSgERNoQZTjAqFrnEqA+nds7GTKnPmXosnNrpD6d2zunZV5swHw8iI7xmvbY5yuhbaV8HEB7JeW7wQs/bED4kcuuhV1rF8aU9cfUn0NyZsDZa3dx5/5DDqA1ouX+qREUzSwhIIM+RZq3WCISBgUH0BSBMARE2hBlOMCEEZ6EhVCfEjbdQSVTnw5qloSpUp8SNt2ikqsMX5Lo6VpPqfz0YjU0KfMYB9Am9OnFSZvc7tx+t2kJfL7kgBopW3BqXLl93y1q6pRBWPFeAyGuHzEBJ5/QNwMqfRpGQIbzXaR5i2GNpyOfCHAA7RMuGtuZgEgbogwHmJ21xNySJ0B9UiF2JkB92rk7zI36pAYCRSDhF+B5ivtY5rRY1bch0qVOyQG0CY3p/vNmLN13weV5ZLvy6P/XLo+RGpTMhe5hIQgr7uwvXjQBo8sl908z6dK3XgIy6FOkeYvefnO9fwQ4gPaPG1fZkIBIG6IMB5gNJcSUNBKgPjWCopklBKhPS7AzqEYC1KdGUDTTTaDZl6tw4PzNJP283qAo3mxYDBnTpuKATzdtzw56TtuCRXvOuz788cVqeHXqFo/GB0e0ROqUKUzKRAy33D/F6KOoVcigT5HmLaLq0O51cQBt9w4xP80ERNoQZTjANDeWhrYjQH3ariVMKB4B6pNysDMB6tPO3REnt4fRMSg6YH6yBU15uToalMztZkN9GquBV6ZsxrKIR09Az3qjNp7+dn2iIIVzBGNl34bGBhfQG/UpYFMFKkkGfYo0bxFIeo4qhQNoR7WLySZHQKQNUYYDjGp2LgHq07m9kyFz6lOGLju3RurTub1zUua/bzqR5FUPcXX80SMUNUNycABtYmM7/7QRaw9dckVY835D1B29IlHE7mFFMKhNGRMzEcM1908x+ihqFTLoU6R5i6g6tHtdHEDbvUPMTzMBkTZEGQ4wzY2loe0IUJ+2awkTikeA+qQc7EyA+rRzd8TJrXC/eW7FTOpaDd2muF/9sGNIM2QJTs0BtIltbz8hHJuORboiHPmkFUI8PJn+dOV8+LJDJRMzEcM1908x+ihqFTLoU6R5i6g6tHtdHEDbvUPMTzMBkTZEGQ4wzY2loe0IUJ+2awkT4gCaGnAIAe6fDmmUw9NMOICe+1YY2ny91lVVx5oF8cnT5RNVSX0a2/i249dhx8mrLqfHRrVG0y9W4eAF97u5u9UpgiFP8Alob/SpT2+E+LmVBGTQp0jzFiu1InNsDqBl7r5gtYu0IcpwgAkmP6nKoT6larfjiqU+HdcyqRKmPqVqt2XFJhxAK087rzxwAaMWRKBRqdwY4WH4rCRLfRrbspZj12Df2etuA+iNRy6jww8b3AKt7tsQBXMEGxtcQG/Up4BNFagkGfQp0rxFIOk5qhQOoB3VLiabHAGRNkQZDjCq2bkEqE/n9k6GzKlPGbrs3BqpT+f2zkmZN/p8JY5cvOU2+NSSP/WphZJ2m8afr8ThBH04eukWGn620uUkX9b0WNevkXanEltSnxI33wGly6BPkeYtDpCUkClyAC1kW+UsSqQNUYYDTE6VilE19SlGH0WtgvoUtbNi1EV9itFHu1fR+/dt+HvHGTXNpmUew48vVtOUMvWpCZNmo7qjl+Nk5B23XwRcvR2FSsOWuN4LK5YTv3SvqdmnzIbUp8zdt3/tMuhTpHmL/RUlZoYcQIvZVymrEmlDlOEAk1KkghRNfQrSSEHLoD4FbawgZVGfgjTS5mX0+u1fzN15Vs3y/RYl8UaDYpoypj41YdJsVPOTpTh//Z7bADomJgZF+s93vRcakh3Te9TS7FNmQ+pT5u7bv3YZ9CnSvMX+ihIzQw6gxeyrlFWJtCHKcIBJKVJBiqY+BWmkoGVQn4I2VpCyqE9BGmnzMt789V/M2xU7gO7XshReq19UU8bUpyZMmo2Gz92LiWuPqvb5s6XH2g9ir9qIf0d3tULZ8OfrtTX7lNmQ+pS5+/avXQZ9ijRvsb+ixMyQA2gx+yplVSJtiDIcYFKKVJCiqU9BGiloGdSnoI0VpCzqU5BG2ryM13/ZigW7z6lZDmhVCj3qcQBtRcuu372PnlO3IvJWFL56vhJKP55ZTePpb9dh24mr6j+Pfb4S2lbKZ0V6jovJ/dNxLZMqYRn0KdK8RSpx2qhYDqBt1Aymoo+ASBuiDAeYvm5ztZUEqE8r6TO2NwLUpzdC/NxKAtSnlfTlid1z2hYs2nNeLXhgq9J4tV6IpuKpT02YdBsdPH8Dw+buReEcGfDhk2WRMkWQbp8yOKA+Zeiyc2uUQZ8izVucqzRnZ84BtLP7x+zjERBpQ5ThAKN4nUuA+nRu72TInPqUocvOrZH6dG7vnJR5j6lbsHhv7AB6UOvS6F6XA2gn9Y+5eibA/ZPKsDMBGfQp0rzFzloSOTcOoEXurmS1ibQhynCASSZPocqlPoVqp3DFUJ/CtVSogqhPodpp22K6/7wFS/fFDqCHtCmDbmFFNOVKfWrCRCOLCFCfFoFnWE0EZNCnSPMWTU2lkeEEOIA2HCkdWkVApA1RhgPMKp0wrn4C1Kd+hvRgHgHq0zy29KyfAPWpnyE9eCfwypTNWBZxQTX88Iky6FqHA2jv1GhhdwLcP+3eIbnzk0GfIs1b5FarddVzAG0de0Y2mIBIG6IMB5jB7ae7ABKgPgMIm6F8JkB9+oyMCwJIgPoMIGyJQ708eRNW7L+oEvjoybJ4qXZhTTSoT02YaGQRAerTIvAMq4mADPoUad6iqak0MpwAB9CGI6VDqwiItCHKcIBZpRPG1U+A+tTPkB7MI0B9mseWnvUToD71M6QH7wS6Tt6Elf8NoIe3LYsutTiA9k6NFnYnwP3T7h2SOz8Z9CnSvEVutVpXPQfQ1rFnZIMJiLQhynCAGdx+ugsgAeozgLAZymcC1KfPyLgggASozwDCljjUi5M2YfWB2CegP36qHDqHFtJEg/rUhIlGFhGgPi0Cz7CaCMigT5HmLZqaSiPDCXAAbThSOrSKgEgbogwHmFU6YVz9BKhP/QzpwTwC1Kd5bOlZPwHqUz9DevBOoMvEjVhz8JJq+MnT5dGxZkHviwBQn5ow0cgiAtSnReAZVhMBGfQp0rxFU1NpZDgBDqANR0qHVhEQaUOU4QCzSieMq58A9amfIT2YR4D6NI8tPesnQH3qZ0gP3gl0+mkD1h26rBqOalcez9fgANo7NVrYnQD3T7t3SO78ZNCnSPMWudVqXfUcQFvHnpENJiDShijDAWZw++kugASozwDCZiifCVCfPiPjggASoD4DCFviUC/8sAHhR2IH0J8+Ux4dqnMALbEchCmd+6cwrRSyEBn0KdK8RUgROqAoDqAd0CSmqI2ASBuiDAeYtq7Syo4EqE87doU5xRGgPqkFOxOgPu3cHXFye/6HcGw4EqkWNPrZCmhfrYCm4qhPTZhoZBEB6tMi8AyriYAM+hRp3qKpqTQynAAH0IYjpUOrCIi0IcpwgFmlE8bVT4D61M+QHswjQH2ax5ae9ROgPvUzpAfvBNp/H45NR2MH0J89VxHPVs3vfRHvgNbEiEbWEeD+aR17RvZOQAZ9ijRv8d5RWphBgANoM6jSpyUERNoQZTjALBEJgxpCgPo0BCOdmESA+jQJLN0aQoD6NAQjnXgh8NyE9dh87Ipq9UX7imhXhQNoisb5BLh/Or+HIlcggz5FmreIrEU718YBtJ27w9x8IiDShijDAeZTc2lsKwLUp63awWQSEKA+KQk7E6A+7dwdcXJ75rv12Ho8dgD9ZYeKeLoyB9DidFfeSrh/ytt7J1Qugz5Fmrc4QVMi5sgBtIhdlbQmkTZEGQ4wSWUqRNnUpxBtFLYI6lPY1gpRGPUpRBttX0S7b9fh3xNX1TzHPl8JbSvl05Qz9akJE40sIkB9WgSeYTURkEGfIs1bNDWVRoYT4ADacKR0aBUBkTZEGQ4wq3TCuPoJUJ/6GdKDeQSoT/PY0rN+AtSnfob04J3AU+PXYfvJ2AH0uBcq48mKeb0v4h3QmhjRyDoC3D+tY8/I3gnIoE+R5i3eO0oLMwhwAG0GVfq0hIBIG6IMB5glImFQQwhQn4ZgpBOTCFCfJoGlW0MIUJ+GYKQTLwTafrMWO05dU62+6VgZbSpwAE3ROJ8A90/n91DkCmTQp0jzFpG1aOfaOIC2c3eYm08ERNoQZTjAfGoujW1FgPq0VTuYTAIC1CclYWcC1KeduyNObk98vRa7TscOoMd3rILWFR7XVBz1qQkTjSwiQH1aBJ5hNRGQQZ8izVs0NZVGhhPgANpwpHRoFQGRNkQZDjCrdMK4+glQn/oZ0oN5BKhP89jSs34C1Kd+hvTgnUCbr9dg9+nrquF3naqgZXkOoL1To4XdCXD/tHuH5M5PBn2KNG+RW63WVc8BtHXsGdlgAiJtiDIcYAa3n+4CSID6DCBshvKZAPXpMzIuCCAB6jOAsCUO1WrsGuw9GzuAntC5KlqUy6OJBvWpCRONLCJAfVoEnmE1EZBBnyLNWzQ1lUaGE+AA2nCkdGgVAZE2RBkOMKt0wrj6CVCf+hnSg3kEqE/z2NKzfgLUp36G9OCdQIuvViPi3A3V8IcuVdGsLAfQ3qnRwu4EuH/avUNy5yeDPkWat8itVuuq5wDaOvaMbDABkTZEGQ4wg9tPdwEkQH0GEDZD+UyA+vQZGRcEkAD1GUDYEodq/uVq7D8fO4D+6cVqaFLmMU00qE9NmGhkEQHq0yLwDKuJgAz6FGneoqmpNDKcAAfQhiOlQ6sIiLQhynCAWaUTxtVPgPrUz5AezCNAfZrHlp71E6A+9TOkB+8Emn6xCgcv3FQNJ75UDY1LcwDtnRot7E6A+6fdOyR3fjLoU6R5i9xqta56DqCtY8/IBhMQaUOU4QAzuP10F0AC1GcAYTOUzwSoT5+RcUEACVCfAYQtcagmX6zCof8G0JO7VkfDUrk10aA+NWGikUUEqE+LwDOsJgIy6FOkeYumptLIcAIcQBuOlA6tIiDShijDAWaVThhXPwHqUz9DejCPAPVpHlt61k+A+tTPUCQPt+49wL0H0cieIY2hZTX6fCWOXLyl+pzycnU0KMkBtKGA6cwSAtw/LcHOoBoJyKBPkeYtGttKM4MJcABtMFC6s46ASBuiDAeYdUphZL0EqE+9BLneTALUp5l06VsvAepTL0Fx1u87ex3tJ4SrA+jvu1TV/JSyFgINP1uJo5diB9BTu9VAvRK5tCwD9akJE40sIkB9WgSeYTURkEGfIs1bNDWVRoYT4ADacKR0aBUBkTZEGQ4wq3TCuPoJUJ/6GdKDeQSoT/PY0rN+AtSnfoaieGj8+Uoc/u8p5SalH8NPL1UzrLT6Y1bg+OXbqr9pr9RA3eIcQBsGl44sI8D90zL0DKyBgAz6FGneoqGlNDGBAAfQJkClS2sIiLQhynCAWaMSRjWCAPVpBEX6MIsA9WkWWfo1ggD1aQRF5/tQrt4oO3SRWyFHR7ZCUFCQIcXVG70CJyJjB9C/dq+JOsVyavJLfWrCRCOLCFCfFoFnWE0EZNCnSPMWTU2lkeEEOIA2HCkdWkVApA1RhgPMKp0wrn4C1Kd+hvRgHgHq0zy29KyfAPWpn6EdPczZfhqbjkaiW1gRFM2V0WuKEeeuo8VXa9zsZrxWC9ULZ/e6VotB2KfLcerKHdX0t1dronZRDqC1cKONvQlw/7R3f2TPTgZ9ijRvkV2vVtXPAbRV5BnXcAIibYgyHGCGC4AOA0aA+gwYagbygwD16Qc0LgkYAeozYKgDFuj45VuoP2alGq9s3syY17uu19ibj0XiuQnhbnYjni6HTjULeV2rxaDOqOU4fTV2AD29RyhCQ3JoWcY7oDVRopFVBLh/WkWecbUQkEGfIs1btPSUNsYT4ADaeKb0aBEBkTZEGQ4wi2TCsAYQoD4NgEgXphGgPk1DS8cGEKA+DYBoMxdfLjmAscsOurI6Nqq11wyXR5xHtylb3OwKZg/G6vcbel2rxaDWyGU4e+2uavp/PWuhRhFtT1ZTn1ro0sYqAtSnVeQZVwsBGfQp0rxFS09pYzwBDqCNZ0qPFhEQaUOU4QCzSCYMawAB6tMAiHRhGgHq0zS0dGwAAerTAIg2c/H9qsMYuSDCldXvr4aiVtHknzieve003v5je6JK5r4VhnL5suiusOYnS3H++j3Vjy9Xe1CfutHTgYkEqE8T4dK1bgIy6FOkeYvuhtOBXwQ4gPYLGxfZkYBIG6IMB5gdNcSctBGgPrVxopU1BKhPa7gzqjYC1Kc2Tk6ymhp+DEPm7HFLef/HLZA2Vcoky/h88X58vfxQos/TpU6BbMFpUCx3RozvVAWZ06X2C0WNEUtx4UbsAHrm67VQtRCfgPYLJBfZigD3T1u1g8kkICCDPkWat1DA1hDgANoa7oxqAgGRNkQZDjATJECXASJAfQYINMP4RYD69AsbFwWIAPUZINABDPN/m0/i/Zk73SLOfrMOKhXI6jGLew8eouSghV4z7N2oGN5pVjJJO+VLD5//IRzFc2fCtFdqIHfmdC7bah8vxaWbsQPov96ojSoFs3mNpxhQn5ow0cgiAtSnReAZVhMBGfQp0rxFU1NpZDgBDqANR0qHVhEQaUOU4QCzSieMq58A9amfIT2YR4D6NI8tPesnQH3qZ2g3D79tPIEBs3a5pfXLKzURVjyn+p4ycJ649igOnb+JbmFF1PfafL3WaxnKU9BL36nv0S46OgYhA+a7PmtYMhcmv1zD9XPV4Utw+VaU+nNyw/CEzqlPr22hgYUEqE8L4TO0VwIy6FOkeYvXhtLAFAIcQJuClU6tICDShijDAWaFRhjTGALUpzEc6cUcAtSnOVzp1RgC1KcxHO3kZfK6o/jon71uKU3oXBUtyuVR3/tj8wl8MDN2QF08d0YMfaIsOk/c6LWEQjmCsaqv5y8lvHXvAcoOXeTmI/6XHxbuN8/12Zw366BiEk9jcwDttQ00sBEB7p82agZTSURABn2KNG+hhK0hwAG0NdwZ1QQCIm2IMhxgJkiALgNEgPoMEGiG8YsA9ekXNi4KEAHqM0CgAxgm4ZcQKqG/aF8R7arkV7PoMnEj1hy85Mrom46V0eu3bV4zTJMyBSKGt0CKFEFutgfO38ArP2/Gycg7HgfQxy/fQv0xK12f/dMrDOXza/tiQ+rTa1toYCEB6tNC+AztlYAM+hRp3uK1oTQwhQAH0KZgpVMrCIi0IcpwgFmhEcY0hgD1aQxHejGHAPVpDld6NYYA9WkMRzt5GbfsIL5YcsAtpeFPlUOX0ELqe8o9zRuORLo+H9KmDIbNjX1iOl/W9Dh91X2QHN/RmvcbokD2YDfffaZvw5ztZxIhiHsCesS8vfhxzVHX53PfCkO5fBxA20kzzMU/Atw//ePGVYEhIIM+RZq3BEYVjJKQAAfQ1IQwBETaEGU4wIQRnoSFUJ8SNt1BJVOfDmqWhKlSn+I1fcyiCIxfcditsH4tS+HVuiGYu/MM+kzf7vbZy3UKY/K6Y+p7T1TMi+zBqfFz+HGPYKoWyoaZr9d2+yz+9RpxHyhPSx8Y0VL98dOFEfhu5aN8OIAWT3OyVsT9U9bOO6NuGfQp0rzFGaoSL0sOoMXrqbQVibQhynCASStUAQqnPgVoosAlUJ8CN1eA0qhPAZqYoISETxwrH/duVAxFc2dMNHxOWH33sCIY1KYMao1chrPX7nqEc2hES6RKmUL9LCYmBkX6P/rywfgLXgkrghwZ0+Bu1EOMW37I9dFv3WuidrHYL0T09qI+vRHi51YSoD6tpM/Y3gjIoE+R5i3e+snPzSHAAbQ5XOnVAgIibYgyHGAWSIQhDSJAfRoEkm5MIUB9moKVTg0iQH0aBNJGbobM2Y2pCZ5g7hxaEL9sOOE1y6FPlMHLdYqgxVerEXHuhkf7xf+rhxKPZVI/W3XgIl6atClZv0VzZcDhi7dcNn/3qoMK+bN6zUUxoD41YaKRRQSoT4vAM6wmAjLoU6R5i6am0shwAhxAG46UDq0iINKGKMMBZpVOGFc/AepTP0N6MI8A9WkeW3rWT4D61M/Qbh7e+b/t+Ovf025pNSiZCyv3X/Sa6g9dqqJZ2Tzo/vNmLN13waP9Vx0q4anK+dTPJq49iuH/3R/t1fl/BkdHtkJQkPsXGSa1lvrUSpV2VhCgPq2gzphaCcigT5HmLVr7SjtjCXAAbSxPerOQgEgbogwHmIVSYWidBKhPnQC53FQC1KepeOlcJwHqUydAGy4v0n8eYmL8SyzuSwa/X3UYIxdEuJzUKJwdm47FfnFhz3oh6N+qtPrPw/7Zi0nrHn3BoLeoPeqFYMB/a73ZKp9Tn1oo0cYqAtSnVeQZVwsBGfQp0rxFS09pYzwBDqCNZ0qPFhEQaUOU4QCzSCYMawAB6tMAiHRhGgHq0zS0dGwAAerTAIg2cnEy8jbqjl7hd0ZxTydfuHEXdT9dgXsPopEnczq8WLsQRi/cr/ptVCo3JnWtrv5z/C8gVIbLd6IeYtoGz19gqNj3bV4SbzYspjk/6lMzKhpaQID6tAA6Q2omIIM+RZq3aG4sDQ0lwAG0oTjpzEoCIm2IMhxgVmqFsfURoD718eNqcwlQn+bypXd9BKhPffzstnr6phPo99cuv9Ia/UwFtK9ewLV2ecR5zN15Fi/UKIgzV++4vsCwYoGsmP1GbVy9fR+Vhy9x2StXc9yOeogBs5KO/03HymhTIa/m/KhPzahoaAEB6tMC6AypmYAM+hRp3qK5sTQ0lAAH0IbipDMrCYi0IcpwgFmpFcbWR4D61MePq80lQH2ay5fe9RGgPvXxs9vqNl+vwe7T131OK0v61Ng2uClSpPB8N/PqAxfxYrwvG1TsaxTJjiV7z7tiHRrREnvPXseT36xLMv7ct8JQLl8WzflRn5pR0dACAtSnBdAZUjMBGfQp0rxFc2NpaCgBDqANxUlnVhIQaUOU4QCzUiuMrY8A9amPH1ebS4D6NJcvvesjQH3q42e31fGvxPAlt6ZlHsOPL1ZLcsnu09fQ5uu1SX5eJGcGrHivgfq5py9BVN5PnTIIuz5sjnSpU2pOjfrUjIqGFhCgPi2AzpCaCcigT5HmLZobS0NDCXAAbShOOrOSgEgbogwHmJVaYWx9BKhPffy42lwC1Ke5fOldHwHqUx8/O62OiYlBkf7zXSm1q5IPG49E4vTVO17TfLNhUfRtXipJO+UKjtqjlif5ufI09P/1rOX6/Oa9Byg3dJGbfcX8WTCnV5jXXOIbUJ8+4aJxgAlQnwEGznA+EZBBnyLNW3xqLo0NI8ABtGEo6chqAiJtiDIcYFbrhfH9J0B9+s+OK80nQH2az5gR/CdAffrPzm4rb0c9QJkhj4a+ynUXyj3NnSduTJTqS7UK4efwR18W+E7TEujduHiSJSlfLlh6yMIkP29RNg8mdKnq9nnLsWuw7+yj60CUmB+1LecTNurTJ1w0DjAB6jPAwBnOJwIy6FOkeYtPzaWxYQQ4gDYMJR1ZTUCkDVGGA8xqvTC+/wSoT//ZcaX5BKhP8xkzgv8EqE//2dlt5YXrd1Hjk2WutCKGt0CKoCCUGLTALdX0qVNi77Dmbk9Lf9+lKpqXzZNsScld79GhWgF8+mwFt/U9pm7B4nh3RA9qXRrd64b4hI369AkXjQNMgPoMMHCG84mADPoUad7iU71unjsAACAASURBVHNpbBgBDqANQ0lHVhMQaUOU4QCzWi+M7z8B6tN/dlxpPgHq03zGjOA/AerTf3Z2W/nbxhMYMGuXK62jI1shKCgIZ6/dQa2Rj67PUL5AcMfQZvhz6ykMnr0bFfJnwa/dayJVyhR+D6B71gtB/1al3dYPnLULv2484Xrvs+cq4tmq+X3CRn36hIvGASZAfQYYOMP5REAGfYo0b/GpuTQ2jAAH0IahpCOrCYi0IcpwgFmtF8b3nwD16T87rjSfAPVpPmNG8J8A9ek/O7utTPiE8rFRrdUUo6NjEDLg0d3QhXIEY1Xfhupn9x9GI7WXwXNcnck9Af1+i5J4o0ExNyRjFkVg/IrDrveULzlUvuzQlxf16Qst2gaaAPUZaOKM5wsBGfQp0rzFl97S1jgCHEAbx5KeLCYg0oYowwFmsVwYXgcB6lMHPC41nQD1aTpiBtBBgPrUAc9mS5MaQCtpNvtyFQ6cv6lm3LtRMbzTrKTP2Sc3gB7xdDl0qlnIzeePq49gxPx9rvdmvFYL1Qtn9yku9ekTLhoHmAD1GWDgDOcTARn0KdK8xafm0tgwAhxAG4aSjqwmINKGKMMBZrVeGN9/AtSn/+y40nwC1Kf5jBnBfwLUp//s7Lay1shlOHvtriutuCeglTdWH7iIzxfvR/n8WTCodRmkS53S5/RnbDmJvn/u9LhufMcqaF3hcbfPJq09imFz97reW/pOPRTLncmnuNSnT7hoHGAC1GeAgTOcTwRk0KdI8xafmktjwwhwAG0YSjqymoBIG6IMB5jVemF8/wlQn/6z40rzCVCf5jNmBP8JUJ/+s7Pbyrbj12HHyatqWv1blkLP+kUNTVG5yuOrZQex4chlbDoa6eZbuUO6TrGcbu+tOnARL03a5Hrv0IiWXu+ZTpgw9WloC+nMYALUp8FA6c5QAjLoU6R5i6HNpzPNBDiA1oyKhnYnINKGKMMBZnc9Mb+kCVCfVIedCVCfdu4Oc6M+xdFAky9W4dCF2Gs2JnWthkalfLtvWSuJyFtRqDJ8iZv53LfCUC5fFrf3lPullQH07tPXMLJdhURPSGuJR31qoUQbqwhQn1aRZ1wtBGTQp0jzFi09pY3xBDiANp4pPVpEQKQNUYYDzCKZMKwBBKhPAyDShWkEqE/T0NKxAQSoTwMg2sRF6CfLcO567BUcf/QIRc2QHKZkFhMTgyL9H32poRJk+bv1EZIrY6J4iq3yCgoK8isX6tMvbFwUIALUZ4BAM4xfBGTQp0jzFr+azEW6CXAArRshHdiFgEgbogwHmF10wzx8J0B9+s6MKwJHgPoMHGtG8p0A9ek7M7uuKDd0EW7ee6CmN693GMrmdX8i2ci8l+49j+5Tt7hcRgxv4de90t5yoj69EeLnVhKgPq2kz9jeCMigT5HmLd76yc/NIcABtDlc6dUCAiJtiDIcYBZIhCENIkB9GgSSbkwhQH2agpVODSJAfRoE0mA3d6IeIn0a7V8UqNzPXHTgfPz3wDFW922IgjmCDc7K3V344cuYsfUk2lXOj7Di7vc/GxWY+jSKJP2YQYD6NIMqfRpFQAZ9ijRvMarv9OMbAQ6gfeNFaxsTEGlDlOEAs7GUmJoXAtQnJWJnAtSnnbvD3KhP+2lg0Oxd+G3jCXSqWQjDnyqnKUHlyWflCei419ZBTZAjY1pNa+1sRH3auTvMjfqkBuxMQAZ9ijRvsbOWRM6NA2iRuytZbSJtiDIcYJLJU6hyqU+h2ilcMdSncC0VqiDq017tvHo7CpWGPfqCv/dblMTr9Yt6vUP53LW7CB25zFXM/o9bIG0q7U9Q24vCo2yoT7t2hnkpBKhP6sDOBGTQp0jzFjtrSeTcOIAWubuS1SbShijDASaZPIUql/oUqp3CFUN9CtdSoQqiPu3VzpORt1F39Aq3pH7rXhO1iyV/xcWhCzfR5ItV6ro0KVPgwIiW9irMz2yoTz/BcVlACFCfAcHMIH4SkEGfIs1b/Gwzl+kkwAG0ToBcbh8CIm2IMhxg9lEOM/GVAPXpKzHaB5IA9RlI2ozlKwHq01di5trvO3sdLceucQvSqnwefNuparKBt5+8iqfGr1NtsgWnxrYhzcxNNEDeqc8AgWYYvwhQn35h46IAEZBBnyLNWwIkC4ZJQIADaEpCGAIibYgyHGDCCE/CQqhPCZvuoJKpTwc1S8JUqU97NX3LsUg8OyHcLanW5R/H+E5Vkk103aFL6PTTRtWmQPb0WPN+I3sV5mc21Kef4LgsIASoz4BgZhA/CcigT5HmLX62mct0EuAAWidALrcPAZE2RBkOMPsoh5n4SoD69JUY7QNJgPoMJG3G8pUA9ekrMXPtV+6/gK6TN7sFqV44G2a8VjvZwN+tPIxPF0aoNuXyZcbct+qam2iAvFOfAQLNMH4RoD79wsZFASIggz5FmrcESBYMk4AAB9CUhDAERNoQZTjAhBGehIVQnxI23UElU58OapaEqVKf9mr63J1n0Ou3bW5JBQUBWwc1RfYMaZJMtnC/ea7PKhfMillv1LFXYX5mQ336CY7LAkKA+gwIZgbxk4AM+hRp3uJnm7lMJwEOoHUC5HL7EBBpQ5ThALOPcpiJrwSoT1+J0T6QBKjPQNJmLF8JUJ++EjPX/o/NJ/DBzF2Jgkx8qRoal37MY/Drd++jwoeLXZ8pA+ujI1ubm2iAvFOfAQLNMH4RoD79wsZFASIggz5FmrcESBYMk4AAB9CUhDAERNoQZTjAhBGehIVQnxI23UElU58OapaEqVKf9mr6T2uO4ON5+xIl1a9lKbxWv6jHZON/AaFi0LrC4xjfMfk7o+1VddLZUJ9O6ZSceVKfcvbdKVXLoE+R5i1O0ZVoeXIALVpHddZz+fJllC5dGhcvXkTRokVx6NChJD1OmTIF3377Lfbu3Ys0adIgNDQUgwYNQu3aSd+bt27dOowYMQIbNmxAVFQUypQpg169euHFF1/UmTkg0oYowwGmu+F0YBkB6tMy9AysgQD1qQESTSwjQH1aht5j4LFLD+LLpQc8frZpYGPkypgWQcojzvFeC3efxWu//Ot6Z+k79VEsd0Z7FeZnNtSnn+C4LCAEqM+AYGYQPwnIoE+R5i1+tpnLdBLgAFonQNGWd+3aFVOnTkVMTEyyA+i3334bY8eORfr06dGsWTPcvXsXy5YtU9f9+eefeOqppxKhmTlzJjp06IDo6GjUq1cPOXPmVNdcvXoV7777Lj777DNdOEXaEGU4wHQ1m4stJUB9Woqfwb0QoD4pETsToD7t1Z0R8/bixzVHk02qSsGs+LlbDWRKlxp37z9EqcELXfal8mTCwrfr2asoHdlQnzrgcanpBKhP0xEzgA4CMuhTpHmLjlZzqQ4CHEDrgCfaUmUY3KRJE/To0QM//PBDkgPopUuXomnTpsiRIwfCw8NRvHhxFYXyzw0aNEBwcDCOHj2KrFmzuhBFRkaiSJEiuH79OpRBdLt27dTPzp8/j7CwMPVJ6xUrVqjr/X2JtCHKcID522eus54A9Wl9D5hB0gSoT6rDzgSoT3t1p/9fu/D7phNqUiE5M+DIpVseE+xauzA+fLIsft14HANn7XbZ1C2eE9NeqWmvonRkQ33qgMelphOgPk1HzAA6CMigT5HmLTpazaU6CHAArQOeSEvv3LmD8uXLI23atJg9ezZKlCiR5AC6VatWWLBgAb788ksoT0LHf/Xp0wfjxo1Tn2ZWnmqOe40ePRoffPAB2rZtq/qP/5o1a5Y6kG7Tpg3++ecfv7GKtCHKcID53WgutJwA9Wl5C5hAMgSoT8rDzgSoT+u7o/y13pK953H++l2sOnAJS/edV5NqWS4PFuw+5zHB4DQpsXdYCwydsxs/hx932YSGZMf0HrWsL8qgDKhPg0DSjSkEqE9TsNKpQQRk0KdI8xaD2k43PhLgANpHYKKa9+vXD8qQeNWqVShQoID6tLKnO6CVQXW2bNlw7949nDx5Evnz53dDsmbNGvV6jfr162PlypWuz5SfV69ejWnTpqFz585ua5S7oLNkyaK+d+XKFaRLl84vzCJtiDIcYH41mYtsQYD6tEUbmEQSBKhPSsPOBKhP67uz6Wgk2n8fniiRt5sUx1dLDyaZ4LFRrTFo9i78siH2iWnlpdz9rNwBLcqL+hSlk2LWQX2K2VdRqpJBnyLNW0TRndPq4ADaaR0zId+dO3eiatWq6hcBTpw4EceOHUtyAL19+3ZUrlwZuXLlwoULFxJlc+vWLWTMmFEdUivXbsS9lOs4rl27hj179qhfPJjwVb16dWzZsgU7duxAhQoV/KpSpA1RhgPMryZzkS0IUJ+2aAOTSIIA9Ulp2JkA9Wl9d5p9uQoHzt9MlMhXHSph1YGLmLXttMcklQH0S5M2qTZxr1yZ0mLzwCbWF2VQBtSnQSDpxhQC1KcpWOnUIAIy6FOkeYtBbacbHwlwAO0jMNHMlS8EDA0NVe9sjoiIUO91Tm4A/ffff6vXaChD6H//ffQN4PG5KMNn5YsFlfueM2XKpP533BPOyhA6c+bMiTA+/fTT6tUciv8nnnjCL8wibYgyHGB+NZmLbEGA+rRFG5gEB9DUgAMJcP+0vmlhny7HqSt3EiUy960wlM2bGeev38Og2btdV3PEGR75pBVCBsx3W5cudQpEDG9pfVEGZUB9GgSSbkwhQH2agpVODSIggz5FmrcY1Ha68ZEAB9A+AhPNfOzYseo9zpMnT0bXrl3V8pIbQP/222/o1KkT6tSpg7Vr13rEoVzLcfr0afU/efPmxZkzZ5AvXz7V9v79+0iVKlWidcq1HL/++qv6n44dOyaLOW7jS2h0+PBh5MmTB5MmTXJ8m5QnyZVXhgwZHF8LCxCPAPUpXk9Fqoj6FKmb4tVCfVrf076r7+Ly3Ri3RFKlAL5umA5pUwap70/YGYVN5x662QyskRYjNt1ze697udSonTfxv9daX6V/GVCf/nHjqsAQoD4Dw5lR/CMggz67deumzieUv2rniwT8IcABtD/UBFlz4sQJKMNc5fqN+Pc1cwBtfYNlOMCsp8wM/CVAffpLjusCQYD6DARlxvCXAPXpLznj1nkaQJfPmQL/q5LWFeTr7few7UK0W9AXS6fG1H33Xe89GZIKrUNSIXWK2KG1CC/qU4QuilsD9Slub0WoTAZ9cgAtglKtrYEDaGv5Wxpduepi8eLF6r3LpUqVcuXCKzgsbYsaXIY/4bGeMjPwlwD16S85rgsEAeozEJQZw18C1Ke/5IxbV2fUcpy+6n4FR9fahfHhk2VdQXr/vg1/7ziTZNBy+TJj7lt1jUvKJp6oT5s0gml4JEB9Uhh2JiCDPnkFh50V6IzcOIB2Rp9MyTIoKAjKlwNWrFjRzf/du3exceNGpEuXDjVr1lQ/mz59unq9Bb+E0JRWJHIqwwEWGJKMYgYB6tMMqvRpFAHq0yiS9GMGAerTDKq++az5yVL1nuf4r3eblsBbjYu73tp39jpajl2TpOPQkOyY3qOWb4EdYE19OqBJEqdIfUrcfAeULoM+OYB2gBBtniIH0DZvkJnpKQNorS/lSwoLFy6MO3fuQPmSwXv37uHUqVOuu53j/KxZswb16tVD/fr13a71UH5evXo1pk2bBuW+5/gv5V7ouC8mvHLlijr49ucl0oYowwHmT4+5xh4EqE979IFZeCZAfVIZdiZAfVrbnYfRMSg3dBHu3He/3/nTZ8qjQ/WCbsmtiLiAl6ds9phw3eI5Me2V2Ic0RHpRnyJ1U7xaqE/xeipSRTLoU6R5i0jac1ItHEA7qVsByjW5KziUFFq1aoUFCxbgyy+/VL/AMP6rT58+GDduHD777DO8++67ro9Gjx6NDz74AG3btsXs2bPd1syaNQvt2rVDmzZt8M8///hdpUgbogwHmN+N5kLLCVCflreACSRDgPqkPOxMgPq0rjuXb95D3dErcDvKfficJ3M6LHy7LrIGp0mU3HMT1mPzsSuJ3m9UKjcmda1uXTEmRaY+TQJLt4YQoD4NwUgnJhGQQZ8izVtMkgHdeiHAATQlkoiAtwH00qVL0bRpU+TIkQPh4eEoXjz2TxaVf27YsCHSp08P5Ylp5XqPuFdkZCSKFCmC69evY+bMmerAWXlduHABderUwaFDh7BixQo0aNDA746ItCHKcID53WgutJwA9Wl5C5gAB9DUgEMJcP+0rnHfrzqMkQsiXAnky5oe83qHIThNKqRJlcJjYj2nbcGiPecTfRZWLCd+6c4noK3rJiPLSID7p4xdd07NMuhTpHmLc5QlVqYcQIvVT0Oq8TaAVoIoTz6PHTsWwcHB6jA6KioKS5YsQUxMDP7880889dRTiXJRBs/t27dXbZRBszLAVobZV69exTvvvIPPP/9cV/4ibYgyHGC6ms3FlhKgPi3Fz+BeCFCflIidCVCf1nWnw/fh2Hg00pWAlnuc+/+1E79vOpko6YoFsmLOm3WsK8akyNSnSWDp1hAC1KchGOnEJAIy6FOkeYtJMqBbLwQ4gKZEEhHQMoBWFk2ZMgXffPMN9u3bhzRp0iA0NBSDBw9G7dq1k6S6bt06fPzxx9iwYYM6tC5Tpgx69eqFl156SXcnRNoQZTjAdDecDiwjQH1ahp6BNRCgPjVAoollBKhPa9ArDz90nbwZqw5cdCUw/Kly6BJaKNmExiyKwPgVhxPZlH48Mxb0qWtNMSZGpT5NhEvXuglQn7oR0oGJBGTQp0jzFhOlQNfJEOAAmvIQhoBIG6IMB5gwwpOwEOpTwqY7qGTq00HNkjBV6tOapr80aZPb8FnJ4tCIlkiV0vPVG3FZfrHkAMYtO5go6aK5MmDZu/5fG2cNBe9RqU/vjGhhHQHq0zr2jOydgAz6FGne4r2jtDCDAAfQZlClT0sIiLQhynCAWSISBjWEAPVpCEY6MYkA9WkSWLo1hAD1aQhGn5zsPXMdrcatcVvz6TPl0aF6Qa9+ft14HANn7U5kVzB7MFa/39DreqcZUJ9O65hc+VKfcvXbadXKoE+R5i1O05co+XIALUonWQdE2hBlOMAoWecSoD6d2zsZMqc+Zeiyc2ukPh/1TrkW42TkHTyeNR1Se3kSWU/Hww9fxgs/bnBzMbVbDdQrkcur22t37qPJF6tw8cY9N9s8mdNhw4DGXtc7zYD6dFrH5MqX+pSr306rVgZ9ijRvcZq+RMmXA2hROsk6OICmBkggQARk+BesAKFkGBMIUJ8mQKVLwwhQn49Q9v59G/7ecQaFcgRjRs9ayJ05nWGc4zvacOQynv/BfQC9bXBTZMuQRlO8O1EPceV2FGqPWu6yz5EhDbYObqppvZOMqE8ndUu+XKlP+XrupIpl0CcH0E5SpD1z5QDann1hVn4QEGlDlOEA86PFXGITAtSnTRrBNDwSoD4pDDsToD5ju6M8WVzxo8WuVg1sVRqv1gsxpXVrD15C54kb3XwfG9Xa51iF+81zrcmUNhV2fdTcZx92X0B92r1DcudHfcrdf7tXL4M+RZq32F1PoubHAbSonZWwLpE2RBkOMAklKkzJ1KcwrRSyEOpTyLYKUxT1GdvK71cdxsgFEa6+9qwfgv4tS5vS58V7zqHHtK0u3/mypse6fo18jvXO/23HX/+eVtcNb1sWXWoV9tmH3RdQn3bvkNz5UZ9y99/u1cugT5HmLXbXk6j5cQAtamclrEukDVGGA0xCiQpTMvUpTCuFLIT6FLKtwhRFfQIPHkaj2MAFbj19rmp+jHmuoil9nrP9NPpM3+7yXTF/FszpFeZzrEs37+GLJQeQJX1qvN2kONKmSumzD7svoD7t3iG586M+5e6/3auXQZ8izVvsridR8+MAWtTOSliXSBuiDAeYhBIVpmTqU5hWClkI9SlkW4UpivoE9py5htbj1rr1tGHJXPjwybIokC0YKVIEGdrv3zedQP+/drl8ti7/OMZ3qmJoDFGcUZ+idFLMOqhPMfsqSlUy6FOkeYsounNaHRxAO61jzDdJAiJtiDIcYJSycwlQn87tnQyZU58ydNm5NVKfQIuvViPi3A2PTQwNyY7fXw1FUJAxQ+h/T1xBu2/Xu8Va+V4DFM6ZwbkiMjFz6tNEuHStmwD1qRshHZhIQAZ9ijRvMVEKdJ0MAQ6gKQ9hCIi0IcpwgAkjPAkLoT4lbLqDSqY+HdQsCVOlPoH4X+bnSQIL366LUnky61bHrXsPUHboIjc/pR/PjAV96ur2LaoD6lPUzopRF/UpRh9FrUIGfYo0bxFVh3aviwNou3eI+WkmINKGKMMBprmxNLQdAerTdi1hQvEIUJ+Ug50JyK7P8MOX8cKPG5Jt0bzeYSibN4vuNnq66uPP12qhWuHsun2L6kB2fYraV1Hqoj5F6aSYdcigT5HmLWKq0P5VcQBt/x4xQ40ERNoQZTjANLaVZjYkQH3asClMyUWA+qQY7ExAdn12/mkj1h66lGyLlvyvHoo/lkl3G9cfvoSOP250+SmSMwNWvNdAt1+RHciuT5F7K0Jt1KcIXRS3Bhn0KdK8RVwl2rsyDqDt3R9m5wMBkTZEGQ4wH1pLU5sRoD5t1hCm40aA+qQg7ExAdn22/z4cm45GJtsio67gWLDrLF7/9V9XrC2DmiBnxrR2loflucmuT8sbwASSJUB9UiB2JiCDPkWat9hZSyLnxgG0yN2VrDaRNkQZDjDJ5GnbcrefvIqxSw+gRpEceL1BUU15Up+aMNHIIgLUp0XgGVYTAdn12XLsGuw7e11l9flzFfHujB2JuM19Kwzl8vl/BcfC3eewPOI80qRKgV82nFD91wrJgd97hGrqkcxGsutT5t47oXbq0wldkjdHGfQp0rxFXqVaWzkH0NbyZ3QDCYi0IcpwgBnYerrSQaDBmBU4dvm26mHm67VQtZD3uzGpTx3AudR0AtSn6YgZQAcB2fVZd/RynIy8oxL85ZWaGLvsADYfu+JG9O9edVAhf1a/KP974grafbs+0doWZfNgQpeqfvmUaZHs+pSp106slfp0YtfkyVkGfYo0b5FHmfaqlANoe/WD2eggINKGKMMBpqPVXGoggcL95rm8vVirEIa1LefVO/XpFRENLCRAfVoIn6G9EpBdn5WHLcaV2/dVTrPfrIMSj2VE63FrcfTSLRe7v96ojSoFs3llmdBg24kreNrD8Fmxa1clH75oX8lnn7ItkF2fsvXbafVSn07rmFz5yqBPkeYtcqnTPtVyAG2fXjATnQRE2hBlOMB0tpvLDSIQfwD9bNX8+Oy5il49U59eEdHAQgLUp4XwGdorAZn1GRMTgxKDFuD+wxiV09J36qNY7oy4ee8Byg1d5GI347VaqF7Y+1/jJITdY+oWLN573mMPOlQrgE+freC1P7IbyKxP2XvvhPqpTyd0Sd4cZdCnSPMWeZVqbeUcQFvLn9ENJCDShijDAWZg6+nKTwIPHkaj2MAFrtWtKzyO8R2rePVGfXpFRAMLCVCfFsJnaK8EZNbn3fsPUWrwQhejjQMa47HM6dSf64xajtNXY6/mmN4jFKEhObyyTGjQ5ItVOHThpsd1nUML4uOnyvvsU7YFMutTtl47sV7q04ldkydnGfQp0rxFHmXaq1IOoO3VD2ajg4BIG6IMB5iOVnOpQQSu3b6PisMWu7xpvSOT+jSoAXRjCgHq0xSsdGoQAZn1eejCDTT5YrVKMmWKIEQMb4HUKVOoP8e/G/rX7jVRp1hOn4m/+eu/mLfrrMd1XWsXxodPlvXZp2wLZNanbL12Yr3UpxO7Jk/OMuhTpHmLPMq0V6UcQNurH8xGBwGRNkQZDjAdreZSgwicjLyNuqNXuLw9WTEvxr1Q2at36tMrIhpYSID6tBA+Q3slILM+P10Yge9WHlYZFc4RjJV9G7p4Nfxspese6KndaqBeiVxeWSY0eGnSJqw6cNHjuh71QjCgVWmffcq2QGZ9ytZrJ9ZLfTqxa/LkLIM+RZq3yKNMe1XKAbS9+sFsdBAQaUOU4QDT0WouNYjAvrPX0XLsGpc3XsFhEFi6sZQA909L8TO4FwIy67PzTxux9tAllZAyYFYGzXGvxp+vxOGLsV9EOLlrdTQslVuzlpTrpB5Ex6DBmJU4d/2ux3VvNiyKvs1LafYpq6HM+pS1506qm/p0Urfky1UGfYo0b5FPofaomANoe/SBWRhAQKQNUYYDzICW04VOApuPReK5CeEuL03LPIYfX6zm1Sv16RURDSwkQH1aCJ+hvRKQWZ/x72ge1rYsXqxV2MWr+Zersf/8DfVn5RxSziNvL+VLDUctjMD3q454M0WfxsXxv6YlvNrJbiCzPmXvvRPqpz6d0CV5c5RBnyLNW+RVqrWVcwBtLX9GN5CASBuiDAeYga2nKz8JLI84j25TtrhWNyiZC1NefvREmvLBnjPXsHL/RSjXcxTIHqzaUp9+AueygBCgPgOCmUH8JCCzPit8uAjX7z5Qyc16ozYqF8zmoqj8NY7yVznKa0LnqmhRLo9XwjO3nsK7M3Z4tVMM+jYviTcbFtNkK7ORzPqUue9OqZ36dEqn5MxTBn2KNG+RU6XWV80BtPU9YAYGERBpQ5ThADOo7XSjg8Cc7afRZ/p2l4c6xXLg1+6hrp9v3L2P8h/GfklhqTyZsPDteuo/U586oHOp6QSoT9MRM4AOArLq8+79hyg1eKGL3Lp+jZAva3rXz098vRa7Tl9Tfx7fsQqUK6G8vYbO2Y2fw497M1M/H9CqFHrUK6rJVmYjWfUpc8+dVDv16aRuyZerDPoUad4in0LtUTEH0PboA7MwgIBIG6IMB5gBLacLnQR+3XgcA2ftdnmpXjgbZrxW2/Vz/TErcPzybdfPBz5uiTSpUnAArZM7l5tLgPunuXzpXR8BWfWZ8Etv486TOJpPjV+H7Sevqj8qX4ar/NWNt1ffGTswY+upRGalH8+Myzfv4cKNe67PhrQpg25hRby5lP5zWfUpfeMdAoD6dEijN6Ip3QAAIABJREFUJE1TBn2KNG+RVKaWl80BtOUtYAJGERBpQ5ThADOq7/TjP4HvVx3GyAURLgcVC2TFnDfruH4O+3Q5Tl254/p5+5CmCD98GWu27kJY3pRo1ayx/8G5kgRMIsD90ySwdGsIAVn1ufX4FTzz3XqVYbbg1Ng2pJkbT+UzxUZ5fdmhIp6unN8r7zd//Rfzdp1NZFejcHbcuf/Q9US1YjD8qXLoElrIq0/ZDWTVp+x9d0r91KdTOiVnnjLoU6R5i5wqtb5qDqCt7wEzMIiASBuiDAeYQW2nGx0EPlu0H9+sOOTyUObxzJjfp67r51ojl+Hstbuun8c+X8l1ZUebIqnwTc/mOqJzKQmYQ4D7pzlc6dUYArLqs/9fO/H7ppMqxJKPZcKi/8Ve6RT3av99ODYdjVR/HPNsBTxXrYBX4C9P3oQV+y8msmtUKjfyZEmH3zaecH326TPl0aF6Qa8+ZTeQVZ+y990p9VOfTumUnHnKoE+R5i1yqtT6qjmAtr4HzMAgAiJtiDIcYAa1nW78JBATE4Mi/ee7rS6eOyOWvFPf9V7lYYtx5fZ918/K9RtRD6JdPx8b1drP6FxGAuYR4P5pHlt61k9ANn0qZ833q49gVLy/tlEGxJO6VneD+cIPGxB+5LL6ntZhcfyhdXxnyvUdypVSg+fscb39+XMV8UxV709V6++wsz3Ipk9nd0u+7KlP+XrupIpl0KdI8xYnaUukXDmAFqmbktci0oYowwEmuVwtL3/36Wto8/VatzwK5QjGqr4N1feUoUGJQQtw/2FMkrlyAG15G5mABwLcPykLOxOQTZ/LI86j25Qtbi0Z/WwFtE/whHOXiRux5uAl1W7E0+XQqab36zLqjl6Ok5GPromKC9KpZkE0Kf0YXp6y2RVX673SdtZOIHKTTZ+BYMoYxhGgPo1jSU/GE5BBnyLNW4xXAD1qIcABtBZKtHEEAZE2RBkOMEeISuAkl+w9j1enug8F8mZJh/X9Y+91vnv/IUoNXpgsgQ39G6t/5swXCdiJAPdPO3WDuSQkIJs+n/h6rdtdzAqPiOEtkC51Sjc0XSdvwsr/rtMY3rYsutQqnKx4bkc9QJkhizzavN6gKJ6pkh9NvljFAbSP/xOUTZ8+4qG5xQSoT4sbwPDJEpBBnyLNWyhnawhwAG0Nd0Y1gYBIG6IMB5gJEqBLHwgs2HUWr//6r9uKnBnTYsugJup7F27cRY0Ry5L1yC918gE4TQNGgPtnwFAzkB8EZNOnpwH00ZGtEBQU5EbvlSmbsSzigvre0CfK4OU6RTzSVZ6o3nT0CvJlTed2xUZ84x71QtC/ZSk0/mIVjly8pX40r3cYyubN4kfH5Foimz7l6q7zq6U+nd9DkSuQQZ8izVtE1qKda+MA2s7dYW4+ERBpQ5ThAPOpuTQ2nMAfm0/gg5m73PxmTpcKOz9sjnPX7iJ0ZPLDZ2XhW42K4d1mJQ3PjQ5JQA8B7p966HGt2QRk0+cz363H1uNX3LB6ur6px9QtWLz3vGo3qHVpdK8bkqgVp67cRv0xK/EwOvHVUAWyp3ddxzH7zTqoVCArFPvxKw5B+YLdzqGFEg29ze61E/3Lpk8n9kjmnKlPmbtv/9pl0KdI8xb7K0rMDDmAFrOvUlYl0oYowwEmpUhtVPSPq49gxPx9bhmlT50S+4a3wIBZu/DbxhNes321bhEMbF3Gqx0NSCCQBLh/BpI2Y/lKQDZ9PvnNWuw8dc3rAPr1X7Ziwe5zqp3y9HLP+kUTof190wn0/8v9F6eKkXLlhnLn81dLD6B64ezo3bi4r22h/X8EZNMnG+8sAtSns/olW7Yy6FOkeYts+rRLvRxA26UTzEM3AZE2RBkOMN0NpwNdBL5YvB/jlh9y85EqRRAOfdIKRQfM9/iEWcKAz1bNj8+eq6grDy4mAaMJcP80mij9GUlANn0q9zAfunDT6wC6z/RtmLP9jGr3vyYl0KdJ4iHyT2uO4ON57r84Vexnvl4bVQtlM7JN0vqSTZ/SNtqhhVOfDm2cJGnLoE+R5i2SyNJ2ZXIAbbuWMCF/CYi0IcpwgPnbZ64zhsCHf+/BlPXHEjk78kkrVPxoMW7ce+A1UMOSuTD55Rpe7WhAAoEkwP0zkLQZy1cCMulzxf4LeHnyZjdEpfJkwsK36yXCNnj2bkzbcFx9v1PNgqiYPyuyBqdG0zKPua7OGD53LyauPZpo7aaBjZE7E78Q11cterKXSZ9G8KKPwBKgPgPLm9F8IyCDPkWat/jWXVobRYADaKNI0o/lBETaEGU4wCwXjOQJvPPHdvy17XQiChHDWyDs0+W4dDNKEyFPd3lqWkgjEjCJAPdPk8DSrSEEZNHn1uOReOa78ETM3mxYFH2bl0r0/phFERi/4nCi9yd0rooW5fKo78e/piO+4YGPWyJNqhSG9Ed2J7LoU/Y+O7V+6tOpnZMjbxn0KdK8RQ5V2q9KDqDt1xNm5CcBkTZEGQ4wP9vMZQYR6P7zFizdF/uFT/Ffuz5spn7JU+QtbQPof3qFoXz+LAZlRTckoJ8A90/9DOnBPAKy6PP5H8Kx4UikG0jlao1ejYohZYqgRIB/WH0Yn8yPSPT+kxXzYtwLldX3245fhx0nryay4S9CjdOrLPo0jhg9BZIA9RlI2ozlKwEZ9CnSvMXX/tLeGAIcQBvDkV5sQECkDVGGA8wGkpE6hfbfh2PTUffhgALk38FNUXvUMty9H62Jz8h25fFCjYKabGlEAoEgwP0zEJQZw18CsujT05cPru/XCHmzpveIbvqmE+jn4QsG82dLjzXvN1Sv4agxYiku3Ljntj5HhjTYOripv+3gugQEZNEnG+9MAtSnM/smS9Yy6FOkeYssurRbnRxA260jzMdvAiJtiDIcYH43mgsNIdDiq9WIOHcjkS9lQFB71HLNMT56sixeql1Ysz0NScBsAtw/zSZM/3oIiK7PBw+jse/sDTzxzdpEmLYPaYqswWk84lu4+xxe+2Wrx89WvNcAhXMEo+SghYh6+OiXo9kzpMHEl6qhckF+AaEeTcZfK7o+jeJEP9YQoD6t4c6o2gjIoE+R5i3aukorowlwAG00UfqzjIBIG6IMB5hlQmFgJPd/9Hs3KoZxyw+5KCn/Bz80JDvm7zrnkdyAVqXQo15RUiUB2xDg/mmbVjARDwRE1mdMTAyemxCOLcevJKo8JFcGLHunvusLBRManLt2F6Ejl3nUzMzXa6HM41lQeshC1+fKL0vzZE6HFB6u86Dw/Ccgsj79p8KVdiFAfdqlE8zDEwEZ9CnSvIUqtoYAB9DWcGdUEwiItCHKcICZIAG61EDgwvW7qPGJ5/+T72m58qWEoxZEYMr6Y66PU6cA4m7oeK+ZcqdncQ2RaUICgSHA/TMwnBnFPwIi63P/uRto/tXqRGCUX2Iq9zjnzpQuWWjFBszHg+iYRDaTX66O0nkyuw2olbMpXeqU/jWBq5IkILI+2XbnE6A+nd9DkSuQQZ8izVtE1qKda+MA2s7dYW4+ERBpQ5ThAPOpuTQ2jMDGI5fR4YcNbv6C06TE7aiHHmMcHdkKA2btxu+bTrg+L509BfZFxv4Z9FuNiuHdZiUNy4+OSEAvAe6feglyvZkERNbnnO2n0Wf69kT4pvcIRWhIDq9Yles7ig1ckMju6xcq4+rtKAyes0f9LG2qFNj/cUuv/mjgOwGR9ek7Da6wGwHq024dYT7xCcigT5HmLVSvNQQ4gLaGO6OaQECkDVGGA8wECdClBgKrD1zEi5M2uVlmDU6Nq7fve1x9bFRrPDdhPTYfe/Qn1Q3zp8SKU7ED6x71QjCgVWkNkWlCAoEhwP0zMJwZxT8C8fUZce46flh9BLWL5sSzVfP759BGq0oMXOB2R3NcaiuVO5xzZtCU6a17D/D18kOYsOqwy75C/izYeeqa6+fcmdJi08AmmvzRyDcC3D9940XrwBKgPgPLm9F8IyCDPkWat/jWXVobRYADaKNI0o/lBETaEGU4wCwXjKQJLN5zDj2mPfqip0zpUql/xnzxxj2PRJQBtDIIUK7hUF6Z0qZCrTwxWHw8dgDdtXZhfPhkWUlpsmw7EuD+aceuMKc4AnH6bNiwoXpdxYHzNxEUBKx6ryEK5gh2LKjLN++h6sdLPea/b1gLpE/j23UZPadtwaI95z36y5kxLbYM4gDaDLFw/zSDKn0aRYD6NIok/ZhBQAZ9ijRvMUMD9OmdAAfQ3hnRwiEERNoQZTjAHCIr4dL8e8cZ9P59m6uuqd1qoP9fu3D66p0kB9DXbt/HS5M34dLNe/iuU1VMmLcB844+UO1fqFEAI9tVEI4TC3IuAe6fzu2dDJnH6TOkQk00+Gylq+SvOlTCU5XzORbB9pNX8dT4dYny79u8JN5sWMznut6bsQN/bj2V5Drll6N8GU+A+6fxTOnROALUp3Es6cl4AjLoU6R5i/EKoEctBDiA1kKJNo4gINKGKMMB5ghRCZjkjC0n0ffPnWpl+bKmx7p+jdDws5U4eulWomrHPFsBz1UroL4fExP7xVBBQUHo8+MizDkcO4BuVzkfvuhQSUBSLMmpBLh/OrVzcuQdp890BSug408bXUWPbFceL9Qo6FgICf+6RhkQK+eGcmb48/ronz2YvO7Rl98m9MEBtD9Uva/h/umdES2sI0B9Wseekb0TkEGfIs1bvHeUFmYQ4ADaDKr0aQkBkTZEGQ4wS0TCoJi24TgGz96tkqhfIhd+7lYDNUYsxQUPV3AoX0DoaXjw3sRF+PNg7AC6dfnHMb5TFZIlAdsQ4P5pm1YwEQ8E4vQZnacsuk/d4rJ4p2kJ9G5c3LHM4p8tdYrlwK/dQ3XVMmZRBMaveHQPdHxnlQtmxaw36ujyz8WeCXD/pDLsTID6tHN3mJsM+hRp3kLFWkOAA2hruDOqCQRE2hBlOMBMkABdaiDw05oj+HjePtWyWZnH8MOL1VC437xEK7OkT40dQ5t59Nhv8mJM3x/7pYVNSj+GH1+s6vdTbhpSpgkJ+ESA+6dPuGgcYAJx+ryZo5TbdUhdQgth+FPl/M4mOjoGXy49gBORt/Fes5IokD2w90l/s/wgPlt8QM3/iYp58fULlf2uRVmofO9A/C8ijO9sXu8wlM2bRZd/LvZMgPsnlWFnAtSnnbvD3GTQp0jzFirWGgIcQFvDnVFNICDShijDAWaCBOhSA4HxKw5hzKL9quWTFfNi3AuVPQ6gC+cIxsq+DT16HDp1MX7eGzuAVl4pUwRheo9QVC+cXUMGNCEBcwlw/zSXL73rIxCnz4uZiuGDmbtczlqUzYMJXar67Tz+FRjNyz6G77tU89uXPws/XRiB71bGPrFsxHcDfDx3L35aezRRKjuGNEOW4NT+pMg1Gghw/9QAiSaWEaA+LUPPwBoIyKBPkeYtGlpKExMIcABtAlS6tIaASBuiDAeYNSph1M8X78fXyw+pINpXy4/Rz1b0OICuWCAr5rzp+U+cv/pjCb7aFuUGM0OalNgzrAUBk4DlBLh/Wt4CJpAMgTh9Hk9bBB/9s9dlWbVQNsx8vbbf7FqPW4M9Z6671n/RvqJ6h3L76gWgPF1t9mvonN34Ofy4GuaVsCIY3KaMrpAf/r0HU9YnvgOadz/rwup1MfdPr4hoYCEB6tNC+AztlYAM+hRp3uK1oTQwhQAH0KZgpVMrCIi0IcpwgFmhEcYEhs/di4n/PVUW9yffnq7giLsf2hOzn+csxdDwe4k+4mCACrMDAe6fdugCc0iKQJw+9wUVdP01imJbMHswVr/v+a9OtND0tI/Hrds+pCmyBqfR4sZvm/dm7MCfW0+p63s3KoZ3mpX025eyMOLcdbT4ag3PGV0UfV/M/dN3ZlwROALUZ+BYM5LvBGTQp0jzFt87zBVGEOAA2giK9GELAiJtiDIcYLYQjYRJ9Jy2BYv2nFcrf69ZCfRqVNzjE9Bx13N4QvT3wmXovfIuBwMS6scJJXP/dEKX5M0xTp//3s+Hb1bE/jWK8soWnBrbhni+d98braV7z7t9oWFC+0Vv10PJPJm8udH1+Ru/bsX8XedUH/1alsJr9Yvq8qcsnr7pBPr99eiaEuU9/qJTN9ZkHXD/NJcvvesjQH3q48fV5hKQQZ8izVvMVQO9J0WAA2hqQxgCIm2IMhxgwgjPYYU0/3I19p+/oWY9vmMVtK7wuMcB9As1CmJku/Ieq1u8dBl6LOUA2mGtlyZd7p/StNqRhcbpc+m1XPht4wlXDcFpUmKvn9cYlRu6CDfvPUiSx+L/1UOJx8wbQG8+FonnJoS74g9vWxZdahU2pD/xr42qVigb/tRxTYkhCQnuhPun4A12eHnUp8MbKHj6MuhTpHmL4HK0bXkcQNu2NUzMVwIibYgyHGC+9pf2+glER8eg1JCFiHoQrTqb37suyuTN7HEA/XKdwhj6RFmPQRV9dlt8J9FnfDJNf4/oQT8B7p/6GWrxsPPUVfULSMs8nhlBQUFaltAGgKLPqIcxeG2Z+y/xFJaL3q6Lew+iUTZvFp9YJXf9huLo7151UCF/Vp98ajU+fPEmGn++ys388+cq4pmq+bW6SNbu2p37+GrpAZy9ehe9GxdXzyy+zCPA/dM8tvSsnwD1qZ8hPZhHQAZ9ijRvMU8J9JwcAQ6gqQ9hCIi0IcpwgAkjPIcU8jA6BlPDj7l96dXeYc0RnCaVxwH0Gw2K4v0WpXwaQB8d2YqDKIfoQeQ0uX+a393Fe86hx7StaqCp3WqgXolc5gcVJIKiz3+O3MesQ0k/sfxDl6poVjaPpoqVXyiWGLQgWdv/61kLNYpk1+TPV6PvVh7Gpwsj3Jb90SMUNUNy+OqK9jYgwP3TBk1gCkkSoD4pDjsTkEGfIs1b7KwlkXPjAFrk7kpWm0gbogwHmGTytLzcOdtPo8/07a488mROhw0DGqs/e3p67t2mJfBW4+I+DaD3fNQcGdKmsrxWJiA3Ae6f5ve/zJCFuB31UA2UOmUQDo5oZX5QQSIo+pywMwqbzsXy8/TKlC4Vdn3YXFPFxy7dQoPPViZr+3O3GlC+WNbol6cvCnyiYl6M7VAJKVLwqXijeQfCH/fPQFBmDH8JUJ/+kuO6QBCQQZ8izVsCoQnGSEyAA2iqQhgCIm2IMhxgwgjPIYUkHDLXCsmB33uEqtl7GkAPbFUar9YL8VhdUldwbBrYGLkzpXMIEaYpKgHun+Z3NuGewet3tDNX9Dli4z0cvhZ7FVJSL61M+87YgRlbT6lu8mVNj2wZUmP36etubid0rooW5bQ9Ua21kjtRD1F5+GLcvf+ojraV8mLs85W1uqCdDQlw/7RhU5iSiwD1STHYmYAM+hRp3mJnLYmcGwfQIndXstpE2hBlOMAkk6fl5SYcGL1QowBGtquQ5AA6uS+RSmoAvfK9BiicM4PltTIBuQlw/zS//94G0Oeu3cVvm06gcoGsaFgqt/kJOSjC5NlL8dGGe8lmnDFtKuz+SNsT0A3GrMCxy7dVfwWzB0P55eIfW066+R/7fCW0rZQvUcxrt+8jS3Bqv+jtOXMNrcetdVvbv2Up9Kxf1C9/XGQPAtw/7dEHZuGZAPVJZdiZgAz6FGneYmctiZwbB9Aid1ey2kTaEGU4wCSTp+XlJhwYvdmwKPo2j73jedLaoxg2d69bjoNal0b3ukk/AT1w3V2cvRXjtmZe7zCfvzzLcjBMQDgCcftn1dC6OHX1NkrnyczrADx0+eD5G8iULjXyZPH9rxZC+s9DdLz/+ce///37VYcxckHsncDKLQyr+jZEgezBwunM14I2HLmM7SevYtR/bJJbXy5fZsx9q66mEPXHrMDx/wbQyi8Wm5R+DK/8vMVt7ah25fF8jYJu741ZFIHxKw6rV3NMebm6z/f3bztxBU9/u97N5+sNiuKDJL47QFMxNLKcAP/90/IWMIFkCFCflIedCcigT5HmLXbWksi5cQAtcnclq02kDVGGA0wyeVpebsIBdN/mJfFmw2JqXnfvP0TTL1fhZOQdV569GhbDe81Lesxb0eepG9FYdDEj1h267LKZ8VotVC9szhddWQ6QCTiGgKLPm1ExGLThAa7ffYDejYvjnaYlHJN/IBKduPYohs/dC+Wu4T9fq42SeTL5FLb2yGU4c+2ua836fo2QN2t6HDh/A82+XO3ma0CrUuhRT96nYs9cvYOXJ2/G/vM3NDNuWS4PvutcVZN9/Pu45/eui1J5MiFkwHy3tUOfKIOX6xRxey/+mfBr95qoUyynpnhxRusPX0LHHze6rfm2UxW0Kv+4T35obC8C/PdPe/WD2bgToD6pCDsTkEGfIs1b7KwlkXPjAFrk7kpWm0gbogwHmGTytLTco5duoWGCL6n68Iky6BpvIBH1IBolBi1w5fnJ0+XRsab7E3NxH8bXp+JX8a+8zPqiK0vhMbjjCMxasAz/W/VoOKoUcHBES6ROmcJxtZiR8PHLt1B/zKMvrWtVPg++7aRt2BmXT51Ry3H66qNfWMX98mn8ikMYs2i/W9qjn6mA9tULmFGKZp8Po2MwNfwYlP/uHFoI6VKn1LxWr+FH/+zB5HXHPLopljsjDl24meiz5mUfw/ddqnlcc+3OfczcegrK2iqFsqHc0EUuu80DmyBXprToOW0LFu0573pfeSpZeTo57pVwv0/uL16Sqn95xHl0m/LoSeu6xXNiUtfq/N+ZXsFYvJ7//mlxAxg+WQLUJwViZwIy6FOkeYudtSRybhxAi9xdyWoTaUOU4QCTTJ6WlvvH5hP4YOYutxzGPFsBz1VzHwr9vP4YlGFJkZwZML9PXaRN5XlIE1+frcetwZ4zsV949V2nKmjJp98s7TWDAy99sxCrTj10Q7H83foIyZVRejz3H0ZDuSLjs8UH3Fgo9w0r9w5recXExKDs0EW4HfWIcc/6IejfsjSGzNmNqeHH3dx4uv5BSxwjbaZtOI7Bs3erLhP+8s3IOJ58FRswHw/i31cSz2juW2HoMnEjrty+77a0Senc+Oml6h5T++DPna47nnvWC8H3q4+odulTp1TvjU6ZIgjKU9e1Ry13rU/4VwDK3c8Vhy12fR7XP19YzNt5Fm/+9q+6pHy+LPjnrTBfltPWpgT47582bQzTUglQnxSCnQnIoE+R5i121pLIuXEALXJ3JatNpA1RhgNMMnlaWu70TSfQ7y/3AXRSfyodeSsKWdKnVocYSb3i67P9hHBsOhapmn72XEU8WzW/pbUyOAkkvG5GITL7zTqoVCCrlHCUYeR3Kw/j2OVbWHPwkkcGf/eqgwr5tfE5cvEmGn2+KpGfP3qEosMPGxK9P6RNGXQLc7/+IdCNiK+JDGlSYs+wFqalEB0dgwMXbqBorozq08BVhy/B5VtRHuMdG9U60dPKimGDksq9zDUSrbl08x6qfbzUo6/KBbNi1ht1XJ8NnLULv248of7co14IBrQq7fos4YA64eda4Py59RTem7FDNa1RJDv+r2ctLctoY3MC/PdPmzdI8vSoT8kFYPPyZdCnSPMWm8tJ2PQ4gBa2tfIVJtKGKMMBJp9CravY05/Ff9OxMtpUyOtXUvH1+dKkTVh14KLqZ1jbsnixVmG/fHIRCRhBQHnCt/jAR1fJxPn85ZWaCCvu2x23RuRjBx99pm/DnO1nkk3lqw6V8FTlfF7TXXfoEjr95H7vr7dF8e+b92ZrxueHL95E43gD85wZ02DLoKZmhFJ9vvX7Nvyz44z6VPD0HqHq0+KeXt93qYrmZfPg6u0o/L3jDHafvob/23JKNVWus5j2Sk23Zcr1IYNm78bvm2KHyglfT1bMi3EvVP5/9q4DLIprC/8izYIooliwISqiUkRBEQEpFtRoTDSW2KLGmsSSmNi75lliS4wmakwsMUZjjA0UFcUuFuwFsfeODcXyvjvLLrOzM9vL7My93/e+yM69557z33/v7Dtz5z+qjyduOI2Fuy8xf8f4lYRDvnwo7JIfwxKqI+tlDuJZWt2dwspj0oe19Mbk5eu3qD46UdWfFDIkEky02T8C9Pen/a+hlCOg/JTy6tp/bHLgp5TyLfbPOPuMgCag7XPdqNc8CEhpQ5TDDYyS2HoI8GmQktNq5NSaMY3Nz37LD2PTiduMGa7OqDG26RiKgCkIXH3wApHTdmiYkLM8DN+JcC5AIxKqo1ekj07o28zbgyNXH+vsx+0woXVNdK5XweBx5hiw49xdpgigskX4emJZT/XkrjnmIUnZeSkZmLs9Q2WOaOkPX6v+9gm5GFMuPxb3Vz+FverQNQxdc5wZW9+nOP78vB7zb5JA//PAVVUyWcjXSR/WRKewPIxnbDmn5otynKNDPl5JkIuTE7S++cKed+bW85i97YLqo6Y1SmF+Z8N0xM2BObVhfgTo70/zY0otmg8Byk/zYUktmR8BOfBTSvkW8zOAWtQHAZqA1gcl2scuEJDShiiHG5hdkEoiTvZYcgjbzt5VRRPrR/RF6yBfPmGZDW2hs/lJXsEmr2KT9kWML4Y0riYR1GgY9ojA3oz76MhzQnfqxwFox9E8t8f4jPFZnwS0Pt9dIi3hM3yTMS4wYw6PjEPxwi5Gjzd24Nqj1zHoL4VUhLJlTk6AgxaZIWPmmp50Dj/uyEs+ExstAkpjw/FbKnOehV3Qqcp7BHg6IDY2Vm0aUlhwiFLSoqIHVvWpz5yM/vLPo3q5c2JsY7i5Oqn68r35os3Q/E9D0LRmKb3m4nKqTXBZ/PBJkF5jaSdxI0B/f4p7feTuHeWn3Bkg7vjlwE8p5VvEzSbpekcT0NJdW9lFJqUNUQ43MNkR1IYBx0xPQeb954wHQtrPhrjH5ueYdSfxe27Rsc8aVMLolv6GmKJ9KQJmRYCdxGMbHtXCHz1srENs1kANMMaXgK7n4wGvIq4qaY5u4RUx9oMaWq1ypSxqli2CkzcUBUi5rVfDSvg1VSH/oGy1yxfFPyyNYgNCMKnr4t2XMH7DaTUbi7rWQWx8zuXjAAAgAElEQVR1L5Pscgfz4UwKul7K3XsDyxXF2r7hSElRnNCPiYlRM7Hu2A18tfIY8xnBakzLGmj10x69fCznUQCpQ9XtLUzNxMSNZ/QaTzqRIoZnJuinjc2NlVvkUO9JaUfRIUB/f4puSahDLAQoPykdxIyAHPgppXyLmLkkZd9oAlrKqyuz2KS0IcrhBiYzeto03FpjkvD01RvGhw1fRKBmWXeT/GHz83+JZ5kCZ6R1CC2HKW0CTLJNB1METEFAKOk2KK4qvoqrYoppux3LTRamfB2Nip6FwJZREDrB+v79e0zaeAZHrz2GXyk3VVE7klglhR17L03D/kxFEVJlGxJfFcHli+HTRZpa0ecnNoOzo4NVsfxhyznMYcliKCcnBQDN1Yg+c2We0+GkmCu5RppS11no/r7h+E0MWKE47Rzg7Y6qXm6qt0t0+Un0ptd/EaHWbfS6k/gj9+GgrvGGYsLl1Oz2QWgVpFtDXF8/aD/bIUB/f9oOezqzbgQoP3VjRHvYDgE58FNK+RbbMUXeM9MEtLzXX1LRS2lDlMMNTFLkE3Ew5LX5yiM24b0iB4LUoY1QzqOgSR6z+fnj9guYvuU8Y49bBMukSehgioARCExNPIt5uQ9E2MPj/b3wa5c6Rli07yHcxKhPiULYNjiKkd9ZtPsSJuSeDI6r7sXI8nBb4slb6LPsiMbngd7uWDcgAnyyHJemJDD2+R4G7BsWg9LuBawKasDYJGRlKx7AsZs5E9CkkGDQ+K1a40qoVQrzOoVA6P7Oxtq/dBF4FHLG7oz7emFFHg4kDoxU62uIfIdyYProxnAvmCfjITS536jNyM55p7p8dFQ8ihVy1stX2kncCNDfn+JeH7l7R/kpdwaIO3458FNK+RZxs0m63tEEtHTXVnaRSWlDlMMNTHYEtVHAT7NzUGvsFrMmCtj8ZCexiL5p2sg4G0VKp6UIAN+tOY6Vh67xQrHj62iQk7tyalnZOQhgff/J95N8T0n7O+0avlmtKHpXp0IxrO4brgHN0NXpWJWm0Hhnt/IeBbFraCPmI/Zp2IrFCyLlG8Xn3Gvk7/8GNECAd1GrLcH1Ry8Q8T/NopTEgZWf10M9n+Im+5Jy7i5zSvzC3WdabbWr442pHwcKJqC3nr6DXn+kMTaqebnB16swNrL0o9nGSQHZg5fyTp6T/kmD1BPQ2Tlv4Tcq0aD4Nn4ZgRpltL8hQ07FVxmxWVXI0JSCtgY5RztbBQH6+9MqMNNJjESA8tNI4OgwqyAgB35KKd9iFVLQSTQQoAloSgrJICClDVEONzDJEE/kgdx68hL1p2xXeWmOV+DZ/FyVdg1Dc5NYZJIz45uigHN+kaNC3ZMiAkmnbqP30sOq0NxcHfGUdfK1e4OKjK6unNrdrGyETt6mCvnshKZwdVJ8P3eev4euiw+qrp0a1wSFXBzV4Om0cD/2ZDzQgGx0C398lqupzU5AfxzijeltA1X9wyYn407WK9XfC7vUQZy/ebWXta1n/xVHBJO4xQo64ejoxibR4cKdp4ifuUsvG0qNfKH7+46zd9F9ySHGVuUShUBOiitPQI/7oAbIw8QCzo7oGFoeRNqj6sjNqnnb1y2H7z/SlD9asucSxq5X17/W5uyKnmEI9/Xk7UJO0797r/hftZF5ie0Dw2MZPXHapIEA/f0pjXWUahSUn1JdWWnEJQd+SinfIg3W2V8UNAFtf2tGPRZAQEobohxuYJTI1kHg/J2naJybIHFxdMC5ic1MnpjNzztZ2QhjJbh2f9sI3sVMk/jgOvj6zTv8susiXrx+i77RleHmqvsVcZODpAbsCoEDmQ/wyS/71XxuVK0Edpy7p/qsQ2h5TGlTyyxxrThwFf8evcEkYZvWLGUWm5YwcvPxS4R/n/cA6uLkBCZ5SRp7b1DOPTi+KgY08kX2m7f4ZVcmZiVf4HXrwqRmcMqv0HL+Y99ljPnvFBzy5cOyHmGoXznvVPHS/Vcw6t+TKhsEf7IO1mp8hQHZc5siw3H3aTZCJ+Ul93XFpCzUJ3R/T71wD50XKR4IkJPkhV0dVUUef+pYG80DSqtNsWDnRUzZfBYFnfNj+5BolHLXTAJvP3sHny1RnKrmNkeHfKpTzMpr0z4OQNs65TT6XnnwHO1/2c/0J3rPHX/N0/c+Oa4JCnMeXOjCgl4XLwL096d414Z6BsE3SCg2FAExICCH/VNK+RYxcEaOPtAEtBxXXaIxS2lDlMMNTKI0FF1Yh688wkc/72X8MpdEBpefbD3QxIEN4VeqiFlxCJmwFQ+ev2ZsKpM4Zp2AGrN7BHyGbURurTdVLCTR+efBq6q/SQKPJPJMbTcev0QDVlJXqXlsql1LjL/28AUaTs2ToGD7+uRlDgLH5cnzKOcnCcYT159g4e5Lgi5xE7ckGUtOyPLpO3+25BC2n73L2Irw9cSynmEquyRBvvvCfUT7lUBJN/OforVUAjrj7jMmIXv/Wd7pbl3rNyKhOnpF+ggmUPZevK9K7HoXK8Do9hOukcZ3MplIYZy+lcVgTvSi+RqRYKk9fqsq0Vzfpzj2ZSpOtBNNdFIYkSvTwZeUZ5+EJ/cRdtzshxq6MKDXxY8A/f0p/jWSs4eUn3JeffHHLgd+SinfIn5GSdNDmoCW5rrKMiopbYhyuIHJkqQ2CJr9mj3RvyU6uKY2Lj/rTExWJSTW9K2PkAoepk6hGn/mVhaazU5Vs2fKqUWzOUYN2RwBkvT8aXsGXr99r5ZoJo61r+aETxuHocXc3Wp+npvYFC6OpknEkJPPA/86prLLPg1sc1A4Dly+/xzR01OYT8nJZ5IsVDaSwKw0bJPBLodW9MCqPvX1HkcKHRKteGVTanGTNxtif0jBtYcvUb10EWz8IgIOuaez9Tauo6O2BHRpd1fsGxZr8FRXH7xA5DR+XWltxpSnv4Xu70TTud2CfYwJ4huRj3n2SlE8UR9tZqG5STFIcpr9w+CyzAO85QeuoGgBZxC5FII3FyO+/VUIxwJO+XFmQlODMaQDxIsA/f0p3rWhntET0JQD4kZADvunlPIt4maTdL2jCWjprq3sIpPShiiHG5jsCGqjgEkRK6KDSlqtsu5Y/0WEyZ5w+dloegou3X/O2F3SvS6iq5U0eQ6lgXXHbuCrlXnJPvI5O0FCkmjZOe+Qef8ZqpcqYvYEltkCoYbMjsC3q4/jrzT+goO/xLmicVwsOv66H3sv5mkY161YDH/30Sy2Z4hzP+3IwLSkc6ohYtY9Jyd1437YyfjqnN8B5yepS/DoOiGsDJIkRLuFV8Shy48wMK4KapbVXqiOjec/R65j8Kp01UfkhDUZTx4e/HP0hupzSxSJDBibhKxcHfB/+oVj84lb+DVVkQwPq+SBv3rrn0hXOjror2NYy/Kby53ekT5MIUxywpzd5nYIRsvAMoInoNlvqxB96kcv8sbv+S4GZYsWMISmevf95u90/H04r9Dk6fFNUNBZXQtciCelirhi/3DDk/h6O0c7Wh0B+vvT6pDTCQ1AgPLTALBoV6sjIAd+SinfYnWC0AkZBGgCmhJBMghIaUOUww1MMsQTeSCD/zqmSvKQ16///LyeyR5z+dly7m6cuPGEsftjx2C0CChj8hxKAyRh1He5IoGubMoCaKTA2sfz9+HqwxfMpWY1S+HnT0PMNjc1JF4EiGzDp4vydGjZni5urEjUxcTEgCtBQT43NZnHTWqfGNtYtLrk524/RZNZiiJ5fKdV9U1Az2gbiI9CvI0iBDnpzC6YNzzBD4t3X8btrGw1e3w6x0ZNyBpUc0yS6hTxpi8bIuPeM3z551GmR2C5oljXv4HBU/RemoakU3cEx/3bvwG+W3McZ28/VeujfDgndH9Pv/YYrX7aw2uXr0CkwY4LDCByGuQtFmXbMigSVb3c1HoL8aSalxuSBkWayxVqRwQI0N+fIlgE6oIgApSflBxiRkAO/JRSvkXMXJKybzQBLeXVlVlsUtoQ5XADkxk9bRIuO/lEHLBUArr9L/uwP/MhE+P3bWqhvRmLjG06cQv9OAloMs+8TrXxz5EbSD6jngg6P7EZnB0VxdFokyYCRGu48nBN6YiiBZ2wf1gs9qYqTvySBDSfzIS+WtAX7z2DVxFXjQJrRP9Zqc1L5jk6Kh7FBDR4bb0Cp29mIWGOQsKGFIojBePYTVcCennPMASXL6pxItbQuL5aeRTrjt1khtWpUAxpVx5pmJj8YS10DDNvgcLqoxLxMuctM1fSwEiQYnqfLz3M/G1s8nTo6nSsSss7McwNhJzkJn3IaXF2W9ErDOGVPQVPQGfee4aYGQrusptT/nwg+1q+fIrikZZoUdN24MoDxYO8RV3rILa6F0iB2ePXnyC8cnHUGJPEO21oJQ+sMuIUuSVioDbNgwD9/WkeHKkVyyBA+WkZXKlV8yAgB35KKd9inlWnVgxFgCagDUWM9hctAlLaEOVwAxMtkSTk2ORNZxjtT2WzVBFCdpGxsS390a1BJbOh+HfaNXyz+rje9tJHN4Z7QSe9+9OO9odA4slb6LNM/VQ8iWLl5/VQz6e4RoKvz9LDSDx1Wy1QXTri05PO4ccdGYzsATnRWsLNRTU+ePwWNXmEgyNiLVJAzxwrQ4oJtvxRoYPtXsAJ6WMaq5ntt/wwNp1Qx0bZgWhGX5jYzCyyNmP/O4Uley8zpokUyOu37zTCI/OlfB0NUoDPXMlWcvKanMAmLXlwJG4+zkaXxQdVc+viAd8acDWtuX3IaWVyynpbbuFF5fX1AyJQy9tdMAFNHpb4j05SJcyV4yqXKIRtQ0zX7tfGJ3aRQW4/os9NtPj5Wry/F1PMkDbpIEB/f0pnLaUYCeWnFFdVOjHJgZ9SyrdIh3n2FQlNQNvXelFvtSAgpQ1RDjcwSmbLIzBw5VH8m3vqUJn44WrAGuMFl5/sV9JHJFRHr0gfY8zyjlmy5xLGrj+tt72938WgjIW0UvV2gna0GALkVHIszynR7UOi4FOiMDMvl5/zUjIwNTFPs5n00ZZ4JInA4Alb8ThXg7dL/QoY36qmKia/UZsZ3XFlEzPnjl17jNa5sg7FCznj8Kh4tbUheA775wRIATxu8yriggPD48yylrOTL2Bm8nm9bOl7Ql0fY77DN+HNu/cKXgyJwv1nr1WF/shnR0bFw8PA0+uzks9jVvIFwekJt4avPYEVB66q9bk0JYFJrGu7v0/ZdAYLWA8NiYE2tcvih3ZB+oRrdB9dp7qFDLer442pHwcaPS8dKD4E6O9P8a0J9SgPAcpPygYxIyAHfkop3yJmLknZN5qAlvLqyiw2KW2IcriByYyeNgm3x5JDaqfwJrSuic71KpjsC5efA1YcwYbjtxi75tZh5hZ80+V88uAo+JZUJCJpkxYC7969R/zMnbh4T1HwUtm+jPHF4MbVVH9z+ZmVnYOAsVvUxmhLQN99mo3QSdtU/SOrlsAfn4Uyf/PJf+z6phHKFy8oSrAPX3mIj37ex/hGTnEfGiGcUObKcQR4u+O/AaYXLSVzC51aFwKNrxCeMQBXGrYR7xX5Z+z8JhpPs9+gxVzFiXDSfutWF438DCuaOjXxLOalXFTZ6BRWHstzk83k9Pbub2OwPv0mvsjVmiYd46qXxMKudZkx2u7vC1MzMXHjGbVQN3wRYVDRR2NwmpZ0Fj/tyItJXxtjWvqjuxnfeNF3XtrPcgjQ35+Ww5ZaNh0Byk/TMaQWLIeAHPgppXyL5ZhALWtDgCagKT8kg4CUNkQ53MAkQzwRB9JuwT7VycaSbi7Y+U0jFHDOb7LHXH5yT1qfm9gULo6mz0Mc5SZ79HG+RUBpzPokCI75qRa0PnjZS5+Mu08R94OioJ6y+XgWYoqgObHWmm//3Hn+HrrmSi/wnQRm22SfGiafx1X3wsKuCpmB49cf44Mf1QvFbRsShcq5p6/FhuWBzAf45Jf9jFul3V2xb1isoItB47eoTn2TTq2CymB2+2CzhHT7STbqTclL6usyemx0PIoWdNbVTet18sDCh6UVvvvbRoymd5URm1XjqnoVxpZBUQbNM2njafyaeokZ82m98hj/QU2M33Aa5+88xfCE6kyy+PL954ienqKy27RGKczvrCiQqu3+vvrwdXz9d7qaP8bIhBgUEICZW89j9jbhU91C9qyRHDc0FtrfNATo70/T8KOjLYsA5adl8aXWTUNADvyUUr7FtNWmo41FgCagjUWOjhMdAlLaEOVwAxMdgSTmEPfU58+daqNZrdJmiZLLT67G7pq+4QipUMwsc7G1Yw0xOO3jALStU86QIbSvyBEIGJuErOw3al7ySQDw7Z/sYnxuLo44wSnGxza6+8J9fLrogOojZfHOn1Mu4n+JZzVQ2jIoElW93ESJ3t6L99HxV0UsRM96z3cxgn6GTkrG3aevVNe/blwVA2KqmCUukgz2G52o0mPWZZSc1Gbrbuvqz3c95+07tWTzvmExKO1eANyT3oYmeMesO4nf911hpuwRUQmjWvhrTP/i9RtGz1nZInw9saxnGPOntvv7tjN30OP3NNU4c2vqC+FIeE34bWhTyooYOo72Fy8C9PeneNeGeqZ9/6T4UARsjYAc9k8p5VtszRe5zk8T0HJdeQnGLaUNUQ43MAlSUDQhkcRLwuxUXLj7TOXTsh5hiKjiaRYftWlAkwkWda2D2OpeZpmLnAYkpwKVjRRSvP8sL0kmNEnLwDKY28E8pzfNEgg1YhICNx6/RIPvt2vY6N+oMr5p4qf2Od/+yT497ezogPMTmwn6k3jyNvosO6x2/eS4Jqg5Ji+hyL648csI1CjjblJ8lhqceuEeOi9SFN2rULwg8xaEUAsctwVPXuaoLm/+qiFIATpztZjpKci8nyefQjSmSZL55A3NAnf7h8WilLurSVNn57yF36hElY2Dw2NRsoiryQnoYf8cx58HrzF2+0ZXxrdN1fmnnJCd6K5V1h3rv1DImWi7vx++8ggf/bxX5TN5k6N1cFmTcNBnMNEAJ2/MGNIWdqmDOH/z7POGzEv7WhYB+vvTsvhS66YhQPlpGn50tGURkAM/pZRvsSwbqHUhBGgCmnJDMghIaUOUww1MMsQTYSDspJPSvX/7N0BQuaJm8ZbLz15/pGHr6Tsq236l3PBX7/pwL+Bk8nx9lx3G5pO3GTvfNfND70gffL70sNp8fJOQWEnMtEkDgQ3Hb2LAiqNqwRRwyo/kIVHMyV5249s/rz54gchpO5hu+fIBmZMVBeH4GvuEqz7orevfAIFm+m7pM58hfVLO3UW33w4xQ3xKFML2IdGCw7kng819upUUQyTyJspG9okRzaurEuRsx1KHNkI5D9N0tbmnkNNGxoE8wOLGeWpcExRycdQb1iGr0rHmiOKh2FexVTAovirvWPY85T0KYtdQRfJf2/2d++bKil5hCK9sngeHugLsvOgAUi/c19qNaFyTB4BkfyUPNanMkS5U7e86/f1pf2smJ48pP+W02vYXqxz4KaV8i/0xTBoe0wS0NNaRRgFAShuiHG5glLSWQ2DFgasYvvaEagKSdCH6p65O5tFl5vKz5++HkHzmrlpAXetXwLhWNU0Ossvig9h1/h5jR1lEsf+KI9iYW/RQaAJdBddMdowasCoCkzedwS+7MlVzru5TH5U8C6F4YRcNP/j2z1tPXqL+lLwT1BcmNVPTjVYaefziNYLGbzUotjV96yOkgodBY6zVmS3pUKVkYWwdLKx3bKo0ha6YuPrGdSoUw9996jOnie9kZatpEKd8HY2KnoV0mdR6/Wl2Dmqxik8eHRWPYoWcNRLQoRU9sKpPfb3nIsUFSZFB0r5pUg39G/nyjmXjSR7GpY9pzPTTdX//O+0aiPRQcPliWNK9rlWTvASz4PFb8eZdbuVGTmRT2tTCR7W9Qd4ioE2aCOjipzSjplHZCwKUn/ayUvL0Uw78lFK+RZ4stX3UNAFt+zWgHpgJASltiHK4gZlp2akZHgRmbDmHudszmCtFXB2ZU6Il3Ux7nZ09DZefny05hO1n1RPQpL+h2qp8i0leRyevpZP2Q7tAtKntjcGrjuGfIzd0rr3yxKPOjrSD6BHotHA/9mQ8YPwcRk7CR1UW9Jlv/3zw7BVCJiarxpwe3wQFnTVPve7NuI+OC/P0n/UBZuXn9VDPp7g+Xa3eJ+nUbfReqpATISeOEwdGCvpg6QQ0V9+4UbUS+K17qMqfaiM349Wbd8zfyYMj4VvSNF3tJy9yEDh+i8o+SQCTRDA3TtJB6IEEH1i9l6Yh6ZTijY8RCdXRK9KHF1MiGUOkY0hrG+KNaW0DmX+L/f7edv5eHLqs2HO57fDION6HPlYnNp3QYgiInZ8WC5watgsEKD/tYplk66Qc+CmlfItsiWrjwGkC2sYLQKc3HwJS2hDlcAMz38pTS1wE2K+I94uujKECGqXGIsflZ9fFB7Ez95Qy26Y5EtBNZ+3C2dtPGbMLOoegSY1SYGuwaothdvsgtAqyvH6qsTjScfoj0GTmLpy7o84DodF8+ydX2uDY6HgULeisYYKcbCUnXLU1cpKYra++vGcYGvhaRyZBf8QUPTefuIW+y48w/65Rpgg2ftlQ0ISlE9Bplx/i4/l5OsNx1UtiYde6Kn+IxvazV4oik+bQn+Y+dFBKbfAloHd+E40KxfU7cc1+4DbugxroGl6RF1NS+JLIExVyyY+lPcLgVUTxEFDs9/cRa09g+YGrGjENiquKr+LMU5TSUB7T/tZDQOz8tB4SdCYxIkD5KcZVoT4pEZADP6WUb6HMtQ0CNAFtG9zprBZAQEobohxuYBaggGRMkuJZJIlMTs9N/rAW/MsYVgiMfVpUKVthTnC4/BTSDjUlAU2SR0NXH8c21slqpR4qeT19yd7LOkMa09IfzWuVxk87MlCmaAF8HukjqPur0xjtYFUEyOnVOdsv4NHz1+gf44sOv+zH3aeK4pOretdHaCVhyQu+/VOoIB03qN/2XMK49adVHxPN2+uPFKdYSRvb0h/dGlQCu6BehK8nlvUMsyo++k7GTqgHertj3QBFITy+xk7MOjrkQ8bkBH2n0avfqZtP0HzOblVfri49uwjihi8iULOsaYUd7z7NRuikbar5zk5oysgQ8SWgDXmI0G7+Phy8/JCxO/XjALSrU04w/nfv3jOa42y9cbHf3y/df47GM3ci561ChoPoVzes4omJrWvS/VMvptt3J7Hz077Rpd6bigDlp6kI0vGWREAO/JRSvsWSXKC2hRGgCWjKDskgIKUNUQ43MMkQzwKBjF9/Gov3XGIsN61RCvM7hxg0Czs5trBLHcT5exk0XldnLj/ZCW/2WFMS0OPWn8Jve9STzEpd2CmbzmABSw+YnOw8dTNLw22CHSkupiwY9lv3umhUraSu8Oh1GyNw8d4zxM7YqeYFSeK9z5Wl3TooElW8hOUZ+PZPkgj0Gb5JZZNoonsX0yxyNy3pLH7acVH13Qvz8VBLSCv1noPGb8HjFzkqe+ZImFoC9nXHbuCrlccY07XLF8U//YQLc7ZbsA8HLykSqz0jKmFkC3+zuvT23XvEzEjBlQcv0MC3OJb3rKdmv87Erbj/7DXz2dp+4YwGsint9pNs1JuSl4A+P7EZo13Ml4D+uVNtNKtVWq/pYmek4OK950zfRV3rILa6YfurPdzfSfFKwoUOoeVNLgapF6i0k2gQsAd+igYs6ojVEaD8tDrkdEIDEJADP6WUbzFgaWlXMyJAE9BmBJOasi0CUtoQ5XADsy1bxDv781dvUGNMkpqDhiRy379/D//RSXiZ85axYYnEGJef5HTqvkyFPi+7GeI3dyxfkkh5gpGtcU3GdW9QUSNZzbfC/qWLYNNXwhIE4mWFvDxr9dMepF97LBj0oRFxIEUmhZrQ/uk7fJOquNr2IVHwKVFYw8S3q4/jr7RrzOd9oiozuskD/1IkcElLHdqISchx+alNisGWq7fm8HUM+TudcaFuRVL0L1zQnQt3nuLr1cfhWcgZczsG82pkmxrLk5c5OHzlIUIrFUdhF3UN7rDJybiTpTjlTopM1qloWmFH8gYJ0WFWtouTE5DfIR9vAnp620B8HOKtV3jB47fgUe7Dh3/6haO2gYlyen/XC2bayUYIUH7aCHg6rV4IUH7qBRPtZCME5MBPKeVbbEQT2U9LE9Cyp4B0AJDShiiHG5h0mGfeSLivqbOTXvrMRDRUiZaqsulK1uljk9uHy89PFuzDgdyTk+y+piSgKw/fBHJiUtlIwpHEQtq8lAxMTTynukYKgU3adEZnKEHlioK89k+beBG4m5WN0Ml5p1a5nro4OoBo+TrmdxAMQmj/rDE6Ec9fKx7MCGkM91hySCX7MrJ5dUa6pV+uhjIZd25iU7g45gdbm5x83jvSB8MSqosO2FVp1xgpG9Lq+Xhg5ef1Reej0iF20b4/e9VD/crGF3a89eQl5my7gD8PKh4mkHZpSgIjIcH3cGt8qxroUl9dy5k8BFl79AZKu7uiU70KTMKc7Em+IzapTuMboh2t9IPe30VLQeqYHWiU00WSNwJ0/5T3+os9ejnwU0r5FrHzSar+0QS0VFdWhnFJaUOUww1MhhTVK+Rl+69g5L8n1fpOaVOLeRVan3b5/nNET09hujrkAy5MUpz6M2fj8nPbmTvo8XuaxhSmJKBrjU3C02xFQTLSAssVxbrc5PHx64/xwY97VNcGNPLFjzsydIZIdIOJfjBt4kXg3O2naDJrl6CDjaqVwG/dQ7UGILR/hk/ZhptPspmxSj1xpaHMe89Qyt2V0ZpOv/6E+ZgUsWzkVxINpmzH01dvEODtjv9yNZTZ0hakb3S1Eliiwy9boL7iwFUMX3uCmZpP9sIWPgnNGTVtByPPQRqRxLj68AXzAKBlYBmQNzvYOsq6/Obq0pMtMHNKc2YYXwL626Z+6BtdWWWWvInScOoOPHyukAQh10ifm49fIpx1qlpZ2FCXP+zr9P5uCFq0r7URoAVenTkAACAASURBVPy0NuJ0PkMQoPw0BC3a19oIyIGfUsq3WJsfdD4FAjQBTZkgGQSktCHK4QYmGeKZMZAd5+6i+2+HNCwqC5/pM9Whyw/Rdv4+pqtnYRekjVScGjZn4/KTJIeIJjORxlAWrnJzdcSJsU2MnpatY02MhFb0wKo+ecljdhJpaNNqaieihSYlhbSW9hBnsTijgZLYwKNXH+HDeXsFo+oWXhFjP6ihNWqh/TNhdipO31JohVfzcsPMT4IYiY3IaTvUCg0qja/oGYZwX08cufoIu87fw4fBZVGheCHV3P+l38SXfx5l/iZF+4hEjLaT2bZYqoj/bVfF5lOiELYPibaFG3rNydZW9i1ZGBl3nzHjSPKY7GUz2gWiYZUSetniJpmd8zvg/KRmzNgft1/A9C3n1ex8EeOL/o18QfbPSp6FcO3hS3T4db+qT50KxbC6bzj2ZNxHp4UHmM9LurngYO5bGXo5lduJ3t8NQYv2tTYClJ/WRpzOZwgClJ+GoEX7WhsBOfBTSvkWa/ODzqdAgCagKRMkg4CUNkQ53MAkQzwzBZKd8xZ+oxJ5rQ1r5ofeUXmn87RNuenELZVkQPXSRRipAXM3IX4eu/YYrX9SnEwuXsgZh0fFGz01N4FE5BB6NvRR2fth63nmFXvyWjzR5T14+SEG/3WM0ec9e/sp77zkVfp9w2KN9okOtDwCezPuo2Nugo9vNu5JVb4+QvzkO/laqogrbmcpTkVz2+GRcSheWFhrmugZB47bohp2ZFQ8PAo5Wx4kPWfgO01uylsJek5rdLcmM3fh3B3+7y4xqm/Cl28vdXVywNkJigT0i9dvMGPLeSzarSj0Stqn9cozRffO33mGAk750SW8AhbszFSLZUxLf+ZBw6h1p5jPwyp54C8j3qig93ejKUIHWgEByk8rgEynMBoByk+joaMDrYCAHPgppXyLFShBp+BBgCagKS0kg4CUNkQ53MAkQzwzBXL2dhaazkrltTYkviq+iK2i10x/7LuM0bkJksiqJfDHZ9rlCvQyyukkxM+TN56gxdzdTO8iro44buQJaK4OcLGCTkzi2NUpv8qTd+/e4/iNJyjvUVCV9Hv15i3ISUdSNG7dsZu8oSUPjoRvSTdjwqZjrIBA8uk76PmHppyLcuqZnwTiw2DtxeKE+Nlv+WFsOnFbryjYmuNCAwgHiR6wUqo85etoVPTMOyGt10QW6kSSqxM2nFaz3iqoDGa3D7bQjKabbT4nFaduKk6oCzV9EuhE/7n+lLzig0pb3LFTE89iXspF5rKzowNev3mnmraMu6tKroXtCylkqjxF3yG0HKa0CTA4cHp/NxgyOsCKCFB+WhFsOpXBCFB+GgwZHWBFBOTATynlW6xIDToVCwGagKZ0kAwCUtoQ5XADkwzxzBTI9rN38NmSvMQbeeU77cojxjrROP66STW9ZiIyGHO3K/SQ29Quix/aBek1zpBOQvxkJ9HJKcKOYeVx/s5TDE+oDnIaW9/GlWFY0zccIRWK6TscpHhYq9yT2HyDtg+Jgk+Jwnrbox2th8BnSw5h+9m7zIRlixbAjccv1SbXp+ibED/Z8jS6Igr0dse6XL1nbX2Dxm/B4xc5TJf/BjRAgHdRXaatcp3vtPee72IYTMXayHeWfHe1tX3DYlDaXXsMp29mIWGO5sM8bgJ6YWomJm7UXbxUyJ/hCX74PFK/N1PYNuj9XawMpH4RBCg/KQ/EjADlp5hXh/omB35KKd9CGWsbBGgC2ja401ktgICUNkQ53MAsQAG7Njl/50V8v/ksEwORioitXhLL9l9l/v480odJ4urTvltzHCsPXWO69o7ywbBm+o3Tx7ayjxA/iWZr3A87NUx5FnZG2kj95TgOX3mEj37O0wHOnJwABwMKKZKkd+OZwoXsqnoVxpZBUYaETPtaCQFu4rScRwFGj1fZLk1J0FmMTtv+yU5wawsp3t8Lv3apozPqyKk7mGJ5pBGZh1Pjmpq96KdOJzgdSOG82hO2qn06r1NtJNQqbagpq/Yn33ny3dfWiBb0333qMzrNQm19+k18kavNze7DTUDrOm2vK/jpbQPxcYj20/h8Nuj9XRey9LotEaD8tCX6dG5dCFB+6kKIXrclAnLgp5TyLbbkipznpgloOa++xGKX0oYohxuYxOhndDikgN+AFUex8cQtlY0u9SvAKb+DSqO0a/0KGNeqptY5iO5pvnxAvcnb8Cj3RCZXN9loJzkDhfh5+f5zRE9P4Z3GkFPHaZcf4uPcQopeRVxwYLhhhRSvPXyBhlN3aA1Xn1f5zYUXtaM/AtwENEkC98qV5OgTVRnfNfPTaUzb/jl+/Wks3pOn/StkjGgCT2xdS+dcLeam4uSNPNkIttawzsEW6LB0/xWMXncS79+rG98yKBJVvcQtPfPJgn04cOmhTlSIXEafSB88f/0WRB+fW/hx7H+nsGTvZQ073O88n0a2zslZHX7qWBvNAwxP6tP7uyEo077WRoDy09qI0/kMQYDy0xC0aF9rIyAHfkop32JtftD5FAjQBDRlgmQQkNKGKIcbmGSIZ2Ig7GSr0hQ5WXfx3jP8nKtPqtQaJRrHR68+RlC5omp6yHsv3kf33w7hFUvDlNia3T4IrYLKmuih5nAhfl5/9AIR/+NP/JICXt0bVNLLlwOZD/DJL/uZvsYUDrz39BXqTkrWOhdNQOu1FFbt9ObtO/iO2KyakzxQuTSlOZJO3cbdp6/QNsRbjfdCzmnbP4VOx5Licm+UYs4A9JVX+PLPo/gvXV1v/Mz4pijgnKdXbi0QycOsSsM28U5nK58MiZ3vdDrRdC9WyAl3sl4JmuK+IcG3JmQw9zuvz4Mqbf4v7lYHMX5ehoTI9KX3d4MhowOsiADlpxXBplMZjADlp8GQ0QFWREAO/JRSvsWK1KBTsRCgCWhKB8kgIKUNUQ43MMkQz8RApmw6gwW7MtWsrOpdHySpPCv5AvN5m+Cy+OGTIHT8dT/2XnyAAKJP27+BSoqgzsRk3H+mmaD5rXtdNKpW0kQPNYcL8fP2k2zUm7KNd76vYqtgUHxVvXzZd/EBOvyqSEATzVqiXWtI4yYy+cbSBLQhiFqnL/cBhiUSfKTQ3Ac/7sbZ209VQY1vVQMl3VzQZ9kR1We/dA5B4xqldAZOvqcdfz2g1u/IqHhVYUydBszYgehlN/hes/hey8AymNtBvMUHlRD8sOUc5uTq1ys/2/hlBMi+0uN34cKUXO3trosPYuf5e2rINvb3wi8cSZU7WdkIm8y/X+mzLCt6hSG8sqc+XdX60Pu7wZDRAVZEgPLTimDTqQxGgPLTYMjoACsiIAd+SinfYkVq0KlYCNAENKWDZBCQ0oYohxuYZIhnYiB8hbdShzbChuO38L9EhSZ081qlQZJkIRPzTvXu+Dqa0UF99+49fIbzn3rUp2CbMe4L8ZMkwUkynK/1jvTBMD11rPdm3EfHhYqkHtEATh1qWAKajNtw/CYjbSLUaALamJW37JgVB65i+NoTzCSFXRxxclwToybUtX+Sk8LktO2Oc/dAJF62D4nGy5y3TPKWvEXg5uKIXUMboVghZ73m/3b1cfyVptBdJ61pjVLM97VkEVe9xpur08kbT9Bi7m4Nc+mjG8O9oJO5prGYHXLSvffSw2r2j42Ox8V7z9U04bkOcLWYP5y3h3lTRNmIBv3WQVEa6/n4xWsEjVfXyjYkuLX9whFcXv/iqErbuvhpiA+0L0XA3AhQfpobUWrPnAhQfpoTTWrL3AjIgZ9SyreYe/2pPf0QoAlo/XCivewAASltiHK4gdkBpSzi4pGrj5By7h4SapWCX6kiiPjfdlx/lFdkjeibnhjbmClAOGHDacaHuOpeGBRfBc3n5CWXNnwRgZpl3cFXcIyM8S9dBJu+amiRGIT4qS2h07leBUxorV3HWuls6oV76LzoIPNnheIFsfObRkbFsePcXaSev4/Cro6Ys01xmlzZaALaKEgtOoit3du+bjl8/1GAUfPps3+Sk9B7Mu6jRpkiqkTx8euPcSDzIRrX8EKF4sJF7rhO8Z24t8WpY/aDG7aPGZOaaegkGwWshQdxi5hGVi2BPz4LxaX7z9FIQFte6dLFyQmq4o8xM1KQee85c2nqRwFoV7ccr+cvX79F9dGJRkeVOLAhs4cb2vThp6E2aX+KgLkQoPw0F5LUjiUQoPy0BKrUprkQkAM/pZRvMde6UzuGIUAT0IbhRXuLGAEpbYhyuIGJmEoWc+3ZqzdMkUDyX9L2D4vVkKxQas+yT4OSvuQV8i2n76h8W9ilDuL8vXD6ZhYS5qSq+VzAKT9OjWsCB4d8FolFiJ8krppjknjn/DjEG+Skoj6NvD5PXqMnzcezELZ/Ha3PMME+287c0XiFnyagTYLU7INvPn6JcJZ8xNeNq2JATBWj5rHF/kl4r/xeK522Nsf+OXIdg1elq2HWq2EljGjubxSO1h709t17NJm1CyQRXd6jIMhbHvkd8kGfk8rsgqt1Jm7F/WevGffX9A1HSAX+U8pkvsoCb4+QU/B7hsXg61XpavsuGxNj3zCxBT+tvZZ0PvtFgPLTftdODp5Tfsphle03RjnwU0r5Fvtlmn17ThPQ9r1+1HsWAlLaEOVwA5MjedOvPQaR3BBqJCFdyl3x2n7y6Tvo+Yew7inp0yG0PP48eFXDXBFXRxwfa5x8gT7rIsTP7Jy38BvFf6KQyIj81Km2Puax4+xddF9yiOlbuUQhbBtiWgKaFHSMnbFTbW5rJwf1ClzGnYjcjLLoJoGBK6tgCDS22D/ZSU+lr9bmWMXvNqpg8ijkzMiIECkTe2p3s7Kx68J9NKziCa9cCRMiM0QeTtzOyhYMJbh8Uazt1wBEXqXayES8fvtOsY8OjoRvSTfBcb7DN6kVn6zn44E57YNRpIATU/CSJMOnJZ1F0qm8h39KYweHxxols2ILftoTB6ivtkWA8tO2+NPZtSNA+UkZImYE5MBPKeVbxMwlKftGE9BSXl2ZxSalDVEONzCZ0ZMJl32yly/+sxOaMkkP0oT0XPXBjUh2LOxaR5+uRvUR4qe2E4UxfiWxuFtdveZjn1iu6lUYWwZF6TVOqBPXrxJuLjg0Ik6tO0lcZb18YxdauSaBIdLBTWftUisMuH5ABGp5uxvlrS32T6IfTYoAstv5ic1AJHWs0fjePrB2AtyScR69+gir0q6DJKi3nb3LTDUoripmJp9n/k0S7qT4I1dW4+CIWJR0E9birjE6Ec9fv1W5vvLzeqjnU1wjlPa/7MP+zIdqn58e3wQFnQ1P8NuCn5ZcG2pbWghQfkprPaUWDeWn1FZUWvHIgZ9SyrdIi332Ew1NQNvPWlFPdSAgpQ1RDjcwcxD61pOX6Lf8CN68fY8fOwYbpNtqjvkNtbHu2A18tfKY4DB2wujJixwEjt9i6BRMwovoQ1f1Ej71Z7BRzgBt/Kw6cjOIvi5f0zchtuXUbXyeW4zMr5QbEgdGmuoylu6/glH/nmTskMJzB4bnJaDJye0PftzN6MYSnWpyspw26yLwzd/p+PvwddWkl6YkIF8+4yRkbLF/hk/ZhptP1E/omqJjrQTi1Zu3OHzlEaqXKqK1KOKhyw/Rdv4+FX79oitjaFM/6y6ilWcj+3/9KdtVs5IENNl76k3Zpvrs3MSmcHFUPNTja7UnbGV09JXtvwENEOBdVKNrjyWHVIlvctEpfz5cmJRgVMS24KdRjtJBskSA8lOWy243QVN+2s1SydJROfBTSvkWWZJUBEHTBLQIFoG6YB4EpLQhyuEGZo5VJ4XlftiqOAGnb7E6ckKugLNwQsIcfgnZ+H3vZYz57xTv5UBvd6wbEKF2rcqITch5+15vl75vUwtNapTSmqjS25iWjtr4GThuC568zOEdPTCuCgbGVdXpQuLJ2+iz7DDTr3rpIthshmKK5ATlh/P2MjaLF3LG4VHxKj9+2pGBaUnnVH/rmyjXGQjtoDcCg1cdwz9HbjD9TdUttsX+yZa/YAedOrQRvIsVQPr1JwzvynkU1BsT0nHAiiPYcPwWM+bkuCaCkhpczXhSyNTN1cmgueytM/fNBiLD8X2bAEZHmjRXJwecndBMa1hEk58t7bF1UCSq8Dy8Y68DMdgtvCLGflDDKMhswU+jHKWDZIkA5acsl91ugqb8tJulkqWjcuCnlPItsiSpCIKmCWgRLAJ1wTwISGlDlMMNzByr3mnhfuzJeKAydXRUvNbkK0ly/Xv0BloElMHs9kFGn7A01veZW89j9rYLvMPX9W+AwHLqJ++uPXyB6OkpIIkWfZq1Eqfa+CmUiFP6r4+Pm0/cQt/lR5ghNcsWwYYvGuoTvtY+bEkT9wJOSB/TWNW/3fx9OHg57/V6fXw02SFqQA2BvssOY/PJ28xnw5r5oXdUZaMRssX+KcT7sS394eTogBFrT4LUBN0ySLsmMTvoy/efM99/ZSvnUQCpQ2N4cWHvLR8Gl8XMT4KMxs+eBnJxX9W7PtotUJwEL+nmgoMcqR1ubBH/247rj/KkU3Z/Sx4YaD4kGLo6nZEAUbbB8VXxZaz9FMm0pzWlvtoWAVvsn7aNmM5uTwhQftrTasnPVznwU0r5FvkxVBwR0wS0ONaBemEGBKS0IcrhBmaGJVc7HUjsLe8Zhga+nrymSTK34dQdqmu/fxYK8oL/P0euo22dcoLjzOGn0saQVelYcyQviaH8XFuBPiLbMTXxnIa+LNcvU07kGRqjpRPQG47fxIAVRxm3Arzd8R/nZLih/pL+Z25lodnsVGYoKcxGTpOS9uDZK4RMTFYzaYr8gzG+0TFAl8UHsev8PQYKIoPSuV4Fo2Gxxf7ZYm4qTt7I0vD5ixhfzN2eofqc8JlotDvld0DvSB84kKy0QCN4EFzYbdc3jVC+uGaCdNLG0/g19RLTlWBHMJRDi5q2A1cevFCFOvnDWhi+9gTztz7yPVzt7sMj41C8sIsGdGP/O4Uley+rzdMxzDipHlvwUw5coDGaBwHKT/PgSK1YBgHKT8vgSq2aBwE58FNK+RbzrDq1YigCNAFtKGK0v2gRkNKGKIcbmDmIxD399kvnEDSuUYrXNLuwHbdDsYJOzEk5khSyVNNWoE+b38QfogPrNyoR7wUOQs/tEIx4fy9VAUNLxaC0a+kE9H/pN/Hln4oEdFC5ovi3fwOTQ7pw5yniZ2q+mj9l8xks2JmpZv/UuCYo5GJ4cTGTnZSZgZUHr2L14etMEvbgpbwT6D+0C0Sb2t5Go2GL/ZMt8cJ2vENoOfx58BpvLEQyYm0/YW6z3wRQGiAPzqKqltCwR5KuRIaDtN5RPhjWrLrR+NnTQC7uYZU8cCCXSw2reGJpjzCt4XAT2GfGN+WVaCL68URHXtmILBCRBzKm2YKfxvhJx8gTAcpPea67vURN+WkvKyVPP+XATynlW+TJUttHTRPQtl8D6oGZEJDShiiHG5ipy8490UzsEVmNVkFleU0vTM3ExI1nBKc9OCIWJd1cTXVLcPz69Jv4IjepSjoNia+KnefvoWZZd4xu4a/1JCTpv/X0Hfx58CqeZb9Rk4sg16wtGWFIAnpep9pMoUjSSIHE8xO1a7KSfkQmZeBfimKNtcsXxT9aknT6LljmvWeImbGT6c4uINbqpz1Iv/ZYzYzQa/j6zkX76UaALYnC7T3/09poWrO0biMCPWyxf15/9AIR/8t7w0LpGjntnHzmjmAsRCNaSBf677Rr+Gb1cbWxQnvcwJVH8e+xm0xfU+QhjAbdhgP7LD2MxFMK+RZ2+6i2N2a0C9TqWeyMFFy891zVJ3NyAu9e3HtpGpJO5a2jKW9J2IKfNlweOrWdIUD5aWcLJjN3KT9ltuB2Fq4c+CmlfIud0Usy7tIEtGSWkgYipQ1RDjcwUxk7LyWDkaZgtyltaqFDKP9r0f9LPIufUy4alQgy1VcyfuKG01i4W/GKPGkkEUsSsoY2Isnx1UpFclbZxJqAdnNxxNr+DRD3gyLx65zfAecn6U5AE1mUwavSmTF1KxbD333CDYVJoz/7gUW+fMClKc2ZPtxX8Mlna/qGI6RCMZPnpAaEEZiedA4/7siTpmD3XNEzDOECUjr6YGqL/ZO8pVBtZKKGe+U9CuLqwzyJCG6Htf3CEVxewbVDlx/i112ZiPP3AtFxnpp4ViWroRw3vlUNdKlfUWOeXn+kMQ+pSBvZvDp6NvTRBypJ9OHurcqg+kVXxtCmflpjjJ62A5dZEh5Ce+nHP+9F2pVHZtlzbcFPSSw0DcIqCFB+WgVmOomRCFB+GgkcHWYVBOTATynlW6xCCjqJBgI0AU1JIRkEpLQhyuEGZirxyGlicqqY3chJ4s8iKvGa/nb1cfyVxv8qPBmQNDAS1Uq5meqW4Hi2/rMpshLcV85N1cs1JmBt/Oy/4gg2Hr/FmCW+xfiVZJK8ypYxqRkcdUidEFmGr/9WJKBDK3mAFBYztd18/BLhLD8qeRYC0YslhSy5NR4/a1AJo1v6mzolHa8FAW3FKhMHNoRfKePkDciUtto/dRXg5IPjt2510civJHLevkOVEZv14sy5iU3h4phfrS+7IKu2B3F6TWBnnWYln8esZM3iruTti4Ra2k/Sh0zYigfPX6siFkpA7zh7F92XHGL6xVUviYVd6xqNkq34abTDdKCsEKD8lNVy212wlJ92t2SyclgO/JRSvkVW5BRRsDQBLaLFoK6YhoCUNkQ53MBMWW2ipxw6KVktcaC01ymsPDqFVYB/GfUEVrffDiLlnKLIGV9jn0Q0xTehsT2WHMK2s3eZy6Na+KOHQKJc19yPX7xG0Pitqm6WTpzz+aONnyTRS05ulnBzwbdN/ZCV/Qa1J+T5S4r/kSKA2tqqQ9cwdI1CeqCejwdWfm56AvpuVjZCJ2/TBa/quqmncPWeSIYd2QUh+cI3VQ7HVvtn32WHsfmkphSEtiVW6l2zE5y6KNEysAyI7ju7tf5pD47lSslokyLSZdserwvJKyUPjoRvSe0PFetN3obbWdmqsIUS0O/evWeKSd54/AKD4quitHsBo6GyFT+NdpgOlBUClJ+yWm67C5by0+6WTFYOy4GfUsq3yIqcIgqWJqBFtBjUFdMQkNKGKIcbmCGrnXrhHn7cnoGoaiXQN6oyTt3MQou5uwVNVClZGFsHR6muJ568hT7LFDrEQs3SCcc28/bgyFWF1rCpRdY6LzqA1Av34V+6CDZ8EaFTP9oQrPXpawg/X75+i+qj86QJDo2IY5LT2hopTvfdPyeYLg18i2N5z3r6uKW1z4NnrxAyMVlvO6acUtd7Epl2XLT7EiZsOC0Y/YVJzUwqCGoIP825BOQhx/ydmajoWZCJL+etQNVQ1qTfNfNDn6jK4Ba50+UXV4M4ZkYKMnO1jBd1rYPY6l66TEjm+l+HruLbNYr9gt2OjIqHRyFnrXFuOXUbny89zPQZ1swPvaMqWxwXW/HT4oHRCSSBAOWnJJZRskFQfkp2aSURmBz4KaV8iyRIZ4dB0AS0HS4adZkfASltiHK4gRnC45jpKci8rygUtaBzCN6/f68zofxjx2C0CCjDjKkyYpPOZNDCLnUY7VVj26Pnr+Hk6CB4upd90u637nXRqFpJY6cC0Zs9dvUxAssVhauT+qv4Rhs1YKAh/CQnB32Gb1JZ11Z0Tdlp+YErGLH2JPNnwyqeWNojzADv+Ls+eZGDwPFb9LZDElckgUWb+REY+98pLNl7mTHc2N8LW3K1i5Uzmappbgg/zR+dwmLA2CTm9L+upjzh//kfaRo4aBt7YmxjuLk6MV3IfkjkO97kasn8N6ABAryL6ppaMteJ5A+R/mE3ovOeMSkB+R3yaY2T7E/rj9/E0+w3+DjE2yr7qRj4KZnFp4GYHQHKT7NDSg2aEQHKTzOCSU2ZHQE58FNK+RazE4Aa1AsBmoDWCybayR4QkNKGKIcbmL6c4mqjRlcrgeiqJTB2vfAJSqXt/o0qo2+0L2qOSdI53aC4qvgqrorOfnwd0i4/xKeLDiA75x1qli2Cme2CUMUr79Vvrv6wqRIDRjlpxkGG8tNv1GYGG9K2DopUw4bPraX7rzAnQkmLqloCv38WarL3z1+9QQ09eKCcyK+UGxIHRpo8LzWgiQBbv31IfFWcuZ2FTScU0hWxfiWxqJvx+rrEhqH8tMQacaUdhOYo4JQfRJam/S/7cOhyXpE7dn9SzDPe3wv/HL2h+jh5cBR8SxZmks9k79mT8UB1bd+wGJgiEWEJPCxpkxRvbDt/n9oUBLMT45pYclqjbYuBn0Y7TwdKHgHKT8kvsV0HSPlp18sneeflwE8p5VskT0iRBkgT0CJdGOqW4QhIaUOUww1M3xX+bc8ljGMlm4kkQ82y7liwM5MxQU7IEjkKoUaSl10XH9Q5XZ0KxbC6b7jOfnwdOv66H3sv5iWASGKIJFrzkWN4AA5eeoh2CxQJEs/CLkgbGWfUPGIZZCg/g8dvwaMXOYz7+pzO/H3vZYz57xTTv1G1Evitu+kJ6Oyct/AblScFwodlOY8CuPbwJXOppJsLDo6w73USC1+4fny68AB2Zyi+sxNb1wR5qNRu/j5kv3mHxd3qgsifmNIM5acpcwmNZUti6LK/fUgUev2Rhou5Ehrc/kTTmRTzrDU27wT/il5hCK/sibO3s9B0VqrakPMTm8HZ0UHXtJK5/ubtO5CHGmz9baf8+XBhUoIoYxQDP0UJDHVKFAhQfopiGagTAghQflJqiBkBOfBTSvkWMXNJyr7RBLSUV1dmsUlpQ5TDDUxfelb8bqPWrl/GVkHX+hXQcOoOvHj9VqNv3+jK+DnlourzGW0DMeTvdI1+tcsXxT/9GoDoRROt5tZBZTUKGQo5wufjxi8jUKOMOzOELTlAdJs3fdVQ3/BF2c9QfoZP2YabTxSFvn7qWBvNA0prxEVOco789yR2XbiH0kUK4ODlh0wfc5yIJXaI/UrD8qRA+IDd8brDGAAAIABJREFU9U0jRE7bobp0bmJTuDhaX+JElItuRqcSZqfi9K0sxuK8TrWRUKs0sz5EQsIpv+mJU0P5acbQVKZazE3FyRuKGPmac34HvH6reCtgaY9QfLXyGB4+f63Rla313HTWLpy9/ZTpQ6SImtQohXkpGZiaeE41jsjyrOvfwBIhid4mdx82VcrFUgGLgZ+Wio3atX8EKD/tfw2lHAHlp5RX1/5jkwM/pZRvsX/G2WcENAFtn+tGveZBQEobohxuYPqSWFcCevKHtdAxrDwOX3mEPRn3UdGzEL7886jKfJvgsqpX172LFUDK19HMaWRlQUBlR1K48PuPAvDRz3uZj0ihPKJXLKSxnHH3GUgSaVXaNfy4I0MjnLjqXvi1SwiOXXuMD+cpbJIW4euJZT1N1zTWFz9L9DOUn2wNb+LP2QlNNXDdfeE+IyXAbUR64NcudcwShjYuEbkW8jCDnJJ+n1s77pfOIWhco5RZ5qZGFAi8eP0GweO34tUbRfJ1Td/6CKngYVZ4DOWnWSfPNdZ45k6cv/NM0HRoRQ/VQ5ZJH9ZkJGdyJZxVY7qFV8TYD2qo/m47f69KpmPaxwFoW6cc6kxMxv1nr1R9Do+MQ/HC2ot8WiJeMdikCWgxrAL1wd4REMP+ae8YUv8thwDlp+WwpZZNR0AO/JRSvsX0FacWjEGAJqCNQY2OESUCUtoQyQ3s3MO3WH/DFbXKumNKm1pw0FFMSZSLYgandCWgf+tWF4381Av6sZM/RLJDqY+q1PV9+fotLt57hqzsHHT8NS/pSU4nK09mEtc3fBHByH1wW+LJ2+iz7LDO6JrU8ELSqTtq/T6q7Y0Z7QJ1jhVzB0N/YFUduRmvcxOOJK5lPcIQUcVTLcQpm85gwS6FrAq7EQwXdLZ8AlqZFGfzjXzlMqc0F/NSiN63Jy9zmOQqwXJ865rYee4eI5dAmpurIw6PjDe7XISh/LQEiEHjt+BxruwMn/22Id74+/B15hJ52HXvaV4SWdn/wPBYeBVxVQ3vseQQtp29y/w9uoU/OtevwBQfVLbekT4YllDdEuHYhc2+yw6rZDh6NayEEc39Rem3GPgpSmCoU6JAgPJTFMtAnRBAgPKTUkPMCMiBn1LKt4iZS1L2jSagpby6MotNShvitm3b0Ds5G29yT2Ku6BmGcF/1hJ1cljd2RoqgNirB4OioeBQr5KwGR//lR7DxxC0NiLg6z2duZaHZbHX9VPYgor3aKqishh12ETVD1+Gvz+shzKe4ocNE1d/QH1jchwgjEqqjV6SPWkwj1p7A8gNXNeJMqFUK8zqFmCV+bQ8zlFIH9nKK0iyAWMHIhA2nsWj3JWamL2J8Ga108rYCaa2CymB2+2Cze2EoP83uAIDpSefU3oxIGhjJFBokWujjW9UAKRJIdJ+1Nbb8Buk3cOVR/HvsJjOEFE09dyeveKPQXmiJ2MRqkxR7HfTXMbg45cesT4LgwbkviMVvMfBTLFhQP8SHAOWn+NaEepSHAOUnZYOYEZADP6WUbxEzl6TsG01AS3l1ZRablDbEBWu2YsohdT1QuRWWUtL3w3l7cPTqY142L+8ZhgY8ifmevx9C8hnFSUF2I8XOlrAK2l1/9AIR/8vT/OX2/zLGF4MbV1P7mIyJmb5Tpd9qyNeM+0q9IWPF1NfQH1jcpG7vKB8Ma5Z3UpMUEfNlneRkx0r0oolutDmatgS0Ui+W2ydzcoJs3z6wBOakOJ7yNPyS7nURXU397QVzzGkoP80xJ9fGs1dvQIotXn34gkmGRlYtwciPkJPOFYoX0kuTnKthPHrdSfyx7wozVY+ISqrEvnJusWoeWwJfe7YpBn7aM37Ud8siQPlpWXypddMQoPw0DT862rIIyIGfUsq3WJYN1LoQAjQBTbkhGQSktCG2+WEzjtxVaKQqG5/UhGQWT0sg7MJbym6uTg44ObYJHAUKloVOSsZdnlfauScun796gxpjkgRn5yY/k07dRu+lwtIbe76LQYPvt/Pac3F0QPqYxoKa0va0lob+wOImdTuElsOUNgGqkBfvvoTxG07zQvBBYBnM6WCeU7J/HbqKb9ecQH6HfHjLEdxVJu+4vnzTpBr6N/K1p+URha8kyUzkbFr/tEfQn5PjmqCwi6PZ/TWUn2Z3gGXw3bv3gg8w6k/Zhlu5xTn5fOAmlGcln8es5AuC7tIEtCVX0ny2xcRP80VFLUkFAcpPqaykNOOg/JTmukolKjnwU0r5Fqnwzt7ioAloe1sx6q8gAlLaEOuO24R7L3P1N3IjJqfoWgdrykFInRJR03bgyoMXTJhEQoNoYQ+Or4p6WmQswiYn406WpqZqn6jK+K6ZnxpkP6dcxP8Sz/LCGFSuKP7t34C5Rk4v+o8WTlYr9aXJqcfdGfc17E1sXROf1qsgieUy9AcW94FA81ql8VOn2sh5+w6bTtzCVyuPCeLSOqgMZplRpuH0zSwUL+yMIavS1dZJmbwjienKwzep+UMTe4bRlmisN529S/W95RvtWdgFaSPjDDOsZ29D+amnWbN3i/thJ0gxU6HG5d2aw9cx5O903u7K/cfsTlKDZkfAXvhp9sCpQbtAgPLTLpZJtk5Sfsp26e0icDnwU0r5FrsglQSdpAloCS6qXEOS0oZYc9RGPMtRX0lSiLBDaHnZLS87ebm6T33UqeihE4N1x27wJjWHNq2GftGap1k7LzqA1AuaSWM3F0f81r0uapcvhsRTt9Fv+RHeuSsUL4gdQ6KZ5Pj9Z6+wPv0mxq1XP9E7o20gPgrx1um7PXQw9AfWgcwH+OSX/arQGlbxxNIeYVCeSNYWc5vgsvjhkyCzw3Lq5hM0n7Obscudg1s0kSagDYN/xYGrGL72hM5BlsLVUH7qdNRCHVr9uBvp15/onYA+eeMJWsxVcJbbNn4ZgRplNAumWsh1atYEBOyFnyaESIfaMQKUn3a8eDJwnfJTBotsxyHKgZ9SyrfYMdXs2nWagLbr5aPOsxGQyob4/v17+A7fhLfqB6AxpqU/ujeoJLtFrzU2CU+z3zBxb/giAjXL6k6ykNf/SRKR24TGf7/5LObvvCiIbZMaXqhWqgjmbNN8/X39gAjU8tb0iZyqJqerlU3OJ6AJBuxkc4C3O/4bEAFtmsxK3D4O8cb0toEW4f3mE7dw5vZTdK5XASXcXFRzHLr8EG3n72P+dnTIhwuTmiFfvnwW8UFqRtnYaYvNq4gLDgyX9wnoDr/sx77MB7ww8RXfJPeGSsPUT+eTwW1DvDHNQt8RqfFTDPHI4f+gigFn6oNxCFB+GocbHWUdBCg/rYMzncU4BOTAT6nkW4xbYTrKHAjQBLQ5UKQ2RIGAVDZE8vp69dGJGpgKnd4VBfgWdMJv1GZk5yj0sLcMikRVLze9ZuMmgD+pUw7/+zhPd5hthJws/ODH3eDIAuucx7OwM3Z/GyOo6xw7IwUX7z1nkpikXyl3V5027aGDMT+wdp6/h66LDzLhVSxeECnfNNIrAa2U67AmLnefZiN00jbVlGfGN0UB5/zWdMEu5yKn/+tMTNbL9186h6BxjVJ69TW0kzH8NHQOc/Tv+Xsaks/c0TAVWtED8zuHwKOQs8a1z5Ycwvaz6gVWv4ytwsgS0WYfCNgLP+0DTeqluRGg/DQ3otSeORGg/DQnmtSWuRGQAz+lkm8x99pTe/ojQBPQ+mNFe4ocAalsiHezshE6OS/5pYT9yxhfDG5cTeSrYH73fIZtVCWGU76ORkXPQnpNknb5Idot2MeMLe9RENuGRMFJoGghMUhObl57+IJ5jb3JrF1a5yAnooPLF0PLwDIoW7SAYN/bT7Lx16FrCKlQDBFVPPXy2x46GfMD69i1x6qCdCSxdmRUvF4JaIKHpaQahLDOznkLv1F5D4EODI+FVxFXkBOo9CS0MEOFEqp8Iyy5psbw0xbfu4Erj+LfYzfVptYltRQwNglZuW+EKAeO+6AGuoZXtEUIdE4jELAXfhoRGh0iAQQoPyWwiBIOgfJTwosrgdDkwE+p5FskQDe7DYEmoO126ajjXASksiFeuPMU8TM1E6C9GlbCiOb+slp4bkG4Pd/FaE34csE5cvUR9ly4jw+CyqBCcf0S1/eevkLdSdpPcc5uH4RWQfIrCKnE15gfWJn3niFmxk7VEl2aksArJ2DtZCXffCTRXG1kIl6/VZy83zooEvNSLiL1wj2MbO4vy2Kgujaed+/ew4dTvJE9hsiuHM/VOx7fqga61LdcwtQYfuqKzxLXx68/jcV7LqmZXt4zDA18hR9Wff5HGracVj81PenDmugUJo0Cp5bAWWw27YWfYsON+mMdBCg/rYMzncU4BCg/jcONjrIOAnLgp1TyLdZhBJ2FDwGagKa8kAwCUtkQt5+9g8+WpGmsy6f1ymNi61qSWS99AuGeRD00Ik5Nq1cfG4b24c7JN/6Pz0IRWbWEoaYl09+YH1hceYYFnUMwO/kCTt/KUsPFp0QhZN57rvrMUkUIdS1GvcnbcDsrm+nWI6ISFu3OSxRa8vSuLr+sdZ0k4V+9eScoL8P2g+inEx11bW1ep9p49OI180ZC+7rltL6NYGqMxvDT1DmNGT8vJQNTE8+pDd0+JAo+JQoLmuMrRJg0MBLVSuknTWSMn3SMeRGwF36aN2pqzV4QoPy0l5WSp5+Un/Jcd3uJWg78lEq+xV44JUU/aQJaiqsq05iksiH+tucSxq0/zbuKupITUlv6Jy9zEDhuiyqs9NGN4V7QyeJhhk5Kxt2nrwTnESo8aHHHRDKBMT+whApDckPqFl4RS/ZeVn2cOrQRynkUtHrkRL7l4KWHvPNKPQH95EUOPvx5D+48ycbcjsGI8fPixYH0S824hwErjmpcL+PuiptPFAl80pb1CLOaDI0x/LQ6wQCsSruGoauPq02dNjIOnoXzCmLy+UVkmpYduIqDlx6gaY1S6CbD4rS2WC9zzWkv/DRXvNSOfSFA+Wlf6yU3byk/5bbi9hWvHPgplXyLfTFLWt7SBLS01lPW0UhlQ5yy6QwW7MrkXctqXm5IHNjQLDq0KefuMq/Etw8th5Ju4iyOxz01a61icES6o828vYLfpxNjG8PN1fKJcLF+oY39gVXxu406QyKJyn+OXkfKuXsY1swPbeuU0znGEh2+/jsdqw9f5zV9fmIzODs6WGJaUdictPE0fk1VnPgu4eYC8uYBX2v/yz7sz+RP0g+Mq4JZyRdUw6z50MZYflob/F3n76FLbmFO5dznJjaFiyMteGnttbDmfPbCT2tiQucSDwKUn+JZC+qJJgKUn5QVYkZADvyUSr5FzDySum80AS31FZZRfFLZEIesSseaI4rEVzmPArj28KXaKp4a1wSFXBxNWlmiM910diqIxnKzmqXw86chJtmz1OCbj18i/PvtKvMZk5rBUUshQXP5QYoRNpy6Q9Cc1E/A6sLR2B9YjWfuxPk7z7SaX92nPupU9LB5wb+x/51SO4nNdtq7WAFsHxIt2SR0nYnJIA9/lI2P79yHQ9xFJUUma0/YynwcXL4oVvcJR36HfLqoZZbrxvLTLJMbYIRvn5H73mIAfHbb1V74abcAU8dNQoDy0yT46GALI0D5aWGAqXmTEJADP6WSbzFpoelgkxCgCWiT4KODxYSAVDbEbr8dZE5/ktakhheSTqkXnNr1TSOUL26aJMFnSw5h+9m7WhNMYljbKw+eI2paCuNKvnxA5uQEs5z+1hWbNh3otf3CEVy+mC4Tkr5u7A8soqM8YQO/vIwSsH3DYlDavYDN8SOaxkTbWKj91LE2mgeUtrmflnCArX9N7PPJQpCCjJ0XHeSdfk6HYHwQWIa59vjFaxR2cbTKgyOlM8by0xJYarPJV7iRJqCtvQrWn89e+Gl9ZOiMYkCA8lMMq0B9EEKA8pNyQ8wIyIGfUsm3iJlHUveNJqClvsIyik8qG2LLubtx4sYTZuW+iq2C2dvyXmMnnxUr6ISDI+JMKuLVZOYunLvzVMUOsSY9yEnt+Jm7GD9dHB1wbmIzqzF6wIoj2HD8FupUKIY/P6+H9GuPUaSAE6p60WJfxv7A4tO8ZS9ojF9JLO5W12prrG2iWcnn1SQkuH3HfVADXcMrisJXcztRf8o23GLpN//YMRgtAhQJZWX758h1DF6Vzju1rR/SGMtPc+Ooj73oaTtw+cELpmvlEoWwbUi0PsNoHztGwJ74accwU9eNRIDy00jg6DCrIED5aRWY6SRGIiAHfkol32LkEtNhZkCAJqDNACI1IQ4EpLIhNvh+O248VshuTP04QKNIFfn826Z+6Btd2Wjgm89JxambWarxFycnWO31eH2dfv/+PU7fykLzObuZIW4ujjgxrom+w03uR+a/eO8ZynsUkqzUgrEgGfsDa/OJW+i7/AjvtJ/WK49vGvtZpcikPnGT08/kFLRQI/rUvaOM/w7q44Mt+pBTuVVHbsabd+9V03cILY8pbWqpubNkzyWM5SmWGlKhGIiMSj7yyoKNmrH8tIW7+y4+QPclB5Gd84554Dgovqot3KBzWhEBe+KnFWGhU4kEAcpPkSwEdYMXAcpPSgwxIyAHfkol3yJmHkndN5qAlvoKyyg+qWyIc7ZdwOEzF5H1+j2GtwlD2/n7eFfRlFPLrX/ag2PXHqvspo9uLJrEH3GKT6qheCFnHB4VLyNGizdUY39gXX3wApHT+LW1z05oClcn8RRfE0qwKlelR0QljGrhL95FMtIztuyN0kSF4gWx85tGahbJPvXD1vNqn9X3KY7lPcPgYCWtZ6EQjeWnkZCZPIzIlNzOyoZfqSIm26IGxI+AvfFT/IhSD82JAOWnOdGktsyNAOWnuRGl9syJgBz4KZV8iznXndoyDAGagDYML9pbxAhIaUNU3sCCwyIQnFvIiwu9KQnotvP34tDlRyqTG76IQM2y7kat7us373D+zlP4ly5ilsQTOXlcY0wSXrx+q+ZPqSKu2D881igf6SDzImDKD6yK323UcObD4LKY+UmQeZ000drKg1fx3T8nBK2QE9sTW6ufCjZxSlEM/3VXJiZtOqPhy4HhsUi7/AiZ956ha4OKmLX1AhbvuaTW7/NIHwxPqG7zOEzhp82dpw5IHgHKT8kvsV0HSPlp18sneecpPyW/xHYdoBz4KaV8i12TzY6dpwloO1486ro6AlLaEJU3sNAGkag5Jol3qU1JQLf6aQ+jaaxsQ5tWQ79oX4MolXH3KeJ+UOgzk0YKspHCbKa2Jy9yEDh+i4aZ8h4FsWuo+ilMU+ei441DwJQfWHwJ6OltA/FxiLdxzlho1L9Hb2DgX8cErXcILYcpbQIsNLvtzHb4ZT/2ZT7QcODLGF/M2Z7BfE500dOu5D3AUnae3T4IrYLK2s753JlN4afNnacOSB4Byk/JL7FdB0j5adfLJ3nnKT8lv8R2HaAc+CmlfItdk82OnacJaDtePOq6OgJS2hCVN7AGkVGoNjJRY6kDyxXFuv4NjKYAtwhh66AymNU+2CB7jaan4NL952pjzCGjwC48yDZOkl6r+4Yb5CPtbBkETPmBxZeAnvZxANrWKWcZZ420mnjyFvos49erJibbhnhjWttAI62Ld1jMjBRk3lP/XuvytoirI75t5ocOdcub5S0IXfPpum4KP3XZptcpAqYiQPlpKoJ0vCURoPy0JLrUtqkIUH6aiiAdb0kE5MBPKeVbLMkFalsYAZqApuyQDAJS2hCVN7Do6EbwGb5JY41qli2CDV80NGrtSJGx6OkpuPrwhWq8ofaev3rDyGRw27YhUahcorBRfikH7cm4j04LD2jYiKteEgu71jXJNh1sHgRM+YHFl4AmxTbbiSwBvePcXXT/7ZAgYG2Cy+IHkcmGmGN1A8YmISv7DWMq0Nsd6def6DR7ZFQ8PAo56+xnrQ6m8NNaPtJ55IsA5ad8194eIqf8tIdVkq+PlJ/yXXt7iFwO/JRSvsUeOCVFH2kCWoqrqmdML168wJYtW7B+/Xrs3r0bV65cQf78+eHr64uPPvoIgwcPRuHC/MnEJUuWYN68eTh9+jScnZ1Rr149jBw5EuHhwidU9+zZg0mTJmH//v14/fo1/P39MWDAAHTp0kVPj7V3k9KGyL6B8SXsqnoVxpZBUQbhlvP2HbouPohTN7Pw5GWOxtj9w2JRyt1VL5ur0q5h6OrjGn3/+CwUkVVL6GVD2enF6zc4kPkQIRWLoYirE75dfRx/pV3TsDEkviq+iK1ikG3a2TIImPIDi4/Ph0bEoYSbi2WcNdIq0TqOmbFTcHTLwDKY28GwtwaMdMVqw7Jz3sJvVN4bFx3DymPFgata5y/onB+nxze1mo/6TGQKP/WxT/tQBExBgPLTFPToWEsjQPlpaYSpfVMQoPw0BT061tIIyIGfUsq3WJoP1D4/AjQBLWNmLFy4EL169WIQqF69OmrWrImsrCzs3bsXT58+hZ+fH3bu3ImSJUuqoTRw4EDMnj0bBQoUQOPGjZGdnY1t27aBFI9bvXo1WrdurYHqmjVr8Mknn+Ddu3eIjIyEp6cnM+bx48cYMmQIpk+fbvJKSGlD1JWArli8IFK+MUwPWShprAT+3/4NEFSuqF7rMGXzGSzYmanRd0qbWugQWl4vG8pOnRbux56MB/DxLIStg6NQmXXimyS3apQpAmdHB8z6JFh0SUqDApVQZ1N+YHET0Au71EGcv5co0eFLlisdjfD1xLKeYaL021inrj54gchpO1TDZ30SpFUHm3Qs51EAqUNjjJ3SIuNM4adFHKJGKQIsBCg/KR3EjADlp5hXh/pG+Uk5IGYE5MBPKeVbxMwlKftGE9BSXl0dsf3+++9MspkklEkCWtlu3bqF5s2b4+jRo+jQoQNWrFihupacnIz4+HgUL14c+/btQ5UqihOp5N/R0dEoWLAgLl26hKJF8xKZDx8+RKVKlZjkNklEt2nThhlz584dREREICMjAzt27GDGm9KktCHqSkCXcXfF3mGxBsGlLZlGDC3vGYbwysWRL18+nXaFTikPaOSLr5tU0zle2eHR89cInrBV1X9tv3B8OG+v2nhTii3q7QjtaBACpvzAqjU2CU9zJR5CK3lgVe/6Bs1tzc7tf9mH/ZkPBaf8p184apcvZk2XLDrX3oz76Jgrf+NVxAW7v41B45m7NLTe2U6EVCiGNSLTZjeFnxYFmBqnCACg/KQ0EDMClJ9iXh3qG+Un5YCYEZADP6WUbxEzl6TsG01AS3l1TYiNJJSJnIaLiwuTOCYyG6QlJCRg8+bNmDlzJpO4ZrevvvoKc+bMYU4zk1PNyjZ16lR8++23aNWqFf7991+1MWvXrmUS0i1atGCkQExpUtoQdSWgPQs7I21kvN5wEZkL/9Gams1cA+QUMjnVWaZoAa22ey9NQ9KpO0wfcjr59Zt3qv6GJIzTLj/Ex/P3qcZ2C6+IJXsvq/4e2rQa+kX76h0n7WgdBEz5gXX4ykN0W3yI4Q1JXFb0LGQdp42Y5daTlxiw4iiOXXsMv1JuePn6LTJZhTfFePrXkDCJlvuCXZkgD4K+jK2C7Wfv4Ns1JxgTysQy9yER137X+hUwrlVNQ6a1eF9T+Glx5+gEskeA8lP2FBA1AJSfol4e2TtH+Sl7CogaADnwU0r5FlGTScLO0QS0hBfXlNCIPnShQorE0M2bN1G6dGm8fPkSxYoVw6tXr3Dt2jV4e3urTZGamsrIa0RFRSElJUV1jfy9a9cuLF26FJ9++qnaGKIF7e7uznz26NEjuLrqp0HMF5uUNkRdCWg3V0ecGNtE7yXefeE+Pl2kWdiPz0AD3+JY3rOeoO2n2TmoNXaL6nrt8kVx5Opj1d+r+9RHnYoeevlWZcQm5Lx9L9j3+NjGjC40beJCwNQfWOSBSH6HfHBxzC+uwHR4s2z/FYz896RaL0MeuIgtWPabDN0bVIRDvnxYtPsS4+ZHtb0xo10g8++oaTtw5UFe0VJ2HJM+rIlOYRVEFZqp/BRVMNQZySFA+Sm5JZVUQJSfklpOyQVD+Sm5JZVUQHLgp5TyLZIinx0FQxPQdrRY1nT15MmTqFWrFpycnBg9aHIS+tixYwgODkaJEiVw9+5dDXeeP3/OFC0kSWoiu6FsRI7jyZMnOHXqFFN4kNvq1q2LtLQ0pKenIyAgwOgwpbQh6kpAuzg64NzEZnpjNWPLOczdnqF3f21JtUbTU9Reye9crwKW7r+ist20RinM7xyicy5SFLHKiM2C/YgEwIHhcTrt0A7WR0AOP7D4UF158Cq++0dxQljZ7DUBfeZWFprNTlXFUdrdFU75HXD1oSLRPCKhOnpF+jD//mzJIWw/q7nnk2uLu9VBjJ+4NLzlyk/r7wR0RmMQoPw0BjU6xloIUH5aC2k6jzEIUH4agxodYy0E5MBPKeVbrMULOo86AjQBTRnBiwApTkiKFLZs2RL//fcf04f8l8ho/J+9MwG3anr/+Ns8FxqkkgaN0kzzpFGiUCINyJgiUUSTUpFIFPlRKGOlDGmmlEYqSpM00qhJ82D4P9/Vf1/nnnvuPfucs88+e6/1Xc/Tk+7dew2f92vtvd/1rnfBCb169eqQ98H5jIMFkbYjV65c6m8rwhlO6Ny5c6e47+abb1apOVA/2ou26DQhhnNAI03ztmEtbeVrBs+H3l8ls37eZxttak61xVv+kE7jVyarZ3yX6tL1vR+Sfmb3cLbDJ89J1YD8z8Gdw+GDXz1Sz3afeaF7BEx4wQpFc8oPv0nvqWuT/cqPDui//v5Hag7/Rg6eOJuqaOb0rC9lCuZSv9+y/7jKzX7i7F8prp/5SD0pXyjlvO6eGlO2ZKo+E8mcbdsnQH3aZ8Ur3SdAfbrPnC3aJ0B92mfFK90nYII+dfK3uK8QtggCdEBTBykdCjNnqpzMGTNmlO+//14qVbqwDRuHEd55551Sp04d+e6770KSQ1qO3bt3qz+FChVS6TsKFy6srj1//ryqM7ggLcfPIVI0AAAgAElEQVQHH3yg/nTo0CGsRayJL/jCrVu3SsGCBWXChAlh6/D6BYgmR0EalHvmng7Z3TGNskr2TOEPDMTNL/5wVjYe/i9Ps1VhxXzpZe3BlD+f0Cx0DujRq8/KTwHX58ok8krDrNJ13pmkPubLlk5G1AufSuXAqX/kqe9Sd4C1uCKj3FaG6Te8qNVAfXqxf/Hq07K9f8lb684nqz61/1fi1Qcn6t194h/pvzT1//eyZBB5o3HyOeDImX/lz3P/yrI9f8m8XX8ndeO1Rlklh815yIm+26nDVH3aYcNrEk+A+ky8DdiD1AlQn1SHlwlQn162Dvtmgj7vuece5Z/AznYWEoiGAB3Q0VDT+J5NmzapwweRj/mVV14RHCxoFTqg3TN84ANs0LIzsut4yjzJ/WtkkeJ50oft1P5T/0jfAEdvhbzpJX+2dNK8WEaZveMvWfj7f84kq7LxTbOGjK5+dc1Z+fGP/xzWQ2pnkcI500uwM/l/TbJKxvRpO8d3HvtHnl0e2gl2Re508liVLJI7iz0He1gIvMBRAia8YIUCtnLfXzJurf8d0J9sPi9zdqaMZrbGnDm9yLgmoReh3lp3Tpbt/W/O8KID3lR9Ovo/OSuLGwHqM25oWbEDBKhPByCyirgRoD7jhpYVO0DABH3SAe2AUAyvgg5owwUQOHxELSO6eefOndKrVy956aWXktFhCg73xBK4hWfrHydkzDe/ClJSTFu9WzbsPaY68uodVeSmSoXS7NS///6r8rxu2nc86bp3775GGpYpoP793tIdMvCLlCuYm4a0kKyZLhwQh1QZj368Rs799Y/ADb5y+4X83rdVLyIj2l6IjsehcuUHzElq4/tnmkj+XFnS7NuyrYfkjreWJ7umWflL5X+dq7sHmi1FRcCELWahwMxat1ce+iB5+iG/pOA4dua8fLV2r5S/LLe0HrskrN1TG9e8DfvlvokXUu4UyJVFVj7jvTztpuozrFF5gScIUJ+eMAM7kQoB6pPS8DIB6tPL1mHfTNAnU3BQ57ESoAM6VoKa3I9DA+vVqycbNmyQu+++W8aPH58iApaHELpn7NQeYJ3Gr5DFWw6qjgxpU0FwAOA///yrDhj87cgpeaxpaSl80X+Ri2fO/y1l+89O1vFPH6ol1a64RP1s2x8npNmoRfLXP8kjrFc+01gK5LqQRuOGVxfL+j0XnN6BZeCN5eXuOsXVj+DoxoGCVj1tqxWRke0uOKdTK3PX75P7J61K+nW7akXk4UZXSrF8OdwDzZaiImDCC1YoMHPW75MHAjSLa/zigH7skx9l+prdtux9deE88mWPuiGvxXzT//OfZfO+4zLgxvJSschFtup08yJT9ekmY7YVPQHqM3p2vDP+BKjP+DNmC9EToD6jZ8c740/ABH3SAR1/HeneAh3QulvYxvhOnDghjRs3lpUrV8ott9wikydPlgwZLkS/BpbTp08LDhk8e/as/P7770m5na1rFi9eLPXr15cGDRrIwoULk27FvxctWiSTJk0S5HsOLMgLbR1MiLQfWbOGzx2c2pB0mhBTe4B1+2CVzFx34TDBPi3KSLeGV8oXP+2RRz5ao37W/KpL5c1O/0UQhzrob+5j9aX0pRcOF0OZvuZ3GTJjo4p0tsrXjzeQkvlzypGT56RKKgcFvti2orSrfnnSPcWe+iqZaapdcbF8eF8NyZwhvYz7dpv8fuSU9GxSOiky+qOVu6TvtHXqnmuLXyKTH6hlQ628xAsETHjBCsV5xto90v3DC/+vWWX7cPuHgSbKdti9ULrfLNvNB+6SsH2Thy40VZ8eMgG7kgYB6pPy8DIB6tPL1mHfqE9qwMsETNCnTv4WL2tJ577RAa2zdW2MDc7kli1bCibM5s2bC9JsZM6cOdU7ce2sWbNk1KhR0rNnz2TXIV/0q6++KiNHjpTHH3886XcjRoyQJ598Ulq3bi2fffZZsnumT5+unN449PDLL7+00ePUL9FpQkztAfbk1LXyyQ+/KQh1r8wn799bQ5qPWiSb9/+XYiMwIvO3w6ek3ogFyaBtGNxcsmdOeRhk5cFz5eipC/ltP3u4jlS+/CJZsOmA3P3u9yGhj+tYTVpUKJj0u2AHNH4BJ3m5grmT6mhS7lJ5u0t1OXn2L7ntzWVJkdU3Vykso9pXjsn+vNk9Aia8YIWiicWaxz75Kdmvvu3dUK7I6+2ofUQrN39lUYohZUifTkrmzyG/7D+R9LuNg1tItswpFyDdU1fsLZmqz9jJsQY3CFCfblBmG9ESoD6jJcf73CBAfbpBmW1ES8AEferkb4nWzrwvNgJ0QMfGz9d3//3339KuXTuBExjpN2bPni3Zs2dPc0zz58+Xpk2bSt68eWXZsmVSqlQpdT3+u1GjRpItWzbZvn27XHTRf9uykd6jePHicuzYMfn000+VwxnlwIEDKuf0r7/+KgsWLJCGDRvGxFOnCTG1B1ifqT/J5B9+T+K0bVhLafTSQtl56FTSzwId0MGOp+G3XC13XFs0JOd6I76R3w6fVr8b26GqzF6/T778aU+qNrGipK0Len68Rj77Mfn1mTKkk1uqFElymuPapU9dp3JKf7/jSFLd3RtdKU80LxOT/XmzewRMeMEKRfOT73fJk59eiNq3ih+ihZf+elA6vL0ipEDGd6kuXd+7kNO5W8OS0qdFWfeEFKeWTNVnnHCyWocJUJ8OA2V1jhKgPh3FycocJkB9OgyU1TlKwAR96uRvcdT4rMw2ATqgbaPS78LRo0cnRTHffPPNSakwgkeKiOZ8+fIl/RiRz7gXzmo4o8+dOyfz5s1TeYCnTp0qbdq0SQELjufbbrtNXQNHMxzYcGYfPXo05IGH0dDWaUJM7QHW5OVv5dcD/0UrrhvUTBq/9K0cOH42CVmgA3rVziNy6xtL1e8uyZFZVvdvmiralqMXJx1wmDNLRjlx9q9Ur4WD+oaKlyX7/YFjZ6TzhJXJDjy0a8e0HON26+B17hEw4QUrFM2Jy3bIgM9THtqJ3QKPNL5S6lyZT7JkjF/0MA77TJ8uXdIBoXYtHpimJ/CeW6sWkZduqyQLNh+Qg8fPyk2VC8W1/3b7G+t1puozVm683x0C1Kc7nNlKdASoz+i48S53CFCf7nBmK9ERMEGfOvlborMy74qVAB3QsRL08f2DBg2SZ599NuwIENFcrFixZNe9++67MmbMGNm4caNK2VGzZk3p37+/1K5dO9X6lixZIs8995wsX75cOa3Lly8v3bt3ly5duoTtg50LdJoQU3uABUdgrni6sdQY9nUyPM+0LCf31S+hfrZ4yx/SafxK9d9X5M0u3/ZulCrK2/+3TJZvOxwWdb8bysm99S7UH1xCHXoYtkIRmXjPtVK/dH47l/IaDxAw4QUrFObA/59C/T44B7uTpvp+x2HpPH6lSo8x7aHaER3WWf25eXLwxH853tGvi7NnUil8riqUx8lueqIuU/XpCfjsRFgC1GdYRLwggQSozwTCZ9NhCVCfYRHxggQSMEGfOvlbEigVo5umA9po8+s1eJ0mxNQeYMEO3hk96kqr175LZkikvVgzoJkginn2z/vkwfdXqd+Xvyy3zHy0XqpG7zR+hSzecjBNUfS47kp5vFnaqTLmbdgv9028sKXfbglO52H3Pl6XGAImvGCFIosdHN0+WC2zfr5wEGioErgDwUnr4BBBHCaI0rT8pfJW5/8OG02rnV/2H5dmo5Lnf7Yin53sn5fqMlWfXrIB+5I6AeqT6vAyAerTy9Zh36hPasDLBEzQp07+Fi9rSee+0QGts3UNG5tOE2JaD7BKz86VP09fOCwQqTAe/nB1Ckt/83gDKZE/p7y/fKf0++xn9ftaJfLKR/fXTFUVVQbPlSP/fwhhLM61P0+dl0qD59pWX4XCueWLh+tK+vTpbN/DCxNLwIQXrLQI4/+5r9buDXnJlqHXS6YM6R03UOAhnxdlzyQ/Dmhmq433lu6QgV8kTxuydlAzyZ01k637/XiR6fr0o81M6jP1aZK1/TdW6tN/NjOpx9SnSdb231hN0KdO/hb/KUyPHtMBrYcdOQoR0WlCTOsBVuf5b2T30QuHBT7dsqwMm7kphf2nPFhLril2ibw4Z5OMXbBV/f6WqoXl5dsqp6qVQV+sl3eX7kj19/1blZeudYuH1RqiRIv3nRn2usV9Gsn+Y2ekQuE8Eee0DVs5L4grARNesNIC+Mz0dfLBil0hL5nds56ULZjbcf6BDuji+XLIgifCH9q6788zUnN48hQ9nWtdIYNbV3C8f16q0HR9eskW7EtKAtQnVeFlAtSnl63DvlGf1ICXCZigT538LV7Wks59owNaZ+saNjadJsS0HmCBjqjUTDyuY1VpUeEyeeyTH2X6mt3qsu6NrpQnmqeePuPIyXNSZci8kFVmzZReHWCYPXNGW6oK18dbqhSWl9un7gy31QgvShgBE16w0oI7fOZGeXPRtlQvKVswl/RsUkqalLtUMjoUDR34/1SlInnk8+51w9r/rndWysLNfyS7rlPNK2RIGzqgw8LjBSQQJwKmz59xwspqHSJAfToEktXEhQD1GResrNQhAiboUyd/i0NmZzUREqADOkJgvNy7BHSaEGN1QA9oVV7uqVtcmo9aJJv3H1dGG9mukrStViRNA85Zv08emHQhZzTKNcUulsqXXySPNimtckrbLaEc0LmyZJRV/ZvKub//iaguu23yOvcImPCClRbNl+f9Iq9+vSUs8CGtr5JOtZIf4Br2phAXIPczckBbpUrRi2R6tzphqwr1/+GH99WQ2iXzhb3XzxeYrk8/286EvlOfJljZv2OkPv1rOxN6Tn2aYGX/jtEEferkb/Gv0vzdczqg/W0/9j6AgE4TYloPsHbjlsr3O46kaftWFS+T0bdXkVLPzJR//r1w6dzH6kvpS3OF1QwOOpy/cb9ULHyRFM2bPez1oS54bsYGefu77epXyFebPVMGte2/SflLo6qPN3mLgAkvWGkRf33hrzJi9mZbRnHiUMKjp85J5cHJdyes6d9ULs6ROdU+BB9Yigsvzp5JHVCqezFdn7rb1+/joz79bkG9+0996m1fv4+O+vS7BfXuvwn61MnforcavTs6OqC9axv2LEICOk2IaT3Alm49KB3eWpEmHUQtf3BvDblq4Jyk61b1ayJ5c2aJkGp0l58695d8+dMeKZY3h9QokVeQFzpdOh4yGB1N791lwgtWWtTHf7ddhszYYMswTjigfz9ySuq+sCBZe/fVKy7P3FA+1T7sOHhSGo5cmOz3r99ZVVpefZmtfvv5ItP16WfbmdB36tMEK/t3jNSnf21nQs+pTxOs7N8xmqBPnfwt/lWav3tOB7S/7cfeBxDQaUJM6wG2ce8xuX704jRtf0Xe7DLtodpS7bn5Sdetf7a55IggjQbFRQKpETDhBSst63+wYqc8M/1nWwJxwgH9y/7j0mzUohTtpVX3sq2H5I63lie754vudaRikYts9dvPF5muTz/bzoS+U58mWNm/Y6Q+/Ws7E3pOfZpgZf+O0QR96uRv8a/S/N1zOqD9bT/23kAH9LEz56XioLnJbH9L1cKCg8+Gzdykfo58y7N61ksWNbl1WEvJkJ5RyPyfJnYCJrxgpUXp01W/y+NTfrIF0gkH9JpdR+Tm15dG5ICe/MNv0mfq2mT3/Dr0escORbQ1+ARdZLo+E4SdzdokQH3aBMXLEkKA+kwIdjZqkwD1aRMUL0sIARP0SQd0QqSlVaN0QGtlTrMHo9OEGO4BFny42N11ism99UpInee/SRLBpw/VklvfWKb+nTlDevll6PVmC4Sjd4xAOH061pBHK5qxdo90/3CNrd454YD+bstB6Tg+ZdqdlU83lgK5s6box8crd8lT09Yl+7kp6TcwaNP1aUuYvChhBKjPhKFnwzYIUJ82IPGShBGgPhOGng3bIGCCPnXyt9gwKS+JAwE6oOMAlVUmhoBOE2K4B9iAz3+Wict2JoF+qGFJeeS6UlJuwOyQ8HNlzSjrBjVPjGHYqnYEwulTuwEHDWj+hv1y78QfbA0zVgf06XN/y7tLd8gLsy/sbggsN1UqJK/eUSXFz0MtUA288Spb/dXhItP1qYMNdR4D9amzdf0/NurT/zbUeQTUp87W9f/YTNCnTv4W/yvOnyOgA9qfdmOvQxDQaUIM9wCDM+qNhVuTKDzWpLQ82qSUlOs/W06f/zsFnfy5ssj3zzShbkjAEQLh9OlIIx6uZPGWP6TT+JW2ehiLA/r4mfPSaOS3cvDE2VTbCq5/xOxN8nrA3IAbh7S+SjrVKmarvzpcZLo+dbChzmOgPnW2rv/HRn3634Y6j4D61Nm6/h+bCfrUyd/if8X5cwR0QPvTbuy14Q7oMd9skZFzf0mi0Pf6svJAg5IqBcfuo6dT0Ln8kmyyuM911A0JOELAhBestEB9v+OwtBt3Ib1NuBKLA3rCd9tl8IwNaTYxpkMVaVWxUNI1FQbOkRNn/0p2z/tda0jdUvnCdVWb35uuT20MqelAqE9NDavJsKhPTQyp6TCoT00Nq8mwTNAnHdCaiDWBw6ADOoHw2bSzBHSaEMM9wCYt2yH9P1+fBPDZm66SLrWLSavXFsvPu4+lAFuqQE6Z16uBs8BZm7EEwulTdzA/7/5TWr32na1hxuKAHjlns4xZ8GvYdgLbCE6/gZuXPHWdFL4oW9h6dLnAdH3qYkddx0F96mpZPcZFfephR11HQX3qalk9xmWCPnXyt+ihOv+Ngg5o/9mMPU6FgE4TYrgH2K8HTkiTl79NIjHi1opy2zWXS+cJK2XRL3+kIHRVodzy1SP1qB0ScIRAOH060oiHKzlw7IxcO+zrsD2M9fDP8d9tlyFhIqDRiVX9mkjenFnk33//leJ9Z6bo17ZhLSV9+nRh+6vLBabrUxc76joO6lNXy+oxLupTDzvqOgrqU1fL6jEuE/Spk79FD9X5bxR0QPvPZuwxHdCKQJ+pP8nkH36XLBnTy+ye9aV4vhzS/7OfZdLy/w4ntFA1K3+p/K9zdWqHBBwhYMILVlqg/v7nXyn5dEpHb6h7Ng5uIdkyZ4iKe3CqHVRS9JLssuvwqWT13VKlsLzcvrKc/etvKdMv+UGk99QpLgNuLB9V+369yXR9+tVupvSb+jTF0v4cJ/XpT7uZ0mvq0xRL+3OcJuiTDmh/atNLvaYD2kvWYF9iIqDThGjnAYZox5XbD0vBPFnlirw5FLvUcsbO71VfriyQKya+vJkELAJ29Kk7rVCpLkKNeelT10khm+kvfvztqOw4eFJaVCgoWTNlkODDRlE/oplLhHB+bx/eUu6buErmb9yf1I2Zj9ST8oVy626KFOOjPo0zua8GTH36ylzGdZb6NM7kvhow9ekrcxnXWRP0qZO/xTiBemTAdEB7xBDsRuwEdJoQo32A7Tx0UlqOXiwnz/2tgN5Zo6g81rS05MuZJXbArIEE/p9AtPrUCWDpfrPk3F//hB3SjB51pULhPGGvQ1qdZqO+lX/+Fbm/fgl5umU5GfD5zzJx2X87Gn5+trnkzJJRQjm/Zz1aT64fvThZO1uHtZQMBqXe4AJJWJnxAg8Q4PzpASOwC6kSoD4pDi8ToD69bB32zQR96uRvoWITQ4AO6MRwZ6txIKDThBjLA2zXoVOycsdhqV86nxTIlTUOpFml6QRi0acu7K4dOl8OHD8bdjh3XFtUht9yddjr7n3ve5m/8UDSdThYsNfkH2Xa6t3qZ480LiW9mpZW/x3KAf3GnVXloQ9WJ2snlgMQw3bYwxdQnx42Drsm1CdF4GUC1KeXrcO+UZ/UgJcJmKBPnfwtXtaSzn2jA1pn6xo2Np0mRBMeYIbJU6vhUp8i9UcsSJaLOVeWjHL87F8p7Nz8qkvlzU6h868jjU66dBcOB0T08y/7TyRzQN/1zkpZuPnCoaL9W5WXrnWLq/+uOGiOHDuTvK0BrcrL4IADCzNlSCdbhrbUSnd2B0N92iXF6xJBgPpMBHW2aZcA9WmXFK9LBAHqMxHU2aZdAiboUyd/i1278jpnCdAB7SxP1pZAAjpNiCY8wBIoFTYdIwHqU+TjlbvkqWnrFMmeTUpJjeJ55Y63lqt/X5Q9kxw9dV79d80Sl8jH99dKQfyHHYel1+Sf5PJLssn4LtdIwxcXyr5jZ5KuWzeomVw9aG7Sv1+/s6q0vPoy9e8V2w5Jpwkrk6UAKXdZbtm491jS9d0bXSlPNC8To6X9eTv16U+7mdJr6tMUS/tznNSnP+1mSq+pT1Ms7c9xmqBPnfwt/lSZ/3tNB7T/bcgR/D8BnSZEEx5gFK5/CVCfImf/+lsmfLdDOYEfbFhCMmdIL6t2HpETZ/+S0+f+TkqHAccw8jMHl+rPzZODJ86pHz/WpLS8uWirnPr/3O342S1VCyel38C/p3erLVWKXpxUzZGT56TzhJWybvefKepG3mfkfza1UJ+mWt4f46Y+/WEnU3tJfZpqeX+Mm/r0h51M7aUJ+tTJ32KqThM9bjqgE20Btu8YAZ0mRBMeYI4ZnhW5ToD6TBv5sq2HkqKhC+XJKkv7Nk5xQ2Ae59KX5kyWfiNU7WsHNZPcWTMl+9XYBb/Ki3M2h+yMqfmfAYP6dH1KYIMREKA+I4DFS10nQH26jpwNRkCA+owAFi91nYAJ+tTJ3+K6QNigIkAHNIWgDQGdJkQTHmDaCM/AgVCfaRsdqTCuH71YXZQ9cwbZMLhFmg7ofDkzJ0VDh6o5Y/p08muIiOYvf9ojPT5ak+KWKwvklPm9GhiozAtDpj6NNb0vBk59+sJMxnaS+jTW9L4YOPXpCzMZ20kT9KmTv8VYoSZ44HRAJ9gAbN45AjpNiCY8wJyzPGtymwD1mTbx/cfOSI1hXyddtP7Z5pIjS8akfx84dkauDfh9OPtdX6GgvNGxWorLkEe67bhlKX4+8Z5rpX7p/OGq1fb31Ke2ptViYNSnFmbUdhDUp7am1WJg1KcWZtR2ECboUyd/i7ZC9PjA6ID2uIHYPfsEdJoQTXiA2bcsr/QaAeozbYv888+/Uqb/LDn/97/qwv6tykvXusWTbhoyY4OM/267bbPeWrWIvHRbpRTXb9l/XJqOWpTs58gd/fJtlW3XreOF1KeOVtVnTNSnPrbUcSTUp45W1WdM1Kc+ttRxJCboUyd/i44a9MOY6ID2g5XYR1sEdJoQTXiA2TIqL/IkAeozvFkqD54rR0+dT7rwp4HNJE+2CzmcG7+0ULb+cTJ8Jf9/RedaV8jg1hVSXB8qkvqFW6+W9tcUtV23jhdSnzpaVZ8xUZ/62FLHkVCfOlpVnzFRn/rYUseRmKBPnfwtOmrQD2OiA9oPVmIfbRHQaUI04QFmy6i8yJMEqM/wZrl60Bw5fuavpAvHdawqLSpcJuf++kdK95sVvoKAKx5sUFKeur5sinvOnP9byvafnezn47tUl8blLo2oft0upj51s6he46E+9bKnbqOhPnWzqF7joT71sqduozFBnzr5W3TTn1/GQwe0XyzFfoYloNOEaMIDLKxBeYFnCVCf4U1TcdAcORbggB7c+irpXKuYLP31oHR4e0X4CgKueLxpaenRuFSKe/79918p3ndmsp9P61Zbqha9OKL6dbuY+tTNonqNh/rUy566jYb61M2ieo2H+tTLnrqNxgR96uRv0U1/fhkPHdB+sRT7GZaAThOiCQ+wsAblBZ4lQH2GN02wA/qRxqWkV9PS8urXW+Tleb+EryDgihFtK8pt1S8PeU+xp75K9vN5j9WXUpfmiqh+3S6mPnWzqF7joT71sqduo6E+dbOoXuOhPvWyp26jMUGfOvlbdNOfX8ZDB7RfLMV+hiWg04RowgMsrEF5gWcJUJ/hTRPsgL6zRlEZevPVctc7K2Xh5j9SraBE/hyyLSg/9PxeDeTKAjlD3nPz60tkza6jSb9b8tR1UviibOE7qPEV1KfGxtVgaNSnBkbUeAjUp8bG1WBo1KcGRtR4CCboUyd/i8ZS9PTQ6ID2tHnYuUgI6DQhmvAAi8S2vNZbBKjP8PYIdkDXKH6JfPJALWk9don89Nt/DuPgmu6qXUzeXboj2Y9X9WsieXNmCdnoa19vkZcCIqp/GtBM8mS/cNihqYX6NNXy/hg39ekPO5naS+rTVMv7Y9zUpz/sZGovTdCnTv4WU3Wa6HHTAZ1oC7B9xwjoNCGa8ABzzPCsyHUC1Gd45MEO6Izp08mCJxpKu3HLZN+xM6lW8G3vhtLgxYXJfr9xcAvJljmDLQf0lqHXS6YM6cN3UOMrqE+NjavB0KhPDYyo8RCoT42Nq8HQqE8NjKjxEEzQp07+Fo2l6Omh0QHtafOwc5EQ0GlCNOEBFoltea23CFCf4e0R7IAOdceLbSvK4C83yPGzf6lft65cSEbfXkWue2lhsjQc24e3lHTp0oVsNDin9I7nbwjfOc2voD41N7DPh0d9+tyAmnef+tTcwD4fHvXpcwNq3n0T9KmTv0VzOXp2eHRAe9Y07FikBHSaEE14gEVqX17vHQLUZ3hbVHp2rvx5+nyaF37RvY5clieb/Hn6nOTPlVXyZLuQOuPud1bKgoA80Wk5lemATomY+gyvT16ROALUZ+LYs+XwBKjP8Ix4ReIIUJ+JY8+WwxMwQZ86+VvCW5RXxIMAHdDxoMo6E0JApwnRhAdYQkTCRh0hQH2Gx/jlT3ukx0dr0rwwtcMFu777vXy96UDSvWk5oLcfPCmNRl5I2VGqQE6Z16tB+M5pfgX1qbmBfT486tPnBtS8+9Sn5gb2+fCoT58bUPPum6BPnfwtmsvRs8OjA9qzpmHHIiWg04RowgMsUvvyeu8QoD7D2+Lvf/5VhwkOmbEh1YuX9b1OEAEdXO597weZv3G/LQc0Lpq+5ndZtvWQdK1bQsoUzBW+c5pfQX1qbmCfD4/69LkBNe8+9am5gX0+POrT5wbUvPsm6FMnf4vmcvTs8OiA9qxp2O9RRQYAACAASURBVLFICeg0IZrwAIvUvrzeOwSoT/u2uHbofDlw/GzIG34a2Cwp7UbgBQ9M+kHmrLfvgLbfGzOupD7NsLNfR0l9+tVyZvSb+jTDzn4dJfXpV8uZ0W8T9KmTv8UMVXpvlHRAe88m7FGUBHSaEE14gEVpZt7mAQLUp30jNHxxgew4dCrkDVuHtZQM6VMeLjjlh9+k99S16p4sGdPL5ueut98grxTqkyLwMgHq08vWYd+oT2rAywSoTy9bh30zQZ86+Vuo2MQQoAM6MdzZahwI6DQhmvAAi4MEWKVLBKhP+6Bbjl4sG/YeC3lDarmdkb7jiSk/yca9x2Rw6wpybfFL7DfIK+mApgY8TYDzp6fNY3znqE/jJeBpANSnp81jfOdM0KdO/hbjBZsgAHRAJwg8m3WegE4TogkPMOcVwBrdIkB92ifd9o2l8sPOIxE5oO3XzitDEaA+qQsvE6A+vWwd9o36pAa8TID69LJ12DcT9KmTv4WKTQwBOqATw52txoGAThOiCQ+wOEiAVbpEgPq0D7rzhJWy6Jc/6IC2jyzmK6nPmBGygjgSoD7jCJdVx0yA+owZISuIIwHqM45wWXXMBEzQp07+lpgNzgqiIkAHdFTYeJMXCeg0IZrwAPOihtgnewSoT3uccNWDk1bJ7PX7Utwwsl0laVutiP2KeKVtAtSnbVS8MAEEqM8EQGeTtglQn7ZR8cIEEKA+EwCdTdomYII+dfK32DYsL3SUAB3QjuJkZYkkoNOEaMIDLJFaYduxEaA+7fPrNflHmbZ6d4obUsv/bL9mXpkaAeqT2vAyAerTy9Zh36hPasDLBKhPL1uHfTNBnzr5W6jYxBCgAzox3NlqHAjoNCGa8ACLgwRYpUsEqE/7oPt9tk7eX76LDmj7yGK+kvqMGSEriCMB6jOOcFl1zASoz5gRsoI4EqA+4wiXVcdMwAR96uRvidngrCAqAnRAR4WNN3mRgE4TogkPMC9qiH2yR4D6tMcJVw2buVH+t2hbshu6N7pSnmhexn4lvDIiAtRnRLh4scsEqE+XgbO5iAhQnxHh4sUuE6A+XQbO5iIiYII+dfK3RGRcXuwYATqgHUPJihJNQKcJ0YQHWKL1wvajJ0B92md31zsrZeHm/w4hLJAriyx4oqHkyJLRfiW8MiIC1GdEuHixywSoT5eBs7mICFCfEeHixS4ToD5dBs7mIiJggj518rdEZFxe7BgBOqAdQ8mKEk1ApwnRhAdYovXC9qMnQH3aZzfmmy0ycu4vSTfcfs3l8vytFe1XwCsjJkB9RoyMN7hIgPp0ETabipgA9RkxMt7gIgHq00XYbCpiAiboUyd/S8QG5g2OEKAD2hGMrMQLBHSaEE14gHlBM+xDdASoT/vc9h87IzWGfZ10w2t3VJEbKxWyXwGvjJgA9RkxMt7gIgHq00XYbCpiAtRnxMh4g4sEqE8XYbOpiAmYoE+d/C0RG5g3OEKADmhHMLISLxDQaUI04QHmBc2wD9ERoD4j47Z060F5eto6KVswt7zWoYpkypA+sgp4dUQEqM+IcPFilwlQny4DZ3MREaA+I8LFi10mQH26DJzNRUTABH3q5G+JyLi82DECdEA7hpIVJZqAThOiCQ+wROuF7UdPgPqMnh3vjD8B6jP+jNlC9ASoz+jZ8c74E6A+48+YLURPgPqMnh3vjD8BE/Spk78l/opgC6EI0AFNXWhDQKcJ0YQHmDbCM3Ag1KeBRvfRkKlPHxnLwK5SnwYa3UdDpj59ZCwDu0p9Gmh0Hw3ZBH3q5G/xkbS06iod0FqZ0+zB6DQhmvAAM1ut/h499elv++nee+pTdwv7e3zUp7/tp3vvqU/dLezv8VGf/raf7r03QZ86+Vt016NXx0cHtFctw35FTECnCdGEB1jEBuYNniFAfXrGFOxICALUJ2XhZQLUp5etw75Rn9SAlwlQn162Dvtmgj518rdQsYkhQAd0Yriz1TgQ0GlCNOEBFgcJsEqXCFCfLoFmM1ERoD6jwsabXCJAfboEms1ERYD6jAobb3KJAPXpEmg2ExUBE/Spk78lKiPzppgJ0AEdM0JW4BUCOk2IJjzAvKIb9iNyAtRn5Mx4h3sEqE/3WLOlyAlQn5Ez4x3uEaA+3WPNliInQH1Gzox3uEfABH3q5G9xTxlsKZAAHdDUgzYEdJoQTXiAaSM8AwdCfRpodB8Nmfr0kbEM7Cr1aaDRfTRk6tNHxjKwq9SngUb30ZBN0KdO/hYfSUurrtIBrZU5zR6MThOiCQ8ws9Xq79FTn/62n+69pz51t7C/x0d9+tt+uvee+tTdwv4eH/Xpb/vp3nsT9KmTv0V3PXp1fHRAe9Uy7FfEBHSaEE14gEVsYN7gGQLUp2dMwY6EIEB9UhZeJkB9etk67Bv1SQ14mQD16WXrsG8m6FMnfwsVmxgCdEAnhjtbjQMBnSZEEx5gcZAAq3SJAPXpEmg2ExUB6jMqbLzJJQLUp0ug2UxUBKjPqLDxJpcIUJ8ugWYzUREwQZ86+VuiMjJvipkAHdAxI2QFXiGg04RowgPMK7phPyInQH1Gzox3uEeA+nSPNVuKnAD1GTkz3uEeAerTPdZsKXIC1GfkzHiHewRM0KdO/hb3lMGWAgnQAU09aENApwnRhAeYNsIzcCDUp4FG99GQqU8fGcvArlKfBhrdR0OmPn1kLAO7Sn0aaHQfDdkEferkb/GRtLTqKh3QWpnT7MHoNCGa8AAzW63+Hj316W/76d576lN3C/t7fNSnv+2ne++pT90t7O/xUZ/+tp/uvTdBnzr5W3TXo1fHRwe0Vy3DfkVMQKcJ0YQHWMQG5g2eIUB9esYU7EgIAtQnZeFlAtSnl63DvlGf1ICXCVCfXrYO+2aCPnXyt1CxiSFAB3RiuLPVOBDQaUI04QEWBwmwSpcIUJ8ugWYzURGgPqPCxptcIkB9ugSazURFgPqMChtvcokA9ekSaDYTFQET9KmTvyUqI/OmmAnQAR0zQlbgFQI6TYgmPMC8ohv2I3IC1GfkzHiHewSoT/dYs6XICVCfkTPjHe4RoD7dY82WIidAfUbOjHe4R8AEferkb3FPGWwpkAAd0NSDNgR0mhBNeIBpIzwDB0J9Gmh0Hw2Z+vSRsQzsKvVpoNF9NGTq00fGMrCr1KeBRvfRkE3Qp07+Fh9JS6uu0gGtlTnNHoxOE6IJDzCz1erv0VOf/raf7r2nPnW3sL/HR336236695761N3C/h4f9elv++neexP0qZO/RXc9enV8dEB71TLsV8QEdJoQTXiARWxg3uAZAtSnZ0zBjoQgQH1SFl4mQH162TrsG/VJDXiZAPXpZeuwbyboUyd/CxWbGAJ0QCeGO1uNAwGdJkQTHmBxkACrdIkA9ekSaDYTFQHqMypsvMklAtSnS6DZTFQEqM+osPEmlwhQny6BZjNRETBBnzr5W6IyMm+KmQAd0DEjZAVeIaDThGjCA8wrumE/IidAfUbOjHe4R4D6dI81W4qcAPUZOTPe4R4B6tM91mwpcgLUZ+TMeId7BEzQp07+FveUwZYCCdABTT1oQ0CnCdGEB5g2wjNwINSngUb30ZCpTx8Zy8CuUp8GGt1HQ6Y+fWQsA7tKfRpodB8N2QR96uRv8ZG0tOoqHdBamdPsweg0IZrwADNbrf4ePfXpb/vp3nvqU3cL+3t81Ke/7ad776lP3S3s7/FRn/62n+69N0GfOvlbdNejV8dHB7RXLcN+RUxApwnRhAdYxAbmDZ4hQH16xhTsSAgC1Cdl4WUC1KeXrcO+UZ/UgJcJUJ9etg77ZoI+dfK3ULGJIUAHdGK4s9U4ENBpQjThARYHCbBKlwhQny6BZjNREaA+o8LGm1wiQH26BJrNREWA+owKG29yiQD16RJoNhMVARP0qZO/JSoj86aYCdABHTNCVuAVAjpNiCY8wLyiG/YjcgLUZ+TMeId7BKhP91izpcgJUJ+RM+Md7hGgPt1jzZYiJ0B9Rs6Md7hHwAR96uRvcU8ZbCmQAB3Q1IM2BHSaEE14gGkjPAMHQn0aaHQfDZn69JGxDOwq9Wmg0X00ZOrTR8YysKvUp4FG99GQTdCnTv4WH0lLq67SAa2VOc0ejE4TogkPMLPV6u/RU5/+tp/uvac+dbewv8dHffrbfrr3nvrU3cL+Hh/16W/76d57E/Spk79Fdz16dXx0QHvVMuxXxAR0mhBNeIBFbGDe4BkC1KdnTMGOhCBAfVIWXiZAfXrZOuwb9UkNeJkA9ell67BvJuhTJ38LFZsYAnRAJ4Y7W40DAZ0mRBMeYHGQAKt0iQD16RJoNhMVAeozKmy8ySUC1KdLoNlMVASoz6iw8SaXCFCfLoFmM1ERMEGfOvlbojIyb4qZAB3QMSNkBV4hoNOEaMIDzCu6YT8iJ0B9Rs6Md7hHgPp0jzVbipwA9Rk5M97hHgHq0z3WbClyAtRn5Mx4h3sETNCnTv4W95TBlgIJ0AFNPWhDQKcJ0YQHmDbCM3Ag1KeBRvfRkKlPHxnLwK5SnwYa3UdDpj59ZCwDu0p9Gmh0Hw3ZBH3q5G/xkbS06iod0FqZ0+zB6DQhmvAAM1ut/h499elv++nee+pTdwv7e3zUp7/tp3vvqU/dLezv8VGf/raf7r03QZ86+Vt016NXx0cHtFctw35FTECnCdGEB1jEBuYNniFAfXrGFOxICALUJ2XhZQLUp5etw75Rn9SAlwlQn162Dvtmgj518rdQsYkhQAd0Yriz1TgQ0GlCNOEBFgcJsEqXCFCfLoFmM1ERoD6jwsabXCJAfboEms1ERYD6jAobb3KJAPXpEmg2ExUBE/Spk78lKiPzppgJ0AEdM0JW4BUCuXLlkvPnz0vJkiW90qWo+3Hy5El1b44cOaKugzeSQLwIUJ/xIst6nSBAfTpBkXXEiwD1GS+yrNcJAtSnExRZR7wIUJ/xIst6nSBggj63bt0qmTJlkuPHjzuBjHUYSIAOaAONruuQCxYsKJj4ixYt6vshYnJH0cGZ7ntjcAApCFCfFIWXCVCfXrYO+0Z9UgNeJkB9etk67Bv1SQ14mYAJ+ty1a5cKkNu3b5+XTcG+eZgAHdAeNg67Zi4Bbm8x1/Z+GDn16QcrmdtH6tNc2/th5NSnH6xkbh+pT3Nt74eRU59+sJK5faQ+zbU9R26fAB3Q9lnxShJwjQAfYK6hZkNREKA+o4DGW1wjQH26hpoNRUGA+owCGm9xjQD16RpqNhQFAeozCmi8xTUC1KdrqNmQjwnQAe1j47Hr+hLgA0xf2+owMupTByvqOwbqU1/b6jAy6lMHK+o7BupTX9vqMDLqUwcr6jsG6lNf23JkzhGgA9o5lqyJBBwjwAeYYyhZURwIUJ9xgMoqHSNAfTqGkhXFgQD1GQeorNIxAtSnYyhZURwIUJ9xgMoqHSNAfTqGkhVpTIAOaI2Ny6H5lwAfYP61nQk9pz5NsLJ/x0h9+td2JvSc+jTByv4dI/XpX9uZ0HPq0wQr+3eM1Kd/bceeu0eADmj3WLMlErBNgA8w26h4YQIIUJ8JgM4mbROgPm2j4oUJIEB9JgA6m7RNgPq0jYoXJoAA9ZkA6GzSNgHq0zYqXmgwATqgDTY+h04CJEACJEACJEACJEACJEACJEACJEACJEACJEAC8SRAB3Q86bJuEiABEiABEiABEiABEiABEiABEiABEiABEiABEjCYAB3QBhufQycBEiABEiABEiABEiABEiABEiABEiABEiABEiCBeBKgAzqedFk3CZAACZAACZAACZAACZAACZAACZAACZAACZAACRhMgA5og43PoZMACZAACZAACZAACZAACZAACZAACZAACZAACZBAPAnQAR1PuqybBEiABEiABEiABEiABEiABEiABEiABEiABEiABAwmQAe0wcbn0EmABEiABEiABEiABEiABEiABEiABEiABEiABEggngTogI4nXdZNAiRAAiRAAiRAAiRAAiRAAiRAAiRAAiRAAiRAAgYToAPaYONz6CRAAiRAAiRAAiRAAiRAAiRAAiRAAiRAAiRAAiQQTwJ0QMeTLusmARIgARIgARIgARIgARIgARIgARIgARIgARIgAYMJ0AFtsPE5dBIgARIgARIgARIgAXMJ/Pvvv5IuXTpzAXDkJEACJEACJEACJEACrhCgA9oVzGyEBPxP4J9//pH06dP7fyAcgZYEqE8tzerbQcGphz+YM+ng860Zte74b7/9Jvnz55esWbNSo1pb2n+DC54zOYf6z4Y695jPd52tq9fYOHfqZU9dRkMHtC6W5DhIwGECZ8+elX379kmWLFnkoosuUh+pdPI5DJnVRU3g999/l927d8vx48elatWqcskll0RdF28kgXgQOHXqlGTPnj1p3uT8GQ/KrDMaAm+++aZ88MEHUrp0aRkzZox6vrOQgJcI7N+/X/LkyaMW8TJnzsz3Ty8Zh30RfCPh+8h6rv/999+SIUMGkiGBhBN46623pECBAtK6dWvVFzqhE24SdiCIAB3QlAQJkEAKAm+//bZMnTpV5s6dqyKkSpYsKZMmTVJ/8yWLgkk0gVGjRsmECRNk/fr1qiuXX365vP7663LDDTfwIzXRxmH7Mm3aNFm0aJGaP0uVKiVXXnml9OvXTy6++GLqk/pIOIGnnnpKRowYofQ4fPhwad++vXL0sZCAFwhMnDhRvvzyS5k1a5aUKFFCypQpI1gwwSIzF/G8YCGz+/DRRx+p5/vSpUulbNmySqOPPvqoFCxY0GwwHL0nCHTr1k3GjRsnDRs2FDzrmzVrRie0JyzDTgQSoAOaeiABEkhG4Mknn5QXX3xRcubMKRUqVJAjR47I5s2b1UsWXriwqspCAoki0Lt3b3nppZfksssuk6ZNm8quXbtk4cKFUqhQIfVRAJ2ykECiCDzzzDPy/PPPq4gTFETvwWlSqVIlmT9/vuTNm5dOlEQZh+3KCy+8IH379pUbb7xRLYpcc801pEICniEAbUKjiHguWrSonDx5Uvbu3Ss1atSQ2bNnc6HEM5YysyPW4h2e67ly5ZLz588LdjpBq3369JGWLVtKsWLFzITDUSecwIkTJ9R3O76LMmbMqJ7vgwYNUt9KKIyETriJ2IH/J0AHNKVAAiSQRAAPqsGDB0vz5s3lueeek2rVqsm5c+fUNp45c+bIgAED1MOMDzGKJhEE4HiGAxrOkyFDhkjFihVVRD6iTxABbemTUfqJsA7b7N+/vwwdOlTq1q2rnHxYrPvll1+UQ2Xt2rVKt4ieQloOFhJwm8Cvv/6qPkSRUgs7mvChisKoUrctwfZCEcDzG++djRs3Vn9j0e7AgQMqQn/FihXyv//9T+69917CI4GEELDeP/F9hO8gBDsgQOfxxx+Xr776Ss2rbdu2FUSgVq5cOSF9ZKNmE8CCCCKfDx8+LLVq1ZJ3331X/U0ntNm68OLo6YD2olXYJxJIAAE4Rh544AEVaYIUB/g4hfMZkSjLli2T6667Tv3+lVdeSeodHdEJMJShTW7btk2l2EBEFLbn4uMUL1uZMmWSrVu3Sp06ddR2s549expKiMNOJIHPPvtMOnbsqObP1157TcqXL5/UnZUrV0q7du2Uow9pOcqVK5fIrrJtQwkgghQReu+//7506NAhiQLOeoBzGjtJUFq0aKF2lOAPCwm4QQBpN+C4w+IdHH1XXXVVUro3pIO77bbb1KIzdphYhQsnbliGbYDAnj175Prrr1cLIkgNAwez9f2DXND4NoKGERWN+RPvolWqVCE8EnCNgKVHLN6NHj1akEpz+vTpSpe1a9eWgQMHMhLaNWuwoXAE6IAOR4i/JwEDCMC5d8sttwj+xkcqHlYoViQpUhs0adJERaW0atVKcAAc8vIVKVKEh24YoA8vDBGLIHAyP/bYY+oDFdpEwaEvP/30k/pdly5d1Afszp07lbMauXezZcvmhe6zDxoT+PPPP1Vk3qeffirffPONikCxUnCkS5dOjh07phwocD4zik9jIXh0aNaH6dixY6VHjx6yYMECadCggeot5lV8rGJR7/Tp0+pn+fLlUxp+5JFH1HzKQgLxJIBdIjfffLM69BqRpDVr1kz2/glttmnTRs2diI4+evSoXHHFFSqHOQsJuEHgxx9/VIdd33HHHerwVuvbyPobwRDQ7Zo1a9QOJ0RCI+qU6TjcsA7bCCSAYLJOnTrJ999/r/LmY2ceFp3xXY//RgQ/CuZb5i2ndhJFgA7oRJFnuyTgIQJ4icJDCU68Z599NtnL/x9//CFdu3aVGTNmqKhTOPtQsN0MzkA86PiS5SFjatoVKwoKB2p8/PHHSn8oBw8eVDrERwE+SuF8tvQJBwqc0sWLF9eUCoflBQJwoGD+RL69yZMnh+wSoqKRKgb5oZErkoUE3CaASKi77rpLLTJjHt20aZPaMYKFESyQYMFuw4YN6sN19+7dKoIPzmk6od22lFntIar0pptuUk5onEGCYjn28Du8Y86bN085UHAOCQpy7iIgAgvNdESbpZdEjBa7Q7ALFE5mREAHHtr6119/qXy7vXr1kjFjxqiDh7dv3652i95///1McZQIgxncJhzL+ObBGQ/YMYL0bwjaQdotzKEjR45Uu5uROgbfToG7oQzGxqG7TIAOaJeBszkS8BoBKzoKK/iIgMqdO3fS1jLkkRo+fLh6eOHFCw+q0qVLqyg/bO357bff1FYzfDQgFQIO5mAhgXgQwEJI/fr11RZI5IGGYxlbH5GzHHnO6tWrp6JQ8WH6xRdfyLRp05KuhT6zZs0qiEZlIQGnCUCTcCxjjoQjL7BY8yuiUu68807lhEaKI24fd9oKrC8cATy3sZMJiyVwonz++efK6ffyyy8nS12ExeZXX31VHZqJnVGInL700kvDVc/fk0DUBHDQIN49c+TIkfT+eejQIZU/Hw4TnEeCs0hKliypFlDwfEd6ODj54KDmfBo1et5og8D+/ftVLl18I+G8EZznAKczirVYAmfehx9+qBx7eC/FgcPLly9XB2azkIBbBKBHpNDEnylTpqhmA53QSA+HXXtYZH7jjTdU+hgWEnCbAB3QbhNneyTgEQKBL+yp5XIeP3683HfffWrlHw5n5DdDgbMaOU/hTEE9OCAG0acsJBAPAtAnXqqwBReOPqSAgRbhgMZKPraT45BMfJBa+kREtBVp+t1336mFExYScIqANWdaf2NbuBWVH6oNRJUiPzRe9vHSjxLsNKETxSnrsJ7UCGCX0+rVq5XTGXMmoqCxvRwLdFYkHzSNtAdwqGCHCVJ2YPs5Cwm4ScA69A0HZ2IBD9vJrec7Ik3h6EOkn7XV3M2+sS29CQQ/i0+dOiXdu3dXwQ543xw2bJjaIYJ5EwXPf8yR+IPdetg1+s4776gFEuzE43k5euvF7dGl9q5oLYbgPRPPcDzbkVILwWEIGLvnnnvk66+/Vt198MEH1WJKqHdRt8fD9swjQAe0eTbniEkgJIFQDzSsksLhhyho6yGFv61IZ0T04cPgk08+UYdssZBAPAngJX/VqlXy5ptvCiKiK1asqF6m8DGALbx4+UKUs6VPREbBEY0PWThTWEggXgSs+TO1D81169apFEaI3MeHqeXsQ38QzYePWkRMsZBAPAhYH6Z4Xj/00EMqkhSaxc4l5IHGnIm5M1C/+FiFw+XFF19Uzj4WEnCTACKgsYiMQAgUaBOaxbkPKHBM4/lv5d13s29syzwC69evl/bt26s0RYjIb9SokTqYEAERcDRv3LhRvZvivXPLli3qeY9vpLfeess8WByxqwSCv9+t4DE4oPGdhIIdTdglumvXLvVvnPPw9NNPq11R1vzKXaKums3oxuiANtr8HLyJBJDvcfPmzQKHCLaMI+8jUhsEF+uD1fp5oMMEkadZsmRRDy84qHHAAfNImagm58f866+/qvx5eKlHLr1y5cqFdMzhY3TlypUqp9nixYuTDs5Ejyx9Yhs5cpzSgeK8nUytETnwt27dquZPfGCWLVtW/UnrBR5axfWVK1dWCyXYTWK96CMvLxx9+EhAJJ/lCDSVL8cdGwGkzbIiRUPVhK3kSEmEreJ4piN/LnRXokSJpIh8a/7EQgki+Th/xmYT3v0fgXD6DPW+iZ8Fvn+eOXNGRZ5aCyRIuYXDsVlIIFYCS5YsUYex79ixQ0Uz4/sIB65bBQ49RELjb0RFY9cdduEhzQYiSpEHGmlk9uzZo57pSA2HBWY69mK1DO8HgXD6tBaQkSsfZzcgfRYWnGfOnKmCcLAwghSGOBgbiyXQJxb5kEufhQTcJEAHtJu02RYJJJgAHMaIBkUKjcDSrVs39VC6/PLLlQMkre1igSutSM2BA7jwUGQKjgQbV4PmkesRL0Vw8FkFOUiRBsY6uTlQf1j46Ny5szooC4e9YFEE2kZUHwpOLIezDy9f0CoLCcRCAIttOEwQ+UqtUr16dbXFtmPHjmlWjQUVzJHQMfSI8t5770nfvn2VZnHIFhzULCQQLYFBgwYpbeKDEhHOqRV8hCJ9FlITnThxQuWBxlZc5Hm2nM+413LwWYcWRtsv3kcCIGBXn2nRCnz+I6URHNpwtuTPn5+QSSAmAv3791eRzCdPnkyqp3DhwmoRDge6IfIejmS8ny5atEilIcR8ief67bffrlJsZc+eXd0LB1+RIkXU3IrnPAsJxEogLX3id9bOELSDxRHkgG7ZsqV6N8XOOzz3rZQwiOLHwjK0iXfSTz/9NEm7sfaT95OAHQJ0QNuhxGtIQAMCOMwFzo5mzZqpVXq8SCESGh8FeIlHFDSiRbGlDI68UE7owKhoqz4cuoXcvDhAhoUEoiWABRAsjhQqVEhFM+Ej4Ntvv1UHZSA9AXKWBjvoEPmMbbhwAuJlCn9bzudx48YpxyB+hsO2+IEarWV4HwhY+kTOUWyrxQcmIkeRvgDOPjjwoMXUClLG4IMUHwRYFEF0KU4ox4cCHIH4WGAhgWgJPPfcWM684gAAIABJREFUczJgwADJkyeP2mb78MMPS7FixVJUZz3XkfsZ7wNIX4CIUkTmYyEP8y8KcuwiUhrRfziwkIcQRmsZ3gcCdvWZFq1A5zPSbsEpCMcKtIqoUxYSiJbA0KFDBU48pNXA3InnMlJu4DsH5dZbb1UHriOq2XrHxM9Ty8WLulAnHHxIycEc0NFahveBgB194nmOXXlwROOwTHzLY5coovOxqzT4sGHs5kPADyL6cTAhCwm4SYAOaDdpsy0SSBABbAfDixUcyDjh3toyju6sWbNGvWTBKQJHCj46sZoPJ3RqBQ8tvGDhGjgJsX2XhQSiJYBtYj169FCn3OND9aqrrlJVIVIU+ccRYY+PTETqB77II9oPWoUj+tprr1WLKDhkC4dvINdptmzZ1L2BWyij7SPvM5cA5jtsY4STDh8Clj6RjxyLJh9//LGaN6HV1BbuMAcjpQxyRyJqH84TRD7T+WyurpwaOZ7p2O2BRTsskGDRDnMlFuDSckJjmzkWjydPnqy2nRcoUECuvvrqpMUV/BsHECINEgsJREsgUn2GaidwXoVmsXgHpzP0Cc2zkEC0BBAZih1yOER4ypQpyb6P8HxG/nssNiNdwcCBA1VARGC0KdoNdERb30cFCxYU7B6xFvWi7R/vM5tAJPpEQBl0mjFjRpUaE++aKKNGjVK7nlAC0xkhfYx1eLvZlDl6twnQAe02cbZHAgkggFPvEQmKhxEOFYLjw9pOhkhofIjCwYcXJ2w5e/bZZ9WKPx5iVsE9iOIbMmSIcrhgqxnySVvOmAQMi01qQODnn39WTmRE4eNDFXn3Al+QoEs4UuAYgaM5V65cyfLpYRX/7rvvVjl2scBiFVwPndJ5ooFIEjgEpBiCPnGCOCJBMY8G7gSB8w6/R5QJtIgTx4MLnCfQN/JJYr7FbpEjR46oxRFGPifQuBo0DV0igumrr75SiyPQE5xz2N2ERZNwTmhE8uP5j/QyeE+A3rFAjUg/LAZCsywkEC2BaPUZ3B7mXKSLQZQ/DhaG0wRpi/j+Ga1leJ9FAEE0CNBBhDMi6/GtY3374HmNd1Q49pDLGQEOI0aMkFq1aiUDiGc8DnezzsTJmTOnOiCTkaXUWawEItUnAspwNg7eOfH9hDMh8I6AklrEfqx95P0kECkBOqAjJcbrScCHBPAChQ9KRJgi0jlUQdQUDm1DjlNcC2c0tvPggYWCE3ThmMaWc0QLvPHGGyqij4UEYiEAHWHLI/SGXM9WsSKe8NEJPeJDAE5mK8cerrOuwcGFcF7DQY2oKDgJ27Zty8iTWAzDexUBRNJjCy1SvOAQl1AFekNeSOTVgyM6VMGiyjXXXKOc1PggQOQeFklYSCAWApgTkXu0SpUqykGCBRD8DWd0OCd0cLt//vmnyiGNiFI4/ALn2lj6yHvNJeCEPqFFpNHCDhPsOsHhWm+//baULl3aXLAcuWMEsJCBPLjI9fzWW2+FrBdzKRY/ECGNNFqTJk1SB7gGOvSw8AfnX8OGDVVKLurTMRMZXVE0+kT0MyL6kYoDO0FR6Hw2WkaeGzwd0J4zCTtEAs4TgHMZkaDYbgMHNHJDhSpYwYeTGflJkecUL1lW2bdvn+C0cUSe4AUM23NZSCBWAnhhR6QdFjYQvRe41Rb/DccdnCtw7iE6Lzgij7n1YrUA70+LwIQJE5Q+EU2PNC+BeoNjBIe2YkEOUSorVqxQTubgghd/LKTgUDekPEKKGEZGUXdOEMD8OHXqVLVA1759e1UlfoYDsqBbO07owA9TS9+cV52wDutwQp+giBymeC9FWgPszmNOcmrLKQLIh4/nMVIQfvLJJ2oXXqiCd1CkisPiMc7LQU5dlMC5ElHPCNwJtRPKqf6yHrMIRKNPpNtA2g0WEvAqATqgvWoZ9osEHCJgvRxhexm2juGAIkRHpXYoGw7ewMnNiCqFAxqOaKsOfEzA4YI/LCTgFAGs8Ic6wM1KxYEFD+TSQ/SoFTUa7CAJTNtB54lTlmE9IIA8kIi6Cy5WKo4HHnhARU4tXLhQ5SEP/ii17sN2dBxgBCcKCwk4RSDQgWzNg9Cm5YTGB+yDDz6o0nFY+XID50v0g9FRTlmD9QQTcEKfqPPs2bMqdVxgajjSJoFYCOBdEfrs2LGjcj4j1QYinVMrONQNEc44uHXOnDlJ762Babli6Q/vJYFAAk7pk1RJwGsE6ID2mkXYHxKIEwGszCNX7u+//64OzkptOzmaR6RzmzZt1Gr/6NGjeYJznGxierXBL+2pOUGgW5wmjlQyiFQJvA9Ovcsvv9x0lBx/HAgE6zE1fVqLe5YDOtC5hwNkmKooDsZhlakSsBbgwjmhUQHSFuHQIhYScIsA9ekWabZjlwB2OHXo0EFdjv++7bbb1HcPCnaXoFi6xWIzFp0R0PPEE0/YbYLXkUDUBKjPqNHxRo8SoAPao4Zht0ggHgSQ4xlbx1CCc+5a7cF5sn//fpUOAdFSiP7LmjUro57jYRDWmSYB64Uf0Xs4+T44xQGc0p9++qn6GLjhhhtIkwQSQgBpi/AHqTUCdYgDX8eOHasOgOnSpUtC+sZGzSSQmpPv/vvvl6efflqlMBg4cKA6VHjkyJHSq1cvM0Fx1AkhQH0mBDsbDSIQuFsOkc9IW4SCIJxWrVolu9pySCMPOdJxtWjRQu0ywa4my0lNwCTgJAHq00marMtLBOiA9pI12BcSiBOBwMi9wJcsHDjYuXNnyZUrl2oZWxyzZMmi/rtQoUJSuXJlmTlzZpx6xWpJIG0Clm579+6tovYDtzzC+Yyf48RyfBCUKFGCOEnAVQLWxwF2iWBHyYcffii333676gP0+eSTT6qtulg4KVOmjKt9Y2MkEOzkg7MZOaG7deumdpFgQRoHFWGRmTnJqRe3CVCfbhNne6EIBH4fYdcnFo1RENyAdIRWsb6PcJZO3rx55aabbpIPPviAUEkgrgSoz7jiZeUJIkAHdILAs1kScJtAYNqCfv36ybBhw1QXEPnUtm1bqVmzZlKX4JjGIQb4HQ6JQ85nrvC7bTG2ZxGwIkzhKKldu7Y6jAgnjsO5h8PfrLzQJEYCiSDwxhtvyMMPP5z0wYqDCzHH4gRypDjAbhIWEkgEAcvJB+cJcu33799fHeYKbV588cVKn3Q+J8IybBMEqE/qwAsELCcfnMtYTMYzHQUHDbZu3Topdz5+hsPdHn/8cbV7BLtJUPh95AUr6tsH6lNf25o6MjqgTbU8x20cgeCD2Z5//nkZPny4HD9+XL1c3XjjjVKtWjXBIRtY1c+ePbv6OLUOLTIOGAfsKoG0Dg7Eiz62i8+dO1elh8HLP5zPcEjTueeqmYxtLFifgf8eN26ciiodP368ZM6cWS3cweFHfRorF9cHnpY+sUsE28RREKE/efJkOp9dt5DZDVKfZtvf66MP1qe16w79btSokTRu3Fjq1Kkjs2bNUgEQSEu4aNEiueKKK7w+NPZPAwLUpwZG5BCSEaADmoIgAQMIBG7hQfRT6dKl1ainTZumovamTp2qUhmgINq5XLly6kRoRkYZII44DtHSXVrOZTQfqM99+/ZJwYIFVa+s+1555RXl1EMkyurVq+XPP/+kcy+OdjOhamgLfzDfRaLPbdu2pUj3Yh0Qc91118n27dvl0KFD1KcJIorzGGOdP4O7h/ymSMGFyGcsjuA5z0IC0RKgPqMlx/vcIBCNPnfv3i2FCxdW3cO5IxMnTpSlS5cm6y6+n/DtxO8jN6yobxvUp7625cjCE6ADOjwjXkECniUQmFYjtU4GOvewrWz69OnqUCzkL0M5ceKEyguJPLpHjhyRSpUqqT+XXXaZZ8fNjvmDQLA+Q+k1WJ/Il/vQQw9JjRo1kgaJiJOuXbuqf+fOnVtF5jPthj804OVeBua8Rz/t6BPzJ9ITBR42iMMHkSsSWs6TJ4+KjKI+vWx5f/TNqfkTo7XSal1yySVKn3Se+EMDXu4l9ell67Bv0erzvvvuU9HOKLt27ZItW7aoORMHtOO5Xq9evSQnNSmTQLQEqM9oyfE+HQjQAa2DFTkG4wggFUGzZs3UuNNyQgc697BNvE+fPpIzZ04VRRocZWocRA44bgRwWCAWNBYuXKii7CpWrCidOnVS6QkC9RqszyeeeEI58H766SfJly9fUv+QEgb388CsuJnMqIo///xzFdUEnUKfiGhCLkccwIqPzIwZMyoeduZPXIdtuXBIM6euUTKK22Cdnj/RUcypcKxgMe+qq66KW99Zsf4EqE/9beznEcZDn37mwb57iwD16S17sDeJIUAHdGK4s1USiJrAU089JSNGjJC+ffvK0KFDwzqhcQEin3FoG/I6L1myROUtC3SuRN0Z3kgCQQSQqxn6RHSpVZDmoH379sr5ASd0cMoDLI5An9myZVNbw4sVK5ZCn9g63q5dO0aWUnExEcDhgMh/j/kvsNSvX19mz56tcjsGz4125s/Ro0dL8+bNpWzZsjH1jzebTSAe86el5+CIf7NJc/TREKA+o6HGe9wiEA99utV3tqM/AepTfxtzhPYI0AFtjxOvIgFPEHj99ddV+gyr4GGGPyipRUIjOg+OO0SWIuoPzufAKD9PDIyd0IIAokjh3Ktevbo6SRwOZURCT5gwQfbu3StPPvmkWjSBQ9oqU6ZMUc7pIkWKqNQawfq0k2ZGC3gcRNwJYJEDB6/WqlVLsJCHORHba4cNG6ZyN3fo0EHefffdpAhodCjc/El9xt1sxjQQj/kzEF64XOfGgOZAoyJAfUaFjTe5RCDe+nRpGGxGUwLUp6aG5bCiIkAHdFTYeBMJuE9g2bJlKg/upk2blHMPEXeIbArnhEbU04MPPqiuQ2QpHSbu286EFnEQW5cuXQQHsb300ktJOUaRYxyHXPbo0UNFL8OhB8efVU6fPi1t2rRRUfolSpSgPk0QSwLGiMNWkcalbt26gkMtA3PgLliwQG6//XaVnmjevHnJDhnk/JkAYxnYJOdPA43uoyFTnz4yloFdpT4NNLqPhkx9+shY7KorBOiAdgUzGyGB2AicOnVKBg0aJCNHjlSOPDif4VBB5GhaTuhgZzMjn2OzA+8OTeDAgQPK+fzNN9+oPzjAJTDaDtGljRs3lh07dqi8u02bNlUVUZ9UlBsEcLjqPffcIzNmzJD58+dLgwYNkunz0KFDcsstt6gI/I8++kjNq9SnG5ZhGyDA+ZM68DIB6tPL1mHfqE9qwMsEqE8vW4d9SxQBOqATRZ7tkkAEBODMe+CBB+SHH36QsWPHqi3kKHac0BE0w0tJICoCy5cvl+uvv146duwor732Wsg6evbsKa+++qqKhoazj4UE3CKwfv16dWhro0aN5P333w/ZLFJzIEUH9Pvwww+71TW2QwLC+ZMi8DIB6tPL1mHfqE9qwMsEqE8vW4d9SxQBOqATRZ7tkoBNAlYkKaKXkcMZh2WhWD+nE9omSF4WNwIbN26U3r17y3333SetW7dO1o6l0yFDhqg0MGPGjJFu3bqlOIgwbp1jxcYT+O2331TuZzigkQ8/sFj6fPvtt+X+++9POtyVh7QaLxvXAHD+dA01G4qCAPUZBTTe4hoB6tM11GwoCgLUZxTQeIv2BOiA1t7EHKBfCQQ6QIJTFQQ7R1JzQgeeek+Hil+V4I9+7969WwoXLpyis5bukAMNh7zhkMI+ffqo64I1yfzk/rC1H3v5xx9/SP78+VN03XJAI/0GUnMgvz5ymFOffrSyf/vM+dO/tjOh59SnCVb27xipT//azoSeU58mWJljjIQAHdCR0OK1JJBAAuEcyKk5odFlpD648sorVe7dTJkyJXAUbFp3AoG5nwPH+tVXX8mNN94oiIRGqoPAfOQ4BK527dqSJUsW3fFwfAkmkJo+V6xYoVIb4cDW119/Xc6fP580VyJ3dJMmTSRr1qwJ7j2b150A50/dLezv8VGf/raf7r2nPnW3sL/HR336237svXME6IB2jiVrIgFHCOAQt61btwrylsIhUqJECbnmmmts1R3ohH7uuefk6aeflqFDh0r//v2lSpUqsmjRIsmRI4etungRCYQicOzYMcmdO3fEcHD4IPJEI/oZUdBWeffdd+WJJ56Q5s2bywcffBBxvbyBBAIJHDx4UPLlyxcxlJUrV0rNmjXVAYQ4iNAqEydOlLvuukulPlq4cCFTx0RMljcEEuD8ST14mQD16WXrsG/UJzXgZQLUp5etw755iQAd0F6yBvtiPAFEho4aNUrOnDmTxCJz5szy+OOPS48ePeTSSy+VdOnSpekEmTJlitxxxx0qvQFyniK6NG/evALH9tVXX208YwKIngCilw8fPqz0WKRIkYgqsiJMkf8ZeaBR3nvvPZVz9/Tp02pxhPqMCCkvDiIwYMAA+fHHH+XFF1+UMmXKRMQHi36lSpVSB2TioExLn1jEQyqjefPmqUU8FhKIlgDnz2jJ8T43CFCfblBmG9ESoD6jJcf73CBAfbpBmW3oQoAOaF0syXH4ngAOyYIDunHjxvLII48I8uFu2LBBEMkMhzSiR/FzbAXPkCFDSCe0ldbgs88+k9tvv13OnTsnF198sSC/afny5X3PiANIHIHBgwfLoEGDVB5dpCnAn8suu8x2h9auXSuVK1eWnj17yssvvyzvvPOO0jucz9BnhQoVbNfFC0kgmMCwYcOkX79+kjNnTrn55pvVrg+kHbJbdu3aJcWKFUuKgJ4wYYKq79SpU/Ldd99Rn3ZB8rqQBDh/UhheJkB9etk67Bv1SQ14mQD16WXrsG9eJEAHtBetwj4ZR2Dnzp0qWhn5mT///HMpW7ZsEgM450aMGCGzZs2SSpUqyZNPPim33nprCid0YI5oyxkD5zOcJ+XKlTOOKQfsHIEvvvhCLWhgIQQHDR49elQ5khHNbNcJvWrVKpVKplOnTnLdddeptBvIs0vnnnN2MrWmmTNnqgMusf0Rcx1OHce/sWBixwmNuXPbtm1q3sVBhNhBgsh86tNURTk7bs6fzvJkbc4SoD6d5cnanCVAfTrLk7U5S4D6dJYnazODAB3QZtiZo/Q4geXLl6tD2O6//34ZN26ccnwgyjl9+vSq55s2bVIHCSIqDw6WZ599Vh3ohnQcwQVRe3BAI+3Gt99+y8hnj9ve693D4kj37t0FTj7oCg49pCXYu3evPProo7ad0NAwovCLFi2qtI1cvUuWLGFkqdcF4PH+4XRx7AzBRwDmRRy0isWRZcuWReSE3rdvn0rBkT17dpUn/9ChQ9Snx23vh+5x/vSDlcztI/Vpru39MHLq0w9WMreP1Ke5tufIYyNAB3Rs/Hg3CThC4IcffpBrr71W7rzzTpk0aVLIOhGhh/zQb775ptStW1def/11FbEXeKouDi68++671QGG33//PZ3PjljH7EqgzRo1aki9evVUbtxcuXLJJ598og63jMQJvX//fqlWrZrs2bNHpYXBgW7M+Wy2tpwY/ebNm9U8h+h66BMR+dg1goW4pUuX2nZCnzx5UqpXry6o75JLLlG586lPJyxkdh2cP822v9dHT3163UJm94/6NNv+Xh899el1C7F/XiVAB7RXLcN+GUVgy5YtKrIZ0Xdffvml2gYeqvzyyy8ycOBA5QAMPMzNuhbOaOR/xmFZyGfKQgKxEkAe8YkTJ6rcukjDgYJUHDjsEvnJ7TihoUtEqiL1xp9//qmce8xJHqtleL9FYMaMGXLkyBGV3gUFufARXY8c43ac0EjBYd2PxTukO6I+qS8nCHD+dIIi64gXAeozXmRZrxMEqE8nKLKOeBGgPuNFlvXqToAOaN0tzPH5hgDSHLzxxhsqrQEO0EKUaKiycuVKdcgWHH9wNt90003qssBIaN8Mmh31BQHrcEt0FodjIoXG2bNnZfLkyak6oQPvsQa5evVqlRrmiiuu8MW42Un/EbD0ib+RXzw1J3QofWKBDwsthQoV8t/A2WPPEuD86VnTsGP/v2CXMWNGxYLPd0rCawQ4f3rNIuxPIAHqk3oggcgJ0AEdOTPeQQJxIYDI565du6pIPOSBxn+nVhCRetddd8lTTz2l8vLS+RwXk7DSVAhYegvnhMbtSAWD9AgsJOA2gXBOaPRn0aJFUr9+fbe7xvYMJsD502Dj+2Do1KcPjGRwF6lPg43vg6FTnz4wEruYcAJ0QCfcBOwACfxHACkNBgwYIIhGQS7o9u3bJ8ODBxu2i+PgA+QnRaoNpDMIPLCQPEnADQLBL1nICY38zojk79Onj1x00UVKy/g58pbfe++9bnSLbZBAMgKWExo5oZGWA2lkRowYIUWKFFE7TaDPF154QXr37k1yJOAaAc6frqFmQ1EQoD6jgMZbXCNAfbqGmg1FQYD6jAIabzGKAB3QRpmbg/UqATiV06dPr7rXo0cPGTt2rHJCv/3229KuXTvJli2b+h0iTrNkyaKc0JdeeqnUqVNHpeFgIYFEEEhtpb9nz56CQ91waGaePHlUHl7kOGchgUQQCI6ExmGvSHE0ZswYlXIDqToqVqyYiK6xTYMJcP402Pg+GDr16QMjGdxF6tNg4/tg6NSnD4zELiaMAB3QCUPPhkkgOQEr9x5++vDDD6t80IhsRg7TNm3aSOXKlZNuGD16tDz22GMqBQeiptOlS6f+sJCA2wSslyw4nL/66isV9YwDB/FvOPkWL17MA93cNgrbS0EAi3c//vijPPHEE4I8+ufPn1f6hPOZiyMUTKIIcP5MFHm2a4cA9WmHEq9JFAHqM1Hk2a4dAtSnHUq8xkQCdECbaHWO2XUCdnI04xoUy5Hct29feeWVV5SjpEyZMnLrrbeqKD1EkyIHNKKi4dwrVqyY6+Nhg/oQCIy+T2tUaWkYGs2UKZPgMA6kjZk+fTqdz/pIxBcjCdZn4L8DD4m555575N1336U+fWFVfTrJ+VMfW+o4EupTR6vqMybqUx9b+mkk/D7yk7XYVz8RoAPaT9ZiX31HYP/+/SpVBkpaL1CBD7lt27ZJiRIl1D3IAz1t2jT5/PPPk40dEXtTpkxhZKnvFOGtDmOBo0aNGlKrVi0JjMAP7mWgPv/44w/Jnz9/yIFYOcwZWeotO/u1N5Ymwy3gBerzt99+k8svvzzkkJ999lnBH0bm+1UR/uw3509/2k2nXtt9/+TzXSer6zEWzp962NFvo+D3kd8sxv76iQAd0H6yFvvqKwITJkyQqVOnStWqVVWajNRK4MvVuHHjVBqDRx55RJo2bapuOXr0qNo6jj9HjhxRBw9ee+21UqhQIV/xYGe9RQDpW3AYG3Q2Z84c2/qEDh966CGpVKlSsnuQ7/nxxx+XSy65RBYtWsTFEW+Z25e9CV4UCbVIEmr+7NWrlzRq1CjZmN955x3p2rWr5M6dW+0iKV++vC+ZsNPeIWAnOipYn5w/vWM/3XuCd0ccBmyVwJ0g1s+oT91V4M3x4R2ybNmy8uijj6bZQerTm/bTvVf8PtLdwhxfognQAZ1oC7B9LQkgfQacezjgavjw4dKxY0fl+AgugS9XyPncp08fdWjbqlWrkiKntQTEQSWUAPKHI4945syZ1WGXH3zwgbRu3TpFlH7wyz8czHnz5pU1a9aovwML0sF069ZNPv74Y7nqqqsSOj427m8C2PWBPM1LlixRue9Lliwp3bt3V1oNLJHMn6tXr5b+/fvLyJEjmfPZ3/JIeO/xfK5WrZrqR1pOaM6fCTeVkR346KOPZN68eTJjxgy10IY5FNF8KIGLeNSnkfJI+KBxDsPLL78sN9xwg7z//vvqmydUoT4TbiojO8DvIyPNzkG7TIAOaJeBszn9CQwdOlQ5Olq1aiVPP/201KxZM+yg4XzGYYPZs2dXh2Ihr7Od6KqwFfMCEggiYL1c3XzzzerFH/lwEXFvfaCGAobIfGg5NX1a23tPnz6tcpOzkEC0BLB498ILL6jbcQgr5kHoC7s+ENl83XXXSb58+ZItloSbPwNPI8+SJUu0XeN9JCBPPvmkOiAYC3h33323IhLuWc35k8JxiwCe088//7xarMMiMQ4DPnHihLRr104++eSTkN2gPt2yDtux3j9vv/12dWA1oqDDFeozHCH+3ikC/D5yiiTrIYG0CdABTYWQgIME1q5dK9dff70UKVJEkILDigRNK78u8jvfeeedyhmIreFXXHGFOswtONrPwW6yKkMJWC9X+BjFR+rhw4flmmuuUTTmz5+vnHvBBdHRnTp1UppGlHNa+gyXq9dQ7By2TQJwPMMB3aRJE7WIV7BgQdm3b5/06NFDMLcWLVpU8OGK7bvQIQrnT5tweVnMBLBIh0UQFOQZx2IzdjehpOaE5vwZM3ZWYJNAv379ZNiwYdKgQQMZMmSIlC5dWnbu3ClYbN6zZ498+umn6r8DC/VpEy4vi5lA4Pvn4MGD1eHqqc2d1rsk9RkzdlZgkwC/j2yC4mUk4AABOqAdgMgqSMAigJzPt912W4oXfTj6duzYoVJr4EO1RYsWyuGM/HyHDh2S+++/X1566SUV+ZyWs5qkSSBaAnCcwIEC5zMOYrMiT6yf4+ULDsD06dOrP1Y5ePCg3HTTTWqrJA7HpD6jtQDvS4sADl9t1qyZnD9/Xr788kupWLFiUpQznCddunSRr7/+WqUmQroYOKrhhMb8+cADD6jUGpw/qbF4Efj222/lrrvuUg699u3bq2hSaPHFF19M0wnN+TNeFmG9gQSQ4x4psJD7HppE8IP1rB47dqxaxHvrrbdUHvzAgkMHMZ/y+U49xZOAlVMXwTb47+A0befOnVN6Dd5BR33G0yqs2yLA7yNqgQTcJUAHtLu82ZqmBKzVejj28AcHDcGBgrJ8+XJ5/fXXBXlNT506pX6GnKY4/O3hhx9O9qHAyGdNBZLgYVlpDeA4GTRokIo8sT5OkSsSiybIV470L3DqWXq2rrH+TX0m2JAaN498z/Xq1VNz4muvvaZ2gVgpOPD377//LjVq1JC9e/eqgy6R/gCFA6dvAAAY8ElEQVQ5yRElTX1qLAwPDO3PP/8U5C2Fk693795q6zicfJhL03JCc/70gPEM6MK6deukbdu2cuzYMfnss8/UPIk5EfrDTrqJEyeqxRNEQCMlHN5DixcvnrTQbOmUz3cDxJKAISK4BvMmdtFhcRkHWFua+/XXX+X7779XaY2QKgbfRhUqVFBzbLp06VRvrd0l1GcCjGdAk/w+MsDIHKLnCNAB7TmTsEN+JoCDB7G6j0Pa8JL1888/qy27SG+AqGdEkP7www/yyy+/CE4ohxP61VdfTdqK5uexs+/eJIAIPLzMIz8z8pdakc+BTmZEQM2cOVNF4kOPOJwwsDC1hjdtq1Ovpk+fLrfeequKxsNOEjidrWJ9eMKJggO24PSDnv/3v/+pLeX8MNVJCd4by9mzZ6Vx48Zy4MABmTJlinq2w9mHHSXhnNAYDedP79lUpx7BiQd9YhdTz5491dAsBx8iSLHradGiRep9EwvOKHBEDxw4UOrWrSs5cuTQCQfH4jEC2KUEnW3evFlpEeeOINIZu0pwGOHs2bPVzifoEM9yzLdIB4eofCww43eZMmXy2KjYHR0I8PtIBytyDH4kQAe0H63GPnuWgJWCA44S5ICeNGmS2jqOD1Uc9IYCxwmuGzVqlIqUvu+++1Q0Ve7cuT07LnbM3wT279+vop3y58+fbCBWZAmi9Nu0aSOFCxdWjmg4+MIdrOVvIuy91wjg4xQHDUJ7cCwjjykioOC8wx/oF7nIkYcc8ytySOJ6OFaCF0y8Njb2x78ELOcxoqDhMEE6IqscP35cPdvhyLOTjsO/FNhzrxOAE/qyyy5TTjxLs3D84awHRKBWqVJFGjZsqPLoIwp1wYIFKmUR0nMgOIKptbxuYX/2z1ocPnLkiNrhtGHDBrXQjEPX8QxHxD6CdLCAgrz6OPMB30qbNm1S6WTmzp2rFqO5iOdP+/uh1/w+8oOV2EfdCNABrZtFOR7XCIR6IUJUc7Vq1VR0FLaRI+cePlJXrlyp+mW95J85c0Y+/vhjFZGaNWtW5VTBhwELCThFAPpEsbYxplUvXvrh3EOOXRxehI8DFhKIJ4Hg+RMfqHAswzmClDCI2keqGCsSGs6UqlWrqsgoOKhbtWqlovlwSNEdd9wRz66ybsMJBDvnAv+N5zsWk0NFQiOvKRdHDBdPgoaPBWSkg8PzHJHPCIbIly+fWsjDXAqnNJzTderUUe+fLCQQLwKhnNBY/MC5OJg7H3300WRN7969W50HsXHjRvWNNHz48Hh1jfWSQFgC/D4Ki4gXkEDEBOiAjhgZbyCB0ASsbWJIYYB8Z4jgw4tUoUKFlKMkOKIUkdCIBMD2M2xJ69y5M9GSQNwIhIsg+eqrr+TGG29UTj9E6AcfEhO3jrFiEvh/AlgAwSFFSHXQvHlzadKkiXKe4EMVjhRET2GuxDZeK2c0ok/xh4UEEkUgrUho9Ontt99WOkZ+fRYScIvA2rVr1UIeokxR8A6A91As6iEPNHJFr1+/Xh2OjQhpFhKIF4FAJ3Tt2rVVOg6kKxw2bFiSNhEsYS3uLV26VC02Iwoa76aBB2PHq4+slwRSI8DvI2qDBJwlQAe0szxZmwEEVq9erQ7Ewp9rrrlGOZiRusAqeLHClrJZs2apH5UuXVrlfcYhb5YTGjnOsmTJolJvYIV//Pjx6lAtFhKIlUA4faZWPz5IEUkK3cLJ16FDB257jNUYvD8FgXD6xIs+5k84nbGolytXLrWLBOljcEAhDh7ENnPk0cciyT333CNvvvkmSZOAIwQwD2bPnj3iugKd0AUKFFA7oLBQgoUTLJDAAQ1t41A4FhKIloBdfQZH7QfmybfeP5E///PPP1eHD8MpyEICsRJIS5+WBg8fPqwWmh944AGV+i1UwXcUdpPiwGHsIMWcSid0rNbh/Xbnz2BS/D6idkjAWQJ0QDvLk7VpTgDbbMeMGSN4gUJBJEn58uXV4S/YPm4VbGns06ePyvGMl/2HHnpIHbYBpzPSbyDtBgocfjiZHLkla9WqpTk9Di/eBOzqM7V+IHofhxjhsMyFCxeqU8tZSMApAnb1uWLFCpXbefLkyWoRpFy5cnL77berHKbWgVnI24ecp8gXiTy8LCQQKwFs9T5x4oSaA4Pz5dupG05opDZAblPkhEZ6g2nTpknevHlVeqOKFSvaqYbXkEBIArHqE5UG7sTDYZpwCsLBx4MIKbpYCdjRp+WEDvwOCmzXWjhBgA8OzK5fv746l4SFBGIlYEefabXB76NYLcD7SeA/AnRAUw0kYJMAPirhQEGkSNeuXVUevZ9//lkmTpyoaoAjpFu3biriGQWHvCAHH5wpyAOJFBtwQlunOePwF0Tz4SMAkVHIz8dCAtESsKPP7t27y5VXXpmiCSs9B/5G2gMsoGDbODTLw4mitQjvCyRgR5+B8yfuRQ5daBILd8EFO0ewgwTbywMPhiN1EoiGAJ7V+INFN0Ta33vvvcpxHEmBcw96xYcu6sLcefHFF6v5FAvVLCQQLQGn9GlFkVr1IQoV76XZsmWLtmu8jwTUfGd3/gxMBxf434GLI0hjiMW85557TqXqQHoOO+eZ0BQkEIpAJPoMvp/fR9QUCThPgA5o55myRg0JIJceTmnGQYE49Aor81b58MMPpX///rJ9+3Zp27atinyuXr26+jVSb+AgQkRBwWFdoUIFFc138OBB5aBGlBWinwPr0xAfhxRnApHoEy/zOMwtuFgv/9g6jkNhkMMcGmUhgVgJRKJPOJax9Ta4BC6E4BDCp59+WuXUxeJdwYIFY+0i7zeYABYx2rdvr1K+4JmMv+EAuf/++207oQP1CW3igDc4n5HeAM98FhKIloAT+gx07uGdtG/fvpInTx755ptvmJs8WsPwPkXACX0GOqLxfMf8i9SGc+fO5U486iwmAk7ok99HMZmAN5NACgJ0QFMUJGCDwIwZM1SUHSKb4CDBNjJEkljRJFa0M7aNI68eVlvhbEbBCbo46AXR09u2bZO9e/cKToC++uqrVQSfFTFtoxu8hARCEohUn8hLmlpEHlIblCxZUh1SBK1iKzkLCcRCwCl9Yi7FHIwc5YjYw7xL514sluG9WDjGzhAcBowDsXCmQ79+/eTkyZNqh1IkTmjQxGL00KFDVe5SvA8w8pkai4WAk/rEwdc4lPC9995T765wPlOfsViH9zqlTzj4kP4IC3dYIIE+8XynPqmxWAg4pU+rD/w+isUavJcE/iNABzTVQAI2CHzyyScqXzM+TLGV3CqBq/Y4tRm/R+5cbN9Fvigr1zOuR84z5I7euXOnlClTRqXiwAFbLCQQK4Fo9IlIZ6Q2CLUFElH9VapUoXMvVsPwfkXACX0iwhTbxSdMmCB169ZVH6mYR1lIIBYCS5YskXr16qnUQ8g5jkMC33//fbXQEakTGruZcHjrsWPHVOotOk9isQzvBQEn9ImIfkQBvvDCC4JDYGvUqKEW8Th/UmOxEnBKn9OnT1f6XLNmjXr3DN5pGms/eb+ZBJzQp0XOioLm95GZWuKonSVAB7SzPFmbpgQQyYQDsJBaAw+fwDy6gQ48XIdoKuSGHj16tPTo0UMRCdyeG3i9prg4LJcJxKrP4O5Soy4bUPPmnNInHHvz589XDugCBQpoTo3Dc4MAdnpgMQN6wiIzCg4TxHMeEdGROKERYYqFPeyCKlWqlBvdZxuaE3BKn6tWrZJ33nlHihcvrhZJcIArCwnESsApfWJh5I033lDptB588EGVfoOFBGIl4JQ+A/vB76NYrcL7SUCEDmiqgARsEMBDrE2bNuowIUQ233fffckiRwMfSFjJv/XWW1V0M6KhsZrPQgLxJEB9xpMu646VgBP65GGYsVqB96dGABGi1uHAls6wHRxReKk5oYP1GFgHSZOAkwSc0Cf6A01j15OldSf7yLrMJeCUPo8ePap2jQbuHDWXKkfuFAEn9BmYQ9+pfrEeEjCZAB3QJlufYw9LIPCh88orr0ivXr3UwS2zZs2SmjVrphrZbOWBnDRpktx5553JnNVhG+UFJGCTAPVpExQvSwgB6jMh2NmoTQKpLWpYC8rhnNBoZt26deo8BxYScJoA9ek0UdbnJAHq00marMtpAtSn00RZHwk4R4AOaOdYsiYNCGALLVbhcQBGqMPXOnbsqLbm4nR75HvEQYOBThbrv3Fyc4sWLaRz584q1x637GggDg8Mgfr0gBHYhVQJUJ8Uh5cJpKbPUNFNqTmhH3vsMcGf7NmzqwMHR44cKVhobtu2rZeHzr75gAD16QMjGdxF6tNg4/tg6NSnD4zELpLA/xOgA5pSIIH/J4DcjdOmTRPkysNBRA0aNJAbb7xRpd7AifYo2MqD/I4zZ85UTuh58+ZJ1apVkxieO3dOMmfOLAcPHlQObOQyGzt2LBmTQMwEqM+YEbKCOBKgPuMIl1XHTCCcPkNFS6XmhO7du7ccOnRIOZ9z584ty5cvl7Jly8bcR1ZgLgHq01zb+2Hk1KcfrGRuH6lPc23PkfuTAB3Q/rQbe+0wgaeeekpGjBihDma59tprZdOmTbJ7926VMw+HDyKKuWjRoqpVOJfvuusu5YRGOo4333xTOasDI6ZxmnPfvn0FaTseeeQRRkA7bC/TqqM+TbO4v8ZLffrLXqb11q4+Q+1Usn6GnVGfffaZDBo0SO2SwoGYWITGuRDly5c3DSnH6yAB6tNBmKzKcQLUp+NIWaGDBKhPB2GyKhJwiQAd0C6BZjPeJTBlyhRp3769tGrVSp577jmpWLGi7NmzR3Aq89ChQ2XFihXqRGYcLli9enU1EByqBSf01KlTJVu2bHLDDTdIy5Yt1YGDuG7cuHFqiy7SdFx++eXeHTx75nkC1KfnTWR0B6lPo83v+cFHo8/gQVmHGJ05c0a9K3z55Zd0Pnve8v7oIPXpDzuZ2kvq01TL+2Pc1Kc/7MRekkAwATqgqQljCViRTT179pRXX31VFixYoCKZA/NBIqVGhw4dVGqOggULqr9x+KBVBg4cKJ9++qls2LAhGccSJUrIF198wcgoY9UV+8Cpz9gZsob4EaA+48eWNcdOIBZ9pnZ4ERakkfcZkc/fffedlCtXLvaOsgYjCVCfRprdN4OmPn1jKiM7Sn0aaXYOWiMCdEBrZEwOJTICeIDhQxPRy8jlvGXLFilZsmSSAzrwI7RLly7qoCE4of+vvfsLzbmN4zj+XZvCFiFxImFYLPkTZw6cGJLkRCSK2AE7mH+ZSZSW/AmJhjSTEwca5c9IsWVNtzgiHGmiUErGhNWeruvpHtt4up/7d133ff15r9Qeu3/X73u9vp+Dp6/frl9ra6uUlpb23uz58+eSSqX0k9JqeK2eglZPQ/Pk8//rB5/uK0A+SYTLAuTT5e5QW9J89n8xoTqiS/2qr3ofhPp/AI7dIGNJBMhnEj2utS1APm0Ls34SAfKZRI9rEci/AAPo/PeACvIsoI7SuHjxov6zZs0aPZQuLCzUVf3+/apVq+Ty5cv6pYO3bt2S0aNH96n8T+dH5nlr3D4AAfIZQBMD3gL5DLi5AWzNVD6vX78u1dXV+hzo6dOnByDDFlwQIJ8udIEa/iZAPsmGywLk0+XuUBsCfxdgAE06ohVIP+HU0NAgGzZskIqKCj1Y7j94Tg+h1YB5wYIF+umnPXv2yN69e/WguqCgIFpDNm5PgHzas2Xl5ALkM7khK9gTsJHPr1+/SnFxsb2iWTkaAfIZTau93Cj59LJt0RRNPqNpNRsNVIABdKCNZVsDBf72hHJHR4fMnz9f3rx5I1VVVXLixAl98e+/gtvd3S1FRUXy+PFjWb58uX4pYXt7O8NngmZMgHwao2QhCwLk0wIqSxoTsJnP9Nr8lpOxdkW3EPmMruVebZh8etWu6Ioln9G1nA0HLsAAOvAGs71fAq9fv5b379/L58+fZdiwYTJ37tzeH965c0dWrFghXV1dcuDAAdm9e7f+Wf+XEXV2dor6lZ+mpiZpaWnRg2u+EDAhQD5NKLKGLQHyaUuWdU0IkE8TiqxhS4B82pJlXRMC5NOEImvYEiCftmRZF4H8CDCAzo87d82xwMmTJ0UdtfH06VNRTzMPGTJE1q5dK8eOHZPBgweL+tXa06dP6zfcq2M11BEbNTU1fYbQ6aeg1ee2bNkizc3NsnDhwhzvhNuFKEA+Q+xqOHsin+H0MsSdkM8QuxrOnshnOL0McSfkM8SuhrMn8hlOL9kJAmkBBtBkIXiBHTt2yNGjR6WkpEQ/sayGzW1tbfrpZjWEvnDhgjZQR3CcOXNGDh8+rI/f2Lp1qxw8eHCAjzov+tKlS/LkyRNeRhR8euxvkHzaN+YO2QuQz+ztuNK+APm0b8wdshcgn9nbcaV9AfJp35g7ZC9APrO340oEXBZgAO1yd6gtsYB6wnnbtm2ybNky/XTznDlz5MePH/r4jCVLlughtPrX1c2bN/cOoRsbG6Wurk6+ffumj+XYuXOnTJo0SUaNGiX19fVSW1srU6dOlRs3bsiIESMS18gC8QqQz3h778POyacPXYq3RvIZb+992Dn59KFL8dZIPuPtvQ87J58+dIkaEchOgAF0dm5c5YGAemHgypUr9YsCr1y5IjNmzNBVp18uePz4cdm+fbts2rRJH7+R/lJnRN++fVsqKyvl06dPMnz4cD1oLi4ulmfPnsmYMWPk3r17UlZW5oECJboqQD5d7Qx1KQHySQ5cFiCfLneH2sgnGXBZgHy63B1qI59kAIGwBRhAh93fqHd36NAh2bVrlz4uY/Xq1QMs7t69q89wLi0tlYcPH8rIkSP7fObly5dy9uxZ/TM1eB4/fryUl5fLvn37ZPLkyVHbsvnkAuQzuSEr2BMgn/ZsWTm5APlMbsgK9gTIpz1bVk4uQD6TG7KCPQHyac+WlRFwQYABtAtdoAbjAupojf3790tTU5Ncu3ZNJk6cOOAenZ2dMmvWLP33qVSqzwA6/ZS0Wkd9/+rVKxk7dqwMGjRIv8CQLwSSCJDPJHpca1uAfNoWZv0kAuQziR7X2hYgn7aFWT+JAPlMose1tgXIp21h1kcg/wIMoPPfAyqwJPDhwwf9osBFixb98Q7qjOeZM2fKx48f5dGjRzJhwgT9uZ6eHn1sR//vLZXJspEKkM9IG+/JtsmnJ42KtEzyGWnjPdk2+fSkUZGWST4jbbwn2yafnjSKMhHIUoABdJZwXOaXQPqJ5nTV6f+eN2+eqKM21AB6ypQpvedDq8/9/PlTP/HMFwK2BcinbWHWTyJAPpPoca1tAfJpW5j1kwiQzyR6XGtbgHzaFmb9JALkM4ke1yLgpgADaDf7QlU5Eli8eLE+fkMNoH8/pqO+vl6/hOvIkSP6JYR8IZAPAfKZD3XumakA+cxUis/lQ4B85kOde2YqQD4zleJz+RAgn/lQ556ZCpDPTKX4HALuCTCAdq8nVJQDgfS/qFZUVMj9+/elvb1dZs+ere/c2NgoNTU18u7dO+no6JBx48bloCJugcAvAfJJGlwWIJ8ud4fayCcZcFmAfLrcHWojn2TAZQHy6XJ3qA2BzAQYQGfmxKcCE1AvOSgsLJSlS5fKzZs39dPO6oWEDQ0NUltbK9+/f5eWlhYpLy8PbOdsxwcB8ulDl+KtkXzG23sfdk4+fehSvDWSz3h778POyacPXYq3RvIZb+/ZeTgCDKDD6SU7yUJg3bp1cvXqVWltbZUXL15IdXW1dHV1yYMHDxg+Z+HJJWYFyKdZT1YzK0A+zXqymlkB8mnWk9XMCpBPs56sZlaAfJr1ZDWzAuTTrCerIZBLAQbQudTmXs4I9PT0SEFBgWzcuFHOnz8v69evl+bmZvny5QvDZ2e6FG8h5DPe3vuwc/LpQ5firZF8xtt7H3ZOPn3oUrw1ks94e+/DzsmnD12iRgT+W4ABNAmJUiB9hlRlZaWcO3dOD6NLSkqkra2NJ5+jTIRbmyafbvWDavoKkE8S4bIA+XS5O9RGPsmAywLk0+XuUBv5JAMI+C/AANr/HrKDBAKnTp2SqqoqGTp0qKRSKZk2bVqC1bgUAbMC5NOsJ6uZFSCfZj1ZzawA+TTryWpmBcinWU9WMytAPs16sppZAfJp1pPVEMilAAPoXGpzL+cE3r59K3V1dXoIXVZW5lx9FBS3APmMu/+u7558ut6huOsjn3H33/Xdk0/XOxR3feQz7v67vnvy6XqHqA+BvwswgCYd0Qt0d3dLUVFR9A4AuClAPt3sC1X9K0A+SYLLAuTT5e5QG/kkAy4LkE+Xu0Nt5JMMIOCnAANoP/tG1QgggAACCCCAAAIIIIAAAggggAACCCCAgPMCDKCdbxEFIoAAAggggAACCCCAAAIIIIAAAggggAACfgowgPazb1SNAAIIIIAAAggggAACCCCAAAIIIIAAAgg4L8AA2vkWUSACCCCAAAIIIIAAAggggAACCCCAAAIIIOCnAANoP/tG1QgggAACCCCAAAIIIIAAAggggAACCCCAgPMCDKCdbxEFIoAAAggggAACCCCAAAIIIIAAAggggAACfgr8A6juWzn66EfCAAAAAElFTkSuQmCC\" width=\"960\">"
      ],
      "text/plain": [
       "<IPython.core.display.HTML object>"
      ]
     },
     "metadata": {},
     "output_type": "display_data"
    }
   ],
   "source": [
    "stock_df.plot(x='Date',y='Close',kind='line')\n",
    "plt.title(\"Closing Price for GOOGL 2006-2018\")\n",
    "plt.xticks(rotation=45)\n",
    "plt.ylabel(\"Price (USD)\")\n",
    "plt.grid()\n",
    "plt.show()"
   ]
  },
  {
   "cell_type": "code",
   "execution_count": 90,
   "metadata": {},
   "outputs": [
    {
     "name": "stdout",
     "output_type": "stream",
     "text": [
      "      Close\n",
      "0 -0.813896\n",
      "1 -0.803418\n",
      "2 -0.797122\n",
      "3 -0.782042\n",
      "4 -0.780745\n",
      "         Close\n",
      "3014  0.966055\n",
      "3015  0.959759\n",
      "3016  0.947942\n",
      "3017  0.939053\n",
      "3018  0.933720\n"
     ]
    }
   ],
   "source": [
    "stock = stock_df[['Close']]\n",
    "min_val = float(stock.min(axis=0))\n",
    "max_val = float(stock.max(axis=0))\n",
    "stock_scaled = 2*((stock-min_val)/(max_val-min_val))-1\n",
    "print(stock_scaled.head())\n",
    "print(stock_scaled.tail())"
   ]
  },
  {
   "cell_type": "code",
   "execution_count": 93,
   "metadata": {},
   "outputs": [],
   "source": [
    "def split_train_test(dataset,percentage,lookback):\n",
    "    data_raw = dataset.to_numpy()\n",
    "    data = []\n",
    "    \n",
    "    for index in range(len(data_raw) - lookback): \n",
    "        data.append(data_raw[index: index + lookback])\n",
    "        \n",
    "    data = np.array(data);\n",
    "    train_size = int(percentage*data.shape[0])\n",
    "    test_size = data.shape[0]-train_size\n",
    "    \n",
    "    x_train = data[:train_size,:-1,:]\n",
    "    y_train = data[:train_size,-1,:]\n",
    "    \n",
    "    x_test = data[train_size:,:-1]\n",
    "    y_test = data[train_size:,-1,:]\n",
    "    \n",
    "    return x_train, y_train, x_test, y_test, data\n",
    "\n",
    "x_train,y_train,x_test,y_test, df = split_train_test(stock_scaled,80,20)"
   ]
  },
  {
   "cell_type": "code",
   "execution_count": 95,
   "metadata": {},
   "outputs": [],
   "source": [
    "x_train = torch.from_numpy(x_train).type(torch.Tensor)\n",
    "x_test = torch.from_numpy(x_test).type(torch.Tensor)\n",
    "y_train = torch.from_numpy(y_train).type(torch.Tensor)\n",
    "y_test = torch.from_numpy(y_test).type(torch.Tensor)\n",
    "df = torch.from_numpy(df).type(torch.Tensor)"
   ]
  },
  {
   "cell_type": "code",
   "execution_count": 32,
   "metadata": {},
   "outputs": [],
   "source": [
    "input_dim = 1\n",
    "hidden_dim = 32\n",
    "num_layers = 2\n",
    "output_dim = 1\n",
    "num_epochs = 1000"
   ]
  },
  {
   "cell_type": "code",
   "execution_count": 33,
   "metadata": {},
   "outputs": [],
   "source": [
    "class LSTM(nn.Module):\n",
    "    def __init__(self,input_dim,hidden_dim,num_layers,output_dim):\n",
    "        super(LSTM,self).__init__()\n",
    "        self.hidden_dim = hidden_dim\n",
    "        self.num_layers = num_layers\n",
    "        \n",
    "        self.lstm = nn.LSTM(input_dim, hidden_dim, num_layers, batch_first=True)\n",
    "        self.fc = nn.Linear(hidden_dim, output_dim)\n",
    "        \n",
    "    def forward(self,x):\n",
    "        h0 = torch.zeros(self.num_layers, x.size(0), self.hidden_dim).requires_grad_()\n",
    "        c0 = torch.zeros(self.num_layers, x.size(0), self.hidden_dim).requires_grad_()\n",
    "        out, (hn, cn) = self.lstm(x, (h0.detach(), c0.detach()))\n",
    "        out = self.fc(out[:, -1, :]) \n",
    "        return out"
   ]
  },
  {
   "cell_type": "code",
   "execution_count": 34,
   "metadata": {},
   "outputs": [],
   "source": [
    "model = LSTM(input_dim=input_dim,hidden_dim=hidden_dim,num_layers=num_layers,output_dim=output_dim)\n",
    "criterion = nn.MSELoss()\n",
    "lr = 0.01\n",
    "optimiser = torch.optim.Adam(model.parameters(), lr=lr)"
   ]
  },
  {
   "cell_type": "code",
   "execution_count": 35,
   "metadata": {},
   "outputs": [
    {
     "name": "stderr",
     "output_type": "stream",
     "text": [
      "  0%|                                                                                 | 1/1000 [00:00<04:12,  3.95it/s]"
     ]
    },
    {
     "name": "stdout",
     "output_type": "stream",
     "text": [
      "--- Iteration 1: training loss = 0.2976 ---\n"
     ]
    },
    {
     "name": "stderr",
     "output_type": "stream",
     "text": [
      "\r",
      "  0%|▏                                                                                | 2/1000 [00:00<04:23,  3.78it/s]"
     ]
    },
    {
     "name": "stdout",
     "output_type": "stream",
     "text": [
      "--- Iteration 2: training loss = 0.2711 ---\n"
     ]
    },
    {
     "name": "stderr",
     "output_type": "stream",
     "text": [
      "\r",
      "  0%|▏                                                                                | 3/1000 [00:00<04:16,  3.89it/s]"
     ]
    },
    {
     "name": "stdout",
     "output_type": "stream",
     "text": [
      "--- Iteration 3: training loss = 0.2557 ---\n"
     ]
    },
    {
     "name": "stderr",
     "output_type": "stream",
     "text": [
      "\r",
      "  0%|▎                                                                                | 4/1000 [00:01<04:13,  3.93it/s]"
     ]
    },
    {
     "name": "stdout",
     "output_type": "stream",
     "text": [
      "--- Iteration 4: training loss = 0.2455 ---\n"
     ]
    },
    {
     "name": "stderr",
     "output_type": "stream",
     "text": [
      "\r",
      "  0%|▍                                                                                | 5/1000 [00:01<04:09,  3.99it/s]"
     ]
    },
    {
     "name": "stdout",
     "output_type": "stream",
     "text": [
      "--- Iteration 5: training loss = 0.2335 ---\n"
     ]
    },
    {
     "name": "stderr",
     "output_type": "stream",
     "text": [
      "\r",
      "  1%|▍                                                                                | 6/1000 [00:01<04:05,  4.05it/s]"
     ]
    },
    {
     "name": "stdout",
     "output_type": "stream",
     "text": [
      "--- Iteration 6: training loss = 0.2191 ---\n"
     ]
    },
    {
     "name": "stderr",
     "output_type": "stream",
     "text": [
      "\r",
      "  1%|▌                                                                                | 7/1000 [00:01<04:01,  4.11it/s]"
     ]
    },
    {
     "name": "stdout",
     "output_type": "stream",
     "text": [
      "--- Iteration 7: training loss = 0.2012 ---\n"
     ]
    },
    {
     "name": "stderr",
     "output_type": "stream",
     "text": [
      "\r",
      "  1%|▋                                                                                | 8/1000 [00:02<04:05,  4.03it/s]"
     ]
    },
    {
     "name": "stdout",
     "output_type": "stream",
     "text": [
      "--- Iteration 8: training loss = 0.1873 ---\n"
     ]
    },
    {
     "name": "stderr",
     "output_type": "stream",
     "text": [
      "\r",
      "  1%|▋                                                                                | 9/1000 [00:02<04:08,  3.98it/s]"
     ]
    },
    {
     "name": "stdout",
     "output_type": "stream",
     "text": [
      "--- Iteration 9: training loss = 0.1738 ---\n"
     ]
    },
    {
     "name": "stderr",
     "output_type": "stream",
     "text": [
      "\r",
      "  1%|▊                                                                               | 10/1000 [00:02<04:10,  3.95it/s]"
     ]
    },
    {
     "name": "stdout",
     "output_type": "stream",
     "text": [
      "--- Iteration 10: training loss = 0.1634 ---\n"
     ]
    },
    {
     "name": "stderr",
     "output_type": "stream",
     "text": [
      "\r",
      "  1%|▉                                                                               | 11/1000 [00:02<04:13,  3.91it/s]"
     ]
    },
    {
     "name": "stdout",
     "output_type": "stream",
     "text": [
      "--- Iteration 11: training loss = 0.1503 ---\n"
     ]
    },
    {
     "name": "stderr",
     "output_type": "stream",
     "text": [
      "\r",
      "  1%|▉                                                                               | 12/1000 [00:03<04:02,  4.07it/s]"
     ]
    },
    {
     "name": "stdout",
     "output_type": "stream",
     "text": [
      "--- Iteration 12: training loss = 0.1417 ---\n"
     ]
    },
    {
     "name": "stderr",
     "output_type": "stream",
     "text": [
      "\r",
      "  1%|█                                                                               | 13/1000 [00:03<04:10,  3.95it/s]"
     ]
    },
    {
     "name": "stdout",
     "output_type": "stream",
     "text": [
      "--- Iteration 13: training loss = 0.1325 ---\n"
     ]
    },
    {
     "name": "stderr",
     "output_type": "stream",
     "text": [
      "\r",
      "  1%|█                                                                               | 14/1000 [00:03<04:07,  3.99it/s]"
     ]
    },
    {
     "name": "stdout",
     "output_type": "stream",
     "text": [
      "--- Iteration 14: training loss = 0.1236 ---\n"
     ]
    },
    {
     "name": "stderr",
     "output_type": "stream",
     "text": [
      "\r",
      "  2%|█▏                                                                              | 15/1000 [00:03<04:02,  4.06it/s]"
     ]
    },
    {
     "name": "stdout",
     "output_type": "stream",
     "text": [
      "--- Iteration 15: training loss = 0.1161 ---\n"
     ]
    },
    {
     "name": "stderr",
     "output_type": "stream",
     "text": [
      "\r",
      "  2%|█▎                                                                              | 16/1000 [00:04<04:04,  4.02it/s]"
     ]
    },
    {
     "name": "stdout",
     "output_type": "stream",
     "text": [
      "--- Iteration 16: training loss = 0.1098 ---\n"
     ]
    },
    {
     "name": "stderr",
     "output_type": "stream",
     "text": [
      "\r",
      "  2%|█▎                                                                              | 17/1000 [00:04<04:02,  4.06it/s]"
     ]
    },
    {
     "name": "stdout",
     "output_type": "stream",
     "text": [
      "--- Iteration 17: training loss = 0.1042 ---\n"
     ]
    },
    {
     "name": "stderr",
     "output_type": "stream",
     "text": [
      "\r",
      "  2%|█▍                                                                              | 18/1000 [00:04<04:11,  3.90it/s]"
     ]
    },
    {
     "name": "stdout",
     "output_type": "stream",
     "text": [
      "--- Iteration 18: training loss = 0.0990 ---\n"
     ]
    },
    {
     "name": "stderr",
     "output_type": "stream",
     "text": [
      "\r",
      "  2%|█▌                                                                              | 19/1000 [00:04<04:13,  3.87it/s]"
     ]
    },
    {
     "name": "stdout",
     "output_type": "stream",
     "text": [
      "--- Iteration 19: training loss = 0.0942 ---\n"
     ]
    },
    {
     "name": "stderr",
     "output_type": "stream",
     "text": [
      "\r",
      "  2%|█▌                                                                              | 20/1000 [00:05<04:11,  3.90it/s]"
     ]
    },
    {
     "name": "stdout",
     "output_type": "stream",
     "text": [
      "--- Iteration 20: training loss = 0.0899 ---\n"
     ]
    },
    {
     "name": "stderr",
     "output_type": "stream",
     "text": [
      "\r",
      "  2%|█▋                                                                              | 21/1000 [00:05<04:16,  3.81it/s]"
     ]
    },
    {
     "name": "stdout",
     "output_type": "stream",
     "text": [
      "--- Iteration 21: training loss = 0.0863 ---\n"
     ]
    },
    {
     "name": "stderr",
     "output_type": "stream",
     "text": [
      "\r",
      "  2%|█▊                                                                              | 22/1000 [00:05<04:12,  3.88it/s]"
     ]
    },
    {
     "name": "stdout",
     "output_type": "stream",
     "text": [
      "--- Iteration 22: training loss = 0.0831 ---\n"
     ]
    },
    {
     "name": "stderr",
     "output_type": "stream",
     "text": [
      "\r",
      "  2%|█▊                                                                              | 23/1000 [00:05<04:03,  4.01it/s]"
     ]
    },
    {
     "name": "stdout",
     "output_type": "stream",
     "text": [
      "--- Iteration 23: training loss = 0.0800 ---\n"
     ]
    },
    {
     "name": "stderr",
     "output_type": "stream",
     "text": [
      "\r",
      "  2%|█▉                                                                              | 24/1000 [00:06<04:01,  4.05it/s]"
     ]
    },
    {
     "name": "stdout",
     "output_type": "stream",
     "text": [
      "--- Iteration 24: training loss = 0.0772 ---\n"
     ]
    },
    {
     "name": "stderr",
     "output_type": "stream",
     "text": [
      "\r",
      "  2%|██                                                                              | 25/1000 [00:06<03:56,  4.12it/s]"
     ]
    },
    {
     "name": "stdout",
     "output_type": "stream",
     "text": [
      "--- Iteration 25: training loss = 0.0744 ---\n"
     ]
    },
    {
     "name": "stderr",
     "output_type": "stream",
     "text": [
      "\r",
      "  3%|██                                                                              | 26/1000 [00:06<04:04,  3.98it/s]"
     ]
    },
    {
     "name": "stdout",
     "output_type": "stream",
     "text": [
      "--- Iteration 26: training loss = 0.0718 ---\n"
     ]
    },
    {
     "name": "stderr",
     "output_type": "stream",
     "text": [
      "\r",
      "  3%|██▏                                                                             | 27/1000 [00:06<03:56,  4.11it/s]"
     ]
    },
    {
     "name": "stdout",
     "output_type": "stream",
     "text": [
      "--- Iteration 27: training loss = 0.0694 ---\n"
     ]
    },
    {
     "name": "stderr",
     "output_type": "stream",
     "text": [
      "\r",
      "  3%|██▏                                                                             | 28/1000 [00:07<04:04,  3.97it/s]"
     ]
    },
    {
     "name": "stdout",
     "output_type": "stream",
     "text": [
      "--- Iteration 28: training loss = 0.0671 ---\n"
     ]
    },
    {
     "name": "stderr",
     "output_type": "stream",
     "text": [
      "\r",
      "  3%|██▎                                                                             | 29/1000 [00:07<04:09,  3.90it/s]"
     ]
    },
    {
     "name": "stdout",
     "output_type": "stream",
     "text": [
      "--- Iteration 29: training loss = 0.0650 ---\n"
     ]
    },
    {
     "name": "stderr",
     "output_type": "stream",
     "text": [
      "\r",
      "  3%|██▍                                                                             | 30/1000 [00:07<04:06,  3.93it/s]"
     ]
    },
    {
     "name": "stdout",
     "output_type": "stream",
     "text": [
      "--- Iteration 30: training loss = 0.0630 ---\n"
     ]
    },
    {
     "name": "stderr",
     "output_type": "stream",
     "text": [
      "\r",
      "  3%|██▍                                                                             | 31/1000 [00:07<03:57,  4.07it/s]"
     ]
    },
    {
     "name": "stdout",
     "output_type": "stream",
     "text": [
      "--- Iteration 31: training loss = 0.0610 ---\n"
     ]
    },
    {
     "name": "stderr",
     "output_type": "stream",
     "text": [
      "\r",
      "  3%|██▌                                                                             | 32/1000 [00:08<04:01,  4.02it/s]"
     ]
    },
    {
     "name": "stdout",
     "output_type": "stream",
     "text": [
      "--- Iteration 32: training loss = 0.0592 ---\n"
     ]
    },
    {
     "name": "stderr",
     "output_type": "stream",
     "text": [
      "\r",
      "  3%|██▋                                                                             | 33/1000 [00:08<04:03,  3.96it/s]"
     ]
    },
    {
     "name": "stdout",
     "output_type": "stream",
     "text": [
      "--- Iteration 33: training loss = 0.0575 ---\n"
     ]
    },
    {
     "name": "stderr",
     "output_type": "stream",
     "text": [
      "\r",
      "  3%|██▋                                                                             | 34/1000 [00:08<03:58,  4.05it/s]"
     ]
    },
    {
     "name": "stdout",
     "output_type": "stream",
     "text": [
      "--- Iteration 34: training loss = 0.0559 ---\n"
     ]
    },
    {
     "name": "stderr",
     "output_type": "stream",
     "text": [
      "\r",
      "  4%|██▊                                                                             | 35/1000 [00:08<03:55,  4.09it/s]"
     ]
    },
    {
     "name": "stdout",
     "output_type": "stream",
     "text": [
      "--- Iteration 35: training loss = 0.0544 ---\n"
     ]
    },
    {
     "name": "stderr",
     "output_type": "stream",
     "text": [
      "\r",
      "  4%|██▉                                                                             | 36/1000 [00:09<03:56,  4.07it/s]"
     ]
    },
    {
     "name": "stdout",
     "output_type": "stream",
     "text": [
      "--- Iteration 36: training loss = 0.0530 ---\n"
     ]
    },
    {
     "name": "stderr",
     "output_type": "stream",
     "text": [
      "\r",
      "  4%|██▉                                                                             | 37/1000 [00:09<03:57,  4.06it/s]"
     ]
    },
    {
     "name": "stdout",
     "output_type": "stream",
     "text": [
      "--- Iteration 37: training loss = 0.0517 ---\n"
     ]
    },
    {
     "name": "stderr",
     "output_type": "stream",
     "text": [
      "\r",
      "  4%|███                                                                             | 38/1000 [00:09<03:56,  4.06it/s]"
     ]
    },
    {
     "name": "stdout",
     "output_type": "stream",
     "text": [
      "--- Iteration 38: training loss = 0.0504 ---\n"
     ]
    },
    {
     "name": "stderr",
     "output_type": "stream",
     "text": [
      "\r",
      "  4%|███                                                                             | 39/1000 [00:09<04:00,  4.00it/s]"
     ]
    },
    {
     "name": "stdout",
     "output_type": "stream",
     "text": [
      "--- Iteration 39: training loss = 0.0492 ---\n"
     ]
    },
    {
     "name": "stderr",
     "output_type": "stream",
     "text": [
      "\r",
      "  4%|███▏                                                                            | 40/1000 [00:10<04:01,  3.97it/s]"
     ]
    },
    {
     "name": "stdout",
     "output_type": "stream",
     "text": [
      "--- Iteration 40: training loss = 0.0481 ---\n"
     ]
    },
    {
     "name": "stderr",
     "output_type": "stream",
     "text": [
      "\r",
      "  4%|███▎                                                                            | 41/1000 [00:10<03:59,  4.01it/s]"
     ]
    },
    {
     "name": "stdout",
     "output_type": "stream",
     "text": [
      "--- Iteration 41: training loss = 0.0470 ---\n"
     ]
    },
    {
     "name": "stderr",
     "output_type": "stream",
     "text": [
      "\r",
      "  4%|███▎                                                                            | 42/1000 [00:10<04:00,  3.98it/s]"
     ]
    },
    {
     "name": "stdout",
     "output_type": "stream",
     "text": [
      "--- Iteration 42: training loss = 0.0459 ---\n"
     ]
    },
    {
     "name": "stderr",
     "output_type": "stream",
     "text": [
      "\r",
      "  4%|███▍                                                                            | 43/1000 [00:10<04:02,  3.95it/s]"
     ]
    },
    {
     "name": "stdout",
     "output_type": "stream",
     "text": [
      "--- Iteration 43: training loss = 0.0449 ---\n"
     ]
    },
    {
     "name": "stderr",
     "output_type": "stream",
     "text": [
      "\r",
      "  4%|███▌                                                                            | 44/1000 [00:11<03:56,  4.04it/s]"
     ]
    },
    {
     "name": "stdout",
     "output_type": "stream",
     "text": [
      "--- Iteration 44: training loss = 0.0439 ---\n"
     ]
    },
    {
     "name": "stderr",
     "output_type": "stream",
     "text": [
      "\r",
      "  4%|███▌                                                                            | 45/1000 [00:11<03:54,  4.07it/s]"
     ]
    },
    {
     "name": "stdout",
     "output_type": "stream",
     "text": [
      "--- Iteration 45: training loss = 0.0430 ---\n"
     ]
    },
    {
     "name": "stderr",
     "output_type": "stream",
     "text": [
      "\r",
      "  5%|███▋                                                                            | 46/1000 [00:11<03:58,  4.00it/s]"
     ]
    },
    {
     "name": "stdout",
     "output_type": "stream",
     "text": [
      "--- Iteration 46: training loss = 0.0421 ---\n"
     ]
    },
    {
     "name": "stderr",
     "output_type": "stream",
     "text": [
      "\r",
      "  5%|███▊                                                                            | 47/1000 [00:11<03:58,  4.00it/s]"
     ]
    },
    {
     "name": "stdout",
     "output_type": "stream",
     "text": [
      "--- Iteration 47: training loss = 0.0412 ---\n"
     ]
    },
    {
     "name": "stderr",
     "output_type": "stream",
     "text": [
      "\r",
      "  5%|███▊                                                                            | 48/1000 [00:12<04:01,  3.95it/s]"
     ]
    },
    {
     "name": "stdout",
     "output_type": "stream",
     "text": [
      "--- Iteration 48: training loss = 0.0404 ---\n"
     ]
    },
    {
     "name": "stderr",
     "output_type": "stream",
     "text": [
      "\r",
      "  5%|███▉                                                                            | 49/1000 [00:12<03:58,  3.99it/s]"
     ]
    },
    {
     "name": "stdout",
     "output_type": "stream",
     "text": [
      "--- Iteration 49: training loss = 0.0396 ---\n"
     ]
    },
    {
     "name": "stderr",
     "output_type": "stream",
     "text": [
      "\r",
      "  5%|████                                                                            | 50/1000 [00:12<04:00,  3.94it/s]"
     ]
    },
    {
     "name": "stdout",
     "output_type": "stream",
     "text": [
      "--- Iteration 50: training loss = 0.0388 ---\n"
     ]
    },
    {
     "name": "stderr",
     "output_type": "stream",
     "text": [
      "\r",
      "  5%|████                                                                            | 51/1000 [00:12<03:59,  3.96it/s]"
     ]
    },
    {
     "name": "stdout",
     "output_type": "stream",
     "text": [
      "--- Iteration 51: training loss = 0.0381 ---\n"
     ]
    },
    {
     "name": "stderr",
     "output_type": "stream",
     "text": [
      "\r",
      "  5%|████▏                                                                           | 52/1000 [00:13<03:54,  4.04it/s]"
     ]
    },
    {
     "name": "stdout",
     "output_type": "stream",
     "text": [
      "--- Iteration 52: training loss = 0.0374 ---\n"
     ]
    },
    {
     "name": "stderr",
     "output_type": "stream",
     "text": [
      "\r",
      "  5%|████▏                                                                           | 53/1000 [00:13<03:53,  4.06it/s]"
     ]
    },
    {
     "name": "stdout",
     "output_type": "stream",
     "text": [
      "--- Iteration 53: training loss = 0.0367 ---\n"
     ]
    },
    {
     "name": "stderr",
     "output_type": "stream",
     "text": [
      "\r",
      "  5%|████▎                                                                           | 54/1000 [00:13<04:00,  3.93it/s]"
     ]
    },
    {
     "name": "stdout",
     "output_type": "stream",
     "text": [
      "--- Iteration 54: training loss = 0.0360 ---\n"
     ]
    },
    {
     "name": "stderr",
     "output_type": "stream",
     "text": [
      "\r",
      "  6%|████▍                                                                           | 55/1000 [00:13<04:09,  3.79it/s]"
     ]
    },
    {
     "name": "stdout",
     "output_type": "stream",
     "text": [
      "--- Iteration 55: training loss = 0.0354 ---\n"
     ]
    },
    {
     "name": "stderr",
     "output_type": "stream",
     "text": [
      "\r",
      "  6%|████▍                                                                           | 56/1000 [00:14<04:23,  3.59it/s]"
     ]
    },
    {
     "name": "stdout",
     "output_type": "stream",
     "text": [
      "--- Iteration 56: training loss = 0.0348 ---\n"
     ]
    },
    {
     "name": "stderr",
     "output_type": "stream",
     "text": [
      "\r",
      "  6%|████▌                                                                           | 57/1000 [00:14<04:44,  3.32it/s]"
     ]
    },
    {
     "name": "stdout",
     "output_type": "stream",
     "text": [
      "--- Iteration 57: training loss = 0.0342 ---\n"
     ]
    },
    {
     "name": "stderr",
     "output_type": "stream",
     "text": [
      "\r",
      "  6%|████▋                                                                           | 58/1000 [00:14<05:01,  3.12it/s]"
     ]
    },
    {
     "name": "stdout",
     "output_type": "stream",
     "text": [
      "--- Iteration 58: training loss = 0.0336 ---\n"
     ]
    },
    {
     "name": "stderr",
     "output_type": "stream",
     "text": [
      "\r",
      "  6%|████▋                                                                           | 59/1000 [00:15<05:07,  3.06it/s]"
     ]
    },
    {
     "name": "stdout",
     "output_type": "stream",
     "text": [
      "--- Iteration 59: training loss = 0.0331 ---\n"
     ]
    },
    {
     "name": "stderr",
     "output_type": "stream",
     "text": [
      "\r",
      "  6%|████▊                                                                           | 60/1000 [00:15<05:12,  3.00it/s]"
     ]
    },
    {
     "name": "stdout",
     "output_type": "stream",
     "text": [
      "--- Iteration 60: training loss = 0.0325 ---\n"
     ]
    },
    {
     "name": "stderr",
     "output_type": "stream",
     "text": [
      "\r",
      "  6%|████▉                                                                           | 61/1000 [00:15<05:27,  2.87it/s]"
     ]
    },
    {
     "name": "stdout",
     "output_type": "stream",
     "text": [
      "--- Iteration 61: training loss = 0.0320 ---\n"
     ]
    },
    {
     "name": "stderr",
     "output_type": "stream",
     "text": [
      "\r",
      "  6%|████▉                                                                           | 62/1000 [00:16<05:34,  2.80it/s]"
     ]
    },
    {
     "name": "stdout",
     "output_type": "stream",
     "text": [
      "--- Iteration 62: training loss = 0.0315 ---\n"
     ]
    },
    {
     "name": "stderr",
     "output_type": "stream",
     "text": [
      "\r",
      "  6%|█████                                                                           | 63/1000 [00:16<05:49,  2.68it/s]"
     ]
    },
    {
     "name": "stdout",
     "output_type": "stream",
     "text": [
      "--- Iteration 63: training loss = 0.0310 ---\n"
     ]
    },
    {
     "name": "stderr",
     "output_type": "stream",
     "text": [
      "\r",
      "  6%|█████                                                                           | 64/1000 [00:17<05:38,  2.76it/s]"
     ]
    },
    {
     "name": "stdout",
     "output_type": "stream",
     "text": [
      "--- Iteration 64: training loss = 0.0306 ---\n"
     ]
    },
    {
     "name": "stderr",
     "output_type": "stream",
     "text": [
      "\r",
      "  6%|█████▏                                                                          | 65/1000 [00:17<05:36,  2.78it/s]"
     ]
    },
    {
     "name": "stdout",
     "output_type": "stream",
     "text": [
      "--- Iteration 65: training loss = 0.0301 ---\n"
     ]
    },
    {
     "name": "stderr",
     "output_type": "stream",
     "text": [
      "\r",
      "  7%|█████▎                                                                          | 66/1000 [00:17<05:23,  2.89it/s]"
     ]
    },
    {
     "name": "stdout",
     "output_type": "stream",
     "text": [
      "--- Iteration 66: training loss = 0.0297 ---\n"
     ]
    },
    {
     "name": "stderr",
     "output_type": "stream",
     "text": [
      "\r",
      "  7%|█████▎                                                                          | 67/1000 [00:18<05:16,  2.95it/s]"
     ]
    },
    {
     "name": "stdout",
     "output_type": "stream",
     "text": [
      "--- Iteration 67: training loss = 0.0292 ---\n"
     ]
    },
    {
     "name": "stderr",
     "output_type": "stream",
     "text": [
      "\r",
      "  7%|█████▍                                                                          | 68/1000 [00:18<05:11,  2.99it/s]"
     ]
    },
    {
     "name": "stdout",
     "output_type": "stream",
     "text": [
      "--- Iteration 68: training loss = 0.0288 ---\n"
     ]
    },
    {
     "name": "stderr",
     "output_type": "stream",
     "text": [
      "\r",
      "  7%|█████▌                                                                          | 69/1000 [00:18<05:09,  3.01it/s]"
     ]
    },
    {
     "name": "stdout",
     "output_type": "stream",
     "text": [
      "--- Iteration 69: training loss = 0.0284 ---\n"
     ]
    },
    {
     "name": "stderr",
     "output_type": "stream",
     "text": [
      "\r",
      "  7%|█████▌                                                                          | 70/1000 [00:19<05:18,  2.92it/s]"
     ]
    },
    {
     "name": "stdout",
     "output_type": "stream",
     "text": [
      "--- Iteration 70: training loss = 0.0280 ---\n"
     ]
    },
    {
     "name": "stderr",
     "output_type": "stream",
     "text": [
      "\r",
      "  7%|█████▋                                                                          | 71/1000 [00:19<05:20,  2.90it/s]"
     ]
    },
    {
     "name": "stdout",
     "output_type": "stream",
     "text": [
      "--- Iteration 71: training loss = 0.0276 ---\n"
     ]
    },
    {
     "name": "stderr",
     "output_type": "stream",
     "text": [
      "\r",
      "  7%|█████▊                                                                          | 72/1000 [00:19<05:20,  2.90it/s]"
     ]
    },
    {
     "name": "stdout",
     "output_type": "stream",
     "text": [
      "--- Iteration 72: training loss = 0.0272 ---\n"
     ]
    },
    {
     "name": "stderr",
     "output_type": "stream",
     "text": [
      "\r",
      "  7%|█████▊                                                                          | 73/1000 [00:20<05:11,  2.98it/s]"
     ]
    },
    {
     "name": "stdout",
     "output_type": "stream",
     "text": [
      "--- Iteration 73: training loss = 0.0269 ---\n"
     ]
    },
    {
     "name": "stderr",
     "output_type": "stream",
     "text": [
      "\r",
      "  7%|█████▉                                                                          | 74/1000 [00:20<05:10,  2.98it/s]"
     ]
    },
    {
     "name": "stdout",
     "output_type": "stream",
     "text": [
      "--- Iteration 74: training loss = 0.0265 ---\n"
     ]
    },
    {
     "name": "stderr",
     "output_type": "stream",
     "text": [
      "\r",
      "  8%|██████                                                                          | 75/1000 [00:20<05:04,  3.04it/s]"
     ]
    },
    {
     "name": "stdout",
     "output_type": "stream",
     "text": [
      "--- Iteration 75: training loss = 0.0262 ---\n"
     ]
    },
    {
     "name": "stderr",
     "output_type": "stream",
     "text": [
      "\r",
      "  8%|██████                                                                          | 76/1000 [00:21<04:59,  3.08it/s]"
     ]
    },
    {
     "name": "stdout",
     "output_type": "stream",
     "text": [
      "--- Iteration 76: training loss = 0.0258 ---\n"
     ]
    },
    {
     "name": "stderr",
     "output_type": "stream",
     "text": [
      "\r",
      "  8%|██████▏                                                                         | 77/1000 [00:21<04:53,  3.14it/s]"
     ]
    },
    {
     "name": "stdout",
     "output_type": "stream",
     "text": [
      "--- Iteration 77: training loss = 0.0255 ---\n"
     ]
    },
    {
     "name": "stderr",
     "output_type": "stream",
     "text": [
      "\r",
      "  8%|██████▏                                                                         | 78/1000 [00:21<04:49,  3.18it/s]"
     ]
    },
    {
     "name": "stdout",
     "output_type": "stream",
     "text": [
      "--- Iteration 78: training loss = 0.0252 ---\n"
     ]
    },
    {
     "name": "stderr",
     "output_type": "stream",
     "text": [
      "\r",
      "  8%|██████▎                                                                         | 79/1000 [00:21<04:51,  3.16it/s]"
     ]
    },
    {
     "name": "stdout",
     "output_type": "stream",
     "text": [
      "--- Iteration 79: training loss = 0.0249 ---\n"
     ]
    },
    {
     "name": "stderr",
     "output_type": "stream",
     "text": [
      "\r",
      "  8%|██████▍                                                                         | 80/1000 [00:22<04:58,  3.08it/s]"
     ]
    },
    {
     "name": "stdout",
     "output_type": "stream",
     "text": [
      "--- Iteration 80: training loss = 0.0246 ---\n"
     ]
    },
    {
     "name": "stderr",
     "output_type": "stream",
     "text": [
      "\r",
      "  8%|██████▍                                                                         | 81/1000 [00:22<04:52,  3.14it/s]"
     ]
    },
    {
     "name": "stdout",
     "output_type": "stream",
     "text": [
      "--- Iteration 81: training loss = 0.0243 ---\n"
     ]
    },
    {
     "name": "stderr",
     "output_type": "stream",
     "text": [
      "\r",
      "  8%|██████▌                                                                         | 82/1000 [00:22<04:45,  3.21it/s]"
     ]
    },
    {
     "name": "stdout",
     "output_type": "stream",
     "text": [
      "--- Iteration 82: training loss = 0.0240 ---\n"
     ]
    },
    {
     "name": "stderr",
     "output_type": "stream",
     "text": [
      "\r",
      "  8%|██████▋                                                                         | 83/1000 [00:23<04:42,  3.24it/s]"
     ]
    },
    {
     "name": "stdout",
     "output_type": "stream",
     "text": [
      "--- Iteration 83: training loss = 0.0237 ---\n"
     ]
    },
    {
     "name": "stderr",
     "output_type": "stream",
     "text": [
      "\r",
      "  8%|██████▋                                                                         | 84/1000 [00:23<04:49,  3.16it/s]"
     ]
    },
    {
     "name": "stdout",
     "output_type": "stream",
     "text": [
      "--- Iteration 84: training loss = 0.0234 ---\n"
     ]
    },
    {
     "name": "stderr",
     "output_type": "stream",
     "text": [
      "\r",
      "  8%|██████▊                                                                         | 85/1000 [00:23<04:46,  3.19it/s]"
     ]
    },
    {
     "name": "stdout",
     "output_type": "stream",
     "text": [
      "--- Iteration 85: training loss = 0.0232 ---\n"
     ]
    },
    {
     "name": "stderr",
     "output_type": "stream",
     "text": [
      "\r",
      "  9%|██████▉                                                                         | 86/1000 [00:24<04:40,  3.25it/s]"
     ]
    },
    {
     "name": "stdout",
     "output_type": "stream",
     "text": [
      "--- Iteration 86: training loss = 0.0229 ---\n"
     ]
    },
    {
     "name": "stderr",
     "output_type": "stream",
     "text": [
      "\r",
      "  9%|██████▉                                                                         | 87/1000 [00:24<04:34,  3.33it/s]"
     ]
    },
    {
     "name": "stdout",
     "output_type": "stream",
     "text": [
      "--- Iteration 87: training loss = 0.0227 ---\n"
     ]
    },
    {
     "name": "stderr",
     "output_type": "stream",
     "text": [
      "\r",
      "  9%|███████                                                                         | 88/1000 [00:24<04:37,  3.28it/s]"
     ]
    },
    {
     "name": "stdout",
     "output_type": "stream",
     "text": [
      "--- Iteration 88: training loss = 0.0224 ---\n"
     ]
    },
    {
     "name": "stderr",
     "output_type": "stream",
     "text": [
      "\r",
      "  9%|███████                                                                         | 89/1000 [00:25<04:37,  3.29it/s]"
     ]
    },
    {
     "name": "stdout",
     "output_type": "stream",
     "text": [
      "--- Iteration 89: training loss = 0.0222 ---\n"
     ]
    },
    {
     "name": "stderr",
     "output_type": "stream",
     "text": [
      "\r",
      "  9%|███████▏                                                                        | 90/1000 [00:25<04:31,  3.35it/s]"
     ]
    },
    {
     "name": "stdout",
     "output_type": "stream",
     "text": [
      "--- Iteration 90: training loss = 0.0219 ---\n"
     ]
    },
    {
     "name": "stderr",
     "output_type": "stream",
     "text": [
      "\r",
      "  9%|███████▎                                                                        | 91/1000 [00:25<04:29,  3.37it/s]"
     ]
    },
    {
     "name": "stdout",
     "output_type": "stream",
     "text": [
      "--- Iteration 91: training loss = 0.0217 ---\n"
     ]
    },
    {
     "name": "stderr",
     "output_type": "stream",
     "text": [
      "\r",
      "  9%|███████▎                                                                        | 92/1000 [00:25<04:37,  3.28it/s]"
     ]
    },
    {
     "name": "stdout",
     "output_type": "stream",
     "text": [
      "--- Iteration 92: training loss = 0.0215 ---\n"
     ]
    },
    {
     "name": "stderr",
     "output_type": "stream",
     "text": [
      "\r",
      "  9%|███████▍                                                                        | 93/1000 [00:26<04:47,  3.16it/s]"
     ]
    },
    {
     "name": "stdout",
     "output_type": "stream",
     "text": [
      "--- Iteration 93: training loss = 0.0212 ---\n"
     ]
    },
    {
     "name": "stderr",
     "output_type": "stream",
     "text": [
      "\r",
      "  9%|███████▌                                                                        | 94/1000 [00:26<04:42,  3.20it/s]"
     ]
    },
    {
     "name": "stdout",
     "output_type": "stream",
     "text": [
      "--- Iteration 94: training loss = 0.0210 ---\n"
     ]
    },
    {
     "name": "stderr",
     "output_type": "stream",
     "text": [
      "\r",
      " 10%|███████▌                                                                        | 95/1000 [00:26<04:35,  3.28it/s]"
     ]
    },
    {
     "name": "stdout",
     "output_type": "stream",
     "text": [
      "--- Iteration 95: training loss = 0.0208 ---\n"
     ]
    },
    {
     "name": "stderr",
     "output_type": "stream",
     "text": [
      "\r",
      " 10%|███████▋                                                                        | 96/1000 [00:27<04:40,  3.22it/s]"
     ]
    },
    {
     "name": "stdout",
     "output_type": "stream",
     "text": [
      "--- Iteration 96: training loss = 0.0206 ---\n"
     ]
    },
    {
     "name": "stderr",
     "output_type": "stream",
     "text": [
      "\r",
      " 10%|███████▊                                                                        | 97/1000 [00:27<05:02,  2.98it/s]"
     ]
    },
    {
     "name": "stdout",
     "output_type": "stream",
     "text": [
      "--- Iteration 97: training loss = 0.0204 ---\n"
     ]
    },
    {
     "name": "stderr",
     "output_type": "stream",
     "text": [
      "\r",
      " 10%|███████▊                                                                        | 98/1000 [00:27<05:02,  2.98it/s]"
     ]
    },
    {
     "name": "stdout",
     "output_type": "stream",
     "text": [
      "--- Iteration 98: training loss = 0.0202 ---\n"
     ]
    },
    {
     "name": "stderr",
     "output_type": "stream",
     "text": [
      "\r",
      " 10%|███████▉                                                                        | 99/1000 [00:28<05:41,  2.64it/s]"
     ]
    },
    {
     "name": "stdout",
     "output_type": "stream",
     "text": [
      "--- Iteration 99: training loss = 0.0200 ---\n"
     ]
    },
    {
     "name": "stderr",
     "output_type": "stream",
     "text": [
      "\r",
      " 10%|███████▉                                                                       | 100/1000 [00:28<05:52,  2.55it/s]"
     ]
    },
    {
     "name": "stdout",
     "output_type": "stream",
     "text": [
      "--- Iteration 100: training loss = 0.0198 ---\n"
     ]
    },
    {
     "name": "stderr",
     "output_type": "stream",
     "text": [
      "\r",
      " 10%|███████▉                                                                       | 101/1000 [00:29<05:31,  2.71it/s]"
     ]
    },
    {
     "name": "stdout",
     "output_type": "stream",
     "text": [
      "--- Iteration 101: training loss = 0.0196 ---\n"
     ]
    },
    {
     "name": "stderr",
     "output_type": "stream",
     "text": [
      "\r",
      " 10%|████████                                                                       | 102/1000 [00:29<05:18,  2.82it/s]"
     ]
    },
    {
     "name": "stdout",
     "output_type": "stream",
     "text": [
      "--- Iteration 102: training loss = 0.0194 ---\n"
     ]
    },
    {
     "name": "stderr",
     "output_type": "stream",
     "text": [
      "\r",
      " 10%|████████▏                                                                      | 103/1000 [00:29<05:07,  2.92it/s]"
     ]
    },
    {
     "name": "stdout",
     "output_type": "stream",
     "text": [
      "--- Iteration 103: training loss = 0.0192 ---\n"
     ]
    },
    {
     "name": "stderr",
     "output_type": "stream",
     "text": [
      "\r",
      " 10%|████████▏                                                                      | 104/1000 [00:30<04:59,  2.99it/s]"
     ]
    },
    {
     "name": "stdout",
     "output_type": "stream",
     "text": [
      "--- Iteration 104: training loss = 0.0191 ---\n"
     ]
    },
    {
     "name": "stderr",
     "output_type": "stream",
     "text": [
      "\r",
      " 10%|████████▎                                                                      | 105/1000 [00:30<05:04,  2.94it/s]"
     ]
    },
    {
     "name": "stdout",
     "output_type": "stream",
     "text": [
      "--- Iteration 105: training loss = 0.0189 ---\n"
     ]
    },
    {
     "name": "stderr",
     "output_type": "stream",
     "text": [
      "\r",
      " 11%|████████▎                                                                      | 106/1000 [00:30<04:56,  3.01it/s]"
     ]
    },
    {
     "name": "stdout",
     "output_type": "stream",
     "text": [
      "--- Iteration 106: training loss = 0.0187 ---\n"
     ]
    },
    {
     "name": "stderr",
     "output_type": "stream",
     "text": [
      "\r",
      " 11%|████████▍                                                                      | 107/1000 [00:31<04:46,  3.12it/s]"
     ]
    },
    {
     "name": "stdout",
     "output_type": "stream",
     "text": [
      "--- Iteration 107: training loss = 0.0185 ---\n"
     ]
    },
    {
     "name": "stderr",
     "output_type": "stream",
     "text": [
      "\r",
      " 11%|████████▌                                                                      | 108/1000 [00:31<04:44,  3.14it/s]"
     ]
    },
    {
     "name": "stdout",
     "output_type": "stream",
     "text": [
      "--- Iteration 108: training loss = 0.0184 ---\n"
     ]
    },
    {
     "name": "stderr",
     "output_type": "stream",
     "text": [
      "\r",
      " 11%|████████▌                                                                      | 109/1000 [00:31<04:42,  3.15it/s]"
     ]
    },
    {
     "name": "stdout",
     "output_type": "stream",
     "text": [
      "--- Iteration 109: training loss = 0.0182 ---\n"
     ]
    },
    {
     "name": "stderr",
     "output_type": "stream",
     "text": [
      "\r",
      " 11%|████████▋                                                                      | 110/1000 [00:32<04:49,  3.08it/s]"
     ]
    },
    {
     "name": "stdout",
     "output_type": "stream",
     "text": [
      "--- Iteration 110: training loss = 0.0181 ---\n"
     ]
    },
    {
     "name": "stderr",
     "output_type": "stream",
     "text": [
      "\r",
      " 11%|████████▊                                                                      | 111/1000 [00:32<04:43,  3.14it/s]"
     ]
    },
    {
     "name": "stdout",
     "output_type": "stream",
     "text": [
      "--- Iteration 111: training loss = 0.0179 ---\n"
     ]
    },
    {
     "name": "stderr",
     "output_type": "stream",
     "text": [
      "\r",
      " 11%|████████▊                                                                      | 112/1000 [00:32<04:40,  3.16it/s]"
     ]
    },
    {
     "name": "stdout",
     "output_type": "stream",
     "text": [
      "--- Iteration 112: training loss = 0.0177 ---\n"
     ]
    },
    {
     "name": "stderr",
     "output_type": "stream",
     "text": [
      "\r",
      " 11%|████████▉                                                                      | 113/1000 [00:32<04:37,  3.19it/s]"
     ]
    },
    {
     "name": "stdout",
     "output_type": "stream",
     "text": [
      "--- Iteration 113: training loss = 0.0176 ---\n"
     ]
    },
    {
     "name": "stderr",
     "output_type": "stream",
     "text": [
      "\r",
      " 11%|█████████                                                                      | 114/1000 [00:33<04:40,  3.16it/s]"
     ]
    },
    {
     "name": "stdout",
     "output_type": "stream",
     "text": [
      "--- Iteration 114: training loss = 0.0174 ---\n"
     ]
    },
    {
     "name": "stderr",
     "output_type": "stream",
     "text": [
      "\r",
      " 12%|█████████                                                                      | 115/1000 [00:33<04:36,  3.20it/s]"
     ]
    },
    {
     "name": "stdout",
     "output_type": "stream",
     "text": [
      "--- Iteration 115: training loss = 0.0173 ---\n"
     ]
    },
    {
     "name": "stderr",
     "output_type": "stream",
     "text": [
      "\r",
      " 12%|█████████▏                                                                     | 116/1000 [00:33<04:34,  3.22it/s]"
     ]
    },
    {
     "name": "stdout",
     "output_type": "stream",
     "text": [
      "--- Iteration 116: training loss = 0.0172 ---\n"
     ]
    },
    {
     "name": "stderr",
     "output_type": "stream",
     "text": [
      "\r",
      " 12%|█████████▏                                                                     | 117/1000 [00:34<04:35,  3.21it/s]"
     ]
    },
    {
     "name": "stdout",
     "output_type": "stream",
     "text": [
      "--- Iteration 117: training loss = 0.0170 ---\n"
     ]
    },
    {
     "name": "stderr",
     "output_type": "stream",
     "text": [
      "\r",
      " 12%|█████████▎                                                                     | 118/1000 [00:34<04:35,  3.21it/s]"
     ]
    },
    {
     "name": "stdout",
     "output_type": "stream",
     "text": [
      "--- Iteration 118: training loss = 0.0169 ---\n"
     ]
    },
    {
     "name": "stderr",
     "output_type": "stream",
     "text": [
      "\r",
      " 12%|█████████▍                                                                     | 119/1000 [00:34<04:29,  3.26it/s]"
     ]
    },
    {
     "name": "stdout",
     "output_type": "stream",
     "text": [
      "--- Iteration 119: training loss = 0.0167 ---\n"
     ]
    },
    {
     "name": "stderr",
     "output_type": "stream",
     "text": [
      "\r",
      " 12%|█████████▍                                                                     | 120/1000 [00:35<04:28,  3.27it/s]"
     ]
    },
    {
     "name": "stdout",
     "output_type": "stream",
     "text": [
      "--- Iteration 120: training loss = 0.0166 ---\n"
     ]
    },
    {
     "name": "stderr",
     "output_type": "stream",
     "text": [
      "\r",
      " 12%|█████████▌                                                                     | 121/1000 [00:35<04:27,  3.28it/s]"
     ]
    },
    {
     "name": "stdout",
     "output_type": "stream",
     "text": [
      "--- Iteration 121: training loss = 0.0165 ---\n"
     ]
    },
    {
     "name": "stderr",
     "output_type": "stream",
     "text": [
      "\r",
      " 12%|█████████▋                                                                     | 122/1000 [00:35<04:29,  3.25it/s]"
     ]
    },
    {
     "name": "stdout",
     "output_type": "stream",
     "text": [
      "--- Iteration 122: training loss = 0.0163 ---\n"
     ]
    },
    {
     "name": "stderr",
     "output_type": "stream",
     "text": [
      "\r",
      " 12%|█████████▋                                                                     | 123/1000 [00:36<04:36,  3.17it/s]"
     ]
    },
    {
     "name": "stdout",
     "output_type": "stream",
     "text": [
      "--- Iteration 123: training loss = 0.0162 ---\n"
     ]
    },
    {
     "name": "stderr",
     "output_type": "stream",
     "text": [
      "\r",
      " 12%|█████████▊                                                                     | 124/1000 [00:36<04:51,  3.00it/s]"
     ]
    },
    {
     "name": "stdout",
     "output_type": "stream",
     "text": [
      "--- Iteration 124: training loss = 0.0161 ---\n"
     ]
    },
    {
     "name": "stderr",
     "output_type": "stream",
     "text": [
      "\r",
      " 12%|█████████▉                                                                     | 125/1000 [00:36<04:43,  3.09it/s]"
     ]
    },
    {
     "name": "stdout",
     "output_type": "stream",
     "text": [
      "--- Iteration 125: training loss = 0.0160 ---\n"
     ]
    },
    {
     "name": "stderr",
     "output_type": "stream",
     "text": [
      "\r",
      " 13%|█████████▉                                                                     | 126/1000 [00:37<04:42,  3.09it/s]"
     ]
    },
    {
     "name": "stdout",
     "output_type": "stream",
     "text": [
      "--- Iteration 126: training loss = 0.0158 ---\n"
     ]
    },
    {
     "name": "stderr",
     "output_type": "stream",
     "text": [
      "\r",
      " 13%|██████████                                                                     | 127/1000 [00:37<04:32,  3.21it/s]"
     ]
    },
    {
     "name": "stdout",
     "output_type": "stream",
     "text": [
      "--- Iteration 127: training loss = 0.0157 ---\n"
     ]
    },
    {
     "name": "stderr",
     "output_type": "stream",
     "text": [
      "\r",
      " 13%|██████████                                                                     | 128/1000 [00:37<04:37,  3.14it/s]"
     ]
    },
    {
     "name": "stdout",
     "output_type": "stream",
     "text": [
      "--- Iteration 128: training loss = 0.0156 ---\n"
     ]
    },
    {
     "name": "stderr",
     "output_type": "stream",
     "text": [
      "\r",
      " 13%|██████████▏                                                                    | 129/1000 [00:38<04:38,  3.13it/s]"
     ]
    },
    {
     "name": "stdout",
     "output_type": "stream",
     "text": [
      "--- Iteration 129: training loss = 0.0155 ---\n"
     ]
    },
    {
     "name": "stderr",
     "output_type": "stream",
     "text": [
      "\r",
      " 13%|██████████▎                                                                    | 130/1000 [00:38<04:31,  3.21it/s]"
     ]
    },
    {
     "name": "stdout",
     "output_type": "stream",
     "text": [
      "--- Iteration 130: training loss = 0.0154 ---\n"
     ]
    },
    {
     "name": "stderr",
     "output_type": "stream",
     "text": [
      "\r",
      " 13%|██████████▎                                                                    | 131/1000 [00:38<04:28,  3.23it/s]"
     ]
    },
    {
     "name": "stdout",
     "output_type": "stream",
     "text": [
      "--- Iteration 131: training loss = 0.0153 ---\n"
     ]
    },
    {
     "name": "stderr",
     "output_type": "stream",
     "text": [
      "\r",
      " 13%|██████████▍                                                                    | 132/1000 [00:38<04:29,  3.22it/s]"
     ]
    },
    {
     "name": "stdout",
     "output_type": "stream",
     "text": [
      "--- Iteration 132: training loss = 0.0151 ---\n"
     ]
    },
    {
     "name": "stderr",
     "output_type": "stream",
     "text": [
      "\r",
      " 13%|██████████▌                                                                    | 133/1000 [00:39<04:29,  3.22it/s]"
     ]
    },
    {
     "name": "stdout",
     "output_type": "stream",
     "text": [
      "--- Iteration 133: training loss = 0.0150 ---\n"
     ]
    },
    {
     "name": "stderr",
     "output_type": "stream",
     "text": [
      "\r",
      " 13%|██████████▌                                                                    | 134/1000 [00:39<04:25,  3.26it/s]"
     ]
    },
    {
     "name": "stdout",
     "output_type": "stream",
     "text": [
      "--- Iteration 134: training loss = 0.0149 ---\n"
     ]
    },
    {
     "name": "stderr",
     "output_type": "stream",
     "text": [
      "\r",
      " 14%|██████████▋                                                                    | 135/1000 [00:39<04:26,  3.24it/s]"
     ]
    },
    {
     "name": "stdout",
     "output_type": "stream",
     "text": [
      "--- Iteration 135: training loss = 0.0148 ---\n"
     ]
    },
    {
     "name": "stderr",
     "output_type": "stream",
     "text": [
      "\r",
      " 14%|██████████▋                                                                    | 136/1000 [00:40<04:31,  3.19it/s]"
     ]
    },
    {
     "name": "stdout",
     "output_type": "stream",
     "text": [
      "--- Iteration 136: training loss = 0.0147 ---\n"
     ]
    },
    {
     "name": "stderr",
     "output_type": "stream",
     "text": [
      "\r",
      " 14%|██████████▊                                                                    | 137/1000 [00:40<04:38,  3.10it/s]"
     ]
    },
    {
     "name": "stdout",
     "output_type": "stream",
     "text": [
      "--- Iteration 137: training loss = 0.0146 ---\n"
     ]
    },
    {
     "name": "stderr",
     "output_type": "stream",
     "text": [
      "\r",
      " 14%|██████████▉                                                                    | 138/1000 [00:40<04:31,  3.18it/s]"
     ]
    },
    {
     "name": "stdout",
     "output_type": "stream",
     "text": [
      "--- Iteration 138: training loss = 0.0145 ---\n"
     ]
    },
    {
     "name": "stderr",
     "output_type": "stream",
     "text": [
      "\r",
      " 14%|██████████▉                                                                    | 139/1000 [00:41<04:33,  3.15it/s]"
     ]
    },
    {
     "name": "stdout",
     "output_type": "stream",
     "text": [
      "--- Iteration 139: training loss = 0.0144 ---\n"
     ]
    },
    {
     "name": "stderr",
     "output_type": "stream",
     "text": [
      "\r",
      " 14%|███████████                                                                    | 140/1000 [00:41<04:39,  3.08it/s]"
     ]
    },
    {
     "name": "stdout",
     "output_type": "stream",
     "text": [
      "--- Iteration 140: training loss = 0.0143 ---\n"
     ]
    },
    {
     "name": "stderr",
     "output_type": "stream",
     "text": [
      "\r",
      " 14%|███████████▏                                                                   | 141/1000 [00:41<04:36,  3.10it/s]"
     ]
    },
    {
     "name": "stdout",
     "output_type": "stream",
     "text": [
      "--- Iteration 141: training loss = 0.0142 ---\n"
     ]
    },
    {
     "name": "stderr",
     "output_type": "stream",
     "text": [
      "\r",
      " 14%|███████████▏                                                                   | 142/1000 [00:42<04:36,  3.10it/s]"
     ]
    },
    {
     "name": "stdout",
     "output_type": "stream",
     "text": [
      "--- Iteration 142: training loss = 0.0141 ---\n"
     ]
    },
    {
     "name": "stderr",
     "output_type": "stream",
     "text": [
      "\r",
      " 14%|███████████▎                                                                   | 143/1000 [00:42<04:31,  3.15it/s]"
     ]
    },
    {
     "name": "stdout",
     "output_type": "stream",
     "text": [
      "--- Iteration 143: training loss = 0.0140 ---\n"
     ]
    },
    {
     "name": "stderr",
     "output_type": "stream",
     "text": [
      "\r",
      " 14%|███████████▍                                                                   | 144/1000 [00:42<04:35,  3.10it/s]"
     ]
    },
    {
     "name": "stdout",
     "output_type": "stream",
     "text": [
      "--- Iteration 144: training loss = 0.0139 ---\n"
     ]
    },
    {
     "name": "stderr",
     "output_type": "stream",
     "text": [
      "\r",
      " 14%|███████████▍                                                                   | 145/1000 [00:43<04:38,  3.07it/s]"
     ]
    },
    {
     "name": "stdout",
     "output_type": "stream",
     "text": [
      "--- Iteration 145: training loss = 0.0138 ---\n"
     ]
    },
    {
     "name": "stderr",
     "output_type": "stream",
     "text": [
      "\r",
      " 15%|███████████▌                                                                   | 146/1000 [00:43<04:37,  3.08it/s]"
     ]
    },
    {
     "name": "stdout",
     "output_type": "stream",
     "text": [
      "--- Iteration 146: training loss = 0.0138 ---\n"
     ]
    },
    {
     "name": "stderr",
     "output_type": "stream",
     "text": [
      "\r",
      " 15%|███████████▌                                                                   | 147/1000 [00:43<04:31,  3.14it/s]"
     ]
    },
    {
     "name": "stdout",
     "output_type": "stream",
     "text": [
      "--- Iteration 147: training loss = 0.0137 ---\n"
     ]
    },
    {
     "name": "stderr",
     "output_type": "stream",
     "text": [
      "\r",
      " 15%|███████████▋                                                                   | 148/1000 [00:44<04:25,  3.21it/s]"
     ]
    },
    {
     "name": "stdout",
     "output_type": "stream",
     "text": [
      "--- Iteration 148: training loss = 0.0136 ---\n"
     ]
    },
    {
     "name": "stderr",
     "output_type": "stream",
     "text": [
      "\r",
      " 15%|███████████▊                                                                   | 149/1000 [00:44<04:20,  3.27it/s]"
     ]
    },
    {
     "name": "stdout",
     "output_type": "stream",
     "text": [
      "--- Iteration 149: training loss = 0.0135 ---\n"
     ]
    },
    {
     "name": "stderr",
     "output_type": "stream",
     "text": [
      "\r",
      " 15%|███████████▊                                                                   | 150/1000 [00:44<04:24,  3.21it/s]"
     ]
    },
    {
     "name": "stdout",
     "output_type": "stream",
     "text": [
      "--- Iteration 150: training loss = 0.0134 ---\n"
     ]
    },
    {
     "name": "stderr",
     "output_type": "stream",
     "text": [
      "\r",
      " 15%|███████████▉                                                                   | 151/1000 [00:44<04:27,  3.17it/s]"
     ]
    },
    {
     "name": "stdout",
     "output_type": "stream",
     "text": [
      "--- Iteration 151: training loss = 0.0133 ---\n"
     ]
    },
    {
     "name": "stderr",
     "output_type": "stream",
     "text": [
      "\r",
      " 15%|████████████                                                                   | 152/1000 [00:45<04:29,  3.15it/s]"
     ]
    },
    {
     "name": "stdout",
     "output_type": "stream",
     "text": [
      "--- Iteration 152: training loss = 0.0132 ---\n"
     ]
    },
    {
     "name": "stderr",
     "output_type": "stream",
     "text": [
      "\r",
      " 15%|████████████                                                                   | 153/1000 [00:45<04:25,  3.19it/s]"
     ]
    },
    {
     "name": "stdout",
     "output_type": "stream",
     "text": [
      "--- Iteration 153: training loss = 0.0131 ---\n"
     ]
    },
    {
     "name": "stderr",
     "output_type": "stream",
     "text": [
      "\r",
      " 15%|████████████▏                                                                  | 154/1000 [00:45<04:23,  3.22it/s]"
     ]
    },
    {
     "name": "stdout",
     "output_type": "stream",
     "text": [
      "--- Iteration 154: training loss = 0.0131 ---\n"
     ]
    },
    {
     "name": "stderr",
     "output_type": "stream",
     "text": [
      "\r",
      " 16%|████████████▏                                                                  | 155/1000 [00:46<04:20,  3.24it/s]"
     ]
    },
    {
     "name": "stdout",
     "output_type": "stream",
     "text": [
      "--- Iteration 155: training loss = 0.0130 ---\n"
     ]
    },
    {
     "name": "stderr",
     "output_type": "stream",
     "text": [
      "\r",
      " 16%|████████████▎                                                                  | 156/1000 [00:46<04:17,  3.28it/s]"
     ]
    },
    {
     "name": "stdout",
     "output_type": "stream",
     "text": [
      "--- Iteration 156: training loss = 0.0129 ---\n"
     ]
    },
    {
     "name": "stderr",
     "output_type": "stream",
     "text": [
      "\r",
      " 16%|████████████▍                                                                  | 157/1000 [00:46<04:16,  3.29it/s]"
     ]
    },
    {
     "name": "stdout",
     "output_type": "stream",
     "text": [
      "--- Iteration 157: training loss = 0.0128 ---\n"
     ]
    },
    {
     "name": "stderr",
     "output_type": "stream",
     "text": [
      "\r",
      " 16%|████████████▍                                                                  | 158/1000 [00:47<04:15,  3.29it/s]"
     ]
    },
    {
     "name": "stdout",
     "output_type": "stream",
     "text": [
      "--- Iteration 158: training loss = 0.0128 ---\n"
     ]
    },
    {
     "name": "stderr",
     "output_type": "stream",
     "text": [
      "\r",
      " 16%|████████████▌                                                                  | 159/1000 [00:47<04:20,  3.23it/s]"
     ]
    },
    {
     "name": "stdout",
     "output_type": "stream",
     "text": [
      "--- Iteration 159: training loss = 0.0127 ---\n"
     ]
    },
    {
     "name": "stderr",
     "output_type": "stream",
     "text": [
      "\r",
      " 16%|████████████▋                                                                  | 160/1000 [00:47<04:31,  3.10it/s]"
     ]
    },
    {
     "name": "stdout",
     "output_type": "stream",
     "text": [
      "--- Iteration 160: training loss = 0.0126 ---\n"
     ]
    },
    {
     "name": "stderr",
     "output_type": "stream",
     "text": [
      "\r",
      " 16%|████████████▋                                                                  | 161/1000 [00:48<04:26,  3.15it/s]"
     ]
    },
    {
     "name": "stdout",
     "output_type": "stream",
     "text": [
      "--- Iteration 161: training loss = 0.0125 ---\n"
     ]
    },
    {
     "name": "stderr",
     "output_type": "stream",
     "text": [
      "\r",
      " 16%|████████████▊                                                                  | 162/1000 [00:48<04:22,  3.19it/s]"
     ]
    },
    {
     "name": "stdout",
     "output_type": "stream",
     "text": [
      "--- Iteration 162: training loss = 0.0125 ---\n"
     ]
    },
    {
     "name": "stderr",
     "output_type": "stream",
     "text": [
      "\r",
      " 16%|████████████▉                                                                  | 163/1000 [00:48<04:17,  3.25it/s]"
     ]
    },
    {
     "name": "stdout",
     "output_type": "stream",
     "text": [
      "--- Iteration 163: training loss = 0.0124 ---\n"
     ]
    },
    {
     "name": "stderr",
     "output_type": "stream",
     "text": [
      "\r",
      " 16%|████████████▉                                                                  | 164/1000 [00:49<04:25,  3.15it/s]"
     ]
    },
    {
     "name": "stdout",
     "output_type": "stream",
     "text": [
      "--- Iteration 164: training loss = 0.0123 ---\n"
     ]
    },
    {
     "name": "stderr",
     "output_type": "stream",
     "text": [
      "\r",
      " 16%|█████████████                                                                  | 165/1000 [00:49<04:37,  3.01it/s]"
     ]
    },
    {
     "name": "stdout",
     "output_type": "stream",
     "text": [
      "--- Iteration 165: training loss = 0.0122 ---\n"
     ]
    },
    {
     "name": "stderr",
     "output_type": "stream",
     "text": [
      "\r",
      " 17%|█████████████                                                                  | 166/1000 [00:49<04:32,  3.06it/s]"
     ]
    },
    {
     "name": "stdout",
     "output_type": "stream",
     "text": [
      "--- Iteration 166: training loss = 0.0122 ---\n"
     ]
    },
    {
     "name": "stderr",
     "output_type": "stream",
     "text": [
      "\r",
      " 17%|█████████████▏                                                                 | 167/1000 [00:50<04:36,  3.02it/s]"
     ]
    },
    {
     "name": "stdout",
     "output_type": "stream",
     "text": [
      "--- Iteration 167: training loss = 0.0121 ---\n"
     ]
    },
    {
     "name": "stderr",
     "output_type": "stream",
     "text": [
      "\r",
      " 17%|█████████████▎                                                                 | 168/1000 [00:50<04:36,  3.01it/s]"
     ]
    },
    {
     "name": "stdout",
     "output_type": "stream",
     "text": [
      "--- Iteration 168: training loss = 0.0120 ---\n"
     ]
    },
    {
     "name": "stderr",
     "output_type": "stream",
     "text": [
      "\r",
      " 17%|█████████████▎                                                                 | 169/1000 [00:50<04:34,  3.03it/s]"
     ]
    },
    {
     "name": "stdout",
     "output_type": "stream",
     "text": [
      "--- Iteration 169: training loss = 0.0120 ---\n"
     ]
    },
    {
     "name": "stderr",
     "output_type": "stream",
     "text": [
      "\r",
      " 17%|█████████████▍                                                                 | 170/1000 [00:51<04:30,  3.07it/s]"
     ]
    },
    {
     "name": "stdout",
     "output_type": "stream",
     "text": [
      "--- Iteration 170: training loss = 0.0119 ---\n"
     ]
    },
    {
     "name": "stderr",
     "output_type": "stream",
     "text": [
      "\r",
      " 17%|█████████████▌                                                                 | 171/1000 [00:51<04:34,  3.02it/s]"
     ]
    },
    {
     "name": "stdout",
     "output_type": "stream",
     "text": [
      "--- Iteration 171: training loss = 0.0118 ---\n"
     ]
    },
    {
     "name": "stderr",
     "output_type": "stream",
     "text": [
      "\r",
      " 17%|█████████████▌                                                                 | 172/1000 [00:51<04:27,  3.10it/s]"
     ]
    },
    {
     "name": "stdout",
     "output_type": "stream",
     "text": [
      "--- Iteration 172: training loss = 0.0118 ---\n"
     ]
    },
    {
     "name": "stderr",
     "output_type": "stream",
     "text": [
      "\r",
      " 17%|█████████████▋                                                                 | 173/1000 [00:51<04:19,  3.19it/s]"
     ]
    },
    {
     "name": "stdout",
     "output_type": "stream",
     "text": [
      "--- Iteration 173: training loss = 0.0117 ---\n"
     ]
    },
    {
     "name": "stderr",
     "output_type": "stream",
     "text": [
      "\r",
      " 17%|█████████████▋                                                                 | 174/1000 [00:52<04:16,  3.22it/s]"
     ]
    },
    {
     "name": "stdout",
     "output_type": "stream",
     "text": [
      "--- Iteration 174: training loss = 0.0116 ---\n"
     ]
    },
    {
     "name": "stderr",
     "output_type": "stream",
     "text": [
      "\r",
      " 18%|█████████████▊                                                                 | 175/1000 [00:52<04:19,  3.18it/s]"
     ]
    },
    {
     "name": "stdout",
     "output_type": "stream",
     "text": [
      "--- Iteration 175: training loss = 0.0116 ---\n"
     ]
    },
    {
     "name": "stderr",
     "output_type": "stream",
     "text": [
      "\r",
      " 18%|█████████████▉                                                                 | 176/1000 [00:52<04:16,  3.21it/s]"
     ]
    },
    {
     "name": "stdout",
     "output_type": "stream",
     "text": [
      "--- Iteration 176: training loss = 0.0115 ---\n"
     ]
    },
    {
     "name": "stderr",
     "output_type": "stream",
     "text": [
      "\r",
      " 18%|█████████████▉                                                                 | 177/1000 [00:53<04:14,  3.24it/s]"
     ]
    },
    {
     "name": "stdout",
     "output_type": "stream",
     "text": [
      "--- Iteration 177: training loss = 0.0114 ---\n"
     ]
    },
    {
     "name": "stderr",
     "output_type": "stream",
     "text": [
      "\r",
      " 18%|██████████████                                                                 | 178/1000 [00:53<04:20,  3.16it/s]"
     ]
    },
    {
     "name": "stdout",
     "output_type": "stream",
     "text": [
      "--- Iteration 178: training loss = 0.0114 ---\n"
     ]
    },
    {
     "name": "stderr",
     "output_type": "stream",
     "text": [
      "\r",
      " 18%|██████████████▏                                                                | 179/1000 [00:53<04:19,  3.17it/s]"
     ]
    },
    {
     "name": "stdout",
     "output_type": "stream",
     "text": [
      "--- Iteration 179: training loss = 0.0113 ---\n"
     ]
    },
    {
     "name": "stderr",
     "output_type": "stream",
     "text": [
      "\r",
      " 18%|██████████████▏                                                                | 180/1000 [00:54<04:22,  3.12it/s]"
     ]
    },
    {
     "name": "stdout",
     "output_type": "stream",
     "text": [
      "--- Iteration 180: training loss = 0.0113 ---\n"
     ]
    },
    {
     "name": "stderr",
     "output_type": "stream",
     "text": [
      "\r",
      " 18%|██████████████▎                                                                | 181/1000 [00:54<04:21,  3.14it/s]"
     ]
    },
    {
     "name": "stdout",
     "output_type": "stream",
     "text": [
      "--- Iteration 181: training loss = 0.0112 ---\n"
     ]
    },
    {
     "name": "stderr",
     "output_type": "stream",
     "text": [
      "\r",
      " 18%|██████████████▍                                                                | 182/1000 [00:54<04:12,  3.24it/s]"
     ]
    },
    {
     "name": "stdout",
     "output_type": "stream",
     "text": [
      "--- Iteration 182: training loss = 0.0111 ---\n"
     ]
    },
    {
     "name": "stderr",
     "output_type": "stream",
     "text": [
      "\r",
      " 18%|██████████████▍                                                                | 183/1000 [00:55<04:18,  3.17it/s]"
     ]
    },
    {
     "name": "stdout",
     "output_type": "stream",
     "text": [
      "--- Iteration 183: training loss = 0.0111 ---\n"
     ]
    },
    {
     "name": "stderr",
     "output_type": "stream",
     "text": [
      "\r",
      " 18%|██████████████▌                                                                | 184/1000 [00:55<04:17,  3.17it/s]"
     ]
    },
    {
     "name": "stdout",
     "output_type": "stream",
     "text": [
      "--- Iteration 184: training loss = 0.0110 ---\n"
     ]
    },
    {
     "name": "stderr",
     "output_type": "stream",
     "text": [
      "\r",
      " 18%|██████████████▌                                                                | 185/1000 [00:55<04:16,  3.18it/s]"
     ]
    },
    {
     "name": "stdout",
     "output_type": "stream",
     "text": [
      "--- Iteration 185: training loss = 0.0110 ---\n"
     ]
    },
    {
     "name": "stderr",
     "output_type": "stream",
     "text": [
      "\r",
      " 19%|██████████████▋                                                                | 186/1000 [00:56<04:23,  3.09it/s]"
     ]
    },
    {
     "name": "stdout",
     "output_type": "stream",
     "text": [
      "--- Iteration 186: training loss = 0.0109 ---\n"
     ]
    },
    {
     "name": "stderr",
     "output_type": "stream",
     "text": [
      "\r",
      " 19%|██████████████▊                                                                | 187/1000 [00:56<04:15,  3.18it/s]"
     ]
    },
    {
     "name": "stdout",
     "output_type": "stream",
     "text": [
      "--- Iteration 187: training loss = 0.0109 ---\n"
     ]
    },
    {
     "name": "stderr",
     "output_type": "stream",
     "text": [
      "\r",
      " 19%|██████████████▊                                                                | 188/1000 [00:56<04:15,  3.18it/s]"
     ]
    },
    {
     "name": "stdout",
     "output_type": "stream",
     "text": [
      "--- Iteration 188: training loss = 0.0108 ---\n"
     ]
    },
    {
     "name": "stderr",
     "output_type": "stream",
     "text": [
      "\r",
      " 19%|██████████████▉                                                                | 189/1000 [00:57<04:21,  3.10it/s]"
     ]
    },
    {
     "name": "stdout",
     "output_type": "stream",
     "text": [
      "--- Iteration 189: training loss = 0.0108 ---\n"
     ]
    },
    {
     "name": "stderr",
     "output_type": "stream",
     "text": [
      "\r",
      " 19%|███████████████                                                                | 190/1000 [00:57<04:20,  3.11it/s]"
     ]
    },
    {
     "name": "stdout",
     "output_type": "stream",
     "text": [
      "--- Iteration 190: training loss = 0.0107 ---\n"
     ]
    },
    {
     "name": "stderr",
     "output_type": "stream",
     "text": [
      "\r",
      " 19%|███████████████                                                                | 191/1000 [00:57<04:20,  3.11it/s]"
     ]
    },
    {
     "name": "stdout",
     "output_type": "stream",
     "text": [
      "--- Iteration 191: training loss = 0.0106 ---\n"
     ]
    },
    {
     "name": "stderr",
     "output_type": "stream",
     "text": [
      "\r",
      " 19%|███████████████▏                                                               | 192/1000 [00:57<04:23,  3.07it/s]"
     ]
    },
    {
     "name": "stdout",
     "output_type": "stream",
     "text": [
      "--- Iteration 192: training loss = 0.0106 ---\n"
     ]
    },
    {
     "name": "stderr",
     "output_type": "stream",
     "text": [
      "\r",
      " 19%|███████████████▏                                                               | 193/1000 [00:58<04:15,  3.16it/s]"
     ]
    },
    {
     "name": "stdout",
     "output_type": "stream",
     "text": [
      "--- Iteration 193: training loss = 0.0105 ---\n"
     ]
    },
    {
     "name": "stderr",
     "output_type": "stream",
     "text": [
      "\r",
      " 19%|███████████████▎                                                               | 194/1000 [00:58<04:24,  3.05it/s]"
     ]
    },
    {
     "name": "stdout",
     "output_type": "stream",
     "text": [
      "--- Iteration 194: training loss = 0.0105 ---\n"
     ]
    },
    {
     "name": "stderr",
     "output_type": "stream",
     "text": [
      "\r",
      " 20%|███████████████▍                                                               | 195/1000 [00:58<04:22,  3.06it/s]"
     ]
    },
    {
     "name": "stdout",
     "output_type": "stream",
     "text": [
      "--- Iteration 195: training loss = 0.0104 ---\n"
     ]
    },
    {
     "name": "stderr",
     "output_type": "stream",
     "text": [
      "\r",
      " 20%|███████████████▍                                                               | 196/1000 [00:59<04:28,  2.99it/s]"
     ]
    },
    {
     "name": "stdout",
     "output_type": "stream",
     "text": [
      "--- Iteration 196: training loss = 0.0104 ---\n"
     ]
    },
    {
     "name": "stderr",
     "output_type": "stream",
     "text": [
      "\r",
      " 20%|███████████████▌                                                               | 197/1000 [00:59<04:33,  2.94it/s]"
     ]
    },
    {
     "name": "stdout",
     "output_type": "stream",
     "text": [
      "--- Iteration 197: training loss = 0.0103 ---\n"
     ]
    },
    {
     "name": "stderr",
     "output_type": "stream",
     "text": [
      "\r",
      " 20%|███████████████▋                                                               | 198/1000 [01:00<04:33,  2.93it/s]"
     ]
    },
    {
     "name": "stdout",
     "output_type": "stream",
     "text": [
      "--- Iteration 198: training loss = 0.0103 ---\n"
     ]
    },
    {
     "name": "stderr",
     "output_type": "stream",
     "text": [
      "\r",
      " 20%|███████████████▋                                                               | 199/1000 [01:00<04:29,  2.97it/s]"
     ]
    },
    {
     "name": "stdout",
     "output_type": "stream",
     "text": [
      "--- Iteration 199: training loss = 0.0102 ---\n"
     ]
    },
    {
     "name": "stderr",
     "output_type": "stream",
     "text": [
      "\r",
      " 20%|███████████████▊                                                               | 200/1000 [01:00<04:21,  3.06it/s]"
     ]
    },
    {
     "name": "stdout",
     "output_type": "stream",
     "text": [
      "--- Iteration 200: training loss = 0.0102 ---\n"
     ]
    },
    {
     "name": "stderr",
     "output_type": "stream",
     "text": [
      "\r",
      " 20%|███████████████▉                                                               | 201/1000 [01:00<04:15,  3.13it/s]"
     ]
    },
    {
     "name": "stdout",
     "output_type": "stream",
     "text": [
      "--- Iteration 201: training loss = 0.0101 ---\n"
     ]
    },
    {
     "name": "stderr",
     "output_type": "stream",
     "text": [
      "\r",
      " 20%|███████████████▉                                                               | 202/1000 [01:01<04:18,  3.09it/s]"
     ]
    },
    {
     "name": "stdout",
     "output_type": "stream",
     "text": [
      "--- Iteration 202: training loss = 0.0101 ---\n"
     ]
    },
    {
     "name": "stderr",
     "output_type": "stream",
     "text": [
      "\r",
      " 20%|████████████████                                                               | 203/1000 [01:01<04:15,  3.11it/s]"
     ]
    },
    {
     "name": "stdout",
     "output_type": "stream",
     "text": [
      "--- Iteration 203: training loss = 0.0100 ---\n"
     ]
    },
    {
     "name": "stderr",
     "output_type": "stream",
     "text": [
      "\r",
      " 20%|████████████████                                                               | 204/1000 [01:01<04:18,  3.08it/s]"
     ]
    },
    {
     "name": "stdout",
     "output_type": "stream",
     "text": [
      "--- Iteration 204: training loss = 0.0100 ---\n"
     ]
    },
    {
     "name": "stderr",
     "output_type": "stream",
     "text": [
      "\r",
      " 20%|████████████████▏                                                              | 205/1000 [01:02<04:16,  3.10it/s]"
     ]
    },
    {
     "name": "stdout",
     "output_type": "stream",
     "text": [
      "--- Iteration 205: training loss = 0.0100 ---\n"
     ]
    },
    {
     "name": "stderr",
     "output_type": "stream",
     "text": [
      "\r",
      " 21%|████████████████▎                                                              | 206/1000 [01:02<04:18,  3.07it/s]"
     ]
    },
    {
     "name": "stdout",
     "output_type": "stream",
     "text": [
      "--- Iteration 206: training loss = 0.0099 ---\n"
     ]
    },
    {
     "name": "stderr",
     "output_type": "stream",
     "text": [
      "\r",
      " 21%|████████████████▎                                                              | 207/1000 [01:02<04:15,  3.10it/s]"
     ]
    },
    {
     "name": "stdout",
     "output_type": "stream",
     "text": [
      "--- Iteration 207: training loss = 0.0099 ---\n"
     ]
    },
    {
     "name": "stderr",
     "output_type": "stream",
     "text": [
      "\r",
      " 21%|████████████████▍                                                              | 208/1000 [01:03<04:10,  3.16it/s]"
     ]
    },
    {
     "name": "stdout",
     "output_type": "stream",
     "text": [
      "--- Iteration 208: training loss = 0.0098 ---\n"
     ]
    },
    {
     "name": "stderr",
     "output_type": "stream",
     "text": [
      "\r",
      " 21%|████████████████▌                                                              | 209/1000 [01:03<04:09,  3.17it/s]"
     ]
    },
    {
     "name": "stdout",
     "output_type": "stream",
     "text": [
      "--- Iteration 209: training loss = 0.0098 ---\n"
     ]
    },
    {
     "name": "stderr",
     "output_type": "stream",
     "text": [
      "\r",
      " 21%|████████████████▌                                                              | 210/1000 [01:03<04:02,  3.26it/s]"
     ]
    },
    {
     "name": "stdout",
     "output_type": "stream",
     "text": [
      "--- Iteration 210: training loss = 0.0097 ---\n"
     ]
    },
    {
     "name": "stderr",
     "output_type": "stream",
     "text": [
      "\r",
      " 21%|████████████████▋                                                              | 211/1000 [01:04<04:00,  3.28it/s]"
     ]
    },
    {
     "name": "stdout",
     "output_type": "stream",
     "text": [
      "--- Iteration 211: training loss = 0.0097 ---\n"
     ]
    },
    {
     "name": "stderr",
     "output_type": "stream",
     "text": [
      "\r",
      " 21%|████████████████▋                                                              | 212/1000 [01:04<04:00,  3.27it/s]"
     ]
    },
    {
     "name": "stdout",
     "output_type": "stream",
     "text": [
      "--- Iteration 212: training loss = 0.0096 ---\n"
     ]
    },
    {
     "name": "stderr",
     "output_type": "stream",
     "text": [
      "\r",
      " 21%|████████████████▊                                                              | 213/1000 [01:04<03:57,  3.31it/s]"
     ]
    },
    {
     "name": "stdout",
     "output_type": "stream",
     "text": [
      "--- Iteration 213: training loss = 0.0096 ---\n"
     ]
    },
    {
     "name": "stderr",
     "output_type": "stream",
     "text": [
      "\r",
      " 21%|████████████████▉                                                              | 214/1000 [01:04<03:55,  3.34it/s]"
     ]
    },
    {
     "name": "stdout",
     "output_type": "stream",
     "text": [
      "--- Iteration 214: training loss = 0.0096 ---\n"
     ]
    },
    {
     "name": "stderr",
     "output_type": "stream",
     "text": [
      "\r",
      " 22%|████████████████▉                                                              | 215/1000 [01:05<03:58,  3.29it/s]"
     ]
    },
    {
     "name": "stdout",
     "output_type": "stream",
     "text": [
      "--- Iteration 215: training loss = 0.0095 ---\n"
     ]
    },
    {
     "name": "stderr",
     "output_type": "stream",
     "text": [
      "\r",
      " 22%|█████████████████                                                              | 216/1000 [01:05<04:07,  3.17it/s]"
     ]
    },
    {
     "name": "stdout",
     "output_type": "stream",
     "text": [
      "--- Iteration 216: training loss = 0.0095 ---\n"
     ]
    },
    {
     "name": "stderr",
     "output_type": "stream",
     "text": [
      "\r",
      " 22%|█████████████████▏                                                             | 217/1000 [01:05<04:04,  3.20it/s]"
     ]
    },
    {
     "name": "stdout",
     "output_type": "stream",
     "text": [
      "--- Iteration 217: training loss = 0.0094 ---\n"
     ]
    },
    {
     "name": "stderr",
     "output_type": "stream",
     "text": [
      "\r",
      " 22%|█████████████████▏                                                             | 218/1000 [01:06<04:01,  3.23it/s]"
     ]
    },
    {
     "name": "stdout",
     "output_type": "stream",
     "text": [
      "--- Iteration 218: training loss = 0.0094 ---\n"
     ]
    },
    {
     "name": "stderr",
     "output_type": "stream",
     "text": [
      "\r",
      " 22%|█████████████████▎                                                             | 219/1000 [01:06<04:12,  3.09it/s]"
     ]
    },
    {
     "name": "stdout",
     "output_type": "stream",
     "text": [
      "--- Iteration 219: training loss = 0.0094 ---\n"
     ]
    },
    {
     "name": "stderr",
     "output_type": "stream",
     "text": [
      "\r",
      " 22%|█████████████████▍                                                             | 220/1000 [01:06<04:10,  3.12it/s]"
     ]
    },
    {
     "name": "stdout",
     "output_type": "stream",
     "text": [
      "--- Iteration 220: training loss = 0.0093 ---\n"
     ]
    },
    {
     "name": "stderr",
     "output_type": "stream",
     "text": [
      "\r",
      " 22%|█████████████████▍                                                             | 221/1000 [01:07<04:12,  3.08it/s]"
     ]
    },
    {
     "name": "stdout",
     "output_type": "stream",
     "text": [
      "--- Iteration 221: training loss = 0.0093 ---\n"
     ]
    },
    {
     "name": "stderr",
     "output_type": "stream",
     "text": [
      "\r",
      " 22%|█████████████████▌                                                             | 222/1000 [01:07<04:12,  3.08it/s]"
     ]
    },
    {
     "name": "stdout",
     "output_type": "stream",
     "text": [
      "--- Iteration 222: training loss = 0.0092 ---\n"
     ]
    },
    {
     "name": "stderr",
     "output_type": "stream",
     "text": [
      "\r",
      " 22%|█████████████████▌                                                             | 223/1000 [01:07<04:16,  3.03it/s]"
     ]
    },
    {
     "name": "stdout",
     "output_type": "stream",
     "text": [
      "--- Iteration 223: training loss = 0.0092 ---\n"
     ]
    },
    {
     "name": "stderr",
     "output_type": "stream",
     "text": [
      "\r",
      " 22%|█████████████████▋                                                             | 224/1000 [01:08<04:12,  3.07it/s]"
     ]
    },
    {
     "name": "stdout",
     "output_type": "stream",
     "text": [
      "--- Iteration 224: training loss = 0.0092 ---\n"
     ]
    },
    {
     "name": "stderr",
     "output_type": "stream",
     "text": [
      "\r",
      " 22%|█████████████████▊                                                             | 225/1000 [01:08<04:14,  3.05it/s]"
     ]
    },
    {
     "name": "stdout",
     "output_type": "stream",
     "text": [
      "--- Iteration 225: training loss = 0.0091 ---\n"
     ]
    },
    {
     "name": "stderr",
     "output_type": "stream",
     "text": [
      "\r",
      " 23%|█████████████████▊                                                             | 226/1000 [01:08<04:15,  3.03it/s]"
     ]
    },
    {
     "name": "stdout",
     "output_type": "stream",
     "text": [
      "--- Iteration 226: training loss = 0.0091 ---\n"
     ]
    },
    {
     "name": "stderr",
     "output_type": "stream",
     "text": [
      "\r",
      " 23%|█████████████████▉                                                             | 227/1000 [01:09<04:23,  2.94it/s]"
     ]
    },
    {
     "name": "stdout",
     "output_type": "stream",
     "text": [
      "--- Iteration 227: training loss = 0.0090 ---\n"
     ]
    },
    {
     "name": "stderr",
     "output_type": "stream",
     "text": [
      "\r",
      " 23%|██████████████████                                                             | 228/1000 [01:09<04:39,  2.76it/s]"
     ]
    },
    {
     "name": "stdout",
     "output_type": "stream",
     "text": [
      "--- Iteration 228: training loss = 0.0090 ---\n"
     ]
    },
    {
     "name": "stderr",
     "output_type": "stream",
     "text": [
      "\r",
      " 23%|██████████████████                                                             | 229/1000 [01:10<04:48,  2.67it/s]"
     ]
    },
    {
     "name": "stdout",
     "output_type": "stream",
     "text": [
      "--- Iteration 229: training loss = 0.0090 ---\n"
     ]
    },
    {
     "name": "stderr",
     "output_type": "stream",
     "text": [
      "\r",
      " 23%|██████████████████▏                                                            | 230/1000 [01:10<04:45,  2.70it/s]"
     ]
    },
    {
     "name": "stdout",
     "output_type": "stream",
     "text": [
      "--- Iteration 230: training loss = 0.0089 ---\n"
     ]
    },
    {
     "name": "stderr",
     "output_type": "stream",
     "text": [
      "\r",
      " 23%|██████████████████▏                                                            | 231/1000 [01:10<04:48,  2.67it/s]"
     ]
    },
    {
     "name": "stdout",
     "output_type": "stream",
     "text": [
      "--- Iteration 231: training loss = 0.0089 ---\n"
     ]
    },
    {
     "name": "stderr",
     "output_type": "stream",
     "text": [
      "\r",
      " 23%|██████████████████▎                                                            | 232/1000 [01:11<04:47,  2.67it/s]"
     ]
    },
    {
     "name": "stdout",
     "output_type": "stream",
     "text": [
      "--- Iteration 232: training loss = 0.0089 ---\n"
     ]
    },
    {
     "name": "stderr",
     "output_type": "stream",
     "text": [
      "\r",
      " 23%|██████████████████▍                                                            | 233/1000 [01:11<04:42,  2.71it/s]"
     ]
    },
    {
     "name": "stdout",
     "output_type": "stream",
     "text": [
      "--- Iteration 233: training loss = 0.0088 ---\n"
     ]
    },
    {
     "name": "stderr",
     "output_type": "stream",
     "text": [
      "\r",
      " 23%|██████████████████▍                                                            | 234/1000 [01:11<04:34,  2.79it/s]"
     ]
    },
    {
     "name": "stdout",
     "output_type": "stream",
     "text": [
      "--- Iteration 234: training loss = 0.0088 ---\n"
     ]
    },
    {
     "name": "stderr",
     "output_type": "stream",
     "text": [
      "\r",
      " 24%|██████████████████▌                                                            | 235/1000 [01:12<04:23,  2.90it/s]"
     ]
    },
    {
     "name": "stdout",
     "output_type": "stream",
     "text": [
      "--- Iteration 235: training loss = 0.0088 ---\n"
     ]
    },
    {
     "name": "stderr",
     "output_type": "stream",
     "text": [
      "\r",
      " 24%|██████████████████▋                                                            | 236/1000 [01:12<04:21,  2.92it/s]"
     ]
    },
    {
     "name": "stdout",
     "output_type": "stream",
     "text": [
      "--- Iteration 236: training loss = 0.0087 ---\n"
     ]
    },
    {
     "name": "stderr",
     "output_type": "stream",
     "text": [
      "\r",
      " 24%|██████████████████▋                                                            | 237/1000 [01:12<04:12,  3.03it/s]"
     ]
    },
    {
     "name": "stdout",
     "output_type": "stream",
     "text": [
      "--- Iteration 237: training loss = 0.0087 ---\n"
     ]
    },
    {
     "name": "stderr",
     "output_type": "stream",
     "text": [
      "\r",
      " 24%|██████████████████▊                                                            | 238/1000 [01:13<04:05,  3.10it/s]"
     ]
    },
    {
     "name": "stdout",
     "output_type": "stream",
     "text": [
      "--- Iteration 238: training loss = 0.0086 ---\n"
     ]
    },
    {
     "name": "stderr",
     "output_type": "stream",
     "text": [
      "\r",
      " 24%|██████████████████▉                                                            | 239/1000 [01:13<04:08,  3.07it/s]"
     ]
    },
    {
     "name": "stdout",
     "output_type": "stream",
     "text": [
      "--- Iteration 239: training loss = 0.0086 ---\n"
     ]
    },
    {
     "name": "stderr",
     "output_type": "stream",
     "text": [
      "\r",
      " 24%|██████████████████▉                                                            | 240/1000 [01:13<04:09,  3.04it/s]"
     ]
    },
    {
     "name": "stdout",
     "output_type": "stream",
     "text": [
      "--- Iteration 240: training loss = 0.0086 ---\n"
     ]
    },
    {
     "name": "stderr",
     "output_type": "stream",
     "text": [
      "\r",
      " 24%|███████████████████                                                            | 241/1000 [01:14<04:08,  3.05it/s]"
     ]
    },
    {
     "name": "stdout",
     "output_type": "stream",
     "text": [
      "--- Iteration 241: training loss = 0.0085 ---\n"
     ]
    },
    {
     "name": "stderr",
     "output_type": "stream",
     "text": [
      "\r",
      " 24%|███████████████████                                                            | 242/1000 [01:14<04:00,  3.15it/s]"
     ]
    },
    {
     "name": "stdout",
     "output_type": "stream",
     "text": [
      "--- Iteration 242: training loss = 0.0085 ---\n"
     ]
    },
    {
     "name": "stderr",
     "output_type": "stream",
     "text": [
      "\r",
      " 24%|███████████████████▏                                                           | 243/1000 [01:14<04:04,  3.10it/s]"
     ]
    },
    {
     "name": "stdout",
     "output_type": "stream",
     "text": [
      "--- Iteration 243: training loss = 0.0085 ---\n"
     ]
    },
    {
     "name": "stderr",
     "output_type": "stream",
     "text": [
      "\r",
      " 24%|███████████████████▎                                                           | 244/1000 [01:15<04:03,  3.10it/s]"
     ]
    },
    {
     "name": "stdout",
     "output_type": "stream",
     "text": [
      "--- Iteration 244: training loss = 0.0084 ---\n"
     ]
    },
    {
     "name": "stderr",
     "output_type": "stream",
     "text": [
      "\r",
      " 24%|███████████████████▎                                                           | 245/1000 [01:15<03:59,  3.15it/s]"
     ]
    },
    {
     "name": "stdout",
     "output_type": "stream",
     "text": [
      "--- Iteration 245: training loss = 0.0084 ---\n"
     ]
    },
    {
     "name": "stderr",
     "output_type": "stream",
     "text": [
      "\r",
      " 25%|███████████████████▍                                                           | 246/1000 [01:15<03:58,  3.16it/s]"
     ]
    },
    {
     "name": "stdout",
     "output_type": "stream",
     "text": [
      "--- Iteration 246: training loss = 0.0084 ---\n"
     ]
    },
    {
     "name": "stderr",
     "output_type": "stream",
     "text": [
      "\r",
      " 25%|███████████████████▌                                                           | 247/1000 [01:16<03:59,  3.14it/s]"
     ]
    },
    {
     "name": "stdout",
     "output_type": "stream",
     "text": [
      "--- Iteration 247: training loss = 0.0084 ---\n"
     ]
    },
    {
     "name": "stderr",
     "output_type": "stream",
     "text": [
      "\r",
      " 25%|███████████████████▌                                                           | 248/1000 [01:16<04:03,  3.09it/s]"
     ]
    },
    {
     "name": "stdout",
     "output_type": "stream",
     "text": [
      "--- Iteration 248: training loss = 0.0083 ---\n"
     ]
    },
    {
     "name": "stderr",
     "output_type": "stream",
     "text": [
      "\r",
      " 25%|███████████████████▋                                                           | 249/1000 [01:16<04:09,  3.01it/s]"
     ]
    },
    {
     "name": "stdout",
     "output_type": "stream",
     "text": [
      "--- Iteration 249: training loss = 0.0083 ---\n"
     ]
    },
    {
     "name": "stderr",
     "output_type": "stream",
     "text": [
      "\r",
      " 25%|███████████████████▊                                                           | 250/1000 [01:17<04:10,  3.00it/s]"
     ]
    },
    {
     "name": "stdout",
     "output_type": "stream",
     "text": [
      "--- Iteration 250: training loss = 0.0083 ---\n"
     ]
    },
    {
     "name": "stderr",
     "output_type": "stream",
     "text": [
      "\r",
      " 25%|███████████████████▊                                                           | 251/1000 [01:17<04:02,  3.08it/s]"
     ]
    },
    {
     "name": "stdout",
     "output_type": "stream",
     "text": [
      "--- Iteration 251: training loss = 0.0082 ---\n"
     ]
    },
    {
     "name": "stderr",
     "output_type": "stream",
     "text": [
      "\r",
      " 25%|███████████████████▉                                                           | 252/1000 [01:17<04:11,  2.97it/s]"
     ]
    },
    {
     "name": "stdout",
     "output_type": "stream",
     "text": [
      "--- Iteration 252: training loss = 0.0082 ---\n"
     ]
    },
    {
     "name": "stderr",
     "output_type": "stream",
     "text": [
      "\r",
      " 25%|███████████████████▉                                                           | 253/1000 [01:18<04:03,  3.06it/s]"
     ]
    },
    {
     "name": "stdout",
     "output_type": "stream",
     "text": [
      "--- Iteration 253: training loss = 0.0082 ---\n"
     ]
    },
    {
     "name": "stderr",
     "output_type": "stream",
     "text": [
      "\r",
      " 25%|████████████████████                                                           | 254/1000 [01:18<03:58,  3.13it/s]"
     ]
    },
    {
     "name": "stdout",
     "output_type": "stream",
     "text": [
      "--- Iteration 254: training loss = 0.0081 ---\n"
     ]
    },
    {
     "name": "stderr",
     "output_type": "stream",
     "text": [
      "\r",
      " 26%|████████████████████▏                                                          | 255/1000 [01:18<03:56,  3.15it/s]"
     ]
    },
    {
     "name": "stdout",
     "output_type": "stream",
     "text": [
      "--- Iteration 255: training loss = 0.0081 ---\n"
     ]
    },
    {
     "name": "stderr",
     "output_type": "stream",
     "text": [
      "\r",
      " 26%|████████████████████▏                                                          | 256/1000 [01:19<04:06,  3.01it/s]"
     ]
    },
    {
     "name": "stdout",
     "output_type": "stream",
     "text": [
      "--- Iteration 256: training loss = 0.0081 ---\n"
     ]
    },
    {
     "name": "stderr",
     "output_type": "stream",
     "text": [
      "\r",
      " 26%|████████████████████▎                                                          | 257/1000 [01:19<03:58,  3.12it/s]"
     ]
    },
    {
     "name": "stdout",
     "output_type": "stream",
     "text": [
      "--- Iteration 257: training loss = 0.0080 ---\n"
     ]
    },
    {
     "name": "stderr",
     "output_type": "stream",
     "text": [
      "\r",
      " 26%|████████████████████▍                                                          | 258/1000 [01:19<03:54,  3.17it/s]"
     ]
    },
    {
     "name": "stdout",
     "output_type": "stream",
     "text": [
      "--- Iteration 258: training loss = 0.0080 ---\n"
     ]
    },
    {
     "name": "stderr",
     "output_type": "stream",
     "text": [
      "\r",
      " 26%|████████████████████▍                                                          | 259/1000 [01:19<04:04,  3.03it/s]"
     ]
    },
    {
     "name": "stdout",
     "output_type": "stream",
     "text": [
      "--- Iteration 259: training loss = 0.0080 ---\n"
     ]
    },
    {
     "name": "stderr",
     "output_type": "stream",
     "text": [
      "\r",
      " 26%|████████████████████▌                                                          | 260/1000 [01:20<04:09,  2.96it/s]"
     ]
    },
    {
     "name": "stdout",
     "output_type": "stream",
     "text": [
      "--- Iteration 260: training loss = 0.0080 ---\n"
     ]
    },
    {
     "name": "stderr",
     "output_type": "stream",
     "text": [
      "\r",
      " 26%|████████████████████▌                                                          | 261/1000 [01:20<04:16,  2.88it/s]"
     ]
    },
    {
     "name": "stdout",
     "output_type": "stream",
     "text": [
      "--- Iteration 261: training loss = 0.0079 ---\n"
     ]
    },
    {
     "name": "stderr",
     "output_type": "stream",
     "text": [
      "\r",
      " 26%|████████████████████▋                                                          | 262/1000 [01:21<04:19,  2.85it/s]"
     ]
    },
    {
     "name": "stdout",
     "output_type": "stream",
     "text": [
      "--- Iteration 262: training loss = 0.0079 ---\n"
     ]
    },
    {
     "name": "stderr",
     "output_type": "stream",
     "text": [
      "\r",
      " 26%|████████████████████▊                                                          | 263/1000 [01:21<04:19,  2.84it/s]"
     ]
    },
    {
     "name": "stdout",
     "output_type": "stream",
     "text": [
      "--- Iteration 263: training loss = 0.0079 ---\n"
     ]
    },
    {
     "name": "stderr",
     "output_type": "stream",
     "text": [
      "\r",
      " 26%|████████████████████▊                                                          | 264/1000 [01:21<04:46,  2.57it/s]"
     ]
    },
    {
     "name": "stdout",
     "output_type": "stream",
     "text": [
      "--- Iteration 264: training loss = 0.0078 ---\n"
     ]
    },
    {
     "name": "stderr",
     "output_type": "stream",
     "text": [
      "\r",
      " 26%|████████████████████▉                                                          | 265/1000 [01:22<04:55,  2.48it/s]"
     ]
    },
    {
     "name": "stdout",
     "output_type": "stream",
     "text": [
      "--- Iteration 265: training loss = 0.0078 ---\n"
     ]
    },
    {
     "name": "stderr",
     "output_type": "stream",
     "text": [
      "\r",
      " 27%|█████████████████████                                                          | 266/1000 [01:22<05:06,  2.39it/s]"
     ]
    },
    {
     "name": "stdout",
     "output_type": "stream",
     "text": [
      "--- Iteration 266: training loss = 0.0078 ---\n"
     ]
    },
    {
     "name": "stderr",
     "output_type": "stream",
     "text": [
      "\r",
      " 27%|█████████████████████                                                          | 267/1000 [01:23<05:03,  2.41it/s]"
     ]
    },
    {
     "name": "stdout",
     "output_type": "stream",
     "text": [
      "--- Iteration 267: training loss = 0.0078 ---\n"
     ]
    },
    {
     "name": "stderr",
     "output_type": "stream",
     "text": [
      "\r",
      " 27%|█████████████████████▏                                                         | 268/1000 [01:23<05:10,  2.36it/s]"
     ]
    },
    {
     "name": "stdout",
     "output_type": "stream",
     "text": [
      "--- Iteration 268: training loss = 0.0077 ---\n"
     ]
    },
    {
     "name": "stderr",
     "output_type": "stream",
     "text": [
      "\r",
      " 27%|█████████████████████▎                                                         | 269/1000 [01:24<05:05,  2.39it/s]"
     ]
    },
    {
     "name": "stdout",
     "output_type": "stream",
     "text": [
      "--- Iteration 269: training loss = 0.0077 ---\n"
     ]
    },
    {
     "name": "stderr",
     "output_type": "stream",
     "text": [
      "\r",
      " 27%|█████████████████████▎                                                         | 270/1000 [01:24<05:08,  2.36it/s]"
     ]
    },
    {
     "name": "stdout",
     "output_type": "stream",
     "text": [
      "--- Iteration 270: training loss = 0.0077 ---\n"
     ]
    },
    {
     "name": "stderr",
     "output_type": "stream",
     "text": [
      "\r",
      " 27%|█████████████████████▍                                                         | 271/1000 [01:24<05:06,  2.38it/s]"
     ]
    },
    {
     "name": "stdout",
     "output_type": "stream",
     "text": [
      "--- Iteration 271: training loss = 0.0077 ---\n"
     ]
    },
    {
     "name": "stderr",
     "output_type": "stream",
     "text": [
      "\r",
      " 27%|█████████████████████▍                                                         | 272/1000 [01:25<05:04,  2.39it/s]"
     ]
    },
    {
     "name": "stdout",
     "output_type": "stream",
     "text": [
      "--- Iteration 272: training loss = 0.0076 ---\n"
     ]
    },
    {
     "name": "stderr",
     "output_type": "stream",
     "text": [
      "\r",
      " 27%|█████████████████████▌                                                         | 273/1000 [01:25<05:10,  2.34it/s]"
     ]
    },
    {
     "name": "stdout",
     "output_type": "stream",
     "text": [
      "--- Iteration 273: training loss = 0.0076 ---\n"
     ]
    },
    {
     "name": "stderr",
     "output_type": "stream",
     "text": [
      "\r",
      " 27%|█████████████████████▋                                                         | 274/1000 [01:26<05:10,  2.33it/s]"
     ]
    },
    {
     "name": "stdout",
     "output_type": "stream",
     "text": [
      "--- Iteration 274: training loss = 0.0076 ---\n"
     ]
    },
    {
     "name": "stderr",
     "output_type": "stream",
     "text": [
      "\r",
      " 28%|█████████████████████▋                                                         | 275/1000 [01:26<05:23,  2.24it/s]"
     ]
    },
    {
     "name": "stdout",
     "output_type": "stream",
     "text": [
      "--- Iteration 275: training loss = 0.0076 ---\n"
     ]
    },
    {
     "name": "stderr",
     "output_type": "stream",
     "text": [
      "\r",
      " 28%|█████████████████████▊                                                         | 276/1000 [01:27<05:31,  2.18it/s]"
     ]
    },
    {
     "name": "stdout",
     "output_type": "stream",
     "text": [
      "--- Iteration 276: training loss = 0.0075 ---\n"
     ]
    },
    {
     "name": "stderr",
     "output_type": "stream",
     "text": [
      "\r",
      " 28%|█████████████████████▉                                                         | 277/1000 [01:27<05:30,  2.19it/s]"
     ]
    },
    {
     "name": "stdout",
     "output_type": "stream",
     "text": [
      "--- Iteration 277: training loss = 0.0075 ---\n"
     ]
    },
    {
     "name": "stderr",
     "output_type": "stream",
     "text": [
      "\r",
      " 28%|█████████████████████▉                                                         | 278/1000 [01:28<05:28,  2.20it/s]"
     ]
    },
    {
     "name": "stdout",
     "output_type": "stream",
     "text": [
      "--- Iteration 278: training loss = 0.0075 ---\n"
     ]
    },
    {
     "name": "stderr",
     "output_type": "stream",
     "text": [
      "\r",
      " 28%|██████████████████████                                                         | 279/1000 [01:28<05:21,  2.24it/s]"
     ]
    },
    {
     "name": "stdout",
     "output_type": "stream",
     "text": [
      "--- Iteration 279: training loss = 0.0075 ---\n"
     ]
    },
    {
     "name": "stderr",
     "output_type": "stream",
     "text": [
      "\r",
      " 28%|██████████████████████                                                         | 280/1000 [01:28<05:12,  2.31it/s]"
     ]
    },
    {
     "name": "stdout",
     "output_type": "stream",
     "text": [
      "--- Iteration 280: training loss = 0.0074 ---\n"
     ]
    },
    {
     "name": "stderr",
     "output_type": "stream",
     "text": [
      "\r",
      " 28%|██████████████████████▏                                                        | 281/1000 [01:29<04:56,  2.43it/s]"
     ]
    },
    {
     "name": "stdout",
     "output_type": "stream",
     "text": [
      "--- Iteration 281: training loss = 0.0074 ---\n"
     ]
    },
    {
     "name": "stderr",
     "output_type": "stream",
     "text": [
      "\r",
      " 28%|██████████████████████▎                                                        | 282/1000 [01:29<05:05,  2.35it/s]"
     ]
    },
    {
     "name": "stdout",
     "output_type": "stream",
     "text": [
      "--- Iteration 282: training loss = 0.0074 ---\n"
     ]
    },
    {
     "name": "stderr",
     "output_type": "stream",
     "text": [
      "\r",
      " 28%|██████████████████████▎                                                        | 283/1000 [01:30<05:04,  2.35it/s]"
     ]
    },
    {
     "name": "stdout",
     "output_type": "stream",
     "text": [
      "--- Iteration 283: training loss = 0.0074 ---\n"
     ]
    },
    {
     "name": "stderr",
     "output_type": "stream",
     "text": [
      "\r",
      " 28%|██████████████████████▍                                                        | 284/1000 [01:30<05:08,  2.32it/s]"
     ]
    },
    {
     "name": "stdout",
     "output_type": "stream",
     "text": [
      "--- Iteration 284: training loss = 0.0073 ---\n"
     ]
    },
    {
     "name": "stderr",
     "output_type": "stream",
     "text": [
      "\r",
      " 28%|██████████████████████▌                                                        | 285/1000 [01:31<05:11,  2.29it/s]"
     ]
    },
    {
     "name": "stdout",
     "output_type": "stream",
     "text": [
      "--- Iteration 285: training loss = 0.0073 ---\n"
     ]
    },
    {
     "name": "stderr",
     "output_type": "stream",
     "text": [
      "\r",
      " 29%|██████████████████████▌                                                        | 286/1000 [01:31<05:06,  2.33it/s]"
     ]
    },
    {
     "name": "stdout",
     "output_type": "stream",
     "text": [
      "--- Iteration 286: training loss = 0.0073 ---\n"
     ]
    },
    {
     "name": "stderr",
     "output_type": "stream",
     "text": [
      "\r",
      " 29%|██████████████████████▋                                                        | 287/1000 [01:31<04:54,  2.42it/s]"
     ]
    },
    {
     "name": "stdout",
     "output_type": "stream",
     "text": [
      "--- Iteration 287: training loss = 0.0073 ---\n"
     ]
    },
    {
     "name": "stderr",
     "output_type": "stream",
     "text": [
      "\r",
      " 29%|██████████████████████▊                                                        | 288/1000 [01:32<05:01,  2.36it/s]"
     ]
    },
    {
     "name": "stdout",
     "output_type": "stream",
     "text": [
      "--- Iteration 288: training loss = 0.0072 ---\n"
     ]
    },
    {
     "name": "stderr",
     "output_type": "stream",
     "text": [
      "\r",
      " 29%|██████████████████████▊                                                        | 289/1000 [01:32<04:59,  2.38it/s]"
     ]
    },
    {
     "name": "stdout",
     "output_type": "stream",
     "text": [
      "--- Iteration 289: training loss = 0.0072 ---\n"
     ]
    },
    {
     "name": "stderr",
     "output_type": "stream",
     "text": [
      "\r",
      " 29%|██████████████████████▉                                                        | 290/1000 [01:33<04:52,  2.42it/s]"
     ]
    },
    {
     "name": "stdout",
     "output_type": "stream",
     "text": [
      "--- Iteration 290: training loss = 0.0072 ---\n"
     ]
    },
    {
     "name": "stderr",
     "output_type": "stream",
     "text": [
      "\r",
      " 29%|██████████████████████▉                                                        | 291/1000 [01:33<04:50,  2.44it/s]"
     ]
    },
    {
     "name": "stdout",
     "output_type": "stream",
     "text": [
      "--- Iteration 291: training loss = 0.0072 ---\n"
     ]
    },
    {
     "name": "stderr",
     "output_type": "stream",
     "text": [
      "\r",
      " 29%|███████████████████████                                                        | 292/1000 [01:33<04:43,  2.50it/s]"
     ]
    },
    {
     "name": "stdout",
     "output_type": "stream",
     "text": [
      "--- Iteration 292: training loss = 0.0071 ---\n"
     ]
    },
    {
     "name": "stderr",
     "output_type": "stream",
     "text": [
      "\r",
      " 29%|███████████████████████▏                                                       | 293/1000 [01:34<04:43,  2.49it/s]"
     ]
    },
    {
     "name": "stdout",
     "output_type": "stream",
     "text": [
      "--- Iteration 293: training loss = 0.0071 ---\n"
     ]
    },
    {
     "name": "stderr",
     "output_type": "stream",
     "text": [
      "\r",
      " 29%|███████████████████████▏                                                       | 294/1000 [01:34<04:41,  2.51it/s]"
     ]
    },
    {
     "name": "stdout",
     "output_type": "stream",
     "text": [
      "--- Iteration 294: training loss = 0.0071 ---\n"
     ]
    },
    {
     "name": "stderr",
     "output_type": "stream",
     "text": [
      "\r",
      " 30%|███████████████████████▎                                                       | 295/1000 [01:35<04:50,  2.42it/s]"
     ]
    },
    {
     "name": "stdout",
     "output_type": "stream",
     "text": [
      "--- Iteration 295: training loss = 0.0071 ---\n"
     ]
    },
    {
     "name": "stderr",
     "output_type": "stream",
     "text": [
      "\r",
      " 30%|███████████████████████▍                                                       | 296/1000 [01:35<04:50,  2.42it/s]"
     ]
    },
    {
     "name": "stdout",
     "output_type": "stream",
     "text": [
      "--- Iteration 296: training loss = 0.0071 ---\n"
     ]
    },
    {
     "name": "stderr",
     "output_type": "stream",
     "text": [
      "\r",
      " 30%|███████████████████████▍                                                       | 297/1000 [01:35<04:57,  2.37it/s]"
     ]
    },
    {
     "name": "stdout",
     "output_type": "stream",
     "text": [
      "--- Iteration 297: training loss = 0.0070 ---\n"
     ]
    },
    {
     "name": "stderr",
     "output_type": "stream",
     "text": [
      "\r",
      " 30%|███████████████████████▌                                                       | 298/1000 [01:36<04:52,  2.40it/s]"
     ]
    },
    {
     "name": "stdout",
     "output_type": "stream",
     "text": [
      "--- Iteration 298: training loss = 0.0070 ---\n"
     ]
    },
    {
     "name": "stderr",
     "output_type": "stream",
     "text": [
      "\r",
      " 30%|███████████████████████▌                                                       | 299/1000 [01:36<04:49,  2.42it/s]"
     ]
    },
    {
     "name": "stdout",
     "output_type": "stream",
     "text": [
      "--- Iteration 299: training loss = 0.0070 ---\n"
     ]
    },
    {
     "name": "stderr",
     "output_type": "stream",
     "text": [
      "\r",
      " 30%|███████████████████████▋                                                       | 300/1000 [01:37<04:45,  2.45it/s]"
     ]
    },
    {
     "name": "stdout",
     "output_type": "stream",
     "text": [
      "--- Iteration 300: training loss = 0.0070 ---\n"
     ]
    },
    {
     "name": "stderr",
     "output_type": "stream",
     "text": [
      "\r",
      " 30%|███████████████████████▊                                                       | 301/1000 [01:37<04:39,  2.50it/s]"
     ]
    },
    {
     "name": "stdout",
     "output_type": "stream",
     "text": [
      "--- Iteration 301: training loss = 0.0069 ---\n"
     ]
    },
    {
     "name": "stderr",
     "output_type": "stream",
     "text": [
      "\r",
      " 30%|███████████████████████▊                                                       | 302/1000 [01:37<04:48,  2.42it/s]"
     ]
    },
    {
     "name": "stdout",
     "output_type": "stream",
     "text": [
      "--- Iteration 302: training loss = 0.0069 ---\n"
     ]
    },
    {
     "name": "stderr",
     "output_type": "stream",
     "text": [
      "\r",
      " 30%|███████████████████████▉                                                       | 303/1000 [01:38<04:44,  2.45it/s]"
     ]
    },
    {
     "name": "stdout",
     "output_type": "stream",
     "text": [
      "--- Iteration 303: training loss = 0.0069 ---\n"
     ]
    },
    {
     "name": "stderr",
     "output_type": "stream",
     "text": [
      "\r",
      " 30%|████████████████████████                                                       | 304/1000 [01:38<04:42,  2.46it/s]"
     ]
    },
    {
     "name": "stdout",
     "output_type": "stream",
     "text": [
      "--- Iteration 304: training loss = 0.0069 ---\n"
     ]
    },
    {
     "name": "stderr",
     "output_type": "stream",
     "text": [
      "\r",
      " 30%|████████████████████████                                                       | 305/1000 [01:39<04:37,  2.51it/s]"
     ]
    },
    {
     "name": "stdout",
     "output_type": "stream",
     "text": [
      "--- Iteration 305: training loss = 0.0069 ---\n"
     ]
    },
    {
     "name": "stderr",
     "output_type": "stream",
     "text": [
      "\r",
      " 31%|████████████████████████▏                                                      | 306/1000 [01:39<04:42,  2.45it/s]"
     ]
    },
    {
     "name": "stdout",
     "output_type": "stream",
     "text": [
      "--- Iteration 306: training loss = 0.0068 ---\n"
     ]
    },
    {
     "name": "stderr",
     "output_type": "stream",
     "text": [
      "\r",
      " 31%|████████████████████████▎                                                      | 307/1000 [01:39<04:44,  2.44it/s]"
     ]
    },
    {
     "name": "stdout",
     "output_type": "stream",
     "text": [
      "--- Iteration 307: training loss = 0.0068 ---\n"
     ]
    },
    {
     "name": "stderr",
     "output_type": "stream",
     "text": [
      "\r",
      " 31%|████████████████████████▎                                                      | 308/1000 [01:40<04:46,  2.42it/s]"
     ]
    },
    {
     "name": "stdout",
     "output_type": "stream",
     "text": [
      "--- Iteration 308: training loss = 0.0068 ---\n"
     ]
    },
    {
     "name": "stderr",
     "output_type": "stream",
     "text": [
      "\r",
      " 31%|████████████████████████▍                                                      | 309/1000 [01:40<04:46,  2.41it/s]"
     ]
    },
    {
     "name": "stdout",
     "output_type": "stream",
     "text": [
      "--- Iteration 309: training loss = 0.0068 ---\n"
     ]
    },
    {
     "name": "stderr",
     "output_type": "stream",
     "text": [
      "\r",
      " 31%|████████████████████████▍                                                      | 310/1000 [01:41<04:45,  2.42it/s]"
     ]
    },
    {
     "name": "stdout",
     "output_type": "stream",
     "text": [
      "--- Iteration 310: training loss = 0.0068 ---\n"
     ]
    },
    {
     "name": "stderr",
     "output_type": "stream",
     "text": [
      "\r",
      " 31%|████████████████████████▌                                                      | 311/1000 [01:41<04:33,  2.52it/s]"
     ]
    },
    {
     "name": "stdout",
     "output_type": "stream",
     "text": [
      "--- Iteration 311: training loss = 0.0067 ---\n"
     ]
    },
    {
     "name": "stderr",
     "output_type": "stream",
     "text": [
      "\r",
      " 31%|████████████████████████▋                                                      | 312/1000 [01:41<04:32,  2.53it/s]"
     ]
    },
    {
     "name": "stdout",
     "output_type": "stream",
     "text": [
      "--- Iteration 312: training loss = 0.0067 ---\n"
     ]
    },
    {
     "name": "stderr",
     "output_type": "stream",
     "text": [
      "\r",
      " 31%|████████████████████████▋                                                      | 313/1000 [01:42<04:25,  2.58it/s]"
     ]
    },
    {
     "name": "stdout",
     "output_type": "stream",
     "text": [
      "--- Iteration 313: training loss = 0.0067 ---\n"
     ]
    },
    {
     "name": "stderr",
     "output_type": "stream",
     "text": [
      "\r",
      " 31%|████████████████████████▊                                                      | 314/1000 [01:42<04:31,  2.53it/s]"
     ]
    },
    {
     "name": "stdout",
     "output_type": "stream",
     "text": [
      "--- Iteration 314: training loss = 0.0067 ---\n"
     ]
    },
    {
     "name": "stderr",
     "output_type": "stream",
     "text": [
      "\r",
      " 32%|████████████████████████▉                                                      | 315/1000 [01:43<04:22,  2.61it/s]"
     ]
    },
    {
     "name": "stdout",
     "output_type": "stream",
     "text": [
      "--- Iteration 315: training loss = 0.0067 ---\n"
     ]
    },
    {
     "name": "stderr",
     "output_type": "stream",
     "text": [
      "\r",
      " 32%|████████████████████████▉                                                      | 316/1000 [01:43<04:05,  2.79it/s]"
     ]
    },
    {
     "name": "stdout",
     "output_type": "stream",
     "text": [
      "--- Iteration 316: training loss = 0.0066 ---\n"
     ]
    },
    {
     "name": "stderr",
     "output_type": "stream",
     "text": [
      "\r",
      " 32%|█████████████████████████                                                      | 317/1000 [01:43<03:52,  2.94it/s]"
     ]
    },
    {
     "name": "stdout",
     "output_type": "stream",
     "text": [
      "--- Iteration 317: training loss = 0.0066 ---\n"
     ]
    },
    {
     "name": "stderr",
     "output_type": "stream",
     "text": [
      "\r",
      " 32%|█████████████████████████                                                      | 318/1000 [01:44<03:50,  2.96it/s]"
     ]
    },
    {
     "name": "stdout",
     "output_type": "stream",
     "text": [
      "--- Iteration 318: training loss = 0.0066 ---\n"
     ]
    },
    {
     "name": "stderr",
     "output_type": "stream",
     "text": [
      "\r",
      " 32%|█████████████████████████▏                                                     | 319/1000 [01:44<03:43,  3.04it/s]"
     ]
    },
    {
     "name": "stdout",
     "output_type": "stream",
     "text": [
      "--- Iteration 319: training loss = 0.0066 ---\n"
     ]
    },
    {
     "name": "stderr",
     "output_type": "stream",
     "text": [
      "\r",
      " 32%|█████████████████████████▎                                                     | 320/1000 [01:44<03:40,  3.08it/s]"
     ]
    },
    {
     "name": "stdout",
     "output_type": "stream",
     "text": [
      "--- Iteration 320: training loss = 0.0066 ---\n"
     ]
    },
    {
     "name": "stderr",
     "output_type": "stream",
     "text": [
      "\r",
      " 32%|█████████████████████████▎                                                     | 321/1000 [01:44<03:35,  3.14it/s]"
     ]
    },
    {
     "name": "stdout",
     "output_type": "stream",
     "text": [
      "--- Iteration 321: training loss = 0.0065 ---\n"
     ]
    },
    {
     "name": "stderr",
     "output_type": "stream",
     "text": [
      "\r",
      " 32%|█████████████████████████▍                                                     | 322/1000 [01:45<03:32,  3.19it/s]"
     ]
    },
    {
     "name": "stdout",
     "output_type": "stream",
     "text": [
      "--- Iteration 322: training loss = 0.0065 ---\n"
     ]
    },
    {
     "name": "stderr",
     "output_type": "stream",
     "text": [
      "\r",
      " 32%|█████████████████████████▌                                                     | 323/1000 [01:45<03:29,  3.22it/s]"
     ]
    },
    {
     "name": "stdout",
     "output_type": "stream",
     "text": [
      "--- Iteration 323: training loss = 0.0065 ---\n"
     ]
    },
    {
     "name": "stderr",
     "output_type": "stream",
     "text": [
      "\r",
      " 32%|█████████████████████████▌                                                     | 324/1000 [01:45<03:30,  3.21it/s]"
     ]
    },
    {
     "name": "stdout",
     "output_type": "stream",
     "text": [
      "--- Iteration 324: training loss = 0.0065 ---\n"
     ]
    },
    {
     "name": "stderr",
     "output_type": "stream",
     "text": [
      "\r",
      " 32%|█████████████████████████▋                                                     | 325/1000 [01:46<03:29,  3.23it/s]"
     ]
    },
    {
     "name": "stdout",
     "output_type": "stream",
     "text": [
      "--- Iteration 325: training loss = 0.0065 ---\n"
     ]
    },
    {
     "name": "stderr",
     "output_type": "stream",
     "text": [
      "\r",
      " 33%|█████████████████████████▊                                                     | 326/1000 [01:46<03:29,  3.21it/s]"
     ]
    },
    {
     "name": "stdout",
     "output_type": "stream",
     "text": [
      "--- Iteration 326: training loss = 0.0064 ---\n"
     ]
    },
    {
     "name": "stderr",
     "output_type": "stream",
     "text": [
      "\r",
      " 33%|█████████████████████████▊                                                     | 327/1000 [01:46<03:31,  3.18it/s]"
     ]
    },
    {
     "name": "stdout",
     "output_type": "stream",
     "text": [
      "--- Iteration 327: training loss = 0.0064 ---\n"
     ]
    },
    {
     "name": "stderr",
     "output_type": "stream",
     "text": [
      "\r",
      " 33%|█████████████████████████▉                                                     | 328/1000 [01:47<03:33,  3.15it/s]"
     ]
    },
    {
     "name": "stdout",
     "output_type": "stream",
     "text": [
      "--- Iteration 328: training loss = 0.0064 ---\n"
     ]
    },
    {
     "name": "stderr",
     "output_type": "stream",
     "text": [
      "\r",
      " 33%|█████████████████████████▉                                                     | 329/1000 [01:47<03:33,  3.14it/s]"
     ]
    },
    {
     "name": "stdout",
     "output_type": "stream",
     "text": [
      "--- Iteration 329: training loss = 0.0064 ---\n"
     ]
    },
    {
     "name": "stderr",
     "output_type": "stream",
     "text": [
      "\r",
      " 33%|██████████████████████████                                                     | 330/1000 [01:47<03:24,  3.27it/s]"
     ]
    },
    {
     "name": "stdout",
     "output_type": "stream",
     "text": [
      "--- Iteration 330: training loss = 0.0064 ---\n"
     ]
    },
    {
     "name": "stderr",
     "output_type": "stream",
     "text": [
      "\r",
      " 33%|██████████████████████████▏                                                    | 331/1000 [01:48<03:30,  3.18it/s]"
     ]
    },
    {
     "name": "stdout",
     "output_type": "stream",
     "text": [
      "--- Iteration 331: training loss = 0.0064 ---\n"
     ]
    },
    {
     "name": "stderr",
     "output_type": "stream",
     "text": [
      "\r",
      " 33%|██████████████████████████▏                                                    | 332/1000 [01:48<03:29,  3.19it/s]"
     ]
    },
    {
     "name": "stdout",
     "output_type": "stream",
     "text": [
      "--- Iteration 332: training loss = 0.0063 ---\n"
     ]
    },
    {
     "name": "stderr",
     "output_type": "stream",
     "text": [
      "\r",
      " 33%|██████████████████████████▎                                                    | 333/1000 [01:48<03:27,  3.22it/s]"
     ]
    },
    {
     "name": "stdout",
     "output_type": "stream",
     "text": [
      "--- Iteration 333: training loss = 0.0063 ---\n"
     ]
    },
    {
     "name": "stderr",
     "output_type": "stream",
     "text": [
      "\r",
      " 33%|██████████████████████████▍                                                    | 334/1000 [01:49<03:27,  3.21it/s]"
     ]
    },
    {
     "name": "stdout",
     "output_type": "stream",
     "text": [
      "--- Iteration 334: training loss = 0.0063 ---\n"
     ]
    },
    {
     "name": "stderr",
     "output_type": "stream",
     "text": [
      "\r",
      " 34%|██████████████████████████▍                                                    | 335/1000 [01:49<03:21,  3.30it/s]"
     ]
    },
    {
     "name": "stdout",
     "output_type": "stream",
     "text": [
      "--- Iteration 335: training loss = 0.0063 ---\n"
     ]
    },
    {
     "name": "stderr",
     "output_type": "stream",
     "text": [
      "\r",
      " 34%|██████████████████████████▌                                                    | 336/1000 [01:49<03:27,  3.20it/s]"
     ]
    },
    {
     "name": "stdout",
     "output_type": "stream",
     "text": [
      "--- Iteration 336: training loss = 0.0063 ---\n"
     ]
    },
    {
     "name": "stderr",
     "output_type": "stream",
     "text": [
      "\r",
      " 34%|██████████████████████████▌                                                    | 337/1000 [01:49<03:27,  3.20it/s]"
     ]
    },
    {
     "name": "stdout",
     "output_type": "stream",
     "text": [
      "--- Iteration 337: training loss = 0.0063 ---\n"
     ]
    },
    {
     "name": "stderr",
     "output_type": "stream",
     "text": [
      "\r",
      " 34%|██████████████████████████▋                                                    | 338/1000 [01:50<03:25,  3.23it/s]"
     ]
    },
    {
     "name": "stdout",
     "output_type": "stream",
     "text": [
      "--- Iteration 338: training loss = 0.0062 ---\n"
     ]
    },
    {
     "name": "stderr",
     "output_type": "stream",
     "text": [
      "\r",
      " 34%|██████████████████████████▊                                                    | 339/1000 [01:50<03:23,  3.25it/s]"
     ]
    },
    {
     "name": "stdout",
     "output_type": "stream",
     "text": [
      "--- Iteration 339: training loss = 0.0062 ---\n"
     ]
    },
    {
     "name": "stderr",
     "output_type": "stream",
     "text": [
      "\r",
      " 34%|██████████████████████████▊                                                    | 340/1000 [01:50<03:28,  3.16it/s]"
     ]
    },
    {
     "name": "stdout",
     "output_type": "stream",
     "text": [
      "--- Iteration 340: training loss = 0.0062 ---\n"
     ]
    },
    {
     "name": "stderr",
     "output_type": "stream",
     "text": [
      "\r",
      " 34%|██████████████████████████▉                                                    | 341/1000 [01:51<03:29,  3.15it/s]"
     ]
    },
    {
     "name": "stdout",
     "output_type": "stream",
     "text": [
      "--- Iteration 341: training loss = 0.0062 ---\n"
     ]
    },
    {
     "name": "stderr",
     "output_type": "stream",
     "text": [
      "\r",
      " 34%|███████████████████████████                                                    | 342/1000 [01:51<03:36,  3.04it/s]"
     ]
    },
    {
     "name": "stdout",
     "output_type": "stream",
     "text": [
      "--- Iteration 342: training loss = 0.0062 ---\n"
     ]
    },
    {
     "name": "stderr",
     "output_type": "stream",
     "text": [
      "\r",
      " 34%|███████████████████████████                                                    | 343/1000 [01:51<03:34,  3.06it/s]"
     ]
    },
    {
     "name": "stdout",
     "output_type": "stream",
     "text": [
      "--- Iteration 343: training loss = 0.0062 ---\n"
     ]
    },
    {
     "name": "stderr",
     "output_type": "stream",
     "text": [
      "\r",
      " 34%|███████████████████████████▏                                                   | 344/1000 [01:52<03:30,  3.12it/s]"
     ]
    },
    {
     "name": "stdout",
     "output_type": "stream",
     "text": [
      "--- Iteration 344: training loss = 0.0061 ---\n"
     ]
    },
    {
     "name": "stderr",
     "output_type": "stream",
     "text": [
      "\r",
      " 34%|███████████████████████████▎                                                   | 345/1000 [01:52<03:28,  3.14it/s]"
     ]
    },
    {
     "name": "stdout",
     "output_type": "stream",
     "text": [
      "--- Iteration 345: training loss = 0.0061 ---\n"
     ]
    },
    {
     "name": "stderr",
     "output_type": "stream",
     "text": [
      "\r",
      " 35%|███████████████████████████▎                                                   | 346/1000 [01:52<03:29,  3.12it/s]"
     ]
    },
    {
     "name": "stdout",
     "output_type": "stream",
     "text": [
      "--- Iteration 346: training loss = 0.0061 ---\n"
     ]
    },
    {
     "name": "stderr",
     "output_type": "stream",
     "text": [
      "\r",
      " 35%|███████████████████████████▍                                                   | 347/1000 [01:53<03:26,  3.16it/s]"
     ]
    },
    {
     "name": "stdout",
     "output_type": "stream",
     "text": [
      "--- Iteration 347: training loss = 0.0061 ---\n"
     ]
    },
    {
     "name": "stderr",
     "output_type": "stream",
     "text": [
      "\r",
      " 35%|███████████████████████████▍                                                   | 348/1000 [01:53<03:23,  3.21it/s]"
     ]
    },
    {
     "name": "stdout",
     "output_type": "stream",
     "text": [
      "--- Iteration 348: training loss = 0.0061 ---\n"
     ]
    },
    {
     "name": "stderr",
     "output_type": "stream",
     "text": [
      "\r",
      " 35%|███████████████████████████▌                                                   | 349/1000 [01:53<03:20,  3.25it/s]"
     ]
    },
    {
     "name": "stdout",
     "output_type": "stream",
     "text": [
      "--- Iteration 349: training loss = 0.0061 ---\n"
     ]
    },
    {
     "name": "stderr",
     "output_type": "stream",
     "text": [
      "\r",
      " 35%|███████████████████████████▋                                                   | 350/1000 [01:54<03:24,  3.18it/s]"
     ]
    },
    {
     "name": "stdout",
     "output_type": "stream",
     "text": [
      "--- Iteration 350: training loss = 0.0060 ---\n"
     ]
    },
    {
     "name": "stderr",
     "output_type": "stream",
     "text": [
      "\r",
      " 35%|███████████████████████████▋                                                   | 351/1000 [01:54<03:18,  3.27it/s]"
     ]
    },
    {
     "name": "stdout",
     "output_type": "stream",
     "text": [
      "--- Iteration 351: training loss = 0.0060 ---\n"
     ]
    },
    {
     "name": "stderr",
     "output_type": "stream",
     "text": [
      "\r",
      " 35%|███████████████████████████▊                                                   | 352/1000 [01:54<03:19,  3.24it/s]"
     ]
    },
    {
     "name": "stdout",
     "output_type": "stream",
     "text": [
      "--- Iteration 352: training loss = 0.0060 ---\n"
     ]
    },
    {
     "name": "stderr",
     "output_type": "stream",
     "text": [
      "\r",
      " 35%|███████████████████████████▉                                                   | 353/1000 [01:55<03:20,  3.22it/s]"
     ]
    },
    {
     "name": "stdout",
     "output_type": "stream",
     "text": [
      "--- Iteration 353: training loss = 0.0060 ---\n"
     ]
    },
    {
     "name": "stderr",
     "output_type": "stream",
     "text": [
      "\r",
      " 35%|███████████████████████████▉                                                   | 354/1000 [01:55<03:23,  3.18it/s]"
     ]
    },
    {
     "name": "stdout",
     "output_type": "stream",
     "text": [
      "--- Iteration 354: training loss = 0.0060 ---\n"
     ]
    },
    {
     "name": "stderr",
     "output_type": "stream",
     "text": [
      "\r",
      " 36%|████████████████████████████                                                   | 355/1000 [01:55<03:26,  3.12it/s]"
     ]
    },
    {
     "name": "stdout",
     "output_type": "stream",
     "text": [
      "--- Iteration 355: training loss = 0.0060 ---\n"
     ]
    },
    {
     "name": "stderr",
     "output_type": "stream",
     "text": [
      "\r",
      " 36%|████████████████████████████                                                   | 356/1000 [01:55<03:25,  3.14it/s]"
     ]
    },
    {
     "name": "stdout",
     "output_type": "stream",
     "text": [
      "--- Iteration 356: training loss = 0.0059 ---\n"
     ]
    },
    {
     "name": "stderr",
     "output_type": "stream",
     "text": [
      "\r",
      " 36%|████████████████████████████▏                                                  | 357/1000 [01:56<03:16,  3.28it/s]"
     ]
    },
    {
     "name": "stdout",
     "output_type": "stream",
     "text": [
      "--- Iteration 357: training loss = 0.0059 ---\n"
     ]
    },
    {
     "name": "stderr",
     "output_type": "stream",
     "text": [
      "\r",
      " 36%|████████████████████████████▎                                                  | 358/1000 [01:56<03:15,  3.28it/s]"
     ]
    },
    {
     "name": "stdout",
     "output_type": "stream",
     "text": [
      "--- Iteration 358: training loss = 0.0059 ---\n"
     ]
    },
    {
     "name": "stderr",
     "output_type": "stream",
     "text": [
      "\r",
      " 36%|████████████████████████████▎                                                  | 359/1000 [01:56<03:22,  3.16it/s]"
     ]
    },
    {
     "name": "stdout",
     "output_type": "stream",
     "text": [
      "--- Iteration 359: training loss = 0.0059 ---\n"
     ]
    },
    {
     "name": "stderr",
     "output_type": "stream",
     "text": [
      "\r",
      " 36%|████████████████████████████▍                                                  | 360/1000 [01:57<03:20,  3.20it/s]"
     ]
    },
    {
     "name": "stdout",
     "output_type": "stream",
     "text": [
      "--- Iteration 360: training loss = 0.0059 ---\n"
     ]
    },
    {
     "name": "stderr",
     "output_type": "stream",
     "text": [
      "\r",
      " 36%|████████████████████████████▌                                                  | 361/1000 [01:57<03:16,  3.26it/s]"
     ]
    },
    {
     "name": "stdout",
     "output_type": "stream",
     "text": [
      "--- Iteration 361: training loss = 0.0059 ---\n"
     ]
    },
    {
     "name": "stderr",
     "output_type": "stream",
     "text": [
      "\r",
      " 36%|████████████████████████████▌                                                  | 362/1000 [01:57<03:19,  3.20it/s]"
     ]
    },
    {
     "name": "stdout",
     "output_type": "stream",
     "text": [
      "--- Iteration 362: training loss = 0.0059 ---\n"
     ]
    },
    {
     "name": "stderr",
     "output_type": "stream",
     "text": [
      "\r",
      " 36%|████████████████████████████▋                                                  | 363/1000 [01:58<03:17,  3.23it/s]"
     ]
    },
    {
     "name": "stdout",
     "output_type": "stream",
     "text": [
      "--- Iteration 363: training loss = 0.0058 ---\n"
     ]
    },
    {
     "name": "stderr",
     "output_type": "stream",
     "text": [
      "\r",
      " 36%|████████████████████████████▊                                                  | 364/1000 [01:58<03:23,  3.12it/s]"
     ]
    },
    {
     "name": "stdout",
     "output_type": "stream",
     "text": [
      "--- Iteration 364: training loss = 0.0058 ---\n"
     ]
    },
    {
     "name": "stderr",
     "output_type": "stream",
     "text": [
      "\r",
      " 36%|████████████████████████████▊                                                  | 365/1000 [01:58<03:25,  3.08it/s]"
     ]
    },
    {
     "name": "stdout",
     "output_type": "stream",
     "text": [
      "--- Iteration 365: training loss = 0.0058 ---\n"
     ]
    },
    {
     "name": "stderr",
     "output_type": "stream",
     "text": [
      "\r",
      " 37%|████████████████████████████▉                                                  | 366/1000 [01:59<03:25,  3.08it/s]"
     ]
    },
    {
     "name": "stdout",
     "output_type": "stream",
     "text": [
      "--- Iteration 366: training loss = 0.0058 ---\n"
     ]
    },
    {
     "name": "stderr",
     "output_type": "stream",
     "text": [
      "\r",
      " 37%|████████████████████████████▉                                                  | 367/1000 [01:59<03:19,  3.17it/s]"
     ]
    },
    {
     "name": "stdout",
     "output_type": "stream",
     "text": [
      "--- Iteration 367: training loss = 0.0058 ---\n"
     ]
    },
    {
     "name": "stderr",
     "output_type": "stream",
     "text": [
      "\r",
      " 37%|█████████████████████████████                                                  | 368/1000 [01:59<03:19,  3.18it/s]"
     ]
    },
    {
     "name": "stdout",
     "output_type": "stream",
     "text": [
      "--- Iteration 368: training loss = 0.0058 ---\n"
     ]
    },
    {
     "name": "stderr",
     "output_type": "stream",
     "text": [
      "\r",
      " 37%|█████████████████████████████▏                                                 | 369/1000 [02:00<03:24,  3.09it/s]"
     ]
    },
    {
     "name": "stdout",
     "output_type": "stream",
     "text": [
      "--- Iteration 369: training loss = 0.0057 ---\n"
     ]
    },
    {
     "name": "stderr",
     "output_type": "stream",
     "text": [
      "\r",
      " 37%|█████████████████████████████▏                                                 | 370/1000 [02:00<03:22,  3.12it/s]"
     ]
    },
    {
     "name": "stdout",
     "output_type": "stream",
     "text": [
      "--- Iteration 370: training loss = 0.0057 ---\n"
     ]
    },
    {
     "name": "stderr",
     "output_type": "stream",
     "text": [
      "\r",
      " 37%|█████████████████████████████▎                                                 | 371/1000 [02:00<03:24,  3.08it/s]"
     ]
    },
    {
     "name": "stdout",
     "output_type": "stream",
     "text": [
      "--- Iteration 371: training loss = 0.0057 ---\n"
     ]
    },
    {
     "name": "stderr",
     "output_type": "stream",
     "text": [
      "\r",
      " 37%|█████████████████████████████▍                                                 | 372/1000 [02:01<03:19,  3.14it/s]"
     ]
    },
    {
     "name": "stdout",
     "output_type": "stream",
     "text": [
      "--- Iteration 372: training loss = 0.0057 ---\n"
     ]
    },
    {
     "name": "stderr",
     "output_type": "stream",
     "text": [
      "\r",
      " 37%|█████████████████████████████▍                                                 | 373/1000 [02:01<03:14,  3.22it/s]"
     ]
    },
    {
     "name": "stdout",
     "output_type": "stream",
     "text": [
      "--- Iteration 373: training loss = 0.0057 ---\n"
     ]
    },
    {
     "name": "stderr",
     "output_type": "stream",
     "text": [
      "\r",
      " 37%|█████████████████████████████▌                                                 | 374/1000 [02:01<03:22,  3.09it/s]"
     ]
    },
    {
     "name": "stdout",
     "output_type": "stream",
     "text": [
      "--- Iteration 374: training loss = 0.0057 ---\n"
     ]
    },
    {
     "name": "stderr",
     "output_type": "stream",
     "text": [
      "\r",
      " 38%|█████████████████████████████▋                                                 | 375/1000 [02:01<03:20,  3.12it/s]"
     ]
    },
    {
     "name": "stdout",
     "output_type": "stream",
     "text": [
      "--- Iteration 375: training loss = 0.0057 ---\n"
     ]
    },
    {
     "name": "stderr",
     "output_type": "stream",
     "text": [
      "\r",
      " 38%|█████████████████████████████▋                                                 | 376/1000 [02:02<03:18,  3.14it/s]"
     ]
    },
    {
     "name": "stdout",
     "output_type": "stream",
     "text": [
      "--- Iteration 376: training loss = 0.0056 ---\n"
     ]
    },
    {
     "name": "stderr",
     "output_type": "stream",
     "text": [
      "\r",
      " 38%|█████████████████████████████▊                                                 | 377/1000 [02:02<03:17,  3.16it/s]"
     ]
    },
    {
     "name": "stdout",
     "output_type": "stream",
     "text": [
      "--- Iteration 377: training loss = 0.0056 ---\n"
     ]
    },
    {
     "name": "stderr",
     "output_type": "stream",
     "text": [
      "\r",
      " 38%|█████████████████████████████▊                                                 | 378/1000 [02:02<03:16,  3.17it/s]"
     ]
    },
    {
     "name": "stdout",
     "output_type": "stream",
     "text": [
      "--- Iteration 378: training loss = 0.0056 ---\n"
     ]
    },
    {
     "name": "stderr",
     "output_type": "stream",
     "text": [
      "\r",
      " 38%|█████████████████████████████▉                                                 | 379/1000 [02:03<03:10,  3.26it/s]"
     ]
    },
    {
     "name": "stdout",
     "output_type": "stream",
     "text": [
      "--- Iteration 379: training loss = 0.0056 ---\n"
     ]
    },
    {
     "name": "stderr",
     "output_type": "stream",
     "text": [
      "\r",
      " 38%|██████████████████████████████                                                 | 380/1000 [02:03<03:15,  3.18it/s]"
     ]
    },
    {
     "name": "stdout",
     "output_type": "stream",
     "text": [
      "--- Iteration 380: training loss = 0.0056 ---\n"
     ]
    },
    {
     "name": "stderr",
     "output_type": "stream",
     "text": [
      "\r",
      " 38%|██████████████████████████████                                                 | 381/1000 [02:03<03:14,  3.18it/s]"
     ]
    },
    {
     "name": "stdout",
     "output_type": "stream",
     "text": [
      "--- Iteration 381: training loss = 0.0056 ---\n"
     ]
    },
    {
     "name": "stderr",
     "output_type": "stream",
     "text": [
      "\r",
      " 38%|██████████████████████████████▏                                                | 382/1000 [02:04<03:11,  3.22it/s]"
     ]
    },
    {
     "name": "stdout",
     "output_type": "stream",
     "text": [
      "--- Iteration 382: training loss = 0.0056 ---\n"
     ]
    },
    {
     "name": "stderr",
     "output_type": "stream",
     "text": [
      "\r",
      " 38%|██████████████████████████████▎                                                | 383/1000 [02:04<03:12,  3.20it/s]"
     ]
    },
    {
     "name": "stdout",
     "output_type": "stream",
     "text": [
      "--- Iteration 383: training loss = 0.0056 ---\n"
     ]
    },
    {
     "name": "stderr",
     "output_type": "stream",
     "text": [
      "\r",
      " 38%|██████████████████████████████▎                                                | 384/1000 [02:04<03:10,  3.23it/s]"
     ]
    },
    {
     "name": "stdout",
     "output_type": "stream",
     "text": [
      "--- Iteration 384: training loss = 0.0055 ---\n"
     ]
    },
    {
     "name": "stderr",
     "output_type": "stream",
     "text": [
      "\r",
      " 38%|██████████████████████████████▍                                                | 385/1000 [02:05<03:09,  3.25it/s]"
     ]
    },
    {
     "name": "stdout",
     "output_type": "stream",
     "text": [
      "--- Iteration 385: training loss = 0.0055 ---\n"
     ]
    },
    {
     "name": "stderr",
     "output_type": "stream",
     "text": [
      "\r",
      " 39%|██████████████████████████████▍                                                | 386/1000 [02:05<03:12,  3.20it/s]"
     ]
    },
    {
     "name": "stdout",
     "output_type": "stream",
     "text": [
      "--- Iteration 386: training loss = 0.0055 ---\n"
     ]
    },
    {
     "name": "stderr",
     "output_type": "stream",
     "text": [
      "\r",
      " 39%|██████████████████████████████▌                                                | 387/1000 [02:05<03:12,  3.19it/s]"
     ]
    },
    {
     "name": "stdout",
     "output_type": "stream",
     "text": [
      "--- Iteration 387: training loss = 0.0055 ---\n"
     ]
    },
    {
     "name": "stderr",
     "output_type": "stream",
     "text": [
      "\r",
      " 39%|██████████████████████████████▋                                                | 388/1000 [02:06<03:13,  3.16it/s]"
     ]
    },
    {
     "name": "stdout",
     "output_type": "stream",
     "text": [
      "--- Iteration 388: training loss = 0.0055 ---\n"
     ]
    },
    {
     "name": "stderr",
     "output_type": "stream",
     "text": [
      "\r",
      " 39%|██████████████████████████████▋                                                | 389/1000 [02:06<03:09,  3.23it/s]"
     ]
    },
    {
     "name": "stdout",
     "output_type": "stream",
     "text": [
      "--- Iteration 389: training loss = 0.0055 ---\n"
     ]
    },
    {
     "name": "stderr",
     "output_type": "stream",
     "text": [
      "\r",
      " 39%|██████████████████████████████▊                                                | 390/1000 [02:06<03:07,  3.25it/s]"
     ]
    },
    {
     "name": "stdout",
     "output_type": "stream",
     "text": [
      "--- Iteration 390: training loss = 0.0055 ---\n"
     ]
    },
    {
     "name": "stderr",
     "output_type": "stream",
     "text": [
      "\r",
      " 39%|██████████████████████████████▉                                                | 391/1000 [02:06<03:08,  3.23it/s]"
     ]
    },
    {
     "name": "stdout",
     "output_type": "stream",
     "text": [
      "--- Iteration 391: training loss = 0.0054 ---\n"
     ]
    },
    {
     "name": "stderr",
     "output_type": "stream",
     "text": [
      "\r",
      " 39%|██████████████████████████████▉                                                | 392/1000 [02:07<03:05,  3.28it/s]"
     ]
    },
    {
     "name": "stdout",
     "output_type": "stream",
     "text": [
      "--- Iteration 392: training loss = 0.0054 ---\n"
     ]
    },
    {
     "name": "stderr",
     "output_type": "stream",
     "text": [
      "\r",
      " 39%|███████████████████████████████                                                | 393/1000 [02:07<03:10,  3.19it/s]"
     ]
    },
    {
     "name": "stdout",
     "output_type": "stream",
     "text": [
      "--- Iteration 393: training loss = 0.0054 ---\n"
     ]
    },
    {
     "name": "stderr",
     "output_type": "stream",
     "text": [
      "\r",
      " 39%|███████████████████████████████▏                                               | 394/1000 [02:07<03:17,  3.07it/s]"
     ]
    },
    {
     "name": "stdout",
     "output_type": "stream",
     "text": [
      "--- Iteration 394: training loss = 0.0054 ---\n"
     ]
    },
    {
     "name": "stderr",
     "output_type": "stream",
     "text": [
      "\r",
      " 40%|███████████████████████████████▏                                               | 395/1000 [02:08<03:08,  3.20it/s]"
     ]
    },
    {
     "name": "stdout",
     "output_type": "stream",
     "text": [
      "--- Iteration 395: training loss = 0.0054 ---\n"
     ]
    },
    {
     "name": "stderr",
     "output_type": "stream",
     "text": [
      "\r",
      " 40%|███████████████████████████████▎                                               | 396/1000 [02:08<03:15,  3.09it/s]"
     ]
    },
    {
     "name": "stdout",
     "output_type": "stream",
     "text": [
      "--- Iteration 396: training loss = 0.0054 ---\n"
     ]
    },
    {
     "name": "stderr",
     "output_type": "stream",
     "text": [
      "\r",
      " 40%|███████████████████████████████▎                                               | 397/1000 [02:08<03:15,  3.09it/s]"
     ]
    },
    {
     "name": "stdout",
     "output_type": "stream",
     "text": [
      "--- Iteration 397: training loss = 0.0054 ---\n"
     ]
    },
    {
     "name": "stderr",
     "output_type": "stream",
     "text": [
      "\r",
      " 40%|███████████████████████████████▍                                               | 398/1000 [02:09<03:09,  3.17it/s]"
     ]
    },
    {
     "name": "stdout",
     "output_type": "stream",
     "text": [
      "--- Iteration 398: training loss = 0.0054 ---\n"
     ]
    },
    {
     "name": "stderr",
     "output_type": "stream",
     "text": [
      "\r",
      " 40%|███████████████████████████████▌                                               | 399/1000 [02:09<03:12,  3.12it/s]"
     ]
    },
    {
     "name": "stdout",
     "output_type": "stream",
     "text": [
      "--- Iteration 399: training loss = 0.0053 ---\n"
     ]
    },
    {
     "name": "stderr",
     "output_type": "stream",
     "text": [
      "\r",
      " 40%|███████████████████████████████▌                                               | 400/1000 [02:09<03:09,  3.17it/s]"
     ]
    },
    {
     "name": "stdout",
     "output_type": "stream",
     "text": [
      "--- Iteration 400: training loss = 0.0053 ---\n"
     ]
    },
    {
     "name": "stderr",
     "output_type": "stream",
     "text": [
      "\r",
      " 40%|███████████████████████████████▋                                               | 401/1000 [02:10<03:08,  3.18it/s]"
     ]
    },
    {
     "name": "stdout",
     "output_type": "stream",
     "text": [
      "--- Iteration 401: training loss = 0.0053 ---\n"
     ]
    },
    {
     "name": "stderr",
     "output_type": "stream",
     "text": [
      "\r",
      " 40%|███████████████████████████████▊                                               | 402/1000 [02:10<03:06,  3.21it/s]"
     ]
    },
    {
     "name": "stdout",
     "output_type": "stream",
     "text": [
      "--- Iteration 402: training loss = 0.0053 ---\n"
     ]
    },
    {
     "name": "stderr",
     "output_type": "stream",
     "text": [
      "\r",
      " 40%|███████████████████████████████▊                                               | 403/1000 [02:10<03:05,  3.21it/s]"
     ]
    },
    {
     "name": "stdout",
     "output_type": "stream",
     "text": [
      "--- Iteration 403: training loss = 0.0053 ---\n"
     ]
    },
    {
     "name": "stderr",
     "output_type": "stream",
     "text": [
      "\r",
      " 40%|███████████████████████████████▉                                               | 404/1000 [02:11<03:00,  3.29it/s]"
     ]
    },
    {
     "name": "stdout",
     "output_type": "stream",
     "text": [
      "--- Iteration 404: training loss = 0.0053 ---\n"
     ]
    },
    {
     "name": "stderr",
     "output_type": "stream",
     "text": [
      "\r",
      " 40%|███████████████████████████████▉                                               | 405/1000 [02:11<03:02,  3.26it/s]"
     ]
    },
    {
     "name": "stdout",
     "output_type": "stream",
     "text": [
      "--- Iteration 405: training loss = 0.0053 ---\n"
     ]
    },
    {
     "name": "stderr",
     "output_type": "stream",
     "text": [
      "\r",
      " 41%|████████████████████████████████                                               | 406/1000 [02:11<03:10,  3.12it/s]"
     ]
    },
    {
     "name": "stdout",
     "output_type": "stream",
     "text": [
      "--- Iteration 406: training loss = 0.0053 ---\n"
     ]
    },
    {
     "name": "stderr",
     "output_type": "stream",
     "text": [
      "\r",
      " 41%|████████████████████████████████▏                                              | 407/1000 [02:12<03:07,  3.17it/s]"
     ]
    },
    {
     "name": "stdout",
     "output_type": "stream",
     "text": [
      "--- Iteration 407: training loss = 0.0053 ---\n"
     ]
    },
    {
     "name": "stderr",
     "output_type": "stream",
     "text": [
      "\r",
      " 41%|████████████████████████████████▏                                              | 408/1000 [02:12<03:01,  3.27it/s]"
     ]
    },
    {
     "name": "stdout",
     "output_type": "stream",
     "text": [
      "--- Iteration 408: training loss = 0.0052 ---\n"
     ]
    },
    {
     "name": "stderr",
     "output_type": "stream",
     "text": [
      "\r",
      " 41%|████████████████████████████████▎                                              | 409/1000 [02:12<03:02,  3.24it/s]"
     ]
    },
    {
     "name": "stdout",
     "output_type": "stream",
     "text": [
      "--- Iteration 409: training loss = 0.0052 ---\n"
     ]
    },
    {
     "name": "stderr",
     "output_type": "stream",
     "text": [
      "\r",
      " 41%|████████████████████████████████▍                                              | 410/1000 [02:12<03:06,  3.16it/s]"
     ]
    },
    {
     "name": "stdout",
     "output_type": "stream",
     "text": [
      "--- Iteration 410: training loss = 0.0052 ---\n"
     ]
    },
    {
     "name": "stderr",
     "output_type": "stream",
     "text": [
      "\r",
      " 41%|████████████████████████████████▍                                              | 411/1000 [02:13<03:02,  3.24it/s]"
     ]
    },
    {
     "name": "stdout",
     "output_type": "stream",
     "text": [
      "--- Iteration 411: training loss = 0.0052 ---\n"
     ]
    },
    {
     "name": "stderr",
     "output_type": "stream",
     "text": [
      "\r",
      " 41%|████████████████████████████████▌                                              | 412/1000 [02:13<02:59,  3.28it/s]"
     ]
    },
    {
     "name": "stdout",
     "output_type": "stream",
     "text": [
      "--- Iteration 412: training loss = 0.0052 ---\n"
     ]
    },
    {
     "name": "stderr",
     "output_type": "stream",
     "text": [
      "\r",
      " 41%|████████████████████████████████▋                                              | 413/1000 [02:13<03:12,  3.04it/s]"
     ]
    },
    {
     "name": "stdout",
     "output_type": "stream",
     "text": [
      "--- Iteration 413: training loss = 0.0052 ---\n"
     ]
    },
    {
     "name": "stderr",
     "output_type": "stream",
     "text": [
      "\r",
      " 41%|████████████████████████████████▋                                              | 414/1000 [02:14<03:13,  3.03it/s]"
     ]
    },
    {
     "name": "stdout",
     "output_type": "stream",
     "text": [
      "--- Iteration 414: training loss = 0.0052 ---\n"
     ]
    },
    {
     "name": "stderr",
     "output_type": "stream",
     "text": [
      "\r",
      " 42%|████████████████████████████████▊                                              | 415/1000 [02:14<03:18,  2.95it/s]"
     ]
    },
    {
     "name": "stdout",
     "output_type": "stream",
     "text": [
      "--- Iteration 415: training loss = 0.0052 ---\n"
     ]
    },
    {
     "name": "stderr",
     "output_type": "stream",
     "text": [
      "\r",
      " 42%|████████████████████████████████▊                                              | 416/1000 [02:14<03:20,  2.91it/s]"
     ]
    },
    {
     "name": "stdout",
     "output_type": "stream",
     "text": [
      "--- Iteration 416: training loss = 0.0051 ---\n"
     ]
    },
    {
     "name": "stderr",
     "output_type": "stream",
     "text": [
      "\r",
      " 42%|████████████████████████████████▉                                              | 417/1000 [02:15<03:10,  3.06it/s]"
     ]
    },
    {
     "name": "stdout",
     "output_type": "stream",
     "text": [
      "--- Iteration 417: training loss = 0.0051 ---\n"
     ]
    },
    {
     "name": "stderr",
     "output_type": "stream",
     "text": [
      "\r",
      " 42%|█████████████████████████████████                                              | 418/1000 [02:15<03:09,  3.07it/s]"
     ]
    },
    {
     "name": "stdout",
     "output_type": "stream",
     "text": [
      "--- Iteration 418: training loss = 0.0051 ---\n"
     ]
    },
    {
     "name": "stderr",
     "output_type": "stream",
     "text": [
      "\r",
      " 42%|█████████████████████████████████                                              | 419/1000 [02:15<03:08,  3.08it/s]"
     ]
    },
    {
     "name": "stdout",
     "output_type": "stream",
     "text": [
      "--- Iteration 419: training loss = 0.0051 ---\n"
     ]
    },
    {
     "name": "stderr",
     "output_type": "stream",
     "text": [
      "\r",
      " 42%|█████████████████████████████████▏                                             | 420/1000 [02:16<03:04,  3.15it/s]"
     ]
    },
    {
     "name": "stdout",
     "output_type": "stream",
     "text": [
      "--- Iteration 420: training loss = 0.0051 ---\n"
     ]
    },
    {
     "name": "stderr",
     "output_type": "stream",
     "text": [
      "\r",
      " 42%|█████████████████████████████████▎                                             | 421/1000 [02:16<03:11,  3.03it/s]"
     ]
    },
    {
     "name": "stdout",
     "output_type": "stream",
     "text": [
      "--- Iteration 421: training loss = 0.0051 ---\n"
     ]
    },
    {
     "name": "stderr",
     "output_type": "stream",
     "text": [
      "\r",
      " 42%|█████████████████████████████████▎                                             | 422/1000 [02:16<03:04,  3.13it/s]"
     ]
    },
    {
     "name": "stdout",
     "output_type": "stream",
     "text": [
      "--- Iteration 422: training loss = 0.0051 ---\n"
     ]
    },
    {
     "name": "stderr",
     "output_type": "stream",
     "text": [
      "\r",
      " 42%|█████████████████████████████████▍                                             | 423/1000 [02:17<03:03,  3.15it/s]"
     ]
    },
    {
     "name": "stdout",
     "output_type": "stream",
     "text": [
      "--- Iteration 423: training loss = 0.0051 ---\n"
     ]
    },
    {
     "name": "stderr",
     "output_type": "stream",
     "text": [
      "\r",
      " 42%|█████████████████████████████████▍                                             | 424/1000 [02:17<03:02,  3.16it/s]"
     ]
    },
    {
     "name": "stdout",
     "output_type": "stream",
     "text": [
      "--- Iteration 424: training loss = 0.0051 ---\n"
     ]
    },
    {
     "name": "stderr",
     "output_type": "stream",
     "text": [
      "\r",
      " 42%|█████████████████████████████████▌                                             | 425/1000 [02:17<02:59,  3.20it/s]"
     ]
    },
    {
     "name": "stdout",
     "output_type": "stream",
     "text": [
      "--- Iteration 425: training loss = 0.0050 ---\n"
     ]
    },
    {
     "name": "stderr",
     "output_type": "stream",
     "text": [
      "\r",
      " 43%|█████████████████████████████████▋                                             | 426/1000 [02:18<03:01,  3.17it/s]"
     ]
    },
    {
     "name": "stdout",
     "output_type": "stream",
     "text": [
      "--- Iteration 426: training loss = 0.0050 ---\n"
     ]
    },
    {
     "name": "stderr",
     "output_type": "stream",
     "text": [
      "\r",
      " 43%|█████████████████████████████████▋                                             | 427/1000 [02:18<03:00,  3.17it/s]"
     ]
    },
    {
     "name": "stdout",
     "output_type": "stream",
     "text": [
      "--- Iteration 427: training loss = 0.0050 ---\n"
     ]
    },
    {
     "name": "stderr",
     "output_type": "stream",
     "text": [
      "\r",
      " 43%|█████████████████████████████████▊                                             | 428/1000 [02:18<03:00,  3.18it/s]"
     ]
    },
    {
     "name": "stdout",
     "output_type": "stream",
     "text": [
      "--- Iteration 428: training loss = 0.0050 ---\n"
     ]
    },
    {
     "name": "stderr",
     "output_type": "stream",
     "text": [
      "\r",
      " 43%|█████████████████████████████████▉                                             | 429/1000 [02:19<03:02,  3.12it/s]"
     ]
    },
    {
     "name": "stdout",
     "output_type": "stream",
     "text": [
      "--- Iteration 429: training loss = 0.0050 ---\n"
     ]
    },
    {
     "name": "stderr",
     "output_type": "stream",
     "text": [
      "\r",
      " 43%|█████████████████████████████████▉                                             | 430/1000 [02:19<03:03,  3.11it/s]"
     ]
    },
    {
     "name": "stdout",
     "output_type": "stream",
     "text": [
      "--- Iteration 430: training loss = 0.0050 ---\n"
     ]
    },
    {
     "name": "stderr",
     "output_type": "stream",
     "text": [
      "\r",
      " 43%|██████████████████████████████████                                             | 431/1000 [02:19<03:08,  3.02it/s]"
     ]
    },
    {
     "name": "stdout",
     "output_type": "stream",
     "text": [
      "--- Iteration 431: training loss = 0.0050 ---\n"
     ]
    },
    {
     "name": "stderr",
     "output_type": "stream",
     "text": [
      "\r",
      " 43%|██████████████████████████████████▏                                            | 432/1000 [02:20<03:05,  3.06it/s]"
     ]
    },
    {
     "name": "stdout",
     "output_type": "stream",
     "text": [
      "--- Iteration 432: training loss = 0.0050 ---\n"
     ]
    },
    {
     "name": "stderr",
     "output_type": "stream",
     "text": [
      "\r",
      " 43%|██████████████████████████████████▏                                            | 433/1000 [02:20<03:02,  3.10it/s]"
     ]
    },
    {
     "name": "stdout",
     "output_type": "stream",
     "text": [
      "--- Iteration 433: training loss = 0.0050 ---\n"
     ]
    },
    {
     "name": "stderr",
     "output_type": "stream",
     "text": [
      "\r",
      " 43%|██████████████████████████████████▎                                            | 434/1000 [02:20<03:04,  3.07it/s]"
     ]
    },
    {
     "name": "stdout",
     "output_type": "stream",
     "text": [
      "--- Iteration 434: training loss = 0.0049 ---\n"
     ]
    },
    {
     "name": "stderr",
     "output_type": "stream",
     "text": [
      "\r",
      " 44%|██████████████████████████████████▎                                            | 435/1000 [02:21<03:02,  3.10it/s]"
     ]
    },
    {
     "name": "stdout",
     "output_type": "stream",
     "text": [
      "--- Iteration 435: training loss = 0.0049 ---\n"
     ]
    },
    {
     "name": "stderr",
     "output_type": "stream",
     "text": [
      "\r",
      " 44%|██████████████████████████████████▍                                            | 436/1000 [02:21<03:00,  3.13it/s]"
     ]
    },
    {
     "name": "stdout",
     "output_type": "stream",
     "text": [
      "--- Iteration 436: training loss = 0.0049 ---\n"
     ]
    },
    {
     "name": "stderr",
     "output_type": "stream",
     "text": [
      "\r",
      " 44%|██████████████████████████████████▌                                            | 437/1000 [02:21<03:04,  3.05it/s]"
     ]
    },
    {
     "name": "stdout",
     "output_type": "stream",
     "text": [
      "--- Iteration 437: training loss = 0.0049 ---\n"
     ]
    },
    {
     "name": "stderr",
     "output_type": "stream",
     "text": [
      "\r",
      " 44%|██████████████████████████████████▌                                            | 438/1000 [02:22<03:05,  3.04it/s]"
     ]
    },
    {
     "name": "stdout",
     "output_type": "stream",
     "text": [
      "--- Iteration 438: training loss = 0.0049 ---\n"
     ]
    },
    {
     "name": "stderr",
     "output_type": "stream",
     "text": [
      "\r",
      " 44%|██████████████████████████████████▋                                            | 439/1000 [02:22<02:58,  3.14it/s]"
     ]
    },
    {
     "name": "stdout",
     "output_type": "stream",
     "text": [
      "--- Iteration 439: training loss = 0.0049 ---\n"
     ]
    },
    {
     "name": "stderr",
     "output_type": "stream",
     "text": [
      "\r",
      " 44%|██████████████████████████████████▊                                            | 440/1000 [02:22<03:01,  3.09it/s]"
     ]
    },
    {
     "name": "stdout",
     "output_type": "stream",
     "text": [
      "--- Iteration 440: training loss = 0.0049 ---\n"
     ]
    },
    {
     "name": "stderr",
     "output_type": "stream",
     "text": [
      "\r",
      " 44%|██████████████████████████████████▊                                            | 441/1000 [02:22<03:03,  3.04it/s]"
     ]
    },
    {
     "name": "stdout",
     "output_type": "stream",
     "text": [
      "--- Iteration 441: training loss = 0.0049 ---\n"
     ]
    },
    {
     "name": "stderr",
     "output_type": "stream",
     "text": [
      "\r",
      " 44%|██████████████████████████████████▉                                            | 442/1000 [02:23<02:56,  3.17it/s]"
     ]
    },
    {
     "name": "stdout",
     "output_type": "stream",
     "text": [
      "--- Iteration 442: training loss = 0.0049 ---\n"
     ]
    },
    {
     "name": "stderr",
     "output_type": "stream",
     "text": [
      "\r",
      " 44%|██████████████████████████████████▉                                            | 443/1000 [02:23<02:57,  3.14it/s]"
     ]
    },
    {
     "name": "stdout",
     "output_type": "stream",
     "text": [
      "--- Iteration 443: training loss = 0.0049 ---\n"
     ]
    },
    {
     "name": "stderr",
     "output_type": "stream",
     "text": [
      "\r",
      " 44%|███████████████████████████████████                                            | 444/1000 [02:23<02:56,  3.16it/s]"
     ]
    },
    {
     "name": "stdout",
     "output_type": "stream",
     "text": [
      "--- Iteration 444: training loss = 0.0048 ---\n"
     ]
    },
    {
     "name": "stderr",
     "output_type": "stream",
     "text": [
      "\r",
      " 44%|███████████████████████████████████▏                                           | 445/1000 [02:24<02:53,  3.19it/s]"
     ]
    },
    {
     "name": "stdout",
     "output_type": "stream",
     "text": [
      "--- Iteration 445: training loss = 0.0048 ---\n"
     ]
    },
    {
     "name": "stderr",
     "output_type": "stream",
     "text": [
      "\r",
      " 45%|███████████████████████████████████▏                                           | 446/1000 [02:24<02:55,  3.16it/s]"
     ]
    },
    {
     "name": "stdout",
     "output_type": "stream",
     "text": [
      "--- Iteration 446: training loss = 0.0048 ---\n"
     ]
    },
    {
     "name": "stderr",
     "output_type": "stream",
     "text": [
      "\r",
      " 45%|███████████████████████████████████▎                                           | 447/1000 [02:24<02:52,  3.20it/s]"
     ]
    },
    {
     "name": "stdout",
     "output_type": "stream",
     "text": [
      "--- Iteration 447: training loss = 0.0048 ---\n"
     ]
    },
    {
     "name": "stderr",
     "output_type": "stream",
     "text": [
      "\r",
      " 45%|███████████████████████████████████▍                                           | 448/1000 [02:25<02:52,  3.20it/s]"
     ]
    },
    {
     "name": "stdout",
     "output_type": "stream",
     "text": [
      "--- Iteration 448: training loss = 0.0048 ---\n"
     ]
    },
    {
     "name": "stderr",
     "output_type": "stream",
     "text": [
      "\r",
      " 45%|███████████████████████████████████▍                                           | 449/1000 [02:25<02:53,  3.17it/s]"
     ]
    },
    {
     "name": "stdout",
     "output_type": "stream",
     "text": [
      "--- Iteration 449: training loss = 0.0048 ---\n"
     ]
    },
    {
     "name": "stderr",
     "output_type": "stream",
     "text": [
      "\r",
      " 45%|███████████████████████████████████▌                                           | 450/1000 [02:25<02:54,  3.14it/s]"
     ]
    },
    {
     "name": "stdout",
     "output_type": "stream",
     "text": [
      "--- Iteration 450: training loss = 0.0048 ---\n"
     ]
    },
    {
     "name": "stderr",
     "output_type": "stream",
     "text": [
      "\r",
      " 45%|███████████████████████████████████▋                                           | 451/1000 [02:26<02:58,  3.07it/s]"
     ]
    },
    {
     "name": "stdout",
     "output_type": "stream",
     "text": [
      "--- Iteration 451: training loss = 0.0048 ---\n"
     ]
    },
    {
     "name": "stderr",
     "output_type": "stream",
     "text": [
      "\r",
      " 45%|███████████████████████████████████▋                                           | 452/1000 [02:26<02:55,  3.13it/s]"
     ]
    },
    {
     "name": "stdout",
     "output_type": "stream",
     "text": [
      "--- Iteration 452: training loss = 0.0048 ---\n"
     ]
    },
    {
     "name": "stderr",
     "output_type": "stream",
     "text": [
      "\r",
      " 45%|███████████████████████████████████▊                                           | 453/1000 [02:26<02:48,  3.24it/s]"
     ]
    },
    {
     "name": "stdout",
     "output_type": "stream",
     "text": [
      "--- Iteration 453: training loss = 0.0048 ---\n"
     ]
    },
    {
     "name": "stderr",
     "output_type": "stream",
     "text": [
      "\r",
      " 45%|███████████████████████████████████▊                                           | 454/1000 [02:27<02:56,  3.10it/s]"
     ]
    },
    {
     "name": "stdout",
     "output_type": "stream",
     "text": [
      "--- Iteration 454: training loss = 0.0047 ---\n"
     ]
    },
    {
     "name": "stderr",
     "output_type": "stream",
     "text": [
      "\r",
      " 46%|███████████████████████████████████▉                                           | 455/1000 [02:27<02:54,  3.12it/s]"
     ]
    },
    {
     "name": "stdout",
     "output_type": "stream",
     "text": [
      "--- Iteration 455: training loss = 0.0047 ---\n"
     ]
    },
    {
     "name": "stderr",
     "output_type": "stream",
     "text": [
      "\r",
      " 46%|████████████████████████████████████                                           | 456/1000 [02:27<02:51,  3.17it/s]"
     ]
    },
    {
     "name": "stdout",
     "output_type": "stream",
     "text": [
      "--- Iteration 456: training loss = 0.0047 ---\n"
     ]
    },
    {
     "name": "stderr",
     "output_type": "stream",
     "text": [
      "\r",
      " 46%|████████████████████████████████████                                           | 457/1000 [02:28<02:50,  3.18it/s]"
     ]
    },
    {
     "name": "stdout",
     "output_type": "stream",
     "text": [
      "--- Iteration 457: training loss = 0.0047 ---\n"
     ]
    },
    {
     "name": "stderr",
     "output_type": "stream",
     "text": [
      "\r",
      " 46%|████████████████████████████████████▏                                          | 458/1000 [02:28<02:48,  3.22it/s]"
     ]
    },
    {
     "name": "stdout",
     "output_type": "stream",
     "text": [
      "--- Iteration 458: training loss = 0.0047 ---\n"
     ]
    },
    {
     "name": "stderr",
     "output_type": "stream",
     "text": [
      "\r",
      " 46%|████████████████████████████████████▎                                          | 459/1000 [02:28<02:48,  3.21it/s]"
     ]
    },
    {
     "name": "stdout",
     "output_type": "stream",
     "text": [
      "--- Iteration 459: training loss = 0.0047 ---\n"
     ]
    },
    {
     "name": "stderr",
     "output_type": "stream",
     "text": [
      "\r",
      " 46%|████████████████████████████████████▎                                          | 460/1000 [02:28<02:52,  3.14it/s]"
     ]
    },
    {
     "name": "stdout",
     "output_type": "stream",
     "text": [
      "--- Iteration 460: training loss = 0.0047 ---\n"
     ]
    },
    {
     "name": "stderr",
     "output_type": "stream",
     "text": [
      "\r",
      " 46%|████████████████████████████████████▍                                          | 461/1000 [02:29<02:50,  3.16it/s]"
     ]
    },
    {
     "name": "stdout",
     "output_type": "stream",
     "text": [
      "--- Iteration 461: training loss = 0.0047 ---\n"
     ]
    },
    {
     "name": "stderr",
     "output_type": "stream",
     "text": [
      "\r",
      " 46%|████████████████████████████████████▍                                          | 462/1000 [02:29<02:53,  3.10it/s]"
     ]
    },
    {
     "name": "stdout",
     "output_type": "stream",
     "text": [
      "--- Iteration 462: training loss = 0.0047 ---\n"
     ]
    },
    {
     "name": "stderr",
     "output_type": "stream",
     "text": [
      "\r",
      " 46%|████████████████████████████████████▌                                          | 463/1000 [02:29<02:53,  3.10it/s]"
     ]
    },
    {
     "name": "stdout",
     "output_type": "stream",
     "text": [
      "--- Iteration 463: training loss = 0.0047 ---\n"
     ]
    },
    {
     "name": "stderr",
     "output_type": "stream",
     "text": [
      "\r",
      " 46%|████████████████████████████████████▋                                          | 464/1000 [02:30<02:47,  3.20it/s]"
     ]
    },
    {
     "name": "stdout",
     "output_type": "stream",
     "text": [
      "--- Iteration 464: training loss = 0.0047 ---\n"
     ]
    },
    {
     "name": "stderr",
     "output_type": "stream",
     "text": [
      "\r",
      " 46%|████████████████████████████████████▋                                          | 465/1000 [02:30<02:46,  3.22it/s]"
     ]
    },
    {
     "name": "stdout",
     "output_type": "stream",
     "text": [
      "--- Iteration 465: training loss = 0.0046 ---\n"
     ]
    },
    {
     "name": "stderr",
     "output_type": "stream",
     "text": [
      "\r",
      " 47%|████████████████████████████████████▊                                          | 466/1000 [02:30<02:46,  3.21it/s]"
     ]
    },
    {
     "name": "stdout",
     "output_type": "stream",
     "text": [
      "--- Iteration 466: training loss = 0.0046 ---\n"
     ]
    },
    {
     "name": "stderr",
     "output_type": "stream",
     "text": [
      "\r",
      " 47%|████████████████████████████████████▉                                          | 467/1000 [02:31<02:46,  3.21it/s]"
     ]
    },
    {
     "name": "stdout",
     "output_type": "stream",
     "text": [
      "--- Iteration 467: training loss = 0.0046 ---\n"
     ]
    },
    {
     "name": "stderr",
     "output_type": "stream",
     "text": [
      "\r",
      " 47%|████████████████████████████████████▉                                          | 468/1000 [02:31<02:46,  3.20it/s]"
     ]
    },
    {
     "name": "stdout",
     "output_type": "stream",
     "text": [
      "--- Iteration 468: training loss = 0.0046 ---\n"
     ]
    },
    {
     "name": "stderr",
     "output_type": "stream",
     "text": [
      "\r",
      " 47%|█████████████████████████████████████                                          | 469/1000 [02:31<02:44,  3.23it/s]"
     ]
    },
    {
     "name": "stdout",
     "output_type": "stream",
     "text": [
      "--- Iteration 469: training loss = 0.0046 ---\n"
     ]
    },
    {
     "name": "stderr",
     "output_type": "stream",
     "text": [
      "\r",
      " 47%|█████████████████████████████████████▏                                         | 470/1000 [02:32<02:49,  3.12it/s]"
     ]
    },
    {
     "name": "stdout",
     "output_type": "stream",
     "text": [
      "--- Iteration 470: training loss = 0.0046 ---\n"
     ]
    },
    {
     "name": "stderr",
     "output_type": "stream",
     "text": [
      "\r",
      " 47%|█████████████████████████████████████▏                                         | 471/1000 [02:32<02:46,  3.18it/s]"
     ]
    },
    {
     "name": "stdout",
     "output_type": "stream",
     "text": [
      "--- Iteration 471: training loss = 0.0046 ---\n"
     ]
    },
    {
     "name": "stderr",
     "output_type": "stream",
     "text": [
      "\r",
      " 47%|█████████████████████████████████████▎                                         | 472/1000 [02:32<02:42,  3.24it/s]"
     ]
    },
    {
     "name": "stdout",
     "output_type": "stream",
     "text": [
      "--- Iteration 472: training loss = 0.0046 ---\n"
     ]
    },
    {
     "name": "stderr",
     "output_type": "stream",
     "text": [
      "\r",
      " 47%|█████████████████████████████████████▎                                         | 473/1000 [02:33<02:41,  3.26it/s]"
     ]
    },
    {
     "name": "stdout",
     "output_type": "stream",
     "text": [
      "--- Iteration 473: training loss = 0.0046 ---\n"
     ]
    },
    {
     "name": "stderr",
     "output_type": "stream",
     "text": [
      "\r",
      " 47%|█████████████████████████████████████▍                                         | 474/1000 [02:33<02:37,  3.34it/s]"
     ]
    },
    {
     "name": "stdout",
     "output_type": "stream",
     "text": [
      "--- Iteration 474: training loss = 0.0046 ---\n"
     ]
    },
    {
     "name": "stderr",
     "output_type": "stream",
     "text": [
      "\r",
      " 48%|█████████████████████████████████████▌                                         | 475/1000 [02:33<02:39,  3.29it/s]"
     ]
    },
    {
     "name": "stdout",
     "output_type": "stream",
     "text": [
      "--- Iteration 475: training loss = 0.0046 ---\n"
     ]
    },
    {
     "name": "stderr",
     "output_type": "stream",
     "text": [
      "\r",
      " 48%|█████████████████████████████████████▌                                         | 476/1000 [02:33<02:40,  3.26it/s]"
     ]
    },
    {
     "name": "stdout",
     "output_type": "stream",
     "text": [
      "--- Iteration 476: training loss = 0.0045 ---\n"
     ]
    },
    {
     "name": "stderr",
     "output_type": "stream",
     "text": [
      "\r",
      " 48%|█████████████████████████████████████▋                                         | 477/1000 [02:34<02:38,  3.30it/s]"
     ]
    },
    {
     "name": "stdout",
     "output_type": "stream",
     "text": [
      "--- Iteration 477: training loss = 0.0045 ---\n"
     ]
    },
    {
     "name": "stderr",
     "output_type": "stream",
     "text": [
      "\r",
      " 48%|█████████████████████████████████████▊                                         | 478/1000 [02:34<02:38,  3.30it/s]"
     ]
    },
    {
     "name": "stdout",
     "output_type": "stream",
     "text": [
      "--- Iteration 478: training loss = 0.0045 ---\n"
     ]
    },
    {
     "name": "stderr",
     "output_type": "stream",
     "text": [
      "\r",
      " 48%|█████████████████████████████████████▊                                         | 479/1000 [02:34<02:36,  3.33it/s]"
     ]
    },
    {
     "name": "stdout",
     "output_type": "stream",
     "text": [
      "--- Iteration 479: training loss = 0.0045 ---\n"
     ]
    },
    {
     "name": "stderr",
     "output_type": "stream",
     "text": [
      "\r",
      " 48%|█████████████████████████████████████▉                                         | 480/1000 [02:35<02:36,  3.32it/s]"
     ]
    },
    {
     "name": "stdout",
     "output_type": "stream",
     "text": [
      "--- Iteration 480: training loss = 0.0045 ---\n"
     ]
    },
    {
     "name": "stderr",
     "output_type": "stream",
     "text": [
      "\r",
      " 48%|█████████████████████████████████████▉                                         | 481/1000 [02:35<02:39,  3.25it/s]"
     ]
    },
    {
     "name": "stdout",
     "output_type": "stream",
     "text": [
      "--- Iteration 481: training loss = 0.0045 ---\n"
     ]
    },
    {
     "name": "stderr",
     "output_type": "stream",
     "text": [
      "\r",
      " 48%|██████████████████████████████████████                                         | 482/1000 [02:35<02:41,  3.20it/s]"
     ]
    },
    {
     "name": "stdout",
     "output_type": "stream",
     "text": [
      "--- Iteration 482: training loss = 0.0045 ---\n"
     ]
    },
    {
     "name": "stderr",
     "output_type": "stream",
     "text": [
      "\r",
      " 48%|██████████████████████████████████████▏                                        | 483/1000 [02:36<02:43,  3.17it/s]"
     ]
    },
    {
     "name": "stdout",
     "output_type": "stream",
     "text": [
      "--- Iteration 483: training loss = 0.0045 ---\n"
     ]
    },
    {
     "name": "stderr",
     "output_type": "stream",
     "text": [
      "\r",
      " 48%|██████████████████████████████████████▏                                        | 484/1000 [02:36<02:41,  3.20it/s]"
     ]
    },
    {
     "name": "stdout",
     "output_type": "stream",
     "text": [
      "--- Iteration 484: training loss = 0.0045 ---\n"
     ]
    },
    {
     "name": "stderr",
     "output_type": "stream",
     "text": [
      "\r",
      " 48%|██████████████████████████████████████▎                                        | 485/1000 [02:36<02:42,  3.17it/s]"
     ]
    },
    {
     "name": "stdout",
     "output_type": "stream",
     "text": [
      "--- Iteration 485: training loss = 0.0045 ---\n"
     ]
    },
    {
     "name": "stderr",
     "output_type": "stream",
     "text": [
      "\r",
      " 49%|██████████████████████████████████████▍                                        | 486/1000 [02:37<02:40,  3.20it/s]"
     ]
    },
    {
     "name": "stdout",
     "output_type": "stream",
     "text": [
      "--- Iteration 486: training loss = 0.0045 ---\n"
     ]
    },
    {
     "name": "stderr",
     "output_type": "stream",
     "text": [
      "\r",
      " 49%|██████████████████████████████████████▍                                        | 487/1000 [02:37<02:35,  3.29it/s]"
     ]
    },
    {
     "name": "stdout",
     "output_type": "stream",
     "text": [
      "--- Iteration 487: training loss = 0.0045 ---\n"
     ]
    },
    {
     "name": "stderr",
     "output_type": "stream",
     "text": [
      "\r",
      " 49%|██████████████████████████████████████▌                                        | 488/1000 [02:37<02:36,  3.27it/s]"
     ]
    },
    {
     "name": "stdout",
     "output_type": "stream",
     "text": [
      "--- Iteration 488: training loss = 0.0044 ---\n"
     ]
    },
    {
     "name": "stderr",
     "output_type": "stream",
     "text": [
      "\r",
      " 49%|██████████████████████████████████████▋                                        | 489/1000 [02:37<02:40,  3.18it/s]"
     ]
    },
    {
     "name": "stdout",
     "output_type": "stream",
     "text": [
      "--- Iteration 489: training loss = 0.0044 ---\n"
     ]
    },
    {
     "name": "stderr",
     "output_type": "stream",
     "text": [
      "\r",
      " 49%|██████████████████████████████████████▋                                        | 490/1000 [02:38<02:38,  3.21it/s]"
     ]
    },
    {
     "name": "stdout",
     "output_type": "stream",
     "text": [
      "--- Iteration 490: training loss = 0.0044 ---\n"
     ]
    },
    {
     "name": "stderr",
     "output_type": "stream",
     "text": [
      "\r",
      " 49%|██████████████████████████████████████▊                                        | 491/1000 [02:38<02:40,  3.17it/s]"
     ]
    },
    {
     "name": "stdout",
     "output_type": "stream",
     "text": [
      "--- Iteration 491: training loss = 0.0044 ---\n"
     ]
    },
    {
     "name": "stderr",
     "output_type": "stream",
     "text": [
      "\r",
      " 49%|██████████████████████████████████████▊                                        | 492/1000 [02:38<02:39,  3.18it/s]"
     ]
    },
    {
     "name": "stdout",
     "output_type": "stream",
     "text": [
      "--- Iteration 492: training loss = 0.0044 ---\n"
     ]
    },
    {
     "name": "stderr",
     "output_type": "stream",
     "text": [
      "\r",
      " 49%|██████████████████████████████████████▉                                        | 493/1000 [02:39<02:38,  3.21it/s]"
     ]
    },
    {
     "name": "stdout",
     "output_type": "stream",
     "text": [
      "--- Iteration 493: training loss = 0.0044 ---\n"
     ]
    },
    {
     "name": "stderr",
     "output_type": "stream",
     "text": [
      "\r",
      " 49%|███████████████████████████████████████                                        | 494/1000 [02:39<02:38,  3.20it/s]"
     ]
    },
    {
     "name": "stdout",
     "output_type": "stream",
     "text": [
      "--- Iteration 494: training loss = 0.0044 ---\n"
     ]
    },
    {
     "name": "stderr",
     "output_type": "stream",
     "text": [
      "\r",
      " 50%|███████████████████████████████████████                                        | 495/1000 [02:39<02:39,  3.16it/s]"
     ]
    },
    {
     "name": "stdout",
     "output_type": "stream",
     "text": [
      "--- Iteration 495: training loss = 0.0044 ---\n"
     ]
    },
    {
     "name": "stderr",
     "output_type": "stream",
     "text": [
      "\r",
      " 50%|███████████████████████████████████████▏                                       | 496/1000 [02:40<02:37,  3.21it/s]"
     ]
    },
    {
     "name": "stdout",
     "output_type": "stream",
     "text": [
      "--- Iteration 496: training loss = 0.0044 ---\n"
     ]
    },
    {
     "name": "stderr",
     "output_type": "stream",
     "text": [
      "\r",
      " 50%|███████████████████████████████████████▎                                       | 497/1000 [02:40<02:41,  3.10it/s]"
     ]
    },
    {
     "name": "stdout",
     "output_type": "stream",
     "text": [
      "--- Iteration 497: training loss = 0.0044 ---\n"
     ]
    },
    {
     "name": "stderr",
     "output_type": "stream",
     "text": [
      "\r",
      " 50%|███████████████████████████████████████▎                                       | 498/1000 [02:40<02:41,  3.10it/s]"
     ]
    },
    {
     "name": "stdout",
     "output_type": "stream",
     "text": [
      "--- Iteration 498: training loss = 0.0044 ---\n"
     ]
    },
    {
     "name": "stderr",
     "output_type": "stream",
     "text": [
      "\r",
      " 50%|███████████████████████████████████████▍                                       | 499/1000 [02:41<02:43,  3.07it/s]"
     ]
    },
    {
     "name": "stdout",
     "output_type": "stream",
     "text": [
      "--- Iteration 499: training loss = 0.0044 ---\n"
     ]
    },
    {
     "name": "stderr",
     "output_type": "stream",
     "text": [
      "\r",
      " 50%|███████████████████████████████████████▌                                       | 500/1000 [02:41<02:40,  3.11it/s]"
     ]
    },
    {
     "name": "stdout",
     "output_type": "stream",
     "text": [
      "--- Iteration 500: training loss = 0.0043 ---\n"
     ]
    },
    {
     "name": "stderr",
     "output_type": "stream",
     "text": [
      "\r",
      " 50%|███████████████████████████████████████▌                                       | 501/1000 [02:41<02:44,  3.03it/s]"
     ]
    },
    {
     "name": "stdout",
     "output_type": "stream",
     "text": [
      "--- Iteration 501: training loss = 0.0043 ---\n"
     ]
    },
    {
     "name": "stderr",
     "output_type": "stream",
     "text": [
      "\r",
      " 50%|███████████████████████████████████████▋                                       | 502/1000 [02:42<02:40,  3.10it/s]"
     ]
    },
    {
     "name": "stdout",
     "output_type": "stream",
     "text": [
      "--- Iteration 502: training loss = 0.0043 ---\n"
     ]
    },
    {
     "name": "stderr",
     "output_type": "stream",
     "text": [
      "\r",
      " 50%|███████████████████████████████████████▋                                       | 503/1000 [02:42<02:41,  3.07it/s]"
     ]
    },
    {
     "name": "stdout",
     "output_type": "stream",
     "text": [
      "--- Iteration 503: training loss = 0.0043 ---\n"
     ]
    },
    {
     "name": "stderr",
     "output_type": "stream",
     "text": [
      "\r",
      " 50%|███████████████████████████████████████▊                                       | 504/1000 [02:42<02:40,  3.08it/s]"
     ]
    },
    {
     "name": "stdout",
     "output_type": "stream",
     "text": [
      "--- Iteration 504: training loss = 0.0043 ---\n"
     ]
    },
    {
     "name": "stderr",
     "output_type": "stream",
     "text": [
      "\r",
      " 50%|███████████████████████████████████████▉                                       | 505/1000 [02:43<02:39,  3.11it/s]"
     ]
    },
    {
     "name": "stdout",
     "output_type": "stream",
     "text": [
      "--- Iteration 505: training loss = 0.0043 ---\n"
     ]
    },
    {
     "name": "stderr",
     "output_type": "stream",
     "text": [
      "\r",
      " 51%|███████████████████████████████████████▉                                       | 506/1000 [02:43<02:36,  3.16it/s]"
     ]
    },
    {
     "name": "stdout",
     "output_type": "stream",
     "text": [
      "--- Iteration 506: training loss = 0.0043 ---\n"
     ]
    },
    {
     "name": "stderr",
     "output_type": "stream",
     "text": [
      "\r",
      " 51%|████████████████████████████████████████                                       | 507/1000 [02:43<02:38,  3.11it/s]"
     ]
    },
    {
     "name": "stdout",
     "output_type": "stream",
     "text": [
      "--- Iteration 507: training loss = 0.0043 ---\n"
     ]
    },
    {
     "name": "stderr",
     "output_type": "stream",
     "text": [
      "\r",
      " 51%|████████████████████████████████████████▏                                      | 508/1000 [02:44<02:37,  3.13it/s]"
     ]
    },
    {
     "name": "stdout",
     "output_type": "stream",
     "text": [
      "--- Iteration 508: training loss = 0.0043 ---\n"
     ]
    },
    {
     "name": "stderr",
     "output_type": "stream",
     "text": [
      "\r",
      " 51%|████████████████████████████████████████▏                                      | 509/1000 [02:44<02:32,  3.21it/s]"
     ]
    },
    {
     "name": "stdout",
     "output_type": "stream",
     "text": [
      "--- Iteration 509: training loss = 0.0043 ---\n"
     ]
    },
    {
     "name": "stderr",
     "output_type": "stream",
     "text": [
      "\r",
      " 51%|████████████████████████████████████████▎                                      | 510/1000 [02:44<02:30,  3.27it/s]"
     ]
    },
    {
     "name": "stdout",
     "output_type": "stream",
     "text": [
      "--- Iteration 510: training loss = 0.0043 ---\n"
     ]
    },
    {
     "name": "stderr",
     "output_type": "stream",
     "text": [
      "\r",
      " 51%|████████████████████████████████████████▎                                      | 511/1000 [02:44<02:32,  3.21it/s]"
     ]
    },
    {
     "name": "stdout",
     "output_type": "stream",
     "text": [
      "--- Iteration 511: training loss = 0.0043 ---\n"
     ]
    },
    {
     "name": "stderr",
     "output_type": "stream",
     "text": [
      "\r",
      " 51%|████████████████████████████████████████▍                                      | 512/1000 [02:45<02:27,  3.30it/s]"
     ]
    },
    {
     "name": "stdout",
     "output_type": "stream",
     "text": [
      "--- Iteration 512: training loss = 0.0043 ---\n"
     ]
    },
    {
     "name": "stderr",
     "output_type": "stream",
     "text": [
      "\r",
      " 51%|████████████████████████████████████████▌                                      | 513/1000 [02:45<02:32,  3.20it/s]"
     ]
    },
    {
     "name": "stdout",
     "output_type": "stream",
     "text": [
      "--- Iteration 513: training loss = 0.0042 ---\n"
     ]
    },
    {
     "name": "stderr",
     "output_type": "stream",
     "text": [
      "\r",
      " 51%|████████████████████████████████████████▌                                      | 514/1000 [02:45<02:33,  3.18it/s]"
     ]
    },
    {
     "name": "stdout",
     "output_type": "stream",
     "text": [
      "--- Iteration 514: training loss = 0.0042 ---\n"
     ]
    },
    {
     "name": "stderr",
     "output_type": "stream",
     "text": [
      "\r",
      " 52%|████████████████████████████████████████▋                                      | 515/1000 [02:46<02:34,  3.14it/s]"
     ]
    },
    {
     "name": "stdout",
     "output_type": "stream",
     "text": [
      "--- Iteration 515: training loss = 0.0042 ---\n"
     ]
    },
    {
     "name": "stderr",
     "output_type": "stream",
     "text": [
      "\r",
      " 52%|████████████████████████████████████████▊                                      | 516/1000 [02:46<02:31,  3.19it/s]"
     ]
    },
    {
     "name": "stdout",
     "output_type": "stream",
     "text": [
      "--- Iteration 516: training loss = 0.0042 ---\n"
     ]
    },
    {
     "name": "stderr",
     "output_type": "stream",
     "text": [
      "\r",
      " 52%|████████████████████████████████████████▊                                      | 517/1000 [02:46<02:34,  3.13it/s]"
     ]
    },
    {
     "name": "stdout",
     "output_type": "stream",
     "text": [
      "--- Iteration 517: training loss = 0.0042 ---\n"
     ]
    },
    {
     "name": "stderr",
     "output_type": "stream",
     "text": [
      "\r",
      " 52%|████████████████████████████████████████▉                                      | 518/1000 [02:47<02:39,  3.03it/s]"
     ]
    },
    {
     "name": "stdout",
     "output_type": "stream",
     "text": [
      "--- Iteration 518: training loss = 0.0042 ---\n"
     ]
    },
    {
     "name": "stderr",
     "output_type": "stream",
     "text": [
      "\r",
      " 52%|█████████████████████████████████████████                                      | 519/1000 [02:47<02:33,  3.14it/s]"
     ]
    },
    {
     "name": "stdout",
     "output_type": "stream",
     "text": [
      "--- Iteration 519: training loss = 0.0042 ---\n"
     ]
    },
    {
     "name": "stderr",
     "output_type": "stream",
     "text": [
      "\r",
      " 52%|█████████████████████████████████████████                                      | 520/1000 [02:47<02:30,  3.18it/s]"
     ]
    },
    {
     "name": "stdout",
     "output_type": "stream",
     "text": [
      "--- Iteration 520: training loss = 0.0042 ---\n"
     ]
    },
    {
     "name": "stderr",
     "output_type": "stream",
     "text": [
      "\r",
      " 52%|█████████████████████████████████████████▏                                     | 521/1000 [02:48<02:30,  3.19it/s]"
     ]
    },
    {
     "name": "stdout",
     "output_type": "stream",
     "text": [
      "--- Iteration 521: training loss = 0.0042 ---\n"
     ]
    },
    {
     "name": "stderr",
     "output_type": "stream",
     "text": [
      "\r",
      " 52%|█████████████████████████████████████████▏                                     | 522/1000 [02:48<02:28,  3.22it/s]"
     ]
    },
    {
     "name": "stdout",
     "output_type": "stream",
     "text": [
      "--- Iteration 522: training loss = 0.0042 ---\n"
     ]
    },
    {
     "name": "stderr",
     "output_type": "stream",
     "text": [
      "\r",
      " 52%|█████████████████████████████████████████▎                                     | 523/1000 [02:48<02:27,  3.24it/s]"
     ]
    },
    {
     "name": "stdout",
     "output_type": "stream",
     "text": [
      "--- Iteration 523: training loss = 0.0042 ---\n"
     ]
    },
    {
     "name": "stderr",
     "output_type": "stream",
     "text": [
      "\r",
      " 52%|█████████████████████████████████████████▍                                     | 524/1000 [02:49<02:31,  3.13it/s]"
     ]
    },
    {
     "name": "stdout",
     "output_type": "stream",
     "text": [
      "--- Iteration 524: training loss = 0.0042 ---\n"
     ]
    },
    {
     "name": "stderr",
     "output_type": "stream",
     "text": [
      "\r",
      " 52%|█████████████████████████████████████████▍                                     | 525/1000 [02:49<02:30,  3.15it/s]"
     ]
    },
    {
     "name": "stdout",
     "output_type": "stream",
     "text": [
      "--- Iteration 525: training loss = 0.0042 ---\n"
     ]
    },
    {
     "name": "stderr",
     "output_type": "stream",
     "text": [
      "\r",
      " 53%|█████████████████████████████████████████▌                                     | 526/1000 [02:49<02:28,  3.19it/s]"
     ]
    },
    {
     "name": "stdout",
     "output_type": "stream",
     "text": [
      "--- Iteration 526: training loss = 0.0041 ---\n"
     ]
    },
    {
     "name": "stderr",
     "output_type": "stream",
     "text": [
      "\r",
      " 53%|█████████████████████████████████████████▋                                     | 527/1000 [02:49<02:25,  3.25it/s]"
     ]
    },
    {
     "name": "stdout",
     "output_type": "stream",
     "text": [
      "--- Iteration 527: training loss = 0.0041 ---\n"
     ]
    },
    {
     "name": "stderr",
     "output_type": "stream",
     "text": [
      "\r",
      " 53%|█████████████████████████████████████████▋                                     | 528/1000 [02:50<02:34,  3.05it/s]"
     ]
    },
    {
     "name": "stdout",
     "output_type": "stream",
     "text": [
      "--- Iteration 528: training loss = 0.0041 ---\n"
     ]
    },
    {
     "name": "stderr",
     "output_type": "stream",
     "text": [
      "\r",
      " 53%|█████████████████████████████████████████▊                                     | 529/1000 [02:50<02:32,  3.09it/s]"
     ]
    },
    {
     "name": "stdout",
     "output_type": "stream",
     "text": [
      "--- Iteration 529: training loss = 0.0041 ---\n"
     ]
    },
    {
     "name": "stderr",
     "output_type": "stream",
     "text": [
      "\r",
      " 53%|█████████████████████████████████████████▊                                     | 530/1000 [02:50<02:29,  3.14it/s]"
     ]
    },
    {
     "name": "stdout",
     "output_type": "stream",
     "text": [
      "--- Iteration 530: training loss = 0.0041 ---\n"
     ]
    },
    {
     "name": "stderr",
     "output_type": "stream",
     "text": [
      "\r",
      " 53%|█████████████████████████████████████████▉                                     | 531/1000 [02:51<02:29,  3.13it/s]"
     ]
    },
    {
     "name": "stdout",
     "output_type": "stream",
     "text": [
      "--- Iteration 531: training loss = 0.0041 ---\n"
     ]
    },
    {
     "name": "stderr",
     "output_type": "stream",
     "text": [
      "\r",
      " 53%|██████████████████████████████████████████                                     | 532/1000 [02:51<02:28,  3.15it/s]"
     ]
    },
    {
     "name": "stdout",
     "output_type": "stream",
     "text": [
      "--- Iteration 532: training loss = 0.0041 ---\n"
     ]
    },
    {
     "name": "stderr",
     "output_type": "stream",
     "text": [
      "\r",
      " 53%|██████████████████████████████████████████                                     | 533/1000 [02:51<02:33,  3.05it/s]"
     ]
    },
    {
     "name": "stdout",
     "output_type": "stream",
     "text": [
      "--- Iteration 533: training loss = 0.0041 ---\n"
     ]
    },
    {
     "name": "stderr",
     "output_type": "stream",
     "text": [
      "\r",
      " 53%|██████████████████████████████████████████▏                                    | 534/1000 [02:52<02:27,  3.17it/s]"
     ]
    },
    {
     "name": "stdout",
     "output_type": "stream",
     "text": [
      "--- Iteration 534: training loss = 0.0041 ---\n"
     ]
    },
    {
     "name": "stderr",
     "output_type": "stream",
     "text": [
      "\r",
      " 54%|██████████████████████████████████████████▎                                    | 535/1000 [02:52<02:27,  3.15it/s]"
     ]
    },
    {
     "name": "stdout",
     "output_type": "stream",
     "text": [
      "--- Iteration 535: training loss = 0.0041 ---\n"
     ]
    },
    {
     "name": "stderr",
     "output_type": "stream",
     "text": [
      "\r",
      " 54%|██████████████████████████████████████████▎                                    | 536/1000 [02:52<02:25,  3.19it/s]"
     ]
    },
    {
     "name": "stdout",
     "output_type": "stream",
     "text": [
      "--- Iteration 536: training loss = 0.0041 ---\n"
     ]
    },
    {
     "name": "stderr",
     "output_type": "stream",
     "text": [
      "\r",
      " 54%|██████████████████████████████████████████▍                                    | 537/1000 [02:53<02:28,  3.13it/s]"
     ]
    },
    {
     "name": "stdout",
     "output_type": "stream",
     "text": [
      "--- Iteration 537: training loss = 0.0041 ---\n"
     ]
    },
    {
     "name": "stderr",
     "output_type": "stream",
     "text": [
      "\r",
      " 54%|██████████████████████████████████████████▌                                    | 538/1000 [02:53<02:26,  3.15it/s]"
     ]
    },
    {
     "name": "stdout",
     "output_type": "stream",
     "text": [
      "--- Iteration 538: training loss = 0.0041 ---\n"
     ]
    },
    {
     "name": "stderr",
     "output_type": "stream",
     "text": [
      "\r",
      " 54%|██████████████████████████████████████████▌                                    | 539/1000 [02:53<02:25,  3.16it/s]"
     ]
    },
    {
     "name": "stdout",
     "output_type": "stream",
     "text": [
      "--- Iteration 539: training loss = 0.0041 ---\n"
     ]
    },
    {
     "name": "stderr",
     "output_type": "stream",
     "text": [
      "\r",
      " 54%|██████████████████████████████████████████▋                                    | 540/1000 [02:54<02:23,  3.20it/s]"
     ]
    },
    {
     "name": "stdout",
     "output_type": "stream",
     "text": [
      "--- Iteration 540: training loss = 0.0041 ---\n"
     ]
    },
    {
     "name": "stderr",
     "output_type": "stream",
     "text": [
      "\r",
      " 54%|██████████████████████████████████████████▋                                    | 541/1000 [02:54<02:23,  3.20it/s]"
     ]
    },
    {
     "name": "stdout",
     "output_type": "stream",
     "text": [
      "--- Iteration 541: training loss = 0.0040 ---\n"
     ]
    },
    {
     "name": "stderr",
     "output_type": "stream",
     "text": [
      "\r",
      " 54%|██████████████████████████████████████████▊                                    | 542/1000 [02:54<02:23,  3.19it/s]"
     ]
    },
    {
     "name": "stdout",
     "output_type": "stream",
     "text": [
      "--- Iteration 542: training loss = 0.0040 ---\n"
     ]
    },
    {
     "name": "stderr",
     "output_type": "stream",
     "text": [
      "\r",
      " 54%|██████████████████████████████████████████▉                                    | 543/1000 [02:55<02:23,  3.20it/s]"
     ]
    },
    {
     "name": "stdout",
     "output_type": "stream",
     "text": [
      "--- Iteration 543: training loss = 0.0040 ---\n"
     ]
    },
    {
     "name": "stderr",
     "output_type": "stream",
     "text": [
      "\r",
      " 54%|██████████████████████████████████████████▉                                    | 544/1000 [02:55<02:24,  3.16it/s]"
     ]
    },
    {
     "name": "stdout",
     "output_type": "stream",
     "text": [
      "--- Iteration 544: training loss = 0.0040 ---\n"
     ]
    },
    {
     "name": "stderr",
     "output_type": "stream",
     "text": [
      "\r",
      " 55%|███████████████████████████████████████████                                    | 545/1000 [02:55<02:26,  3.11it/s]"
     ]
    },
    {
     "name": "stdout",
     "output_type": "stream",
     "text": [
      "--- Iteration 545: training loss = 0.0040 ---\n"
     ]
    },
    {
     "name": "stderr",
     "output_type": "stream",
     "text": [
      "\r",
      " 55%|███████████████████████████████████████████▏                                   | 546/1000 [02:56<02:23,  3.16it/s]"
     ]
    },
    {
     "name": "stdout",
     "output_type": "stream",
     "text": [
      "--- Iteration 546: training loss = 0.0040 ---\n"
     ]
    },
    {
     "name": "stderr",
     "output_type": "stream",
     "text": [
      "\r",
      " 55%|███████████████████████████████████████████▏                                   | 547/1000 [02:56<02:21,  3.21it/s]"
     ]
    },
    {
     "name": "stdout",
     "output_type": "stream",
     "text": [
      "--- Iteration 547: training loss = 0.0040 ---\n"
     ]
    },
    {
     "name": "stderr",
     "output_type": "stream",
     "text": [
      "\r",
      " 55%|███████████████████████████████████████████▎                                   | 548/1000 [02:56<02:21,  3.20it/s]"
     ]
    },
    {
     "name": "stdout",
     "output_type": "stream",
     "text": [
      "--- Iteration 548: training loss = 0.0040 ---\n"
     ]
    },
    {
     "name": "stderr",
     "output_type": "stream",
     "text": [
      "\r",
      " 55%|███████████████████████████████████████████▎                                   | 549/1000 [02:57<02:26,  3.08it/s]"
     ]
    },
    {
     "name": "stdout",
     "output_type": "stream",
     "text": [
      "--- Iteration 549: training loss = 0.0040 ---\n"
     ]
    },
    {
     "name": "stderr",
     "output_type": "stream",
     "text": [
      "\r",
      " 55%|███████████████████████████████████████████▍                                   | 550/1000 [02:57<02:20,  3.20it/s]"
     ]
    },
    {
     "name": "stdout",
     "output_type": "stream",
     "text": [
      "--- Iteration 550: training loss = 0.0040 ---\n"
     ]
    },
    {
     "name": "stderr",
     "output_type": "stream",
     "text": [
      "\r",
      " 55%|███████████████████████████████████████████▌                                   | 551/1000 [02:57<02:19,  3.22it/s]"
     ]
    },
    {
     "name": "stdout",
     "output_type": "stream",
     "text": [
      "--- Iteration 551: training loss = 0.0040 ---\n"
     ]
    },
    {
     "name": "stderr",
     "output_type": "stream",
     "text": [
      "\r",
      " 55%|███████████████████████████████████████████▌                                   | 552/1000 [02:57<02:18,  3.24it/s]"
     ]
    },
    {
     "name": "stdout",
     "output_type": "stream",
     "text": [
      "--- Iteration 552: training loss = 0.0040 ---\n"
     ]
    },
    {
     "name": "stderr",
     "output_type": "stream",
     "text": [
      "\r",
      " 55%|███████████████████████████████████████████▋                                   | 553/1000 [02:58<02:17,  3.25it/s]"
     ]
    },
    {
     "name": "stdout",
     "output_type": "stream",
     "text": [
      "--- Iteration 553: training loss = 0.0040 ---\n"
     ]
    },
    {
     "name": "stderr",
     "output_type": "stream",
     "text": [
      "\r",
      " 55%|███████████████████████████████████████████▊                                   | 554/1000 [02:58<02:20,  3.17it/s]"
     ]
    },
    {
     "name": "stdout",
     "output_type": "stream",
     "text": [
      "--- Iteration 554: training loss = 0.0040 ---\n"
     ]
    },
    {
     "name": "stderr",
     "output_type": "stream",
     "text": [
      "\r",
      " 56%|███████████████████████████████████████████▊                                   | 555/1000 [02:58<02:16,  3.27it/s]"
     ]
    },
    {
     "name": "stdout",
     "output_type": "stream",
     "text": [
      "--- Iteration 555: training loss = 0.0040 ---\n"
     ]
    },
    {
     "name": "stderr",
     "output_type": "stream",
     "text": [
      "\r",
      " 56%|███████████████████████████████████████████▉                                   | 556/1000 [02:59<02:18,  3.22it/s]"
     ]
    },
    {
     "name": "stdout",
     "output_type": "stream",
     "text": [
      "--- Iteration 556: training loss = 0.0039 ---\n"
     ]
    },
    {
     "name": "stderr",
     "output_type": "stream",
     "text": [
      "\r",
      " 56%|████████████████████████████████████████████                                   | 557/1000 [02:59<02:23,  3.08it/s]"
     ]
    },
    {
     "name": "stdout",
     "output_type": "stream",
     "text": [
      "--- Iteration 557: training loss = 0.0039 ---\n"
     ]
    },
    {
     "name": "stderr",
     "output_type": "stream",
     "text": [
      "\r",
      " 56%|████████████████████████████████████████████                                   | 558/1000 [02:59<02:25,  3.03it/s]"
     ]
    },
    {
     "name": "stdout",
     "output_type": "stream",
     "text": [
      "--- Iteration 558: training loss = 0.0039 ---\n"
     ]
    },
    {
     "name": "stderr",
     "output_type": "stream",
     "text": [
      "\r",
      " 56%|████████████████████████████████████████████▏                                  | 559/1000 [03:00<02:25,  3.02it/s]"
     ]
    },
    {
     "name": "stdout",
     "output_type": "stream",
     "text": [
      "--- Iteration 559: training loss = 0.0039 ---\n"
     ]
    },
    {
     "name": "stderr",
     "output_type": "stream",
     "text": [
      "\r",
      " 56%|████████████████████████████████████████████▏                                  | 560/1000 [03:00<02:25,  3.02it/s]"
     ]
    },
    {
     "name": "stdout",
     "output_type": "stream",
     "text": [
      "--- Iteration 560: training loss = 0.0039 ---\n"
     ]
    },
    {
     "name": "stderr",
     "output_type": "stream",
     "text": [
      "\r",
      " 56%|████████████████████████████████████████████▎                                  | 561/1000 [03:00<02:22,  3.09it/s]"
     ]
    },
    {
     "name": "stdout",
     "output_type": "stream",
     "text": [
      "--- Iteration 561: training loss = 0.0039 ---\n"
     ]
    },
    {
     "name": "stderr",
     "output_type": "stream",
     "text": [
      "\r",
      " 56%|████████████████████████████████████████████▍                                  | 562/1000 [03:01<02:23,  3.06it/s]"
     ]
    },
    {
     "name": "stdout",
     "output_type": "stream",
     "text": [
      "--- Iteration 562: training loss = 0.0039 ---\n"
     ]
    },
    {
     "name": "stderr",
     "output_type": "stream",
     "text": [
      "\r",
      " 56%|████████████████████████████████████████████▍                                  | 563/1000 [03:01<02:17,  3.18it/s]"
     ]
    },
    {
     "name": "stdout",
     "output_type": "stream",
     "text": [
      "--- Iteration 563: training loss = 0.0039 ---\n"
     ]
    },
    {
     "name": "stderr",
     "output_type": "stream",
     "text": [
      "\r",
      " 56%|████████████████████████████████████████████▌                                  | 564/1000 [03:01<02:14,  3.24it/s]"
     ]
    },
    {
     "name": "stdout",
     "output_type": "stream",
     "text": [
      "--- Iteration 564: training loss = 0.0039 ---\n"
     ]
    },
    {
     "name": "stderr",
     "output_type": "stream",
     "text": [
      "\r",
      " 56%|████████████████████████████████████████████▋                                  | 565/1000 [03:02<02:14,  3.23it/s]"
     ]
    },
    {
     "name": "stdout",
     "output_type": "stream",
     "text": [
      "--- Iteration 565: training loss = 0.0039 ---\n"
     ]
    },
    {
     "name": "stderr",
     "output_type": "stream",
     "text": [
      "\r",
      " 57%|████████████████████████████████████████████▋                                  | 566/1000 [03:02<02:16,  3.19it/s]"
     ]
    },
    {
     "name": "stdout",
     "output_type": "stream",
     "text": [
      "--- Iteration 566: training loss = 0.0039 ---\n"
     ]
    },
    {
     "name": "stderr",
     "output_type": "stream",
     "text": [
      "\r",
      " 57%|████████████████████████████████████████████▊                                  | 567/1000 [03:02<02:14,  3.22it/s]"
     ]
    },
    {
     "name": "stdout",
     "output_type": "stream",
     "text": [
      "--- Iteration 567: training loss = 0.0039 ---\n"
     ]
    },
    {
     "name": "stderr",
     "output_type": "stream",
     "text": [
      "\r",
      " 57%|████████████████████████████████████████████▊                                  | 568/1000 [03:02<02:15,  3.18it/s]"
     ]
    },
    {
     "name": "stdout",
     "output_type": "stream",
     "text": [
      "--- Iteration 568: training loss = 0.0039 ---\n"
     ]
    },
    {
     "name": "stderr",
     "output_type": "stream",
     "text": [
      "\r",
      " 57%|████████████████████████████████████████████▉                                  | 569/1000 [03:03<02:15,  3.19it/s]"
     ]
    },
    {
     "name": "stdout",
     "output_type": "stream",
     "text": [
      "--- Iteration 569: training loss = 0.0039 ---\n"
     ]
    },
    {
     "name": "stderr",
     "output_type": "stream",
     "text": [
      "\r",
      " 57%|█████████████████████████████████████████████                                  | 570/1000 [03:03<02:12,  3.24it/s]"
     ]
    },
    {
     "name": "stdout",
     "output_type": "stream",
     "text": [
      "--- Iteration 570: training loss = 0.0039 ---\n"
     ]
    },
    {
     "name": "stderr",
     "output_type": "stream",
     "text": [
      "\r",
      " 57%|█████████████████████████████████████████████                                  | 571/1000 [03:03<02:11,  3.26it/s]"
     ]
    },
    {
     "name": "stdout",
     "output_type": "stream",
     "text": [
      "--- Iteration 571: training loss = 0.0039 ---\n"
     ]
    },
    {
     "name": "stderr",
     "output_type": "stream",
     "text": [
      "\r",
      " 57%|█████████████████████████████████████████████▏                                 | 572/1000 [03:04<02:10,  3.27it/s]"
     ]
    },
    {
     "name": "stdout",
     "output_type": "stream",
     "text": [
      "--- Iteration 572: training loss = 0.0038 ---\n"
     ]
    },
    {
     "name": "stderr",
     "output_type": "stream",
     "text": [
      "\r",
      " 57%|█████████████████████████████████████████████▎                                 | 573/1000 [03:04<02:08,  3.31it/s]"
     ]
    },
    {
     "name": "stdout",
     "output_type": "stream",
     "text": [
      "--- Iteration 573: training loss = 0.0038 ---\n"
     ]
    },
    {
     "name": "stderr",
     "output_type": "stream",
     "text": [
      "\r",
      " 57%|█████████████████████████████████████████████▎                                 | 574/1000 [03:04<02:11,  3.24it/s]"
     ]
    },
    {
     "name": "stdout",
     "output_type": "stream",
     "text": [
      "--- Iteration 574: training loss = 0.0038 ---\n"
     ]
    },
    {
     "name": "stderr",
     "output_type": "stream",
     "text": [
      "\r",
      " 57%|█████████████████████████████████████████████▍                                 | 575/1000 [03:05<02:08,  3.30it/s]"
     ]
    },
    {
     "name": "stdout",
     "output_type": "stream",
     "text": [
      "--- Iteration 575: training loss = 0.0038 ---\n"
     ]
    },
    {
     "name": "stderr",
     "output_type": "stream",
     "text": [
      "\r",
      " 58%|█████████████████████████████████████████████▌                                 | 576/1000 [03:05<02:12,  3.19it/s]"
     ]
    },
    {
     "name": "stdout",
     "output_type": "stream",
     "text": [
      "--- Iteration 576: training loss = 0.0038 ---\n"
     ]
    },
    {
     "name": "stderr",
     "output_type": "stream",
     "text": [
      "\r",
      " 58%|█████████████████████████████████████████████▌                                 | 577/1000 [03:05<02:13,  3.16it/s]"
     ]
    },
    {
     "name": "stdout",
     "output_type": "stream",
     "text": [
      "--- Iteration 577: training loss = 0.0038 ---\n"
     ]
    },
    {
     "name": "stderr",
     "output_type": "stream",
     "text": [
      "\r",
      " 58%|█████████████████████████████████████████████▋                                 | 578/1000 [03:06<02:14,  3.14it/s]"
     ]
    },
    {
     "name": "stdout",
     "output_type": "stream",
     "text": [
      "--- Iteration 578: training loss = 0.0038 ---\n"
     ]
    },
    {
     "name": "stderr",
     "output_type": "stream",
     "text": [
      "\r",
      " 58%|█████████████████████████████████████████████▋                                 | 579/1000 [03:06<02:19,  3.01it/s]"
     ]
    },
    {
     "name": "stdout",
     "output_type": "stream",
     "text": [
      "--- Iteration 579: training loss = 0.0038 ---\n"
     ]
    },
    {
     "name": "stderr",
     "output_type": "stream",
     "text": [
      "\r",
      " 58%|█████████████████████████████████████████████▊                                 | 580/1000 [03:06<02:18,  3.03it/s]"
     ]
    },
    {
     "name": "stdout",
     "output_type": "stream",
     "text": [
      "--- Iteration 580: training loss = 0.0038 ---\n"
     ]
    },
    {
     "name": "stderr",
     "output_type": "stream",
     "text": [
      "\r",
      " 58%|█████████████████████████████████████████████▉                                 | 581/1000 [03:07<02:20,  2.99it/s]"
     ]
    },
    {
     "name": "stdout",
     "output_type": "stream",
     "text": [
      "--- Iteration 581: training loss = 0.0038 ---\n"
     ]
    },
    {
     "name": "stderr",
     "output_type": "stream",
     "text": [
      "\r",
      " 58%|█████████████████████████████████████████████▉                                 | 582/1000 [03:07<02:14,  3.11it/s]"
     ]
    },
    {
     "name": "stdout",
     "output_type": "stream",
     "text": [
      "--- Iteration 582: training loss = 0.0038 ---\n"
     ]
    },
    {
     "name": "stderr",
     "output_type": "stream",
     "text": [
      "\r",
      " 58%|██████████████████████████████████████████████                                 | 583/1000 [03:07<02:13,  3.13it/s]"
     ]
    },
    {
     "name": "stdout",
     "output_type": "stream",
     "text": [
      "--- Iteration 583: training loss = 0.0038 ---\n"
     ]
    },
    {
     "name": "stderr",
     "output_type": "stream",
     "text": [
      "\r",
      " 58%|██████████████████████████████████████████████▏                                | 584/1000 [03:08<02:10,  3.18it/s]"
     ]
    },
    {
     "name": "stdout",
     "output_type": "stream",
     "text": [
      "--- Iteration 584: training loss = 0.0038 ---\n"
     ]
    },
    {
     "name": "stderr",
     "output_type": "stream",
     "text": [
      "\r",
      " 58%|██████████████████████████████████████████████▏                                | 585/1000 [03:08<02:11,  3.15it/s]"
     ]
    },
    {
     "name": "stdout",
     "output_type": "stream",
     "text": [
      "--- Iteration 585: training loss = 0.0038 ---\n"
     ]
    },
    {
     "name": "stderr",
     "output_type": "stream",
     "text": [
      "\r",
      " 59%|██████████████████████████████████████████████▎                                | 586/1000 [03:08<02:08,  3.22it/s]"
     ]
    },
    {
     "name": "stdout",
     "output_type": "stream",
     "text": [
      "--- Iteration 586: training loss = 0.0038 ---\n"
     ]
    },
    {
     "name": "stderr",
     "output_type": "stream",
     "text": [
      "\r",
      " 59%|██████████████████████████████████████████████▎                                | 587/1000 [03:08<02:10,  3.16it/s]"
     ]
    },
    {
     "name": "stdout",
     "output_type": "stream",
     "text": [
      "--- Iteration 587: training loss = 0.0038 ---\n"
     ]
    },
    {
     "name": "stderr",
     "output_type": "stream",
     "text": [
      "\r",
      " 59%|██████████████████████████████████████████████▍                                | 588/1000 [03:09<02:07,  3.22it/s]"
     ]
    },
    {
     "name": "stdout",
     "output_type": "stream",
     "text": [
      "--- Iteration 588: training loss = 0.0038 ---\n"
     ]
    },
    {
     "name": "stderr",
     "output_type": "stream",
     "text": [
      "\r",
      " 59%|██████████████████████████████████████████████▌                                | 589/1000 [03:09<02:08,  3.21it/s]"
     ]
    },
    {
     "name": "stdout",
     "output_type": "stream",
     "text": [
      "--- Iteration 589: training loss = 0.0037 ---\n"
     ]
    },
    {
     "name": "stderr",
     "output_type": "stream",
     "text": [
      "\r",
      " 59%|██████████████████████████████████████████████▌                                | 590/1000 [03:09<02:06,  3.23it/s]"
     ]
    },
    {
     "name": "stdout",
     "output_type": "stream",
     "text": [
      "--- Iteration 590: training loss = 0.0037 ---\n"
     ]
    },
    {
     "name": "stderr",
     "output_type": "stream",
     "text": [
      "\r",
      " 59%|██████████████████████████████████████████████▋                                | 591/1000 [03:10<02:08,  3.19it/s]"
     ]
    },
    {
     "name": "stdout",
     "output_type": "stream",
     "text": [
      "--- Iteration 591: training loss = 0.0037 ---\n"
     ]
    },
    {
     "name": "stderr",
     "output_type": "stream",
     "text": [
      "\r",
      " 59%|██████████████████████████████████████████████▊                                | 592/1000 [03:10<02:08,  3.18it/s]"
     ]
    },
    {
     "name": "stdout",
     "output_type": "stream",
     "text": [
      "--- Iteration 592: training loss = 0.0037 ---\n"
     ]
    },
    {
     "name": "stderr",
     "output_type": "stream",
     "text": [
      "\r",
      " 59%|██████████████████████████████████████████████▊                                | 593/1000 [03:10<02:09,  3.15it/s]"
     ]
    },
    {
     "name": "stdout",
     "output_type": "stream",
     "text": [
      "--- Iteration 593: training loss = 0.0037 ---\n"
     ]
    },
    {
     "name": "stderr",
     "output_type": "stream",
     "text": [
      "\r",
      " 59%|██████████████████████████████████████████████▉                                | 594/1000 [03:11<02:08,  3.16it/s]"
     ]
    },
    {
     "name": "stdout",
     "output_type": "stream",
     "text": [
      "--- Iteration 594: training loss = 0.0037 ---\n"
     ]
    },
    {
     "name": "stderr",
     "output_type": "stream",
     "text": [
      "\r",
      " 60%|███████████████████████████████████████████████                                | 595/1000 [03:11<02:07,  3.17it/s]"
     ]
    },
    {
     "name": "stdout",
     "output_type": "stream",
     "text": [
      "--- Iteration 595: training loss = 0.0037 ---\n"
     ]
    },
    {
     "name": "stderr",
     "output_type": "stream",
     "text": [
      "\r",
      " 60%|███████████████████████████████████████████████                                | 596/1000 [03:11<02:08,  3.15it/s]"
     ]
    },
    {
     "name": "stdout",
     "output_type": "stream",
     "text": [
      "--- Iteration 596: training loss = 0.0037 ---\n"
     ]
    },
    {
     "name": "stderr",
     "output_type": "stream",
     "text": [
      "\r",
      " 60%|███████████████████████████████████████████████▏                               | 597/1000 [03:12<02:08,  3.13it/s]"
     ]
    },
    {
     "name": "stdout",
     "output_type": "stream",
     "text": [
      "--- Iteration 597: training loss = 0.0037 ---\n"
     ]
    },
    {
     "name": "stderr",
     "output_type": "stream",
     "text": [
      "\r",
      " 60%|███████████████████████████████████████████████▏                               | 598/1000 [03:12<02:06,  3.18it/s]"
     ]
    },
    {
     "name": "stdout",
     "output_type": "stream",
     "text": [
      "--- Iteration 598: training loss = 0.0037 ---\n"
     ]
    },
    {
     "name": "stderr",
     "output_type": "stream",
     "text": [
      "\r",
      " 60%|███████████████████████████████████████████████▎                               | 599/1000 [03:12<02:04,  3.22it/s]"
     ]
    },
    {
     "name": "stdout",
     "output_type": "stream",
     "text": [
      "--- Iteration 599: training loss = 0.0037 ---\n"
     ]
    },
    {
     "name": "stderr",
     "output_type": "stream",
     "text": [
      "\r",
      " 60%|███████████████████████████████████████████████▍                               | 600/1000 [03:13<02:06,  3.17it/s]"
     ]
    },
    {
     "name": "stdout",
     "output_type": "stream",
     "text": [
      "--- Iteration 600: training loss = 0.0037 ---\n"
     ]
    },
    {
     "name": "stderr",
     "output_type": "stream",
     "text": [
      "\r",
      " 60%|███████████████████████████████████████████████▍                               | 601/1000 [03:13<02:05,  3.17it/s]"
     ]
    },
    {
     "name": "stdout",
     "output_type": "stream",
     "text": [
      "--- Iteration 601: training loss = 0.0037 ---\n"
     ]
    },
    {
     "name": "stderr",
     "output_type": "stream",
     "text": [
      "\r",
      " 60%|███████████████████████████████████████████████▌                               | 602/1000 [03:13<02:05,  3.17it/s]"
     ]
    },
    {
     "name": "stdout",
     "output_type": "stream",
     "text": [
      "--- Iteration 602: training loss = 0.0037 ---\n"
     ]
    },
    {
     "name": "stderr",
     "output_type": "stream",
     "text": [
      "\r",
      " 60%|███████████████████████████████████████████████▋                               | 603/1000 [03:14<02:03,  3.21it/s]"
     ]
    },
    {
     "name": "stdout",
     "output_type": "stream",
     "text": [
      "--- Iteration 603: training loss = 0.0037 ---\n"
     ]
    },
    {
     "name": "stderr",
     "output_type": "stream",
     "text": [
      "\r",
      " 60%|███████████████████████████████████████████████▋                               | 604/1000 [03:14<02:02,  3.23it/s]"
     ]
    },
    {
     "name": "stdout",
     "output_type": "stream",
     "text": [
      "--- Iteration 604: training loss = 0.0037 ---\n"
     ]
    },
    {
     "name": "stderr",
     "output_type": "stream",
     "text": [
      "\r",
      " 60%|███████████████████████████████████████████████▊                               | 605/1000 [03:14<02:05,  3.16it/s]"
     ]
    },
    {
     "name": "stdout",
     "output_type": "stream",
     "text": [
      "--- Iteration 605: training loss = 0.0037 ---\n"
     ]
    },
    {
     "name": "stderr",
     "output_type": "stream",
     "text": [
      "\r",
      " 61%|███████████████████████████████████████████████▊                               | 606/1000 [03:14<02:09,  3.05it/s]"
     ]
    },
    {
     "name": "stdout",
     "output_type": "stream",
     "text": [
      "--- Iteration 606: training loss = 0.0036 ---\n"
     ]
    },
    {
     "name": "stderr",
     "output_type": "stream",
     "text": [
      "\r",
      " 61%|███████████████████████████████████████████████▉                               | 607/1000 [03:15<02:08,  3.06it/s]"
     ]
    },
    {
     "name": "stdout",
     "output_type": "stream",
     "text": [
      "--- Iteration 607: training loss = 0.0036 ---\n"
     ]
    },
    {
     "name": "stderr",
     "output_type": "stream",
     "text": [
      "\r",
      " 61%|████████████████████████████████████████████████                               | 608/1000 [03:15<02:05,  3.13it/s]"
     ]
    },
    {
     "name": "stdout",
     "output_type": "stream",
     "text": [
      "--- Iteration 608: training loss = 0.0036 ---\n"
     ]
    },
    {
     "name": "stderr",
     "output_type": "stream",
     "text": [
      "\r",
      " 61%|████████████████████████████████████████████████                               | 609/1000 [03:15<02:04,  3.15it/s]"
     ]
    },
    {
     "name": "stdout",
     "output_type": "stream",
     "text": [
      "--- Iteration 609: training loss = 0.0036 ---\n"
     ]
    },
    {
     "name": "stderr",
     "output_type": "stream",
     "text": [
      "\r",
      " 61%|████████████████████████████████████████████████▏                              | 610/1000 [03:16<02:01,  3.22it/s]"
     ]
    },
    {
     "name": "stdout",
     "output_type": "stream",
     "text": [
      "--- Iteration 610: training loss = 0.0036 ---\n"
     ]
    },
    {
     "name": "stderr",
     "output_type": "stream",
     "text": [
      "\r",
      " 61%|████████████████████████████████████████████████▎                              | 611/1000 [03:16<02:02,  3.18it/s]"
     ]
    },
    {
     "name": "stdout",
     "output_type": "stream",
     "text": [
      "--- Iteration 611: training loss = 0.0036 ---\n"
     ]
    },
    {
     "name": "stderr",
     "output_type": "stream",
     "text": [
      "\r",
      " 61%|████████████████████████████████████████████████▎                              | 612/1000 [03:16<02:00,  3.22it/s]"
     ]
    },
    {
     "name": "stdout",
     "output_type": "stream",
     "text": [
      "--- Iteration 612: training loss = 0.0036 ---\n"
     ]
    },
    {
     "name": "stderr",
     "output_type": "stream",
     "text": [
      "\r",
      " 61%|████████████████████████████████████████████████▍                              | 613/1000 [03:17<02:04,  3.12it/s]"
     ]
    },
    {
     "name": "stdout",
     "output_type": "stream",
     "text": [
      "--- Iteration 613: training loss = 0.0036 ---\n"
     ]
    },
    {
     "name": "stderr",
     "output_type": "stream",
     "text": [
      "\r",
      " 61%|████████████████████████████████████████████████▌                              | 614/1000 [03:17<02:05,  3.08it/s]"
     ]
    },
    {
     "name": "stdout",
     "output_type": "stream",
     "text": [
      "--- Iteration 614: training loss = 0.0036 ---\n"
     ]
    },
    {
     "name": "stderr",
     "output_type": "stream",
     "text": [
      "\r",
      " 62%|████████████████████████████████████████████████▌                              | 615/1000 [03:17<02:03,  3.11it/s]"
     ]
    },
    {
     "name": "stdout",
     "output_type": "stream",
     "text": [
      "--- Iteration 615: training loss = 0.0036 ---\n"
     ]
    },
    {
     "name": "stderr",
     "output_type": "stream",
     "text": [
      "\r",
      " 62%|████████████████████████████████████████████████▋                              | 616/1000 [03:18<02:03,  3.10it/s]"
     ]
    },
    {
     "name": "stdout",
     "output_type": "stream",
     "text": [
      "--- Iteration 616: training loss = 0.0036 ---\n"
     ]
    },
    {
     "name": "stderr",
     "output_type": "stream",
     "text": [
      "\r",
      " 62%|████████████████████████████████████████████████▋                              | 617/1000 [03:18<02:03,  3.10it/s]"
     ]
    },
    {
     "name": "stdout",
     "output_type": "stream",
     "text": [
      "--- Iteration 617: training loss = 0.0036 ---\n"
     ]
    },
    {
     "name": "stderr",
     "output_type": "stream",
     "text": [
      "\r",
      " 62%|████████████████████████████████████████████████▊                              | 618/1000 [03:18<02:03,  3.10it/s]"
     ]
    },
    {
     "name": "stdout",
     "output_type": "stream",
     "text": [
      "--- Iteration 618: training loss = 0.0036 ---\n"
     ]
    },
    {
     "name": "stderr",
     "output_type": "stream",
     "text": [
      "\r",
      " 62%|████████████████████████████████████████████████▉                              | 619/1000 [03:19<01:59,  3.19it/s]"
     ]
    },
    {
     "name": "stdout",
     "output_type": "stream",
     "text": [
      "--- Iteration 619: training loss = 0.0036 ---\n"
     ]
    },
    {
     "name": "stderr",
     "output_type": "stream",
     "text": [
      "\r",
      " 62%|████████████████████████████████████████████████▉                              | 620/1000 [03:19<01:58,  3.22it/s]"
     ]
    },
    {
     "name": "stdout",
     "output_type": "stream",
     "text": [
      "--- Iteration 620: training loss = 0.0036 ---\n"
     ]
    },
    {
     "name": "stderr",
     "output_type": "stream",
     "text": [
      "\r",
      " 62%|█████████████████████████████████████████████████                              | 621/1000 [03:19<01:59,  3.17it/s]"
     ]
    },
    {
     "name": "stdout",
     "output_type": "stream",
     "text": [
      "--- Iteration 621: training loss = 0.0036 ---\n"
     ]
    },
    {
     "name": "stderr",
     "output_type": "stream",
     "text": [
      "\r",
      " 62%|█████████████████████████████████████████████████▏                             | 622/1000 [03:20<02:00,  3.15it/s]"
     ]
    },
    {
     "name": "stdout",
     "output_type": "stream",
     "text": [
      "--- Iteration 622: training loss = 0.0036 ---\n"
     ]
    },
    {
     "name": "stderr",
     "output_type": "stream",
     "text": [
      "\r",
      " 62%|█████████████████████████████████████████████████▏                             | 623/1000 [03:20<02:00,  3.14it/s]"
     ]
    },
    {
     "name": "stdout",
     "output_type": "stream",
     "text": [
      "--- Iteration 623: training loss = 0.0036 ---\n"
     ]
    },
    {
     "name": "stderr",
     "output_type": "stream",
     "text": [
      "\r",
      " 62%|█████████████████████████████████████████████████▎                             | 624/1000 [03:20<02:01,  3.09it/s]"
     ]
    },
    {
     "name": "stdout",
     "output_type": "stream",
     "text": [
      "--- Iteration 624: training loss = 0.0036 ---\n"
     ]
    },
    {
     "name": "stderr",
     "output_type": "stream",
     "text": [
      "\r",
      " 62%|█████████████████████████████████████████████████▍                             | 625/1000 [03:21<01:59,  3.13it/s]"
     ]
    },
    {
     "name": "stdout",
     "output_type": "stream",
     "text": [
      "--- Iteration 625: training loss = 0.0035 ---\n"
     ]
    },
    {
     "name": "stderr",
     "output_type": "stream",
     "text": [
      "\r",
      " 63%|█████████████████████████████████████████████████▍                             | 626/1000 [03:21<01:56,  3.20it/s]"
     ]
    },
    {
     "name": "stdout",
     "output_type": "stream",
     "text": [
      "--- Iteration 626: training loss = 0.0035 ---\n"
     ]
    },
    {
     "name": "stderr",
     "output_type": "stream",
     "text": [
      "\r",
      " 63%|█████████████████████████████████████████████████▌                             | 627/1000 [03:21<02:00,  3.08it/s]"
     ]
    },
    {
     "name": "stdout",
     "output_type": "stream",
     "text": [
      "--- Iteration 627: training loss = 0.0035 ---\n"
     ]
    },
    {
     "name": "stderr",
     "output_type": "stream",
     "text": [
      "\r",
      " 63%|█████████████████████████████████████████████████▌                             | 628/1000 [03:22<02:05,  2.97it/s]"
     ]
    },
    {
     "name": "stdout",
     "output_type": "stream",
     "text": [
      "--- Iteration 628: training loss = 0.0035 ---\n"
     ]
    },
    {
     "name": "stderr",
     "output_type": "stream",
     "text": [
      "\r",
      " 63%|█████████████████████████████████████████████████▋                             | 629/1000 [03:22<02:01,  3.06it/s]"
     ]
    },
    {
     "name": "stdout",
     "output_type": "stream",
     "text": [
      "--- Iteration 629: training loss = 0.0035 ---\n"
     ]
    },
    {
     "name": "stderr",
     "output_type": "stream",
     "text": [
      "\r",
      " 63%|█████████████████████████████████████████████████▊                             | 630/1000 [03:22<01:57,  3.15it/s]"
     ]
    },
    {
     "name": "stdout",
     "output_type": "stream",
     "text": [
      "--- Iteration 630: training loss = 0.0035 ---\n"
     ]
    },
    {
     "name": "stderr",
     "output_type": "stream",
     "text": [
      "\r",
      " 63%|█████████████████████████████████████████████████▊                             | 631/1000 [03:22<01:56,  3.16it/s]"
     ]
    },
    {
     "name": "stdout",
     "output_type": "stream",
     "text": [
      "--- Iteration 631: training loss = 0.0035 ---\n"
     ]
    },
    {
     "name": "stderr",
     "output_type": "stream",
     "text": [
      "\r",
      " 63%|█████████████████████████████████████████████████▉                             | 632/1000 [03:23<01:55,  3.20it/s]"
     ]
    },
    {
     "name": "stdout",
     "output_type": "stream",
     "text": [
      "--- Iteration 632: training loss = 0.0035 ---\n"
     ]
    },
    {
     "name": "stderr",
     "output_type": "stream",
     "text": [
      "\r",
      " 63%|██████████████████████████████████████████████████                             | 633/1000 [03:23<01:57,  3.14it/s]"
     ]
    },
    {
     "name": "stdout",
     "output_type": "stream",
     "text": [
      "--- Iteration 633: training loss = 0.0035 ---\n"
     ]
    },
    {
     "name": "stderr",
     "output_type": "stream",
     "text": [
      "\r",
      " 63%|██████████████████████████████████████████████████                             | 634/1000 [03:23<01:56,  3.15it/s]"
     ]
    },
    {
     "name": "stdout",
     "output_type": "stream",
     "text": [
      "--- Iteration 634: training loss = 0.0035 ---\n"
     ]
    },
    {
     "name": "stderr",
     "output_type": "stream",
     "text": [
      "\r",
      " 64%|██████████████████████████████████████████████████▏                            | 635/1000 [03:24<01:53,  3.23it/s]"
     ]
    },
    {
     "name": "stdout",
     "output_type": "stream",
     "text": [
      "--- Iteration 635: training loss = 0.0035 ---\n"
     ]
    },
    {
     "name": "stderr",
     "output_type": "stream",
     "text": [
      "\r",
      " 64%|██████████████████████████████████████████████████▏                            | 636/1000 [03:24<01:56,  3.13it/s]"
     ]
    },
    {
     "name": "stdout",
     "output_type": "stream",
     "text": [
      "--- Iteration 636: training loss = 0.0035 ---\n"
     ]
    },
    {
     "name": "stderr",
     "output_type": "stream",
     "text": [
      "\r",
      " 64%|██████████████████████████████████████████████████▎                            | 637/1000 [03:24<01:56,  3.11it/s]"
     ]
    },
    {
     "name": "stdout",
     "output_type": "stream",
     "text": [
      "--- Iteration 637: training loss = 0.0035 ---\n"
     ]
    },
    {
     "name": "stderr",
     "output_type": "stream",
     "text": [
      "\r",
      " 64%|██████████████████████████████████████████████████▍                            | 638/1000 [03:25<01:57,  3.08it/s]"
     ]
    },
    {
     "name": "stdout",
     "output_type": "stream",
     "text": [
      "--- Iteration 638: training loss = 0.0035 ---\n"
     ]
    },
    {
     "name": "stderr",
     "output_type": "stream",
     "text": [
      "\r",
      " 64%|██████████████████████████████████████████████████▍                            | 639/1000 [03:25<01:58,  3.05it/s]"
     ]
    },
    {
     "name": "stdout",
     "output_type": "stream",
     "text": [
      "--- Iteration 639: training loss = 0.0035 ---\n"
     ]
    },
    {
     "name": "stderr",
     "output_type": "stream",
     "text": [
      "\r",
      " 64%|██████████████████████████████████████████████████▌                            | 640/1000 [03:25<01:55,  3.12it/s]"
     ]
    },
    {
     "name": "stdout",
     "output_type": "stream",
     "text": [
      "--- Iteration 640: training loss = 0.0035 ---\n"
     ]
    },
    {
     "name": "stderr",
     "output_type": "stream",
     "text": [
      "\r",
      " 64%|██████████████████████████████████████████████████▋                            | 641/1000 [03:26<01:53,  3.17it/s]"
     ]
    },
    {
     "name": "stdout",
     "output_type": "stream",
     "text": [
      "--- Iteration 641: training loss = 0.0035 ---\n"
     ]
    },
    {
     "name": "stderr",
     "output_type": "stream",
     "text": [
      "\r",
      " 64%|██████████████████████████████████████████████████▋                            | 642/1000 [03:26<01:52,  3.18it/s]"
     ]
    },
    {
     "name": "stdout",
     "output_type": "stream",
     "text": [
      "--- Iteration 642: training loss = 0.0035 ---\n"
     ]
    },
    {
     "name": "stderr",
     "output_type": "stream",
     "text": [
      "\r",
      " 64%|██████████████████████████████████████████████████▊                            | 643/1000 [03:26<01:53,  3.15it/s]"
     ]
    },
    {
     "name": "stdout",
     "output_type": "stream",
     "text": [
      "--- Iteration 643: training loss = 0.0035 ---\n"
     ]
    },
    {
     "name": "stderr",
     "output_type": "stream",
     "text": [
      "\r",
      " 64%|██████████████████████████████████████████████████▉                            | 644/1000 [03:27<01:57,  3.02it/s]"
     ]
    },
    {
     "name": "stdout",
     "output_type": "stream",
     "text": [
      "--- Iteration 644: training loss = 0.0035 ---\n"
     ]
    },
    {
     "name": "stderr",
     "output_type": "stream",
     "text": [
      "\r",
      " 64%|██████████████████████████████████████████████████▉                            | 645/1000 [03:27<01:53,  3.13it/s]"
     ]
    },
    {
     "name": "stdout",
     "output_type": "stream",
     "text": [
      "--- Iteration 645: training loss = 0.0034 ---\n"
     ]
    },
    {
     "name": "stderr",
     "output_type": "stream",
     "text": [
      "\r",
      " 65%|███████████████████████████████████████████████████                            | 646/1000 [03:27<01:51,  3.18it/s]"
     ]
    },
    {
     "name": "stdout",
     "output_type": "stream",
     "text": [
      "--- Iteration 646: training loss = 0.0034 ---\n"
     ]
    },
    {
     "name": "stderr",
     "output_type": "stream",
     "text": [
      "\r",
      " 65%|███████████████████████████████████████████████████                            | 647/1000 [03:28<01:55,  3.06it/s]"
     ]
    },
    {
     "name": "stdout",
     "output_type": "stream",
     "text": [
      "--- Iteration 647: training loss = 0.0034 ---\n"
     ]
    },
    {
     "name": "stderr",
     "output_type": "stream",
     "text": [
      "\r",
      " 65%|███████████████████████████████████████████████████▏                           | 648/1000 [03:28<01:52,  3.13it/s]"
     ]
    },
    {
     "name": "stdout",
     "output_type": "stream",
     "text": [
      "--- Iteration 648: training loss = 0.0034 ---\n"
     ]
    },
    {
     "name": "stderr",
     "output_type": "stream",
     "text": [
      "\r",
      " 65%|███████████████████████████████████████████████████▎                           | 649/1000 [03:28<01:51,  3.14it/s]"
     ]
    },
    {
     "name": "stdout",
     "output_type": "stream",
     "text": [
      "--- Iteration 649: training loss = 0.0034 ---\n"
     ]
    },
    {
     "name": "stderr",
     "output_type": "stream",
     "text": [
      "\r",
      " 65%|███████████████████████████████████████████████████▎                           | 650/1000 [03:29<01:50,  3.16it/s]"
     ]
    },
    {
     "name": "stdout",
     "output_type": "stream",
     "text": [
      "--- Iteration 650: training loss = 0.0034 ---\n"
     ]
    },
    {
     "name": "stderr",
     "output_type": "stream",
     "text": [
      "\r",
      " 65%|███████████████████████████████████████████████████▍                           | 651/1000 [03:29<01:51,  3.14it/s]"
     ]
    },
    {
     "name": "stdout",
     "output_type": "stream",
     "text": [
      "--- Iteration 651: training loss = 0.0034 ---\n"
     ]
    },
    {
     "name": "stderr",
     "output_type": "stream",
     "text": [
      "\r",
      " 65%|███████████████████████████████████████████████████▌                           | 652/1000 [03:29<01:51,  3.13it/s]"
     ]
    },
    {
     "name": "stdout",
     "output_type": "stream",
     "text": [
      "--- Iteration 652: training loss = 0.0034 ---\n"
     ]
    },
    {
     "name": "stderr",
     "output_type": "stream",
     "text": [
      "\r",
      " 65%|███████████████████████████████████████████████████▌                           | 653/1000 [03:29<01:50,  3.15it/s]"
     ]
    },
    {
     "name": "stdout",
     "output_type": "stream",
     "text": [
      "--- Iteration 653: training loss = 0.0034 ---\n"
     ]
    },
    {
     "name": "stderr",
     "output_type": "stream",
     "text": [
      "\r",
      " 65%|███████████████████████████████████████████████████▋                           | 654/1000 [03:30<01:48,  3.19it/s]"
     ]
    },
    {
     "name": "stdout",
     "output_type": "stream",
     "text": [
      "--- Iteration 654: training loss = 0.0034 ---\n"
     ]
    },
    {
     "name": "stderr",
     "output_type": "stream",
     "text": [
      "\r",
      " 66%|███████████████████████████████████████████████████▋                           | 655/1000 [03:30<01:50,  3.12it/s]"
     ]
    },
    {
     "name": "stdout",
     "output_type": "stream",
     "text": [
      "--- Iteration 655: training loss = 0.0034 ---\n"
     ]
    },
    {
     "name": "stderr",
     "output_type": "stream",
     "text": [
      "\r",
      " 66%|███████████████████████████████████████████████████▊                           | 656/1000 [03:30<01:51,  3.09it/s]"
     ]
    },
    {
     "name": "stdout",
     "output_type": "stream",
     "text": [
      "--- Iteration 656: training loss = 0.0034 ---\n"
     ]
    },
    {
     "name": "stderr",
     "output_type": "stream",
     "text": [
      "\r",
      " 66%|███████████████████████████████████████████████████▉                           | 657/1000 [03:31<01:52,  3.06it/s]"
     ]
    },
    {
     "name": "stdout",
     "output_type": "stream",
     "text": [
      "--- Iteration 657: training loss = 0.0034 ---\n"
     ]
    },
    {
     "name": "stderr",
     "output_type": "stream",
     "text": [
      "\r",
      " 66%|███████████████████████████████████████████████████▉                           | 658/1000 [03:31<01:49,  3.13it/s]"
     ]
    },
    {
     "name": "stdout",
     "output_type": "stream",
     "text": [
      "--- Iteration 658: training loss = 0.0034 ---\n"
     ]
    },
    {
     "name": "stderr",
     "output_type": "stream",
     "text": [
      "\r",
      " 66%|████████████████████████████████████████████████████                           | 659/1000 [03:31<01:47,  3.17it/s]"
     ]
    },
    {
     "name": "stdout",
     "output_type": "stream",
     "text": [
      "--- Iteration 659: training loss = 0.0034 ---\n"
     ]
    },
    {
     "name": "stderr",
     "output_type": "stream",
     "text": [
      "\r",
      " 66%|████████████████████████████████████████████████████▏                          | 660/1000 [03:32<01:46,  3.21it/s]"
     ]
    },
    {
     "name": "stdout",
     "output_type": "stream",
     "text": [
      "--- Iteration 660: training loss = 0.0034 ---\n"
     ]
    },
    {
     "name": "stderr",
     "output_type": "stream",
     "text": [
      "\r",
      " 66%|████████████████████████████████████████████████████▏                          | 661/1000 [03:32<01:47,  3.14it/s]"
     ]
    },
    {
     "name": "stdout",
     "output_type": "stream",
     "text": [
      "--- Iteration 661: training loss = 0.0034 ---\n"
     ]
    },
    {
     "name": "stderr",
     "output_type": "stream",
     "text": [
      "\r",
      " 66%|████████████████████████████████████████████████████▎                          | 662/1000 [03:32<01:47,  3.15it/s]"
     ]
    },
    {
     "name": "stdout",
     "output_type": "stream",
     "text": [
      "--- Iteration 662: training loss = 0.0034 ---\n"
     ]
    },
    {
     "name": "stderr",
     "output_type": "stream",
     "text": [
      "\r",
      " 66%|████████████████████████████████████████████████████▍                          | 663/1000 [03:33<01:45,  3.20it/s]"
     ]
    },
    {
     "name": "stdout",
     "output_type": "stream",
     "text": [
      "--- Iteration 663: training loss = 0.0034 ---\n"
     ]
    },
    {
     "name": "stderr",
     "output_type": "stream",
     "text": [
      "\r",
      " 66%|████████████████████████████████████████████████████▍                          | 664/1000 [03:33<01:43,  3.26it/s]"
     ]
    },
    {
     "name": "stdout",
     "output_type": "stream",
     "text": [
      "--- Iteration 664: training loss = 0.0034 ---\n"
     ]
    },
    {
     "name": "stderr",
     "output_type": "stream",
     "text": [
      "\r",
      " 66%|████████████████████████████████████████████████████▌                          | 665/1000 [03:33<01:42,  3.27it/s]"
     ]
    },
    {
     "name": "stdout",
     "output_type": "stream",
     "text": [
      "--- Iteration 665: training loss = 0.0034 ---\n"
     ]
    },
    {
     "name": "stderr",
     "output_type": "stream",
     "text": [
      "\r",
      " 67%|████████████████████████████████████████████████████▌                          | 666/1000 [03:34<01:45,  3.18it/s]"
     ]
    },
    {
     "name": "stdout",
     "output_type": "stream",
     "text": [
      "--- Iteration 666: training loss = 0.0033 ---\n"
     ]
    },
    {
     "name": "stderr",
     "output_type": "stream",
     "text": [
      "\r",
      " 67%|████████████████████████████████████████████████████▋                          | 667/1000 [03:34<01:46,  3.12it/s]"
     ]
    },
    {
     "name": "stdout",
     "output_type": "stream",
     "text": [
      "--- Iteration 667: training loss = 0.0033 ---\n"
     ]
    },
    {
     "name": "stderr",
     "output_type": "stream",
     "text": [
      "\r",
      " 67%|████████████████████████████████████████████████████▊                          | 668/1000 [03:34<01:48,  3.06it/s]"
     ]
    },
    {
     "name": "stdout",
     "output_type": "stream",
     "text": [
      "--- Iteration 668: training loss = 0.0033 ---\n"
     ]
    },
    {
     "name": "stderr",
     "output_type": "stream",
     "text": [
      "\r",
      " 67%|████████████████████████████████████████████████████▊                          | 669/1000 [03:35<01:47,  3.09it/s]"
     ]
    },
    {
     "name": "stdout",
     "output_type": "stream",
     "text": [
      "--- Iteration 669: training loss = 0.0033 ---\n"
     ]
    },
    {
     "name": "stderr",
     "output_type": "stream",
     "text": [
      "\r",
      " 67%|████████████████████████████████████████████████████▉                          | 670/1000 [03:35<01:46,  3.09it/s]"
     ]
    },
    {
     "name": "stdout",
     "output_type": "stream",
     "text": [
      "--- Iteration 670: training loss = 0.0033 ---\n"
     ]
    },
    {
     "name": "stderr",
     "output_type": "stream",
     "text": [
      "\r",
      " 67%|█████████████████████████████████████████████████████                          | 671/1000 [03:35<01:47,  3.06it/s]"
     ]
    },
    {
     "name": "stdout",
     "output_type": "stream",
     "text": [
      "--- Iteration 671: training loss = 0.0033 ---\n"
     ]
    },
    {
     "name": "stderr",
     "output_type": "stream",
     "text": [
      "\r",
      " 67%|█████████████████████████████████████████████████████                          | 672/1000 [03:36<01:48,  3.01it/s]"
     ]
    },
    {
     "name": "stdout",
     "output_type": "stream",
     "text": [
      "--- Iteration 672: training loss = 0.0033 ---\n"
     ]
    },
    {
     "name": "stderr",
     "output_type": "stream",
     "text": [
      "\r",
      " 67%|█████████████████████████████████████████████████████▏                         | 673/1000 [03:36<01:50,  2.96it/s]"
     ]
    },
    {
     "name": "stdout",
     "output_type": "stream",
     "text": [
      "--- Iteration 673: training loss = 0.0033 ---\n"
     ]
    },
    {
     "name": "stderr",
     "output_type": "stream",
     "text": [
      "\r",
      " 67%|█████████████████████████████████████████████████████▏                         | 674/1000 [03:36<01:47,  3.03it/s]"
     ]
    },
    {
     "name": "stdout",
     "output_type": "stream",
     "text": [
      "--- Iteration 674: training loss = 0.0033 ---\n"
     ]
    },
    {
     "name": "stderr",
     "output_type": "stream",
     "text": [
      "\r",
      " 68%|█████████████████████████████████████████████████████▎                         | 675/1000 [03:37<01:46,  3.06it/s]"
     ]
    },
    {
     "name": "stdout",
     "output_type": "stream",
     "text": [
      "--- Iteration 675: training loss = 0.0033 ---\n"
     ]
    },
    {
     "name": "stderr",
     "output_type": "stream",
     "text": [
      "\r",
      " 68%|█████████████████████████████████████████████████████▍                         | 676/1000 [03:37<01:44,  3.11it/s]"
     ]
    },
    {
     "name": "stdout",
     "output_type": "stream",
     "text": [
      "--- Iteration 676: training loss = 0.0033 ---\n"
     ]
    },
    {
     "name": "stderr",
     "output_type": "stream",
     "text": [
      "\r",
      " 68%|█████████████████████████████████████████████████████▍                         | 677/1000 [03:37<01:44,  3.10it/s]"
     ]
    },
    {
     "name": "stdout",
     "output_type": "stream",
     "text": [
      "--- Iteration 677: training loss = 0.0033 ---\n"
     ]
    },
    {
     "name": "stderr",
     "output_type": "stream",
     "text": [
      "\r",
      " 68%|█████████████████████████████████████████████████████▌                         | 678/1000 [03:38<01:42,  3.15it/s]"
     ]
    },
    {
     "name": "stdout",
     "output_type": "stream",
     "text": [
      "--- Iteration 678: training loss = 0.0033 ---\n"
     ]
    },
    {
     "name": "stderr",
     "output_type": "stream",
     "text": [
      "\r",
      " 68%|█████████████████████████████████████████████████████▋                         | 679/1000 [03:38<01:40,  3.19it/s]"
     ]
    },
    {
     "name": "stdout",
     "output_type": "stream",
     "text": [
      "--- Iteration 679: training loss = 0.0033 ---\n"
     ]
    },
    {
     "name": "stderr",
     "output_type": "stream",
     "text": [
      "\r",
      " 68%|█████████████████████████████████████████████████████▋                         | 680/1000 [03:38<01:40,  3.19it/s]"
     ]
    },
    {
     "name": "stdout",
     "output_type": "stream",
     "text": [
      "--- Iteration 680: training loss = 0.0033 ---\n"
     ]
    },
    {
     "name": "stderr",
     "output_type": "stream",
     "text": [
      "\r",
      " 68%|█████████████████████████████████████████████████████▊                         | 681/1000 [03:38<01:42,  3.13it/s]"
     ]
    },
    {
     "name": "stdout",
     "output_type": "stream",
     "text": [
      "--- Iteration 681: training loss = 0.0033 ---\n"
     ]
    },
    {
     "name": "stderr",
     "output_type": "stream",
     "text": [
      "\r",
      " 68%|█████████████████████████████████████████████████████▉                         | 682/1000 [03:39<01:39,  3.18it/s]"
     ]
    },
    {
     "name": "stdout",
     "output_type": "stream",
     "text": [
      "--- Iteration 682: training loss = 0.0033 ---\n"
     ]
    },
    {
     "name": "stderr",
     "output_type": "stream",
     "text": [
      "\r",
      " 68%|█████████████████████████████████████████████████████▉                         | 683/1000 [03:39<01:42,  3.09it/s]"
     ]
    },
    {
     "name": "stdout",
     "output_type": "stream",
     "text": [
      "--- Iteration 683: training loss = 0.0033 ---\n"
     ]
    },
    {
     "name": "stderr",
     "output_type": "stream",
     "text": [
      "\r",
      " 68%|██████████████████████████████████████████████████████                         | 684/1000 [03:39<01:40,  3.15it/s]"
     ]
    },
    {
     "name": "stdout",
     "output_type": "stream",
     "text": [
      "--- Iteration 684: training loss = 0.0033 ---\n"
     ]
    },
    {
     "name": "stderr",
     "output_type": "stream",
     "text": [
      "\r",
      " 68%|██████████████████████████████████████████████████████                         | 685/1000 [03:40<01:39,  3.16it/s]"
     ]
    },
    {
     "name": "stdout",
     "output_type": "stream",
     "text": [
      "--- Iteration 685: training loss = 0.0033 ---\n"
     ]
    },
    {
     "name": "stderr",
     "output_type": "stream",
     "text": [
      "\r",
      " 69%|██████████████████████████████████████████████████████▏                        | 686/1000 [03:40<01:42,  3.05it/s]"
     ]
    },
    {
     "name": "stdout",
     "output_type": "stream",
     "text": [
      "--- Iteration 686: training loss = 0.0033 ---\n"
     ]
    },
    {
     "name": "stderr",
     "output_type": "stream",
     "text": [
      "\r",
      " 69%|██████████████████████████████████████████████████████▎                        | 687/1000 [03:40<01:40,  3.12it/s]"
     ]
    },
    {
     "name": "stdout",
     "output_type": "stream",
     "text": [
      "--- Iteration 687: training loss = 0.0033 ---\n"
     ]
    },
    {
     "name": "stderr",
     "output_type": "stream",
     "text": [
      "\r",
      " 69%|██████████████████████████████████████████████████████▎                        | 688/1000 [03:41<01:38,  3.18it/s]"
     ]
    },
    {
     "name": "stdout",
     "output_type": "stream",
     "text": [
      "--- Iteration 688: training loss = 0.0033 ---\n"
     ]
    },
    {
     "name": "stderr",
     "output_type": "stream",
     "text": [
      "\r",
      " 69%|██████████████████████████████████████████████████████▍                        | 689/1000 [03:41<01:41,  3.05it/s]"
     ]
    },
    {
     "name": "stdout",
     "output_type": "stream",
     "text": [
      "--- Iteration 689: training loss = 0.0033 ---\n"
     ]
    },
    {
     "name": "stderr",
     "output_type": "stream",
     "text": [
      "\r",
      " 69%|██████████████████████████████████████████████████████▌                        | 690/1000 [03:41<01:42,  3.01it/s]"
     ]
    },
    {
     "name": "stdout",
     "output_type": "stream",
     "text": [
      "--- Iteration 690: training loss = 0.0033 ---\n"
     ]
    },
    {
     "name": "stderr",
     "output_type": "stream",
     "text": [
      "\r",
      " 69%|██████████████████████████████████████████████████████▌                        | 691/1000 [03:42<01:39,  3.12it/s]"
     ]
    },
    {
     "name": "stdout",
     "output_type": "stream",
     "text": [
      "--- Iteration 691: training loss = 0.0033 ---\n"
     ]
    },
    {
     "name": "stderr",
     "output_type": "stream",
     "text": [
      "\r",
      " 69%|██████████████████████████████████████████████████████▋                        | 692/1000 [03:42<01:40,  3.06it/s]"
     ]
    },
    {
     "name": "stdout",
     "output_type": "stream",
     "text": [
      "--- Iteration 692: training loss = 0.0033 ---\n"
     ]
    },
    {
     "name": "stderr",
     "output_type": "stream",
     "text": [
      "\r",
      " 69%|██████████████████████████████████████████████████████▋                        | 693/1000 [03:42<01:36,  3.18it/s]"
     ]
    },
    {
     "name": "stdout",
     "output_type": "stream",
     "text": [
      "--- Iteration 693: training loss = 0.0033 ---\n"
     ]
    },
    {
     "name": "stderr",
     "output_type": "stream",
     "text": [
      "\r",
      " 69%|██████████████████████████████████████████████████████▊                        | 694/1000 [03:43<01:39,  3.06it/s]"
     ]
    },
    {
     "name": "stdout",
     "output_type": "stream",
     "text": [
      "--- Iteration 694: training loss = 0.0033 ---\n"
     ]
    },
    {
     "name": "stderr",
     "output_type": "stream",
     "text": [
      "\r",
      " 70%|██████████████████████████████████████████████████████▉                        | 695/1000 [03:43<01:37,  3.13it/s]"
     ]
    },
    {
     "name": "stdout",
     "output_type": "stream",
     "text": [
      "--- Iteration 695: training loss = 0.0032 ---\n"
     ]
    },
    {
     "name": "stderr",
     "output_type": "stream",
     "text": [
      "\r",
      " 70%|██████████████████████████████████████████████████████▉                        | 696/1000 [03:43<01:41,  3.00it/s]"
     ]
    },
    {
     "name": "stdout",
     "output_type": "stream",
     "text": [
      "--- Iteration 696: training loss = 0.0032 ---\n"
     ]
    },
    {
     "name": "stderr",
     "output_type": "stream",
     "text": [
      "\r",
      " 70%|███████████████████████████████████████████████████████                        | 697/1000 [03:44<01:38,  3.08it/s]"
     ]
    },
    {
     "name": "stdout",
     "output_type": "stream",
     "text": [
      "--- Iteration 697: training loss = 0.0032 ---\n"
     ]
    },
    {
     "name": "stderr",
     "output_type": "stream",
     "text": [
      "\r",
      " 70%|███████████████████████████████████████████████████████▏                       | 698/1000 [03:44<01:37,  3.11it/s]"
     ]
    },
    {
     "name": "stdout",
     "output_type": "stream",
     "text": [
      "--- Iteration 698: training loss = 0.0032 ---\n"
     ]
    },
    {
     "name": "stderr",
     "output_type": "stream",
     "text": [
      "\r",
      " 70%|███████████████████████████████████████████████████████▏                       | 699/1000 [03:44<01:36,  3.14it/s]"
     ]
    },
    {
     "name": "stdout",
     "output_type": "stream",
     "text": [
      "--- Iteration 699: training loss = 0.0032 ---\n"
     ]
    },
    {
     "name": "stderr",
     "output_type": "stream",
     "text": [
      "\r",
      " 70%|███████████████████████████████████████████████████████▎                       | 700/1000 [03:45<01:36,  3.12it/s]"
     ]
    },
    {
     "name": "stdout",
     "output_type": "stream",
     "text": [
      "--- Iteration 700: training loss = 0.0032 ---\n"
     ]
    },
    {
     "name": "stderr",
     "output_type": "stream",
     "text": [
      "\r",
      " 70%|███████████████████████████████████████████████████████▍                       | 701/1000 [03:45<01:38,  3.02it/s]"
     ]
    },
    {
     "name": "stdout",
     "output_type": "stream",
     "text": [
      "--- Iteration 701: training loss = 0.0032 ---\n"
     ]
    },
    {
     "name": "stderr",
     "output_type": "stream",
     "text": [
      "\r",
      " 70%|███████████████████████████████████████████████████████▍                       | 702/1000 [03:45<01:38,  3.02it/s]"
     ]
    },
    {
     "name": "stdout",
     "output_type": "stream",
     "text": [
      "--- Iteration 702: training loss = 0.0032 ---\n"
     ]
    },
    {
     "name": "stderr",
     "output_type": "stream",
     "text": [
      "\r",
      " 70%|███████████████████████████████████████████████████████▌                       | 703/1000 [03:46<01:39,  2.99it/s]"
     ]
    },
    {
     "name": "stdout",
     "output_type": "stream",
     "text": [
      "--- Iteration 703: training loss = 0.0032 ---\n"
     ]
    },
    {
     "name": "stderr",
     "output_type": "stream",
     "text": [
      "\r",
      " 70%|███████████████████████████████████████████████████████▌                       | 704/1000 [03:46<01:35,  3.10it/s]"
     ]
    },
    {
     "name": "stdout",
     "output_type": "stream",
     "text": [
      "--- Iteration 704: training loss = 0.0032 ---\n"
     ]
    },
    {
     "name": "stderr",
     "output_type": "stream",
     "text": [
      "\r",
      " 70%|███████████████████████████████████████████████████████▋                       | 705/1000 [03:46<01:33,  3.16it/s]"
     ]
    },
    {
     "name": "stdout",
     "output_type": "stream",
     "text": [
      "--- Iteration 705: training loss = 0.0032 ---\n"
     ]
    },
    {
     "name": "stderr",
     "output_type": "stream",
     "text": [
      "\r",
      " 71%|███████████████████████████████████████████████████████▊                       | 706/1000 [03:47<01:31,  3.22it/s]"
     ]
    },
    {
     "name": "stdout",
     "output_type": "stream",
     "text": [
      "--- Iteration 706: training loss = 0.0032 ---\n"
     ]
    },
    {
     "name": "stderr",
     "output_type": "stream",
     "text": [
      "\r",
      " 71%|███████████████████████████████████████████████████████▊                       | 707/1000 [03:47<01:35,  3.06it/s]"
     ]
    },
    {
     "name": "stdout",
     "output_type": "stream",
     "text": [
      "--- Iteration 707: training loss = 0.0032 ---\n"
     ]
    },
    {
     "name": "stderr",
     "output_type": "stream",
     "text": [
      "\r",
      " 71%|███████████████████████████████████████████████████████▉                       | 708/1000 [03:47<01:35,  3.04it/s]"
     ]
    },
    {
     "name": "stdout",
     "output_type": "stream",
     "text": [
      "--- Iteration 708: training loss = 0.0032 ---\n"
     ]
    },
    {
     "name": "stderr",
     "output_type": "stream",
     "text": [
      "\r",
      " 71%|████████████████████████████████████████████████████████                       | 709/1000 [03:48<01:32,  3.14it/s]"
     ]
    },
    {
     "name": "stdout",
     "output_type": "stream",
     "text": [
      "--- Iteration 709: training loss = 0.0032 ---\n"
     ]
    },
    {
     "name": "stderr",
     "output_type": "stream",
     "text": [
      "\r",
      " 71%|████████████████████████████████████████████████████████                       | 710/1000 [03:48<01:31,  3.15it/s]"
     ]
    },
    {
     "name": "stdout",
     "output_type": "stream",
     "text": [
      "--- Iteration 710: training loss = 0.0032 ---\n"
     ]
    },
    {
     "name": "stderr",
     "output_type": "stream",
     "text": [
      "\r",
      " 71%|████████████████████████████████████████████████████████▏                      | 711/1000 [03:48<01:31,  3.17it/s]"
     ]
    },
    {
     "name": "stdout",
     "output_type": "stream",
     "text": [
      "--- Iteration 711: training loss = 0.0032 ---\n"
     ]
    },
    {
     "name": "stderr",
     "output_type": "stream",
     "text": [
      "\r",
      " 71%|████████████████████████████████████████████████████████▏                      | 712/1000 [03:48<01:31,  3.14it/s]"
     ]
    },
    {
     "name": "stdout",
     "output_type": "stream",
     "text": [
      "--- Iteration 712: training loss = 0.0032 ---\n"
     ]
    },
    {
     "name": "stderr",
     "output_type": "stream",
     "text": [
      "\r",
      " 71%|████████████████████████████████████████████████████████▎                      | 713/1000 [03:49<01:30,  3.19it/s]"
     ]
    },
    {
     "name": "stdout",
     "output_type": "stream",
     "text": [
      "--- Iteration 713: training loss = 0.0032 ---\n"
     ]
    },
    {
     "name": "stderr",
     "output_type": "stream",
     "text": [
      "\r",
      " 71%|████████████████████████████████████████████████████████▍                      | 714/1000 [03:49<01:31,  3.12it/s]"
     ]
    },
    {
     "name": "stdout",
     "output_type": "stream",
     "text": [
      "--- Iteration 714: training loss = 0.0032 ---\n"
     ]
    },
    {
     "name": "stderr",
     "output_type": "stream",
     "text": [
      "\r",
      " 72%|████████████████████████████████████████████████████████▍                      | 715/1000 [03:49<01:29,  3.17it/s]"
     ]
    },
    {
     "name": "stdout",
     "output_type": "stream",
     "text": [
      "--- Iteration 715: training loss = 0.0032 ---\n"
     ]
    },
    {
     "name": "stderr",
     "output_type": "stream",
     "text": [
      "\r",
      " 72%|████████████████████████████████████████████████████████▌                      | 716/1000 [03:50<01:27,  3.24it/s]"
     ]
    },
    {
     "name": "stdout",
     "output_type": "stream",
     "text": [
      "--- Iteration 716: training loss = 0.0032 ---\n"
     ]
    },
    {
     "name": "stderr",
     "output_type": "stream",
     "text": [
      "\r",
      " 72%|████████████████████████████████████████████████████████▋                      | 717/1000 [03:50<01:26,  3.26it/s]"
     ]
    },
    {
     "name": "stdout",
     "output_type": "stream",
     "text": [
      "--- Iteration 717: training loss = 0.0032 ---\n"
     ]
    },
    {
     "name": "stderr",
     "output_type": "stream",
     "text": [
      "\r",
      " 72%|████████████████████████████████████████████████████████▋                      | 718/1000 [03:50<01:31,  3.09it/s]"
     ]
    },
    {
     "name": "stdout",
     "output_type": "stream",
     "text": [
      "--- Iteration 718: training loss = 0.0032 ---\n"
     ]
    },
    {
     "name": "stderr",
     "output_type": "stream",
     "text": [
      "\r",
      " 72%|████████████████████████████████████████████████████████▊                      | 719/1000 [03:51<01:30,  3.11it/s]"
     ]
    },
    {
     "name": "stdout",
     "output_type": "stream",
     "text": [
      "--- Iteration 719: training loss = 0.0032 ---\n"
     ]
    },
    {
     "name": "stderr",
     "output_type": "stream",
     "text": [
      "\r",
      " 72%|████████████████████████████████████████████████████████▉                      | 720/1000 [03:51<01:30,  3.11it/s]"
     ]
    },
    {
     "name": "stdout",
     "output_type": "stream",
     "text": [
      "--- Iteration 720: training loss = 0.0031 ---\n"
     ]
    },
    {
     "name": "stderr",
     "output_type": "stream",
     "text": [
      "\r",
      " 72%|████████████████████████████████████████████████████████▉                      | 721/1000 [03:51<01:29,  3.13it/s]"
     ]
    },
    {
     "name": "stdout",
     "output_type": "stream",
     "text": [
      "--- Iteration 721: training loss = 0.0031 ---\n"
     ]
    },
    {
     "name": "stderr",
     "output_type": "stream",
     "text": [
      "\r",
      " 72%|█████████████████████████████████████████████████████████                      | 722/1000 [03:52<01:26,  3.21it/s]"
     ]
    },
    {
     "name": "stdout",
     "output_type": "stream",
     "text": [
      "--- Iteration 722: training loss = 0.0031 ---\n"
     ]
    },
    {
     "name": "stderr",
     "output_type": "stream",
     "text": [
      "\r",
      " 72%|█████████████████████████████████████████████████████████                      | 723/1000 [03:52<01:28,  3.14it/s]"
     ]
    },
    {
     "name": "stdout",
     "output_type": "stream",
     "text": [
      "--- Iteration 723: training loss = 0.0031 ---\n"
     ]
    },
    {
     "name": "stderr",
     "output_type": "stream",
     "text": [
      "\r",
      " 72%|█████████████████████████████████████████████████████████▏                     | 724/1000 [03:52<01:25,  3.22it/s]"
     ]
    },
    {
     "name": "stdout",
     "output_type": "stream",
     "text": [
      "--- Iteration 724: training loss = 0.0031 ---\n"
     ]
    },
    {
     "name": "stderr",
     "output_type": "stream",
     "text": [
      "\r",
      " 72%|█████████████████████████████████████████████████████████▎                     | 725/1000 [03:53<01:29,  3.06it/s]"
     ]
    },
    {
     "name": "stdout",
     "output_type": "stream",
     "text": [
      "--- Iteration 725: training loss = 0.0031 ---\n"
     ]
    },
    {
     "name": "stderr",
     "output_type": "stream",
     "text": [
      "\r",
      " 73%|█████████████████████████████████████████████████████████▎                     | 726/1000 [03:53<01:31,  2.98it/s]"
     ]
    },
    {
     "name": "stdout",
     "output_type": "stream",
     "text": [
      "--- Iteration 726: training loss = 0.0031 ---\n"
     ]
    },
    {
     "name": "stderr",
     "output_type": "stream",
     "text": [
      "\r",
      " 73%|█████████████████████████████████████████████████████████▍                     | 727/1000 [03:53<01:30,  3.01it/s]"
     ]
    },
    {
     "name": "stdout",
     "output_type": "stream",
     "text": [
      "--- Iteration 727: training loss = 0.0031 ---\n"
     ]
    },
    {
     "name": "stderr",
     "output_type": "stream",
     "text": [
      "\r",
      " 73%|█████████████████████████████████████████████████████████▌                     | 728/1000 [03:54<01:31,  2.98it/s]"
     ]
    },
    {
     "name": "stdout",
     "output_type": "stream",
     "text": [
      "--- Iteration 728: training loss = 0.0031 ---\n"
     ]
    },
    {
     "name": "stderr",
     "output_type": "stream",
     "text": [
      "\r",
      " 73%|█████████████████████████████████████████████████████████▌                     | 729/1000 [03:54<01:34,  2.86it/s]"
     ]
    },
    {
     "name": "stdout",
     "output_type": "stream",
     "text": [
      "--- Iteration 729: training loss = 0.0031 ---\n"
     ]
    },
    {
     "name": "stderr",
     "output_type": "stream",
     "text": [
      "\r",
      " 73%|█████████████████████████████████████████████████████████▋                     | 730/1000 [03:54<01:30,  2.98it/s]"
     ]
    },
    {
     "name": "stdout",
     "output_type": "stream",
     "text": [
      "--- Iteration 730: training loss = 0.0031 ---\n"
     ]
    },
    {
     "name": "stderr",
     "output_type": "stream",
     "text": [
      "\r",
      " 73%|█████████████████████████████████████████████████████████▋                     | 731/1000 [03:55<01:27,  3.06it/s]"
     ]
    },
    {
     "name": "stdout",
     "output_type": "stream",
     "text": [
      "--- Iteration 731: training loss = 0.0031 ---\n"
     ]
    },
    {
     "name": "stderr",
     "output_type": "stream",
     "text": [
      "\r",
      " 73%|█████████████████████████████████████████████████████████▊                     | 732/1000 [03:55<01:28,  3.04it/s]"
     ]
    },
    {
     "name": "stdout",
     "output_type": "stream",
     "text": [
      "--- Iteration 732: training loss = 0.0031 ---\n"
     ]
    },
    {
     "name": "stderr",
     "output_type": "stream",
     "text": [
      "\r",
      " 73%|█████████████████████████████████████████████████████████▉                     | 733/1000 [03:55<01:29,  2.98it/s]"
     ]
    },
    {
     "name": "stdout",
     "output_type": "stream",
     "text": [
      "--- Iteration 733: training loss = 0.0031 ---\n"
     ]
    },
    {
     "name": "stderr",
     "output_type": "stream",
     "text": [
      "\r",
      " 73%|█████████████████████████████████████████████████████████▉                     | 734/1000 [03:56<01:28,  3.01it/s]"
     ]
    },
    {
     "name": "stdout",
     "output_type": "stream",
     "text": [
      "--- Iteration 734: training loss = 0.0031 ---\n"
     ]
    },
    {
     "name": "stderr",
     "output_type": "stream",
     "text": [
      "\r",
      " 74%|██████████████████████████████████████████████████████████                     | 735/1000 [03:56<01:27,  3.03it/s]"
     ]
    },
    {
     "name": "stdout",
     "output_type": "stream",
     "text": [
      "--- Iteration 735: training loss = 0.0031 ---\n"
     ]
    },
    {
     "name": "stderr",
     "output_type": "stream",
     "text": [
      "\r",
      " 74%|██████████████████████████████████████████████████████████▏                    | 736/1000 [03:56<01:29,  2.97it/s]"
     ]
    },
    {
     "name": "stdout",
     "output_type": "stream",
     "text": [
      "--- Iteration 736: training loss = 0.0031 ---\n"
     ]
    },
    {
     "name": "stderr",
     "output_type": "stream",
     "text": [
      "\r",
      " 74%|██████████████████████████████████████████████████████████▏                    | 737/1000 [03:57<01:28,  2.97it/s]"
     ]
    },
    {
     "name": "stdout",
     "output_type": "stream",
     "text": [
      "--- Iteration 737: training loss = 0.0031 ---\n"
     ]
    },
    {
     "name": "stderr",
     "output_type": "stream",
     "text": [
      "\r",
      " 74%|██████████████████████████████████████████████████████████▎                    | 738/1000 [03:57<01:25,  3.07it/s]"
     ]
    },
    {
     "name": "stdout",
     "output_type": "stream",
     "text": [
      "--- Iteration 738: training loss = 0.0031 ---\n"
     ]
    },
    {
     "name": "stderr",
     "output_type": "stream",
     "text": [
      "\r",
      " 74%|██████████████████████████████████████████████████████████▍                    | 739/1000 [03:57<01:24,  3.10it/s]"
     ]
    },
    {
     "name": "stdout",
     "output_type": "stream",
     "text": [
      "--- Iteration 739: training loss = 0.0031 ---\n"
     ]
    },
    {
     "name": "stderr",
     "output_type": "stream",
     "text": [
      "\r",
      " 74%|██████████████████████████████████████████████████████████▍                    | 740/1000 [03:58<01:23,  3.13it/s]"
     ]
    },
    {
     "name": "stdout",
     "output_type": "stream",
     "text": [
      "--- Iteration 740: training loss = 0.0031 ---\n"
     ]
    },
    {
     "name": "stderr",
     "output_type": "stream",
     "text": [
      "\r",
      " 74%|██████████████████████████████████████████████████████████▌                    | 741/1000 [03:58<01:21,  3.17it/s]"
     ]
    },
    {
     "name": "stdout",
     "output_type": "stream",
     "text": [
      "--- Iteration 741: training loss = 0.0031 ---\n"
     ]
    },
    {
     "name": "stderr",
     "output_type": "stream",
     "text": [
      "\r",
      " 74%|██████████████████████████████████████████████████████████▌                    | 742/1000 [03:58<01:21,  3.18it/s]"
     ]
    },
    {
     "name": "stdout",
     "output_type": "stream",
     "text": [
      "--- Iteration 742: training loss = 0.0031 ---\n"
     ]
    },
    {
     "name": "stderr",
     "output_type": "stream",
     "text": [
      "\r",
      " 74%|██████████████████████████████████████████████████████████▋                    | 743/1000 [03:58<01:21,  3.15it/s]"
     ]
    },
    {
     "name": "stdout",
     "output_type": "stream",
     "text": [
      "--- Iteration 743: training loss = 0.0031 ---\n"
     ]
    },
    {
     "name": "stderr",
     "output_type": "stream",
     "text": [
      "\r",
      " 74%|██████████████████████████████████████████████████████████▊                    | 744/1000 [03:59<01:21,  3.16it/s]"
     ]
    },
    {
     "name": "stdout",
     "output_type": "stream",
     "text": [
      "--- Iteration 744: training loss = 0.0031 ---\n"
     ]
    },
    {
     "name": "stderr",
     "output_type": "stream",
     "text": [
      "\r",
      " 74%|██████████████████████████████████████████████████████████▊                    | 745/1000 [03:59<01:20,  3.17it/s]"
     ]
    },
    {
     "name": "stdout",
     "output_type": "stream",
     "text": [
      "--- Iteration 745: training loss = 0.0031 ---\n"
     ]
    },
    {
     "name": "stderr",
     "output_type": "stream",
     "text": [
      "\r",
      " 75%|██████████████████████████████████████████████████████████▉                    | 746/1000 [03:59<01:22,  3.08it/s]"
     ]
    },
    {
     "name": "stdout",
     "output_type": "stream",
     "text": [
      "--- Iteration 746: training loss = 0.0030 ---\n"
     ]
    },
    {
     "name": "stderr",
     "output_type": "stream",
     "text": [
      "\r",
      " 75%|███████████████████████████████████████████████████████████                    | 747/1000 [04:00<01:22,  3.08it/s]"
     ]
    },
    {
     "name": "stdout",
     "output_type": "stream",
     "text": [
      "--- Iteration 747: training loss = 0.0030 ---\n"
     ]
    },
    {
     "name": "stderr",
     "output_type": "stream",
     "text": [
      "\r",
      " 75%|███████████████████████████████████████████████████████████                    | 748/1000 [04:00<01:21,  3.08it/s]"
     ]
    },
    {
     "name": "stdout",
     "output_type": "stream",
     "text": [
      "--- Iteration 748: training loss = 0.0030 ---\n"
     ]
    },
    {
     "name": "stderr",
     "output_type": "stream",
     "text": [
      "\r",
      " 75%|███████████████████████████████████████████████████████████▏                   | 749/1000 [04:00<01:21,  3.09it/s]"
     ]
    },
    {
     "name": "stdout",
     "output_type": "stream",
     "text": [
      "--- Iteration 749: training loss = 0.0030 ---\n"
     ]
    },
    {
     "name": "stderr",
     "output_type": "stream",
     "text": [
      "\r",
      " 75%|███████████████████████████████████████████████████████████▎                   | 750/1000 [04:01<01:20,  3.09it/s]"
     ]
    },
    {
     "name": "stdout",
     "output_type": "stream",
     "text": [
      "--- Iteration 750: training loss = 0.0030 ---\n"
     ]
    },
    {
     "name": "stderr",
     "output_type": "stream",
     "text": [
      "\r",
      " 75%|███████████████████████████████████████████████████████████▎                   | 751/1000 [04:01<01:21,  3.06it/s]"
     ]
    },
    {
     "name": "stdout",
     "output_type": "stream",
     "text": [
      "--- Iteration 751: training loss = 0.0030 ---\n"
     ]
    },
    {
     "name": "stderr",
     "output_type": "stream",
     "text": [
      "\r",
      " 75%|███████████████████████████████████████████████████████████▍                   | 752/1000 [04:01<01:20,  3.09it/s]"
     ]
    },
    {
     "name": "stdout",
     "output_type": "stream",
     "text": [
      "--- Iteration 752: training loss = 0.0030 ---\n"
     ]
    },
    {
     "name": "stderr",
     "output_type": "stream",
     "text": [
      "\r",
      " 75%|███████████████████████████████████████████████████████████▍                   | 753/1000 [04:02<01:17,  3.19it/s]"
     ]
    },
    {
     "name": "stdout",
     "output_type": "stream",
     "text": [
      "--- Iteration 753: training loss = 0.0030 ---\n"
     ]
    },
    {
     "name": "stderr",
     "output_type": "stream",
     "text": [
      "\r",
      " 75%|███████████████████████████████████████████████████████████▌                   | 754/1000 [04:02<01:15,  3.24it/s]"
     ]
    },
    {
     "name": "stdout",
     "output_type": "stream",
     "text": [
      "--- Iteration 754: training loss = 0.0030 ---\n"
     ]
    },
    {
     "name": "stderr",
     "output_type": "stream",
     "text": [
      "\r",
      " 76%|███████████████████████████████████████████████████████████▋                   | 755/1000 [04:02<01:18,  3.11it/s]"
     ]
    },
    {
     "name": "stdout",
     "output_type": "stream",
     "text": [
      "--- Iteration 755: training loss = 0.0030 ---\n"
     ]
    },
    {
     "name": "stderr",
     "output_type": "stream",
     "text": [
      "\r",
      " 76%|███████████████████████████████████████████████████████████▋                   | 756/1000 [04:03<01:16,  3.19it/s]"
     ]
    },
    {
     "name": "stdout",
     "output_type": "stream",
     "text": [
      "--- Iteration 756: training loss = 0.0030 ---\n"
     ]
    },
    {
     "name": "stderr",
     "output_type": "stream",
     "text": [
      "\r",
      " 76%|███████████████████████████████████████████████████████████▊                   | 757/1000 [04:03<01:16,  3.16it/s]"
     ]
    },
    {
     "name": "stdout",
     "output_type": "stream",
     "text": [
      "--- Iteration 757: training loss = 0.0030 ---\n"
     ]
    },
    {
     "name": "stderr",
     "output_type": "stream",
     "text": [
      "\r",
      " 76%|███████████████████████████████████████████████████████████▉                   | 758/1000 [04:03<01:16,  3.17it/s]"
     ]
    },
    {
     "name": "stdout",
     "output_type": "stream",
     "text": [
      "--- Iteration 758: training loss = 0.0030 ---\n"
     ]
    },
    {
     "name": "stderr",
     "output_type": "stream",
     "text": [
      "\r",
      " 76%|███████████████████████████████████████████████████████████▉                   | 759/1000 [04:04<01:16,  3.14it/s]"
     ]
    },
    {
     "name": "stdout",
     "output_type": "stream",
     "text": [
      "--- Iteration 759: training loss = 0.0030 ---\n"
     ]
    },
    {
     "name": "stderr",
     "output_type": "stream",
     "text": [
      "\r",
      " 76%|████████████████████████████████████████████████████████████                   | 760/1000 [04:04<01:19,  3.02it/s]"
     ]
    },
    {
     "name": "stdout",
     "output_type": "stream",
     "text": [
      "--- Iteration 760: training loss = 0.0030 ---\n"
     ]
    },
    {
     "name": "stderr",
     "output_type": "stream",
     "text": [
      "\r",
      " 76%|████████████████████████████████████████████████████████████                   | 761/1000 [04:04<01:17,  3.09it/s]"
     ]
    },
    {
     "name": "stdout",
     "output_type": "stream",
     "text": [
      "--- Iteration 761: training loss = 0.0030 ---\n"
     ]
    },
    {
     "name": "stderr",
     "output_type": "stream",
     "text": [
      "\r",
      " 76%|████████████████████████████████████████████████████████████▏                  | 762/1000 [04:05<01:16,  3.12it/s]"
     ]
    },
    {
     "name": "stdout",
     "output_type": "stream",
     "text": [
      "--- Iteration 762: training loss = 0.0030 ---\n"
     ]
    },
    {
     "name": "stderr",
     "output_type": "stream",
     "text": [
      "\r",
      " 76%|████████████████████████████████████████████████████████████▎                  | 763/1000 [04:05<01:16,  3.11it/s]"
     ]
    },
    {
     "name": "stdout",
     "output_type": "stream",
     "text": [
      "--- Iteration 763: training loss = 0.0030 ---\n"
     ]
    },
    {
     "name": "stderr",
     "output_type": "stream",
     "text": [
      "\r",
      " 76%|████████████████████████████████████████████████████████████▎                  | 764/1000 [04:05<01:18,  3.02it/s]"
     ]
    },
    {
     "name": "stdout",
     "output_type": "stream",
     "text": [
      "--- Iteration 764: training loss = 0.0030 ---\n"
     ]
    },
    {
     "name": "stderr",
     "output_type": "stream",
     "text": [
      "\r",
      " 76%|████████████████████████████████████████████████████████████▍                  | 765/1000 [04:06<01:17,  3.03it/s]"
     ]
    },
    {
     "name": "stdout",
     "output_type": "stream",
     "text": [
      "--- Iteration 765: training loss = 0.0030 ---\n"
     ]
    },
    {
     "name": "stderr",
     "output_type": "stream",
     "text": [
      "\r",
      " 77%|████████████████████████████████████████████████████████████▌                  | 766/1000 [04:06<01:16,  3.08it/s]"
     ]
    },
    {
     "name": "stdout",
     "output_type": "stream",
     "text": [
      "--- Iteration 766: training loss = 0.0030 ---\n"
     ]
    },
    {
     "name": "stderr",
     "output_type": "stream",
     "text": [
      "\r",
      " 77%|████████████████████████████████████████████████████████████▌                  | 767/1000 [04:06<01:16,  3.03it/s]"
     ]
    },
    {
     "name": "stdout",
     "output_type": "stream",
     "text": [
      "--- Iteration 767: training loss = 0.0030 ---\n"
     ]
    },
    {
     "name": "stderr",
     "output_type": "stream",
     "text": [
      "\r",
      " 77%|████████████████████████████████████████████████████████████▋                  | 768/1000 [04:07<01:16,  3.05it/s]"
     ]
    },
    {
     "name": "stdout",
     "output_type": "stream",
     "text": [
      "--- Iteration 768: training loss = 0.0030 ---\n"
     ]
    },
    {
     "name": "stderr",
     "output_type": "stream",
     "text": [
      "\r",
      " 77%|████████████████████████████████████████████████████████████▊                  | 769/1000 [04:07<01:13,  3.12it/s]"
     ]
    },
    {
     "name": "stdout",
     "output_type": "stream",
     "text": [
      "--- Iteration 769: training loss = 0.0030 ---\n"
     ]
    },
    {
     "name": "stderr",
     "output_type": "stream",
     "text": [
      "\r",
      " 77%|████████████████████████████████████████████████████████████▊                  | 770/1000 [04:07<01:13,  3.11it/s]"
     ]
    },
    {
     "name": "stdout",
     "output_type": "stream",
     "text": [
      "--- Iteration 770: training loss = 0.0030 ---\n"
     ]
    },
    {
     "name": "stderr",
     "output_type": "stream",
     "text": [
      "\r",
      " 77%|████████████████████████████████████████████████████████████▉                  | 771/1000 [04:07<01:11,  3.19it/s]"
     ]
    },
    {
     "name": "stdout",
     "output_type": "stream",
     "text": [
      "--- Iteration 771: training loss = 0.0030 ---\n"
     ]
    },
    {
     "name": "stderr",
     "output_type": "stream",
     "text": [
      "\r",
      " 77%|████████████████████████████████████████████████████████████▉                  | 772/1000 [04:08<01:12,  3.16it/s]"
     ]
    },
    {
     "name": "stdout",
     "output_type": "stream",
     "text": [
      "--- Iteration 772: training loss = 0.0030 ---\n"
     ]
    },
    {
     "name": "stderr",
     "output_type": "stream",
     "text": [
      "\r",
      " 77%|█████████████████████████████████████████████████████████████                  | 773/1000 [04:08<01:11,  3.19it/s]"
     ]
    },
    {
     "name": "stdout",
     "output_type": "stream",
     "text": [
      "--- Iteration 773: training loss = 0.0030 ---\n"
     ]
    },
    {
     "name": "stderr",
     "output_type": "stream",
     "text": [
      "\r",
      " 77%|█████████████████████████████████████████████████████████████▏                 | 774/1000 [04:08<01:12,  3.10it/s]"
     ]
    },
    {
     "name": "stdout",
     "output_type": "stream",
     "text": [
      "--- Iteration 774: training loss = 0.0029 ---\n"
     ]
    },
    {
     "name": "stderr",
     "output_type": "stream",
     "text": [
      "\r",
      " 78%|█████████████████████████████████████████████████████████████▏                 | 775/1000 [04:09<01:14,  3.04it/s]"
     ]
    },
    {
     "name": "stdout",
     "output_type": "stream",
     "text": [
      "--- Iteration 775: training loss = 0.0029 ---\n"
     ]
    },
    {
     "name": "stderr",
     "output_type": "stream",
     "text": [
      "\r",
      " 78%|█████████████████████████████████████████████████████████████▎                 | 776/1000 [04:09<01:15,  2.97it/s]"
     ]
    },
    {
     "name": "stdout",
     "output_type": "stream",
     "text": [
      "--- Iteration 776: training loss = 0.0029 ---\n"
     ]
    },
    {
     "name": "stderr",
     "output_type": "stream",
     "text": [
      "\r",
      " 78%|█████████████████████████████████████████████████████████████▍                 | 777/1000 [04:09<01:14,  2.97it/s]"
     ]
    },
    {
     "name": "stdout",
     "output_type": "stream",
     "text": [
      "--- Iteration 777: training loss = 0.0029 ---\n"
     ]
    },
    {
     "name": "stderr",
     "output_type": "stream",
     "text": [
      "\r",
      " 78%|█████████████████████████████████████████████████████████████▍                 | 778/1000 [04:10<01:14,  2.98it/s]"
     ]
    },
    {
     "name": "stdout",
     "output_type": "stream",
     "text": [
      "--- Iteration 778: training loss = 0.0029 ---\n"
     ]
    },
    {
     "name": "stderr",
     "output_type": "stream",
     "text": [
      "\r",
      " 78%|█████████████████████████████████████████████████████████████▌                 | 779/1000 [04:10<01:13,  3.01it/s]"
     ]
    },
    {
     "name": "stdout",
     "output_type": "stream",
     "text": [
      "--- Iteration 779: training loss = 0.0029 ---\n"
     ]
    },
    {
     "name": "stderr",
     "output_type": "stream",
     "text": [
      "\r",
      " 78%|█████████████████████████████████████████████████████████████▌                 | 780/1000 [04:10<01:13,  3.01it/s]"
     ]
    },
    {
     "name": "stdout",
     "output_type": "stream",
     "text": [
      "--- Iteration 780: training loss = 0.0029 ---\n"
     ]
    },
    {
     "name": "stderr",
     "output_type": "stream",
     "text": [
      "\r",
      " 78%|█████████████████████████████████████████████████████████████▋                 | 781/1000 [04:11<01:13,  2.97it/s]"
     ]
    },
    {
     "name": "stdout",
     "output_type": "stream",
     "text": [
      "--- Iteration 781: training loss = 0.0029 ---\n"
     ]
    },
    {
     "name": "stderr",
     "output_type": "stream",
     "text": [
      "\r",
      " 78%|█████████████████████████████████████████████████████████████▊                 | 782/1000 [04:11<01:10,  3.08it/s]"
     ]
    },
    {
     "name": "stdout",
     "output_type": "stream",
     "text": [
      "--- Iteration 782: training loss = 0.0029 ---\n"
     ]
    },
    {
     "name": "stderr",
     "output_type": "stream",
     "text": [
      "\r",
      " 78%|█████████████████████████████████████████████████████████████▊                 | 783/1000 [04:11<01:10,  3.10it/s]"
     ]
    },
    {
     "name": "stdout",
     "output_type": "stream",
     "text": [
      "--- Iteration 783: training loss = 0.0029 ---\n"
     ]
    },
    {
     "name": "stderr",
     "output_type": "stream",
     "text": [
      "\r",
      " 78%|█████████████████████████████████████████████████████████████▉                 | 784/1000 [04:12<01:09,  3.09it/s]"
     ]
    },
    {
     "name": "stdout",
     "output_type": "stream",
     "text": [
      "--- Iteration 784: training loss = 0.0029 ---\n"
     ]
    },
    {
     "name": "stderr",
     "output_type": "stream",
     "text": [
      "\r",
      " 78%|██████████████████████████████████████████████████████████████                 | 785/1000 [04:12<01:08,  3.15it/s]"
     ]
    },
    {
     "name": "stdout",
     "output_type": "stream",
     "text": [
      "--- Iteration 785: training loss = 0.0029 ---\n"
     ]
    },
    {
     "name": "stderr",
     "output_type": "stream",
     "text": [
      "\r",
      " 79%|██████████████████████████████████████████████████████████████                 | 786/1000 [04:13<01:14,  2.86it/s]"
     ]
    },
    {
     "name": "stdout",
     "output_type": "stream",
     "text": [
      "--- Iteration 786: training loss = 0.0029 ---\n"
     ]
    },
    {
     "name": "stderr",
     "output_type": "stream",
     "text": [
      "\r",
      " 79%|██████████████████████████████████████████████████████████████▏                | 787/1000 [04:13<01:14,  2.85it/s]"
     ]
    },
    {
     "name": "stdout",
     "output_type": "stream",
     "text": [
      "--- Iteration 787: training loss = 0.0029 ---\n"
     ]
    },
    {
     "name": "stderr",
     "output_type": "stream",
     "text": [
      "\r",
      " 79%|██████████████████████████████████████████████████████████████▎                | 788/1000 [04:13<01:24,  2.50it/s]"
     ]
    },
    {
     "name": "stdout",
     "output_type": "stream",
     "text": [
      "--- Iteration 788: training loss = 0.0029 ---\n"
     ]
    },
    {
     "name": "stderr",
     "output_type": "stream",
     "text": [
      "\r",
      " 79%|██████████████████████████████████████████████████████████████▎                | 789/1000 [04:14<01:27,  2.41it/s]"
     ]
    },
    {
     "name": "stdout",
     "output_type": "stream",
     "text": [
      "--- Iteration 789: training loss = 0.0029 ---\n"
     ]
    },
    {
     "name": "stderr",
     "output_type": "stream",
     "text": [
      "\r",
      " 79%|██████████████████████████████████████████████████████████████▍                | 790/1000 [04:14<01:33,  2.24it/s]"
     ]
    },
    {
     "name": "stdout",
     "output_type": "stream",
     "text": [
      "--- Iteration 790: training loss = 0.0029 ---\n"
     ]
    },
    {
     "name": "stderr",
     "output_type": "stream",
     "text": [
      "\r",
      " 79%|██████████████████████████████████████████████████████████████▍                | 791/1000 [04:15<01:33,  2.23it/s]"
     ]
    },
    {
     "name": "stdout",
     "output_type": "stream",
     "text": [
      "--- Iteration 791: training loss = 0.0029 ---\n"
     ]
    },
    {
     "name": "stderr",
     "output_type": "stream",
     "text": [
      "\r",
      " 79%|██████████████████████████████████████████████████████████████▌                | 792/1000 [04:15<01:35,  2.17it/s]"
     ]
    },
    {
     "name": "stdout",
     "output_type": "stream",
     "text": [
      "--- Iteration 792: training loss = 0.0029 ---\n"
     ]
    },
    {
     "name": "stderr",
     "output_type": "stream",
     "text": [
      "\r",
      " 79%|██████████████████████████████████████████████████████████████▋                | 793/1000 [04:16<01:33,  2.21it/s]"
     ]
    },
    {
     "name": "stdout",
     "output_type": "stream",
     "text": [
      "--- Iteration 793: training loss = 0.0029 ---\n"
     ]
    },
    {
     "name": "stderr",
     "output_type": "stream",
     "text": [
      "\r",
      " 79%|██████████████████████████████████████████████████████████████▋                | 794/1000 [04:16<01:32,  2.23it/s]"
     ]
    },
    {
     "name": "stdout",
     "output_type": "stream",
     "text": [
      "--- Iteration 794: training loss = 0.0029 ---\n"
     ]
    },
    {
     "name": "stderr",
     "output_type": "stream",
     "text": [
      "\r",
      " 80%|██████████████████████████████████████████████████████████████▊                | 795/1000 [04:17<01:30,  2.27it/s]"
     ]
    },
    {
     "name": "stdout",
     "output_type": "stream",
     "text": [
      "--- Iteration 795: training loss = 0.0029 ---\n"
     ]
    },
    {
     "name": "stderr",
     "output_type": "stream",
     "text": [
      "\r",
      " 80%|██████████████████████████████████████████████████████████████▉                | 796/1000 [04:17<01:30,  2.26it/s]"
     ]
    },
    {
     "name": "stdout",
     "output_type": "stream",
     "text": [
      "--- Iteration 796: training loss = 0.0029 ---\n"
     ]
    },
    {
     "name": "stderr",
     "output_type": "stream",
     "text": [
      "\r",
      " 80%|██████████████████████████████████████████████████████████████▉                | 797/1000 [04:17<01:28,  2.29it/s]"
     ]
    },
    {
     "name": "stdout",
     "output_type": "stream",
     "text": [
      "--- Iteration 797: training loss = 0.0029 ---\n"
     ]
    },
    {
     "name": "stderr",
     "output_type": "stream",
     "text": [
      "\r",
      " 80%|███████████████████████████████████████████████████████████████                | 798/1000 [04:18<01:25,  2.36it/s]"
     ]
    },
    {
     "name": "stdout",
     "output_type": "stream",
     "text": [
      "--- Iteration 798: training loss = 0.0029 ---\n"
     ]
    },
    {
     "name": "stderr",
     "output_type": "stream",
     "text": [
      "\r",
      " 80%|███████████████████████████████████████████████████████████████                | 799/1000 [04:18<01:26,  2.34it/s]"
     ]
    },
    {
     "name": "stdout",
     "output_type": "stream",
     "text": [
      "--- Iteration 799: training loss = 0.0029 ---\n"
     ]
    },
    {
     "name": "stderr",
     "output_type": "stream",
     "text": [
      "\r",
      " 80%|███████████████████████████████████████████████████████████████▏               | 800/1000 [04:19<01:27,  2.27it/s]"
     ]
    },
    {
     "name": "stdout",
     "output_type": "stream",
     "text": [
      "--- Iteration 800: training loss = 0.0029 ---\n"
     ]
    },
    {
     "name": "stderr",
     "output_type": "stream",
     "text": [
      "\r",
      " 80%|███████████████████████████████████████████████████████████████▎               | 801/1000 [04:19<01:27,  2.28it/s]"
     ]
    },
    {
     "name": "stdout",
     "output_type": "stream",
     "text": [
      "--- Iteration 801: training loss = 0.0029 ---\n"
     ]
    },
    {
     "name": "stderr",
     "output_type": "stream",
     "text": [
      "\r",
      " 80%|███████████████████████████████████████████████████████████████▎               | 802/1000 [04:20<01:23,  2.36it/s]"
     ]
    },
    {
     "name": "stdout",
     "output_type": "stream",
     "text": [
      "--- Iteration 802: training loss = 0.0029 ---\n"
     ]
    },
    {
     "name": "stderr",
     "output_type": "stream",
     "text": [
      "\r",
      " 80%|███████████████████████████████████████████████████████████████▍               | 803/1000 [04:20<01:20,  2.45it/s]"
     ]
    },
    {
     "name": "stdout",
     "output_type": "stream",
     "text": [
      "--- Iteration 803: training loss = 0.0029 ---\n"
     ]
    },
    {
     "name": "stderr",
     "output_type": "stream",
     "text": [
      "\r",
      " 80%|███████████████████████████████████████████████████████████████▌               | 804/1000 [04:20<01:26,  2.28it/s]"
     ]
    },
    {
     "name": "stdout",
     "output_type": "stream",
     "text": [
      "--- Iteration 804: training loss = 0.0028 ---\n"
     ]
    },
    {
     "name": "stderr",
     "output_type": "stream",
     "text": [
      "\r",
      " 80%|███████████████████████████████████████████████████████████████▌               | 805/1000 [04:21<01:20,  2.42it/s]"
     ]
    },
    {
     "name": "stdout",
     "output_type": "stream",
     "text": [
      "--- Iteration 805: training loss = 0.0028 ---\n"
     ]
    },
    {
     "name": "stderr",
     "output_type": "stream",
     "text": [
      "\r",
      " 81%|███████████████████████████████████████████████████████████████▋               | 806/1000 [04:21<01:13,  2.63it/s]"
     ]
    },
    {
     "name": "stdout",
     "output_type": "stream",
     "text": [
      "--- Iteration 806: training loss = 0.0028 ---\n"
     ]
    },
    {
     "name": "stderr",
     "output_type": "stream",
     "text": [
      "\r",
      " 81%|███████████████████████████████████████████████████████████████▊               | 807/1000 [04:21<01:12,  2.66it/s]"
     ]
    },
    {
     "name": "stdout",
     "output_type": "stream",
     "text": [
      "--- Iteration 807: training loss = 0.0028 ---\n"
     ]
    },
    {
     "name": "stderr",
     "output_type": "stream",
     "text": [
      "\r",
      " 81%|███████████████████████████████████████████████████████████████▊               | 808/1000 [04:22<01:07,  2.82it/s]"
     ]
    },
    {
     "name": "stdout",
     "output_type": "stream",
     "text": [
      "--- Iteration 808: training loss = 0.0028 ---\n"
     ]
    },
    {
     "name": "stderr",
     "output_type": "stream",
     "text": [
      "\r",
      " 81%|███████████████████████████████████████████████████████████████▉               | 809/1000 [04:22<01:07,  2.85it/s]"
     ]
    },
    {
     "name": "stdout",
     "output_type": "stream",
     "text": [
      "--- Iteration 809: training loss = 0.0028 ---\n"
     ]
    },
    {
     "name": "stderr",
     "output_type": "stream",
     "text": [
      "\r",
      " 81%|███████████████████████████████████████████████████████████████▉               | 810/1000 [04:22<01:03,  2.97it/s]"
     ]
    },
    {
     "name": "stdout",
     "output_type": "stream",
     "text": [
      "--- Iteration 810: training loss = 0.0028 ---\n"
     ]
    },
    {
     "name": "stderr",
     "output_type": "stream",
     "text": [
      "\r",
      " 81%|████████████████████████████████████████████████████████████████               | 811/1000 [04:23<01:02,  3.03it/s]"
     ]
    },
    {
     "name": "stdout",
     "output_type": "stream",
     "text": [
      "--- Iteration 811: training loss = 0.0028 ---\n"
     ]
    },
    {
     "name": "stderr",
     "output_type": "stream",
     "text": [
      "\r",
      " 81%|████████████████████████████████████████████████████████████████▏              | 812/1000 [04:23<01:00,  3.12it/s]"
     ]
    },
    {
     "name": "stdout",
     "output_type": "stream",
     "text": [
      "--- Iteration 812: training loss = 0.0028 ---\n"
     ]
    },
    {
     "name": "stderr",
     "output_type": "stream",
     "text": [
      "\r",
      " 81%|████████████████████████████████████████████████████████████████▏              | 813/1000 [04:23<00:57,  3.23it/s]"
     ]
    },
    {
     "name": "stdout",
     "output_type": "stream",
     "text": [
      "--- Iteration 813: training loss = 0.0028 ---\n"
     ]
    },
    {
     "name": "stderr",
     "output_type": "stream",
     "text": [
      "\r",
      " 81%|████████████████████████████████████████████████████████████████▎              | 814/1000 [04:24<00:57,  3.21it/s]"
     ]
    },
    {
     "name": "stdout",
     "output_type": "stream",
     "text": [
      "--- Iteration 814: training loss = 0.0028 ---\n"
     ]
    },
    {
     "name": "stderr",
     "output_type": "stream",
     "text": [
      "\r",
      " 82%|████████████████████████████████████████████████████████████████▍              | 815/1000 [04:24<00:58,  3.18it/s]"
     ]
    },
    {
     "name": "stdout",
     "output_type": "stream",
     "text": [
      "--- Iteration 815: training loss = 0.0028 ---\n"
     ]
    },
    {
     "name": "stderr",
     "output_type": "stream",
     "text": [
      "\r",
      " 82%|████████████████████████████████████████████████████████████████▍              | 816/1000 [04:24<00:59,  3.11it/s]"
     ]
    },
    {
     "name": "stdout",
     "output_type": "stream",
     "text": [
      "--- Iteration 816: training loss = 0.0028 ---\n"
     ]
    },
    {
     "name": "stderr",
     "output_type": "stream",
     "text": [
      "\r",
      " 82%|████████████████████████████████████████████████████████████████▌              | 817/1000 [04:25<00:58,  3.14it/s]"
     ]
    },
    {
     "name": "stdout",
     "output_type": "stream",
     "text": [
      "--- Iteration 817: training loss = 0.0028 ---\n"
     ]
    },
    {
     "name": "stderr",
     "output_type": "stream",
     "text": [
      "\r",
      " 82%|████████████████████████████████████████████████████████████████▌              | 818/1000 [04:25<00:57,  3.18it/s]"
     ]
    },
    {
     "name": "stdout",
     "output_type": "stream",
     "text": [
      "--- Iteration 818: training loss = 0.0028 ---\n"
     ]
    },
    {
     "name": "stderr",
     "output_type": "stream",
     "text": [
      "\r",
      " 82%|████████████████████████████████████████████████████████████████▋              | 819/1000 [04:25<00:58,  3.12it/s]"
     ]
    },
    {
     "name": "stdout",
     "output_type": "stream",
     "text": [
      "--- Iteration 819: training loss = 0.0028 ---\n"
     ]
    },
    {
     "name": "stderr",
     "output_type": "stream",
     "text": [
      "\r",
      " 82%|████████████████████████████████████████████████████████████████▊              | 820/1000 [04:26<00:56,  3.17it/s]"
     ]
    },
    {
     "name": "stdout",
     "output_type": "stream",
     "text": [
      "--- Iteration 820: training loss = 0.0028 ---\n"
     ]
    },
    {
     "name": "stderr",
     "output_type": "stream",
     "text": [
      "\r",
      " 82%|████████████████████████████████████████████████████████████████▊              | 821/1000 [04:26<00:55,  3.20it/s]"
     ]
    },
    {
     "name": "stdout",
     "output_type": "stream",
     "text": [
      "--- Iteration 821: training loss = 0.0028 ---\n"
     ]
    },
    {
     "name": "stderr",
     "output_type": "stream",
     "text": [
      "\r",
      " 82%|████████████████████████████████████████████████████████████████▉              | 822/1000 [04:26<00:55,  3.20it/s]"
     ]
    },
    {
     "name": "stdout",
     "output_type": "stream",
     "text": [
      "--- Iteration 822: training loss = 0.0028 ---\n"
     ]
    },
    {
     "name": "stderr",
     "output_type": "stream",
     "text": [
      "\r",
      " 82%|█████████████████████████████████████████████████████████████████              | 823/1000 [04:27<00:56,  3.13it/s]"
     ]
    },
    {
     "name": "stdout",
     "output_type": "stream",
     "text": [
      "--- Iteration 823: training loss = 0.0028 ---\n"
     ]
    },
    {
     "name": "stderr",
     "output_type": "stream",
     "text": [
      "\r",
      " 82%|█████████████████████████████████████████████████████████████████              | 824/1000 [04:27<00:56,  3.09it/s]"
     ]
    },
    {
     "name": "stdout",
     "output_type": "stream",
     "text": [
      "--- Iteration 824: training loss = 0.0028 ---\n"
     ]
    },
    {
     "name": "stderr",
     "output_type": "stream",
     "text": [
      "\r",
      " 82%|█████████████████████████████████████████████████████████████████▏             | 825/1000 [04:27<00:56,  3.12it/s]"
     ]
    },
    {
     "name": "stdout",
     "output_type": "stream",
     "text": [
      "--- Iteration 825: training loss = 0.0028 ---\n"
     ]
    },
    {
     "name": "stderr",
     "output_type": "stream",
     "text": [
      "\r",
      " 83%|█████████████████████████████████████████████████████████████████▎             | 826/1000 [04:27<00:56,  3.10it/s]"
     ]
    },
    {
     "name": "stdout",
     "output_type": "stream",
     "text": [
      "--- Iteration 826: training loss = 0.0028 ---\n"
     ]
    },
    {
     "name": "stderr",
     "output_type": "stream",
     "text": [
      "\r",
      " 83%|█████████████████████████████████████████████████████████████████▎             | 827/1000 [04:28<00:55,  3.14it/s]"
     ]
    },
    {
     "name": "stdout",
     "output_type": "stream",
     "text": [
      "--- Iteration 827: training loss = 0.0028 ---\n"
     ]
    },
    {
     "name": "stderr",
     "output_type": "stream",
     "text": [
      "\r",
      " 83%|█████████████████████████████████████████████████████████████████▍             | 828/1000 [04:28<00:55,  3.12it/s]"
     ]
    },
    {
     "name": "stdout",
     "output_type": "stream",
     "text": [
      "--- Iteration 828: training loss = 0.0028 ---\n"
     ]
    },
    {
     "name": "stderr",
     "output_type": "stream",
     "text": [
      "\r",
      " 83%|█████████████████████████████████████████████████████████████████▍             | 829/1000 [04:28<00:53,  3.20it/s]"
     ]
    },
    {
     "name": "stdout",
     "output_type": "stream",
     "text": [
      "--- Iteration 829: training loss = 0.0028 ---\n"
     ]
    },
    {
     "name": "stderr",
     "output_type": "stream",
     "text": [
      "\r",
      " 83%|█████████████████████████████████████████████████████████████████▌             | 830/1000 [04:29<00:54,  3.13it/s]"
     ]
    },
    {
     "name": "stdout",
     "output_type": "stream",
     "text": [
      "--- Iteration 830: training loss = 0.0028 ---\n"
     ]
    },
    {
     "name": "stderr",
     "output_type": "stream",
     "text": [
      "\r",
      " 83%|█████████████████████████████████████████████████████████████████▋             | 831/1000 [04:29<00:54,  3.12it/s]"
     ]
    },
    {
     "name": "stdout",
     "output_type": "stream",
     "text": [
      "--- Iteration 831: training loss = 0.0028 ---\n"
     ]
    },
    {
     "name": "stderr",
     "output_type": "stream",
     "text": [
      "\r",
      " 83%|█████████████████████████████████████████████████████████████████▋             | 832/1000 [04:29<00:54,  3.11it/s]"
     ]
    },
    {
     "name": "stdout",
     "output_type": "stream",
     "text": [
      "--- Iteration 832: training loss = 0.0028 ---\n"
     ]
    },
    {
     "name": "stderr",
     "output_type": "stream",
     "text": [
      "\r",
      " 83%|█████████████████████████████████████████████████████████████████▊             | 833/1000 [04:30<00:52,  3.20it/s]"
     ]
    },
    {
     "name": "stdout",
     "output_type": "stream",
     "text": [
      "--- Iteration 833: training loss = 0.0028 ---\n"
     ]
    },
    {
     "name": "stderr",
     "output_type": "stream",
     "text": [
      "\r",
      " 83%|█████████████████████████████████████████████████████████████████▉             | 834/1000 [04:30<00:53,  3.10it/s]"
     ]
    },
    {
     "name": "stdout",
     "output_type": "stream",
     "text": [
      "--- Iteration 834: training loss = 0.0028 ---\n"
     ]
    },
    {
     "name": "stderr",
     "output_type": "stream",
     "text": [
      "\r",
      " 84%|█████████████████████████████████████████████████████████████████▉             | 835/1000 [04:30<00:51,  3.18it/s]"
     ]
    },
    {
     "name": "stdout",
     "output_type": "stream",
     "text": [
      "--- Iteration 835: training loss = 0.0028 ---\n"
     ]
    },
    {
     "name": "stderr",
     "output_type": "stream",
     "text": [
      "\r",
      " 84%|██████████████████████████████████████████████████████████████████             | 836/1000 [04:31<00:53,  3.07it/s]"
     ]
    },
    {
     "name": "stdout",
     "output_type": "stream",
     "text": [
      "--- Iteration 836: training loss = 0.0028 ---\n"
     ]
    },
    {
     "name": "stderr",
     "output_type": "stream",
     "text": [
      "\r",
      " 84%|██████████████████████████████████████████████████████████████████             | 837/1000 [04:31<00:51,  3.14it/s]"
     ]
    },
    {
     "name": "stdout",
     "output_type": "stream",
     "text": [
      "--- Iteration 837: training loss = 0.0027 ---\n"
     ]
    },
    {
     "name": "stderr",
     "output_type": "stream",
     "text": [
      "\r",
      " 84%|██████████████████████████████████████████████████████████████████▏            | 838/1000 [04:31<00:52,  3.09it/s]"
     ]
    },
    {
     "name": "stdout",
     "output_type": "stream",
     "text": [
      "--- Iteration 838: training loss = 0.0027 ---\n"
     ]
    },
    {
     "name": "stderr",
     "output_type": "stream",
     "text": [
      "\r",
      " 84%|██████████████████████████████████████████████████████████████████▎            | 839/1000 [04:32<00:53,  3.01it/s]"
     ]
    },
    {
     "name": "stdout",
     "output_type": "stream",
     "text": [
      "--- Iteration 839: training loss = 0.0027 ---\n"
     ]
    },
    {
     "name": "stderr",
     "output_type": "stream",
     "text": [
      "\r",
      " 84%|██████████████████████████████████████████████████████████████████▎            | 840/1000 [04:32<00:51,  3.13it/s]"
     ]
    },
    {
     "name": "stdout",
     "output_type": "stream",
     "text": [
      "--- Iteration 840: training loss = 0.0027 ---\n"
     ]
    },
    {
     "name": "stderr",
     "output_type": "stream",
     "text": [
      "\r",
      " 84%|██████████████████████████████████████████████████████████████████▍            | 841/1000 [04:32<00:50,  3.13it/s]"
     ]
    },
    {
     "name": "stdout",
     "output_type": "stream",
     "text": [
      "--- Iteration 841: training loss = 0.0027 ---\n"
     ]
    },
    {
     "name": "stderr",
     "output_type": "stream",
     "text": [
      "\r",
      " 84%|██████████████████████████████████████████████████████████████████▌            | 842/1000 [04:33<00:51,  3.06it/s]"
     ]
    },
    {
     "name": "stdout",
     "output_type": "stream",
     "text": [
      "--- Iteration 842: training loss = 0.0027 ---\n"
     ]
    },
    {
     "name": "stderr",
     "output_type": "stream",
     "text": [
      "\r",
      " 84%|██████████████████████████████████████████████████████████████████▌            | 843/1000 [04:33<00:51,  3.05it/s]"
     ]
    },
    {
     "name": "stdout",
     "output_type": "stream",
     "text": [
      "--- Iteration 843: training loss = 0.0027 ---\n"
     ]
    },
    {
     "name": "stderr",
     "output_type": "stream",
     "text": [
      "\r",
      " 84%|██████████████████████████████████████████████████████████████████▋            | 844/1000 [04:33<00:51,  3.00it/s]"
     ]
    },
    {
     "name": "stdout",
     "output_type": "stream",
     "text": [
      "--- Iteration 844: training loss = 0.0027 ---\n"
     ]
    },
    {
     "name": "stderr",
     "output_type": "stream",
     "text": [
      "\r",
      " 84%|██████████████████████████████████████████████████████████████████▊            | 845/1000 [04:34<00:51,  2.99it/s]"
     ]
    },
    {
     "name": "stdout",
     "output_type": "stream",
     "text": [
      "--- Iteration 845: training loss = 0.0027 ---\n"
     ]
    },
    {
     "name": "stderr",
     "output_type": "stream",
     "text": [
      "\r",
      " 85%|██████████████████████████████████████████████████████████████████▊            | 846/1000 [04:34<00:50,  3.07it/s]"
     ]
    },
    {
     "name": "stdout",
     "output_type": "stream",
     "text": [
      "--- Iteration 846: training loss = 0.0027 ---\n"
     ]
    },
    {
     "name": "stderr",
     "output_type": "stream",
     "text": [
      "\r",
      " 85%|██████████████████████████████████████████████████████████████████▉            | 847/1000 [04:34<00:50,  3.05it/s]"
     ]
    },
    {
     "name": "stdout",
     "output_type": "stream",
     "text": [
      "--- Iteration 847: training loss = 0.0027 ---\n"
     ]
    },
    {
     "name": "stderr",
     "output_type": "stream",
     "text": [
      "\r",
      " 85%|██████████████████████████████████████████████████████████████████▉            | 848/1000 [04:35<00:50,  3.03it/s]"
     ]
    },
    {
     "name": "stdout",
     "output_type": "stream",
     "text": [
      "--- Iteration 848: training loss = 0.0027 ---\n"
     ]
    },
    {
     "name": "stderr",
     "output_type": "stream",
     "text": [
      "\r",
      " 85%|███████████████████████████████████████████████████████████████████            | 849/1000 [04:35<00:48,  3.13it/s]"
     ]
    },
    {
     "name": "stdout",
     "output_type": "stream",
     "text": [
      "--- Iteration 849: training loss = 0.0027 ---\n"
     ]
    },
    {
     "name": "stderr",
     "output_type": "stream",
     "text": [
      "\r",
      " 85%|███████████████████████████████████████████████████████████████████▏           | 850/1000 [04:35<00:49,  3.00it/s]"
     ]
    },
    {
     "name": "stdout",
     "output_type": "stream",
     "text": [
      "--- Iteration 850: training loss = 0.0027 ---\n"
     ]
    },
    {
     "name": "stderr",
     "output_type": "stream",
     "text": [
      "\r",
      " 85%|███████████████████████████████████████████████████████████████████▏           | 851/1000 [04:36<00:50,  2.97it/s]"
     ]
    },
    {
     "name": "stdout",
     "output_type": "stream",
     "text": [
      "--- Iteration 851: training loss = 0.0027 ---\n"
     ]
    },
    {
     "name": "stderr",
     "output_type": "stream",
     "text": [
      "\r",
      " 85%|███████████████████████████████████████████████████████████████████▎           | 852/1000 [04:36<00:50,  2.94it/s]"
     ]
    },
    {
     "name": "stdout",
     "output_type": "stream",
     "text": [
      "--- Iteration 852: training loss = 0.0027 ---\n"
     ]
    },
    {
     "name": "stderr",
     "output_type": "stream",
     "text": [
      "\r",
      " 85%|███████████████████████████████████████████████████████████████████▍           | 853/1000 [04:36<00:57,  2.56it/s]"
     ]
    },
    {
     "name": "stdout",
     "output_type": "stream",
     "text": [
      "--- Iteration 853: training loss = 0.0027 ---\n"
     ]
    },
    {
     "name": "stderr",
     "output_type": "stream",
     "text": [
      "\r",
      " 85%|███████████████████████████████████████████████████████████████████▍           | 854/1000 [04:37<01:01,  2.37it/s]"
     ]
    },
    {
     "name": "stdout",
     "output_type": "stream",
     "text": [
      "--- Iteration 854: training loss = 0.0027 ---\n"
     ]
    },
    {
     "name": "stderr",
     "output_type": "stream",
     "text": [
      "\r",
      " 86%|███████████████████████████████████████████████████████████████████▌           | 855/1000 [04:37<01:03,  2.27it/s]"
     ]
    },
    {
     "name": "stdout",
     "output_type": "stream",
     "text": [
      "--- Iteration 855: training loss = 0.0027 ---\n"
     ]
    },
    {
     "name": "stderr",
     "output_type": "stream",
     "text": [
      "\r",
      " 86%|███████████████████████████████████████████████████████████████████▌           | 856/1000 [04:38<01:04,  2.24it/s]"
     ]
    },
    {
     "name": "stdout",
     "output_type": "stream",
     "text": [
      "--- Iteration 856: training loss = 0.0027 ---\n"
     ]
    },
    {
     "name": "stderr",
     "output_type": "stream",
     "text": [
      "\r",
      " 86%|███████████████████████████████████████████████████████████████████▋           | 857/1000 [04:38<01:04,  2.22it/s]"
     ]
    },
    {
     "name": "stdout",
     "output_type": "stream",
     "text": [
      "--- Iteration 857: training loss = 0.0027 ---\n"
     ]
    },
    {
     "name": "stderr",
     "output_type": "stream",
     "text": [
      "\r",
      " 86%|███████████████████████████████████████████████████████████████████▊           | 858/1000 [04:39<01:03,  2.22it/s]"
     ]
    },
    {
     "name": "stdout",
     "output_type": "stream",
     "text": [
      "--- Iteration 858: training loss = 0.0027 ---\n"
     ]
    },
    {
     "name": "stderr",
     "output_type": "stream",
     "text": [
      "\r",
      " 86%|███████████████████████████████████████████████████████████████████▊           | 859/1000 [04:39<01:00,  2.32it/s]"
     ]
    },
    {
     "name": "stdout",
     "output_type": "stream",
     "text": [
      "--- Iteration 859: training loss = 0.0027 ---\n"
     ]
    },
    {
     "name": "stderr",
     "output_type": "stream",
     "text": [
      "\r",
      " 86%|███████████████████████████████████████████████████████████████████▉           | 860/1000 [04:40<00:59,  2.34it/s]"
     ]
    },
    {
     "name": "stdout",
     "output_type": "stream",
     "text": [
      "--- Iteration 860: training loss = 0.0027 ---\n"
     ]
    },
    {
     "name": "stderr",
     "output_type": "stream",
     "text": [
      "\r",
      " 86%|████████████████████████████████████████████████████████████████████           | 861/1000 [04:40<00:59,  2.33it/s]"
     ]
    },
    {
     "name": "stdout",
     "output_type": "stream",
     "text": [
      "--- Iteration 861: training loss = 0.0027 ---\n"
     ]
    },
    {
     "name": "stderr",
     "output_type": "stream",
     "text": [
      "\r",
      " 86%|████████████████████████████████████████████████████████████████████           | 862/1000 [04:41<01:00,  2.27it/s]"
     ]
    },
    {
     "name": "stdout",
     "output_type": "stream",
     "text": [
      "--- Iteration 862: training loss = 0.0027 ---\n"
     ]
    },
    {
     "name": "stderr",
     "output_type": "stream",
     "text": [
      "\r",
      " 86%|████████████████████████████████████████████████████████████████████▏          | 863/1000 [04:41<01:00,  2.27it/s]"
     ]
    },
    {
     "name": "stdout",
     "output_type": "stream",
     "text": [
      "--- Iteration 863: training loss = 0.0027 ---\n"
     ]
    },
    {
     "name": "stderr",
     "output_type": "stream",
     "text": [
      "\r",
      " 86%|████████████████████████████████████████████████████████████████████▎          | 864/1000 [04:41<00:58,  2.34it/s]"
     ]
    },
    {
     "name": "stdout",
     "output_type": "stream",
     "text": [
      "--- Iteration 864: training loss = 0.0027 ---\n"
     ]
    },
    {
     "name": "stderr",
     "output_type": "stream",
     "text": [
      "\r",
      " 86%|████████████████████████████████████████████████████████████████████▎          | 865/1000 [04:42<00:55,  2.45it/s]"
     ]
    },
    {
     "name": "stdout",
     "output_type": "stream",
     "text": [
      "--- Iteration 865: training loss = 0.0027 ---\n"
     ]
    },
    {
     "name": "stderr",
     "output_type": "stream",
     "text": [
      "\r",
      " 87%|████████████████████████████████████████████████████████████████████▍          | 866/1000 [04:42<00:50,  2.65it/s]"
     ]
    },
    {
     "name": "stdout",
     "output_type": "stream",
     "text": [
      "--- Iteration 866: training loss = 0.0027 ---\n"
     ]
    },
    {
     "name": "stderr",
     "output_type": "stream",
     "text": [
      "\r",
      " 87%|████████████████████████████████████████████████████████████████████▍          | 867/1000 [04:42<00:49,  2.68it/s]"
     ]
    },
    {
     "name": "stdout",
     "output_type": "stream",
     "text": [
      "--- Iteration 867: training loss = 0.0027 ---\n"
     ]
    },
    {
     "name": "stderr",
     "output_type": "stream",
     "text": [
      "\r",
      " 87%|████████████████████████████████████████████████████████████████████▌          | 868/1000 [04:43<00:46,  2.81it/s]"
     ]
    },
    {
     "name": "stdout",
     "output_type": "stream",
     "text": [
      "--- Iteration 868: training loss = 0.0027 ---\n"
     ]
    },
    {
     "name": "stderr",
     "output_type": "stream",
     "text": [
      "\r",
      " 87%|████████████████████████████████████████████████████████████████████▋          | 869/1000 [04:43<00:46,  2.84it/s]"
     ]
    },
    {
     "name": "stdout",
     "output_type": "stream",
     "text": [
      "--- Iteration 869: training loss = 0.0027 ---\n"
     ]
    },
    {
     "name": "stderr",
     "output_type": "stream",
     "text": [
      "\r",
      " 87%|████████████████████████████████████████████████████████████████████▋          | 870/1000 [04:43<00:45,  2.86it/s]"
     ]
    },
    {
     "name": "stdout",
     "output_type": "stream",
     "text": [
      "--- Iteration 870: training loss = 0.0027 ---\n"
     ]
    },
    {
     "name": "stderr",
     "output_type": "stream",
     "text": [
      "\r",
      " 87%|████████████████████████████████████████████████████████████████████▊          | 871/1000 [04:44<00:44,  2.92it/s]"
     ]
    },
    {
     "name": "stdout",
     "output_type": "stream",
     "text": [
      "--- Iteration 871: training loss = 0.0027 ---\n"
     ]
    },
    {
     "name": "stderr",
     "output_type": "stream",
     "text": [
      "\r",
      " 87%|████████████████████████████████████████████████████████████████████▉          | 872/1000 [04:44<00:43,  2.97it/s]"
     ]
    },
    {
     "name": "stdout",
     "output_type": "stream",
     "text": [
      "--- Iteration 872: training loss = 0.0026 ---\n"
     ]
    },
    {
     "name": "stderr",
     "output_type": "stream",
     "text": [
      "\r",
      " 87%|████████████████████████████████████████████████████████████████████▉          | 873/1000 [04:44<00:42,  2.98it/s]"
     ]
    },
    {
     "name": "stdout",
     "output_type": "stream",
     "text": [
      "--- Iteration 873: training loss = 0.0026 ---\n"
     ]
    },
    {
     "name": "stderr",
     "output_type": "stream",
     "text": [
      "\r",
      " 87%|█████████████████████████████████████████████████████████████████████          | 874/1000 [04:45<00:43,  2.91it/s]"
     ]
    },
    {
     "name": "stdout",
     "output_type": "stream",
     "text": [
      "--- Iteration 874: training loss = 0.0026 ---\n"
     ]
    },
    {
     "name": "stderr",
     "output_type": "stream",
     "text": [
      "\r",
      " 88%|█████████████████████████████████████████████████████████████████████▏         | 875/1000 [04:45<00:41,  2.98it/s]"
     ]
    },
    {
     "name": "stdout",
     "output_type": "stream",
     "text": [
      "--- Iteration 875: training loss = 0.0026 ---\n"
     ]
    },
    {
     "name": "stderr",
     "output_type": "stream",
     "text": [
      "\r",
      " 88%|█████████████████████████████████████████████████████████████████████▏         | 876/1000 [04:45<00:41,  2.96it/s]"
     ]
    },
    {
     "name": "stdout",
     "output_type": "stream",
     "text": [
      "--- Iteration 876: training loss = 0.0026 ---\n"
     ]
    },
    {
     "name": "stderr",
     "output_type": "stream",
     "text": [
      "\r",
      " 88%|█████████████████████████████████████████████████████████████████████▎         | 877/1000 [04:46<00:39,  3.08it/s]"
     ]
    },
    {
     "name": "stdout",
     "output_type": "stream",
     "text": [
      "--- Iteration 877: training loss = 0.0026 ---\n"
     ]
    },
    {
     "name": "stderr",
     "output_type": "stream",
     "text": [
      "\r",
      " 88%|█████████████████████████████████████████████████████████████████████▎         | 878/1000 [04:46<00:39,  3.08it/s]"
     ]
    },
    {
     "name": "stdout",
     "output_type": "stream",
     "text": [
      "--- Iteration 878: training loss = 0.0026 ---\n"
     ]
    },
    {
     "name": "stderr",
     "output_type": "stream",
     "text": [
      "\r",
      " 88%|█████████████████████████████████████████████████████████████████████▍         | 879/1000 [04:46<00:39,  3.03it/s]"
     ]
    },
    {
     "name": "stdout",
     "output_type": "stream",
     "text": [
      "--- Iteration 879: training loss = 0.0026 ---\n"
     ]
    },
    {
     "name": "stderr",
     "output_type": "stream",
     "text": [
      "\r",
      " 88%|█████████████████████████████████████████████████████████████████████▌         | 880/1000 [04:47<00:41,  2.91it/s]"
     ]
    },
    {
     "name": "stdout",
     "output_type": "stream",
     "text": [
      "--- Iteration 880: training loss = 0.0026 ---\n"
     ]
    },
    {
     "name": "stderr",
     "output_type": "stream",
     "text": [
      "\r",
      " 88%|█████████████████████████████████████████████████████████████████████▌         | 881/1000 [04:47<00:40,  2.94it/s]"
     ]
    },
    {
     "name": "stdout",
     "output_type": "stream",
     "text": [
      "--- Iteration 881: training loss = 0.0026 ---\n"
     ]
    },
    {
     "name": "stderr",
     "output_type": "stream",
     "text": [
      "\r",
      " 88%|█████████████████████████████████████████████████████████████████████▋         | 882/1000 [04:47<00:39,  2.99it/s]"
     ]
    },
    {
     "name": "stdout",
     "output_type": "stream",
     "text": [
      "--- Iteration 882: training loss = 0.0026 ---\n"
     ]
    },
    {
     "name": "stderr",
     "output_type": "stream",
     "text": [
      "\r",
      " 88%|█████████████████████████████████████████████████████████████████████▊         | 883/1000 [04:48<00:38,  3.04it/s]"
     ]
    },
    {
     "name": "stdout",
     "output_type": "stream",
     "text": [
      "--- Iteration 883: training loss = 0.0026 ---\n"
     ]
    },
    {
     "name": "stderr",
     "output_type": "stream",
     "text": [
      "\r",
      " 88%|█████████████████████████████████████████████████████████████████████▊         | 884/1000 [04:48<00:38,  3.05it/s]"
     ]
    },
    {
     "name": "stdout",
     "output_type": "stream",
     "text": [
      "--- Iteration 884: training loss = 0.0026 ---\n"
     ]
    },
    {
     "name": "stderr",
     "output_type": "stream",
     "text": [
      "\r",
      " 88%|█████████████████████████████████████████████████████████████████████▉         | 885/1000 [04:48<00:36,  3.13it/s]"
     ]
    },
    {
     "name": "stdout",
     "output_type": "stream",
     "text": [
      "--- Iteration 885: training loss = 0.0026 ---\n"
     ]
    },
    {
     "name": "stderr",
     "output_type": "stream",
     "text": [
      "\r",
      " 89%|█████████████████████████████████████████████████████████████████████▉         | 886/1000 [04:49<00:35,  3.18it/s]"
     ]
    },
    {
     "name": "stdout",
     "output_type": "stream",
     "text": [
      "--- Iteration 886: training loss = 0.0026 ---\n"
     ]
    },
    {
     "name": "stderr",
     "output_type": "stream",
     "text": [
      "\r",
      " 89%|██████████████████████████████████████████████████████████████████████         | 887/1000 [04:49<00:35,  3.14it/s]"
     ]
    },
    {
     "name": "stdout",
     "output_type": "stream",
     "text": [
      "--- Iteration 887: training loss = 0.0026 ---\n"
     ]
    },
    {
     "name": "stderr",
     "output_type": "stream",
     "text": [
      "\r",
      " 89%|██████████████████████████████████████████████████████████████████████▏        | 888/1000 [04:49<00:36,  3.09it/s]"
     ]
    },
    {
     "name": "stdout",
     "output_type": "stream",
     "text": [
      "--- Iteration 888: training loss = 0.0026 ---\n"
     ]
    },
    {
     "name": "stderr",
     "output_type": "stream",
     "text": [
      "\r",
      " 89%|██████████████████████████████████████████████████████████████████████▏        | 889/1000 [04:50<00:34,  3.21it/s]"
     ]
    },
    {
     "name": "stdout",
     "output_type": "stream",
     "text": [
      "--- Iteration 889: training loss = 0.0026 ---\n"
     ]
    },
    {
     "name": "stderr",
     "output_type": "stream",
     "text": [
      "\r",
      " 89%|██████████████████████████████████████████████████████████████████████▎        | 890/1000 [04:50<00:33,  3.27it/s]"
     ]
    },
    {
     "name": "stdout",
     "output_type": "stream",
     "text": [
      "--- Iteration 890: training loss = 0.0026 ---\n"
     ]
    },
    {
     "name": "stderr",
     "output_type": "stream",
     "text": [
      "\r",
      " 89%|██████████████████████████████████████████████████████████████████████▍        | 891/1000 [04:50<00:34,  3.15it/s]"
     ]
    },
    {
     "name": "stdout",
     "output_type": "stream",
     "text": [
      "--- Iteration 891: training loss = 0.0026 ---\n"
     ]
    },
    {
     "name": "stderr",
     "output_type": "stream",
     "text": [
      "\r",
      " 89%|██████████████████████████████████████████████████████████████████████▍        | 892/1000 [04:51<00:35,  3.08it/s]"
     ]
    },
    {
     "name": "stdout",
     "output_type": "stream",
     "text": [
      "--- Iteration 892: training loss = 0.0026 ---\n"
     ]
    },
    {
     "name": "stderr",
     "output_type": "stream",
     "text": [
      "\r",
      " 89%|██████████████████████████████████████████████████████████████████████▌        | 893/1000 [04:51<00:35,  3.00it/s]"
     ]
    },
    {
     "name": "stdout",
     "output_type": "stream",
     "text": [
      "--- Iteration 893: training loss = 0.0026 ---\n"
     ]
    },
    {
     "name": "stderr",
     "output_type": "stream",
     "text": [
      "\r",
      " 89%|██████████████████████████████████████████████████████████████████████▋        | 894/1000 [04:51<00:34,  3.08it/s]"
     ]
    },
    {
     "name": "stdout",
     "output_type": "stream",
     "text": [
      "--- Iteration 894: training loss = 0.0026 ---\n"
     ]
    },
    {
     "name": "stderr",
     "output_type": "stream",
     "text": [
      "\r",
      " 90%|██████████████████████████████████████████████████████████████████████▋        | 895/1000 [04:52<00:34,  3.03it/s]"
     ]
    },
    {
     "name": "stdout",
     "output_type": "stream",
     "text": [
      "--- Iteration 895: training loss = 0.0026 ---\n"
     ]
    },
    {
     "name": "stderr",
     "output_type": "stream",
     "text": [
      "\r",
      " 90%|██████████████████████████████████████████████████████████████████████▊        | 896/1000 [04:52<00:35,  2.96it/s]"
     ]
    },
    {
     "name": "stdout",
     "output_type": "stream",
     "text": [
      "--- Iteration 896: training loss = 0.0026 ---\n"
     ]
    },
    {
     "name": "stderr",
     "output_type": "stream",
     "text": [
      "\r",
      " 90%|██████████████████████████████████████████████████████████████████████▊        | 897/1000 [04:52<00:33,  3.06it/s]"
     ]
    },
    {
     "name": "stdout",
     "output_type": "stream",
     "text": [
      "--- Iteration 897: training loss = 0.0026 ---\n"
     ]
    },
    {
     "name": "stderr",
     "output_type": "stream",
     "text": [
      "\r",
      " 90%|██████████████████████████████████████████████████████████████████████▉        | 898/1000 [04:53<00:32,  3.09it/s]"
     ]
    },
    {
     "name": "stdout",
     "output_type": "stream",
     "text": [
      "--- Iteration 898: training loss = 0.0026 ---\n"
     ]
    },
    {
     "name": "stderr",
     "output_type": "stream",
     "text": [
      "\r",
      " 90%|███████████████████████████████████████████████████████████████████████        | 899/1000 [04:53<00:32,  3.12it/s]"
     ]
    },
    {
     "name": "stdout",
     "output_type": "stream",
     "text": [
      "--- Iteration 899: training loss = 0.0026 ---\n"
     ]
    },
    {
     "name": "stderr",
     "output_type": "stream",
     "text": [
      "\r",
      " 90%|███████████████████████████████████████████████████████████████████████        | 900/1000 [04:53<00:31,  3.15it/s]"
     ]
    },
    {
     "name": "stdout",
     "output_type": "stream",
     "text": [
      "--- Iteration 900: training loss = 0.0026 ---\n"
     ]
    },
    {
     "name": "stderr",
     "output_type": "stream",
     "text": [
      "\r",
      " 90%|███████████████████████████████████████████████████████████████████████▏       | 901/1000 [04:53<00:31,  3.16it/s]"
     ]
    },
    {
     "name": "stdout",
     "output_type": "stream",
     "text": [
      "--- Iteration 901: training loss = 0.0026 ---\n"
     ]
    },
    {
     "name": "stderr",
     "output_type": "stream",
     "text": [
      "\r",
      " 90%|███████████████████████████████████████████████████████████████████████▎       | 902/1000 [04:54<00:30,  3.20it/s]"
     ]
    },
    {
     "name": "stdout",
     "output_type": "stream",
     "text": [
      "--- Iteration 902: training loss = 0.0026 ---\n"
     ]
    },
    {
     "name": "stderr",
     "output_type": "stream",
     "text": [
      "\r",
      " 90%|███████████████████████████████████████████████████████████████████████▎       | 903/1000 [04:54<00:31,  3.11it/s]"
     ]
    },
    {
     "name": "stdout",
     "output_type": "stream",
     "text": [
      "--- Iteration 903: training loss = 0.0026 ---\n"
     ]
    },
    {
     "name": "stderr",
     "output_type": "stream",
     "text": [
      "\r",
      " 90%|███████████████████████████████████████████████████████████████████████▍       | 904/1000 [04:54<00:31,  3.05it/s]"
     ]
    },
    {
     "name": "stdout",
     "output_type": "stream",
     "text": [
      "--- Iteration 904: training loss = 0.0026 ---\n"
     ]
    },
    {
     "name": "stderr",
     "output_type": "stream",
     "text": [
      "\r",
      " 90%|███████████████████████████████████████████████████████████████████████▍       | 905/1000 [04:55<00:30,  3.15it/s]"
     ]
    },
    {
     "name": "stdout",
     "output_type": "stream",
     "text": [
      "--- Iteration 905: training loss = 0.0026 ---\n"
     ]
    },
    {
     "name": "stderr",
     "output_type": "stream",
     "text": [
      "\r",
      " 91%|███████████████████████████████████████████████████████████████████████▌       | 906/1000 [04:55<00:30,  3.10it/s]"
     ]
    },
    {
     "name": "stdout",
     "output_type": "stream",
     "text": [
      "--- Iteration 906: training loss = 0.0026 ---\n"
     ]
    },
    {
     "name": "stderr",
     "output_type": "stream",
     "text": [
      "\r",
      " 91%|███████████████████████████████████████████████████████████████████████▋       | 907/1000 [04:55<00:30,  3.01it/s]"
     ]
    },
    {
     "name": "stdout",
     "output_type": "stream",
     "text": [
      "--- Iteration 907: training loss = 0.0026 ---\n"
     ]
    },
    {
     "name": "stderr",
     "output_type": "stream",
     "text": [
      "\r",
      " 91%|███████████████████████████████████████████████████████████████████████▋       | 908/1000 [04:56<00:30,  3.06it/s]"
     ]
    },
    {
     "name": "stdout",
     "output_type": "stream",
     "text": [
      "--- Iteration 908: training loss = 0.0026 ---\n"
     ]
    },
    {
     "name": "stderr",
     "output_type": "stream",
     "text": [
      "\r",
      " 91%|███████████████████████████████████████████████████████████████████████▊       | 909/1000 [04:56<00:29,  3.04it/s]"
     ]
    },
    {
     "name": "stdout",
     "output_type": "stream",
     "text": [
      "--- Iteration 909: training loss = 0.0026 ---\n"
     ]
    },
    {
     "name": "stderr",
     "output_type": "stream",
     "text": [
      "\r",
      " 91%|███████████████████████████████████████████████████████████████████████▉       | 910/1000 [04:56<00:29,  3.01it/s]"
     ]
    },
    {
     "name": "stdout",
     "output_type": "stream",
     "text": [
      "--- Iteration 910: training loss = 0.0025 ---\n"
     ]
    },
    {
     "name": "stderr",
     "output_type": "stream",
     "text": [
      "\r",
      " 91%|███████████████████████████████████████████████████████████████████████▉       | 911/1000 [04:57<00:28,  3.08it/s]"
     ]
    },
    {
     "name": "stdout",
     "output_type": "stream",
     "text": [
      "--- Iteration 911: training loss = 0.0025 ---\n"
     ]
    },
    {
     "name": "stderr",
     "output_type": "stream",
     "text": [
      "\r",
      " 91%|████████████████████████████████████████████████████████████████████████       | 912/1000 [04:57<00:28,  3.11it/s]"
     ]
    },
    {
     "name": "stdout",
     "output_type": "stream",
     "text": [
      "--- Iteration 912: training loss = 0.0025 ---\n"
     ]
    },
    {
     "name": "stderr",
     "output_type": "stream",
     "text": [
      "\r",
      " 91%|████████████████████████████████████████████████████████████████████████▏      | 913/1000 [04:57<00:28,  3.02it/s]"
     ]
    },
    {
     "name": "stdout",
     "output_type": "stream",
     "text": [
      "--- Iteration 913: training loss = 0.0025 ---\n"
     ]
    },
    {
     "name": "stderr",
     "output_type": "stream",
     "text": [
      "\r",
      " 91%|████████████████████████████████████████████████████████████████████████▏      | 914/1000 [04:58<00:27,  3.10it/s]"
     ]
    },
    {
     "name": "stdout",
     "output_type": "stream",
     "text": [
      "--- Iteration 914: training loss = 0.0025 ---\n"
     ]
    },
    {
     "name": "stderr",
     "output_type": "stream",
     "text": [
      "\r",
      " 92%|████████████████████████████████████████████████████████████████████████▎      | 915/1000 [04:58<00:27,  3.06it/s]"
     ]
    },
    {
     "name": "stdout",
     "output_type": "stream",
     "text": [
      "--- Iteration 915: training loss = 0.0025 ---\n"
     ]
    },
    {
     "name": "stderr",
     "output_type": "stream",
     "text": [
      "\r",
      " 92%|████████████████████████████████████████████████████████████████████████▎      | 916/1000 [04:58<00:27,  3.01it/s]"
     ]
    },
    {
     "name": "stdout",
     "output_type": "stream",
     "text": [
      "--- Iteration 916: training loss = 0.0025 ---\n"
     ]
    },
    {
     "name": "stderr",
     "output_type": "stream",
     "text": [
      "\r",
      " 92%|████████████████████████████████████████████████████████████████████████▍      | 917/1000 [04:59<00:26,  3.09it/s]"
     ]
    },
    {
     "name": "stdout",
     "output_type": "stream",
     "text": [
      "--- Iteration 917: training loss = 0.0025 ---\n"
     ]
    },
    {
     "name": "stderr",
     "output_type": "stream",
     "text": [
      "\r",
      " 92%|████████████████████████████████████████████████████████████████████████▌      | 918/1000 [04:59<00:27,  2.95it/s]"
     ]
    },
    {
     "name": "stdout",
     "output_type": "stream",
     "text": [
      "--- Iteration 918: training loss = 0.0025 ---\n"
     ]
    },
    {
     "name": "stderr",
     "output_type": "stream",
     "text": [
      "\r",
      " 92%|████████████████████████████████████████████████████████████████████████▌      | 919/1000 [04:59<00:27,  2.91it/s]"
     ]
    },
    {
     "name": "stdout",
     "output_type": "stream",
     "text": [
      "--- Iteration 919: training loss = 0.0025 ---\n"
     ]
    },
    {
     "name": "stderr",
     "output_type": "stream",
     "text": [
      "\r",
      " 92%|████████████████████████████████████████████████████████████████████████▋      | 920/1000 [05:00<00:27,  2.86it/s]"
     ]
    },
    {
     "name": "stdout",
     "output_type": "stream",
     "text": [
      "--- Iteration 920: training loss = 0.0025 ---\n"
     ]
    },
    {
     "name": "stderr",
     "output_type": "stream",
     "text": [
      "\r",
      " 92%|████████████████████████████████████████████████████████████████████████▊      | 921/1000 [05:00<00:27,  2.90it/s]"
     ]
    },
    {
     "name": "stdout",
     "output_type": "stream",
     "text": [
      "--- Iteration 921: training loss = 0.0025 ---\n"
     ]
    },
    {
     "name": "stderr",
     "output_type": "stream",
     "text": [
      "\r",
      " 92%|████████████████████████████████████████████████████████████████████████▊      | 922/1000 [05:00<00:26,  2.93it/s]"
     ]
    },
    {
     "name": "stdout",
     "output_type": "stream",
     "text": [
      "--- Iteration 922: training loss = 0.0025 ---\n"
     ]
    },
    {
     "name": "stderr",
     "output_type": "stream",
     "text": [
      "\r",
      " 92%|████████████████████████████████████████████████████████████████████████▉      | 923/1000 [05:01<00:25,  2.97it/s]"
     ]
    },
    {
     "name": "stdout",
     "output_type": "stream",
     "text": [
      "--- Iteration 923: training loss = 0.0025 ---\n"
     ]
    },
    {
     "name": "stderr",
     "output_type": "stream",
     "text": [
      "\r",
      " 92%|████████████████████████████████████████████████████████████████████████▉      | 924/1000 [05:01<00:25,  2.98it/s]"
     ]
    },
    {
     "name": "stdout",
     "output_type": "stream",
     "text": [
      "--- Iteration 924: training loss = 0.0025 ---\n"
     ]
    },
    {
     "name": "stderr",
     "output_type": "stream",
     "text": [
      "\r",
      " 92%|█████████████████████████████████████████████████████████████████████████      | 925/1000 [05:01<00:25,  2.96it/s]"
     ]
    },
    {
     "name": "stdout",
     "output_type": "stream",
     "text": [
      "--- Iteration 925: training loss = 0.0025 ---\n"
     ]
    },
    {
     "name": "stderr",
     "output_type": "stream",
     "text": [
      "\r",
      " 93%|█████████████████████████████████████████████████████████████████████████▏     | 926/1000 [05:02<00:24,  2.97it/s]"
     ]
    },
    {
     "name": "stdout",
     "output_type": "stream",
     "text": [
      "--- Iteration 926: training loss = 0.0025 ---\n"
     ]
    },
    {
     "name": "stderr",
     "output_type": "stream",
     "text": [
      "\r",
      " 93%|█████████████████████████████████████████████████████████████████████████▏     | 927/1000 [05:02<00:24,  2.95it/s]"
     ]
    },
    {
     "name": "stdout",
     "output_type": "stream",
     "text": [
      "--- Iteration 927: training loss = 0.0025 ---\n"
     ]
    },
    {
     "name": "stderr",
     "output_type": "stream",
     "text": [
      "\r",
      " 93%|█████████████████████████████████████████████████████████████████████████▎     | 928/1000 [05:02<00:23,  3.03it/s]"
     ]
    },
    {
     "name": "stdout",
     "output_type": "stream",
     "text": [
      "--- Iteration 928: training loss = 0.0025 ---\n"
     ]
    },
    {
     "name": "stderr",
     "output_type": "stream",
     "text": [
      "\r",
      " 93%|█████████████████████████████████████████████████████████████████████████▍     | 929/1000 [05:03<00:22,  3.11it/s]"
     ]
    },
    {
     "name": "stdout",
     "output_type": "stream",
     "text": [
      "--- Iteration 929: training loss = 0.0025 ---\n"
     ]
    },
    {
     "name": "stderr",
     "output_type": "stream",
     "text": [
      "\r",
      " 93%|█████████████████████████████████████████████████████████████████████████▍     | 930/1000 [05:03<00:22,  3.09it/s]"
     ]
    },
    {
     "name": "stdout",
     "output_type": "stream",
     "text": [
      "--- Iteration 930: training loss = 0.0025 ---\n"
     ]
    },
    {
     "name": "stderr",
     "output_type": "stream",
     "text": [
      "\r",
      " 93%|█████████████████████████████████████████████████████████████████████████▌     | 931/1000 [05:03<00:22,  3.12it/s]"
     ]
    },
    {
     "name": "stdout",
     "output_type": "stream",
     "text": [
      "--- Iteration 931: training loss = 0.0025 ---\n"
     ]
    },
    {
     "name": "stderr",
     "output_type": "stream",
     "text": [
      "\r",
      " 93%|█████████████████████████████████████████████████████████████████████████▋     | 932/1000 [05:04<00:21,  3.17it/s]"
     ]
    },
    {
     "name": "stdout",
     "output_type": "stream",
     "text": [
      "--- Iteration 932: training loss = 0.0025 ---\n"
     ]
    },
    {
     "name": "stderr",
     "output_type": "stream",
     "text": [
      "\r",
      " 93%|█████████████████████████████████████████████████████████████████████████▋     | 933/1000 [05:04<00:21,  3.14it/s]"
     ]
    },
    {
     "name": "stdout",
     "output_type": "stream",
     "text": [
      "--- Iteration 933: training loss = 0.0025 ---\n"
     ]
    },
    {
     "name": "stderr",
     "output_type": "stream",
     "text": [
      "\r",
      " 93%|█████████████████████████████████████████████████████████████████████████▊     | 934/1000 [05:04<00:20,  3.16it/s]"
     ]
    },
    {
     "name": "stdout",
     "output_type": "stream",
     "text": [
      "--- Iteration 934: training loss = 0.0025 ---\n"
     ]
    },
    {
     "name": "stderr",
     "output_type": "stream",
     "text": [
      "\r",
      " 94%|█████████████████████████████████████████████████████████████████████████▊     | 935/1000 [05:05<00:20,  3.21it/s]"
     ]
    },
    {
     "name": "stdout",
     "output_type": "stream",
     "text": [
      "--- Iteration 935: training loss = 0.0025 ---\n"
     ]
    },
    {
     "name": "stderr",
     "output_type": "stream",
     "text": [
      "\r",
      " 94%|█████████████████████████████████████████████████████████████████████████▉     | 936/1000 [05:05<00:19,  3.26it/s]"
     ]
    },
    {
     "name": "stdout",
     "output_type": "stream",
     "text": [
      "--- Iteration 936: training loss = 0.0025 ---\n"
     ]
    },
    {
     "name": "stderr",
     "output_type": "stream",
     "text": [
      "\r",
      " 94%|██████████████████████████████████████████████████████████████████████████     | 937/1000 [05:05<00:19,  3.26it/s]"
     ]
    },
    {
     "name": "stdout",
     "output_type": "stream",
     "text": [
      "--- Iteration 937: training loss = 0.0025 ---\n"
     ]
    },
    {
     "name": "stderr",
     "output_type": "stream",
     "text": [
      "\r",
      " 94%|██████████████████████████████████████████████████████████████████████████     | 938/1000 [05:06<00:19,  3.18it/s]"
     ]
    },
    {
     "name": "stdout",
     "output_type": "stream",
     "text": [
      "--- Iteration 938: training loss = 0.0025 ---\n"
     ]
    },
    {
     "name": "stderr",
     "output_type": "stream",
     "text": [
      "\r",
      " 94%|██████████████████████████████████████████████████████████████████████████▏    | 939/1000 [05:06<00:19,  3.15it/s]"
     ]
    },
    {
     "name": "stdout",
     "output_type": "stream",
     "text": [
      "--- Iteration 939: training loss = 0.0025 ---\n"
     ]
    },
    {
     "name": "stderr",
     "output_type": "stream",
     "text": [
      "\r",
      " 94%|██████████████████████████████████████████████████████████████████████████▎    | 940/1000 [05:06<00:18,  3.20it/s]"
     ]
    },
    {
     "name": "stdout",
     "output_type": "stream",
     "text": [
      "--- Iteration 940: training loss = 0.0025 ---\n"
     ]
    },
    {
     "name": "stderr",
     "output_type": "stream",
     "text": [
      "\r",
      " 94%|██████████████████████████████████████████████████████████████████████████▎    | 941/1000 [05:07<00:18,  3.13it/s]"
     ]
    },
    {
     "name": "stdout",
     "output_type": "stream",
     "text": [
      "--- Iteration 941: training loss = 0.0025 ---\n"
     ]
    },
    {
     "name": "stderr",
     "output_type": "stream",
     "text": [
      "\r",
      " 94%|██████████████████████████████████████████████████████████████████████████▍    | 942/1000 [05:07<00:18,  3.14it/s]"
     ]
    },
    {
     "name": "stdout",
     "output_type": "stream",
     "text": [
      "--- Iteration 942: training loss = 0.0025 ---\n"
     ]
    },
    {
     "name": "stderr",
     "output_type": "stream",
     "text": [
      "\r",
      " 94%|██████████████████████████████████████████████████████████████████████████▍    | 943/1000 [05:07<00:18,  3.10it/s]"
     ]
    },
    {
     "name": "stdout",
     "output_type": "stream",
     "text": [
      "--- Iteration 943: training loss = 0.0025 ---\n"
     ]
    },
    {
     "name": "stderr",
     "output_type": "stream",
     "text": [
      "\r",
      " 94%|██████████████████████████████████████████████████████████████████████████▌    | 944/1000 [05:08<00:18,  3.04it/s]"
     ]
    },
    {
     "name": "stdout",
     "output_type": "stream",
     "text": [
      "--- Iteration 944: training loss = 0.0025 ---\n"
     ]
    },
    {
     "name": "stderr",
     "output_type": "stream",
     "text": [
      "\r",
      " 94%|██████████████████████████████████████████████████████████████████████████▋    | 945/1000 [05:08<00:17,  3.11it/s]"
     ]
    },
    {
     "name": "stdout",
     "output_type": "stream",
     "text": [
      "--- Iteration 945: training loss = 0.0025 ---\n"
     ]
    },
    {
     "name": "stderr",
     "output_type": "stream",
     "text": [
      "\r",
      " 95%|██████████████████████████████████████████████████████████████████████████▋    | 946/1000 [05:08<00:17,  3.04it/s]"
     ]
    },
    {
     "name": "stdout",
     "output_type": "stream",
     "text": [
      "--- Iteration 946: training loss = 0.0025 ---\n"
     ]
    },
    {
     "name": "stderr",
     "output_type": "stream",
     "text": [
      "\r",
      " 95%|██████████████████████████████████████████████████████████████████████████▊    | 947/1000 [05:08<00:17,  3.03it/s]"
     ]
    },
    {
     "name": "stdout",
     "output_type": "stream",
     "text": [
      "--- Iteration 947: training loss = 0.0025 ---\n"
     ]
    },
    {
     "name": "stderr",
     "output_type": "stream",
     "text": [
      "\r",
      " 95%|██████████████████████████████████████████████████████████████████████████▉    | 948/1000 [05:09<00:17,  2.99it/s]"
     ]
    },
    {
     "name": "stdout",
     "output_type": "stream",
     "text": [
      "--- Iteration 948: training loss = 0.0025 ---\n"
     ]
    },
    {
     "name": "stderr",
     "output_type": "stream",
     "text": [
      "\r",
      " 95%|██████████████████████████████████████████████████████████████████████████▉    | 949/1000 [05:09<00:17,  2.99it/s]"
     ]
    },
    {
     "name": "stdout",
     "output_type": "stream",
     "text": [
      "--- Iteration 949: training loss = 0.0025 ---\n"
     ]
    },
    {
     "name": "stderr",
     "output_type": "stream",
     "text": [
      "\r",
      " 95%|███████████████████████████████████████████████████████████████████████████    | 950/1000 [05:09<00:16,  3.02it/s]"
     ]
    },
    {
     "name": "stdout",
     "output_type": "stream",
     "text": [
      "--- Iteration 950: training loss = 0.0025 ---\n"
     ]
    },
    {
     "name": "stderr",
     "output_type": "stream",
     "text": [
      "\r",
      " 95%|███████████████████████████████████████████████████████████████████████████▏   | 951/1000 [05:10<00:16,  3.02it/s]"
     ]
    },
    {
     "name": "stdout",
     "output_type": "stream",
     "text": [
      "--- Iteration 951: training loss = 0.0024 ---\n"
     ]
    },
    {
     "name": "stderr",
     "output_type": "stream",
     "text": [
      "\r",
      " 95%|███████████████████████████████████████████████████████████████████████████▏   | 952/1000 [05:10<00:16,  2.98it/s]"
     ]
    },
    {
     "name": "stdout",
     "output_type": "stream",
     "text": [
      "--- Iteration 952: training loss = 0.0024 ---\n"
     ]
    },
    {
     "name": "stderr",
     "output_type": "stream",
     "text": [
      "\r",
      " 95%|███████████████████████████████████████████████████████████████████████████▎   | 953/1000 [05:10<00:15,  3.04it/s]"
     ]
    },
    {
     "name": "stdout",
     "output_type": "stream",
     "text": [
      "--- Iteration 953: training loss = 0.0024 ---\n"
     ]
    },
    {
     "name": "stderr",
     "output_type": "stream",
     "text": [
      "\r",
      " 95%|███████████████████████████████████████████████████████████████████████████▎   | 954/1000 [05:11<00:15,  2.94it/s]"
     ]
    },
    {
     "name": "stdout",
     "output_type": "stream",
     "text": [
      "--- Iteration 954: training loss = 0.0024 ---\n"
     ]
    },
    {
     "name": "stderr",
     "output_type": "stream",
     "text": [
      "\r",
      " 96%|███████████████████████████████████████████████████████████████████████████▍   | 955/1000 [05:11<00:15,  2.88it/s]"
     ]
    },
    {
     "name": "stdout",
     "output_type": "stream",
     "text": [
      "--- Iteration 955: training loss = 0.0024 ---\n"
     ]
    },
    {
     "name": "stderr",
     "output_type": "stream",
     "text": [
      "\r",
      " 96%|███████████████████████████████████████████████████████████████████████████▌   | 956/1000 [05:12<00:15,  2.88it/s]"
     ]
    },
    {
     "name": "stdout",
     "output_type": "stream",
     "text": [
      "--- Iteration 956: training loss = 0.0024 ---\n"
     ]
    },
    {
     "name": "stderr",
     "output_type": "stream",
     "text": [
      "\r",
      " 96%|███████████████████████████████████████████████████████████████████████████▌   | 957/1000 [05:12<00:14,  3.03it/s]"
     ]
    },
    {
     "name": "stdout",
     "output_type": "stream",
     "text": [
      "--- Iteration 957: training loss = 0.0024 ---\n"
     ]
    },
    {
     "name": "stderr",
     "output_type": "stream",
     "text": [
      "\r",
      " 96%|███████████████████████████████████████████████████████████████████████████▋   | 958/1000 [05:12<00:13,  3.02it/s]"
     ]
    },
    {
     "name": "stdout",
     "output_type": "stream",
     "text": [
      "--- Iteration 958: training loss = 0.0024 ---\n"
     ]
    },
    {
     "name": "stderr",
     "output_type": "stream",
     "text": [
      "\r",
      " 96%|███████████████████████████████████████████████████████████████████████████▊   | 959/1000 [05:13<00:13,  2.98it/s]"
     ]
    },
    {
     "name": "stdout",
     "output_type": "stream",
     "text": [
      "--- Iteration 959: training loss = 0.0024 ---\n"
     ]
    },
    {
     "name": "stderr",
     "output_type": "stream",
     "text": [
      "\r",
      " 96%|███████████████████████████████████████████████████████████████████████████▊   | 960/1000 [05:13<00:13,  3.07it/s]"
     ]
    },
    {
     "name": "stdout",
     "output_type": "stream",
     "text": [
      "--- Iteration 960: training loss = 0.0024 ---\n"
     ]
    },
    {
     "name": "stderr",
     "output_type": "stream",
     "text": [
      "\r",
      " 96%|███████████████████████████████████████████████████████████████████████████▉   | 961/1000 [05:13<00:12,  3.13it/s]"
     ]
    },
    {
     "name": "stdout",
     "output_type": "stream",
     "text": [
      "--- Iteration 961: training loss = 0.0024 ---\n"
     ]
    },
    {
     "name": "stderr",
     "output_type": "stream",
     "text": [
      "\r",
      " 96%|███████████████████████████████████████████████████████████████████████████▉   | 962/1000 [05:13<00:12,  3.06it/s]"
     ]
    },
    {
     "name": "stdout",
     "output_type": "stream",
     "text": [
      "--- Iteration 962: training loss = 0.0024 ---\n"
     ]
    },
    {
     "name": "stderr",
     "output_type": "stream",
     "text": [
      "\r",
      " 96%|████████████████████████████████████████████████████████████████████████████   | 963/1000 [05:14<00:11,  3.14it/s]"
     ]
    },
    {
     "name": "stdout",
     "output_type": "stream",
     "text": [
      "--- Iteration 963: training loss = 0.0024 ---\n"
     ]
    },
    {
     "name": "stderr",
     "output_type": "stream",
     "text": [
      "\r",
      " 96%|████████████████████████████████████████████████████████████████████████████▏  | 964/1000 [05:14<00:11,  3.06it/s]"
     ]
    },
    {
     "name": "stdout",
     "output_type": "stream",
     "text": [
      "--- Iteration 964: training loss = 0.0024 ---\n"
     ]
    },
    {
     "name": "stderr",
     "output_type": "stream",
     "text": [
      "\r",
      " 96%|████████████████████████████████████████████████████████████████████████████▏  | 965/1000 [05:14<00:11,  3.04it/s]"
     ]
    },
    {
     "name": "stdout",
     "output_type": "stream",
     "text": [
      "--- Iteration 965: training loss = 0.0024 ---\n"
     ]
    },
    {
     "name": "stderr",
     "output_type": "stream",
     "text": [
      "\r",
      " 97%|████████████████████████████████████████████████████████████████████████████▎  | 966/1000 [05:15<00:11,  3.08it/s]"
     ]
    },
    {
     "name": "stdout",
     "output_type": "stream",
     "text": [
      "--- Iteration 966: training loss = 0.0024 ---\n"
     ]
    },
    {
     "name": "stderr",
     "output_type": "stream",
     "text": [
      "\r",
      " 97%|████████████████████████████████████████████████████████████████████████████▍  | 967/1000 [05:15<00:10,  3.09it/s]"
     ]
    },
    {
     "name": "stdout",
     "output_type": "stream",
     "text": [
      "--- Iteration 967: training loss = 0.0024 ---\n"
     ]
    },
    {
     "name": "stderr",
     "output_type": "stream",
     "text": [
      "\r",
      " 97%|████████████████████████████████████████████████████████████████████████████▍  | 968/1000 [05:15<00:10,  3.12it/s]"
     ]
    },
    {
     "name": "stdout",
     "output_type": "stream",
     "text": [
      "--- Iteration 968: training loss = 0.0024 ---\n"
     ]
    },
    {
     "name": "stderr",
     "output_type": "stream",
     "text": [
      "\r",
      " 97%|████████████████████████████████████████████████████████████████████████████▌  | 969/1000 [05:16<00:09,  3.14it/s]"
     ]
    },
    {
     "name": "stdout",
     "output_type": "stream",
     "text": [
      "--- Iteration 969: training loss = 0.0024 ---\n"
     ]
    },
    {
     "name": "stderr",
     "output_type": "stream",
     "text": [
      "\r",
      " 97%|████████████████████████████████████████████████████████████████████████████▋  | 970/1000 [05:16<00:09,  3.04it/s]"
     ]
    },
    {
     "name": "stdout",
     "output_type": "stream",
     "text": [
      "--- Iteration 970: training loss = 0.0024 ---\n"
     ]
    },
    {
     "name": "stderr",
     "output_type": "stream",
     "text": [
      "\r",
      " 97%|████████████████████████████████████████████████████████████████████████████▋  | 971/1000 [05:16<00:09,  3.08it/s]"
     ]
    },
    {
     "name": "stdout",
     "output_type": "stream",
     "text": [
      "--- Iteration 971: training loss = 0.0024 ---\n"
     ]
    },
    {
     "name": "stderr",
     "output_type": "stream",
     "text": [
      "\r",
      " 97%|████████████████████████████████████████████████████████████████████████████▊  | 972/1000 [05:17<00:08,  3.14it/s]"
     ]
    },
    {
     "name": "stdout",
     "output_type": "stream",
     "text": [
      "--- Iteration 972: training loss = 0.0024 ---\n"
     ]
    },
    {
     "name": "stderr",
     "output_type": "stream",
     "text": [
      "\r",
      " 97%|████████████████████████████████████████████████████████████████████████████▊  | 973/1000 [05:17<00:08,  3.15it/s]"
     ]
    },
    {
     "name": "stdout",
     "output_type": "stream",
     "text": [
      "--- Iteration 973: training loss = 0.0024 ---\n"
     ]
    },
    {
     "name": "stderr",
     "output_type": "stream",
     "text": [
      "\r",
      " 97%|████████████████████████████████████████████████████████████████████████████▉  | 974/1000 [05:17<00:08,  3.07it/s]"
     ]
    },
    {
     "name": "stdout",
     "output_type": "stream",
     "text": [
      "--- Iteration 974: training loss = 0.0024 ---\n"
     ]
    },
    {
     "name": "stderr",
     "output_type": "stream",
     "text": [
      "\r",
      " 98%|█████████████████████████████████████████████████████████████████████████████  | 975/1000 [05:18<00:08,  2.97it/s]"
     ]
    },
    {
     "name": "stdout",
     "output_type": "stream",
     "text": [
      "--- Iteration 975: training loss = 0.0024 ---\n"
     ]
    },
    {
     "name": "stderr",
     "output_type": "stream",
     "text": [
      "\r",
      " 98%|█████████████████████████████████████████████████████████████████████████████  | 976/1000 [05:18<00:07,  3.01it/s]"
     ]
    },
    {
     "name": "stdout",
     "output_type": "stream",
     "text": [
      "--- Iteration 976: training loss = 0.0024 ---\n"
     ]
    },
    {
     "name": "stderr",
     "output_type": "stream",
     "text": [
      "\r",
      " 98%|█████████████████████████████████████████████████████████████████████████████▏ | 977/1000 [05:18<00:07,  3.03it/s]"
     ]
    },
    {
     "name": "stdout",
     "output_type": "stream",
     "text": [
      "--- Iteration 977: training loss = 0.0024 ---\n"
     ]
    },
    {
     "name": "stderr",
     "output_type": "stream",
     "text": [
      "\r",
      " 98%|█████████████████████████████████████████████████████████████████████████████▎ | 978/1000 [05:19<00:07,  2.99it/s]"
     ]
    },
    {
     "name": "stdout",
     "output_type": "stream",
     "text": [
      "--- Iteration 978: training loss = 0.0024 ---\n"
     ]
    },
    {
     "name": "stderr",
     "output_type": "stream",
     "text": [
      "\r",
      " 98%|█████████████████████████████████████████████████████████████████████████████▎ | 979/1000 [05:19<00:06,  3.02it/s]"
     ]
    },
    {
     "name": "stdout",
     "output_type": "stream",
     "text": [
      "--- Iteration 979: training loss = 0.0024 ---\n"
     ]
    },
    {
     "name": "stderr",
     "output_type": "stream",
     "text": [
      "\r",
      " 98%|█████████████████████████████████████████████████████████████████████████████▍ | 980/1000 [05:19<00:06,  3.02it/s]"
     ]
    },
    {
     "name": "stdout",
     "output_type": "stream",
     "text": [
      "--- Iteration 980: training loss = 0.0024 ---\n"
     ]
    },
    {
     "name": "stderr",
     "output_type": "stream",
     "text": [
      "\r",
      " 98%|█████████████████████████████████████████████████████████████████████████████▍ | 981/1000 [05:20<00:06,  3.10it/s]"
     ]
    },
    {
     "name": "stdout",
     "output_type": "stream",
     "text": [
      "--- Iteration 981: training loss = 0.0024 ---\n"
     ]
    },
    {
     "name": "stderr",
     "output_type": "stream",
     "text": [
      "\r",
      " 98%|█████████████████████████████████████████████████████████████████████████████▌ | 982/1000 [05:20<00:06,  2.91it/s]"
     ]
    },
    {
     "name": "stdout",
     "output_type": "stream",
     "text": [
      "--- Iteration 982: training loss = 0.0024 ---\n"
     ]
    },
    {
     "name": "stderr",
     "output_type": "stream",
     "text": [
      "\r",
      " 98%|█████████████████████████████████████████████████████████████████████████████▋ | 983/1000 [05:20<00:05,  2.90it/s]"
     ]
    },
    {
     "name": "stdout",
     "output_type": "stream",
     "text": [
      "--- Iteration 983: training loss = 0.0024 ---\n"
     ]
    },
    {
     "name": "stderr",
     "output_type": "stream",
     "text": [
      "\r",
      " 98%|█████████████████████████████████████████████████████████████████████████████▋ | 984/1000 [05:21<00:05,  3.01it/s]"
     ]
    },
    {
     "name": "stdout",
     "output_type": "stream",
     "text": [
      "--- Iteration 984: training loss = 0.0024 ---\n"
     ]
    },
    {
     "name": "stderr",
     "output_type": "stream",
     "text": [
      "\r",
      " 98%|█████████████████████████████████████████████████████████████████████████████▊ | 985/1000 [05:21<00:04,  3.07it/s]"
     ]
    },
    {
     "name": "stdout",
     "output_type": "stream",
     "text": [
      "--- Iteration 985: training loss = 0.0024 ---\n"
     ]
    },
    {
     "name": "stderr",
     "output_type": "stream",
     "text": [
      "\r",
      " 99%|█████████████████████████████████████████████████████████████████████████████▉ | 986/1000 [05:21<00:04,  3.07it/s]"
     ]
    },
    {
     "name": "stdout",
     "output_type": "stream",
     "text": [
      "--- Iteration 986: training loss = 0.0024 ---\n"
     ]
    },
    {
     "name": "stderr",
     "output_type": "stream",
     "text": [
      "\r",
      " 99%|█████████████████████████████████████████████████████████████████████████████▉ | 987/1000 [05:22<00:04,  3.11it/s]"
     ]
    },
    {
     "name": "stdout",
     "output_type": "stream",
     "text": [
      "--- Iteration 987: training loss = 0.0024 ---\n"
     ]
    },
    {
     "name": "stderr",
     "output_type": "stream",
     "text": [
      "\r",
      " 99%|██████████████████████████████████████████████████████████████████████████████ | 988/1000 [05:22<00:03,  3.10it/s]"
     ]
    },
    {
     "name": "stdout",
     "output_type": "stream",
     "text": [
      "--- Iteration 988: training loss = 0.0024 ---\n"
     ]
    },
    {
     "name": "stderr",
     "output_type": "stream",
     "text": [
      "\r",
      " 99%|██████████████████████████████████████████████████████████████████████████████▏| 989/1000 [05:22<00:03,  2.99it/s]"
     ]
    },
    {
     "name": "stdout",
     "output_type": "stream",
     "text": [
      "--- Iteration 989: training loss = 0.0024 ---\n"
     ]
    },
    {
     "name": "stderr",
     "output_type": "stream",
     "text": [
      "\r",
      " 99%|██████████████████████████████████████████████████████████████████████████████▏| 990/1000 [05:23<00:03,  2.99it/s]"
     ]
    },
    {
     "name": "stdout",
     "output_type": "stream",
     "text": [
      "--- Iteration 990: training loss = 0.0024 ---\n"
     ]
    },
    {
     "name": "stderr",
     "output_type": "stream",
     "text": [
      "\r",
      " 99%|██████████████████████████████████████████████████████████████████████████████▎| 991/1000 [05:23<00:02,  3.05it/s]"
     ]
    },
    {
     "name": "stdout",
     "output_type": "stream",
     "text": [
      "--- Iteration 991: training loss = 0.0024 ---\n"
     ]
    },
    {
     "name": "stderr",
     "output_type": "stream",
     "text": [
      "\r",
      " 99%|██████████████████████████████████████████████████████████████████████████████▎| 992/1000 [05:23<00:02,  3.09it/s]"
     ]
    },
    {
     "name": "stdout",
     "output_type": "stream",
     "text": [
      "--- Iteration 992: training loss = 0.0024 ---\n"
     ]
    },
    {
     "name": "stderr",
     "output_type": "stream",
     "text": [
      "\r",
      " 99%|██████████████████████████████████████████████████████████████████████████████▍| 993/1000 [05:24<00:02,  3.12it/s]"
     ]
    },
    {
     "name": "stdout",
     "output_type": "stream",
     "text": [
      "--- Iteration 993: training loss = 0.0024 ---\n"
     ]
    },
    {
     "name": "stderr",
     "output_type": "stream",
     "text": [
      "\r",
      " 99%|██████████████████████████████████████████████████████████████████████████████▌| 994/1000 [05:24<00:01,  3.16it/s]"
     ]
    },
    {
     "name": "stdout",
     "output_type": "stream",
     "text": [
      "--- Iteration 994: training loss = 0.0024 ---\n"
     ]
    },
    {
     "name": "stderr",
     "output_type": "stream",
     "text": [
      "\r",
      "100%|██████████████████████████████████████████████████████████████████████████████▌| 995/1000 [05:24<00:01,  3.20it/s]"
     ]
    },
    {
     "name": "stdout",
     "output_type": "stream",
     "text": [
      "--- Iteration 995: training loss = 0.0024 ---\n"
     ]
    },
    {
     "name": "stderr",
     "output_type": "stream",
     "text": [
      "\r",
      "100%|██████████████████████████████████████████████████████████████████████████████▋| 996/1000 [05:25<00:01,  3.17it/s]"
     ]
    },
    {
     "name": "stdout",
     "output_type": "stream",
     "text": [
      "--- Iteration 996: training loss = 0.0023 ---\n"
     ]
    },
    {
     "name": "stderr",
     "output_type": "stream",
     "text": [
      "\r",
      "100%|██████████████████████████████████████████████████████████████████████████████▊| 997/1000 [05:25<00:00,  3.21it/s]"
     ]
    },
    {
     "name": "stdout",
     "output_type": "stream",
     "text": [
      "--- Iteration 997: training loss = 0.0023 ---\n"
     ]
    },
    {
     "name": "stderr",
     "output_type": "stream",
     "text": [
      "\r",
      "100%|██████████████████████████████████████████████████████████████████████████████▊| 998/1000 [05:25<00:00,  3.08it/s]"
     ]
    },
    {
     "name": "stdout",
     "output_type": "stream",
     "text": [
      "--- Iteration 998: training loss = 0.0023 ---\n"
     ]
    },
    {
     "name": "stderr",
     "output_type": "stream",
     "text": [
      "\r",
      "100%|██████████████████████████████████████████████████████████████████████████████▉| 999/1000 [05:26<00:00,  3.11it/s]"
     ]
    },
    {
     "name": "stdout",
     "output_type": "stream",
     "text": [
      "--- Iteration 999: training loss = 0.0023 ---\n"
     ]
    },
    {
     "name": "stderr",
     "output_type": "stream",
     "text": [
      "100%|██████████████████████████████████████████████████████████████████████████████| 1000/1000 [05:26<00:00,  3.06it/s]"
     ]
    },
    {
     "name": "stdout",
     "output_type": "stream",
     "text": [
      "--- Iteration 1000: training loss = 0.0023 ---\n"
     ]
    },
    {
     "name": "stderr",
     "output_type": "stream",
     "text": [
      "\n"
     ]
    }
   ],
   "source": [
    "model.train()\n",
    "loss_curve = []\n",
    "\n",
    "for epoch in tqdm(range(num_epochs)):\n",
    "    y_hat = model(x_train)\n",
    "    loss = criterion(y_hat,y_train)\n",
    "    loss_curve += [loss.item()]\n",
    "    optimiser.zero_grad()\n",
    "    loss.backward()\n",
    "    optimiser.step()\n",
    "    print('--- Iteration {0}: training loss = {1:.4f} ---'.format(epoch + 1, np.array(loss_curve).mean()))"
   ]
  },
  {
   "cell_type": "code",
   "execution_count": 107,
   "metadata": {},
   "outputs": [
    {
     "name": "stdout",
     "output_type": "stream",
     "text": [
      "(2999, 1)\n",
      "(2999, 1)\n"
     ]
    }
   ],
   "source": [
    "model.eval()\n",
    "pred_scaled = model(df)\n",
    "pred_scaled = pred_scaled.data.numpy()\n",
    "\n",
    "pred = 0.5*((pred_scaled+1)*(max_val-min_val))+min_val\n",
    "print(pred.shape)\n",
    "print(stock.tail(-20).shape)"
   ]
  },
  {
   "cell_type": "code",
   "execution_count": 114,
   "metadata": {},
   "outputs": [
    {
     "data": {
      "application/javascript": [
       "/* Put everything inside the global mpl namespace */\n",
       "/* global mpl */\n",
       "window.mpl = {};\n",
       "\n",
       "mpl.get_websocket_type = function () {\n",
       "    if (typeof WebSocket !== 'undefined') {\n",
       "        return WebSocket;\n",
       "    } else if (typeof MozWebSocket !== 'undefined') {\n",
       "        return MozWebSocket;\n",
       "    } else {\n",
       "        alert(\n",
       "            'Your browser does not have WebSocket support. ' +\n",
       "                'Please try Chrome, Safari or Firefox ≥ 6. ' +\n",
       "                'Firefox 4 and 5 are also supported but you ' +\n",
       "                'have to enable WebSockets in about:config.'\n",
       "        );\n",
       "    }\n",
       "};\n",
       "\n",
       "mpl.figure = function (figure_id, websocket, ondownload, parent_element) {\n",
       "    this.id = figure_id;\n",
       "\n",
       "    this.ws = websocket;\n",
       "\n",
       "    this.supports_binary = this.ws.binaryType !== undefined;\n",
       "\n",
       "    if (!this.supports_binary) {\n",
       "        var warnings = document.getElementById('mpl-warnings');\n",
       "        if (warnings) {\n",
       "            warnings.style.display = 'block';\n",
       "            warnings.textContent =\n",
       "                'This browser does not support binary websocket messages. ' +\n",
       "                'Performance may be slow.';\n",
       "        }\n",
       "    }\n",
       "\n",
       "    this.imageObj = new Image();\n",
       "\n",
       "    this.context = undefined;\n",
       "    this.message = undefined;\n",
       "    this.canvas = undefined;\n",
       "    this.rubberband_canvas = undefined;\n",
       "    this.rubberband_context = undefined;\n",
       "    this.format_dropdown = undefined;\n",
       "\n",
       "    this.image_mode = 'full';\n",
       "\n",
       "    this.root = document.createElement('div');\n",
       "    this.root.setAttribute('style', 'display: inline-block');\n",
       "    this._root_extra_style(this.root);\n",
       "\n",
       "    parent_element.appendChild(this.root);\n",
       "\n",
       "    this._init_header(this);\n",
       "    this._init_canvas(this);\n",
       "    this._init_toolbar(this);\n",
       "\n",
       "    var fig = this;\n",
       "\n",
       "    this.waiting = false;\n",
       "\n",
       "    this.ws.onopen = function () {\n",
       "        fig.send_message('supports_binary', { value: fig.supports_binary });\n",
       "        fig.send_message('send_image_mode', {});\n",
       "        if (fig.ratio !== 1) {\n",
       "            fig.send_message('set_dpi_ratio', { dpi_ratio: fig.ratio });\n",
       "        }\n",
       "        fig.send_message('refresh', {});\n",
       "    };\n",
       "\n",
       "    this.imageObj.onload = function () {\n",
       "        if (fig.image_mode === 'full') {\n",
       "            // Full images could contain transparency (where diff images\n",
       "            // almost always do), so we need to clear the canvas so that\n",
       "            // there is no ghosting.\n",
       "            fig.context.clearRect(0, 0, fig.canvas.width, fig.canvas.height);\n",
       "        }\n",
       "        fig.context.drawImage(fig.imageObj, 0, 0);\n",
       "    };\n",
       "\n",
       "    this.imageObj.onunload = function () {\n",
       "        fig.ws.close();\n",
       "    };\n",
       "\n",
       "    this.ws.onmessage = this._make_on_message_function(this);\n",
       "\n",
       "    this.ondownload = ondownload;\n",
       "};\n",
       "\n",
       "mpl.figure.prototype._init_header = function () {\n",
       "    var titlebar = document.createElement('div');\n",
       "    titlebar.classList =\n",
       "        'ui-dialog-titlebar ui-widget-header ui-corner-all ui-helper-clearfix';\n",
       "    var titletext = document.createElement('div');\n",
       "    titletext.classList = 'ui-dialog-title';\n",
       "    titletext.setAttribute(\n",
       "        'style',\n",
       "        'width: 100%; text-align: center; padding: 3px;'\n",
       "    );\n",
       "    titlebar.appendChild(titletext);\n",
       "    this.root.appendChild(titlebar);\n",
       "    this.header = titletext;\n",
       "};\n",
       "\n",
       "mpl.figure.prototype._canvas_extra_style = function (_canvas_div) {};\n",
       "\n",
       "mpl.figure.prototype._root_extra_style = function (_canvas_div) {};\n",
       "\n",
       "mpl.figure.prototype._init_canvas = function () {\n",
       "    var fig = this;\n",
       "\n",
       "    var canvas_div = (this.canvas_div = document.createElement('div'));\n",
       "    canvas_div.setAttribute(\n",
       "        'style',\n",
       "        'border: 1px solid #ddd;' +\n",
       "            'box-sizing: content-box;' +\n",
       "            'clear: both;' +\n",
       "            'min-height: 1px;' +\n",
       "            'min-width: 1px;' +\n",
       "            'outline: 0;' +\n",
       "            'overflow: hidden;' +\n",
       "            'position: relative;' +\n",
       "            'resize: both;'\n",
       "    );\n",
       "\n",
       "    function on_keyboard_event_closure(name) {\n",
       "        return function (event) {\n",
       "            return fig.key_event(event, name);\n",
       "        };\n",
       "    }\n",
       "\n",
       "    canvas_div.addEventListener(\n",
       "        'keydown',\n",
       "        on_keyboard_event_closure('key_press')\n",
       "    );\n",
       "    canvas_div.addEventListener(\n",
       "        'keyup',\n",
       "        on_keyboard_event_closure('key_release')\n",
       "    );\n",
       "\n",
       "    this._canvas_extra_style(canvas_div);\n",
       "    this.root.appendChild(canvas_div);\n",
       "\n",
       "    var canvas = (this.canvas = document.createElement('canvas'));\n",
       "    canvas.classList.add('mpl-canvas');\n",
       "    canvas.setAttribute('style', 'box-sizing: content-box;');\n",
       "\n",
       "    this.context = canvas.getContext('2d');\n",
       "\n",
       "    var backingStore =\n",
       "        this.context.backingStorePixelRatio ||\n",
       "        this.context.webkitBackingStorePixelRatio ||\n",
       "        this.context.mozBackingStorePixelRatio ||\n",
       "        this.context.msBackingStorePixelRatio ||\n",
       "        this.context.oBackingStorePixelRatio ||\n",
       "        this.context.backingStorePixelRatio ||\n",
       "        1;\n",
       "\n",
       "    this.ratio = (window.devicePixelRatio || 1) / backingStore;\n",
       "    if (this.ratio !== 1) {\n",
       "        fig.send_message('set_dpi_ratio', { dpi_ratio: this.ratio });\n",
       "    }\n",
       "\n",
       "    var rubberband_canvas = (this.rubberband_canvas = document.createElement(\n",
       "        'canvas'\n",
       "    ));\n",
       "    rubberband_canvas.setAttribute(\n",
       "        'style',\n",
       "        'box-sizing: content-box; position: absolute; left: 0; top: 0; z-index: 1;'\n",
       "    );\n",
       "\n",
       "    // Apply a ponyfill if ResizeObserver is not implemented by browser.\n",
       "    if (this.ResizeObserver === undefined) {\n",
       "        if (window.ResizeObserver !== undefined) {\n",
       "            this.ResizeObserver = window.ResizeObserver;\n",
       "        } else {\n",
       "            var obs = _JSXTOOLS_RESIZE_OBSERVER({});\n",
       "            this.ResizeObserver = obs.ResizeObserver;\n",
       "        }\n",
       "    }\n",
       "\n",
       "    this.resizeObserverInstance = new this.ResizeObserver(function (entries) {\n",
       "        var nentries = entries.length;\n",
       "        for (var i = 0; i < nentries; i++) {\n",
       "            var entry = entries[i];\n",
       "            var width, height;\n",
       "            if (entry.contentBoxSize) {\n",
       "                if (entry.contentBoxSize instanceof Array) {\n",
       "                    // Chrome 84 implements new version of spec.\n",
       "                    width = entry.contentBoxSize[0].inlineSize;\n",
       "                    height = entry.contentBoxSize[0].blockSize;\n",
       "                } else {\n",
       "                    // Firefox implements old version of spec.\n",
       "                    width = entry.contentBoxSize.inlineSize;\n",
       "                    height = entry.contentBoxSize.blockSize;\n",
       "                }\n",
       "            } else {\n",
       "                // Chrome <84 implements even older version of spec.\n",
       "                width = entry.contentRect.width;\n",
       "                height = entry.contentRect.height;\n",
       "            }\n",
       "\n",
       "            // Keep the size of the canvas and rubber band canvas in sync with\n",
       "            // the canvas container.\n",
       "            if (entry.devicePixelContentBoxSize) {\n",
       "                // Chrome 84 implements new version of spec.\n",
       "                canvas.setAttribute(\n",
       "                    'width',\n",
       "                    entry.devicePixelContentBoxSize[0].inlineSize\n",
       "                );\n",
       "                canvas.setAttribute(\n",
       "                    'height',\n",
       "                    entry.devicePixelContentBoxSize[0].blockSize\n",
       "                );\n",
       "            } else {\n",
       "                canvas.setAttribute('width', width * fig.ratio);\n",
       "                canvas.setAttribute('height', height * fig.ratio);\n",
       "            }\n",
       "            canvas.setAttribute(\n",
       "                'style',\n",
       "                'width: ' + width + 'px; height: ' + height + 'px;'\n",
       "            );\n",
       "\n",
       "            rubberband_canvas.setAttribute('width', width);\n",
       "            rubberband_canvas.setAttribute('height', height);\n",
       "\n",
       "            // And update the size in Python. We ignore the initial 0/0 size\n",
       "            // that occurs as the element is placed into the DOM, which should\n",
       "            // otherwise not happen due to the minimum size styling.\n",
       "            if (width != 0 && height != 0) {\n",
       "                fig.request_resize(width, height);\n",
       "            }\n",
       "        }\n",
       "    });\n",
       "    this.resizeObserverInstance.observe(canvas_div);\n",
       "\n",
       "    function on_mouse_event_closure(name) {\n",
       "        return function (event) {\n",
       "            return fig.mouse_event(event, name);\n",
       "        };\n",
       "    }\n",
       "\n",
       "    rubberband_canvas.addEventListener(\n",
       "        'mousedown',\n",
       "        on_mouse_event_closure('button_press')\n",
       "    );\n",
       "    rubberband_canvas.addEventListener(\n",
       "        'mouseup',\n",
       "        on_mouse_event_closure('button_release')\n",
       "    );\n",
       "    // Throttle sequential mouse events to 1 every 20ms.\n",
       "    rubberband_canvas.addEventListener(\n",
       "        'mousemove',\n",
       "        on_mouse_event_closure('motion_notify')\n",
       "    );\n",
       "\n",
       "    rubberband_canvas.addEventListener(\n",
       "        'mouseenter',\n",
       "        on_mouse_event_closure('figure_enter')\n",
       "    );\n",
       "    rubberband_canvas.addEventListener(\n",
       "        'mouseleave',\n",
       "        on_mouse_event_closure('figure_leave')\n",
       "    );\n",
       "\n",
       "    canvas_div.addEventListener('wheel', function (event) {\n",
       "        if (event.deltaY < 0) {\n",
       "            event.step = 1;\n",
       "        } else {\n",
       "            event.step = -1;\n",
       "        }\n",
       "        on_mouse_event_closure('scroll')(event);\n",
       "    });\n",
       "\n",
       "    canvas_div.appendChild(canvas);\n",
       "    canvas_div.appendChild(rubberband_canvas);\n",
       "\n",
       "    this.rubberband_context = rubberband_canvas.getContext('2d');\n",
       "    this.rubberband_context.strokeStyle = '#000000';\n",
       "\n",
       "    this._resize_canvas = function (width, height, forward) {\n",
       "        if (forward) {\n",
       "            canvas_div.style.width = width + 'px';\n",
       "            canvas_div.style.height = height + 'px';\n",
       "        }\n",
       "    };\n",
       "\n",
       "    // Disable right mouse context menu.\n",
       "    this.rubberband_canvas.addEventListener('contextmenu', function (_e) {\n",
       "        event.preventDefault();\n",
       "        return false;\n",
       "    });\n",
       "\n",
       "    function set_focus() {\n",
       "        canvas.focus();\n",
       "        canvas_div.focus();\n",
       "    }\n",
       "\n",
       "    window.setTimeout(set_focus, 100);\n",
       "};\n",
       "\n",
       "mpl.figure.prototype._init_toolbar = function () {\n",
       "    var fig = this;\n",
       "\n",
       "    var toolbar = document.createElement('div');\n",
       "    toolbar.classList = 'mpl-toolbar';\n",
       "    this.root.appendChild(toolbar);\n",
       "\n",
       "    function on_click_closure(name) {\n",
       "        return function (_event) {\n",
       "            return fig.toolbar_button_onclick(name);\n",
       "        };\n",
       "    }\n",
       "\n",
       "    function on_mouseover_closure(tooltip) {\n",
       "        return function (event) {\n",
       "            if (!event.currentTarget.disabled) {\n",
       "                return fig.toolbar_button_onmouseover(tooltip);\n",
       "            }\n",
       "        };\n",
       "    }\n",
       "\n",
       "    fig.buttons = {};\n",
       "    var buttonGroup = document.createElement('div');\n",
       "    buttonGroup.classList = 'mpl-button-group';\n",
       "    for (var toolbar_ind in mpl.toolbar_items) {\n",
       "        var name = mpl.toolbar_items[toolbar_ind][0];\n",
       "        var tooltip = mpl.toolbar_items[toolbar_ind][1];\n",
       "        var image = mpl.toolbar_items[toolbar_ind][2];\n",
       "        var method_name = mpl.toolbar_items[toolbar_ind][3];\n",
       "\n",
       "        if (!name) {\n",
       "            /* Instead of a spacer, we start a new button group. */\n",
       "            if (buttonGroup.hasChildNodes()) {\n",
       "                toolbar.appendChild(buttonGroup);\n",
       "            }\n",
       "            buttonGroup = document.createElement('div');\n",
       "            buttonGroup.classList = 'mpl-button-group';\n",
       "            continue;\n",
       "        }\n",
       "\n",
       "        var button = (fig.buttons[name] = document.createElement('button'));\n",
       "        button.classList = 'mpl-widget';\n",
       "        button.setAttribute('role', 'button');\n",
       "        button.setAttribute('aria-disabled', 'false');\n",
       "        button.addEventListener('click', on_click_closure(method_name));\n",
       "        button.addEventListener('mouseover', on_mouseover_closure(tooltip));\n",
       "\n",
       "        var icon_img = document.createElement('img');\n",
       "        icon_img.src = '_images/' + image + '.png';\n",
       "        icon_img.srcset = '_images/' + image + '_large.png 2x';\n",
       "        icon_img.alt = tooltip;\n",
       "        button.appendChild(icon_img);\n",
       "\n",
       "        buttonGroup.appendChild(button);\n",
       "    }\n",
       "\n",
       "    if (buttonGroup.hasChildNodes()) {\n",
       "        toolbar.appendChild(buttonGroup);\n",
       "    }\n",
       "\n",
       "    var fmt_picker = document.createElement('select');\n",
       "    fmt_picker.classList = 'mpl-widget';\n",
       "    toolbar.appendChild(fmt_picker);\n",
       "    this.format_dropdown = fmt_picker;\n",
       "\n",
       "    for (var ind in mpl.extensions) {\n",
       "        var fmt = mpl.extensions[ind];\n",
       "        var option = document.createElement('option');\n",
       "        option.selected = fmt === mpl.default_extension;\n",
       "        option.innerHTML = fmt;\n",
       "        fmt_picker.appendChild(option);\n",
       "    }\n",
       "\n",
       "    var status_bar = document.createElement('span');\n",
       "    status_bar.classList = 'mpl-message';\n",
       "    toolbar.appendChild(status_bar);\n",
       "    this.message = status_bar;\n",
       "};\n",
       "\n",
       "mpl.figure.prototype.request_resize = function (x_pixels, y_pixels) {\n",
       "    // Request matplotlib to resize the figure. Matplotlib will then trigger a resize in the client,\n",
       "    // which will in turn request a refresh of the image.\n",
       "    this.send_message('resize', { width: x_pixels, height: y_pixels });\n",
       "};\n",
       "\n",
       "mpl.figure.prototype.send_message = function (type, properties) {\n",
       "    properties['type'] = type;\n",
       "    properties['figure_id'] = this.id;\n",
       "    this.ws.send(JSON.stringify(properties));\n",
       "};\n",
       "\n",
       "mpl.figure.prototype.send_draw_message = function () {\n",
       "    if (!this.waiting) {\n",
       "        this.waiting = true;\n",
       "        this.ws.send(JSON.stringify({ type: 'draw', figure_id: this.id }));\n",
       "    }\n",
       "};\n",
       "\n",
       "mpl.figure.prototype.handle_save = function (fig, _msg) {\n",
       "    var format_dropdown = fig.format_dropdown;\n",
       "    var format = format_dropdown.options[format_dropdown.selectedIndex].value;\n",
       "    fig.ondownload(fig, format);\n",
       "};\n",
       "\n",
       "mpl.figure.prototype.handle_resize = function (fig, msg) {\n",
       "    var size = msg['size'];\n",
       "    if (size[0] !== fig.canvas.width || size[1] !== fig.canvas.height) {\n",
       "        fig._resize_canvas(size[0], size[1], msg['forward']);\n",
       "        fig.send_message('refresh', {});\n",
       "    }\n",
       "};\n",
       "\n",
       "mpl.figure.prototype.handle_rubberband = function (fig, msg) {\n",
       "    var x0 = msg['x0'] / fig.ratio;\n",
       "    var y0 = (fig.canvas.height - msg['y0']) / fig.ratio;\n",
       "    var x1 = msg['x1'] / fig.ratio;\n",
       "    var y1 = (fig.canvas.height - msg['y1']) / fig.ratio;\n",
       "    x0 = Math.floor(x0) + 0.5;\n",
       "    y0 = Math.floor(y0) + 0.5;\n",
       "    x1 = Math.floor(x1) + 0.5;\n",
       "    y1 = Math.floor(y1) + 0.5;\n",
       "    var min_x = Math.min(x0, x1);\n",
       "    var min_y = Math.min(y0, y1);\n",
       "    var width = Math.abs(x1 - x0);\n",
       "    var height = Math.abs(y1 - y0);\n",
       "\n",
       "    fig.rubberband_context.clearRect(\n",
       "        0,\n",
       "        0,\n",
       "        fig.canvas.width / fig.ratio,\n",
       "        fig.canvas.height / fig.ratio\n",
       "    );\n",
       "\n",
       "    fig.rubberband_context.strokeRect(min_x, min_y, width, height);\n",
       "};\n",
       "\n",
       "mpl.figure.prototype.handle_figure_label = function (fig, msg) {\n",
       "    // Updates the figure title.\n",
       "    fig.header.textContent = msg['label'];\n",
       "};\n",
       "\n",
       "mpl.figure.prototype.handle_cursor = function (fig, msg) {\n",
       "    var cursor = msg['cursor'];\n",
       "    switch (cursor) {\n",
       "        case 0:\n",
       "            cursor = 'pointer';\n",
       "            break;\n",
       "        case 1:\n",
       "            cursor = 'default';\n",
       "            break;\n",
       "        case 2:\n",
       "            cursor = 'crosshair';\n",
       "            break;\n",
       "        case 3:\n",
       "            cursor = 'move';\n",
       "            break;\n",
       "    }\n",
       "    fig.rubberband_canvas.style.cursor = cursor;\n",
       "};\n",
       "\n",
       "mpl.figure.prototype.handle_message = function (fig, msg) {\n",
       "    fig.message.textContent = msg['message'];\n",
       "};\n",
       "\n",
       "mpl.figure.prototype.handle_draw = function (fig, _msg) {\n",
       "    // Request the server to send over a new figure.\n",
       "    fig.send_draw_message();\n",
       "};\n",
       "\n",
       "mpl.figure.prototype.handle_image_mode = function (fig, msg) {\n",
       "    fig.image_mode = msg['mode'];\n",
       "};\n",
       "\n",
       "mpl.figure.prototype.handle_history_buttons = function (fig, msg) {\n",
       "    for (var key in msg) {\n",
       "        if (!(key in fig.buttons)) {\n",
       "            continue;\n",
       "        }\n",
       "        fig.buttons[key].disabled = !msg[key];\n",
       "        fig.buttons[key].setAttribute('aria-disabled', !msg[key]);\n",
       "    }\n",
       "};\n",
       "\n",
       "mpl.figure.prototype.handle_navigate_mode = function (fig, msg) {\n",
       "    if (msg['mode'] === 'PAN') {\n",
       "        fig.buttons['Pan'].classList.add('active');\n",
       "        fig.buttons['Zoom'].classList.remove('active');\n",
       "    } else if (msg['mode'] === 'ZOOM') {\n",
       "        fig.buttons['Pan'].classList.remove('active');\n",
       "        fig.buttons['Zoom'].classList.add('active');\n",
       "    } else {\n",
       "        fig.buttons['Pan'].classList.remove('active');\n",
       "        fig.buttons['Zoom'].classList.remove('active');\n",
       "    }\n",
       "};\n",
       "\n",
       "mpl.figure.prototype.updated_canvas_event = function () {\n",
       "    // Called whenever the canvas gets updated.\n",
       "    this.send_message('ack', {});\n",
       "};\n",
       "\n",
       "// A function to construct a web socket function for onmessage handling.\n",
       "// Called in the figure constructor.\n",
       "mpl.figure.prototype._make_on_message_function = function (fig) {\n",
       "    return function socket_on_message(evt) {\n",
       "        if (evt.data instanceof Blob) {\n",
       "            /* FIXME: We get \"Resource interpreted as Image but\n",
       "             * transferred with MIME type text/plain:\" errors on\n",
       "             * Chrome.  But how to set the MIME type?  It doesn't seem\n",
       "             * to be part of the websocket stream */\n",
       "            evt.data.type = 'image/png';\n",
       "\n",
       "            /* Free the memory for the previous frames */\n",
       "            if (fig.imageObj.src) {\n",
       "                (window.URL || window.webkitURL).revokeObjectURL(\n",
       "                    fig.imageObj.src\n",
       "                );\n",
       "            }\n",
       "\n",
       "            fig.imageObj.src = (window.URL || window.webkitURL).createObjectURL(\n",
       "                evt.data\n",
       "            );\n",
       "            fig.updated_canvas_event();\n",
       "            fig.waiting = false;\n",
       "            return;\n",
       "        } else if (\n",
       "            typeof evt.data === 'string' &&\n",
       "            evt.data.slice(0, 21) === 'data:image/png;base64'\n",
       "        ) {\n",
       "            fig.imageObj.src = evt.data;\n",
       "            fig.updated_canvas_event();\n",
       "            fig.waiting = false;\n",
       "            return;\n",
       "        }\n",
       "\n",
       "        var msg = JSON.parse(evt.data);\n",
       "        var msg_type = msg['type'];\n",
       "\n",
       "        // Call the  \"handle_{type}\" callback, which takes\n",
       "        // the figure and JSON message as its only arguments.\n",
       "        try {\n",
       "            var callback = fig['handle_' + msg_type];\n",
       "        } catch (e) {\n",
       "            console.log(\n",
       "                \"No handler for the '\" + msg_type + \"' message type: \",\n",
       "                msg\n",
       "            );\n",
       "            return;\n",
       "        }\n",
       "\n",
       "        if (callback) {\n",
       "            try {\n",
       "                // console.log(\"Handling '\" + msg_type + \"' message: \", msg);\n",
       "                callback(fig, msg);\n",
       "            } catch (e) {\n",
       "                console.log(\n",
       "                    \"Exception inside the 'handler_\" + msg_type + \"' callback:\",\n",
       "                    e,\n",
       "                    e.stack,\n",
       "                    msg\n",
       "                );\n",
       "            }\n",
       "        }\n",
       "    };\n",
       "};\n",
       "\n",
       "// from http://stackoverflow.com/questions/1114465/getting-mouse-location-in-canvas\n",
       "mpl.findpos = function (e) {\n",
       "    //this section is from http://www.quirksmode.org/js/events_properties.html\n",
       "    var targ;\n",
       "    if (!e) {\n",
       "        e = window.event;\n",
       "    }\n",
       "    if (e.target) {\n",
       "        targ = e.target;\n",
       "    } else if (e.srcElement) {\n",
       "        targ = e.srcElement;\n",
       "    }\n",
       "    if (targ.nodeType === 3) {\n",
       "        // defeat Safari bug\n",
       "        targ = targ.parentNode;\n",
       "    }\n",
       "\n",
       "    // pageX,Y are the mouse positions relative to the document\n",
       "    var boundingRect = targ.getBoundingClientRect();\n",
       "    var x = e.pageX - (boundingRect.left + document.body.scrollLeft);\n",
       "    var y = e.pageY - (boundingRect.top + document.body.scrollTop);\n",
       "\n",
       "    return { x: x, y: y };\n",
       "};\n",
       "\n",
       "/*\n",
       " * return a copy of an object with only non-object keys\n",
       " * we need this to avoid circular references\n",
       " * http://stackoverflow.com/a/24161582/3208463\n",
       " */\n",
       "function simpleKeys(original) {\n",
       "    return Object.keys(original).reduce(function (obj, key) {\n",
       "        if (typeof original[key] !== 'object') {\n",
       "            obj[key] = original[key];\n",
       "        }\n",
       "        return obj;\n",
       "    }, {});\n",
       "}\n",
       "\n",
       "mpl.figure.prototype.mouse_event = function (event, name) {\n",
       "    var canvas_pos = mpl.findpos(event);\n",
       "\n",
       "    if (name === 'button_press') {\n",
       "        this.canvas.focus();\n",
       "        this.canvas_div.focus();\n",
       "    }\n",
       "\n",
       "    var x = canvas_pos.x * this.ratio;\n",
       "    var y = canvas_pos.y * this.ratio;\n",
       "\n",
       "    this.send_message(name, {\n",
       "        x: x,\n",
       "        y: y,\n",
       "        button: event.button,\n",
       "        step: event.step,\n",
       "        guiEvent: simpleKeys(event),\n",
       "    });\n",
       "\n",
       "    /* This prevents the web browser from automatically changing to\n",
       "     * the text insertion cursor when the button is pressed.  We want\n",
       "     * to control all of the cursor setting manually through the\n",
       "     * 'cursor' event from matplotlib */\n",
       "    event.preventDefault();\n",
       "    return false;\n",
       "};\n",
       "\n",
       "mpl.figure.prototype._key_event_extra = function (_event, _name) {\n",
       "    // Handle any extra behaviour associated with a key event\n",
       "};\n",
       "\n",
       "mpl.figure.prototype.key_event = function (event, name) {\n",
       "    // Prevent repeat events\n",
       "    if (name === 'key_press') {\n",
       "        if (event.which === this._key) {\n",
       "            return;\n",
       "        } else {\n",
       "            this._key = event.which;\n",
       "        }\n",
       "    }\n",
       "    if (name === 'key_release') {\n",
       "        this._key = null;\n",
       "    }\n",
       "\n",
       "    var value = '';\n",
       "    if (event.ctrlKey && event.which !== 17) {\n",
       "        value += 'ctrl+';\n",
       "    }\n",
       "    if (event.altKey && event.which !== 18) {\n",
       "        value += 'alt+';\n",
       "    }\n",
       "    if (event.shiftKey && event.which !== 16) {\n",
       "        value += 'shift+';\n",
       "    }\n",
       "\n",
       "    value += 'k';\n",
       "    value += event.which.toString();\n",
       "\n",
       "    this._key_event_extra(event, name);\n",
       "\n",
       "    this.send_message(name, { key: value, guiEvent: simpleKeys(event) });\n",
       "    return false;\n",
       "};\n",
       "\n",
       "mpl.figure.prototype.toolbar_button_onclick = function (name) {\n",
       "    if (name === 'download') {\n",
       "        this.handle_save(this, null);\n",
       "    } else {\n",
       "        this.send_message('toolbar_button', { name: name });\n",
       "    }\n",
       "};\n",
       "\n",
       "mpl.figure.prototype.toolbar_button_onmouseover = function (tooltip) {\n",
       "    this.message.textContent = tooltip;\n",
       "};\n",
       "\n",
       "///////////////// REMAINING CONTENT GENERATED BY embed_js.py /////////////////\n",
       "// prettier-ignore\n",
       "var _JSXTOOLS_RESIZE_OBSERVER=function(A){var t,i=new WeakMap,n=new WeakMap,a=new WeakMap,r=new WeakMap,o=new Set;function s(e){if(!(this instanceof s))throw new TypeError(\"Constructor requires 'new' operator\");i.set(this,e)}function h(){throw new TypeError(\"Function is not a constructor\")}function c(e,t,i,n){e=0 in arguments?Number(arguments[0]):0,t=1 in arguments?Number(arguments[1]):0,i=2 in arguments?Number(arguments[2]):0,n=3 in arguments?Number(arguments[3]):0,this.right=(this.x=this.left=e)+(this.width=i),this.bottom=(this.y=this.top=t)+(this.height=n),Object.freeze(this)}function d(){t=requestAnimationFrame(d);var s=new WeakMap,p=new Set;o.forEach((function(t){r.get(t).forEach((function(i){var r=t instanceof window.SVGElement,o=a.get(t),d=r?0:parseFloat(o.paddingTop),f=r?0:parseFloat(o.paddingRight),l=r?0:parseFloat(o.paddingBottom),u=r?0:parseFloat(o.paddingLeft),g=r?0:parseFloat(o.borderTopWidth),m=r?0:parseFloat(o.borderRightWidth),w=r?0:parseFloat(o.borderBottomWidth),b=u+f,F=d+l,v=(r?0:parseFloat(o.borderLeftWidth))+m,W=g+w,y=r?0:t.offsetHeight-W-t.clientHeight,E=r?0:t.offsetWidth-v-t.clientWidth,R=b+v,z=F+W,M=r?t.width:parseFloat(o.width)-R-E,O=r?t.height:parseFloat(o.height)-z-y;if(n.has(t)){var k=n.get(t);if(k[0]===M&&k[1]===O)return}n.set(t,[M,O]);var S=Object.create(h.prototype);S.target=t,S.contentRect=new c(u,d,M,O),s.has(i)||(s.set(i,[]),p.add(i)),s.get(i).push(S)}))})),p.forEach((function(e){i.get(e).call(e,s.get(e),e)}))}return s.prototype.observe=function(i){if(i instanceof window.Element){r.has(i)||(r.set(i,new Set),o.add(i),a.set(i,window.getComputedStyle(i)));var n=r.get(i);n.has(this)||n.add(this),cancelAnimationFrame(t),t=requestAnimationFrame(d)}},s.prototype.unobserve=function(i){if(i instanceof window.Element&&r.has(i)){var n=r.get(i);n.has(this)&&(n.delete(this),n.size||(r.delete(i),o.delete(i))),n.size||r.delete(i),o.size||cancelAnimationFrame(t)}},A.DOMRectReadOnly=c,A.ResizeObserver=s,A.ResizeObserverEntry=h,A}; // eslint-disable-line\n",
       "mpl.toolbar_items = [[\"Home\", \"Reset original view\", \"fa fa-home icon-home\", \"home\"], [\"Back\", \"Back to previous view\", \"fa fa-arrow-left icon-arrow-left\", \"back\"], [\"Forward\", \"Forward to next view\", \"fa fa-arrow-right icon-arrow-right\", \"forward\"], [\"\", \"\", \"\", \"\"], [\"Pan\", \"Left button pans, Right button zooms\\nx/y fixes axis, CTRL fixes aspect\", \"fa fa-arrows icon-move\", \"pan\"], [\"Zoom\", \"Zoom to rectangle\\nx/y fixes axis, CTRL fixes aspect\", \"fa fa-square-o icon-check-empty\", \"zoom\"], [\"\", \"\", \"\", \"\"], [\"Download\", \"Download plot\", \"fa fa-floppy-o icon-save\", \"download\"]];\n",
       "\n",
       "mpl.extensions = [\"eps\", \"jpeg\", \"pdf\", \"png\", \"ps\", \"raw\", \"svg\", \"tif\"];\n",
       "\n",
       "mpl.default_extension = \"png\";/* global mpl */\n",
       "\n",
       "var comm_websocket_adapter = function (comm) {\n",
       "    // Create a \"websocket\"-like object which calls the given IPython comm\n",
       "    // object with the appropriate methods. Currently this is a non binary\n",
       "    // socket, so there is still some room for performance tuning.\n",
       "    var ws = {};\n",
       "\n",
       "    ws.close = function () {\n",
       "        comm.close();\n",
       "    };\n",
       "    ws.send = function (m) {\n",
       "        //console.log('sending', m);\n",
       "        comm.send(m);\n",
       "    };\n",
       "    // Register the callback with on_msg.\n",
       "    comm.on_msg(function (msg) {\n",
       "        //console.log('receiving', msg['content']['data'], msg);\n",
       "        // Pass the mpl event to the overridden (by mpl) onmessage function.\n",
       "        ws.onmessage(msg['content']['data']);\n",
       "    });\n",
       "    return ws;\n",
       "};\n",
       "\n",
       "mpl.mpl_figure_comm = function (comm, msg) {\n",
       "    // This is the function which gets called when the mpl process\n",
       "    // starts-up an IPython Comm through the \"matplotlib\" channel.\n",
       "\n",
       "    var id = msg.content.data.id;\n",
       "    // Get hold of the div created by the display call when the Comm\n",
       "    // socket was opened in Python.\n",
       "    var element = document.getElementById(id);\n",
       "    var ws_proxy = comm_websocket_adapter(comm);\n",
       "\n",
       "    function ondownload(figure, _format) {\n",
       "        window.open(figure.canvas.toDataURL());\n",
       "    }\n",
       "\n",
       "    var fig = new mpl.figure(id, ws_proxy, ondownload, element);\n",
       "\n",
       "    // Call onopen now - mpl needs it, as it is assuming we've passed it a real\n",
       "    // web socket which is closed, not our websocket->open comm proxy.\n",
       "    ws_proxy.onopen();\n",
       "\n",
       "    fig.parent_element = element;\n",
       "    fig.cell_info = mpl.find_output_cell(\"<div id='\" + id + \"'></div>\");\n",
       "    if (!fig.cell_info) {\n",
       "        console.error('Failed to find cell for figure', id, fig);\n",
       "        return;\n",
       "    }\n",
       "    fig.cell_info[0].output_area.element.on(\n",
       "        'cleared',\n",
       "        { fig: fig },\n",
       "        fig._remove_fig_handler\n",
       "    );\n",
       "};\n",
       "\n",
       "mpl.figure.prototype.handle_close = function (fig, msg) {\n",
       "    var width = fig.canvas.width / fig.ratio;\n",
       "    fig.cell_info[0].output_area.element.off(\n",
       "        'cleared',\n",
       "        fig._remove_fig_handler\n",
       "    );\n",
       "    fig.resizeObserverInstance.unobserve(fig.canvas_div);\n",
       "\n",
       "    // Update the output cell to use the data from the current canvas.\n",
       "    fig.push_to_output();\n",
       "    var dataURL = fig.canvas.toDataURL();\n",
       "    // Re-enable the keyboard manager in IPython - without this line, in FF,\n",
       "    // the notebook keyboard shortcuts fail.\n",
       "    IPython.keyboard_manager.enable();\n",
       "    fig.parent_element.innerHTML =\n",
       "        '<img src=\"' + dataURL + '\" width=\"' + width + '\">';\n",
       "    fig.close_ws(fig, msg);\n",
       "};\n",
       "\n",
       "mpl.figure.prototype.close_ws = function (fig, msg) {\n",
       "    fig.send_message('closing', msg);\n",
       "    // fig.ws.close()\n",
       "};\n",
       "\n",
       "mpl.figure.prototype.push_to_output = function (_remove_interactive) {\n",
       "    // Turn the data on the canvas into data in the output cell.\n",
       "    var width = this.canvas.width / this.ratio;\n",
       "    var dataURL = this.canvas.toDataURL();\n",
       "    this.cell_info[1]['text/html'] =\n",
       "        '<img src=\"' + dataURL + '\" width=\"' + width + '\">';\n",
       "};\n",
       "\n",
       "mpl.figure.prototype.updated_canvas_event = function () {\n",
       "    // Tell IPython that the notebook contents must change.\n",
       "    IPython.notebook.set_dirty(true);\n",
       "    this.send_message('ack', {});\n",
       "    var fig = this;\n",
       "    // Wait a second, then push the new image to the DOM so\n",
       "    // that it is saved nicely (might be nice to debounce this).\n",
       "    setTimeout(function () {\n",
       "        fig.push_to_output();\n",
       "    }, 1000);\n",
       "};\n",
       "\n",
       "mpl.figure.prototype._init_toolbar = function () {\n",
       "    var fig = this;\n",
       "\n",
       "    var toolbar = document.createElement('div');\n",
       "    toolbar.classList = 'btn-toolbar';\n",
       "    this.root.appendChild(toolbar);\n",
       "\n",
       "    function on_click_closure(name) {\n",
       "        return function (_event) {\n",
       "            return fig.toolbar_button_onclick(name);\n",
       "        };\n",
       "    }\n",
       "\n",
       "    function on_mouseover_closure(tooltip) {\n",
       "        return function (event) {\n",
       "            if (!event.currentTarget.disabled) {\n",
       "                return fig.toolbar_button_onmouseover(tooltip);\n",
       "            }\n",
       "        };\n",
       "    }\n",
       "\n",
       "    fig.buttons = {};\n",
       "    var buttonGroup = document.createElement('div');\n",
       "    buttonGroup.classList = 'btn-group';\n",
       "    var button;\n",
       "    for (var toolbar_ind in mpl.toolbar_items) {\n",
       "        var name = mpl.toolbar_items[toolbar_ind][0];\n",
       "        var tooltip = mpl.toolbar_items[toolbar_ind][1];\n",
       "        var image = mpl.toolbar_items[toolbar_ind][2];\n",
       "        var method_name = mpl.toolbar_items[toolbar_ind][3];\n",
       "\n",
       "        if (!name) {\n",
       "            /* Instead of a spacer, we start a new button group. */\n",
       "            if (buttonGroup.hasChildNodes()) {\n",
       "                toolbar.appendChild(buttonGroup);\n",
       "            }\n",
       "            buttonGroup = document.createElement('div');\n",
       "            buttonGroup.classList = 'btn-group';\n",
       "            continue;\n",
       "        }\n",
       "\n",
       "        button = fig.buttons[name] = document.createElement('button');\n",
       "        button.classList = 'btn btn-default';\n",
       "        button.href = '#';\n",
       "        button.title = name;\n",
       "        button.innerHTML = '<i class=\"fa ' + image + ' fa-lg\"></i>';\n",
       "        button.addEventListener('click', on_click_closure(method_name));\n",
       "        button.addEventListener('mouseover', on_mouseover_closure(tooltip));\n",
       "        buttonGroup.appendChild(button);\n",
       "    }\n",
       "\n",
       "    if (buttonGroup.hasChildNodes()) {\n",
       "        toolbar.appendChild(buttonGroup);\n",
       "    }\n",
       "\n",
       "    // Add the status bar.\n",
       "    var status_bar = document.createElement('span');\n",
       "    status_bar.classList = 'mpl-message pull-right';\n",
       "    toolbar.appendChild(status_bar);\n",
       "    this.message = status_bar;\n",
       "\n",
       "    // Add the close button to the window.\n",
       "    var buttongrp = document.createElement('div');\n",
       "    buttongrp.classList = 'btn-group inline pull-right';\n",
       "    button = document.createElement('button');\n",
       "    button.classList = 'btn btn-mini btn-primary';\n",
       "    button.href = '#';\n",
       "    button.title = 'Stop Interaction';\n",
       "    button.innerHTML = '<i class=\"fa fa-power-off icon-remove icon-large\"></i>';\n",
       "    button.addEventListener('click', function (_evt) {\n",
       "        fig.handle_close(fig, {});\n",
       "    });\n",
       "    button.addEventListener(\n",
       "        'mouseover',\n",
       "        on_mouseover_closure('Stop Interaction')\n",
       "    );\n",
       "    buttongrp.appendChild(button);\n",
       "    var titlebar = this.root.querySelector('.ui-dialog-titlebar');\n",
       "    titlebar.insertBefore(buttongrp, titlebar.firstChild);\n",
       "};\n",
       "\n",
       "mpl.figure.prototype._remove_fig_handler = function (event) {\n",
       "    var fig = event.data.fig;\n",
       "    if (event.target !== this) {\n",
       "        // Ignore bubbled events from children.\n",
       "        return;\n",
       "    }\n",
       "    fig.close_ws(fig, {});\n",
       "};\n",
       "\n",
       "mpl.figure.prototype._root_extra_style = function (el) {\n",
       "    el.style.boxSizing = 'content-box'; // override notebook setting of border-box.\n",
       "};\n",
       "\n",
       "mpl.figure.prototype._canvas_extra_style = function (el) {\n",
       "    // this is important to make the div 'focusable\n",
       "    el.setAttribute('tabindex', 0);\n",
       "    // reach out to IPython and tell the keyboard manager to turn it's self\n",
       "    // off when our div gets focus\n",
       "\n",
       "    // location in version 3\n",
       "    if (IPython.notebook.keyboard_manager) {\n",
       "        IPython.notebook.keyboard_manager.register_events(el);\n",
       "    } else {\n",
       "        // location in version 2\n",
       "        IPython.keyboard_manager.register_events(el);\n",
       "    }\n",
       "};\n",
       "\n",
       "mpl.figure.prototype._key_event_extra = function (event, _name) {\n",
       "    var manager = IPython.notebook.keyboard_manager;\n",
       "    if (!manager) {\n",
       "        manager = IPython.keyboard_manager;\n",
       "    }\n",
       "\n",
       "    // Check for shift+enter\n",
       "    if (event.shiftKey && event.which === 13) {\n",
       "        this.canvas_div.blur();\n",
       "        // select the cell after this one\n",
       "        var index = IPython.notebook.find_cell_index(this.cell_info[0]);\n",
       "        IPython.notebook.select(index + 1);\n",
       "    }\n",
       "};\n",
       "\n",
       "mpl.figure.prototype.handle_save = function (fig, _msg) {\n",
       "    fig.ondownload(fig, null);\n",
       "};\n",
       "\n",
       "mpl.find_output_cell = function (html_output) {\n",
       "    // Return the cell and output element which can be found *uniquely* in the notebook.\n",
       "    // Note - this is a bit hacky, but it is done because the \"notebook_saving.Notebook\"\n",
       "    // IPython event is triggered only after the cells have been serialised, which for\n",
       "    // our purposes (turning an active figure into a static one), is too late.\n",
       "    var cells = IPython.notebook.get_cells();\n",
       "    var ncells = cells.length;\n",
       "    for (var i = 0; i < ncells; i++) {\n",
       "        var cell = cells[i];\n",
       "        if (cell.cell_type === 'code') {\n",
       "            for (var j = 0; j < cell.output_area.outputs.length; j++) {\n",
       "                var data = cell.output_area.outputs[j];\n",
       "                if (data.data) {\n",
       "                    // IPython >= 3 moved mimebundle to data attribute of output\n",
       "                    data = data.data;\n",
       "                }\n",
       "                if (data['text/html'] === html_output) {\n",
       "                    return [cell, data, j];\n",
       "                }\n",
       "            }\n",
       "        }\n",
       "    }\n",
       "};\n",
       "\n",
       "// Register the function which deals with the matplotlib target/channel.\n",
       "// The kernel may be null if the page has been refreshed.\n",
       "if (IPython.notebook.kernel !== null) {\n",
       "    IPython.notebook.kernel.comm_manager.register_target(\n",
       "        'matplotlib',\n",
       "        mpl.mpl_figure_comm\n",
       "    );\n",
       "}\n"
      ],
      "text/plain": [
       "<IPython.core.display.Javascript object>"
      ]
     },
     "metadata": {},
     "output_type": "display_data"
    },
    {
     "data": {
      "text/html": [
       "<img src=\"data:image/png;base64,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\" width=\"640\">"
      ],
      "text/plain": [
       "<IPython.core.display.HTML object>"
      ]
     },
     "metadata": {},
     "output_type": "display_data"
    }
   ],
   "source": [
    "plt.figure()\n",
    "plt.plot(stock.shift(periods=-20), label='Actual Data')\n",
    "plt.plot(pred, label='Predicted Data')\n",
    "plt.title(\"Closing Price for GOOGL 2006-2018\")\n",
    "plt.legend()\n",
    "plt.show() "
   ]
  }
 ],
 "metadata": {
  "kernelspec": {
   "display_name": "Python 3",
   "language": "python",
   "name": "python3"
  },
  "language_info": {
   "codemirror_mode": {
    "name": "ipython",
    "version": 3
   },
   "file_extension": ".py",
   "mimetype": "text/x-python",
   "name": "python",
   "nbconvert_exporter": "python",
   "pygments_lexer": "ipython3",
   "version": "3.8.5"
  }
 },
 "nbformat": 4,
 "nbformat_minor": 4
}
