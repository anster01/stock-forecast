{
 "cells": [
  {
   "cell_type": "markdown",
   "metadata": {},
   "source": [
    "This notebook shows how to forecast stock prices using machine learning and neural networks. In particular I chose GOOGL stock (Alphabet) and I will be using LSTM RNNs to predict future prices."
   ]
  },
  {
   "cell_type": "markdown",
   "metadata": {},
   "source": [
    "First download the dataset from the following link:\n",
    "https://www.kaggle.com/datasets/szrlee/stock-time-series-20050101-to-20171231?resource=download&select=GOOGL_2006-01-01_to_2018-01-01.csv"
   ]
  },
  {
   "cell_type": "code",
   "execution_count": 18,
   "metadata": {},
   "outputs": [],
   "source": [
    "import numpy as np\n",
    "import pandas as pd\n",
    "import matplotlib.pyplot as plt\n",
    "import torch\n",
    "import torch.nn as nn"
   ]
  },
  {
   "cell_type": "code",
   "execution_count": 14,
   "metadata": {},
   "outputs": [
    {
     "name": "stdout",
     "output_type": "stream",
     "text": [
      "         Date    Open    High     Low   Close    Volume   Name\n",
      "0  2006-01-03  211.47  218.05  209.32  217.83  13137450  GOOGL\n",
      "1  2006-01-04  222.17  224.70  220.09  222.84  15292353  GOOGL\n",
      "2  2006-01-05  223.22  226.00  220.97  225.85  10815661  GOOGL\n",
      "3  2006-01-06  228.66  235.49  226.85  233.06  17759521  GOOGL\n",
      "4  2006-01-09  233.44  236.94  230.70  233.68  12795837  GOOGL\n"
     ]
    }
   ],
   "source": [
    "stock_df = pd.read_csv(\"GOOGL_2006-01-01_to_2018-01-01.csv\")\n",
    "print(stock_df.head())"
   ]
  },
  {
   "cell_type": "code",
   "execution_count": 15,
   "metadata": {},
   "outputs": [
    {
     "data": {
      "image/png": "[encoded data removed]",
      "text/plain": [
       "<Figure size 432x288 with 1 Axes>"
      ]
     },
     "metadata": {
      "needs_background": "light"
     },
     "output_type": "display_data"
    }
   ],
   "source": [
    "stock_df.plot(x='Date',y='Close',kind='line')\n",
    "plt.title(\"Closing Price for GOOGL 2006-2018\")\n",
    "plt.xticks(rotation=45)\n",
    "plt.ylabel(\"Price (USD)\")\n",
    "plt.grid()\n",
    "plt.show()"
   ]
  },
  {
   "cell_type": "code",
   "execution_count": 16,
   "metadata": {},
   "outputs": [
    {
     "name": "stdout",
     "output_type": "stream",
     "text": [
      "      Close\n",
      "0 -0.813896\n",
      "1 -0.803418\n",
      "2 -0.797122\n",
      "3 -0.782042\n",
      "4 -0.780745\n",
      "         Close\n",
      "3014  0.966055\n",
      "3015  0.959759\n",
      "3016  0.947942\n",
      "3017  0.939053\n",
      "3018  0.933720\n"
     ]
    }
   ],
   "source": [
    "stock = stock_df[['Close']]\n",
    "stock_std = (stock - stock.min(axis=0)) / (stock.max(axis=0) - stock.min(axis=0))\n",
    "stock_scaled = stock_std * (1 - (-1)) + (-1)\n",
    "print(stock_scaled.head())\n",
    "print(stock_scaled.tail())"
   ]
  },
  {
   "cell_type": "code",
   "execution_count": 17,
   "metadata": {},
   "outputs": [],
   "source": [
    "def split_train_test(dataset,percentage,lookback):\n",
    "    data_raw = dataset.to_numpy()\n",
    "    data = []\n",
    "    \n",
    "    for index in range(len(data_raw) - lookback): \n",
    "        data.append(data_raw[index: index + lookback])\n",
    "        \n",
    "    data = np.array(data);\n",
    "    train_size = int(percentage*data.shape[0])\n",
    "    test_size = data.shape[0]-train_size\n",
    "    \n",
    "    x_train = data[:train_size,:-1,:]\n",
    "    y_train = data[:train_size,-1,:]\n",
    "    \n",
    "    x_test = data[train_size:,:-1]\n",
    "    y_test = data[train_size:,-1,:]\n",
    "    \n",
    "    return x_train, y_train, x_test, y_test\n",
    "\n",
    "x_train,y_train,x_test,y_test = split_train_test(stock_scaled,80,20)"
   ]
  },
  {
   "cell_type": "code",
   "execution_count": 19,
   "metadata": {},
   "outputs": [],
   "source": [
    "x_train = torch.from_numpy(x_train).type(torch.Tensor)\n",
    "x_test = torch.from_numpy(x_test).type(torch.Tensor)\n",
    "y_train = torch.from_numpy(y_train).type(torch.Tensor)\n",
    "y_test = torch.from_numpy(y_test).type(torch.Tensor)"
   ]
  },
  {
   "cell_type": "code",
   "execution_count": 20,
   "metadata": {},
   "outputs": [],
   "source": [
    "input_dim = 1\n",
    "hidden_dim = 32\n",
    "num_layers = 2\n",
    "output_dim = 1\n",
    "num_epochs = 100"
   ]
  },
  {
   "cell_type": "code",
   "execution_count": null,
   "metadata": {},
   "outputs": [],
   "source": [
    "class LSTM(nn.Module):\n",
    "    def __init__(self,input_dim,hidden_dim,num_layers,output_dim):\n",
    "        super(LSTM,self).__init__()\n",
    "        self.hidden_dim = hidden_dim\n",
    "        self.num_layers = num_layers\n",
    "        \n",
    "        self.lstm = nn.LSTM(input_dim, hidden_dim, num_layers, batch_first=True)\n",
    "        self.fc = nn.Linear(hidden_dim, output_dim)"
   ]
  }
 ],
 "metadata": {
  "kernelspec": {
   "display_name": "Python 3",
   "language": "python",
   "name": "python3"
  },
  "language_info": {
   "codemirror_mode": {
    "name": "ipython",
    "version": 3
   },
   "file_extension": ".py",
   "mimetype": "text/x-python",
   "name": "python",
   "nbconvert_exporter": "python",
   "pygments_lexer": "ipython3",
   "version": "3.8.5"
  }
 },
 "nbformat": 4,
 "nbformat_minor": 4
}
