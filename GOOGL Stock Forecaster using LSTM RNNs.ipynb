{
 "cells": [
  {
   "cell_type": "markdown",
   "metadata": {},
   "source": [
    "This notebook shows how to forecast stock prices using machine learning and neural networks. In particular I chose GOOGL stock (Alphabet) and I will be using LSTM RNNs to predict future prices."
   ]
  },
  {
   "cell_type": "markdown",
   "metadata": {},
   "source": [
    "First download the dataset from the following link:\n",
    "https://www.kaggle.com/datasets/szrlee/stock-time-series-20050101-to-20171231?resource=download&select=GOOGL_2006-01-01_to_2018-01-01.csv"
   ]
  },
  {
   "cell_type": "code",
   "execution_count": 1,
   "metadata": {},
   "outputs": [],
   "source": [
    "import pandas as pd"
   ]
  },
  {
   "cell_type": "code",
   "execution_count": 2,
   "metadata": {},
   "outputs": [
    {
     "name": "stdout",
     "output_type": "stream",
     "text": [
      "         Date    Open    High     Low   Close    Volume   Name\n",
      "0  2006-01-03  211.47  218.05  209.32  217.83  13137450  GOOGL\n",
      "1  2006-01-04  222.17  224.70  220.09  222.84  15292353  GOOGL\n",
      "2  2006-01-05  223.22  226.00  220.97  225.85  10815661  GOOGL\n",
      "3  2006-01-06  228.66  235.49  226.85  233.06  17759521  GOOGL\n",
      "4  2006-01-09  233.44  236.94  230.70  233.68  12795837  GOOGL\n"
     ]
    }
   ],
   "source": [
    "stock_df = pd.read_csv(\"GOOGL_2006-01-01_to_2018-01-01.csv\")\n",
    "print(stock_df.head())"
   ]
  }
 ],
 "metadata": {
  "kernelspec": {
   "display_name": "Python 3",
   "language": "python",
   "name": "python3"
  },
  "language_info": {
   "codemirror_mode": {
    "name": "ipython",
    "version": 3
   },
   "file_extension": ".py",
   "mimetype": "text/x-python",
   "name": "python",
   "nbconvert_exporter": "python",
   "pygments_lexer": "ipython3",
   "version": "3.8.5"
  }
 },
 "nbformat": 4,
 "nbformat_minor": 4
}
